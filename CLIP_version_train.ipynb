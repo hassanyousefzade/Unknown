{
 "cells": [
  {
   "cell_type": "code",
   "execution_count": 1,
   "id": "6059e87a",
   "metadata": {},
   "outputs": [],
   "source": [
    "import os.path as osp\n",
    "import GPUtil\n",
    "import torch.nn as nn\n",
    "import torch\n",
    "\n",
    "from torch.nn import TransformerEncoder, TransformerEncoderLayer\n",
    "import os\n",
    "from torch_geometric.data import Dataset, download_url\n",
    "from torch_geometric.loader import DataLoader\n",
    "import pandas as pd\n",
    "from performance import performances_val\n",
    "from PIL import Image\n",
    "from torch.nn import Linear\n",
    "import torch.nn.functional as F\n",
    "import matplotlib.pyplot as plt\n",
    "from torch_geometric.nn import GCNConv\n",
    "from torch_geometric.nn import global_mean_pool\n",
    "from torch_geometric.nn.norm import BatchNorm\n",
    "from torch_geometric.data import Data\n",
    "from sklearn import metrics\n",
    "import numpy as np\n",
    "from tqdm import tqdm\n",
    "from torch_geometric.nn import ChebConv, GraphSAGE,GraphUNet ,TransformerConv\n",
    "\n",
    "# os.environ[\"CUDA_VISIBLE_DEVICES\"] = \"1\"\n",
    "# os.environ[\"CUDA_LAUNCH_BLOCKING\"] = \"1\"\n",
    "seed = 1378\n",
    "device = torch.device('cuda' if torch.cuda.is_available() else 'cpu')"
   ]
  },
  {
   "cell_type": "code",
   "execution_count": 2,
   "id": "f3b9fe80",
   "metadata": {},
   "outputs": [],
   "source": [
    "np.random.seed(seed)\n",
    "torch.manual_seed(seed)\n",
    "torch.cuda.manual_seed_all(seed)"
   ]
  },
  {
   "cell_type": "code",
   "execution_count": 3,
   "id": "ffddd227",
   "metadata": {},
   "outputs": [],
   "source": [
    "spoof_arr = np.load(\"spoof.npy\")\n",
    "live_arr = np.load(\"live.npy\")"
   ]
  },
  {
   "cell_type": "code",
   "execution_count": 4,
   "id": "64f9f57f",
   "metadata": {},
   "outputs": [],
   "source": [
    "landmark_colors = np.load(\"landmark_colors.npy\")\n",
    "from sklearn.preprocessing import OneHotEncoder\n",
    "one_hot_list=[]\n",
    "enc = OneHotEncoder()\n",
    "enc.fit(np.expand_dims(landmark_colors,axis=1))  \n",
    "for x in landmark_colors:\n",
    "    one_hot_list.append(enc.transform([[x]]).toarray()[0])\n",
    "one_hot_arr  = np.array(one_hot_list)\n",
    "one_hot_arr = torch.FloatTensor(one_hot_arr)"
   ]
  },
  {
   "cell_type": "code",
   "execution_count": 5,
   "id": "c914050f",
   "metadata": {},
   "outputs": [],
   "source": [
    "class landmark_dataset(Dataset):\n",
    "    def __init__(self, info_list, transform=None, pre_transform=None, pre_filter=None):\n",
    "        super().__init__(None, transform, pre_transform, pre_filter)\n",
    "        \n",
    "        self.graphs = pd.read_csv(info_list, delimiter=\",\", header=None)\n",
    "\n",
    "\n",
    "    def len(self):\n",
    "        return len(self.graphs)\n",
    "\n",
    "    def get(self, idx):\n",
    "        \n",
    "        graph_path = self.graphs.iloc[idx]\n",
    "        graph_path = graph_path[0]\n",
    "        \n",
    "        list_s = os.path.basename(graph_path).split(\".\")\n",
    "        l_f = list_s[0]+\".\"+list_s[1]\n",
    "        path_clip_feature = os.path.dirname(graph_path)+\"/\"+\"CLIP_\"+l_f+\".npy\"\n",
    "        clip_f = torch.tensor(np.load(path_clip_feature))\n",
    "        \n",
    "        data = torch.load(graph_path)\n",
    "        if int(data.y) == 1 :\n",
    "            \n",
    "            text_enc = torch.tensor(live_arr)\n",
    "            data.y = torch.tensor([[1,0]])\n",
    "        elif int(data.y)==0 :\n",
    "            \n",
    "            text_enc = torch.tensor(spoof_arr)\n",
    "            data.y = torch.tensor([[0,1]])\n",
    "        #data.x =data.x.t()\n",
    "        return  Data(x=data.x, edge_index=data.edge_index,y =data.y,\n",
    "                   clip_f = clip_f,text_enc=text_enc)\n",
    " "
   ]
  },
  {
   "cell_type": "code",
   "execution_count": 6,
   "id": "4cc4fa74",
   "metadata": {},
   "outputs": [],
   "source": [
    "class landmark_dataset_train(Dataset):\n",
    "    def __init__(self, info_list, transform=None, pre_transform=None, pre_filter=None):\n",
    "        super().__init__(None, transform, pre_transform, pre_filter)\n",
    "        \n",
    "        self.graphs = pd.read_csv(info_list, delimiter=\",\", header=None)\n",
    "\n",
    "\n",
    "    def len(self):\n",
    "        return len(self.graphs)\n",
    "\n",
    "    def get(self, idx):\n",
    "        \n",
    "        graph_path = self.graphs.iloc[idx]\n",
    "        graph_path = graph_path[0]\n",
    "        \n",
    "        data = torch.load(graph_path)\n",
    "        list_s = os.path.basename(graph_path).split(\".\")\n",
    "        l_f = list_s[0]+\".\"+list_s[1]\n",
    "        path_clip_feature = os.path.dirname(graph_path)+\"/\"+\"CLIP_\"+l_f+\".npy\"\n",
    "        \n",
    "        clip_f = torch.tensor(np.load(path_clip_feature))\n",
    "        \n",
    "        domain_name = graph_path.split(\"/\")[-4]\n",
    "        \n",
    "            \n",
    "        if domain_name == \"MSU_MFSD\" :\n",
    "            \n",
    "            domain_label = torch.FloatTensor([[0,0,1]])\n",
    "            \n",
    "        elif domain_name == \"Replay_attack_dataset\" :\n",
    "            \n",
    "            domain_label = torch.FloatTensor([[0,1,0]])\n",
    "            \n",
    "        elif domain_name == \"oulu\" :\n",
    "            \n",
    "            domain_label = torch.FloatTensor([[0,0,1]])\n",
    "        else :\n",
    "            print(graph_path,domain_name )\n",
    "            raise \"error\"\n",
    "        \n",
    "        if int(data.y) == 1 :\n",
    "            \n",
    "            text_enc = torch.tensor(live_arr)\n",
    "            \n",
    "            data.y = torch.tensor([[1,0]])\n",
    "            \n",
    "        elif int(data.y)==0 :\n",
    "            \n",
    "            text_enc = torch.tensor(spoof_arr)\n",
    "            \n",
    "            data.y = torch.tensor([[0,1]])\n",
    "        \n",
    "        data = Data(x=data.x, edge_index=data.edge_index,y =data.y,data = domain_label,y_node = one_hot_arr,\n",
    "                   clip_f = clip_f,text_enc =text_enc)\n",
    "\n",
    "        #data.x =data.x.t()\n",
    "        return data "
   ]
  },
  {
   "cell_type": "code",
   "execution_count": 7,
   "id": "61e2444d",
   "metadata": {},
   "outputs": [],
   "source": [
    "train_dataset = landmark_dataset_train(\"/home/hassan-hossein/single_image_graph_face_anti_spoofing/train/graph_train_O_M_I.txt\")\n",
    "train_loader = DataLoader(train_dataset, batch_size=64, shuffle=True,num_workers=16)\n",
    "\n",
    "test_dataset = landmark_dataset(\"/home/hassan-hossein/single_image_graph_face_anti_spoofing/train/graph_test_C.txt\")\n",
    "test_loader = DataLoader(test_dataset, batch_size=64,num_workers=16)\n"
   ]
  },
  {
   "cell_type": "code",
   "execution_count": 8,
   "id": "d7fd928e",
   "metadata": {},
   "outputs": [
    {
     "name": "stdout",
     "output_type": "stream",
     "text": [
      "DataBatch(x=[29952, 640], edge_index=[2, 327168], y=[64, 2], data=[64, 3], y_node=[29952, 7], clip_f=[64, 512], text_enc=[64, 512], batch=[29952], ptr=[65])\n"
     ]
    }
   ],
   "source": [
    "for i in train_loader :\n",
    "    print(i)\n",
    "    break"
   ]
  },
  {
   "cell_type": "code",
   "execution_count": 9,
   "id": "76ea4811",
   "metadata": {},
   "outputs": [
    {
     "name": "stdout",
     "output_type": "stream",
     "text": [
      "DataBatch(x=[29952, 640], edge_index=[2, 327168], y=[64, 2], clip_f=[64, 512], text_enc=[64, 512], batch=[29952], ptr=[65])\n"
     ]
    }
   ],
   "source": [
    "for i in test_loader :\n",
    "    print(i)\n",
    "    break"
   ]
  },
  {
   "cell_type": "code",
   "execution_count": 10,
   "id": "cb756f7c",
   "metadata": {},
   "outputs": [],
   "source": [
    "import torch\n",
    "import torch.nn as nn\n",
    "from torch.nn import TransformerEncoder, TransformerEncoderLayer\n",
    "\n",
    "# فرض کنید که داده‌های ورودی شما یک توالی از ۶۸۰ ویژگی دارد.\n",
    "#sequence_length = 128\n",
    "#feature_dim = 4  # هر ویژگی تک‌بعدی است\n",
    "\n",
    "# نمونه داده ورودی (تعداد نمونه‌ها × طول توالی × بعد ویژگی)\n",
    "#inputs = torch.rand(32, sequence_length, feature_dim)  # 32 نمونه با 680 ویژگی تک‌بعدی\n",
    "\n",
    "# تعریف یک لایه ترنسفورمر انکودر\n",
    "class SimpleTransformer(nn.Module):\n",
    "    def __init__(self,sequense_step,embed_dim, num_layers, nhead, out_dim):\n",
    "        super(SimpleTransformer, self).__init__()\n",
    "        self.linear = nn.Linear(1, embed_dim)  # افزایش بعد ویژگی‌ها\n",
    "        self.encoder_layer = TransformerEncoderLayer(d_model=embed_dim, nhead=nhead)\n",
    "        self.transformer_encoder = TransformerEncoder(self.encoder_layer, num_layers=num_layers)\n",
    "        self.fc = nn.Linear(sequense_step * embed_dim, out_dim)  # فرضا 10 کلاس خروجی داریم\n",
    "\n",
    "    def forward(self, x):\n",
    "        x = self.linear(x)  # تغییر بعد ویژگی‌ها\n",
    "        x = self.transformer_encoder(x)\n",
    "        x = x.view(x.size(0), -1)  # فشرده‌سازی به یک بردار برای طبقه‌بندی\n",
    "        x = self.fc(x)\n",
    "        return x\n",
    "\n",
    "# # ایجاد مدل و ارسال ورودی\n",
    "# # model = SimpleTransformer(embed_dim=embed_dim, num_layers=2, nhead=4)\n",
    "# # output = model(inputs)\n",
    "\n",
    "# #print(output.shape)\n"
   ]
  },
  {
   "cell_type": "code",
   "execution_count": 11,
   "id": "a635a201",
   "metadata": {},
   "outputs": [],
   "source": [
    "import torch\n",
    "import torch.nn as nn\n",
    "from torch.nn import TransformerEncoder, TransformerEncoderLayer\n",
    "\n",
    "# فرض کنید که داده‌های ورودی شما یک توالی از ۶۸۰ ویژگی دارد.\n",
    "sequence_length = 128\n",
    "feature_dim = 1  # هر ویژگی تک‌بعدی است\n",
    "\n",
    "# نمونه داده ورودی (تعداد نمونه‌ها × طول توالی × بعد ویژگی)\n",
    "#inputs = torch.rand(32, sequence_length, feature_dim)  # 32 نمونه با 680 ویژگی تک‌بعدی\n",
    "\n",
    "# تعریف یک لایه ترنسفورمر انکودر\n",
    "class SimpleTransformer_2(nn.Module):\n",
    "    def __init__(self, embed_dim, num_layers, nhead):\n",
    "        super(SimpleTransformer_2, self).__init__()\n",
    "        self.linear = nn.Linear(feature_dim, embed_dim)  # افزایش بعد ویژگی‌ها\n",
    "        self.encoder_layer = TransformerEncoderLayer(d_model=embed_dim, nhead=nhead)\n",
    "        self.transformer_encoder = TransformerEncoder(self.encoder_layer, num_layers=num_layers)\n",
    "        self.fc = nn.Linear(sequence_length * embed_dim, 7)  # فرضا 10 کلاس خروجی داریم\n",
    "\n",
    "    def forward(self, x):\n",
    "        x = self.linear(x)  # تغییر بعد ویژگی‌ها\n",
    "        x = self.transformer_encoder(x)\n",
    "        x = x.view(x.size(0), -1)  # فشرده‌سازی به یک بردار برای طبقه‌بندی\n",
    "        x = self.fc(x)\n",
    "        return x\n",
    "\n",
    "# # ایجاد مدل و ارسال ورودی\n",
    "# # model = SimpleTransformer(embed_dim=embed_dim, num_layers=2, nhead=4)\n",
    "# # output = model(inputs)\n",
    "\n",
    "# #print(output.shape)\n"
   ]
  },
  {
   "cell_type": "code",
   "execution_count": null,
   "id": "918b45cc",
   "metadata": {},
   "outputs": [],
   "source": []
  },
  {
   "cell_type": "code",
   "execution_count": 11,
   "id": "077ef3ae",
   "metadata": {},
   "outputs": [
    {
     "ename": "TypeError",
     "evalue": "__init__() missing 2 required positional arguments: 'nhead' and 'out_dim'",
     "output_type": "error",
     "traceback": [
      "\u001b[0;31m---------------------------------------------------------------------------\u001b[0m",
      "\u001b[0;31mTypeError\u001b[0m                                 Traceback (most recent call last)",
      "Input \u001b[0;32mIn [11]\u001b[0m, in \u001b[0;36m<module>\u001b[0;34m\u001b[0m\n\u001b[1;32m    169\u001b[0m         dis_invariant \u001b[38;5;241m=\u001b[39m \u001b[38;5;28mself\u001b[39m\u001b[38;5;241m.\u001b[39mdis(x)\n\u001b[1;32m    173\u001b[0m         \u001b[38;5;28;01mreturn\u001b[39;00m x ,dis_invariant\n\u001b[0;32m--> 175\u001b[0m model \u001b[38;5;241m=\u001b[39m \u001b[43mGCN\u001b[49m\u001b[43m(\u001b[49m\u001b[43mhidden_channels\u001b[49m\u001b[38;5;241;43m=\u001b[39;49m\u001b[38;5;241;43m128\u001b[39;49m\u001b[43m)\u001b[49m\u001b[38;5;241m.\u001b[39mto(device)\n\u001b[1;32m    176\u001b[0m \u001b[38;5;28mprint\u001b[39m(model)\n\u001b[1;32m    178\u001b[0m \u001b[38;5;28;01mdef\u001b[39;00m \u001b[38;5;21mcheck_folder\u001b[39m(log_dir):\n",
      "Input \u001b[0;32mIn [11]\u001b[0m, in \u001b[0;36mGCN.__init__\u001b[0;34m(self, hidden_channels, max_iter)\u001b[0m\n\u001b[1;32m     69\u001b[0m \u001b[38;5;28mself\u001b[39m\u001b[38;5;241m.\u001b[39mconv7 \u001b[38;5;241m=\u001b[39m ChebConv(\u001b[38;5;241m1024\u001b[39m, \u001b[38;5;241m1024\u001b[39m,\u001b[38;5;241m2\u001b[39m)\n\u001b[1;32m     70\u001b[0m \u001b[38;5;28mself\u001b[39m\u001b[38;5;241m.\u001b[39mconv8 \u001b[38;5;241m=\u001b[39m ChebConv(\u001b[38;5;241m1024\u001b[39m, \u001b[38;5;241m1024\u001b[39m,\u001b[38;5;241m2\u001b[39m)\n\u001b[0;32m---> 71\u001b[0m \u001b[38;5;28mself\u001b[39m\u001b[38;5;241m.\u001b[39mlin \u001b[38;5;241m=\u001b[39m \u001b[43mSimpleTransformer\u001b[49m\u001b[43m(\u001b[49m\u001b[38;5;241;43m8\u001b[39;49m\u001b[43m,\u001b[49m\u001b[38;5;241;43m5\u001b[39;49m\u001b[43m,\u001b[49m\u001b[38;5;241;43m8\u001b[39;49m\u001b[43m)\u001b[49m\n\u001b[1;32m     73\u001b[0m \u001b[38;5;28mself\u001b[39m\u001b[38;5;241m.\u001b[39mdrop_1 \u001b[38;5;241m=\u001b[39m RandomNodeDropout(drop_prob\u001b[38;5;241m=\u001b[39m\u001b[38;5;241m0.3\u001b[39m)\n\u001b[1;32m     74\u001b[0m \u001b[38;5;28mself\u001b[39m\u001b[38;5;241m.\u001b[39mdrop_2 \u001b[38;5;241m=\u001b[39m RandomNodeDropout(drop_prob\u001b[38;5;241m=\u001b[39m\u001b[38;5;241m0.3\u001b[39m)\n",
      "\u001b[0;31mTypeError\u001b[0m: __init__() missing 2 required positional arguments: 'nhead' and 'out_dim'"
     ]
    }
   ],
   "source": [
    "class RandomNodeDropout(nn.Module):\n",
    "    def __init__(self, drop_prob=0.3):\n",
    "        super(RandomNodeDropout, self).__init__()\n",
    "        self.drop_prob = drop_prob\n",
    "\n",
    "    def forward(self, x, enabled=True):\n",
    "        if not self.training or not enabled:\n",
    "            return x\n",
    "        \n",
    "        num_rows = x.size(0)\n",
    "        mask = torch.rand(num_rows, device=x.device) > self.drop_prob\n",
    "        mask = mask.float().unsqueeze(1).expand_as(x)\n",
    "        x = x * mask\n",
    "        \n",
    "        return x\n",
    "\n",
    "soft = torch.nn.Softmax(dim=1)\n",
    "\n",
    "num_domain = 3\n",
    "class GRL(nn.Module):\n",
    "\n",
    "    def __init__(self, max_iter):\n",
    "        super(GRL, self).__init__()\n",
    "        self.iter_num = 0\n",
    "        self.alpha = 10\n",
    "        self.low = 0.0\n",
    "        self.high = 1.0\n",
    "        self.max_iter = max_iter\n",
    "\n",
    "    def forward(self, input):\n",
    "        self.iter_num += 1\n",
    "        return input * 1.0\n",
    "\n",
    "    def backward(self, gradOutput):\n",
    "        coeff = np.float(2.0 * (self.high - self.low) / (1.0 + np.exp(-self.alpha * self.iter_num / self.max_iter))\n",
    "                         - (self.high - self.low) + self.low)\n",
    "        return -coeff*10* gradOutput\n",
    "\n",
    "num_node  =train_dataset.num_node_features\n",
    "class Discriminator(nn.Module):\n",
    "    def __init__(self, max_iter):\n",
    "        super(Discriminator, self).__init__()\n",
    "        self.fc1 = nn.Linear(512, 256)\n",
    "        self.fc2 = nn.Linear(256, num_domain)\n",
    "        self.ad_net = nn.Sequential(\n",
    "            self.fc1,\n",
    "            nn.ReLU(inplace=True),\n",
    "            nn.Dropout(0.5),\n",
    "            self.fc2\n",
    "        )\n",
    "        self.grl_layer = GRL(max_iter)\n",
    "\n",
    "    def forward(self, feature):\n",
    "        adversarial_out = self.ad_net(self.grl_layer(feature))\n",
    "        return adversarial_out\n",
    "\n",
    "\n",
    "\n",
    "class GCN(torch.nn.Module):\n",
    "    def __init__(self, hidden_channels,max_iter=4000):\n",
    "        super(GCN, self).__init__()\n",
    "        torch.manual_seed(12345)\n",
    "        self.conv1 = ChebConv(num_node, 1024,2)\n",
    "        self.conv2 = ChebConv(1024, 1024,2)\n",
    "        self.conv3 = ChebConv(1024, 1024,2)\n",
    "        self.conv4 = ChebConv(1024, 1024,2)\n",
    "        self.conv5 = ChebConv(1024*2, 1024,2)\n",
    "        self.conv6 = ChebConv(1024, 1024,2)\n",
    "        self.conv7 = ChebConv(1024, 1024,2)\n",
    "        self.conv8 = ChebConv(1024, 1024,2)\n",
    "        self.lin = SimpleTransformer(8,5,8)\n",
    "        \n",
    "        self.drop_1 = RandomNodeDropout(drop_prob=0.3)\n",
    "        self.drop_2 = RandomNodeDropout(drop_prob=0.3)\n",
    "        self.drop_3 = RandomNodeDropout(drop_prob=0.3)\n",
    "        self.drop_4 = RandomNodeDropout(drop_prob=0.3)\n",
    "        self.drop_5 = RandomNodeDropout(drop_prob=0.3)\n",
    "        self.drop_6 = RandomNodeDropout(drop_prob=0.3)\n",
    "        \n",
    "        \n",
    "        self.b1 = BatchNorm(1024)\n",
    "        self.b2 = BatchNorm(1024)\n",
    "        self.b3 = BatchNorm(1024)\n",
    "        self.b4 = BatchNorm(1024)\n",
    "        self.b5 = BatchNorm(1024)\n",
    "        self.b6 = BatchNorm(1024)\n",
    "        self.b7 = BatchNorm(1024)\n",
    "        \n",
    "        self.dis = Discriminator(max_iter)\n",
    "        \n",
    "#         self.conv1_node_class = GraphSAGE(hidden_channels, hidden_channels,2,dropout=0.5)\n",
    "        \n",
    "#         self.conv2_node_class = GraphSAGE(hidden_channels, hidden_channels,2,dropout=0.5)\n",
    "        \n",
    "#         self.lin_node_class = SimpleTransformer_2(64,10,8)\n",
    "        \n",
    "\n",
    "        \n",
    "        #self.tcn = Simple1DCNN()\n",
    "        \n",
    "    def forward(self, x, edge_index, batch,drop_en):\n",
    "        \n",
    "        #print(\"graph fea :\",graph_level_feature.shape ,edge_index.shape )\n",
    "        \n",
    "\n",
    "        x = self.conv1(x, edge_index)\n",
    "        x  = self.b1(x)\n",
    "        x = x.relu()\n",
    "        \n",
    "        x = self.drop_1(x,drop_en)\n",
    "        \n",
    "        x = self.conv2(x, edge_index)\n",
    "        x  = self.b2(x)\n",
    "        x = x.relu()\n",
    "        \n",
    "        x_2 = x\n",
    "        \n",
    "        x = self.drop_2(x,drop_en)\n",
    "                \n",
    "                    \n",
    "        x = self.conv3(x, edge_index)\n",
    "        x  = self.b3(x)\n",
    "        x = x.relu()\n",
    "        \n",
    "        x = self.drop_3(x,drop_en)\n",
    "                \n",
    "        \n",
    "        x = self.conv4(x, edge_index)\n",
    "        x  = self.b4(x)\n",
    "        x = x.relu()\n",
    "        \n",
    "        x = self.drop_4(x,drop_en)\n",
    "        \n",
    "        \n",
    "        x = torch.cat((x,x_2),dim=1) #skip connection\n",
    "        \n",
    "        x = self.conv5(x, edge_index)\n",
    "        x  = self.b5(x)\n",
    "        x = x.relu()\n",
    "        \n",
    "        x = self.drop_5(x,drop_en)\n",
    "        \n",
    "        \n",
    "        x = self.conv6(x, edge_index)\n",
    "        x  = self.b6(x)\n",
    "        x = x.relu()\n",
    "        \n",
    "        x = self.drop_6(x,drop_en)\n",
    "        \n",
    "        x = self.conv7(x, edge_index)\n",
    "        x  = self.b7(x)\n",
    "        x = x.relu()\n",
    "        \n",
    "        \n",
    "        x = self.conv8(x, edge_index)\n",
    "        # 2. Readout layer\n",
    "        x = global_mean_pool(x, batch)  # [batch_size, hidden_channels]\n",
    "        \n",
    "        #x = torch.concat((x,clip_f),dim=1)\n",
    "        #print(x.shape)\n",
    "        \n",
    "        x = F.dropout(x, p=0.5, training=self.training)\n",
    "        \n",
    "        x = torch.unsqueeze(x,2)\n",
    "        #print(x.shape)\n",
    "        \n",
    "        x = self.lin(x)\n",
    "        \n",
    "        dis_invariant = self.dis(x)\n",
    "        \n",
    "\n",
    "        \n",
    "        return x ,dis_invariant\n",
    "\n",
    "model = GCN(hidden_channels=128).to(device)\n",
    "print(model)\n",
    "\n",
    "def check_folder(log_dir):\n",
    "    if not os.path.exists(log_dir):\n",
    "        os.makedirs(log_dir)\n",
    "    return log_dir\n",
    "\n",
    "optimizer = torch.optim.Adam(model.parameters(), lr=0.001)\n",
    "cls_loss = torch.nn.CrossEntropyLoss()\n",
    "# criterion= nn.BCELoss()\n",
    "# criterion_node_class=  torch.nn.CrossEntropyLoss()\n",
    "criterion_2 = torch.nn.CrossEntropyLoss()\n",
    "cos_loss_V = torch.nn.CosineEmbeddingLoss()\n",
    "cos_loss_T = torch.nn.CosineEmbeddingLoss()\n",
    "\n",
    "def train(epoch):\n",
    "    model.train()\n",
    "    losses_adv_loss=0\n",
    "    losses_loss_V=0\n",
    "    total_loss = 0\n",
    "    losses_loss_T = 0\n",
    "    losses_loss_cls=0\n",
    "    cos = torch.nn.CosineSimilarity()\n",
    "    progress_bar = tqdm(train_loader, desc=f'Epoch {epoch+1}', unit='batch')\n",
    "    for graph in progress_bar:  # Iterate in batches over the training dataset.\n",
    "        graph = graph.to(device)  # Move data to the device\n",
    "        \n",
    "        drop_en = bool(np.random.binomial(1, 0.5))\n",
    "        \n",
    "        \n",
    "        out,dis_invariant = model(graph.x, graph.edge_index, graph.batch,drop_en)  # Perform a single forward pass.\n",
    "        \n",
    "        adv_loss = criterion_2(dis_invariant, graph.data)\n",
    "        \n",
    "        loss_V = cos_loss_V(out,graph.clip_f,torch.tensor([1.0]).to(device))\n",
    "        \n",
    "        loss_T = cos_loss_T(out,graph.text_enc,torch.tensor([1.0]).to(device))\n",
    "        \n",
    "        logit_l = torch.unsqueeze(cos(out,torch.tensor(live_arr).to(device)),dim=1)\n",
    "        logit_s = torch.unsqueeze(cos(out,torch.tensor(spoof_arr).to(device)),dim=1)        \n",
    "\n",
    "        \n",
    "        #print(logit_l.shape,logit_s.shape)\n",
    "        \n",
    "        logits = torch.cat((logit_l, logit_s), dim=1)\n",
    "        #print(logits.shape ,graph.y.shape)\n",
    "        \n",
    "        loss_cls  = cls_loss(logits,graph.y.float())\n",
    "        \n",
    "        \n",
    "        loss_all = adv_loss + loss_V + loss_T + loss_cls\n",
    "        \n",
    "        print(loss_cls)\n",
    "        print(loss_V)\n",
    "        \n",
    "        loss_all.backward()  # Derive gradients.\n",
    "        optimizer.step()  # Update parameters based on gradients.\n",
    "        optimizer.zero_grad()  # Clear gradients.\n",
    "        total_loss = loss_all + total_loss\n",
    "        losses_adv_loss = adv_loss + losses_adv_loss\n",
    "        losses_loss_V = loss_V + losses_loss_V\n",
    "        losses_loss_T = loss_T + losses_loss_T\n",
    "        losses_loss_cls = loss_cls + losses_loss_cls\n",
    "\n",
    "\n",
    "    print(\"/////////////////////////\")\n",
    "    print(\"classification loss : \" , losses_loss_cls/len(train_loader.dataset))\n",
    "    print(\"adverserial loss : \" ,losses_adv_loss/len(train_loader.dataset))  \n",
    "    print(\"V loss : \" , losses_loss_V/len(train_loader.dataset))\n",
    "    print(\"T  loss : \" , losses_loss_T/len(train_loader.dataset))\n",
    "    print(\"total loss : \" ,total_loss/len(train_loader.dataset) )\n",
    "    print(\"////////////////////////////////////\")\n",
    "def test(loader,epoch):\n",
    "    score_path = os.path.join(\"/home/hassan-hossein/single_image_graph_face_anti_spoofing/train/Scores\", \"epoch_{}\".format(epoch+1))\n",
    "    check_folder(score_path)\n",
    "    model.eval()\n",
    "    cos = torch.nn.CosineSimilarity()\n",
    "    with torch.no_grad():\n",
    "        scores_list = []\n",
    "\n",
    "        correct = 0\n",
    "        s= 0\n",
    "        progress_bar = tqdm(loader, desc=f'Epoch {epoch+1}', unit='batch')\n",
    "        for graph in progress_bar:  # Iterate in batches over the training/test dataset.\n",
    "                \n",
    "            graph = graph.to(device)  # Move data to the device\n",
    "            embeding,_= model(graph.x, graph.edge_index, graph.batch,graph.clip_f)\n",
    "            logit_l = torch.unsqueeze(cos(embeding,torch.tensor(live_arr).to(device)),dim=1)\n",
    "            logit_s = torch.unsqueeze(cos(embeding,torch.tensor(spoof_arr).to(device)),dim=1)\n",
    "            logit = F.softmax(torch.cat((logit_l, logit_s), dim=1),dim=1)[:,0] \n",
    "            live_label = graph.y.float()[:,0]\n",
    "            #print(live_label.shape)\n",
    "            for i in range(len(logit)):\n",
    "                        scores_list.append(\"{} {}\\n\".format(logit[i].item(), live_label[i].item()))\n",
    "  # Check against ground-truth labels.\n",
    "    map_score_val_filename = os.path.join(score_path, \"score.txt\")\n",
    "    with open(map_score_val_filename, 'w') as file:\n",
    "                file.writelines(scores_list)\n",
    "    print(\"score: write test scores to {}\".format(map_score_val_filename))\n",
    "    test_ACC, fpr, FRR, HTER, auc_test, test_err, tpr = performances_val(map_score_val_filename)\n",
    "    print(\"epoch:{:d}, test:  val_ACC={:.4f}, HTER={:.4f}, AUC={:.4f}, val_err={:.4f}, ACC={:.4f}, TPR={:.4f}\".format(\n",
    "        epoch + 1, test_ACC, HTER, auc_test, test_err, test_ACC, tpr))  \n",
    "    return auc_test\n",
    "\n"
   ]
  },
  {
   "cell_type": "code",
   "execution_count": 15,
   "id": "46ef6861",
   "metadata": {},
   "outputs": [
    {
     "name": "stderr",
     "output_type": "stream",
     "text": [
      "\r",
      "Epoch 2:   0%|                                                                                                   | 0/3342 [00:00<?, ?batch/s]"
     ]
    },
    {
     "name": "stdout",
     "output_type": "stream",
     "text": [
      "tensor(0.6967, device='cuda:0', grad_fn=<DivBackward1>)\n",
      "tensor(0.9796, device='cuda:0', grad_fn=<MeanBackward0>)\n"
     ]
    },
    {
     "name": "stderr",
     "output_type": "stream",
     "text": [
      "Epoch 2:   0%|                                                                                         | 2/3342 [00:02<1:12:11,  1.30s/batch]"
     ]
    },
    {
     "name": "stdout",
     "output_type": "stream",
     "text": [
      "tensor(0.6973, device='cuda:0', grad_fn=<DivBackward1>)\n",
      "tensor(0.9601, device='cuda:0', grad_fn=<MeanBackward0>)\n"
     ]
    },
    {
     "name": "stderr",
     "output_type": "stream",
     "text": [
      "\r",
      "Epoch 2:   0%|                                                                                           | 3/3342 [00:03<51:49,  1.07batch/s]"
     ]
    },
    {
     "name": "stdout",
     "output_type": "stream",
     "text": [
      "tensor(0.6975, device='cuda:0', grad_fn=<DivBackward1>)\n",
      "tensor(0.9405, device='cuda:0', grad_fn=<MeanBackward0>)\n",
      "tensor(0.6966, device='cuda:0', grad_fn=<DivBackward1>)\n",
      "tensor(0.9283, device='cuda:0', grad_fn=<MeanBackward0>)\n"
     ]
    },
    {
     "name": "stderr",
     "output_type": "stream",
     "text": [
      "Epoch 2:   0%|▏                                                                                          | 5/3342 [00:04<37:14,  1.49batch/s]"
     ]
    },
    {
     "name": "stdout",
     "output_type": "stream",
     "text": [
      "tensor(0.6970, device='cuda:0', grad_fn=<DivBackward1>)\n",
      "tensor(0.9000, device='cuda:0', grad_fn=<MeanBackward0>)\n"
     ]
    },
    {
     "name": "stderr",
     "output_type": "stream",
     "text": [
      "\r",
      "Epoch 2:   0%|▏                                                                                          | 6/3342 [00:04<34:00,  1.63batch/s]"
     ]
    },
    {
     "name": "stdout",
     "output_type": "stream",
     "text": [
      "tensor(0.6953, device='cuda:0', grad_fn=<DivBackward1>)\n",
      "tensor(0.8764, device='cuda:0', grad_fn=<MeanBackward0>)\n"
     ]
    },
    {
     "name": "stderr",
     "output_type": "stream",
     "text": [
      "\r",
      "Epoch 2:   0%|▏                                                                                          | 7/3342 [00:05<32:01,  1.74batch/s]"
     ]
    },
    {
     "name": "stdout",
     "output_type": "stream",
     "text": [
      "tensor(0.6947, device='cuda:0', grad_fn=<DivBackward1>)\n",
      "tensor(0.8468, device='cuda:0', grad_fn=<MeanBackward0>)\n",
      "tensor(0.6937, device='cuda:0', grad_fn=<DivBackward1>)\n",
      "tensor(0.8323, device='cuda:0', grad_fn=<MeanBackward0>)\n"
     ]
    },
    {
     "name": "stderr",
     "output_type": "stream",
     "text": [
      "\r",
      "Epoch 2:   0%|▏                                                                                          | 8/3342 [00:05<30:55,  1.80batch/s]"
     ]
    },
    {
     "name": "stdout",
     "output_type": "stream",
     "text": [
      "tensor(0.6927, device='cuda:0', grad_fn=<DivBackward1>)\n",
      "tensor(0.8117, device='cuda:0', grad_fn=<MeanBackward0>)\n"
     ]
    },
    {
     "name": "stderr",
     "output_type": "stream",
     "text": [
      "Epoch 2:   0%|▎                                                                                         | 10/3342 [00:06<29:16,  1.90batch/s]"
     ]
    },
    {
     "name": "stdout",
     "output_type": "stream",
     "text": [
      "tensor(0.6917, device='cuda:0', grad_fn=<DivBackward1>)\n",
      "tensor(0.7865, device='cuda:0', grad_fn=<MeanBackward0>)\n"
     ]
    },
    {
     "name": "stderr",
     "output_type": "stream",
     "text": [
      "\r",
      "Epoch 2:   0%|▎                                                                                         | 11/3342 [00:07<28:58,  1.92batch/s]"
     ]
    },
    {
     "name": "stdout",
     "output_type": "stream",
     "text": [
      "tensor(0.6916, device='cuda:0', grad_fn=<DivBackward1>)\n",
      "tensor(0.7717, device='cuda:0', grad_fn=<MeanBackward0>)\n"
     ]
    },
    {
     "name": "stderr",
     "output_type": "stream",
     "text": [
      "\r",
      "Epoch 2:   0%|▎                                                                                         | 12/3342 [00:08<28:49,  1.93batch/s]"
     ]
    },
    {
     "name": "stdout",
     "output_type": "stream",
     "text": [
      "tensor(0.6919, device='cuda:0', grad_fn=<DivBackward1>)\n",
      "tensor(0.7395, device='cuda:0', grad_fn=<MeanBackward0>)\n",
      "tensor(0.6910, device='cuda:0', grad_fn=<DivBackward1>)\n",
      "tensor(0.7248, device='cuda:0', grad_fn=<MeanBackward0>)\n"
     ]
    },
    {
     "name": "stderr",
     "output_type": "stream",
     "text": [
      "Epoch 2:   0%|▍                                                                                         | 14/3342 [00:09<28:22,  1.95batch/s]"
     ]
    },
    {
     "name": "stdout",
     "output_type": "stream",
     "text": [
      "tensor(0.6900, device='cuda:0', grad_fn=<DivBackward1>)\n",
      "tensor(0.7096, device='cuda:0', grad_fn=<MeanBackward0>)\n"
     ]
    },
    {
     "name": "stderr",
     "output_type": "stream",
     "text": [
      "\r",
      "Epoch 2:   0%|▍                                                                                         | 15/3342 [00:09<28:16,  1.96batch/s]"
     ]
    },
    {
     "name": "stdout",
     "output_type": "stream",
     "text": [
      "tensor(0.6910, device='cuda:0', grad_fn=<DivBackward1>)\n",
      "tensor(0.6900, device='cuda:0', grad_fn=<MeanBackward0>)\n",
      "tensor(0.6901, device='cuda:0', grad_fn=<DivBackward1>)\n",
      "tensor(0.6702, device='cuda:0', grad_fn=<MeanBackward0>)\n"
     ]
    },
    {
     "name": "stderr",
     "output_type": "stream",
     "text": [
      "\r",
      "Epoch 2:   0%|▍                                                                                         | 16/3342 [00:10<28:23,  1.95batch/s]"
     ]
    },
    {
     "name": "stdout",
     "output_type": "stream",
     "text": [
      "tensor(0.6891, device='cuda:0', grad_fn=<DivBackward1>)\n",
      "tensor(0.6520, device='cuda:0', grad_fn=<MeanBackward0>)\n"
     ]
    },
    {
     "name": "stderr",
     "output_type": "stream",
     "text": [
      "\r",
      "Epoch 2:   1%|▍                                                                                         | 17/3342 [00:10<28:47,  1.92batch/s]"
     ]
    },
    {
     "name": "stdout",
     "output_type": "stream",
     "text": [
      "tensor(0.6892, device='cuda:0', grad_fn=<DivBackward1>)\n",
      "tensor(0.6423, device='cuda:0', grad_fn=<MeanBackward0>)\n"
     ]
    },
    {
     "name": "stderr",
     "output_type": "stream",
     "text": [
      "\r",
      "Epoch 2:   1%|▍                                                                                         | 18/3342 [00:11<28:40,  1.93batch/s]"
     ]
    },
    {
     "name": "stdout",
     "output_type": "stream",
     "text": [
      "tensor(0.6896, device='cuda:0', grad_fn=<DivBackward1>)\n",
      "tensor(0.6239, device='cuda:0', grad_fn=<MeanBackward0>)\n"
     ]
    },
    {
     "name": "stderr",
     "output_type": "stream",
     "text": [
      "\r",
      "Epoch 2:   1%|▌                                                                                         | 19/3342 [00:11<28:44,  1.93batch/s]"
     ]
    },
    {
     "name": "stdout",
     "output_type": "stream",
     "text": [
      "tensor(0.6886, device='cuda:0', grad_fn=<DivBackward1>)\n",
      "tensor(0.6015, device='cuda:0', grad_fn=<MeanBackward0>)\n"
     ]
    },
    {
     "name": "stderr",
     "output_type": "stream",
     "text": [
      "Epoch 2:   1%|▌                                                                                         | 21/3342 [00:12<28:16,  1.96batch/s]"
     ]
    },
    {
     "name": "stdout",
     "output_type": "stream",
     "text": [
      "tensor(0.6882, device='cuda:0', grad_fn=<DivBackward1>)\n",
      "tensor(0.5960, device='cuda:0', grad_fn=<MeanBackward0>)\n"
     ]
    },
    {
     "name": "stderr",
     "output_type": "stream",
     "text": [
      "\r",
      "Epoch 2:   1%|▌                                                                                         | 22/3342 [00:13<28:14,  1.96batch/s]"
     ]
    },
    {
     "name": "stdout",
     "output_type": "stream",
     "text": [
      "tensor(0.6879, device='cuda:0', grad_fn=<DivBackward1>)\n",
      "tensor(0.5853, device='cuda:0', grad_fn=<MeanBackward0>)\n",
      "tensor(0.6881, device='cuda:0', grad_fn=<DivBackward1>)\n",
      "tensor(0.5605, device='cuda:0', grad_fn=<MeanBackward0>)\n"
     ]
    },
    {
     "name": "stderr",
     "output_type": "stream",
     "text": [
      "\r",
      "Epoch 2:   1%|▌                                                                                         | 23/3342 [00:13<28:20,  1.95batch/s]"
     ]
    },
    {
     "name": "stdout",
     "output_type": "stream",
     "text": [
      "tensor(0.6870, device='cuda:0', grad_fn=<DivBackward1>)\n",
      "tensor(0.5551, device='cuda:0', grad_fn=<MeanBackward0>)\n"
     ]
    },
    {
     "name": "stderr",
     "output_type": "stream",
     "text": [
      "Epoch 2:   1%|▋                                                                                         | 25/3342 [00:14<28:18,  1.95batch/s]"
     ]
    },
    {
     "name": "stdout",
     "output_type": "stream",
     "text": [
      "tensor(0.6883, device='cuda:0', grad_fn=<DivBackward1>)\n",
      "tensor(0.5368, device='cuda:0', grad_fn=<MeanBackward0>)\n"
     ]
    },
    {
     "name": "stderr",
     "output_type": "stream",
     "text": [
      "\r",
      "Epoch 2:   1%|▋                                                                                         | 26/3342 [00:15<28:05,  1.97batch/s]"
     ]
    },
    {
     "name": "stdout",
     "output_type": "stream",
     "text": [
      "tensor(0.6882, device='cuda:0', grad_fn=<DivBackward1>)\n",
      "tensor(0.5259, device='cuda:0', grad_fn=<MeanBackward0>)\n"
     ]
    },
    {
     "name": "stderr",
     "output_type": "stream",
     "text": [
      "\r",
      "Epoch 2:   1%|▋                                                                                         | 27/3342 [00:15<28:06,  1.97batch/s]"
     ]
    },
    {
     "name": "stdout",
     "output_type": "stream",
     "text": [
      "tensor(0.6873, device='cuda:0', grad_fn=<DivBackward1>)\n",
      "tensor(0.5227, device='cuda:0', grad_fn=<MeanBackward0>)\n",
      "tensor(0.6889, device='cuda:0', grad_fn=<DivBackward1>)\n",
      "tensor(0.5236, device='cuda:0', grad_fn=<MeanBackward0>)\n"
     ]
    },
    {
     "name": "stderr",
     "output_type": "stream",
     "text": [
      "\r",
      "Epoch 2:   1%|▊                                                                                         | 28/3342 [00:16<28:16,  1.95batch/s]"
     ]
    },
    {
     "name": "stdout",
     "output_type": "stream",
     "text": [
      "tensor(0.6868, device='cuda:0', grad_fn=<DivBackward1>)\n",
      "tensor(0.4919, device='cuda:0', grad_fn=<MeanBackward0>)\n"
     ]
    },
    {
     "name": "stderr",
     "output_type": "stream",
     "text": [
      "\r",
      "Epoch 2:   1%|▊                                                                                         | 29/3342 [00:16<28:22,  1.95batch/s]"
     ]
    },
    {
     "name": "stdout",
     "output_type": "stream",
     "text": [
      "tensor(0.6876, device='cuda:0', grad_fn=<DivBackward1>)\n",
      "tensor(0.4902, device='cuda:0', grad_fn=<MeanBackward0>)\n"
     ]
    },
    {
     "name": "stderr",
     "output_type": "stream",
     "text": [
      "\r",
      "Epoch 2:   1%|▊                                                                                         | 30/3342 [00:17<28:27,  1.94batch/s]"
     ]
    },
    {
     "name": "stdout",
     "output_type": "stream",
     "text": [
      "tensor(0.6864, device='cuda:0', grad_fn=<DivBackward1>)\n",
      "tensor(0.4723, device='cuda:0', grad_fn=<MeanBackward0>)\n"
     ]
    },
    {
     "name": "stderr",
     "output_type": "stream",
     "text": [
      "Epoch 2:   1%|▊                                                                                         | 32/3342 [00:18<28:20,  1.95batch/s]"
     ]
    },
    {
     "name": "stdout",
     "output_type": "stream",
     "text": [
      "tensor(0.6856, device='cuda:0', grad_fn=<DivBackward1>)\n",
      "tensor(0.4706, device='cuda:0', grad_fn=<MeanBackward0>)\n",
      "tensor(0.6854, device='cuda:0', grad_fn=<DivBackward1>)\n",
      "tensor(0.4577, device='cuda:0', grad_fn=<MeanBackward0>)\n"
     ]
    },
    {
     "name": "stderr",
     "output_type": "stream",
     "text": [
      "\r",
      "Epoch 2:   1%|▉                                                                                         | 33/3342 [00:18<28:26,  1.94batch/s]"
     ]
    },
    {
     "name": "stdout",
     "output_type": "stream",
     "text": [
      "tensor(0.6867, device='cuda:0', grad_fn=<DivBackward1>)\n",
      "tensor(0.4492, device='cuda:0', grad_fn=<MeanBackward0>)\n"
     ]
    },
    {
     "name": "stderr",
     "output_type": "stream",
     "text": [
      "Epoch 2:   1%|▉                                                                                         | 35/3342 [00:19<28:07,  1.96batch/s]"
     ]
    },
    {
     "name": "stdout",
     "output_type": "stream",
     "text": [
      "tensor(0.6850, device='cuda:0', grad_fn=<DivBackward1>)\n",
      "tensor(0.4471, device='cuda:0', grad_fn=<MeanBackward0>)\n",
      "tensor(0.6857, device='cuda:0', grad_fn=<DivBackward1>)\n",
      "tensor(0.4465, device='cuda:0', grad_fn=<MeanBackward0>)\n"
     ]
    },
    {
     "name": "stderr",
     "output_type": "stream",
     "text": [
      "\r",
      "Epoch 2:   1%|▉                                                                                         | 36/3342 [00:20<28:01,  1.97batch/s]"
     ]
    },
    {
     "name": "stdout",
     "output_type": "stream",
     "text": [
      "tensor(0.6850, device='cuda:0', grad_fn=<DivBackward1>)\n",
      "tensor(0.4347, device='cuda:0', grad_fn=<MeanBackward0>)\n"
     ]
    },
    {
     "name": "stderr",
     "output_type": "stream",
     "text": [
      "\r",
      "Epoch 2:   1%|▉                                                                                         | 37/3342 [00:20<28:01,  1.97batch/s]"
     ]
    },
    {
     "name": "stdout",
     "output_type": "stream",
     "text": [
      "tensor(0.6855, device='cuda:0', grad_fn=<DivBackward1>)\n",
      "tensor(0.4342, device='cuda:0', grad_fn=<MeanBackward0>)\n"
     ]
    },
    {
     "name": "stderr",
     "output_type": "stream",
     "text": [
      "\r",
      "Epoch 2:   1%|█                                                                                         | 38/3342 [00:21<28:05,  1.96batch/s]"
     ]
    },
    {
     "name": "stdout",
     "output_type": "stream",
     "text": [
      "tensor(0.6822, device='cuda:0', grad_fn=<DivBackward1>)\n",
      "tensor(0.4247, device='cuda:0', grad_fn=<MeanBackward0>)\n"
     ]
    },
    {
     "name": "stderr",
     "output_type": "stream",
     "text": [
      "Epoch 2:   1%|█                                                                                         | 40/3342 [00:22<28:00,  1.96batch/s]"
     ]
    },
    {
     "name": "stdout",
     "output_type": "stream",
     "text": [
      "tensor(0.6854, device='cuda:0', grad_fn=<DivBackward1>)\n",
      "tensor(0.4364, device='cuda:0', grad_fn=<MeanBackward0>)\n",
      "tensor(0.6859, device='cuda:0', grad_fn=<DivBackward1>)\n",
      "tensor(0.4130, device='cuda:0', grad_fn=<MeanBackward0>)\n"
     ]
    },
    {
     "name": "stderr",
     "output_type": "stream",
     "text": [
      "\r",
      "Epoch 2:   1%|█                                                                                         | 41/3342 [00:22<28:06,  1.96batch/s]"
     ]
    },
    {
     "name": "stdout",
     "output_type": "stream",
     "text": [
      "tensor(0.6837, device='cuda:0', grad_fn=<DivBackward1>)\n",
      "tensor(0.4000, device='cuda:0', grad_fn=<MeanBackward0>)\n"
     ]
    },
    {
     "name": "stderr",
     "output_type": "stream",
     "text": [
      "\r",
      "Epoch 2:   1%|█▏                                                                                        | 42/3342 [00:23<28:15,  1.95batch/s]"
     ]
    },
    {
     "name": "stdout",
     "output_type": "stream",
     "text": [
      "tensor(0.6852, device='cuda:0', grad_fn=<DivBackward1>)\n",
      "tensor(0.4194, device='cuda:0', grad_fn=<MeanBackward0>)\n"
     ]
    },
    {
     "name": "stderr",
     "output_type": "stream",
     "text": [
      "\r",
      "Epoch 2:   1%|█▏                                                                                        | 43/3342 [00:23<28:16,  1.95batch/s]"
     ]
    },
    {
     "name": "stdout",
     "output_type": "stream",
     "text": [
      "tensor(0.6843, device='cuda:0', grad_fn=<DivBackward1>)\n",
      "tensor(0.4070, device='cuda:0', grad_fn=<MeanBackward0>)\n"
     ]
    },
    {
     "name": "stderr",
     "output_type": "stream",
     "text": [
      "\r",
      "Epoch 2:   1%|█▏                                                                                        | 44/3342 [00:24<28:01,  1.96batch/s]"
     ]
    },
    {
     "name": "stdout",
     "output_type": "stream",
     "text": [
      "tensor(0.6835, device='cuda:0', grad_fn=<DivBackward1>)\n",
      "tensor(0.4132, device='cuda:0', grad_fn=<MeanBackward0>)\n"
     ]
    },
    {
     "name": "stderr",
     "output_type": "stream",
     "text": [
      "\r",
      "Epoch 2:   1%|█▏                                                                                        | 45/3342 [00:24<28:01,  1.96batch/s]"
     ]
    },
    {
     "name": "stdout",
     "output_type": "stream",
     "text": [
      "tensor(0.6811, device='cuda:0', grad_fn=<DivBackward1>)\n",
      "tensor(0.3971, device='cuda:0', grad_fn=<MeanBackward0>)\n"
     ]
    },
    {
     "name": "stderr",
     "output_type": "stream",
     "text": [
      "\r",
      "Epoch 2:   1%|█▏                                                                                        | 46/3342 [00:25<28:12,  1.95batch/s]"
     ]
    },
    {
     "name": "stdout",
     "output_type": "stream",
     "text": [
      "tensor(0.6829, device='cuda:0', grad_fn=<DivBackward1>)\n",
      "tensor(0.4143, device='cuda:0', grad_fn=<MeanBackward0>)\n"
     ]
    },
    {
     "name": "stderr",
     "output_type": "stream",
     "text": [
      "\r",
      "Epoch 2:   1%|█▎                                                                                        | 47/3342 [00:25<28:13,  1.95batch/s]"
     ]
    },
    {
     "name": "stdout",
     "output_type": "stream",
     "text": [
      "tensor(0.6814, device='cuda:0', grad_fn=<DivBackward1>)\n",
      "tensor(0.4159, device='cuda:0', grad_fn=<MeanBackward0>)\n"
     ]
    },
    {
     "name": "stderr",
     "output_type": "stream",
     "text": [
      "\r",
      "Epoch 2:   1%|█▎                                                                                        | 48/3342 [00:26<28:11,  1.95batch/s]"
     ]
    },
    {
     "name": "stdout",
     "output_type": "stream",
     "text": [
      "tensor(0.6817, device='cuda:0', grad_fn=<DivBackward1>)\n",
      "tensor(0.4025, device='cuda:0', grad_fn=<MeanBackward0>)\n"
     ]
    },
    {
     "name": "stderr",
     "output_type": "stream",
     "text": [
      "\r",
      "Epoch 2:   1%|█▎                                                                                        | 49/3342 [00:26<28:08,  1.95batch/s]"
     ]
    },
    {
     "name": "stdout",
     "output_type": "stream",
     "text": [
      "tensor(0.6840, device='cuda:0', grad_fn=<DivBackward1>)\n",
      "tensor(0.4022, device='cuda:0', grad_fn=<MeanBackward0>)\n"
     ]
    },
    {
     "name": "stderr",
     "output_type": "stream",
     "text": [
      "\r",
      "Epoch 2:   1%|█▎                                                                                        | 50/3342 [00:27<28:05,  1.95batch/s]"
     ]
    },
    {
     "name": "stdout",
     "output_type": "stream",
     "text": [
      "tensor(0.6846, device='cuda:0', grad_fn=<DivBackward1>)\n",
      "tensor(0.4012, device='cuda:0', grad_fn=<MeanBackward0>)\n"
     ]
    },
    {
     "name": "stderr",
     "output_type": "stream",
     "text": [
      "\r",
      "Epoch 2:   2%|█▎                                                                                        | 51/3342 [00:27<28:06,  1.95batch/s]"
     ]
    },
    {
     "name": "stdout",
     "output_type": "stream",
     "text": [
      "tensor(0.6825, device='cuda:0', grad_fn=<DivBackward1>)\n",
      "tensor(0.3969, device='cuda:0', grad_fn=<MeanBackward0>)\n"
     ]
    },
    {
     "name": "stderr",
     "output_type": "stream",
     "text": [
      "\r",
      "Epoch 2:   2%|█▍                                                                                        | 52/3342 [00:28<28:20,  1.94batch/s]"
     ]
    },
    {
     "name": "stdout",
     "output_type": "stream",
     "text": [
      "tensor(0.6852, device='cuda:0', grad_fn=<DivBackward1>)\n",
      "tensor(0.4030, device='cuda:0', grad_fn=<MeanBackward0>)\n"
     ]
    },
    {
     "name": "stderr",
     "output_type": "stream",
     "text": [
      "\r",
      "Epoch 2:   2%|█▍                                                                                        | 53/3342 [00:29<28:18,  1.94batch/s]"
     ]
    },
    {
     "name": "stdout",
     "output_type": "stream",
     "text": [
      "tensor(0.6768, device='cuda:0', grad_fn=<DivBackward1>)\n",
      "tensor(0.3925, device='cuda:0', grad_fn=<MeanBackward0>)\n"
     ]
    },
    {
     "name": "stderr",
     "output_type": "stream",
     "text": [
      "\r",
      "Epoch 2:   2%|█▍                                                                                        | 54/3342 [00:29<28:09,  1.95batch/s]"
     ]
    },
    {
     "name": "stdout",
     "output_type": "stream",
     "text": [
      "tensor(0.6832, device='cuda:0', grad_fn=<DivBackward1>)\n",
      "tensor(0.4193, device='cuda:0', grad_fn=<MeanBackward0>)\n"
     ]
    },
    {
     "name": "stderr",
     "output_type": "stream",
     "text": [
      "\r",
      "Epoch 2:   2%|█▍                                                                                        | 55/3342 [00:30<28:04,  1.95batch/s]"
     ]
    },
    {
     "name": "stdout",
     "output_type": "stream",
     "text": [
      "tensor(0.6807, device='cuda:0', grad_fn=<DivBackward1>)\n",
      "tensor(0.4246, device='cuda:0', grad_fn=<MeanBackward0>)\n"
     ]
    },
    {
     "name": "stderr",
     "output_type": "stream",
     "text": [
      "Epoch 2:   2%|█▌                                                                                        | 57/3342 [00:31<27:58,  1.96batch/s]"
     ]
    },
    {
     "name": "stdout",
     "output_type": "stream",
     "text": [
      "tensor(0.6782, device='cuda:0', grad_fn=<DivBackward1>)\n",
      "tensor(0.4148, device='cuda:0', grad_fn=<MeanBackward0>)\n",
      "tensor(0.6788, device='cuda:0', grad_fn=<DivBackward1>)\n",
      "tensor(0.4087, device='cuda:0', grad_fn=<MeanBackward0>)\n"
     ]
    },
    {
     "name": "stderr",
     "output_type": "stream",
     "text": [
      "\r",
      "Epoch 2:   2%|█▌                                                                                        | 58/3342 [00:31<27:57,  1.96batch/s]"
     ]
    },
    {
     "name": "stdout",
     "output_type": "stream",
     "text": [
      "tensor(0.6827, device='cuda:0', grad_fn=<DivBackward1>)\n",
      "tensor(0.4066, device='cuda:0', grad_fn=<MeanBackward0>)\n"
     ]
    },
    {
     "name": "stderr",
     "output_type": "stream",
     "text": [
      "\r",
      "Epoch 2:   2%|█▌                                                                                        | 59/3342 [00:32<28:02,  1.95batch/s]"
     ]
    },
    {
     "name": "stdout",
     "output_type": "stream",
     "text": [
      "tensor(0.6859, device='cuda:0', grad_fn=<DivBackward1>)\n",
      "tensor(0.4017, device='cuda:0', grad_fn=<MeanBackward0>)\n"
     ]
    },
    {
     "name": "stderr",
     "output_type": "stream",
     "text": [
      "\r",
      "Epoch 2:   2%|█▌                                                                                        | 60/3342 [00:32<27:57,  1.96batch/s]"
     ]
    },
    {
     "name": "stdout",
     "output_type": "stream",
     "text": [
      "tensor(0.6827, device='cuda:0', grad_fn=<DivBackward1>)\n",
      "tensor(0.3934, device='cuda:0', grad_fn=<MeanBackward0>)\n"
     ]
    },
    {
     "name": "stderr",
     "output_type": "stream",
     "text": [
      "\r",
      "Epoch 2:   2%|█▋                                                                                        | 61/3342 [00:33<28:00,  1.95batch/s]"
     ]
    },
    {
     "name": "stdout",
     "output_type": "stream",
     "text": [
      "tensor(0.6781, device='cuda:0', grad_fn=<DivBackward1>)\n",
      "tensor(0.3905, device='cuda:0', grad_fn=<MeanBackward0>)\n"
     ]
    },
    {
     "name": "stderr",
     "output_type": "stream",
     "text": [
      "\r",
      "Epoch 2:   2%|█▋                                                                                        | 62/3342 [00:33<28:18,  1.93batch/s]"
     ]
    },
    {
     "name": "stdout",
     "output_type": "stream",
     "text": [
      "tensor(0.6819, device='cuda:0', grad_fn=<DivBackward1>)\n",
      "tensor(0.3986, device='cuda:0', grad_fn=<MeanBackward0>)\n"
     ]
    },
    {
     "name": "stderr",
     "output_type": "stream",
     "text": [
      "Epoch 2:   2%|█▋                                                                                        | 64/3342 [00:34<27:53,  1.96batch/s]"
     ]
    },
    {
     "name": "stdout",
     "output_type": "stream",
     "text": [
      "tensor(0.6822, device='cuda:0', grad_fn=<DivBackward1>)\n",
      "tensor(0.4081, device='cuda:0', grad_fn=<MeanBackward0>)\n"
     ]
    },
    {
     "name": "stderr",
     "output_type": "stream",
     "text": [
      "\r",
      "Epoch 2:   2%|█▊                                                                                        | 65/3342 [00:35<27:45,  1.97batch/s]"
     ]
    },
    {
     "name": "stdout",
     "output_type": "stream",
     "text": [
      "tensor(0.6814, device='cuda:0', grad_fn=<DivBackward1>)\n",
      "tensor(0.4251, device='cuda:0', grad_fn=<MeanBackward0>)\n"
     ]
    },
    {
     "name": "stderr",
     "output_type": "stream",
     "text": [
      "\r",
      "Epoch 2:   2%|█▊                                                                                        | 66/3342 [00:35<27:43,  1.97batch/s]"
     ]
    },
    {
     "name": "stdout",
     "output_type": "stream",
     "text": [
      "tensor(0.6824, device='cuda:0', grad_fn=<DivBackward1>)\n",
      "tensor(0.4211, device='cuda:0', grad_fn=<MeanBackward0>)\n",
      "tensor(0.6822, device='cuda:0', grad_fn=<DivBackward1>)\n",
      "tensor(0.4131, device='cuda:0', grad_fn=<MeanBackward0>)\n"
     ]
    },
    {
     "name": "stderr",
     "output_type": "stream",
     "text": [
      "\r",
      "Epoch 2:   2%|█▊                                                                                        | 67/3342 [00:36<27:52,  1.96batch/s]"
     ]
    },
    {
     "name": "stdout",
     "output_type": "stream",
     "text": [
      "tensor(0.6804, device='cuda:0', grad_fn=<DivBackward1>)\n",
      "tensor(0.4042, device='cuda:0', grad_fn=<MeanBackward0>)\n"
     ]
    },
    {
     "name": "stderr",
     "output_type": "stream",
     "text": [
      "Epoch 2:   2%|█▊                                                                                        | 69/3342 [00:37<27:37,  1.97batch/s]"
     ]
    },
    {
     "name": "stdout",
     "output_type": "stream",
     "text": [
      "tensor(0.6820, device='cuda:0', grad_fn=<DivBackward1>)\n",
      "tensor(0.4103, device='cuda:0', grad_fn=<MeanBackward0>)\n",
      "tensor(0.6780, device='cuda:0', grad_fn=<DivBackward1>)\n",
      "tensor(0.3945, device='cuda:0', grad_fn=<MeanBackward0>)\n"
     ]
    },
    {
     "name": "stderr",
     "output_type": "stream",
     "text": [
      "\r",
      "Epoch 2:   2%|█▉                                                                                        | 70/3342 [00:37<27:46,  1.96batch/s]"
     ]
    },
    {
     "name": "stdout",
     "output_type": "stream",
     "text": [
      "tensor(0.6818, device='cuda:0', grad_fn=<DivBackward1>)\n",
      "tensor(0.4089, device='cuda:0', grad_fn=<MeanBackward0>)\n"
     ]
    },
    {
     "name": "stderr",
     "output_type": "stream",
     "text": [
      "Epoch 2:   2%|█▉                                                                                        | 72/3342 [00:38<27:34,  1.98batch/s]"
     ]
    },
    {
     "name": "stdout",
     "output_type": "stream",
     "text": [
      "tensor(0.6816, device='cuda:0', grad_fn=<DivBackward1>)\n",
      "tensor(0.4128, device='cuda:0', grad_fn=<MeanBackward0>)\n",
      "tensor(0.6816, device='cuda:0', grad_fn=<DivBackward1>)\n",
      "tensor(0.3967, device='cuda:0', grad_fn=<MeanBackward0>)\n"
     ]
    },
    {
     "name": "stderr",
     "output_type": "stream",
     "text": [
      "\r",
      "Epoch 2:   2%|█▉                                                                                        | 73/3342 [00:39<27:38,  1.97batch/s]"
     ]
    },
    {
     "name": "stdout",
     "output_type": "stream",
     "text": [
      "tensor(0.6800, device='cuda:0', grad_fn=<DivBackward1>)\n",
      "tensor(0.3940, device='cuda:0', grad_fn=<MeanBackward0>)\n"
     ]
    },
    {
     "name": "stderr",
     "output_type": "stream",
     "text": [
      "Epoch 2:   2%|██                                                                                        | 75/3342 [00:40<27:32,  1.98batch/s]"
     ]
    },
    {
     "name": "stdout",
     "output_type": "stream",
     "text": [
      "tensor(0.6808, device='cuda:0', grad_fn=<DivBackward1>)\n",
      "tensor(0.4067, device='cuda:0', grad_fn=<MeanBackward0>)\n",
      "tensor(0.6796, device='cuda:0', grad_fn=<DivBackward1>)\n",
      "tensor(0.3933, device='cuda:0', grad_fn=<MeanBackward0>)\n"
     ]
    },
    {
     "name": "stderr",
     "output_type": "stream",
     "text": [
      "\r",
      "Epoch 2:   2%|██                                                                                        | 76/3342 [00:40<27:35,  1.97batch/s]"
     ]
    },
    {
     "name": "stdout",
     "output_type": "stream",
     "text": [
      "tensor(0.6823, device='cuda:0', grad_fn=<DivBackward1>)\n",
      "tensor(0.4040, device='cuda:0', grad_fn=<MeanBackward0>)\n"
     ]
    },
    {
     "name": "stderr",
     "output_type": "stream",
     "text": [
      "Epoch 2:   2%|██                                                                                        | 78/3342 [00:41<27:36,  1.97batch/s]"
     ]
    },
    {
     "name": "stdout",
     "output_type": "stream",
     "text": [
      "tensor(0.6823, device='cuda:0', grad_fn=<DivBackward1>)\n",
      "tensor(0.4071, device='cuda:0', grad_fn=<MeanBackward0>)\n",
      "tensor(0.6842, device='cuda:0', grad_fn=<DivBackward1>)\n",
      "tensor(0.3975, device='cuda:0', grad_fn=<MeanBackward0>)\n"
     ]
    },
    {
     "name": "stderr",
     "output_type": "stream",
     "text": [
      "\r",
      "Epoch 2:   2%|██▏                                                                                       | 79/3342 [00:42<27:47,  1.96batch/s]"
     ]
    },
    {
     "name": "stdout",
     "output_type": "stream",
     "text": [
      "tensor(0.6848, device='cuda:0', grad_fn=<DivBackward1>)\n",
      "tensor(0.4012, device='cuda:0', grad_fn=<MeanBackward0>)\n"
     ]
    },
    {
     "name": "stderr",
     "output_type": "stream",
     "text": [
      "Epoch 2:   2%|██▏                                                                                       | 81/3342 [00:43<27:41,  1.96batch/s]"
     ]
    },
    {
     "name": "stdout",
     "output_type": "stream",
     "text": [
      "tensor(0.6795, device='cuda:0', grad_fn=<DivBackward1>)\n",
      "tensor(0.4098, device='cuda:0', grad_fn=<MeanBackward0>)\n",
      "tensor(0.6807, device='cuda:0', grad_fn=<DivBackward1>)\n",
      "tensor(0.3895, device='cuda:0', grad_fn=<MeanBackward0>)\n"
     ]
    },
    {
     "name": "stderr",
     "output_type": "stream",
     "text": [
      "\r",
      "Epoch 2:   2%|██▏                                                                                       | 82/3342 [00:43<27:44,  1.96batch/s]"
     ]
    },
    {
     "name": "stdout",
     "output_type": "stream",
     "text": [
      "tensor(0.6813, device='cuda:0', grad_fn=<DivBackward1>)\n",
      "tensor(0.3954, device='cuda:0', grad_fn=<MeanBackward0>)\n"
     ]
    },
    {
     "name": "stderr",
     "output_type": "stream",
     "text": [
      "\r",
      "Epoch 2:   2%|██▏                                                                                       | 83/3342 [00:44<27:49,  1.95batch/s]"
     ]
    },
    {
     "name": "stdout",
     "output_type": "stream",
     "text": [
      "tensor(0.6820, device='cuda:0', grad_fn=<DivBackward1>)\n",
      "tensor(0.3877, device='cuda:0', grad_fn=<MeanBackward0>)\n"
     ]
    },
    {
     "name": "stderr",
     "output_type": "stream",
     "text": [
      "\r",
      "Epoch 2:   3%|██▎                                                                                       | 84/3342 [00:44<27:50,  1.95batch/s]"
     ]
    },
    {
     "name": "stdout",
     "output_type": "stream",
     "text": [
      "tensor(0.6787, device='cuda:0', grad_fn=<DivBackward1>)\n",
      "tensor(0.4135, device='cuda:0', grad_fn=<MeanBackward0>)\n"
     ]
    },
    {
     "name": "stderr",
     "output_type": "stream",
     "text": [
      "\r",
      "Epoch 2:   3%|██▎                                                                                       | 85/3342 [00:45<27:55,  1.94batch/s]"
     ]
    },
    {
     "name": "stdout",
     "output_type": "stream",
     "text": [
      "tensor(0.6844, device='cuda:0', grad_fn=<DivBackward1>)\n",
      "tensor(0.4011, device='cuda:0', grad_fn=<MeanBackward0>)\n"
     ]
    },
    {
     "name": "stderr",
     "output_type": "stream",
     "text": [
      "Epoch 2:   3%|██▎                                                                                       | 87/3342 [00:46<27:57,  1.94batch/s]"
     ]
    },
    {
     "name": "stdout",
     "output_type": "stream",
     "text": [
      "tensor(0.6799, device='cuda:0', grad_fn=<DivBackward1>)\n",
      "tensor(0.4012, device='cuda:0', grad_fn=<MeanBackward0>)\n",
      "tensor(0.6800, device='cuda:0', grad_fn=<DivBackward1>)\n",
      "tensor(0.4042, device='cuda:0', grad_fn=<MeanBackward0>)\n"
     ]
    },
    {
     "name": "stderr",
     "output_type": "stream",
     "text": [
      "Epoch 2:   3%|██▍                                                                                       | 89/3342 [00:47<28:06,  1.93batch/s]"
     ]
    },
    {
     "name": "stdout",
     "output_type": "stream",
     "text": [
      "tensor(0.6806, device='cuda:0', grad_fn=<DivBackward1>)\n",
      "tensor(0.3960, device='cuda:0', grad_fn=<MeanBackward0>)\n",
      "tensor(0.6831, device='cuda:0', grad_fn=<DivBackward1>)\n",
      "tensor(0.3938, device='cuda:0', grad_fn=<MeanBackward0>)\n"
     ]
    },
    {
     "name": "stderr",
     "output_type": "stream",
     "text": [
      "\r",
      "Epoch 2:   3%|██▍                                                                                       | 90/3342 [00:47<28:08,  1.93batch/s]"
     ]
    },
    {
     "name": "stdout",
     "output_type": "stream",
     "text": [
      "tensor(0.6810, device='cuda:0', grad_fn=<DivBackward1>)\n",
      "tensor(0.3888, device='cuda:0', grad_fn=<MeanBackward0>)\n"
     ]
    },
    {
     "name": "stderr",
     "output_type": "stream",
     "text": [
      "\r",
      "Epoch 2:   3%|██▍                                                                                       | 91/3342 [00:48<27:57,  1.94batch/s]"
     ]
    },
    {
     "name": "stdout",
     "output_type": "stream",
     "text": [
      "tensor(0.6793, device='cuda:0', grad_fn=<DivBackward1>)\n",
      "tensor(0.3891, device='cuda:0', grad_fn=<MeanBackward0>)\n"
     ]
    },
    {
     "name": "stderr",
     "output_type": "stream",
     "text": [
      "Epoch 2:   3%|██▌                                                                                       | 93/3342 [00:49<27:47,  1.95batch/s]"
     ]
    },
    {
     "name": "stdout",
     "output_type": "stream",
     "text": [
      "tensor(0.6848, device='cuda:0', grad_fn=<DivBackward1>)\n",
      "tensor(0.3953, device='cuda:0', grad_fn=<MeanBackward0>)\n",
      "tensor(0.6839, device='cuda:0', grad_fn=<DivBackward1>)\n",
      "tensor(0.3897, device='cuda:0', grad_fn=<MeanBackward0>)\n"
     ]
    },
    {
     "name": "stderr",
     "output_type": "stream",
     "text": [
      "\r",
      "Epoch 2:   3%|██▌                                                                                       | 94/3342 [00:50<27:54,  1.94batch/s]"
     ]
    },
    {
     "name": "stdout",
     "output_type": "stream",
     "text": [
      "tensor(0.6789, device='cuda:0', grad_fn=<DivBackward1>)\n",
      "tensor(0.3979, device='cuda:0', grad_fn=<MeanBackward0>)\n"
     ]
    },
    {
     "name": "stderr",
     "output_type": "stream",
     "text": [
      "\r",
      "Epoch 2:   3%|██▌                                                                                       | 95/3342 [00:50<27:57,  1.94batch/s]"
     ]
    },
    {
     "name": "stdout",
     "output_type": "stream",
     "text": [
      "tensor(0.6834, device='cuda:0', grad_fn=<DivBackward1>)\n",
      "tensor(0.4012, device='cuda:0', grad_fn=<MeanBackward0>)\n"
     ]
    },
    {
     "name": "stderr",
     "output_type": "stream",
     "text": [
      "Epoch 2:   3%|██▌                                                                                       | 97/3342 [00:51<27:57,  1.93batch/s]"
     ]
    },
    {
     "name": "stdout",
     "output_type": "stream",
     "text": [
      "tensor(0.6852, device='cuda:0', grad_fn=<DivBackward1>)\n",
      "tensor(0.3901, device='cuda:0', grad_fn=<MeanBackward0>)\n",
      "tensor(0.6814, device='cuda:0', grad_fn=<DivBackward1>)\n",
      "tensor(0.3833, device='cuda:0', grad_fn=<MeanBackward0>)\n"
     ]
    },
    {
     "name": "stderr",
     "output_type": "stream",
     "text": [
      "\r",
      "Epoch 2:   3%|██▋                                                                                       | 98/3342 [00:52<27:53,  1.94batch/s]"
     ]
    },
    {
     "name": "stdout",
     "output_type": "stream",
     "text": [
      "tensor(0.6861, device='cuda:0', grad_fn=<DivBackward1>)\n",
      "tensor(0.3905, device='cuda:0', grad_fn=<MeanBackward0>)\n"
     ]
    },
    {
     "name": "stderr",
     "output_type": "stream",
     "text": [
      "Epoch 2:   3%|██▌                                                                                     | 99/3342 [02:07<1:09:46,  1.29s/batch]\n"
     ]
    },
    {
     "ename": "KeyboardInterrupt",
     "evalue": "",
     "output_type": "error",
     "traceback": [
      "\u001b[0;31m---------------------------------------------------------------------------\u001b[0m",
      "\u001b[0;31mKeyboardInterrupt\u001b[0m                         Traceback (most recent call last)",
      "Input \u001b[0;32mIn [15]\u001b[0m, in \u001b[0;36m<module>\u001b[0;34m\u001b[0m\n\u001b[1;32m      1\u001b[0m best_auc \u001b[38;5;241m=\u001b[39m \u001b[38;5;241m0\u001b[39m\n\u001b[1;32m      2\u001b[0m \u001b[38;5;28;01mfor\u001b[39;00m epoch \u001b[38;5;129;01min\u001b[39;00m \u001b[38;5;28mrange\u001b[39m(\u001b[38;5;241m1\u001b[39m, \u001b[38;5;241m1000\u001b[39m):\n\u001b[0;32m----> 3\u001b[0m     \u001b[43mtrain\u001b[49m\u001b[43m(\u001b[49m\u001b[43mepoch\u001b[49m\u001b[43m)\u001b[49m\n\u001b[1;32m      4\u001b[0m     \u001b[38;5;28mprint\u001b[39m(\u001b[38;5;124m\"\u001b[39m\u001b[38;5;124m***************************\u001b[39m\u001b[38;5;124m\"\u001b[39m)\n\u001b[1;32m      5\u001b[0m     \u001b[38;5;66;03m#print(\"train : \")\u001b[39;00m\n\u001b[1;32m      6\u001b[0m     \u001b[38;5;66;03m#train_auc = test(train_loader,epoch)\u001b[39;00m\n",
      "Input \u001b[0;32mIn [14]\u001b[0m, in \u001b[0;36mtrain\u001b[0;34m(epoch)\u001b[0m\n\u001b[1;32m    201\u001b[0m graph \u001b[38;5;241m=\u001b[39m graph\u001b[38;5;241m.\u001b[39mto(device)  \u001b[38;5;66;03m# Move data to the device\u001b[39;00m\n\u001b[1;32m    203\u001b[0m drop_en \u001b[38;5;241m=\u001b[39m \u001b[38;5;28mbool\u001b[39m(np\u001b[38;5;241m.\u001b[39mrandom\u001b[38;5;241m.\u001b[39mbinomial(\u001b[38;5;241m1\u001b[39m, \u001b[38;5;241m0.5\u001b[39m))\n\u001b[0;32m--> 206\u001b[0m out,dis_invariant \u001b[38;5;241m=\u001b[39m \u001b[43mmodel\u001b[49m\u001b[43m(\u001b[49m\u001b[43mgraph\u001b[49m\u001b[38;5;241;43m.\u001b[39;49m\u001b[43mx\u001b[49m\u001b[43m,\u001b[49m\u001b[43m \u001b[49m\u001b[43mgraph\u001b[49m\u001b[38;5;241;43m.\u001b[39;49m\u001b[43medge_index\u001b[49m\u001b[43m,\u001b[49m\u001b[43m \u001b[49m\u001b[43mgraph\u001b[49m\u001b[38;5;241;43m.\u001b[39;49m\u001b[43mbatch\u001b[49m\u001b[43m,\u001b[49m\u001b[43mdrop_en\u001b[49m\u001b[43m)\u001b[49m  \u001b[38;5;66;03m# Perform a single forward pass.\u001b[39;00m\n\u001b[1;32m    208\u001b[0m adv_loss \u001b[38;5;241m=\u001b[39m criterion_2(dis_invariant, graph\u001b[38;5;241m.\u001b[39mdata)\n\u001b[1;32m    210\u001b[0m loss_V \u001b[38;5;241m=\u001b[39m cos_loss_V(out,graph\u001b[38;5;241m.\u001b[39mclip_f,torch\u001b[38;5;241m.\u001b[39mtensor([\u001b[38;5;241m1.0\u001b[39m])\u001b[38;5;241m.\u001b[39mto(device))\n",
      "File \u001b[0;32m~/anaconda3/envs/Wav2Lip/lib/python3.8/site-packages/torch/nn/modules/module.py:1130\u001b[0m, in \u001b[0;36mModule._call_impl\u001b[0;34m(self, *input, **kwargs)\u001b[0m\n\u001b[1;32m   1126\u001b[0m \u001b[38;5;66;03m# If we don't have any hooks, we want to skip the rest of the logic in\u001b[39;00m\n\u001b[1;32m   1127\u001b[0m \u001b[38;5;66;03m# this function, and just call forward.\u001b[39;00m\n\u001b[1;32m   1128\u001b[0m \u001b[38;5;28;01mif\u001b[39;00m \u001b[38;5;129;01mnot\u001b[39;00m (\u001b[38;5;28mself\u001b[39m\u001b[38;5;241m.\u001b[39m_backward_hooks \u001b[38;5;129;01mor\u001b[39;00m \u001b[38;5;28mself\u001b[39m\u001b[38;5;241m.\u001b[39m_forward_hooks \u001b[38;5;129;01mor\u001b[39;00m \u001b[38;5;28mself\u001b[39m\u001b[38;5;241m.\u001b[39m_forward_pre_hooks \u001b[38;5;129;01mor\u001b[39;00m _global_backward_hooks\n\u001b[1;32m   1129\u001b[0m         \u001b[38;5;129;01mor\u001b[39;00m _global_forward_hooks \u001b[38;5;129;01mor\u001b[39;00m _global_forward_pre_hooks):\n\u001b[0;32m-> 1130\u001b[0m     \u001b[38;5;28;01mreturn\u001b[39;00m \u001b[43mforward_call\u001b[49m\u001b[43m(\u001b[49m\u001b[38;5;241;43m*\u001b[39;49m\u001b[38;5;28;43minput\u001b[39;49m\u001b[43m,\u001b[49m\u001b[43m \u001b[49m\u001b[38;5;241;43m*\u001b[39;49m\u001b[38;5;241;43m*\u001b[39;49m\u001b[43mkwargs\u001b[49m\u001b[43m)\u001b[49m\n\u001b[1;32m   1131\u001b[0m \u001b[38;5;66;03m# Do not call functions when jit is used\u001b[39;00m\n\u001b[1;32m   1132\u001b[0m full_backward_hooks, non_full_backward_hooks \u001b[38;5;241m=\u001b[39m [], []\n",
      "Input \u001b[0;32mIn [14]\u001b[0m, in \u001b[0;36mGCN.forward\u001b[0;34m(self, x, edge_index, batch, drop_en)\u001b[0m\n\u001b[1;32m    123\u001b[0m x \u001b[38;5;241m=\u001b[39m x\u001b[38;5;241m.\u001b[39mrelu()\n\u001b[1;32m    125\u001b[0m x \u001b[38;5;241m=\u001b[39m \u001b[38;5;28mself\u001b[39m\u001b[38;5;241m.\u001b[39mdrop_3(x,drop_en)\n\u001b[0;32m--> 128\u001b[0m x \u001b[38;5;241m=\u001b[39m \u001b[38;5;28;43mself\u001b[39;49m\u001b[38;5;241;43m.\u001b[39;49m\u001b[43mconv4\u001b[49m\u001b[43m(\u001b[49m\u001b[43mx\u001b[49m\u001b[43m,\u001b[49m\u001b[43m \u001b[49m\u001b[43medge_index\u001b[49m\u001b[43m)\u001b[49m\n\u001b[1;32m    129\u001b[0m x  \u001b[38;5;241m=\u001b[39m \u001b[38;5;28mself\u001b[39m\u001b[38;5;241m.\u001b[39mb4(x)\n\u001b[1;32m    130\u001b[0m x \u001b[38;5;241m=\u001b[39m x\u001b[38;5;241m.\u001b[39mrelu()\n",
      "File \u001b[0;32m~/anaconda3/envs/Wav2Lip/lib/python3.8/site-packages/torch/nn/modules/module.py:1130\u001b[0m, in \u001b[0;36mModule._call_impl\u001b[0;34m(self, *input, **kwargs)\u001b[0m\n\u001b[1;32m   1126\u001b[0m \u001b[38;5;66;03m# If we don't have any hooks, we want to skip the rest of the logic in\u001b[39;00m\n\u001b[1;32m   1127\u001b[0m \u001b[38;5;66;03m# this function, and just call forward.\u001b[39;00m\n\u001b[1;32m   1128\u001b[0m \u001b[38;5;28;01mif\u001b[39;00m \u001b[38;5;129;01mnot\u001b[39;00m (\u001b[38;5;28mself\u001b[39m\u001b[38;5;241m.\u001b[39m_backward_hooks \u001b[38;5;129;01mor\u001b[39;00m \u001b[38;5;28mself\u001b[39m\u001b[38;5;241m.\u001b[39m_forward_hooks \u001b[38;5;129;01mor\u001b[39;00m \u001b[38;5;28mself\u001b[39m\u001b[38;5;241m.\u001b[39m_forward_pre_hooks \u001b[38;5;129;01mor\u001b[39;00m _global_backward_hooks\n\u001b[1;32m   1129\u001b[0m         \u001b[38;5;129;01mor\u001b[39;00m _global_forward_hooks \u001b[38;5;129;01mor\u001b[39;00m _global_forward_pre_hooks):\n\u001b[0;32m-> 1130\u001b[0m     \u001b[38;5;28;01mreturn\u001b[39;00m \u001b[43mforward_call\u001b[49m\u001b[43m(\u001b[49m\u001b[38;5;241;43m*\u001b[39;49m\u001b[38;5;28;43minput\u001b[39;49m\u001b[43m,\u001b[49m\u001b[43m \u001b[49m\u001b[38;5;241;43m*\u001b[39;49m\u001b[38;5;241;43m*\u001b[39;49m\u001b[43mkwargs\u001b[49m\u001b[43m)\u001b[49m\n\u001b[1;32m   1131\u001b[0m \u001b[38;5;66;03m# Do not call functions when jit is used\u001b[39;00m\n\u001b[1;32m   1132\u001b[0m full_backward_hooks, non_full_backward_hooks \u001b[38;5;241m=\u001b[39m [], []\n",
      "File \u001b[0;32m~/anaconda3/envs/Wav2Lip/lib/python3.8/site-packages/torch_geometric/nn/conv/cheb_conv.py:151\u001b[0m, in \u001b[0;36mChebConv.forward\u001b[0;34m(self, x, edge_index, edge_weight, batch, lambda_max)\u001b[0m\n\u001b[1;32m    142\u001b[0m \u001b[38;5;28;01mdef\u001b[39;00m \u001b[38;5;21mforward\u001b[39m(\n\u001b[1;32m    143\u001b[0m     \u001b[38;5;28mself\u001b[39m,\n\u001b[1;32m    144\u001b[0m     x: Tensor,\n\u001b[0;32m   (...)\u001b[0m\n\u001b[1;32m    148\u001b[0m     lambda_max: OptTensor \u001b[38;5;241m=\u001b[39m \u001b[38;5;28;01mNone\u001b[39;00m,\n\u001b[1;32m    149\u001b[0m ) \u001b[38;5;241m-\u001b[39m\u001b[38;5;241m>\u001b[39m Tensor:\n\u001b[0;32m--> 151\u001b[0m     edge_index, norm \u001b[38;5;241m=\u001b[39m \u001b[38;5;28;43mself\u001b[39;49m\u001b[38;5;241;43m.\u001b[39;49m\u001b[43m__norm__\u001b[49m\u001b[43m(\u001b[49m\n\u001b[1;32m    152\u001b[0m \u001b[43m        \u001b[49m\u001b[43medge_index\u001b[49m\u001b[43m,\u001b[49m\n\u001b[1;32m    153\u001b[0m \u001b[43m        \u001b[49m\u001b[43mx\u001b[49m\u001b[38;5;241;43m.\u001b[39;49m\u001b[43msize\u001b[49m\u001b[43m(\u001b[49m\u001b[38;5;28;43mself\u001b[39;49m\u001b[38;5;241;43m.\u001b[39;49m\u001b[43mnode_dim\u001b[49m\u001b[43m)\u001b[49m\u001b[43m,\u001b[49m\n\u001b[1;32m    154\u001b[0m \u001b[43m        \u001b[49m\u001b[43medge_weight\u001b[49m\u001b[43m,\u001b[49m\n\u001b[1;32m    155\u001b[0m \u001b[43m        \u001b[49m\u001b[38;5;28;43mself\u001b[39;49m\u001b[38;5;241;43m.\u001b[39;49m\u001b[43mnormalization\u001b[49m\u001b[43m,\u001b[49m\n\u001b[1;32m    156\u001b[0m \u001b[43m        \u001b[49m\u001b[43mlambda_max\u001b[49m\u001b[43m,\u001b[49m\n\u001b[1;32m    157\u001b[0m \u001b[43m        \u001b[49m\u001b[43mdtype\u001b[49m\u001b[38;5;241;43m=\u001b[39;49m\u001b[43mx\u001b[49m\u001b[38;5;241;43m.\u001b[39;49m\u001b[43mdtype\u001b[49m\u001b[43m,\u001b[49m\n\u001b[1;32m    158\u001b[0m \u001b[43m        \u001b[49m\u001b[43mbatch\u001b[49m\u001b[38;5;241;43m=\u001b[39;49m\u001b[43mbatch\u001b[49m\u001b[43m,\u001b[49m\n\u001b[1;32m    159\u001b[0m \u001b[43m    \u001b[49m\u001b[43m)\u001b[49m\n\u001b[1;32m    161\u001b[0m     Tx_0 \u001b[38;5;241m=\u001b[39m x\n\u001b[1;32m    162\u001b[0m     Tx_1 \u001b[38;5;241m=\u001b[39m x  \u001b[38;5;66;03m# Dummy.\u001b[39;00m\n",
      "File \u001b[0;32m~/anaconda3/envs/Wav2Lip/lib/python3.8/site-packages/torch_geometric/nn/conv/cheb_conv.py:119\u001b[0m, in \u001b[0;36mChebConv.__norm__\u001b[0;34m(self, edge_index, num_nodes, edge_weight, normalization, lambda_max, dtype, batch)\u001b[0m\n\u001b[1;32m    109\u001b[0m \u001b[38;5;28;01mdef\u001b[39;00m \u001b[38;5;21m__norm__\u001b[39m(\n\u001b[1;32m    110\u001b[0m     \u001b[38;5;28mself\u001b[39m,\n\u001b[1;32m    111\u001b[0m     edge_index: Tensor,\n\u001b[0;32m   (...)\u001b[0m\n\u001b[1;32m    117\u001b[0m     batch: OptTensor \u001b[38;5;241m=\u001b[39m \u001b[38;5;28;01mNone\u001b[39;00m,\n\u001b[1;32m    118\u001b[0m ):\n\u001b[0;32m--> 119\u001b[0m     edge_index, edge_weight \u001b[38;5;241m=\u001b[39m \u001b[43mget_laplacian\u001b[49m\u001b[43m(\u001b[49m\u001b[43medge_index\u001b[49m\u001b[43m,\u001b[49m\u001b[43m \u001b[49m\u001b[43medge_weight\u001b[49m\u001b[43m,\u001b[49m\n\u001b[1;32m    120\u001b[0m \u001b[43m                                            \u001b[49m\u001b[43mnormalization\u001b[49m\u001b[43m,\u001b[49m\u001b[43m \u001b[49m\u001b[43mdtype\u001b[49m\u001b[43m,\u001b[49m\n\u001b[1;32m    121\u001b[0m \u001b[43m                                            \u001b[49m\u001b[43mnum_nodes\u001b[49m\u001b[43m)\u001b[49m\n\u001b[1;32m    122\u001b[0m     \u001b[38;5;28;01massert\u001b[39;00m edge_weight \u001b[38;5;129;01mis\u001b[39;00m \u001b[38;5;129;01mnot\u001b[39;00m \u001b[38;5;28;01mNone\u001b[39;00m\n\u001b[1;32m    124\u001b[0m     \u001b[38;5;28;01mif\u001b[39;00m lambda_max \u001b[38;5;129;01mis\u001b[39;00m \u001b[38;5;28;01mNone\u001b[39;00m:\n",
      "File \u001b[0;32m~/anaconda3/envs/Wav2Lip/lib/python3.8/site-packages/torch_geometric/utils/get_laplacian.py:62\u001b[0m, in \u001b[0;36mget_laplacian\u001b[0;34m(edge_index, edge_weight, normalization, dtype, num_nodes)\u001b[0m\n\u001b[1;32m     59\u001b[0m \u001b[38;5;28;01mif\u001b[39;00m normalization \u001b[38;5;129;01mis\u001b[39;00m \u001b[38;5;129;01mnot\u001b[39;00m \u001b[38;5;28;01mNone\u001b[39;00m:\n\u001b[1;32m     60\u001b[0m     \u001b[38;5;28;01massert\u001b[39;00m normalization \u001b[38;5;129;01min\u001b[39;00m [\u001b[38;5;124m'\u001b[39m\u001b[38;5;124msym\u001b[39m\u001b[38;5;124m'\u001b[39m, \u001b[38;5;124m'\u001b[39m\u001b[38;5;124mrw\u001b[39m\u001b[38;5;124m'\u001b[39m]  \u001b[38;5;66;03m# 'Invalid normalization'\u001b[39;00m\n\u001b[0;32m---> 62\u001b[0m edge_index, edge_weight \u001b[38;5;241m=\u001b[39m \u001b[43mremove_self_loops\u001b[49m\u001b[43m(\u001b[49m\u001b[43medge_index\u001b[49m\u001b[43m,\u001b[49m\u001b[43m \u001b[49m\u001b[43medge_weight\u001b[49m\u001b[43m)\u001b[49m\n\u001b[1;32m     64\u001b[0m \u001b[38;5;28;01mif\u001b[39;00m edge_weight \u001b[38;5;129;01mis\u001b[39;00m \u001b[38;5;28;01mNone\u001b[39;00m:\n\u001b[1;32m     65\u001b[0m     edge_weight \u001b[38;5;241m=\u001b[39m torch\u001b[38;5;241m.\u001b[39mones(edge_index\u001b[38;5;241m.\u001b[39msize(\u001b[38;5;241m1\u001b[39m), dtype\u001b[38;5;241m=\u001b[39mdtype,\n\u001b[1;32m     66\u001b[0m                              device\u001b[38;5;241m=\u001b[39medge_index\u001b[38;5;241m.\u001b[39mdevice)\n",
      "File \u001b[0;32m~/anaconda3/envs/Wav2Lip/lib/python3.8/site-packages/torch_geometric/utils/loop.py:78\u001b[0m, in \u001b[0;36mremove_self_loops\u001b[0;34m(edge_index, edge_attr)\u001b[0m\n\u001b[1;32m     75\u001b[0m     edge_index, edge_attr \u001b[38;5;241m=\u001b[39m to_edge_index(edge_index)\n\u001b[1;32m     77\u001b[0m mask \u001b[38;5;241m=\u001b[39m edge_index[\u001b[38;5;241m0\u001b[39m] \u001b[38;5;241m!=\u001b[39m edge_index[\u001b[38;5;241m1\u001b[39m]\n\u001b[0;32m---> 78\u001b[0m edge_index \u001b[38;5;241m=\u001b[39m \u001b[43medge_index\u001b[49m\u001b[43m[\u001b[49m\u001b[43m:\u001b[49m\u001b[43m,\u001b[49m\u001b[43m \u001b[49m\u001b[43mmask\u001b[49m\u001b[43m]\u001b[49m\n\u001b[1;32m     80\u001b[0m \u001b[38;5;28;01mif\u001b[39;00m layout \u001b[38;5;129;01mis\u001b[39;00m \u001b[38;5;129;01mnot\u001b[39;00m \u001b[38;5;28;01mNone\u001b[39;00m:\n\u001b[1;32m     81\u001b[0m     \u001b[38;5;28;01massert\u001b[39;00m edge_attr \u001b[38;5;129;01mis\u001b[39;00m \u001b[38;5;129;01mnot\u001b[39;00m \u001b[38;5;28;01mNone\u001b[39;00m\n",
      "\u001b[0;31mKeyboardInterrupt\u001b[0m: "
     ]
    }
   ],
   "source": [
    "best_auc = 0\n",
    "for epoch in range(1, 1000):\n",
    "    train(epoch)\n",
    "    print(\"***************************\")\n",
    "    #print(\"train : \")\n",
    "    #train_auc = test(train_loader,epoch)\n",
    "    print(\"test : \")\n",
    "    test_auc = test(test_loader,epoch)\n",
    "    if test_auc > best_auc:\n",
    "        print(\"improve acc .. .. ..\")\n",
    "        torch.save(model.state_dict(), 'V_10_without_pipline_domain_generalization_tuning.pth')\n",
    "        best_auc = test_auc\n",
    "        continue  \n"
   ]
  },
  {
   "cell_type": "code",
   "execution_count": 11,
   "id": "ac89ff2d",
   "metadata": {},
   "outputs": [
    {
     "name": "stdout",
     "output_type": "stream",
     "text": [
      "GCN(\n",
      "  (conv1): ChebConv(640, 1024, K=2, normalization=sym)\n",
      "  (conv2): ChebConv(1024, 1024, K=2, normalization=sym)\n",
      "  (conv3): ChebConv(1024, 1024, K=2, normalization=sym)\n",
      "  (conv4): ChebConv(1024, 1024, K=2, normalization=sym)\n",
      "  (conv5): ChebConv(2048, 1024, K=2, normalization=sym)\n",
      "  (conv6): ChebConv(1024, 1024, K=2, normalization=sym)\n",
      "  (conv7): ChebConv(1024, 1024, K=2, normalization=sym)\n",
      "  (conv8): ChebConv(1024, 1024, K=2, normalization=sym)\n",
      "  (lin): SimpleTransformer(\n",
      "    (linear): Linear(in_features=1, out_features=8, bias=True)\n",
      "    (encoder_layer): TransformerEncoderLayer(\n",
      "      (self_attn): MultiheadAttention(\n",
      "        (out_proj): NonDynamicallyQuantizableLinear(in_features=8, out_features=8, bias=True)\n",
      "      )\n",
      "      (linear1): Linear(in_features=8, out_features=2048, bias=True)\n",
      "      (dropout): Dropout(p=0.1, inplace=False)\n",
      "      (linear2): Linear(in_features=2048, out_features=8, bias=True)\n",
      "      (norm1): LayerNorm((8,), eps=1e-05, elementwise_affine=True)\n",
      "      (norm2): LayerNorm((8,), eps=1e-05, elementwise_affine=True)\n",
      "      (dropout1): Dropout(p=0.1, inplace=False)\n",
      "      (dropout2): Dropout(p=0.1, inplace=False)\n",
      "    )\n",
      "    (transformer_encoder): TransformerEncoder(\n",
      "      (layers): ModuleList(\n",
      "        (0): TransformerEncoderLayer(\n",
      "          (self_attn): MultiheadAttention(\n",
      "            (out_proj): NonDynamicallyQuantizableLinear(in_features=8, out_features=8, bias=True)\n",
      "          )\n",
      "          (linear1): Linear(in_features=8, out_features=2048, bias=True)\n",
      "          (dropout): Dropout(p=0.1, inplace=False)\n",
      "          (linear2): Linear(in_features=2048, out_features=8, bias=True)\n",
      "          (norm1): LayerNorm((8,), eps=1e-05, elementwise_affine=True)\n",
      "          (norm2): LayerNorm((8,), eps=1e-05, elementwise_affine=True)\n",
      "          (dropout1): Dropout(p=0.1, inplace=False)\n",
      "          (dropout2): Dropout(p=0.1, inplace=False)\n",
      "        )\n",
      "        (1): TransformerEncoderLayer(\n",
      "          (self_attn): MultiheadAttention(\n",
      "            (out_proj): NonDynamicallyQuantizableLinear(in_features=8, out_features=8, bias=True)\n",
      "          )\n",
      "          (linear1): Linear(in_features=8, out_features=2048, bias=True)\n",
      "          (dropout): Dropout(p=0.1, inplace=False)\n",
      "          (linear2): Linear(in_features=2048, out_features=8, bias=True)\n",
      "          (norm1): LayerNorm((8,), eps=1e-05, elementwise_affine=True)\n",
      "          (norm2): LayerNorm((8,), eps=1e-05, elementwise_affine=True)\n",
      "          (dropout1): Dropout(p=0.1, inplace=False)\n",
      "          (dropout2): Dropout(p=0.1, inplace=False)\n",
      "        )\n",
      "        (2): TransformerEncoderLayer(\n",
      "          (self_attn): MultiheadAttention(\n",
      "            (out_proj): NonDynamicallyQuantizableLinear(in_features=8, out_features=8, bias=True)\n",
      "          )\n",
      "          (linear1): Linear(in_features=8, out_features=2048, bias=True)\n",
      "          (dropout): Dropout(p=0.1, inplace=False)\n",
      "          (linear2): Linear(in_features=2048, out_features=8, bias=True)\n",
      "          (norm1): LayerNorm((8,), eps=1e-05, elementwise_affine=True)\n",
      "          (norm2): LayerNorm((8,), eps=1e-05, elementwise_affine=True)\n",
      "          (dropout1): Dropout(p=0.1, inplace=False)\n",
      "          (dropout2): Dropout(p=0.1, inplace=False)\n",
      "        )\n",
      "        (3): TransformerEncoderLayer(\n",
      "          (self_attn): MultiheadAttention(\n",
      "            (out_proj): NonDynamicallyQuantizableLinear(in_features=8, out_features=8, bias=True)\n",
      "          )\n",
      "          (linear1): Linear(in_features=8, out_features=2048, bias=True)\n",
      "          (dropout): Dropout(p=0.1, inplace=False)\n",
      "          (linear2): Linear(in_features=2048, out_features=8, bias=True)\n",
      "          (norm1): LayerNorm((8,), eps=1e-05, elementwise_affine=True)\n",
      "          (norm2): LayerNorm((8,), eps=1e-05, elementwise_affine=True)\n",
      "          (dropout1): Dropout(p=0.1, inplace=False)\n",
      "          (dropout2): Dropout(p=0.1, inplace=False)\n",
      "        )\n",
      "        (4): TransformerEncoderLayer(\n",
      "          (self_attn): MultiheadAttention(\n",
      "            (out_proj): NonDynamicallyQuantizableLinear(in_features=8, out_features=8, bias=True)\n",
      "          )\n",
      "          (linear1): Linear(in_features=8, out_features=2048, bias=True)\n",
      "          (dropout): Dropout(p=0.1, inplace=False)\n",
      "          (linear2): Linear(in_features=2048, out_features=8, bias=True)\n",
      "          (norm1): LayerNorm((8,), eps=1e-05, elementwise_affine=True)\n",
      "          (norm2): LayerNorm((8,), eps=1e-05, elementwise_affine=True)\n",
      "          (dropout1): Dropout(p=0.1, inplace=False)\n",
      "          (dropout2): Dropout(p=0.1, inplace=False)\n",
      "        )\n",
      "      )\n",
      "    )\n",
      "    (fc): Linear(in_features=8192, out_features=512, bias=True)\n",
      "  )\n",
      "  (lin_2): SimpleTransformer(\n",
      "    (linear): Linear(in_features=1, out_features=8, bias=True)\n",
      "    (encoder_layer): TransformerEncoderLayer(\n",
      "      (self_attn): MultiheadAttention(\n",
      "        (out_proj): NonDynamicallyQuantizableLinear(in_features=8, out_features=8, bias=True)\n",
      "      )\n",
      "      (linear1): Linear(in_features=8, out_features=2048, bias=True)\n",
      "      (dropout): Dropout(p=0.1, inplace=False)\n",
      "      (linear2): Linear(in_features=2048, out_features=8, bias=True)\n",
      "      (norm1): LayerNorm((8,), eps=1e-05, elementwise_affine=True)\n",
      "      (norm2): LayerNorm((8,), eps=1e-05, elementwise_affine=True)\n",
      "      (dropout1): Dropout(p=0.1, inplace=False)\n",
      "      (dropout2): Dropout(p=0.1, inplace=False)\n",
      "    )\n",
      "    (transformer_encoder): TransformerEncoder(\n",
      "      (layers): ModuleList(\n",
      "        (0): TransformerEncoderLayer(\n",
      "          (self_attn): MultiheadAttention(\n",
      "            (out_proj): NonDynamicallyQuantizableLinear(in_features=8, out_features=8, bias=True)\n",
      "          )\n",
      "          (linear1): Linear(in_features=8, out_features=2048, bias=True)\n",
      "          (dropout): Dropout(p=0.1, inplace=False)\n",
      "          (linear2): Linear(in_features=2048, out_features=8, bias=True)\n",
      "          (norm1): LayerNorm((8,), eps=1e-05, elementwise_affine=True)\n",
      "          (norm2): LayerNorm((8,), eps=1e-05, elementwise_affine=True)\n",
      "          (dropout1): Dropout(p=0.1, inplace=False)\n",
      "          (dropout2): Dropout(p=0.1, inplace=False)\n",
      "        )\n",
      "        (1): TransformerEncoderLayer(\n",
      "          (self_attn): MultiheadAttention(\n",
      "            (out_proj): NonDynamicallyQuantizableLinear(in_features=8, out_features=8, bias=True)\n",
      "          )\n",
      "          (linear1): Linear(in_features=8, out_features=2048, bias=True)\n",
      "          (dropout): Dropout(p=0.1, inplace=False)\n",
      "          (linear2): Linear(in_features=2048, out_features=8, bias=True)\n",
      "          (norm1): LayerNorm((8,), eps=1e-05, elementwise_affine=True)\n",
      "          (norm2): LayerNorm((8,), eps=1e-05, elementwise_affine=True)\n",
      "          (dropout1): Dropout(p=0.1, inplace=False)\n",
      "          (dropout2): Dropout(p=0.1, inplace=False)\n",
      "        )\n",
      "        (2): TransformerEncoderLayer(\n",
      "          (self_attn): MultiheadAttention(\n",
      "            (out_proj): NonDynamicallyQuantizableLinear(in_features=8, out_features=8, bias=True)\n",
      "          )\n",
      "          (linear1): Linear(in_features=8, out_features=2048, bias=True)\n",
      "          (dropout): Dropout(p=0.1, inplace=False)\n",
      "          (linear2): Linear(in_features=2048, out_features=8, bias=True)\n",
      "          (norm1): LayerNorm((8,), eps=1e-05, elementwise_affine=True)\n",
      "          (norm2): LayerNorm((8,), eps=1e-05, elementwise_affine=True)\n",
      "          (dropout1): Dropout(p=0.1, inplace=False)\n",
      "          (dropout2): Dropout(p=0.1, inplace=False)\n",
      "        )\n",
      "        (3): TransformerEncoderLayer(\n",
      "          (self_attn): MultiheadAttention(\n",
      "            (out_proj): NonDynamicallyQuantizableLinear(in_features=8, out_features=8, bias=True)\n",
      "          )\n",
      "          (linear1): Linear(in_features=8, out_features=2048, bias=True)\n",
      "          (dropout): Dropout(p=0.1, inplace=False)\n",
      "          (linear2): Linear(in_features=2048, out_features=8, bias=True)\n",
      "          (norm1): LayerNorm((8,), eps=1e-05, elementwise_affine=True)\n",
      "          (norm2): LayerNorm((8,), eps=1e-05, elementwise_affine=True)\n",
      "          (dropout1): Dropout(p=0.1, inplace=False)\n",
      "          (dropout2): Dropout(p=0.1, inplace=False)\n",
      "        )\n",
      "        (4): TransformerEncoderLayer(\n",
      "          (self_attn): MultiheadAttention(\n",
      "            (out_proj): NonDynamicallyQuantizableLinear(in_features=8, out_features=8, bias=True)\n",
      "          )\n",
      "          (linear1): Linear(in_features=8, out_features=2048, bias=True)\n",
      "          (dropout): Dropout(p=0.1, inplace=False)\n",
      "          (linear2): Linear(in_features=2048, out_features=8, bias=True)\n",
      "          (norm1): LayerNorm((8,), eps=1e-05, elementwise_affine=True)\n",
      "          (norm2): LayerNorm((8,), eps=1e-05, elementwise_affine=True)\n",
      "          (dropout1): Dropout(p=0.1, inplace=False)\n",
      "          (dropout2): Dropout(p=0.1, inplace=False)\n",
      "        )\n",
      "      )\n",
      "    )\n",
      "    (fc): Linear(in_features=4096, out_features=2, bias=True)\n",
      "  )\n",
      "  (drop_1): RandomNodeDropout()\n",
      "  (drop_2): RandomNodeDropout()\n",
      "  (drop_3): RandomNodeDropout()\n",
      "  (drop_4): RandomNodeDropout()\n",
      "  (drop_5): RandomNodeDropout()\n",
      "  (drop_6): RandomNodeDropout()\n",
      "  (b1): BatchNorm(1024)\n",
      "  (b2): BatchNorm(1024)\n",
      "  (b3): BatchNorm(1024)\n",
      "  (b4): BatchNorm(1024)\n",
      "  (b5): BatchNorm(1024)\n",
      "  (b6): BatchNorm(1024)\n",
      "  (b7): BatchNorm(1024)\n",
      "  (dis): Discriminator(\n",
      "    (fc1): Linear(in_features=512, out_features=256, bias=True)\n",
      "    (fc2): Linear(in_features=256, out_features=3, bias=True)\n",
      "    (ad_net): Sequential(\n",
      "      (0): Linear(in_features=512, out_features=256, bias=True)\n",
      "      (1): ReLU(inplace=True)\n",
      "      (2): Dropout(p=0.5, inplace=False)\n",
      "      (3): Linear(in_features=256, out_features=3, bias=True)\n",
      "    )\n",
      "    (grl_layer): GRL()\n",
      "  )\n",
      ")\n"
     ]
    }
   ],
   "source": [
    "class RandomNodeDropout(nn.Module):\n",
    "    def __init__(self, drop_prob=0.3):\n",
    "        super(RandomNodeDropout, self).__init__()\n",
    "        self.drop_prob = drop_prob\n",
    "\n",
    "    def forward(self, x, enabled=True):\n",
    "        if not self.training or not enabled:\n",
    "            return x\n",
    "        \n",
    "        num_rows = x.size(0)\n",
    "        mask = torch.rand(num_rows, device=x.device) > self.drop_prob\n",
    "        mask = mask.float().unsqueeze(1).expand_as(x)\n",
    "        x = x * mask\n",
    "        \n",
    "        return x\n",
    "\n",
    "soft = torch.nn.Softmax(dim=1)\n",
    "\n",
    "num_domain = 3\n",
    "class GRL(nn.Module):\n",
    "\n",
    "    def __init__(self, max_iter):\n",
    "        super(GRL, self).__init__()\n",
    "        self.iter_num = 0\n",
    "        self.alpha = 10\n",
    "        self.low = 0.0\n",
    "        self.high = 1.0\n",
    "        self.max_iter = max_iter\n",
    "\n",
    "    def forward(self, input):\n",
    "        self.iter_num += 1\n",
    "        return input * 1.0\n",
    "\n",
    "    def backward(self, gradOutput):\n",
    "        coeff = np.float(2.0 * (self.high - self.low) / (1.0 + np.exp(-self.alpha * self.iter_num / self.max_iter))\n",
    "                         - (self.high - self.low) + self.low)\n",
    "        return -coeff*10* gradOutput\n",
    "\n",
    "num_node  =train_dataset.num_node_features\n",
    "class Discriminator(nn.Module):\n",
    "    def __init__(self, max_iter):\n",
    "        super(Discriminator, self).__init__()\n",
    "        self.fc1 = nn.Linear(512, 256)\n",
    "        self.fc2 = nn.Linear(256, num_domain)\n",
    "        self.ad_net = nn.Sequential(\n",
    "            self.fc1,\n",
    "            nn.ReLU(inplace=True),\n",
    "            nn.Dropout(0.5),\n",
    "            self.fc2\n",
    "        )\n",
    "        self.grl_layer = GRL(max_iter)\n",
    "\n",
    "    def forward(self, feature):\n",
    "        adversarial_out = self.ad_net(self.grl_layer(feature))\n",
    "        return adversarial_out\n",
    "\n",
    "\n",
    "\n",
    "class GCN(torch.nn.Module):\n",
    "    def __init__(self, hidden_channels,max_iter=4000):\n",
    "        super(GCN, self).__init__()\n",
    "        torch.manual_seed(12345)\n",
    "        self.conv1 = ChebConv(num_node, 1024,2)\n",
    "        self.conv2 = ChebConv(1024, 1024,2)\n",
    "        self.conv3 = ChebConv(1024, 1024,2)\n",
    "        self.conv4 = ChebConv(1024, 1024,2)\n",
    "        self.conv5 = ChebConv(1024*2, 1024,2)\n",
    "        self.conv6 = ChebConv(1024, 1024,2)\n",
    "        self.conv7 = ChebConv(1024, 1024,2)\n",
    "        self.conv8 = ChebConv(1024, 1024,2)\n",
    "        self.lin = SimpleTransformer(1024,8,5,8, 512)\n",
    "        self.lin_2 = SimpleTransformer(512,8,5,8, 2)\n",
    "        \n",
    "        self.drop_1 = RandomNodeDropout(drop_prob=0.3)\n",
    "        self.drop_2 = RandomNodeDropout(drop_prob=0.3)\n",
    "        self.drop_3 = RandomNodeDropout(drop_prob=0.3)\n",
    "        self.drop_4 = RandomNodeDropout(drop_prob=0.3)\n",
    "        self.drop_5 = RandomNodeDropout(drop_prob=0.3)\n",
    "        self.drop_6 = RandomNodeDropout(drop_prob=0.3)\n",
    "        \n",
    "        \n",
    "        self.b1 = BatchNorm(1024)\n",
    "        self.b2 = BatchNorm(1024)\n",
    "        self.b3 = BatchNorm(1024)\n",
    "        self.b4 = BatchNorm(1024)\n",
    "        self.b5 = BatchNorm(1024)\n",
    "        self.b6 = BatchNorm(1024)\n",
    "        self.b7 = BatchNorm(1024)\n",
    "        \n",
    "        self.dis = Discriminator(max_iter)\n",
    "        \n",
    "#         self.conv1_node_class = GraphSAGE(hidden_channels, hidden_channels,2,dropout=0.5)\n",
    "        \n",
    "#         self.conv2_node_class = GraphSAGE(hidden_channels, hidden_channels,2,dropout=0.5)\n",
    "        \n",
    "#         self.lin_node_class = SimpleTransformer_2(64,10,8)\n",
    "        \n",
    "\n",
    "        \n",
    "        #self.tcn = Simple1DCNN()\n",
    "        \n",
    "    def forward(self, x, edge_index, batch,drop_en):\n",
    "        \n",
    "        #print(\"graph fea :\",graph_level_feature.shape ,edge_index.shape )\n",
    "        \n",
    "\n",
    "        x = self.conv1(x, edge_index)\n",
    "        x  = self.b1(x)\n",
    "        x = x.relu()\n",
    "        \n",
    "        x = self.drop_1(x,drop_en)\n",
    "        \n",
    "        x = self.conv2(x, edge_index)\n",
    "        x  = self.b2(x)\n",
    "        x = x.relu()\n",
    "        \n",
    "        x_2 = x\n",
    "        \n",
    "        x = self.drop_2(x,drop_en)\n",
    "                \n",
    "                    \n",
    "        x = self.conv3(x, edge_index)\n",
    "        x  = self.b3(x)\n",
    "        x = x.relu()\n",
    "        \n",
    "        x = self.drop_3(x,drop_en)\n",
    "                \n",
    "        \n",
    "        x = self.conv4(x, edge_index)\n",
    "        x  = self.b4(x)\n",
    "        x = x.relu()\n",
    "        \n",
    "        x = self.drop_4(x,drop_en)\n",
    "        \n",
    "        \n",
    "        x = torch.cat((x,x_2),dim=1) #skip connection\n",
    "        \n",
    "        x = self.conv5(x, edge_index)\n",
    "        x  = self.b5(x)\n",
    "        x = x.relu()\n",
    "        \n",
    "        x = self.drop_5(x,drop_en)\n",
    "        \n",
    "        \n",
    "        x = self.conv6(x, edge_index)\n",
    "        x  = self.b6(x)\n",
    "        x = x.relu()\n",
    "        \n",
    "        x = self.drop_6(x,drop_en)\n",
    "        \n",
    "        x = self.conv7(x, edge_index)\n",
    "        x  = self.b7(x)\n",
    "        x = x.relu()\n",
    "        \n",
    "        \n",
    "        x = self.conv8(x, edge_index)\n",
    "        # 2. Readout layer\n",
    "        x = global_mean_pool(x, batch)  # [batch_size, hidden_channels]\n",
    "        \n",
    "        #x = torch.concat((x,clip_f),dim=1)\n",
    "        #print(x.shape)\n",
    "        \n",
    "        x = F.dropout(x, p=0.5, training=self.training)\n",
    "        \n",
    "        x = torch.unsqueeze(x,2)\n",
    "        #print(x.shape)\n",
    "        \n",
    "        x = self.lin(x)\n",
    "        \n",
    "        embeding_out = x\n",
    "        \n",
    "        #print(x.shape)\n",
    "        x = torch.unsqueeze(x,2)\n",
    "        \n",
    "        x = self.lin_2(x)\n",
    "        \n",
    "        dis_invariant = self.dis(embeding_out)\n",
    "        \n",
    "\n",
    "        \n",
    "        return embeding_out ,dis_invariant ,x\n",
    "\n",
    "model = GCN(hidden_channels=128).to(device)\n",
    "print(model)\n",
    "\n",
    "def check_folder(log_dir):\n",
    "    if not os.path.exists(log_dir):\n",
    "        os.makedirs(log_dir)\n",
    "    return log_dir\n",
    "\n",
    "optimizer = torch.optim.Adam(model.parameters(), lr=0.0001)\n",
    "cls_loss = torch.nn.CrossEntropyLoss()\n",
    "# criterion= nn.BCELoss()\n",
    "# criterion_node_class=  torch.nn.CrossEntropyLoss()\n",
    "criterion_2 = torch.nn.CrossEntropyLoss()\n",
    "cos_loss_V = torch.nn.CosineEmbeddingLoss()\n",
    "cos_loss_T = torch.nn.CosineEmbeddingLoss()\n",
    "\n",
    "def train(epoch):\n",
    "    model.train()\n",
    "    losses_adv_loss=0\n",
    "    losses_loss_V=0\n",
    "    total_loss = 0\n",
    "    losses_loss_T = 0\n",
    "    losses_loss_cls=0\n",
    "    cos = torch.nn.CosineSimilarity()\n",
    "    progress_bar = tqdm(train_loader, desc=f'Epoch {epoch+1}', unit='batch')\n",
    "    for graph in progress_bar:  # Iterate in batches over the training dataset.\n",
    "        graph = graph.to(device)  # Move data to the device\n",
    "        \n",
    "        drop_en = bool(np.random.binomial(1, 0.5))\n",
    "        \n",
    "        \n",
    "        out,dis_invariant,out_2 = model(graph.x, graph.edge_index, graph.batch,drop_en)  # Perform a single forward pass.\n",
    "        \n",
    "        adv_loss = criterion_2(dis_invariant, graph.data)\n",
    "        \n",
    "        loss_V = cos_loss_V(out,graph.clip_f,torch.tensor([1.0]).to(device))\n",
    "        \n",
    "        loss_T = cos_loss_T(out,graph.text_enc,torch.tensor([1.0]).to(device))\n",
    "        \n",
    "#         logit_l = torch.unsqueeze(cos(out,torch.tensor(live_arr).to(device)),dim=1)\n",
    "#         logit_s = torch.unsqueeze(cos(out,torch.tensor(spoof_arr).to(device)),dim=1)        \n",
    "\n",
    "        \n",
    "        #print(logit_l.shape,logit_s.shape)\n",
    "        \n",
    "        #logits = torch.cat((logit_l, logit_s), dim=1)\n",
    "        #print(logits.shape ,graph.y.shape)\n",
    "        \n",
    "        loss_cls  = cls_loss(out_2,graph.y.float())\n",
    "        \n",
    "        \n",
    "        loss_all = adv_loss + loss_V + loss_T + loss_cls\n",
    "\n",
    "        \n",
    "        loss_all.backward()  # Derive gradients.\n",
    "        optimizer.step()  # Update parameters based on gradients.\n",
    "        optimizer.zero_grad()  # Clear gradients.\n",
    "        total_loss = loss_all + total_loss\n",
    "        losses_adv_loss = adv_loss + losses_adv_loss\n",
    "        losses_loss_V = loss_V + losses_loss_V\n",
    "        losses_loss_T = loss_T + losses_loss_T\n",
    "        losses_loss_cls = loss_cls + losses_loss_cls\n",
    "\n",
    "\n",
    "    print(\"/////////////////////////\")\n",
    "    print(\"classification loss : \" , losses_loss_cls/len(train_loader.dataset))\n",
    "    print(\"adverserial loss : \" ,losses_adv_loss/len(train_loader.dataset))  \n",
    "    print(\"V loss : \" , losses_loss_V/len(train_loader.dataset))\n",
    "    print(\"T  loss : \" , losses_loss_T/len(train_loader.dataset))\n",
    "    print(\"total loss : \" ,total_loss/len(train_loader.dataset) )\n",
    "    print(\"////////////////////////////////////\")\n",
    "def test(loader,epoch, temp):\n",
    "    score_path = os.path.join(\"/home/hassan-hossein/single_image_graph_face_anti_spoofing/train/Scores\", \"epoch_{}\".format(epoch+1))\n",
    "    check_folder(score_path)\n",
    "    model.eval()\n",
    "    cos = torch.nn.CosineSimilarity()\n",
    "    with torch.no_grad():\n",
    "        scores_list = []\n",
    "\n",
    "        correct = 0\n",
    "        s= 0\n",
    "        progress_bar = tqdm(loader, desc=f'Epoch {epoch+1}', unit='batch')\n",
    "        for graph in progress_bar:  # Iterate in batches over the training/test dataset.\n",
    "                \n",
    "            graph = graph.to(device)  # Move data to the device\n",
    "            _,_,out_2= model(graph.x, graph.edge_index, graph.batch,graph.clip_f)\n",
    "#             logit_l = torch.unsqueeze(cos(embeding,torch.tensor(live_arr).to(device)),dim=1)\n",
    "#             logit_s = torch.unsqueeze(cos(embeding,torch.tensor(spoof_arr).to(device)),dim=1)\n",
    "            logit = F.softmax(out_2/temp, dim=1)[:,0] \n",
    "            live_label = graph.y.float()[:,0]\n",
    "            #print(live_label.shape)\n",
    "            for i in range(len(logit)):\n",
    "                        scores_list.append(\"{} {}\\n\".format(logit[i].item(), live_label[i].item()))\n",
    "  # Check against ground-truth labels.\n",
    "    map_score_val_filename = os.path.join(score_path, \"score.txt\")\n",
    "    with open(map_score_val_filename, 'w') as file:\n",
    "                file.writelines(scores_list)\n",
    "    print(\"score: write test scores to {}\".format(map_score_val_filename))\n",
    "    test_ACC, fpr, FRR, HTER, auc_test, test_err, tpr = performances_val(map_score_val_filename)\n",
    "    print(\"epoch:{:d}, test:  val_ACC={:.4f}, HTER={:.4f}, AUC={:.4f}, val_err={:.4f}, ACC={:.4f}, TPR={:.4f}\".format(\n",
    "        epoch + 1, test_ACC, HTER, auc_test, test_err, test_ACC, tpr))  \n",
    "    return auc_test\n",
    "\n"
   ]
  },
  {
   "cell_type": "code",
   "execution_count": null,
   "id": "179b3487",
   "metadata": {},
   "outputs": [
    {
     "name": "stderr",
     "output_type": "stream",
     "text": [
      "Epoch 2: 100%|████████████████████████████████████████████████████████████████████████████████████████| 3342/3342 [31:07<00:00,  1.79batch/s]\n"
     ]
    },
    {
     "name": "stdout",
     "output_type": "stream",
     "text": [
      "/////////////////////////\n",
      "classification loss :  tensor(0.0005, device='cuda:0', grad_fn=<DivBackward0>)\n",
      "adverserial loss :  tensor(0.0001, device='cuda:0', grad_fn=<DivBackward0>)\n",
      "V loss :  tensor(0.0049, device='cuda:0', grad_fn=<DivBackward0>)\n",
      "T  loss :  tensor(0.0029, device='cuda:0', grad_fn=<DivBackward0>)\n",
      "total loss :  tensor(0.0085, device='cuda:0', grad_fn=<DivBackward0>)\n",
      "////////////////////////////////////\n",
      "***************************\n",
      "test : \n"
     ]
    },
    {
     "name": "stderr",
     "output_type": "stream",
     "text": [
      "Epoch 2: 100%|██████████████████████████████████████████████████████████████████████████████████████████| 349/349 [01:31<00:00,  3.80batch/s]\n"
     ]
    },
    {
     "name": "stdout",
     "output_type": "stream",
     "text": [
      "score: write test scores to /home/hassan-hossein/single_image_graph_face_anti_spoofing/train/Scores/epoch_2/score.txt\n",
      "epoch:2, test:  val_ACC=0.6770, HTER=0.3231, AUC=0.6820, val_err=0.3231, ACC=0.6770, TPR=0.2574\n",
      "improve acc .. .. ..\n"
     ]
    },
    {
     "name": "stderr",
     "output_type": "stream",
     "text": [
      "Epoch 3: 100%|████████████████████████████████████████████████████████████████████████████████████████| 3342/3342 [31:07<00:00,  1.79batch/s]\n"
     ]
    },
    {
     "name": "stdout",
     "output_type": "stream",
     "text": [
      "/////////////////////////\n",
      "classification loss :  tensor(9.2063e-05, device='cuda:0', grad_fn=<DivBackward0>)\n",
      "adverserial loss :  tensor(2.6431e-05, device='cuda:0', grad_fn=<DivBackward0>)\n",
      "V loss :  tensor(0.0048, device='cuda:0', grad_fn=<DivBackward0>)\n",
      "T  loss :  tensor(0.0028, device='cuda:0', grad_fn=<DivBackward0>)\n",
      "total loss :  tensor(0.0077, device='cuda:0', grad_fn=<DivBackward0>)\n",
      "////////////////////////////////////\n",
      "***************************\n",
      "test : \n"
     ]
    },
    {
     "name": "stderr",
     "output_type": "stream",
     "text": [
      "Epoch 3: 100%|██████████████████████████████████████████████████████████████████████████████████████████| 349/349 [01:30<00:00,  3.86batch/s]\n"
     ]
    },
    {
     "name": "stdout",
     "output_type": "stream",
     "text": [
      "score: write test scores to /home/hassan-hossein/single_image_graph_face_anti_spoofing/train/Scores/epoch_3/score.txt\n",
      "epoch:3, test:  val_ACC=0.6479, HTER=0.3521, AUC=0.6693, val_err=0.3521, ACC=0.6479, TPR=0.0505\n"
     ]
    },
    {
     "name": "stderr",
     "output_type": "stream",
     "text": [
      "Epoch 4:   2%|█▊                                                                                        | 67/3342 [00:41<30:41,  1.78batch/s]"
     ]
    }
   ],
   "source": [
    "best_auc = 0\n",
    "for epoch in range(1, 1000):\n",
    "    train(epoch)\n",
    "    print(\"***************************\")\n",
    "    #print(\"train : \")\n",
    "    #train_auc = test(train_loader,epoch)\n",
    "    print(\"test : \")\n",
    "    test_auc = test(test_loader,epoch)\n",
    "    if test_auc > best_auc:\n",
    "        print(\"improve acc .. .. ..\")\n",
    "        for tmp in np.\n",
    "        torch.save(model.state_dict(), 'V_10_without_pipline_domain_generalization_tuning.pth')\n",
    "        best_auc = test_auc\n",
    "        continue  \n"
   ]
  },
  {
   "cell_type": "code",
   "execution_count": 7,
   "id": "17e930b6",
   "metadata": {},
   "outputs": [
    {
     "data": {
      "image/png": "[encoded data removed]",
      "text/plain": [
       "<Figure size 1008x720 with 1 Axes>"
      ]
     },
     "metadata": {
      "needs_background": "light"
     },
     "output_type": "display_data"
    }
   ],
   "source": [
    "# To optimize the calculation, we'll use a reduced step size for visualization\n",
    "import numpy as np\n",
    "import matplotlib.pyplot as plt\n",
    "from scipy.stats import binom\n",
    "\n",
    "# Reinitialize parameters after the reset\n",
    "n = 468  # Number of nodes\n",
    "m = 3    # Minimum neighbors\n",
    "l = 6    # Maximum neighbors\n",
    "k = 6    # Number of steps\n",
    "\n",
    "# Define a higher resolution for b values\n",
    "b_values_high_res = np.linspace(0.001, 1, 200)  # Reduced number for optimization\n",
    "\n",
    "# Update range for s values from 1 to 400\n",
    "s_values_range_extended_400 = range(1, 300, 10)  # Use a step of 10 for faster processing\n",
    "\n",
    "# Initialize a dictionary to store probabilities for different s values and b values\n",
    "probabilities_dict_extended_400 = {}\n",
    "\n",
    "# Loop through each value of s from 1 to 400 with step size of 10\n",
    "for s in s_values_range_extended_400:\n",
    "    probabilities_for_s = []\n",
    "    \n",
    "    # Loop through more refined possible values of b\n",
    "    for b in b_values_high_res:\n",
    "        # Calculate the average probability that a hub is black\n",
    "        p = sum([(1 - (1 - b)**k)**(d + 1) for d in range(m, l + 1)]) / (l - m + 1)\n",
    "        \n",
    "        # Calculate the probability that at least s hubs are black\n",
    "        probability_at_least_s_hubs = 1 - binom.cdf(s - 1, n, p)\n",
    "        \n",
    "        # Store the probability for the current b value\n",
    "        probabilities_for_s.append(probability_at_least_s_hubs)\n",
    "    \n",
    "    # Store the list of probabilities for the current s in the dictionary\n",
    "    probabilities_dict_extended_400[s] = probabilities_for_s\n",
    "\n",
    "# Plotting the probabilities for s = 1 to s = 400 (step of 10) with different b values\n",
    "plt.figure(figsize=(14, 10))\n",
    "\n",
    "# Loop to plot each line for s from 1 to 400 with step size of 10\n",
    "for s in s_values_range_extended_400:\n",
    "    plt.plot(b_values_high_res, probabilities_dict_extended_400[s], label=f's={s}')\n",
    "\n",
    "plt.xlabel('Probability b')\n",
    "plt.ylabel('P(X >= s)')\n",
    "plt.title('Probability P(X >= s) for Different b Values and s = 1 to s = 400 (step 10)')\n",
    "plt.grid(True)\n",
    "plt.legend(loc='upper right', bbox_to_anchor=(1.15, 1), title='s values', ncol=2)\n",
    "plt.show()\n"
   ]
  },
  {
   "cell_type": "code",
   "execution_count": 9,
   "id": "fcfb0b93",
   "metadata": {},
   "outputs": [
    {
     "data": {
      "image/png": "[encoded data removed]",
      "text/plain": [
       "<Figure size 1008x720 with 1 Axes>"
      ]
     },
     "metadata": {
      "needs_background": "light"
     },
     "output_type": "display_data"
    }
   ],
   "source": [
    "# Re-import necessary libraries due to reset\n",
    "import numpy as np\n",
    "import matplotlib.pyplot as plt\n",
    "from scipy.stats import binom\n",
    "\n",
    "# Reinitialize parameters due to reset\n",
    "n = 468  # Number of nodes\n",
    "m = 3    # Minimum neighbors\n",
    "l = 6    # Maximum neighbors\n",
    "k = 6    # Number of steps\n",
    "\n",
    "# Define a higher resolution for b values\n",
    "b_values_high_res = np.linspace(0.001, 1, 200)  # Refined probability values for b\n",
    "\n",
    "# Update range for s values from 1 to 100\n",
    "s_values_range_100 = range(1, 50)\n",
    "\n",
    "# Initialize a dictionary to store probabilities for different s values and b values\n",
    "probabilities_dict_s100 = {}\n",
    "\n",
    "# Loop through each value of s from 1 to 100\n",
    "for s in s_values_range_100:\n",
    "    probabilities_for_s = []\n",
    "    \n",
    "    # Loop through more refined possible values of b\n",
    "    for b in b_values_high_res:\n",
    "        # Calculate the average probability that a 2-hop hub is black\n",
    "        p_2 = 0\n",
    "        for d_v in range(m, l + 1):\n",
    "            for d_u in range(m, l + 1):\n",
    "                p_2 += (1 - (1 - b)**k)**(d_v + 1 + d_u * d_v)\n",
    "        p_2 /= (l - m + 1)**2\n",
    "        \n",
    "        # Calculate the probability that at least s 2-hop hubs are black\n",
    "        probability_at_least_s_hubs_2 = 1 - binom.cdf(s - 1, n, p_2)\n",
    "        \n",
    "        # Store the probability for the current b value\n",
    "        probabilities_for_s.append(probability_at_least_s_hubs_2)\n",
    "    \n",
    "    # Store the list of probabilities for the current s in the dictionary\n",
    "    probabilities_dict_s100[s] = probabilities_for_s\n",
    "\n",
    "# Plotting the probabilities for s = 1 to s = 100 with different b values\n",
    "plt.figure(figsize=(14, 10))\n",
    "\n",
    "# Loop to plot each line for s from 1 to 100\n",
    "for s in s_values_range_100:\n",
    "    plt.plot(b_values_high_res, probabilities_dict_s100[s], label=f's={s}')\n",
    "\n",
    "plt.xlabel('Probability b')\n",
    "plt.ylabel('P(X >= s)')\n",
    "plt.title('Probability P(X >= s) for Different b Values and s = 1 to s = 100')\n",
    "plt.grid(True)\n",
    "plt.legend(loc='upper right', bbox_to_anchor=(1.15, 1), title='s values', ncol=2)\n",
    "plt.show()\n"
   ]
  },
  {
   "cell_type": "code",
   "execution_count": null,
   "id": "7d40eb06",
   "metadata": {},
   "outputs": [],
   "source": []
  }
 ],
 "metadata": {
  "kernelspec": {
   "display_name": "Python (Wav2Lip)",
   "language": "python",
   "name": "wav2lip"
  },
  "language_info": {
   "codemirror_mode": {
    "name": "ipython",
    "version": 3
   },
   "file_extension": ".py",
   "mimetype": "text/x-python",
   "name": "python",
   "nbconvert_exporter": "python",
   "pygments_lexer": "ipython3",
   "version": "3.8.13"
  }
 },
 "nbformat": 4,
 "nbformat_minor": 5
}
