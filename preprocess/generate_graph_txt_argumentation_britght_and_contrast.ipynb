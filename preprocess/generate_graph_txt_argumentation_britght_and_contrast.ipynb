{
 "cells": [
  {
   "cell_type": "code",
   "execution_count": 2,
   "id": "5c06e275",
   "metadata": {},
   "outputs": [],
   "source": [
    "import os\n",
    "import glob"
   ]
  },
  {
   "cell_type": "code",
   "execution_count": 3,
   "id": "9f2d3063",
   "metadata": {},
   "outputs": [
    {
     "name": "stdout",
     "output_type": "stream",
     "text": [
      "22296 136334 15549 61989\n",
      "136334 15549 61989\n",
      "427744 22296\n"
     ]
    }
   ],
   "source": [
    "oulu_path =\"/media/hassan-hossein/B660FEE360FEA8EF/oulu/preposess/*/cropped_*.pt\"\n",
    "casia_path =\"/media/hassan-hossein/B660FEE360FEA8EF/casia-ds/preposess/*/cropped_*.pt\"\n",
    "msu_path =\"/media/hassan-hossein/B660FEE360FEA8EF/MSU_MSFD_ds/MSU_MFSD/preposess/*/cropped_*.pt\"\n",
    "replay_path = \"/media/hassan-hossein/B660FEE360FEA8EF/Replay_attack_dataset/preposess/*/cropped_*.pt\"\n",
    "\n",
    "oulu_path_arg =\"/media/hassan-hossein/B660FEE360FEA8EF/oulu/preposess/*/arg_contrast_bright_*cropped_*.pt\"\n",
    "msu_path_arg =\"/media/hassan-hossein/B660FEE360FEA8EF/MSU_MSFD_ds/MSU_MFSD/preposess/*/arg_contrast_bright_*cropped_*.pt\"\n",
    "replay_path_arg = \"/media/hassan-hossein/B660FEE360FEA8EF/Replay_attack_dataset/preposess/*/arg_contrast_bright_*cropped_*.pt\"\n",
    "\n",
    "\n",
    "oulu_paths = glob.glob(oulu_path)\n",
    "msu_paths = glob.glob(msu_path)\n",
    "casia_paths = glob.glob(casia_path)\n",
    "replay_paths = glob.glob(replay_path)\n",
    "\n",
    "\n",
    "oulu_paths_arg = glob.glob(oulu_path_arg)\n",
    "msu_paths_arg = glob.glob(msu_path_arg)\n",
    "replay_paths_arg = glob.glob(replay_path_arg)\n",
    "\n",
    "print(len(casia_paths), len(oulu_paths), len(msu_paths), len(replay_paths))\n",
    "print(len(oulu_paths_arg), len(msu_paths_arg), len(replay_paths_arg))\n",
    "\n",
    "train = oulu_paths + msu_paths +replay_paths+oulu_paths_arg+msu_paths_arg+replay_paths_arg\n",
    "test = casia_paths\n",
    "print(len(train), len(test))"
   ]
  },
  {
   "cell_type": "code",
   "execution_count": 4,
   "id": "66d6a08f",
   "metadata": {},
   "outputs": [
    {
     "name": "stdout",
     "output_type": "stream",
     "text": [
      "Done\n"
     ]
    }
   ],
   "source": [
    "with open(\"/home/hassan-hossein/single_image_graph_face_anti_spoofing/train/arg_contrast_bright_graph_train_O_M_I.txt\", 'w') as fp:\n",
    "    for item in train:\n",
    "        # write each item on a new line\n",
    "        fp.write(\"%s\\n\" % item)\n",
    "    print('Done')"
   ]
  },
  {
   "cell_type": "code",
   "execution_count": null,
   "id": "27227504",
   "metadata": {},
   "outputs": [],
   "source": []
  }
 ],
 "metadata": {
  "kernelspec": {
   "display_name": "Python (Wav2Lip)",
   "language": "python",
   "name": "wav2lip"
  },
  "language_info": {
   "codemirror_mode": {
    "name": "ipython",
    "version": 3
   },
   "file_extension": ".py",
   "mimetype": "text/x-python",
   "name": "python",
   "nbconvert_exporter": "python",
   "pygments_lexer": "ipython3",
   "version": "3.8.13"
  }
 },
 "nbformat": 4,
 "nbformat_minor": 5
}
