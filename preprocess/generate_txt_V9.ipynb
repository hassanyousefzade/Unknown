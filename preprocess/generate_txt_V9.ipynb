{
 "cells": [
  {
   "cell_type": "code",
   "execution_count": 1,
   "id": "4b9eaf5e",
   "metadata": {},
   "outputs": [],
   "source": [
    "import glob"
   ]
  },
  {
   "cell_type": "code",
   "execution_count": 2,
   "id": "39976a15",
   "metadata": {},
   "outputs": [],
   "source": [
    "oulu_path =\"/media/hassan-hossein/B660FEE360FEA8EF/oulu/preposess/*live*/cropped_*.pt\"\n",
    "casia_path =\"/media/hassan-hossein/B660FEE360FEA8EF/casia-ds/preposess/*live*/cropped_*.pt\"\n",
    "msu_path =\"/media/hassan-hossein/B660FEE360FEA8EF/MSU_MSFD_ds/MSU_MFSD/preposess/*live*/cropped_*.pt\"\n",
    "\n",
    "oulu_paths_L = glob.glob(oulu_path)\n",
    "msu_paths_L = glob.glob(msu_path)\n",
    "casia_paths_L = glob.glob(casia_path)\n",
    "\n"
   ]
  },
  {
   "cell_type": "code",
   "execution_count": 3,
   "id": "f002e487",
   "metadata": {},
   "outputs": [],
   "source": [
    "oulu_path =\"/media/hassan-hossein/B660FEE360FEA8EF/oulu/preposess/*spoof*/cropped_*.pt\"\n",
    "casia_path =\"/media/hassan-hossein/B660FEE360FEA8EF/casia-ds/preposess/*spoof*/cropped_*.pt\"\n",
    "msu_path =\"/media/hassan-hossein/B660FEE360FEA8EF/MSU_MSFD_ds/MSU_MFSD/preposess/*spoof*/cropped_*.pt\"\n",
    "\n",
    "oulu_paths_S = glob.glob(oulu_path)\n",
    "msu_paths_S = glob.glob(msu_path)\n",
    "casia_paths_S = glob.glob(casia_path)\n"
   ]
  },
  {
   "cell_type": "code",
   "execution_count": 4,
   "id": "f90b43f0",
   "metadata": {},
   "outputs": [
    {
     "name": "stdout",
     "output_type": "stream",
     "text": [
      "Done\n"
     ]
    }
   ],
   "source": [
    "with open(\"/home/hassan-hossein/single_image_graph_face_anti_spoofing/train/graph_train_oulu_live.txt\", 'w') as fp:\n",
    "    for item in oulu_paths_L:\n",
    "        # write each item on a new line\n",
    "        fp.write(\"%s\\n\" % item)\n",
    "    print('Done')"
   ]
  },
  {
   "cell_type": "code",
   "execution_count": 5,
   "id": "5745eb56",
   "metadata": {},
   "outputs": [
    {
     "name": "stdout",
     "output_type": "stream",
     "text": [
      "Done\n"
     ]
    }
   ],
   "source": [
    "with open(\"/home/hassan-hossein/single_image_graph_face_anti_spoofing/train/graph_train_oulu_spoof.txt\", 'w') as fp:\n",
    "    for item in oulu_paths_S:\n",
    "        # write each item on a new line\n",
    "        fp.write(\"%s\\n\" % item)\n",
    "    print('Done')"
   ]
  },
  {
   "cell_type": "code",
   "execution_count": 6,
   "id": "67dae438",
   "metadata": {},
   "outputs": [
    {
     "name": "stdout",
     "output_type": "stream",
     "text": [
      "Done\n"
     ]
    }
   ],
   "source": [
    "with open(\"/home/hassan-hossein/single_image_graph_face_anti_spoofing/train/graph_train_msu_spoof.txt\", 'w') as fp:\n",
    "    for item in msu_paths_S:\n",
    "        # write each item on a new line\n",
    "        fp.write(\"%s\\n\" % item)\n",
    "    print('Done')"
   ]
  },
  {
   "cell_type": "code",
   "execution_count": 7,
   "id": "11d87873",
   "metadata": {},
   "outputs": [
    {
     "name": "stdout",
     "output_type": "stream",
     "text": [
      "Done\n"
     ]
    }
   ],
   "source": [
    "with open(\"/home/hassan-hossein/single_image_graph_face_anti_spoofing/train/graph_train_msu_live.txt\", 'w') as fp:\n",
    "    for item in msu_paths_L:\n",
    "        # write each item on a new line\n",
    "        fp.write(\"%s\\n\" % item)\n",
    "    print('Done')"
   ]
  },
  {
   "cell_type": "code",
   "execution_count": null,
   "id": "5c2130a3",
   "metadata": {},
   "outputs": [],
   "source": []
  }
 ],
 "metadata": {
  "kernelspec": {
   "display_name": "Python 3 (ipykernel)",
   "language": "python",
   "name": "python3"
  },
  "language_info": {
   "codemirror_mode": {
    "name": "ipython",
    "version": 3
   },
   "file_extension": ".py",
   "mimetype": "text/x-python",
   "name": "python",
   "nbconvert_exporter": "python",
   "pygments_lexer": "ipython3",
   "version": "3.8.13"
  }
 },
 "nbformat": 4,
 "nbformat_minor": 5
}
