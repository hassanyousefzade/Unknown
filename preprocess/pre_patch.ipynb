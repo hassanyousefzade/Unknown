{
 "cells": [
  {
   "cell_type": "code",
   "execution_count": 1,
   "id": "9f2d05d6",
   "metadata": {},
   "outputs": [],
   "source": [
    "import numpy as np\n",
    "from PIL import Image\n",
    "\n",
    "import cv2\n",
    "import networkx as nx\n",
    "import matplotlib.pyplot as plt\n",
    "import glob\n",
    "import os\n",
    "import math \n",
    "from IPython.display import clear_output\n",
    "import itertools\n",
    "import seaborn as sb\n",
    "from tqdm import tqdm"
   ]
  },
  {
   "cell_type": "code",
   "execution_count": null,
   "id": "29902f32",
   "metadata": {},
   "outputs": [],
   "source": [
    "paths = glob.glob(\"/media/hassan-hossein/B660FEE360FEA8EF/casia-ds/preposess/*/cropped*.jpg\")"
   ]
  },
  {
   "cell_type": "code",
   "execution_count": null,
   "id": "470d4bc7",
   "metadata": {},
   "outputs": [],
   "source": [
    "for path in tqdm(paths, desc=\"Processing images\"):        \n",
    "        NAME_LIST = path.split(\"/\")[-2].split(\"_\")\n",
    "        \n",
    "        #print(face_path,NAME_LIST)\n",
    "        \n",
    "        if \"live\" in NAME_LIST :\n",
    "            label = 1\n",
    "        elif \"real\" in NAME_LIST :\n",
    "            label = 1\n",
    "        elif \"spoof\" in NAME_LIST :\n",
    "            label = 0\n",
    "        elif \"attack\" in NAME_LIST :\n",
    "            label = 0        \n",
    "        else :\n",
    "            raise 0\n",
    "            print(NAME_LIST)\n",
    "        img = cv2.imread(path)\n",
    "        img = cv2.cvtColor(img, cv2.COLOR_BGR2RGB)\n",
    "        \n",
    "        img_arg = tf.image.adjust_jpeg_quality(img, qulity).numpy()\n",
    "        #print(img.shape)\n",
    "\n",
    "        landmark_path = os.path.dirname(path) + \"/\"+os.path.basename(path).split(\".\")[0]+\".npy\"\n",
    "\n",
    "        list_of_points_face = np.load(landmark_path,allow_pickle=True).item()['landmark']\n",
    "        #print(list_of_points_face)\n",
    "\n",
    "        list_of_points_face = np.clip(list_of_points_face,0,256)\n",
    "\n",
    "        list_of_points_face = list_of_points_face + np.array([kernel_size,kernel_size])\n",
    "\n",
    "        img_arg = np.pad(img_arg, ((kernel_size, kernel_size), (kernel_size, kernel_size), (0, 0)),\n",
    "                 mode='constant', constant_values=0) \n",
    "\n",
    "\n",
    "        patches= []\n",
    "\n",
    "        list_of_points_face= np.round(list_of_points_face).astype(int)\n",
    "\n",
    "        for (x1, y1) in list_of_points_face:\n",
    "\n",
    "             p_img = img_arg[y1-kernel_size:y1+kernel_size ,x1-kernel_size:x1+kernel_size]\n",
    "\n",
    "             patches.append(p_img)  \n",
    "\n",
    "        patches = np.array(patches,dtype =np.uint8)\n",
    "        np.save(os.path.dirname(path)+'/patch'+\"_\"+os.path.basename(path)+'.npy')\n"
   ]
  }
 ],
 "metadata": {
  "kernelspec": {
   "display_name": "Python (Wav2Lip)",
   "language": "python",
   "name": "wav2lip"
  },
  "language_info": {
   "codemirror_mode": {
    "name": "ipython",
    "version": 3
   },
   "file_extension": ".py",
   "mimetype": "text/x-python",
   "name": "python",
   "nbconvert_exporter": "python",
   "pygments_lexer": "ipython3",
   "version": "3.8.13"
  }
 },
 "nbformat": 4,
 "nbformat_minor": 5
}
