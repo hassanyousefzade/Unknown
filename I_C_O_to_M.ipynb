{
 "cells": [
  {
   "cell_type": "code",
   "execution_count": 1,
   "id": "3367f6c7",
   "metadata": {},
   "outputs": [],
   "source": [
    "import os.path as osp\n",
    "import GPUtil\n",
    "import torch.nn as nn\n",
    "import torch\n",
    "from focal_loss.focal_loss import FocalLoss\n",
    "\n",
    "from torch.nn import TransformerEncoder, TransformerEncoderLayer\n",
    "import os\n",
    "from torch_geometric.data import Dataset, download_url\n",
    "from torch_geometric.loader import DataLoader\n",
    "import pandas as pd\n",
    "from performance import performances_val\n",
    "from PIL import Image\n",
    "from torch.nn import Linear\n",
    "import torch.nn.functional as F\n",
    "import matplotlib.pyplot as plt\n",
    "from torch_geometric.nn import GCNConv\n",
    "from torch_geometric.nn import global_mean_pool, global_max_pool\n",
    "from torch_geometric.nn.norm import BatchNorm\n",
    "from torch_geometric.data import Data\n",
    "from sklearn import metrics\n",
    "import numpy as np\n",
    "from tqdm import tqdm\n",
    "from torch_geometric.nn import ChebConv, GraphSAGE,GraphUNet ,TransformerConv\n",
    "\n",
    "# os.environ[\"CUDA_VISIBLE_DEVICES\"] = \"1\"\n",
    "# os.environ[\"CUDA_LAUNCH_BLOCKING\"] = \"1\"\n",
    "seed = 1378\n",
    "device = torch.device(\"cuda\" if torch.cuda.is_available() else \"cpu\")\n",
    "np.random.seed(seed)\n",
    "torch.manual_seed(seed)\n",
    "torch.cuda.manual_seed_all(seed)\n",
    "landmark_colors = np.load(\"landmark_colors.npy\")\n",
    "from sklearn.preprocessing import OneHotEncoder\n",
    "one_hot_list=[]\n",
    "enc = OneHotEncoder()\n",
    "enc.fit(np.expand_dims(landmark_colors,axis=1))  \n",
    "for x in landmark_colors:\n",
    "    one_hot_list.append(enc.transform([[x]]).toarray()[0])\n",
    "one_hot_arr  = np.array(one_hot_list)\n",
    "one_hot_arr = torch.FloatTensor(one_hot_arr)\n",
    "\n",
    "m = torch.nn.Softmax(dim=-1)\n",
    "\n",
    "class landmark_dataset(Dataset):\n",
    "    def __init__(self, info_list, transform=None, pre_transform=None, pre_filter=None):\n",
    "        super().__init__(None, transform, pre_transform, pre_filter)\n",
    "        \n",
    "        self.graphs = pd.read_csv(info_list, delimiter=\",\", header=None)\n",
    "\n",
    "\n",
    "    def len(self):\n",
    "        return len(self.graphs)\n",
    "\n",
    "    def get(self, idx):\n",
    "        \n",
    "        graph_path = self.graphs.iloc[idx]\n",
    "        graph_path = graph_path[0]\n",
    "        \n",
    "        \n",
    "        data = torch.load(graph_path)\n",
    "        #data.x =data.x.t()\n",
    "        return data \n",
    "class landmark_dataset_train(Dataset):\n",
    "    def __init__(self, info_list, transform=None, pre_transform=None, pre_filter=None):\n",
    "        super().__init__(None, transform, pre_transform, pre_filter)\n",
    "        \n",
    "        self.graphs = pd.read_csv(info_list, delimiter=\",\", header=None)\n",
    "\n",
    "\n",
    "    def len(self):\n",
    "        return len(self.graphs)\n",
    "\n",
    "    def get(self, idx):\n",
    "        \n",
    "        graph_path = self.graphs.iloc[idx]\n",
    "        graph_path = graph_path[0]\n",
    "        \n",
    "        data = torch.load(graph_path)\n",
    "        \n",
    " \n",
    "        \n",
    "        domain_name = graph_path.split(\"/\")[-4]\n",
    "        \n",
    "            \n",
    "        if domain_name == \"casia-ds\" :\n",
    "            \n",
    "            domain_label = 0\n",
    "            \n",
    "        elif domain_name == \"Replay_attack_dataset\" :\n",
    "            \n",
    "            domain_label = 1\n",
    "            \n",
    "        elif domain_name == \"oulu\" :\n",
    "            \n",
    "            domain_label = 2\n",
    "        else :\n",
    "            print(graph_path,domain_name )\n",
    "            raise \"error\"\n",
    "            \n",
    "        \n",
    "        data = Data(x=data.x, edge_index=data.edge_index,y =data.y,data = domain_label,y_node = one_hot_arr)\n",
    "\n",
    "        #data.x =data.x.t()\n",
    "        return data \n",
    "train_dataset = landmark_dataset_train(\"/home/hassan-hossein/single_image_graph_face_anti_spoofing/train/graph_train_C_I_O_OS.txt\")\n",
    "train_loader = DataLoader(train_dataset, batch_size=64, shuffle=True,num_workers=16,pin_memory=True)\n",
    "\n",
    "test_dataset = landmark_dataset(\"/home/hassan-hossein/single_image_graph_face_anti_spoofing/train/graph_test_M_OS.txt\")\n",
    "test_loader = DataLoader(test_dataset, batch_size=64,num_workers=16)\n",
    "import torch\n",
    "import torch.nn as nn\n",
    "from torch.nn import TransformerEncoder, TransformerEncoderLayer\n",
    "\n",
    "# فرض کنید که داده‌های ورودی شما یک توالی از ۶۸۰ ویژگی دارد.\n",
    "#sequence_length = 128\n",
    "#feature_dim = 4  # هر ویژگی تک‌بعدی است\n",
    "\n",
    "# نمونه داده ورودی (تعداد نمونه‌ها × طول توالی × بعد ویژگی)\n",
    "#inputs = torch.rand(32, sequence_length, feature_dim)  # 32 نمونه با 680 ویژگی تک‌بعدی\n",
    "\n",
    "# تعریف یک لایه ترنسفورمر انکودر\n",
    "class SimpleTransformer(nn.Module):\n",
    "    def __init__(self, embed_dim, num_layers, nhead,n_out):\n",
    "        super(SimpleTransformer, self).__init__()\n",
    "        self.linear = nn.Linear(4, embed_dim)  # افزایش بعد ویژگی‌ها\n",
    "        self.encoder_layer = TransformerEncoderLayer(d_model=embed_dim, nhead=nhead)\n",
    "        self.transformer_encoder = TransformerEncoder(self.encoder_layer, num_layers=num_layers)\n",
    "        self.fc = nn.Linear(128 * embed_dim, n_out)  # فرضا 10 کلاس خروجی داریم\n",
    "\n",
    "    def forward(self, x):\n",
    "        x = self.linear(x)  # تغییر بعد ویژگی‌ها\n",
    "        x = self.transformer_encoder(x)\n",
    "        x = x.view(x.size(0), -1)  # فشرده‌سازی به یک بردار برای طبقه‌بندی\n",
    "        x = self.fc(x)\n",
    "        return x\n",
    "\n",
    "# # ایجاد مدل و ارسال ورودی\n",
    "# # model = SimpleTransformer(embed_dim=embed_dim, num_layers=2, nhead=4)\n",
    "# # output = model(inputs)\n",
    "\n",
    "# #print(output.shape)\n",
    "import torch\n",
    "import torch.nn as nn\n",
    "from torch.nn import TransformerEncoder, TransformerEncoderLayer\n",
    "\n",
    "# فرض کنید که داده‌های ورودی شما یک توالی از ۶۸۰ ویژگی دارد.\n",
    "sequence_length = 128\n",
    "feature_dim = 1  # هر ویژگی تک‌بعدی است\n",
    "\n",
    "# نمونه داده ورودی (تعداد نمونه‌ها × طول توالی × بعد ویژگی)\n",
    "#inputs = torch.rand(32, sequence_length, feature_dim)  # 32 نمونه با 680 ویژگی تک‌بعدی\n",
    "\n",
    "# تعریف یک لایه ترنسفورمر انکودر\n",
    "class SimpleTransformer_2(nn.Module):\n",
    "    def __init__(self, embed_dim, num_layers, nhead):\n",
    "        super(SimpleTransformer_2, self).__init__()\n",
    "        self.linear = nn.Linear(feature_dim, embed_dim)  # افزایش بعد ویژگی‌ها\n",
    "        self.encoder_layer = TransformerEncoderLayer(d_model=embed_dim, nhead=nhead)\n",
    "        self.transformer_encoder = TransformerEncoder(self.encoder_layer, num_layers=num_layers)\n",
    "        self.fc = nn.Linear(sequence_length * embed_dim, 7)  # فرضا 10 کلاس خروجی داریم\n",
    "\n",
    "    def forward(self, x):\n",
    "        x = self.linear(x)  # تغییر بعد ویژگی‌ها\n",
    "        x = self.transformer_encoder(x)\n",
    "        x = x.view(x.size(0), -1)  # فشرده‌سازی به یک بردار برای طبقه‌بندی\n",
    "        x = self.fc(x)\n",
    "        return x\n",
    "\n",
    "# # ایجاد مدل و ارسال ورودی\n",
    "# # model = SimpleTransformer(embed_dim=embed_dim, num_layers=2, nhead=4)\n",
    "# # output = model(inputs)\n",
    "\n",
    "# #print(output.shape)\n"
   ]
  },
  {
   "cell_type": "code",
   "execution_count": 2,
   "id": "ca054161",
   "metadata": {},
   "outputs": [
    {
     "name": "stdout",
     "output_type": "stream",
     "text": [
      "GCN(\n",
      "  (conv1): ChebConv(640, 128, K=2, normalization=sym)\n",
      "  (conv2): ChebConv(128, 128, K=2, normalization=sym)\n",
      "  (conv3): ChebConv(128, 128, K=2, normalization=sym)\n",
      "  (conv4): ChebConv(128, 128, K=2, normalization=sym)\n",
      "  (conv5): ChebConv(256, 128, K=2, normalization=sym)\n",
      "  (conv6): ChebConv(128, 128, K=2, normalization=sym)\n",
      "  (conv7): ChebConv(128, 128, K=2, normalization=sym)\n",
      "  (conv8): ChebConv(128, 128, K=2, normalization=sym)\n",
      "  (lin): SimpleTransformer(\n",
      "    (linear): Linear(in_features=4, out_features=8, bias=True)\n",
      "    (encoder_layer): TransformerEncoderLayer(\n",
      "      (self_attn): MultiheadAttention(\n",
      "        (out_proj): NonDynamicallyQuantizableLinear(in_features=8, out_features=8, bias=True)\n",
      "      )\n",
      "      (linear1): Linear(in_features=8, out_features=2048, bias=True)\n",
      "      (dropout): Dropout(p=0.1, inplace=False)\n",
      "      (linear2): Linear(in_features=2048, out_features=8, bias=True)\n",
      "      (norm1): LayerNorm((8,), eps=1e-05, elementwise_affine=True)\n",
      "      (norm2): LayerNorm((8,), eps=1e-05, elementwise_affine=True)\n",
      "      (dropout1): Dropout(p=0.1, inplace=False)\n",
      "      (dropout2): Dropout(p=0.1, inplace=False)\n",
      "    )\n",
      "    (transformer_encoder): TransformerEncoder(\n",
      "      (layers): ModuleList(\n",
      "        (0): TransformerEncoderLayer(\n",
      "          (self_attn): MultiheadAttention(\n",
      "            (out_proj): NonDynamicallyQuantizableLinear(in_features=8, out_features=8, bias=True)\n",
      "          )\n",
      "          (linear1): Linear(in_features=8, out_features=2048, bias=True)\n",
      "          (dropout): Dropout(p=0.1, inplace=False)\n",
      "          (linear2): Linear(in_features=2048, out_features=8, bias=True)\n",
      "          (norm1): LayerNorm((8,), eps=1e-05, elementwise_affine=True)\n",
      "          (norm2): LayerNorm((8,), eps=1e-05, elementwise_affine=True)\n",
      "          (dropout1): Dropout(p=0.1, inplace=False)\n",
      "          (dropout2): Dropout(p=0.1, inplace=False)\n",
      "        )\n",
      "        (1): TransformerEncoderLayer(\n",
      "          (self_attn): MultiheadAttention(\n",
      "            (out_proj): NonDynamicallyQuantizableLinear(in_features=8, out_features=8, bias=True)\n",
      "          )\n",
      "          (linear1): Linear(in_features=8, out_features=2048, bias=True)\n",
      "          (dropout): Dropout(p=0.1, inplace=False)\n",
      "          (linear2): Linear(in_features=2048, out_features=8, bias=True)\n",
      "          (norm1): LayerNorm((8,), eps=1e-05, elementwise_affine=True)\n",
      "          (norm2): LayerNorm((8,), eps=1e-05, elementwise_affine=True)\n",
      "          (dropout1): Dropout(p=0.1, inplace=False)\n",
      "          (dropout2): Dropout(p=0.1, inplace=False)\n",
      "        )\n",
      "        (2): TransformerEncoderLayer(\n",
      "          (self_attn): MultiheadAttention(\n",
      "            (out_proj): NonDynamicallyQuantizableLinear(in_features=8, out_features=8, bias=True)\n",
      "          )\n",
      "          (linear1): Linear(in_features=8, out_features=2048, bias=True)\n",
      "          (dropout): Dropout(p=0.1, inplace=False)\n",
      "          (linear2): Linear(in_features=2048, out_features=8, bias=True)\n",
      "          (norm1): LayerNorm((8,), eps=1e-05, elementwise_affine=True)\n",
      "          (norm2): LayerNorm((8,), eps=1e-05, elementwise_affine=True)\n",
      "          (dropout1): Dropout(p=0.1, inplace=False)\n",
      "          (dropout2): Dropout(p=0.1, inplace=False)\n",
      "        )\n",
      "        (3): TransformerEncoderLayer(\n",
      "          (self_attn): MultiheadAttention(\n",
      "            (out_proj): NonDynamicallyQuantizableLinear(in_features=8, out_features=8, bias=True)\n",
      "          )\n",
      "          (linear1): Linear(in_features=8, out_features=2048, bias=True)\n",
      "          (dropout): Dropout(p=0.1, inplace=False)\n",
      "          (linear2): Linear(in_features=2048, out_features=8, bias=True)\n",
      "          (norm1): LayerNorm((8,), eps=1e-05, elementwise_affine=True)\n",
      "          (norm2): LayerNorm((8,), eps=1e-05, elementwise_affine=True)\n",
      "          (dropout1): Dropout(p=0.1, inplace=False)\n",
      "          (dropout2): Dropout(p=0.1, inplace=False)\n",
      "        )\n",
      "        (4): TransformerEncoderLayer(\n",
      "          (self_attn): MultiheadAttention(\n",
      "            (out_proj): NonDynamicallyQuantizableLinear(in_features=8, out_features=8, bias=True)\n",
      "          )\n",
      "          (linear1): Linear(in_features=8, out_features=2048, bias=True)\n",
      "          (dropout): Dropout(p=0.1, inplace=False)\n",
      "          (linear2): Linear(in_features=2048, out_features=8, bias=True)\n",
      "          (norm1): LayerNorm((8,), eps=1e-05, elementwise_affine=True)\n",
      "          (norm2): LayerNorm((8,), eps=1e-05, elementwise_affine=True)\n",
      "          (dropout1): Dropout(p=0.1, inplace=False)\n",
      "          (dropout2): Dropout(p=0.1, inplace=False)\n",
      "        )\n",
      "      )\n",
      "    )\n",
      "    (fc): Linear(in_features=1024, out_features=1, bias=True)\n",
      "  )\n",
      "  (drop_1): RandomNodeDropout()\n",
      "  (drop_2): RandomNodeDropout()\n",
      "  (drop_3): RandomNodeDropout()\n",
      "  (drop_4): RandomNodeDropout()\n",
      "  (drop_5): RandomNodeDropout()\n",
      "  (drop_6): RandomNodeDropout()\n",
      "  (b1): BatchNorm(128)\n",
      "  (b2): BatchNorm(128)\n",
      "  (b3): BatchNorm(128)\n",
      "  (b4): BatchNorm(128)\n",
      "  (b5): BatchNorm(128)\n",
      "  (b6): BatchNorm(128)\n",
      "  (b7): BatchNorm(128)\n",
      "  (dis): Discriminator(\n",
      "    (conv1): GraphSAGE(128, 128, num_layers=2)\n",
      "    (conv2): GraphSAGE(128, 128, num_layers=2)\n",
      "    (conv3): GraphSAGE(128, 128, num_layers=2)\n",
      "    (conv4): GraphSAGE(128, 128, num_layers=2)\n",
      "    (drop_1): RandomNodeDropout()\n",
      "    (drop_2): RandomNodeDropout()\n",
      "    (grl_layer): GRL()\n",
      "    (fc2): Linear(in_features=128, out_features=3, bias=True)\n",
      "  )\n",
      "  (conv1_node_class): GraphSAGE(128, 128, num_layers=2)\n",
      "  (conv2_node_class): GraphSAGE(128, 128, num_layers=2)\n",
      "  (lin_node_class): SimpleTransformer_2(\n",
      "    (linear): Linear(in_features=1, out_features=64, bias=True)\n",
      "    (encoder_layer): TransformerEncoderLayer(\n",
      "      (self_attn): MultiheadAttention(\n",
      "        (out_proj): NonDynamicallyQuantizableLinear(in_features=64, out_features=64, bias=True)\n",
      "      )\n",
      "      (linear1): Linear(in_features=64, out_features=2048, bias=True)\n",
      "      (dropout): Dropout(p=0.1, inplace=False)\n",
      "      (linear2): Linear(in_features=2048, out_features=64, bias=True)\n",
      "      (norm1): LayerNorm((64,), eps=1e-05, elementwise_affine=True)\n",
      "      (norm2): LayerNorm((64,), eps=1e-05, elementwise_affine=True)\n",
      "      (dropout1): Dropout(p=0.1, inplace=False)\n",
      "      (dropout2): Dropout(p=0.1, inplace=False)\n",
      "    )\n",
      "    (transformer_encoder): TransformerEncoder(\n",
      "      (layers): ModuleList(\n",
      "        (0): TransformerEncoderLayer(\n",
      "          (self_attn): MultiheadAttention(\n",
      "            (out_proj): NonDynamicallyQuantizableLinear(in_features=64, out_features=64, bias=True)\n",
      "          )\n",
      "          (linear1): Linear(in_features=64, out_features=2048, bias=True)\n",
      "          (dropout): Dropout(p=0.1, inplace=False)\n",
      "          (linear2): Linear(in_features=2048, out_features=64, bias=True)\n",
      "          (norm1): LayerNorm((64,), eps=1e-05, elementwise_affine=True)\n",
      "          (norm2): LayerNorm((64,), eps=1e-05, elementwise_affine=True)\n",
      "          (dropout1): Dropout(p=0.1, inplace=False)\n",
      "          (dropout2): Dropout(p=0.1, inplace=False)\n",
      "        )\n",
      "        (1): TransformerEncoderLayer(\n",
      "          (self_attn): MultiheadAttention(\n",
      "            (out_proj): NonDynamicallyQuantizableLinear(in_features=64, out_features=64, bias=True)\n",
      "          )\n",
      "          (linear1): Linear(in_features=64, out_features=2048, bias=True)\n",
      "          (dropout): Dropout(p=0.1, inplace=False)\n",
      "          (linear2): Linear(in_features=2048, out_features=64, bias=True)\n",
      "          (norm1): LayerNorm((64,), eps=1e-05, elementwise_affine=True)\n",
      "          (norm2): LayerNorm((64,), eps=1e-05, elementwise_affine=True)\n",
      "          (dropout1): Dropout(p=0.1, inplace=False)\n",
      "          (dropout2): Dropout(p=0.1, inplace=False)\n",
      "        )\n",
      "        (2): TransformerEncoderLayer(\n",
      "          (self_attn): MultiheadAttention(\n",
      "            (out_proj): NonDynamicallyQuantizableLinear(in_features=64, out_features=64, bias=True)\n",
      "          )\n",
      "          (linear1): Linear(in_features=64, out_features=2048, bias=True)\n",
      "          (dropout): Dropout(p=0.1, inplace=False)\n",
      "          (linear2): Linear(in_features=2048, out_features=64, bias=True)\n",
      "          (norm1): LayerNorm((64,), eps=1e-05, elementwise_affine=True)\n",
      "          (norm2): LayerNorm((64,), eps=1e-05, elementwise_affine=True)\n",
      "          (dropout1): Dropout(p=0.1, inplace=False)\n",
      "          (dropout2): Dropout(p=0.1, inplace=False)\n",
      "        )\n",
      "        (3): TransformerEncoderLayer(\n",
      "          (self_attn): MultiheadAttention(\n",
      "            (out_proj): NonDynamicallyQuantizableLinear(in_features=64, out_features=64, bias=True)\n",
      "          )\n",
      "          (linear1): Linear(in_features=64, out_features=2048, bias=True)\n",
      "          (dropout): Dropout(p=0.1, inplace=False)\n",
      "          (linear2): Linear(in_features=2048, out_features=64, bias=True)\n",
      "          (norm1): LayerNorm((64,), eps=1e-05, elementwise_affine=True)\n",
      "          (norm2): LayerNorm((64,), eps=1e-05, elementwise_affine=True)\n",
      "          (dropout1): Dropout(p=0.1, inplace=False)\n",
      "          (dropout2): Dropout(p=0.1, inplace=False)\n",
      "        )\n",
      "        (4): TransformerEncoderLayer(\n",
      "          (self_attn): MultiheadAttention(\n",
      "            (out_proj): NonDynamicallyQuantizableLinear(in_features=64, out_features=64, bias=True)\n",
      "          )\n",
      "          (linear1): Linear(in_features=64, out_features=2048, bias=True)\n",
      "          (dropout): Dropout(p=0.1, inplace=False)\n",
      "          (linear2): Linear(in_features=2048, out_features=64, bias=True)\n",
      "          (norm1): LayerNorm((64,), eps=1e-05, elementwise_affine=True)\n",
      "          (norm2): LayerNorm((64,), eps=1e-05, elementwise_affine=True)\n",
      "          (dropout1): Dropout(p=0.1, inplace=False)\n",
      "          (dropout2): Dropout(p=0.1, inplace=False)\n",
      "        )\n",
      "        (5): TransformerEncoderLayer(\n",
      "          (self_attn): MultiheadAttention(\n",
      "            (out_proj): NonDynamicallyQuantizableLinear(in_features=64, out_features=64, bias=True)\n",
      "          )\n",
      "          (linear1): Linear(in_features=64, out_features=2048, bias=True)\n",
      "          (dropout): Dropout(p=0.1, inplace=False)\n",
      "          (linear2): Linear(in_features=2048, out_features=64, bias=True)\n",
      "          (norm1): LayerNorm((64,), eps=1e-05, elementwise_affine=True)\n",
      "          (norm2): LayerNorm((64,), eps=1e-05, elementwise_affine=True)\n",
      "          (dropout1): Dropout(p=0.1, inplace=False)\n",
      "          (dropout2): Dropout(p=0.1, inplace=False)\n",
      "        )\n",
      "        (6): TransformerEncoderLayer(\n",
      "          (self_attn): MultiheadAttention(\n",
      "            (out_proj): NonDynamicallyQuantizableLinear(in_features=64, out_features=64, bias=True)\n",
      "          )\n",
      "          (linear1): Linear(in_features=64, out_features=2048, bias=True)\n",
      "          (dropout): Dropout(p=0.1, inplace=False)\n",
      "          (linear2): Linear(in_features=2048, out_features=64, bias=True)\n",
      "          (norm1): LayerNorm((64,), eps=1e-05, elementwise_affine=True)\n",
      "          (norm2): LayerNorm((64,), eps=1e-05, elementwise_affine=True)\n",
      "          (dropout1): Dropout(p=0.1, inplace=False)\n",
      "          (dropout2): Dropout(p=0.1, inplace=False)\n",
      "        )\n",
      "        (7): TransformerEncoderLayer(\n",
      "          (self_attn): MultiheadAttention(\n",
      "            (out_proj): NonDynamicallyQuantizableLinear(in_features=64, out_features=64, bias=True)\n",
      "          )\n",
      "          (linear1): Linear(in_features=64, out_features=2048, bias=True)\n",
      "          (dropout): Dropout(p=0.1, inplace=False)\n",
      "          (linear2): Linear(in_features=2048, out_features=64, bias=True)\n",
      "          (norm1): LayerNorm((64,), eps=1e-05, elementwise_affine=True)\n",
      "          (norm2): LayerNorm((64,), eps=1e-05, elementwise_affine=True)\n",
      "          (dropout1): Dropout(p=0.1, inplace=False)\n",
      "          (dropout2): Dropout(p=0.1, inplace=False)\n",
      "        )\n",
      "        (8): TransformerEncoderLayer(\n",
      "          (self_attn): MultiheadAttention(\n",
      "            (out_proj): NonDynamicallyQuantizableLinear(in_features=64, out_features=64, bias=True)\n",
      "          )\n",
      "          (linear1): Linear(in_features=64, out_features=2048, bias=True)\n",
      "          (dropout): Dropout(p=0.1, inplace=False)\n",
      "          (linear2): Linear(in_features=2048, out_features=64, bias=True)\n",
      "          (norm1): LayerNorm((64,), eps=1e-05, elementwise_affine=True)\n",
      "          (norm2): LayerNorm((64,), eps=1e-05, elementwise_affine=True)\n",
      "          (dropout1): Dropout(p=0.1, inplace=False)\n",
      "          (dropout2): Dropout(p=0.1, inplace=False)\n",
      "        )\n",
      "        (9): TransformerEncoderLayer(\n",
      "          (self_attn): MultiheadAttention(\n",
      "            (out_proj): NonDynamicallyQuantizableLinear(in_features=64, out_features=64, bias=True)\n",
      "          )\n",
      "          (linear1): Linear(in_features=64, out_features=2048, bias=True)\n",
      "          (dropout): Dropout(p=0.1, inplace=False)\n",
      "          (linear2): Linear(in_features=2048, out_features=64, bias=True)\n",
      "          (norm1): LayerNorm((64,), eps=1e-05, elementwise_affine=True)\n",
      "          (norm2): LayerNorm((64,), eps=1e-05, elementwise_affine=True)\n",
      "          (dropout1): Dropout(p=0.1, inplace=False)\n",
      "          (dropout2): Dropout(p=0.1, inplace=False)\n",
      "        )\n",
      "      )\n",
      "    )\n",
      "    (fc): Linear(in_features=8192, out_features=7, bias=True)\n",
      "  )\n",
      ")\n"
     ]
    }
   ],
   "source": [
    "class RandomNodeDropout(nn.Module):\n",
    "    def __init__(self, drop_prob=0.3):\n",
    "        super(RandomNodeDropout, self).__init__()\n",
    "        self.drop_prob = drop_prob\n",
    "\n",
    "    def forward(self, x, enabled=True):\n",
    "        if not self.training or not enabled:\n",
    "            return x\n",
    "        \n",
    "        num_rows = x.size(0)\n",
    "        mask = torch.rand(num_rows, device=x.device) > self.drop_prob\n",
    "        mask = mask.float().unsqueeze(1).expand_as(x)\n",
    "        x = x * mask\n",
    "        \n",
    "        return x\n",
    "\n",
    "soft = torch.nn.Softmax(dim=1)\n",
    "\n",
    "num_domain = 3\n",
    "class GRL(nn.Module):\n",
    "\n",
    "    def __init__(self, max_iter):\n",
    "        super(GRL, self).__init__()\n",
    "        self.iter_num = 0\n",
    "        self.alpha = 10\n",
    "        self.low = 0.0\n",
    "        self.high = 1.0\n",
    "        self.max_iter = max_iter\n",
    "\n",
    "    def forward(self, input):\n",
    "        self.iter_num += 1\n",
    "        return input * 1.0\n",
    "\n",
    "    def backward(self, gradOutput):\n",
    "        coeff = np.float(2.0 * (self.high - self.low) / (1.0 + np.exp(-self.alpha * self.iter_num / self.max_iter))\n",
    "                         - (self.high - self.low) + self.low)\n",
    "        return -coeff*10* gradOutput\n",
    "\n",
    "num_node  =train_dataset.num_node_features\n",
    "class Discriminator(torch.nn.Module):\n",
    "    def __init__(self,hidden_channels ,max_iter):\n",
    "        super(Discriminator, self).__init__()\n",
    "        torch.manual_seed(12345)\n",
    "        self.conv1 = GraphSAGE(hidden_channels, hidden_channels,2,dropout=0.5)\n",
    "        self.conv2 = GraphSAGE(hidden_channels, hidden_channels,2,dropout=0.5)\n",
    "        self.conv3 = GraphSAGE(hidden_channels, hidden_channels,2,dropout=0.5)\n",
    "        self.conv4 = GraphSAGE(hidden_channels, hidden_channels,2,dropout=0.5)\n",
    "        self.drop_1 = RandomNodeDropout(drop_prob=0.3)\n",
    "        self.drop_2 = RandomNodeDropout(drop_prob=0.3)\n",
    "        self.grl_layer = GRL(max_iter)\n",
    "        self.fc2 = nn.Linear(hidden_channels, num_domain)\n",
    "        \n",
    "    def forward(self, x, edge_index, batch,drop_en):\n",
    "        #print(\"graph fea :\",graph_level_feature.shape ,edge_index.shape )\n",
    "        \n",
    "        x = self.grl_layer(x)\n",
    "        x = self.conv1(x, edge_index)\n",
    "        x = x.relu()\n",
    "        x = self.drop_1(x,drop_en)\n",
    "        \n",
    "        x = self.conv2(x, edge_index)\n",
    "        x = x.relu()\n",
    "        x = self.drop_2(x,drop_en)\n",
    "        \n",
    "        x = self.conv3(x, edge_index)\n",
    "        x = x.relu()\n",
    "        x = self.conv4(x, edge_index)\n",
    "        x = x.relu()\n",
    "        \n",
    "        x = global_mean_pool(x, batch)\n",
    "        \n",
    "        x = self.fc2(x)\n",
    "        x = m(x)\n",
    "         \n",
    "        return x \n",
    "\n",
    "\n",
    "\n",
    "class GCN(torch.nn.Module):\n",
    "    def __init__(self, hidden_channels,max_iter=4000):\n",
    "        super(GCN, self).__init__()\n",
    "        torch.manual_seed(12345)\n",
    "        self.conv1 = ChebConv(num_node, hidden_channels,2)\n",
    "        self.conv2 = ChebConv(hidden_channels, hidden_channels,2)\n",
    "        self.conv3 = ChebConv(hidden_channels, hidden_channels,2)\n",
    "        self.conv4 = ChebConv(hidden_channels, hidden_channels,2)\n",
    "        self.conv5 = ChebConv(hidden_channels*2, hidden_channels,2)\n",
    "        self.conv6 = ChebConv(hidden_channels, hidden_channels,2)\n",
    "        self.conv7 = ChebConv(hidden_channels, hidden_channels,2)\n",
    "        self.conv8 = ChebConv(hidden_channels, hidden_channels,2)\n",
    "        self.lin = SimpleTransformer(8,5,8,1)\n",
    "        \n",
    "        self.drop_1 = RandomNodeDropout(drop_prob=0.3)\n",
    "        self.drop_2 = RandomNodeDropout(drop_prob=0.3)\n",
    "        self.drop_3 = RandomNodeDropout(drop_prob=0.3)\n",
    "        self.drop_4 = RandomNodeDropout(drop_prob=0.3)\n",
    "        self.drop_5 = RandomNodeDropout(drop_prob=0.3)\n",
    "        self.drop_6 = RandomNodeDropout(drop_prob=0.3)\n",
    "        \n",
    "        \n",
    "        self.b1 = BatchNorm(hidden_channels)\n",
    "        self.b2 = BatchNorm(hidden_channels)\n",
    "        self.b3 = BatchNorm(hidden_channels)\n",
    "        self.b4 = BatchNorm(hidden_channels)\n",
    "        self.b5 = BatchNorm(hidden_channels)\n",
    "        self.b6 = BatchNorm(hidden_channels)\n",
    "        self.b7 = BatchNorm(hidden_channels)\n",
    "        \n",
    "        self.dis = Discriminator(hidden_channels,max_iter)\n",
    "        \n",
    "        self.conv1_node_class = GraphSAGE(hidden_channels, hidden_channels,2,dropout=0.5)\n",
    "        \n",
    "        self.conv2_node_class = GraphSAGE(hidden_channels, hidden_channels,2,dropout=0.5)\n",
    "        \n",
    "        self.lin_node_class = SimpleTransformer_2(64,10,8)\n",
    "        \n",
    "\n",
    "        \n",
    "        #self.tcn = Simple1DCNN()\n",
    "        \n",
    "    def forward(self, x, edge_index, batch,drop_en,index_arr):\n",
    "        #print(\"graph fea :\",graph_level_feature.shape ,edge_index.shape )\n",
    "        \n",
    "\n",
    "        x = self.conv1(x, edge_index)\n",
    "        x  = self.b1(x)\n",
    "        x = x.relu()\n",
    "        \n",
    "        x = self.drop_1(x,drop_en)\n",
    "        \n",
    "        \n",
    "\n",
    "        x = self.conv2(x, edge_index)\n",
    "        x  = self.b2(x)\n",
    "        x = x.relu()\n",
    "        \n",
    "        x = self.drop_2(x,drop_en)\n",
    "                \n",
    "        dicriminator = x\n",
    "        \n",
    "        x_1 = global_mean_pool(x, batch)\n",
    "        \n",
    "        x = self.conv3(x, edge_index)\n",
    "        x  = self.b3(x)\n",
    "        x = x.relu()\n",
    "        \n",
    "        x = self.drop_3(x,drop_en)\n",
    "        \n",
    "        x_3 = global_mean_pool(x, batch)\n",
    "        \n",
    "        \n",
    "        x = self.conv4(x, edge_index)\n",
    "        x  = self.b4(x)\n",
    "        x = x.relu()\n",
    "        \n",
    "        x = self.drop_4(x,drop_en)\n",
    "        \n",
    "        \n",
    "        x = torch.cat((x,dicriminator),dim=1) #skip connection\n",
    "        \n",
    "        x = self.conv5(x, edge_index)\n",
    "        x  = self.b5(x)\n",
    "        x = x.relu()\n",
    "        \n",
    "        x = self.drop_5(x,drop_en)\n",
    "        \n",
    "        x_5 = global_mean_pool(x, batch)\n",
    "        \n",
    "        x = self.conv6(x, edge_index)\n",
    "        x  = self.b6(x)\n",
    "        x = x.relu()\n",
    "        \n",
    "        x = self.drop_6(x,drop_en)\n",
    "        \n",
    "        x = self.conv7(x, edge_index)\n",
    "        x  = self.b7(x)\n",
    "        x = x.relu()\n",
    "        \n",
    "        \n",
    "        x = self.conv8(x, edge_index)\n",
    "        # 2. Readout layer\n",
    "        x = global_mean_pool(x, batch)  # [batch_size, hidden_channels]\n",
    "        \n",
    "        x = torch.stack([x,x_1,x_5,x_3],dim=2)\n",
    "        \n",
    "        x = F.dropout(x, p=0.5, training=self.training)\n",
    "        \n",
    "        #x = torch.unsqueeze(x,2)\n",
    "        #print(x.shape)\n",
    "        \n",
    "        x = self.lin(x)\n",
    "        \n",
    "        x= x.sigmoid()\n",
    "        \n",
    "        \n",
    "        node_class_hidden = self.conv1_node_class(dicriminator,edge_index)\n",
    "        node_class_hidden = node_class_hidden.relu()\n",
    "        \n",
    "        node_class_hidden = self.conv2_node_class(node_class_hidden,edge_index)\n",
    "        node_class_hidden = node_class_hidden.relu()\n",
    "        \n",
    "        #print(index_arr.shape , node_class_hidden.shape)\n",
    "        \n",
    "        node_class_hidden = node_class_hidden[index_arr]\n",
    "        \n",
    "        #print(node_class_hidden.shape)\n",
    "        node_class_hidden = torch.unsqueeze(node_class_hidden, dim=2)\n",
    "        \n",
    "        node_pre = self.lin_node_class(node_class_hidden)\n",
    "        \n",
    "            \n",
    "        #print(\"hiiii :\" , dicriminator.shape)\n",
    "        dis_invariant = self.dis(dicriminator,edge_index,batch,drop_en)\n",
    "        \n",
    "        return x ,dis_invariant ,node_pre\n",
    "\n",
    "model = GCN(hidden_channels=128).to(device)\n",
    "print(model)\n",
    "\n",
    "def check_folder(log_dir):\n",
    "    if not os.path.exists(log_dir):\n",
    "        os.makedirs(log_dir)\n",
    "    return log_dir\n",
    "\n",
    "optimizer = torch.optim.Adam(model.parameters(), lr=0.0001)\n",
    "#criterion = torch.nn.CrossEntropyLoss()\n",
    "criterion= nn.BCELoss()\n",
    "criterion_node_class=  torch.nn.CrossEntropyLoss()\n",
    "criterion_2 = FocalLoss(gamma=2)\n",
    "def train(epoch):\n",
    "    model.train()\n",
    "    losses_adv_loss=0\n",
    "    losses_loss_cls=0\n",
    "    total_loss = 0\n",
    "    losses_node_cls_loss = 0\n",
    "    progress_bar = tqdm(train_loader, desc=f'Epoch {epoch+1}', unit='batch')\n",
    "    for graph in progress_bar:  # Iterate in batches over the training dataset.\n",
    "        graph = graph.to(device)  # Move data to the device\n",
    "        \n",
    "        drop_en = bool(np.random.binomial(1, 0.5))\n",
    "        \n",
    "        if graph.x.shape[0] < 29952 :\n",
    "            \n",
    "            if graph.x.shape[0] < 64:\n",
    "            \n",
    "                index_arr = torch.randint(0, int(graph.x.shape[0]), (int(graph.x.shape[0]),)).to(device)\n",
    "            else :\n",
    "                \n",
    "                index_arr = torch.randint(0, int(graph.x.shape[0]), (64,)).to(device)\n",
    "        else :\n",
    "                \n",
    "            index_arr = torch.randint(0, 29952, (64,)).to(device)\n",
    "        \n",
    "        \n",
    "        \n",
    "        out,domain_invariant,node_pre = model(graph.x, graph.edge_index, graph.batch,drop_en,index_arr)  # Perform a single forward pass.\n",
    "        \n",
    "        adv_loss = criterion_2(domain_invariant, graph.data)\n",
    "        \n",
    "        node_cls_loss = criterion_node_class(node_pre.squeeze(),graph.y_node.float()[index_arr])\n",
    "        #print(out.shape , graph.y.long().shape)\n",
    "        loss_cls = criterion(out.squeeze(), graph.y.float())  # Compute the loss.\n",
    "        \n",
    "        loss_all = adv_loss + loss_cls + node_cls_loss\n",
    "        loss_all.backward()  # Derive gradients.\n",
    "        optimizer.step()  # Update parameters based on gradients.\n",
    "        optimizer.zero_grad()  # Clear gradients.\n",
    "        total_loss = loss_all + total_loss\n",
    "        losses_adv_loss = adv_loss + losses_adv_loss\n",
    "        losses_loss_cls = loss_cls + losses_loss_cls\n",
    "        losses_node_cls_loss = node_cls_loss + losses_node_cls_loss\n",
    "\n",
    "\n",
    "    print(\"/////////////////////////\")\n",
    "    print(\"adverserial loss : \" ,losses_adv_loss/len(train_loader.dataset))  \n",
    "    print(\"classification loss : \" , losses_loss_cls/len(train_loader.dataset))\n",
    "    print(\"classification node loss : \" , losses_node_cls_loss/len(train_loader.dataset))\n",
    "    print(\"total loss : \" ,total_loss/len(train_loader.dataset) )\n",
    "    print(\"////////////////////////////////////\")\n",
    "def test(loader,epoch):\n",
    "    score_path = os.path.join(\"/home/hassan-hossein/single_image_graph_face_anti_spoofing/train/Scores\", \"epoch_{}\".format(epoch+1))\n",
    "    check_folder(score_path)\n",
    "    model.eval()\n",
    "    with torch.no_grad():\n",
    "        scores_list = []\n",
    "\n",
    "        correct = 0\n",
    "        s= 0\n",
    "        progress_bar = tqdm(loader, desc=f'Epoch {epoch+1}', unit='batch')\n",
    "        for graph in progress_bar:  # Iterate in batches over the training/test dataset.\n",
    "            if graph.x.shape[0] < 29952 :\n",
    "\n",
    "                if graph.x.shape[0] < 64:\n",
    "\n",
    "                    index_arr = torch.randint(0, int(graph.x.shape[0]), (int(graph.x.shape[0]),)).to(device)\n",
    "                else :\n",
    "\n",
    "                    index_arr = torch.randint(0, int(graph.x.shape[0]), (64,)).to(device)\n",
    "            else :\n",
    "\n",
    "                index_arr = torch.randint(0, 29952, (64,)).to(device)\n",
    "                \n",
    "            graph = graph.to(device)  # Move data to the device\n",
    "            logit,_ ,_= model(graph.x, graph.edge_index, graph.batch,False,index_arr)\n",
    "            live_label = graph.y.float()\n",
    "            for i in range(len(logit)):\n",
    "                        scores_list.append(\"{} {}\\n\".format(logit[i].item(), live_label[i].item()))\n",
    "  # Check against ground-truth labels.\n",
    "    map_score_val_filename = os.path.join(score_path, \"score.txt\")\n",
    "    with open(map_score_val_filename, 'w') as file:\n",
    "                file.writelines(scores_list)\n",
    "    print(\"score: write test scores to {}\".format(map_score_val_filename))\n",
    "    test_ACC, fpr, FRR, HTER, auc_test, test_err, tpr = performances_val(map_score_val_filename)\n",
    "    print(\"epoch:{:d}, test:  val_ACC={:.4f}, HTER={:.4f}, AUC={:.4f}, val_err={:.4f}, ACC={:.4f}, TPR={:.4f}\".format(\n",
    "        epoch + 1, test_ACC, HTER, auc_test, test_err, test_ACC, tpr))  \n",
    "    return auc_test\n",
    "\n",
    "\n"
   ]
  },
  {
   "cell_type": "code",
   "execution_count": 3,
   "id": "a8b5ed15",
   "metadata": {},
   "outputs": [
    {
     "name": "stderr",
     "output_type": "stream",
     "text": [
      "Epoch 1: 100%|███████████████████████████| 3448/3448 [15:20<00:00,  3.74batch/s]\n"
     ]
    },
    {
     "name": "stdout",
     "output_type": "stream",
     "text": [
      "/////////////////////////\n",
      "adverserial loss :  tensor(0.0004, device='cuda:1', grad_fn=<DivBackward0>)\n",
      "classification loss :  tensor(0.0005, device='cuda:1', grad_fn=<DivBackward0>)\n",
      "classification node loss :  tensor(0.0084, device='cuda:1', grad_fn=<DivBackward0>)\n",
      "total loss :  tensor(0.0094, device='cuda:1', grad_fn=<DivBackward0>)\n",
      "////////////////////////////////////\n",
      "***************************\n",
      "test : \n"
     ]
    },
    {
     "name": "stderr",
     "output_type": "stream",
     "text": [
      "Epoch 1: 100%|█████████████████████████████| 243/243 [00:47<00:00,  5.15batch/s]\n"
     ]
    },
    {
     "name": "stdout",
     "output_type": "stream",
     "text": [
      "score: write test scores to /home/hassan-hossein/single_image_graph_face_anti_spoofing/train/Scores/epoch_1/score.txt\n",
      "epoch:1, test:  val_ACC=0.8708, HTER=0.1292, AUC=0.9330, val_err=0.1292, ACC=0.8708, TPR=0.4318\n",
      "improve acc .. .. ..\n"
     ]
    },
    {
     "name": "stderr",
     "output_type": "stream",
     "text": [
      "Epoch 2: 100%|███████████████████████████| 3448/3448 [15:15<00:00,  3.77batch/s]\n"
     ]
    },
    {
     "name": "stdout",
     "output_type": "stream",
     "text": [
      "/////////////////////////\n",
      "adverserial loss :  tensor(2.7877e-05, device='cuda:1', grad_fn=<DivBackward0>)\n",
      "classification loss :  tensor(7.3326e-05, device='cuda:1', grad_fn=<DivBackward0>)\n",
      "classification node loss :  tensor(0.0038, device='cuda:1', grad_fn=<DivBackward0>)\n",
      "total loss :  tensor(0.0039, device='cuda:1', grad_fn=<DivBackward0>)\n",
      "////////////////////////////////////\n",
      "***************************\n",
      "test : \n"
     ]
    },
    {
     "name": "stderr",
     "output_type": "stream",
     "text": [
      "Epoch 2: 100%|█████████████████████████████| 243/243 [00:47<00:00,  5.16batch/s]\n"
     ]
    },
    {
     "name": "stdout",
     "output_type": "stream",
     "text": [
      "score: write test scores to /home/hassan-hossein/single_image_graph_face_anti_spoofing/train/Scores/epoch_2/score.txt\n",
      "epoch:2, test:  val_ACC=0.8873, HTER=0.1127, AUC=0.9460, val_err=0.1128, ACC=0.8873, TPR=0.6325\n",
      "improve acc .. .. ..\n"
     ]
    },
    {
     "name": "stderr",
     "output_type": "stream",
     "text": [
      "Epoch 3: 100%|███████████████████████████| 3448/3448 [14:48<00:00,  3.88batch/s]\n"
     ]
    },
    {
     "name": "stdout",
     "output_type": "stream",
     "text": [
      "/////////////////////////\n",
      "adverserial loss :  tensor(1.3197e-05, device='cuda:1', grad_fn=<DivBackward0>)\n",
      "classification loss :  tensor(6.0574e-05, device='cuda:1', grad_fn=<DivBackward0>)\n",
      "classification node loss :  tensor(0.0030, device='cuda:1', grad_fn=<DivBackward0>)\n",
      "total loss :  tensor(0.0030, device='cuda:1', grad_fn=<DivBackward0>)\n",
      "////////////////////////////////////\n",
      "***************************\n",
      "test : \n"
     ]
    },
    {
     "name": "stderr",
     "output_type": "stream",
     "text": [
      "Epoch 3: 100%|█████████████████████████████| 243/243 [00:47<00:00,  5.12batch/s]\n"
     ]
    },
    {
     "name": "stdout",
     "output_type": "stream",
     "text": [
      "score: write test scores to /home/hassan-hossein/single_image_graph_face_anti_spoofing/train/Scores/epoch_3/score.txt\n",
      "epoch:3, test:  val_ACC=0.8693, HTER=0.1307, AUC=0.9342, val_err=0.1308, ACC=0.8693, TPR=0.5358\n"
     ]
    },
    {
     "name": "stderr",
     "output_type": "stream",
     "text": [
      "Epoch 4: 100%|███████████████████████████| 3448/3448 [15:04<00:00,  3.81batch/s]\n"
     ]
    },
    {
     "name": "stdout",
     "output_type": "stream",
     "text": [
      "/////////////////////////\n",
      "adverserial loss :  tensor(1.2193e-05, device='cuda:1', grad_fn=<DivBackward0>)\n",
      "classification loss :  tensor(5.6093e-05, device='cuda:1', grad_fn=<DivBackward0>)\n",
      "classification node loss :  tensor(0.0024, device='cuda:1', grad_fn=<DivBackward0>)\n",
      "total loss :  tensor(0.0025, device='cuda:1', grad_fn=<DivBackward0>)\n",
      "////////////////////////////////////\n",
      "***************************\n",
      "test : \n"
     ]
    },
    {
     "name": "stderr",
     "output_type": "stream",
     "text": [
      "Epoch 4: 100%|█████████████████████████████| 243/243 [00:48<00:00,  4.98batch/s]\n"
     ]
    },
    {
     "name": "stdout",
     "output_type": "stream",
     "text": [
      "score: write test scores to /home/hassan-hossein/single_image_graph_face_anti_spoofing/train/Scores/epoch_4/score.txt\n",
      "epoch:4, test:  val_ACC=0.8699, HTER=0.1301, AUC=0.9269, val_err=0.1301, ACC=0.8699, TPR=0.4236\n"
     ]
    },
    {
     "name": "stderr",
     "output_type": "stream",
     "text": [
      "Epoch 5: 100%|███████████████████████████| 3448/3448 [15:17<00:00,  3.76batch/s]\n"
     ]
    },
    {
     "name": "stdout",
     "output_type": "stream",
     "text": [
      "/////////////////////////\n",
      "adverserial loss :  tensor(1.1350e-05, device='cuda:1', grad_fn=<DivBackward0>)\n",
      "classification loss :  tensor(4.2100e-05, device='cuda:1', grad_fn=<DivBackward0>)\n",
      "classification node loss :  tensor(0.0020, device='cuda:1', grad_fn=<DivBackward0>)\n",
      "total loss :  tensor(0.0021, device='cuda:1', grad_fn=<DivBackward0>)\n",
      "////////////////////////////////////\n",
      "***************************\n",
      "test : \n"
     ]
    },
    {
     "name": "stderr",
     "output_type": "stream",
     "text": [
      "Epoch 5: 100%|█████████████████████████████| 243/243 [00:45<00:00,  5.37batch/s]\n"
     ]
    },
    {
     "name": "stdout",
     "output_type": "stream",
     "text": [
      "score: write test scores to /home/hassan-hossein/single_image_graph_face_anti_spoofing/train/Scores/epoch_5/score.txt\n",
      "epoch:5, test:  val_ACC=0.8509, HTER=0.1492, AUC=0.9257, val_err=0.1492, ACC=0.8509, TPR=0.6373\n"
     ]
    },
    {
     "name": "stderr",
     "output_type": "stream",
     "text": [
      "Epoch 6: 100%|███████████████████████████| 3448/3448 [12:22<00:00,  4.64batch/s]\n"
     ]
    },
    {
     "name": "stdout",
     "output_type": "stream",
     "text": [
      "/////////////////////////\n",
      "adverserial loss :  tensor(8.1864e-06, device='cuda:1', grad_fn=<DivBackward0>)\n",
      "classification loss :  tensor(4.2040e-05, device='cuda:1', grad_fn=<DivBackward0>)\n",
      "classification node loss :  tensor(0.0017, device='cuda:1', grad_fn=<DivBackward0>)\n",
      "total loss :  tensor(0.0018, device='cuda:1', grad_fn=<DivBackward0>)\n",
      "////////////////////////////////////\n",
      "***************************\n",
      "test : \n"
     ]
    },
    {
     "name": "stderr",
     "output_type": "stream",
     "text": [
      "Epoch 6: 100%|█████████████████████████████| 243/243 [00:39<00:00,  6.09batch/s]\n"
     ]
    },
    {
     "name": "stdout",
     "output_type": "stream",
     "text": [
      "score: write test scores to /home/hassan-hossein/single_image_graph_face_anti_spoofing/train/Scores/epoch_6/score.txt\n",
      "epoch:6, test:  val_ACC=0.8501, HTER=0.1500, AUC=0.9274, val_err=0.1500, ACC=0.8501, TPR=0.5023\n"
     ]
    },
    {
     "name": "stderr",
     "output_type": "stream",
     "text": [
      "Epoch 7: 100%|███████████████████████████| 3448/3448 [09:08<00:00,  6.28batch/s]\n"
     ]
    },
    {
     "name": "stdout",
     "output_type": "stream",
     "text": [
      "/////////////////////////\n",
      "adverserial loss :  tensor(7.5404e-06, device='cuda:1', grad_fn=<DivBackward0>)\n",
      "classification loss :  tensor(3.0405e-05, device='cuda:1', grad_fn=<DivBackward0>)\n",
      "classification node loss :  tensor(0.0015, device='cuda:1', grad_fn=<DivBackward0>)\n",
      "total loss :  tensor(0.0015, device='cuda:1', grad_fn=<DivBackward0>)\n",
      "////////////////////////////////////\n",
      "***************************\n",
      "test : \n"
     ]
    },
    {
     "name": "stderr",
     "output_type": "stream",
     "text": [
      "Epoch 7: 100%|█████████████████████████████| 243/243 [00:40<00:00,  6.03batch/s]\n"
     ]
    },
    {
     "name": "stdout",
     "output_type": "stream",
     "text": [
      "score: write test scores to /home/hassan-hossein/single_image_graph_face_anti_spoofing/train/Scores/epoch_7/score.txt\n",
      "epoch:7, test:  val_ACC=0.8788, HTER=0.1213, AUC=0.9365, val_err=0.1213, ACC=0.8788, TPR=0.7233\n"
     ]
    },
    {
     "name": "stderr",
     "output_type": "stream",
     "text": [
      "Epoch 8: 100%|███████████████████████████| 3448/3448 [09:00<00:00,  6.38batch/s]\n"
     ]
    },
    {
     "name": "stdout",
     "output_type": "stream",
     "text": [
      "/////////////////////////\n",
      "adverserial loss :  tensor(7.4412e-06, device='cuda:1', grad_fn=<DivBackward0>)\n",
      "classification loss :  tensor(2.5081e-05, device='cuda:1', grad_fn=<DivBackward0>)\n",
      "classification node loss :  tensor(0.0013, device='cuda:1', grad_fn=<DivBackward0>)\n",
      "total loss :  tensor(0.0013, device='cuda:1', grad_fn=<DivBackward0>)\n",
      "////////////////////////////////////\n",
      "***************************\n",
      "test : \n"
     ]
    },
    {
     "name": "stderr",
     "output_type": "stream",
     "text": [
      "Epoch 8: 100%|█████████████████████████████| 243/243 [00:40<00:00,  6.01batch/s]\n"
     ]
    },
    {
     "name": "stdout",
     "output_type": "stream",
     "text": [
      "score: write test scores to /home/hassan-hossein/single_image_graph_face_anti_spoofing/train/Scores/epoch_8/score.txt\n",
      "epoch:8, test:  val_ACC=0.9019, HTER=0.0982, AUC=0.9594, val_err=0.0982, ACC=0.9019, TPR=0.7338\n",
      "improve acc .. .. ..\n"
     ]
    },
    {
     "name": "stderr",
     "output_type": "stream",
     "text": [
      "Epoch 9: 100%|███████████████████████████| 3448/3448 [09:06<00:00,  6.31batch/s]\n"
     ]
    },
    {
     "name": "stdout",
     "output_type": "stream",
     "text": [
      "/////////////////////////\n",
      "adverserial loss :  tensor(3.9063e-06, device='cuda:1', grad_fn=<DivBackward0>)\n",
      "classification loss :  tensor(3.6910e-05, device='cuda:1', grad_fn=<DivBackward0>)\n",
      "classification node loss :  tensor(0.0011, device='cuda:1', grad_fn=<DivBackward0>)\n",
      "total loss :  tensor(0.0011, device='cuda:1', grad_fn=<DivBackward0>)\n",
      "////////////////////////////////////\n",
      "***************************\n",
      "test : \n"
     ]
    },
    {
     "name": "stderr",
     "output_type": "stream",
     "text": [
      "Epoch 9: 100%|█████████████████████████████| 243/243 [00:39<00:00,  6.15batch/s]\n"
     ]
    },
    {
     "name": "stdout",
     "output_type": "stream",
     "text": [
      "score: write test scores to /home/hassan-hossein/single_image_graph_face_anti_spoofing/train/Scores/epoch_9/score.txt\n",
      "epoch:9, test:  val_ACC=0.8541, HTER=0.1459, AUC=0.9237, val_err=0.1459, ACC=0.8541, TPR=0.5499\n"
     ]
    },
    {
     "name": "stderr",
     "output_type": "stream",
     "text": [
      "Epoch 10: 100%|██████████████████████████| 3448/3448 [09:01<00:00,  6.36batch/s]\n"
     ]
    },
    {
     "name": "stdout",
     "output_type": "stream",
     "text": [
      "/////////////////////////\n",
      "adverserial loss :  tensor(4.6920e-06, device='cuda:1', grad_fn=<DivBackward0>)\n",
      "classification loss :  tensor(2.2896e-05, device='cuda:1', grad_fn=<DivBackward0>)\n",
      "classification node loss :  tensor(0.0010, device='cuda:1', grad_fn=<DivBackward0>)\n",
      "total loss :  tensor(0.0010, device='cuda:1', grad_fn=<DivBackward0>)\n",
      "////////////////////////////////////\n",
      "***************************\n",
      "test : \n"
     ]
    },
    {
     "name": "stderr",
     "output_type": "stream",
     "text": [
      "Epoch 10: 100%|████████████████████████████| 243/243 [00:38<00:00,  6.34batch/s]\n"
     ]
    },
    {
     "name": "stdout",
     "output_type": "stream",
     "text": [
      "score: write test scores to /home/hassan-hossein/single_image_graph_face_anti_spoofing/train/Scores/epoch_10/score.txt\n",
      "epoch:10, test:  val_ACC=0.8693, HTER=0.1307, AUC=0.9342, val_err=0.1307, ACC=0.8693, TPR=0.6175\n"
     ]
    },
    {
     "name": "stderr",
     "output_type": "stream",
     "text": [
      "Epoch 11: 100%|██████████████████████████| 3448/3448 [08:59<00:00,  6.39batch/s]\n"
     ]
    },
    {
     "name": "stdout",
     "output_type": "stream",
     "text": [
      "/////////////////////////\n",
      "adverserial loss :  tensor(4.9171e-06, device='cuda:1', grad_fn=<DivBackward0>)\n",
      "classification loss :  tensor(2.7095e-05, device='cuda:1', grad_fn=<DivBackward0>)\n",
      "classification node loss :  tensor(0.0009, device='cuda:1', grad_fn=<DivBackward0>)\n",
      "total loss :  tensor(0.0009, device='cuda:1', grad_fn=<DivBackward0>)\n",
      "////////////////////////////////////\n",
      "***************************\n",
      "test : \n"
     ]
    },
    {
     "name": "stderr",
     "output_type": "stream",
     "text": [
      "Epoch 11: 100%|████████████████████████████| 243/243 [00:40<00:00,  6.03batch/s]\n"
     ]
    },
    {
     "name": "stdout",
     "output_type": "stream",
     "text": [
      "score: write test scores to /home/hassan-hossein/single_image_graph_face_anti_spoofing/train/Scores/epoch_11/score.txt\n",
      "epoch:11, test:  val_ACC=0.8794, HTER=0.1206, AUC=0.9359, val_err=0.1206, ACC=0.8794, TPR=0.5895\n"
     ]
    },
    {
     "name": "stderr",
     "output_type": "stream",
     "text": [
      "Epoch 12: 100%|██████████████████████████| 3448/3448 [08:59<00:00,  6.39batch/s]\n"
     ]
    },
    {
     "name": "stdout",
     "output_type": "stream",
     "text": [
      "/////////////////////////\n",
      "adverserial loss :  tensor(5.3333e-06, device='cuda:1', grad_fn=<DivBackward0>)\n",
      "classification loss :  tensor(2.0948e-05, device='cuda:1', grad_fn=<DivBackward0>)\n",
      "classification node loss :  tensor(0.0008, device='cuda:1', grad_fn=<DivBackward0>)\n",
      "total loss :  tensor(0.0008, device='cuda:1', grad_fn=<DivBackward0>)\n",
      "////////////////////////////////////\n",
      "***************************\n",
      "test : \n"
     ]
    },
    {
     "name": "stderr",
     "output_type": "stream",
     "text": [
      "Epoch 12: 100%|████████████████████████████| 243/243 [00:39<00:00,  6.21batch/s]\n"
     ]
    },
    {
     "name": "stdout",
     "output_type": "stream",
     "text": [
      "score: write test scores to /home/hassan-hossein/single_image_graph_face_anti_spoofing/train/Scores/epoch_12/score.txt\n",
      "epoch:12, test:  val_ACC=0.8696, HTER=0.1304, AUC=0.9471, val_err=0.1304, ACC=0.8696, TPR=0.6700\n"
     ]
    },
    {
     "name": "stderr",
     "output_type": "stream",
     "text": [
      "Epoch 13: 100%|██████████████████████████| 3448/3448 [09:00<00:00,  6.37batch/s]\n"
     ]
    },
    {
     "name": "stdout",
     "output_type": "stream",
     "text": [
      "/////////////////////////\n",
      "adverserial loss :  tensor(4.8023e-06, device='cuda:1', grad_fn=<DivBackward0>)\n",
      "classification loss :  tensor(1.9461e-05, device='cuda:1', grad_fn=<DivBackward0>)\n",
      "classification node loss :  tensor(0.0007, device='cuda:1', grad_fn=<DivBackward0>)\n",
      "total loss :  tensor(0.0007, device='cuda:1', grad_fn=<DivBackward0>)\n",
      "////////////////////////////////////\n",
      "***************************\n",
      "test : \n"
     ]
    },
    {
     "name": "stderr",
     "output_type": "stream",
     "text": [
      "Epoch 13: 100%|████████████████████████████| 243/243 [00:38<00:00,  6.26batch/s]\n"
     ]
    },
    {
     "name": "stdout",
     "output_type": "stream",
     "text": [
      "score: write test scores to /home/hassan-hossein/single_image_graph_face_anti_spoofing/train/Scores/epoch_13/score.txt\n",
      "epoch:13, test:  val_ACC=0.8884, HTER=0.1116, AUC=0.9573, val_err=0.1117, ACC=0.8884, TPR=0.7449\n"
     ]
    },
    {
     "name": "stderr",
     "output_type": "stream",
     "text": [
      "Epoch 14: 100%|██████████████████████████| 3448/3448 [09:00<00:00,  6.38batch/s]\n"
     ]
    },
    {
     "name": "stdout",
     "output_type": "stream",
     "text": [
      "/////////////////////////\n",
      "adverserial loss :  tensor(1.5531e-06, device='cuda:1', grad_fn=<DivBackward0>)\n",
      "classification loss :  tensor(1.5882e-05, device='cuda:1', grad_fn=<DivBackward0>)\n",
      "classification node loss :  tensor(0.0006, device='cuda:1', grad_fn=<DivBackward0>)\n",
      "total loss :  tensor(0.0007, device='cuda:1', grad_fn=<DivBackward0>)\n",
      "////////////////////////////////////\n",
      "***************************\n",
      "test : \n"
     ]
    },
    {
     "name": "stderr",
     "output_type": "stream",
     "text": [
      "Epoch 14: 100%|████████████████████████████| 243/243 [00:39<00:00,  6.23batch/s]\n"
     ]
    },
    {
     "name": "stdout",
     "output_type": "stream",
     "text": [
      "score: write test scores to /home/hassan-hossein/single_image_graph_face_anti_spoofing/train/Scores/epoch_14/score.txt\n",
      "epoch:14, test:  val_ACC=0.8858, HTER=0.1142, AUC=0.9502, val_err=0.1142, ACC=0.8858, TPR=0.6644\n"
     ]
    },
    {
     "name": "stderr",
     "output_type": "stream",
     "text": [
      "Epoch 15: 100%|██████████████████████████| 3448/3448 [09:00<00:00,  6.38batch/s]\n"
     ]
    },
    {
     "name": "stdout",
     "output_type": "stream",
     "text": [
      "/////////////////////////\n",
      "adverserial loss :  tensor(3.9793e-06, device='cuda:1', grad_fn=<DivBackward0>)\n",
      "classification loss :  tensor(1.8352e-05, device='cuda:1', grad_fn=<DivBackward0>)\n",
      "classification node loss :  tensor(0.0006, device='cuda:1', grad_fn=<DivBackward0>)\n",
      "total loss :  tensor(0.0006, device='cuda:1', grad_fn=<DivBackward0>)\n",
      "////////////////////////////////////\n",
      "***************************\n",
      "test : \n"
     ]
    },
    {
     "name": "stderr",
     "output_type": "stream",
     "text": [
      "Epoch 15: 100%|████████████████████████████| 243/243 [00:40<00:00,  6.03batch/s]\n"
     ]
    },
    {
     "name": "stdout",
     "output_type": "stream",
     "text": [
      "score: write test scores to /home/hassan-hossein/single_image_graph_face_anti_spoofing/train/Scores/epoch_15/score.txt\n",
      "epoch:15, test:  val_ACC=0.8736, HTER=0.1263, AUC=0.9415, val_err=0.1264, ACC=0.8736, TPR=0.6700\n"
     ]
    },
    {
     "name": "stderr",
     "output_type": "stream",
     "text": [
      "Epoch 16: 100%|██████████████████████████| 3448/3448 [09:00<00:00,  6.38batch/s]\n"
     ]
    },
    {
     "name": "stdout",
     "output_type": "stream",
     "text": [
      "/////////////////////////\n",
      "adverserial loss :  tensor(1.9648e-06, device='cuda:1', grad_fn=<DivBackward0>)\n",
      "classification loss :  tensor(1.5748e-05, device='cuda:1', grad_fn=<DivBackward0>)\n",
      "classification node loss :  tensor(0.0005, device='cuda:1', grad_fn=<DivBackward0>)\n",
      "total loss :  tensor(0.0006, device='cuda:1', grad_fn=<DivBackward0>)\n",
      "////////////////////////////////////\n",
      "***************************\n",
      "test : \n"
     ]
    },
    {
     "name": "stderr",
     "output_type": "stream",
     "text": [
      "Epoch 16: 100%|████████████████████████████| 243/243 [00:39<00:00,  6.22batch/s]\n"
     ]
    },
    {
     "name": "stdout",
     "output_type": "stream",
     "text": [
      "score: write test scores to /home/hassan-hossein/single_image_graph_face_anti_spoofing/train/Scores/epoch_16/score.txt\n",
      "epoch:16, test:  val_ACC=0.8820, HTER=0.1180, AUC=0.9540, val_err=0.1180, ACC=0.8820, TPR=0.7166\n"
     ]
    },
    {
     "name": "stderr",
     "output_type": "stream",
     "text": [
      "Epoch 17: 100%|██████████████████████████| 3448/3448 [08:59<00:00,  6.39batch/s]\n"
     ]
    },
    {
     "name": "stdout",
     "output_type": "stream",
     "text": [
      "/////////////////////////\n",
      "adverserial loss :  tensor(1.0391e-05, device='cuda:1', grad_fn=<DivBackward0>)\n",
      "classification loss :  tensor(1.7481e-05, device='cuda:1', grad_fn=<DivBackward0>)\n",
      "classification node loss :  tensor(0.0005, device='cuda:1', grad_fn=<DivBackward0>)\n",
      "total loss :  tensor(0.0005, device='cuda:1', grad_fn=<DivBackward0>)\n",
      "////////////////////////////////////\n",
      "***************************\n",
      "test : \n"
     ]
    },
    {
     "name": "stderr",
     "output_type": "stream",
     "text": [
      "Epoch 17: 100%|████████████████████████████| 243/243 [00:39<00:00,  6.12batch/s]\n"
     ]
    },
    {
     "name": "stdout",
     "output_type": "stream",
     "text": [
      "score: write test scores to /home/hassan-hossein/single_image_graph_face_anti_spoofing/train/Scores/epoch_17/score.txt\n",
      "epoch:17, test:  val_ACC=0.8789, HTER=0.1211, AUC=0.9385, val_err=0.1211, ACC=0.8789, TPR=0.6358\n"
     ]
    },
    {
     "name": "stderr",
     "output_type": "stream",
     "text": [
      "Epoch 18: 100%|██████████████████████████| 3448/3448 [08:58<00:00,  6.40batch/s]\n"
     ]
    },
    {
     "name": "stdout",
     "output_type": "stream",
     "text": [
      "/////////////////////////\n",
      "adverserial loss :  tensor(2.3677e-06, device='cuda:1', grad_fn=<DivBackward0>)\n",
      "classification loss :  tensor(1.2678e-05, device='cuda:1', grad_fn=<DivBackward0>)\n",
      "classification node loss :  tensor(0.0005, device='cuda:1', grad_fn=<DivBackward0>)\n",
      "total loss :  tensor(0.0005, device='cuda:1', grad_fn=<DivBackward0>)\n",
      "////////////////////////////////////\n",
      "***************************\n",
      "test : \n"
     ]
    },
    {
     "name": "stderr",
     "output_type": "stream",
     "text": [
      "Epoch 18: 100%|████████████████████████████| 243/243 [00:38<00:00,  6.26batch/s]\n"
     ]
    },
    {
     "name": "stdout",
     "output_type": "stream",
     "text": [
      "score: write test scores to /home/hassan-hossein/single_image_graph_face_anti_spoofing/train/Scores/epoch_18/score.txt\n",
      "epoch:18, test:  val_ACC=0.8789, HTER=0.1211, AUC=0.9484, val_err=0.1211, ACC=0.8789, TPR=0.6592\n"
     ]
    },
    {
     "name": "stderr",
     "output_type": "stream",
     "text": [
      "Epoch 19: 100%|██████████████████████████| 3448/3448 [08:58<00:00,  6.40batch/s]\n"
     ]
    },
    {
     "name": "stdout",
     "output_type": "stream",
     "text": [
      "/////////////////////////\n",
      "adverserial loss :  tensor(2.2675e-06, device='cuda:1', grad_fn=<DivBackward0>)\n",
      "classification loss :  tensor(1.6596e-05, device='cuda:1', grad_fn=<DivBackward0>)\n",
      "classification node loss :  tensor(0.0005, device='cuda:1', grad_fn=<DivBackward0>)\n",
      "total loss :  tensor(0.0005, device='cuda:1', grad_fn=<DivBackward0>)\n",
      "////////////////////////////////////\n",
      "***************************\n",
      "test : \n"
     ]
    },
    {
     "name": "stderr",
     "output_type": "stream",
     "text": [
      "Epoch 19: 100%|████████████████████████████| 243/243 [00:38<00:00,  6.24batch/s]\n"
     ]
    },
    {
     "name": "stdout",
     "output_type": "stream",
     "text": [
      "score: write test scores to /home/hassan-hossein/single_image_graph_face_anti_spoofing/train/Scores/epoch_19/score.txt\n",
      "epoch:19, test:  val_ACC=0.8529, HTER=0.1471, AUC=0.9167, val_err=0.1472, ACC=0.8529, TPR=0.5661\n"
     ]
    },
    {
     "name": "stderr",
     "output_type": "stream",
     "text": [
      "Epoch 20: 100%|██████████████████████████| 3448/3448 [09:00<00:00,  6.38batch/s]\n"
     ]
    },
    {
     "name": "stdout",
     "output_type": "stream",
     "text": [
      "/////////////////////////\n",
      "adverserial loss :  tensor(3.1694e-06, device='cuda:1', grad_fn=<DivBackward0>)\n",
      "classification loss :  tensor(1.6230e-05, device='cuda:1', grad_fn=<DivBackward0>)\n",
      "classification node loss :  tensor(0.0004, device='cuda:1', grad_fn=<DivBackward0>)\n",
      "total loss :  tensor(0.0004, device='cuda:1', grad_fn=<DivBackward0>)\n",
      "////////////////////////////////////\n",
      "***************************\n",
      "test : \n"
     ]
    },
    {
     "name": "stderr",
     "output_type": "stream",
     "text": [
      "Epoch 20: 100%|████████████████████████████| 243/243 [00:38<00:00,  6.24batch/s]\n"
     ]
    },
    {
     "name": "stdout",
     "output_type": "stream",
     "text": [
      "score: write test scores to /home/hassan-hossein/single_image_graph_face_anti_spoofing/train/Scores/epoch_20/score.txt\n",
      "epoch:20, test:  val_ACC=0.8668, HTER=0.1332, AUC=0.9322, val_err=0.1332, ACC=0.8668, TPR=0.6479\n"
     ]
    },
    {
     "name": "stderr",
     "output_type": "stream",
     "text": [
      "Epoch 21: 100%|██████████████████████████| 3448/3448 [08:58<00:00,  6.41batch/s]\n"
     ]
    },
    {
     "name": "stdout",
     "output_type": "stream",
     "text": [
      "/////////////////////////\n",
      "adverserial loss :  tensor(2.2036e-06, device='cuda:1', grad_fn=<DivBackward0>)\n",
      "classification loss :  tensor(1.0924e-05, device='cuda:1', grad_fn=<DivBackward0>)\n",
      "classification node loss :  tensor(0.0004, device='cuda:1', grad_fn=<DivBackward0>)\n",
      "total loss :  tensor(0.0004, device='cuda:1', grad_fn=<DivBackward0>)\n",
      "////////////////////////////////////\n",
      "***************************\n",
      "test : \n"
     ]
    },
    {
     "name": "stderr",
     "output_type": "stream",
     "text": [
      "Epoch 21: 100%|████████████████████████████| 243/243 [00:39<00:00,  6.12batch/s]\n"
     ]
    },
    {
     "name": "stdout",
     "output_type": "stream",
     "text": [
      "score: write test scores to /home/hassan-hossein/single_image_graph_face_anti_spoofing/train/Scores/epoch_21/score.txt\n",
      "epoch:21, test:  val_ACC=0.8788, HTER=0.1212, AUC=0.9493, val_err=0.1213, ACC=0.8788, TPR=0.7415\n"
     ]
    },
    {
     "name": "stderr",
     "output_type": "stream",
     "text": [
      "Epoch 22: 100%|██████████████████████████| 3448/3448 [09:00<00:00,  6.38batch/s]\n"
     ]
    },
    {
     "name": "stdout",
     "output_type": "stream",
     "text": [
      "/////////////////////////\n",
      "adverserial loss :  tensor(3.7612e-06, device='cuda:1', grad_fn=<DivBackward0>)\n",
      "classification loss :  tensor(1.4398e-05, device='cuda:1', grad_fn=<DivBackward0>)\n",
      "classification node loss :  tensor(0.0004, device='cuda:1', grad_fn=<DivBackward0>)\n",
      "total loss :  tensor(0.0004, device='cuda:1', grad_fn=<DivBackward0>)\n",
      "////////////////////////////////////\n",
      "***************************\n",
      "test : \n"
     ]
    },
    {
     "name": "stderr",
     "output_type": "stream",
     "text": [
      "Epoch 22: 100%|████████████████████████████| 243/243 [00:38<00:00,  6.31batch/s]\n"
     ]
    },
    {
     "name": "stdout",
     "output_type": "stream",
     "text": [
      "score: write test scores to /home/hassan-hossein/single_image_graph_face_anti_spoofing/train/Scores/epoch_22/score.txt\n",
      "epoch:22, test:  val_ACC=0.8979, HTER=0.1021, AUC=0.9505, val_err=0.1021, ACC=0.8979, TPR=0.7384\n"
     ]
    },
    {
     "name": "stderr",
     "output_type": "stream",
     "text": [
      "Epoch 23: 100%|██████████████████████████| 3448/3448 [08:58<00:00,  6.40batch/s]\n"
     ]
    },
    {
     "name": "stdout",
     "output_type": "stream",
     "text": [
      "/////////////////////////\n",
      "adverserial loss :  tensor(2.8260e-06, device='cuda:1', grad_fn=<DivBackward0>)\n",
      "classification loss :  tensor(9.8946e-06, device='cuda:1', grad_fn=<DivBackward0>)\n",
      "classification node loss :  tensor(0.0003, device='cuda:1', grad_fn=<DivBackward0>)\n",
      "total loss :  tensor(0.0004, device='cuda:1', grad_fn=<DivBackward0>)\n",
      "////////////////////////////////////\n",
      "***************************\n",
      "test : \n"
     ]
    },
    {
     "name": "stderr",
     "output_type": "stream",
     "text": [
      "Epoch 23: 100%|████████████████████████████| 243/243 [00:38<00:00,  6.24batch/s]\n"
     ]
    },
    {
     "name": "stdout",
     "output_type": "stream",
     "text": [
      "score: write test scores to /home/hassan-hossein/single_image_graph_face_anti_spoofing/train/Scores/epoch_23/score.txt\n",
      "epoch:23, test:  val_ACC=0.8995, HTER=0.1005, AUC=0.9483, val_err=0.1005, ACC=0.8995, TPR=0.6397\n"
     ]
    },
    {
     "name": "stderr",
     "output_type": "stream",
     "text": [
      "Epoch 24: 100%|██████████████████████████| 3448/3448 [08:58<00:00,  6.41batch/s]\n"
     ]
    },
    {
     "name": "stdout",
     "output_type": "stream",
     "text": [
      "/////////////////////////\n",
      "adverserial loss :  tensor(3.0173e-06, device='cuda:1', grad_fn=<DivBackward0>)\n",
      "classification loss :  tensor(1.1854e-05, device='cuda:1', grad_fn=<DivBackward0>)\n",
      "classification node loss :  tensor(0.0003, device='cuda:1', grad_fn=<DivBackward0>)\n",
      "total loss :  tensor(0.0004, device='cuda:1', grad_fn=<DivBackward0>)\n",
      "////////////////////////////////////\n",
      "***************************\n",
      "test : \n"
     ]
    },
    {
     "name": "stderr",
     "output_type": "stream",
     "text": [
      "Epoch 24: 100%|████████████████████████████| 243/243 [00:39<00:00,  6.12batch/s]\n"
     ]
    },
    {
     "name": "stdout",
     "output_type": "stream",
     "text": [
      "score: write test scores to /home/hassan-hossein/single_image_graph_face_anti_spoofing/train/Scores/epoch_24/score.txt\n",
      "epoch:24, test:  val_ACC=0.8643, HTER=0.1358, AUC=0.9422, val_err=0.1358, ACC=0.8643, TPR=0.6281\n"
     ]
    },
    {
     "name": "stderr",
     "output_type": "stream",
     "text": [
      "Epoch 25: 100%|██████████████████████████| 3448/3448 [08:58<00:00,  6.41batch/s]\n"
     ]
    },
    {
     "name": "stdout",
     "output_type": "stream",
     "text": [
      "/////////////////////////\n",
      "adverserial loss :  tensor(4.0403e-06, device='cuda:1', grad_fn=<DivBackward0>)\n",
      "classification loss :  tensor(1.5595e-05, device='cuda:1', grad_fn=<DivBackward0>)\n",
      "classification node loss :  tensor(0.0003, device='cuda:1', grad_fn=<DivBackward0>)\n",
      "total loss :  tensor(0.0003, device='cuda:1', grad_fn=<DivBackward0>)\n",
      "////////////////////////////////////\n",
      "***************************\n",
      "test : \n"
     ]
    },
    {
     "name": "stderr",
     "output_type": "stream",
     "text": [
      "Epoch 25: 100%|████████████████████████████| 243/243 [00:40<00:00,  5.98batch/s]\n"
     ]
    },
    {
     "name": "stdout",
     "output_type": "stream",
     "text": [
      "score: write test scores to /home/hassan-hossein/single_image_graph_face_anti_spoofing/train/Scores/epoch_25/score.txt\n",
      "epoch:25, test:  val_ACC=0.8898, HTER=0.1103, AUC=0.9386, val_err=0.1103, ACC=0.8898, TPR=0.6960\n"
     ]
    },
    {
     "name": "stderr",
     "output_type": "stream",
     "text": [
      "Epoch 26: 100%|██████████████████████████| 3448/3448 [08:58<00:00,  6.41batch/s]\n"
     ]
    },
    {
     "name": "stdout",
     "output_type": "stream",
     "text": [
      "/////////////////////////\n",
      "adverserial loss :  tensor(1.0906e-06, device='cuda:1', grad_fn=<DivBackward0>)\n",
      "classification loss :  tensor(8.0734e-06, device='cuda:1', grad_fn=<DivBackward0>)\n",
      "classification node loss :  tensor(0.0003, device='cuda:1', grad_fn=<DivBackward0>)\n",
      "total loss :  tensor(0.0003, device='cuda:1', grad_fn=<DivBackward0>)\n",
      "////////////////////////////////////\n",
      "***************************\n",
      "test : \n"
     ]
    },
    {
     "name": "stderr",
     "output_type": "stream",
     "text": [
      "Epoch 26: 100%|████████████████████████████| 243/243 [00:39<00:00,  6.22batch/s]\n"
     ]
    },
    {
     "name": "stdout",
     "output_type": "stream",
     "text": [
      "score: write test scores to /home/hassan-hossein/single_image_graph_face_anti_spoofing/train/Scores/epoch_26/score.txt\n",
      "epoch:26, test:  val_ACC=0.8828, HTER=0.1173, AUC=0.9392, val_err=0.1173, ACC=0.8828, TPR=0.6232\n"
     ]
    },
    {
     "name": "stderr",
     "output_type": "stream",
     "text": [
      "Epoch 27: 100%|██████████████████████████| 3448/3448 [08:58<00:00,  6.40batch/s]\n"
     ]
    },
    {
     "name": "stdout",
     "output_type": "stream",
     "text": [
      "/////////////////////////\n",
      "adverserial loss :  tensor(2.6865e-06, device='cuda:1', grad_fn=<DivBackward0>)\n",
      "classification loss :  tensor(1.0338e-05, device='cuda:1', grad_fn=<DivBackward0>)\n",
      "classification node loss :  tensor(0.0003, device='cuda:1', grad_fn=<DivBackward0>)\n",
      "total loss :  tensor(0.0003, device='cuda:1', grad_fn=<DivBackward0>)\n",
      "////////////////////////////////////\n",
      "***************************\n",
      "test : \n"
     ]
    },
    {
     "name": "stderr",
     "output_type": "stream",
     "text": [
      "Epoch 27: 100%|████████████████████████████| 243/243 [00:39<00:00,  6.22batch/s]\n"
     ]
    },
    {
     "name": "stdout",
     "output_type": "stream",
     "text": [
      "score: write test scores to /home/hassan-hossein/single_image_graph_face_anti_spoofing/train/Scores/epoch_27/score.txt\n",
      "epoch:27, test:  val_ACC=0.8907, HTER=0.1093, AUC=0.9505, val_err=0.1093, ACC=0.8907, TPR=0.6847\n"
     ]
    },
    {
     "name": "stderr",
     "output_type": "stream",
     "text": [
      "Epoch 28: 100%|██████████████████████████| 3448/3448 [08:58<00:00,  6.41batch/s]\n"
     ]
    },
    {
     "name": "stdout",
     "output_type": "stream",
     "text": [
      "/////////////////////////\n",
      "adverserial loss :  tensor(1.4479e-06, device='cuda:1', grad_fn=<DivBackward0>)\n",
      "classification loss :  tensor(8.9473e-06, device='cuda:1', grad_fn=<DivBackward0>)\n",
      "classification node loss :  tensor(0.0003, device='cuda:1', grad_fn=<DivBackward0>)\n",
      "total loss :  tensor(0.0003, device='cuda:1', grad_fn=<DivBackward0>)\n",
      "////////////////////////////////////\n",
      "***************************\n",
      "test : \n"
     ]
    },
    {
     "name": "stderr",
     "output_type": "stream",
     "text": [
      "Epoch 28: 100%|████████████████████████████| 243/243 [00:39<00:00,  6.22batch/s]\n"
     ]
    },
    {
     "name": "stdout",
     "output_type": "stream",
     "text": [
      "score: write test scores to /home/hassan-hossein/single_image_graph_face_anti_spoofing/train/Scores/epoch_28/score.txt\n",
      "epoch:28, test:  val_ACC=0.8924, HTER=0.1076, AUC=0.9496, val_err=0.1076, ACC=0.8924, TPR=0.7209\n"
     ]
    },
    {
     "name": "stderr",
     "output_type": "stream",
     "text": [
      "Epoch 29: 100%|██████████████████████████| 3448/3448 [08:58<00:00,  6.41batch/s]\n"
     ]
    },
    {
     "name": "stdout",
     "output_type": "stream",
     "text": [
      "/////////////////////////\n",
      "adverserial loss :  tensor(2.0478e-06, device='cuda:1', grad_fn=<DivBackward0>)\n",
      "classification loss :  tensor(1.2501e-05, device='cuda:1', grad_fn=<DivBackward0>)\n",
      "classification node loss :  tensor(0.0003, device='cuda:1', grad_fn=<DivBackward0>)\n",
      "total loss :  tensor(0.0003, device='cuda:1', grad_fn=<DivBackward0>)\n",
      "////////////////////////////////////\n",
      "***************************\n",
      "test : \n"
     ]
    },
    {
     "name": "stderr",
     "output_type": "stream",
     "text": [
      "Epoch 29: 100%|████████████████████████████| 243/243 [00:39<00:00,  6.21batch/s]\n"
     ]
    },
    {
     "name": "stdout",
     "output_type": "stream",
     "text": [
      "score: write test scores to /home/hassan-hossein/single_image_graph_face_anti_spoofing/train/Scores/epoch_29/score.txt\n",
      "epoch:29, test:  val_ACC=0.8947, HTER=0.1053, AUC=0.9592, val_err=0.1053, ACC=0.8947, TPR=0.7616\n"
     ]
    },
    {
     "name": "stderr",
     "output_type": "stream",
     "text": [
      "Epoch 30: 100%|██████████████████████████| 3448/3448 [08:59<00:00,  6.39batch/s]\n"
     ]
    },
    {
     "name": "stdout",
     "output_type": "stream",
     "text": [
      "/////////////////////////\n",
      "adverserial loss :  tensor(2.1101e-06, device='cuda:1', grad_fn=<DivBackward0>)\n",
      "classification loss :  tensor(9.6834e-06, device='cuda:1', grad_fn=<DivBackward0>)\n",
      "classification node loss :  tensor(0.0003, device='cuda:1', grad_fn=<DivBackward0>)\n",
      "total loss :  tensor(0.0003, device='cuda:1', grad_fn=<DivBackward0>)\n",
      "////////////////////////////////////\n",
      "***************************\n",
      "test : \n"
     ]
    },
    {
     "name": "stderr",
     "output_type": "stream",
     "text": [
      "Epoch 30: 100%|████████████████████████████| 243/243 [00:38<00:00,  6.27batch/s]\n"
     ]
    },
    {
     "name": "stdout",
     "output_type": "stream",
     "text": [
      "score: write test scores to /home/hassan-hossein/single_image_graph_face_anti_spoofing/train/Scores/epoch_30/score.txt\n",
      "epoch:30, test:  val_ACC=0.8715, HTER=0.1286, AUC=0.9489, val_err=0.1285, ACC=0.8715, TPR=0.7073\n"
     ]
    },
    {
     "name": "stderr",
     "output_type": "stream",
     "text": [
      "Epoch 31: 100%|██████████████████████████| 3448/3448 [08:59<00:00,  6.40batch/s]\n"
     ]
    },
    {
     "name": "stdout",
     "output_type": "stream",
     "text": [
      "/////////////////////////\n",
      "adverserial loss :  tensor(1.6128e-06, device='cuda:1', grad_fn=<DivBackward0>)\n",
      "classification loss :  tensor(7.9010e-06, device='cuda:1', grad_fn=<DivBackward0>)\n",
      "classification node loss :  tensor(0.0003, device='cuda:1', grad_fn=<DivBackward0>)\n",
      "total loss :  tensor(0.0003, device='cuda:1', grad_fn=<DivBackward0>)\n",
      "////////////////////////////////////\n",
      "***************************\n",
      "test : \n"
     ]
    },
    {
     "name": "stderr",
     "output_type": "stream",
     "text": [
      "Epoch 31: 100%|████████████████████████████| 243/243 [00:39<00:00,  6.20batch/s]\n"
     ]
    },
    {
     "name": "stdout",
     "output_type": "stream",
     "text": [
      "score: write test scores to /home/hassan-hossein/single_image_graph_face_anti_spoofing/train/Scores/epoch_31/score.txt\n",
      "epoch:31, test:  val_ACC=0.8536, HTER=0.1464, AUC=0.9415, val_err=0.1464, ACC=0.8536, TPR=0.6507\n"
     ]
    },
    {
     "name": "stderr",
     "output_type": "stream",
     "text": [
      "Epoch 32: 100%|██████████████████████████| 3448/3448 [08:59<00:00,  6.39batch/s]\n"
     ]
    },
    {
     "name": "stdout",
     "output_type": "stream",
     "text": [
      "/////////////////////////\n",
      "adverserial loss :  tensor(1.9172e-06, device='cuda:1', grad_fn=<DivBackward0>)\n",
      "classification loss :  tensor(9.2176e-06, device='cuda:1', grad_fn=<DivBackward0>)\n",
      "classification node loss :  tensor(0.0002, device='cuda:1', grad_fn=<DivBackward0>)\n",
      "total loss :  tensor(0.0002, device='cuda:1', grad_fn=<DivBackward0>)\n",
      "////////////////////////////////////\n",
      "***************************\n",
      "test : \n"
     ]
    },
    {
     "name": "stderr",
     "output_type": "stream",
     "text": [
      "Epoch 32: 100%|████████████████████████████| 243/243 [00:38<00:00,  6.31batch/s]\n"
     ]
    },
    {
     "name": "stdout",
     "output_type": "stream",
     "text": [
      "score: write test scores to /home/hassan-hossein/single_image_graph_face_anti_spoofing/train/Scores/epoch_32/score.txt\n",
      "epoch:32, test:  val_ACC=0.8914, HTER=0.1086, AUC=0.9565, val_err=0.1086, ACC=0.8914, TPR=0.7204\n"
     ]
    },
    {
     "name": "stderr",
     "output_type": "stream",
     "text": [
      "Epoch 33: 100%|██████████████████████████| 3448/3448 [08:59<00:00,  6.39batch/s]\n"
     ]
    },
    {
     "name": "stdout",
     "output_type": "stream",
     "text": [
      "/////////////////////////\n",
      "adverserial loss :  tensor(1.5999e-06, device='cuda:1', grad_fn=<DivBackward0>)\n",
      "classification loss :  tensor(1.1423e-05, device='cuda:1', grad_fn=<DivBackward0>)\n",
      "classification node loss :  tensor(0.0002, device='cuda:1', grad_fn=<DivBackward0>)\n",
      "total loss :  tensor(0.0002, device='cuda:1', grad_fn=<DivBackward0>)\n",
      "////////////////////////////////////\n",
      "***************************\n",
      "test : \n"
     ]
    },
    {
     "name": "stderr",
     "output_type": "stream",
     "text": [
      "Epoch 33: 100%|████████████████████████████| 243/243 [00:39<00:00,  6.17batch/s]\n"
     ]
    },
    {
     "name": "stdout",
     "output_type": "stream",
     "text": [
      "score: write test scores to /home/hassan-hossein/single_image_graph_face_anti_spoofing/train/Scores/epoch_33/score.txt\n",
      "epoch:33, test:  val_ACC=0.8681, HTER=0.1320, AUC=0.9534, val_err=0.1320, ACC=0.8681, TPR=0.7281\n"
     ]
    },
    {
     "name": "stderr",
     "output_type": "stream",
     "text": [
      "Epoch 34: 100%|██████████████████████████| 3448/3448 [08:59<00:00,  6.39batch/s]\n"
     ]
    },
    {
     "name": "stdout",
     "output_type": "stream",
     "text": [
      "/////////////////////////\n",
      "adverserial loss :  tensor(2.6311e-06, device='cuda:1', grad_fn=<DivBackward0>)\n",
      "classification loss :  tensor(1.0592e-05, device='cuda:1', grad_fn=<DivBackward0>)\n",
      "classification node loss :  tensor(0.0002, device='cuda:1', grad_fn=<DivBackward0>)\n",
      "total loss :  tensor(0.0002, device='cuda:1', grad_fn=<DivBackward0>)\n",
      "////////////////////////////////////\n",
      "***************************\n",
      "test : \n"
     ]
    },
    {
     "name": "stderr",
     "output_type": "stream",
     "text": [
      "Epoch 34: 100%|████████████████████████████| 243/243 [00:39<00:00,  6.08batch/s]\n"
     ]
    },
    {
     "name": "stdout",
     "output_type": "stream",
     "text": [
      "score: write test scores to /home/hassan-hossein/single_image_graph_face_anti_spoofing/train/Scores/epoch_34/score.txt\n",
      "epoch:34, test:  val_ACC=0.8742, HTER=0.1258, AUC=0.9378, val_err=0.1258, ACC=0.8742, TPR=0.5921\n"
     ]
    },
    {
     "name": "stderr",
     "output_type": "stream",
     "text": [
      "Epoch 35: 100%|██████████████████████████| 3448/3448 [08:59<00:00,  6.39batch/s]\n"
     ]
    },
    {
     "name": "stdout",
     "output_type": "stream",
     "text": [
      "/////////////////////////\n",
      "adverserial loss :  tensor(1.4324e-06, device='cuda:1', grad_fn=<DivBackward0>)\n",
      "classification loss :  tensor(3.9199e-06, device='cuda:1', grad_fn=<DivBackward0>)\n",
      "classification node loss :  tensor(0.0002, device='cuda:1', grad_fn=<DivBackward0>)\n",
      "total loss :  tensor(0.0002, device='cuda:1', grad_fn=<DivBackward0>)\n",
      "////////////////////////////////////\n",
      "***************************\n",
      "test : \n"
     ]
    },
    {
     "name": "stderr",
     "output_type": "stream",
     "text": [
      "Epoch 35: 100%|████████████████████████████| 243/243 [00:38<00:00,  6.25batch/s]\n"
     ]
    },
    {
     "name": "stdout",
     "output_type": "stream",
     "text": [
      "score: write test scores to /home/hassan-hossein/single_image_graph_face_anti_spoofing/train/Scores/epoch_35/score.txt\n",
      "epoch:35, test:  val_ACC=0.8893, HTER=0.1107, AUC=0.9567, val_err=0.1107, ACC=0.8893, TPR=0.7353\n"
     ]
    },
    {
     "name": "stderr",
     "output_type": "stream",
     "text": [
      "Epoch 36: 100%|██████████████████████████| 3448/3448 [08:59<00:00,  6.39batch/s]\n"
     ]
    },
    {
     "name": "stdout",
     "output_type": "stream",
     "text": [
      "/////////////////////////\n",
      "adverserial loss :  tensor(2.9272e-06, device='cuda:1', grad_fn=<DivBackward0>)\n",
      "classification loss :  tensor(6.7502e-06, device='cuda:1', grad_fn=<DivBackward0>)\n",
      "classification node loss :  tensor(0.0002, device='cuda:1', grad_fn=<DivBackward0>)\n",
      "total loss :  tensor(0.0002, device='cuda:1', grad_fn=<DivBackward0>)\n",
      "////////////////////////////////////\n",
      "***************************\n",
      "test : \n"
     ]
    },
    {
     "name": "stderr",
     "output_type": "stream",
     "text": [
      "Epoch 36: 100%|████████████████████████████| 243/243 [00:39<00:00,  6.19batch/s]\n"
     ]
    },
    {
     "name": "stdout",
     "output_type": "stream",
     "text": [
      "score: write test scores to /home/hassan-hossein/single_image_graph_face_anti_spoofing/train/Scores/epoch_36/score.txt\n",
      "epoch:36, test:  val_ACC=0.8735, HTER=0.1266, AUC=0.9440, val_err=0.1266, ACC=0.8735, TPR=0.7148\n"
     ]
    },
    {
     "name": "stderr",
     "output_type": "stream",
     "text": [
      "Epoch 37: 100%|██████████████████████████| 3448/3448 [09:01<00:00,  6.37batch/s]\n"
     ]
    },
    {
     "name": "stdout",
     "output_type": "stream",
     "text": [
      "/////////////////////////\n",
      "adverserial loss :  tensor(3.7998e-07, device='cuda:1', grad_fn=<DivBackward0>)\n",
      "classification loss :  tensor(7.5692e-06, device='cuda:1', grad_fn=<DivBackward0>)\n",
      "classification node loss :  tensor(0.0002, device='cuda:1', grad_fn=<DivBackward0>)\n",
      "total loss :  tensor(0.0002, device='cuda:1', grad_fn=<DivBackward0>)\n",
      "////////////////////////////////////\n",
      "***************************\n",
      "test : \n"
     ]
    },
    {
     "name": "stderr",
     "output_type": "stream",
     "text": [
      "Epoch 37: 100%|████████████████████████████| 243/243 [00:39<00:00,  6.10batch/s]\n"
     ]
    },
    {
     "name": "stdout",
     "output_type": "stream",
     "text": [
      "score: write test scores to /home/hassan-hossein/single_image_graph_face_anti_spoofing/train/Scores/epoch_37/score.txt\n",
      "epoch:37, test:  val_ACC=0.8854, HTER=0.1147, AUC=0.9490, val_err=0.1147, ACC=0.8854, TPR=0.7065\n"
     ]
    },
    {
     "name": "stderr",
     "output_type": "stream",
     "text": [
      "Epoch 38: 100%|██████████████████████████| 3448/3448 [08:59<00:00,  6.39batch/s]\n"
     ]
    },
    {
     "name": "stdout",
     "output_type": "stream",
     "text": [
      "/////////////////////////\n",
      "adverserial loss :  tensor(1.5624e-06, device='cuda:1', grad_fn=<DivBackward0>)\n",
      "classification loss :  tensor(6.2831e-06, device='cuda:1', grad_fn=<DivBackward0>)\n",
      "classification node loss :  tensor(0.0002, device='cuda:1', grad_fn=<DivBackward0>)\n",
      "total loss :  tensor(0.0002, device='cuda:1', grad_fn=<DivBackward0>)\n",
      "////////////////////////////////////\n",
      "***************************\n",
      "test : \n"
     ]
    },
    {
     "name": "stderr",
     "output_type": "stream",
     "text": [
      "Epoch 38: 100%|████████████████████████████| 243/243 [00:39<00:00,  6.20batch/s]\n"
     ]
    },
    {
     "name": "stdout",
     "output_type": "stream",
     "text": [
      "score: write test scores to /home/hassan-hossein/single_image_graph_face_anti_spoofing/train/Scores/epoch_38/score.txt\n",
      "epoch:38, test:  val_ACC=0.8817, HTER=0.1183, AUC=0.9478, val_err=0.1183, ACC=0.8817, TPR=0.6942\n"
     ]
    },
    {
     "name": "stderr",
     "output_type": "stream",
     "text": [
      "Epoch 39: 100%|██████████████████████████| 3448/3448 [09:00<00:00,  6.38batch/s]\n"
     ]
    },
    {
     "name": "stdout",
     "output_type": "stream",
     "text": [
      "/////////////////////////\n",
      "adverserial loss :  tensor(1.7246e-06, device='cuda:1', grad_fn=<DivBackward0>)\n",
      "classification loss :  tensor(7.3674e-06, device='cuda:1', grad_fn=<DivBackward0>)\n",
      "classification node loss :  tensor(0.0002, device='cuda:1', grad_fn=<DivBackward0>)\n",
      "total loss :  tensor(0.0002, device='cuda:1', grad_fn=<DivBackward0>)\n",
      "////////////////////////////////////\n",
      "***************************\n",
      "test : \n"
     ]
    },
    {
     "name": "stderr",
     "output_type": "stream",
     "text": [
      "Epoch 39: 100%|████████████████████████████| 243/243 [00:39<00:00,  6.21batch/s]\n"
     ]
    },
    {
     "name": "stdout",
     "output_type": "stream",
     "text": [
      "score: write test scores to /home/hassan-hossein/single_image_graph_face_anti_spoofing/train/Scores/epoch_39/score.txt\n",
      "epoch:39, test:  val_ACC=0.8827, HTER=0.1173, AUC=0.9403, val_err=0.1173, ACC=0.8827, TPR=0.6885\n"
     ]
    },
    {
     "name": "stderr",
     "output_type": "stream",
     "text": [
      "Epoch 40: 100%|██████████████████████████| 3448/3448 [08:58<00:00,  6.40batch/s]\n"
     ]
    },
    {
     "name": "stdout",
     "output_type": "stream",
     "text": [
      "/////////////////////////\n",
      "adverserial loss :  tensor(4.4761e-07, device='cuda:1', grad_fn=<DivBackward0>)\n",
      "classification loss :  tensor(1.1302e-05, device='cuda:1', grad_fn=<DivBackward0>)\n",
      "classification node loss :  tensor(0.0002, device='cuda:1', grad_fn=<DivBackward0>)\n",
      "total loss :  tensor(0.0002, device='cuda:1', grad_fn=<DivBackward0>)\n",
      "////////////////////////////////////\n",
      "***************************\n",
      "test : \n"
     ]
    },
    {
     "name": "stderr",
     "output_type": "stream",
     "text": [
      "Epoch 40: 100%|████████████████████████████| 243/243 [00:39<00:00,  6.16batch/s]\n"
     ]
    },
    {
     "name": "stdout",
     "output_type": "stream",
     "text": [
      "score: write test scores to /home/hassan-hossein/single_image_graph_face_anti_spoofing/train/Scores/epoch_40/score.txt\n",
      "epoch:40, test:  val_ACC=0.8869, HTER=0.1131, AUC=0.9470, val_err=0.1131, ACC=0.8869, TPR=0.6983\n"
     ]
    },
    {
     "name": "stderr",
     "output_type": "stream",
     "text": [
      "Epoch 41: 100%|██████████████████████████| 3448/3448 [08:52<00:00,  6.47batch/s]\n"
     ]
    },
    {
     "name": "stdout",
     "output_type": "stream",
     "text": [
      "/////////////////////////\n",
      "adverserial loss :  tensor(1.9605e-06, device='cuda:1', grad_fn=<DivBackward0>)\n",
      "classification loss :  tensor(6.6436e-06, device='cuda:1', grad_fn=<DivBackward0>)\n",
      "classification node loss :  tensor(0.0002, device='cuda:1', grad_fn=<DivBackward0>)\n",
      "total loss :  tensor(0.0002, device='cuda:1', grad_fn=<DivBackward0>)\n",
      "////////////////////////////////////\n",
      "***************************\n",
      "test : \n"
     ]
    },
    {
     "name": "stderr",
     "output_type": "stream",
     "text": [
      "Epoch 41: 100%|████████████████████████████| 243/243 [00:39<00:00,  6.19batch/s]\n"
     ]
    },
    {
     "name": "stdout",
     "output_type": "stream",
     "text": [
      "score: write test scores to /home/hassan-hossein/single_image_graph_face_anti_spoofing/train/Scores/epoch_41/score.txt\n",
      "epoch:41, test:  val_ACC=0.8628, HTER=0.1371, AUC=0.9310, val_err=0.1372, ACC=0.8628, TPR=0.5211\n"
     ]
    },
    {
     "name": "stderr",
     "output_type": "stream",
     "text": [
      "Epoch 42: 100%|██████████████████████████| 3448/3448 [08:54<00:00,  6.45batch/s]\n"
     ]
    },
    {
     "name": "stdout",
     "output_type": "stream",
     "text": [
      "/////////////////////////\n",
      "adverserial loss :  tensor(9.2430e-07, device='cuda:1', grad_fn=<DivBackward0>)\n",
      "classification loss :  tensor(8.1993e-06, device='cuda:1', grad_fn=<DivBackward0>)\n",
      "classification node loss :  tensor(0.0002, device='cuda:1', grad_fn=<DivBackward0>)\n",
      "total loss :  tensor(0.0002, device='cuda:1', grad_fn=<DivBackward0>)\n",
      "////////////////////////////////////\n",
      "***************************\n",
      "test : \n"
     ]
    },
    {
     "name": "stderr",
     "output_type": "stream",
     "text": [
      "Epoch 42: 100%|████████████████████████████| 243/243 [00:39<00:00,  6.19batch/s]\n"
     ]
    },
    {
     "name": "stdout",
     "output_type": "stream",
     "text": [
      "score: write test scores to /home/hassan-hossein/single_image_graph_face_anti_spoofing/train/Scores/epoch_42/score.txt\n",
      "epoch:42, test:  val_ACC=0.8519, HTER=0.1482, AUC=0.9322, val_err=0.1482, ACC=0.8519, TPR=0.6242\n"
     ]
    },
    {
     "name": "stderr",
     "output_type": "stream",
     "text": [
      "Epoch 43: 100%|██████████████████████████| 3448/3448 [08:51<00:00,  6.48batch/s]\n"
     ]
    },
    {
     "name": "stdout",
     "output_type": "stream",
     "text": [
      "/////////////////////////\n",
      "adverserial loss :  tensor(1.9874e-06, device='cuda:1', grad_fn=<DivBackward0>)\n",
      "classification loss :  tensor(5.3955e-06, device='cuda:1', grad_fn=<DivBackward0>)\n",
      "classification node loss :  tensor(0.0002, device='cuda:1', grad_fn=<DivBackward0>)\n",
      "total loss :  tensor(0.0002, device='cuda:1', grad_fn=<DivBackward0>)\n",
      "////////////////////////////////////\n",
      "***************************\n",
      "test : \n"
     ]
    },
    {
     "name": "stderr",
     "output_type": "stream",
     "text": [
      "Epoch 43: 100%|████████████████████████████| 243/243 [00:38<00:00,  6.23batch/s]\n"
     ]
    },
    {
     "name": "stdout",
     "output_type": "stream",
     "text": [
      "score: write test scores to /home/hassan-hossein/single_image_graph_face_anti_spoofing/train/Scores/epoch_43/score.txt\n",
      "epoch:43, test:  val_ACC=0.8798, HTER=0.1202, AUC=0.9401, val_err=0.1202, ACC=0.8798, TPR=0.5777\n"
     ]
    },
    {
     "name": "stderr",
     "output_type": "stream",
     "text": [
      "Epoch 44: 100%|██████████████████████████| 3448/3448 [08:52<00:00,  6.48batch/s]\n"
     ]
    },
    {
     "name": "stdout",
     "output_type": "stream",
     "text": [
      "/////////////////////////\n",
      "adverserial loss :  tensor(2.1086e-06, device='cuda:1', grad_fn=<DivBackward0>)\n",
      "classification loss :  tensor(9.6383e-06, device='cuda:1', grad_fn=<DivBackward0>)\n",
      "classification node loss :  tensor(0.0002, device='cuda:1', grad_fn=<DivBackward0>)\n",
      "total loss :  tensor(0.0002, device='cuda:1', grad_fn=<DivBackward0>)\n",
      "////////////////////////////////////\n",
      "***************************\n",
      "test : \n"
     ]
    },
    {
     "name": "stderr",
     "output_type": "stream",
     "text": [
      "Epoch 44: 100%|████████████████████████████| 243/243 [00:39<00:00,  6.20batch/s]\n"
     ]
    },
    {
     "name": "stdout",
     "output_type": "stream",
     "text": [
      "score: write test scores to /home/hassan-hossein/single_image_graph_face_anti_spoofing/train/Scores/epoch_44/score.txt\n",
      "epoch:44, test:  val_ACC=0.8647, HTER=0.1353, AUC=0.9483, val_err=0.1353, ACC=0.8647, TPR=0.6980\n"
     ]
    },
    {
     "name": "stderr",
     "output_type": "stream",
     "text": [
      "Epoch 45: 100%|██████████████████████████| 3448/3448 [08:53<00:00,  6.47batch/s]\n"
     ]
    },
    {
     "name": "stdout",
     "output_type": "stream",
     "text": [
      "/////////////////////////\n",
      "adverserial loss :  tensor(2.2713e-07, device='cuda:1', grad_fn=<DivBackward0>)\n",
      "classification loss :  tensor(7.7941e-06, device='cuda:1', grad_fn=<DivBackward0>)\n",
      "classification node loss :  tensor(0.0002, device='cuda:1', grad_fn=<DivBackward0>)\n",
      "total loss :  tensor(0.0002, device='cuda:1', grad_fn=<DivBackward0>)\n",
      "////////////////////////////////////\n",
      "***************************\n",
      "test : \n"
     ]
    },
    {
     "name": "stderr",
     "output_type": "stream",
     "text": [
      "Epoch 45: 100%|████████████████████████████| 243/243 [00:38<00:00,  6.25batch/s]\n"
     ]
    },
    {
     "name": "stdout",
     "output_type": "stream",
     "text": [
      "score: write test scores to /home/hassan-hossein/single_image_graph_face_anti_spoofing/train/Scores/epoch_45/score.txt\n",
      "epoch:45, test:  val_ACC=0.8544, HTER=0.1456, AUC=0.9367, val_err=0.1456, ACC=0.8544, TPR=0.6350\n"
     ]
    },
    {
     "name": "stderr",
     "output_type": "stream",
     "text": [
      "Epoch 46: 100%|██████████████████████████| 3448/3448 [08:53<00:00,  6.46batch/s]\n"
     ]
    },
    {
     "name": "stdout",
     "output_type": "stream",
     "text": [
      "/////////////////////////\n",
      "adverserial loss :  tensor(1.2559e-06, device='cuda:1', grad_fn=<DivBackward0>)\n",
      "classification loss :  tensor(4.8524e-06, device='cuda:1', grad_fn=<DivBackward0>)\n",
      "classification node loss :  tensor(0.0002, device='cuda:1', grad_fn=<DivBackward0>)\n",
      "total loss :  tensor(0.0002, device='cuda:1', grad_fn=<DivBackward0>)\n",
      "////////////////////////////////////\n",
      "***************************\n",
      "test : \n"
     ]
    },
    {
     "name": "stderr",
     "output_type": "stream",
     "text": [
      "Epoch 46: 100%|████████████████████████████| 243/243 [00:39<00:00,  6.18batch/s]\n"
     ]
    },
    {
     "name": "stdout",
     "output_type": "stream",
     "text": [
      "score: write test scores to /home/hassan-hossein/single_image_graph_face_anti_spoofing/train/Scores/epoch_46/score.txt\n",
      "epoch:46, test:  val_ACC=0.8597, HTER=0.1402, AUC=0.9274, val_err=0.1403, ACC=0.8597, TPR=0.5872\n"
     ]
    },
    {
     "name": "stderr",
     "output_type": "stream",
     "text": [
      "Epoch 47: 100%|██████████████████████████| 3448/3448 [08:51<00:00,  6.49batch/s]\n"
     ]
    },
    {
     "name": "stdout",
     "output_type": "stream",
     "text": [
      "/////////////////////////\n",
      "adverserial loss :  tensor(2.4045e-06, device='cuda:1', grad_fn=<DivBackward0>)\n",
      "classification loss :  tensor(6.8228e-06, device='cuda:1', grad_fn=<DivBackward0>)\n",
      "classification node loss :  tensor(0.0002, device='cuda:1', grad_fn=<DivBackward0>)\n",
      "total loss :  tensor(0.0002, device='cuda:1', grad_fn=<DivBackward0>)\n",
      "////////////////////////////////////\n",
      "***************************\n",
      "test : \n"
     ]
    },
    {
     "name": "stderr",
     "output_type": "stream",
     "text": [
      "Epoch 47: 100%|████████████████████████████| 243/243 [00:38<00:00,  6.34batch/s]\n"
     ]
    },
    {
     "name": "stdout",
     "output_type": "stream",
     "text": [
      "score: write test scores to /home/hassan-hossein/single_image_graph_face_anti_spoofing/train/Scores/epoch_47/score.txt\n",
      "epoch:47, test:  val_ACC=0.8669, HTER=0.1330, AUC=0.9415, val_err=0.1331, ACC=0.8669, TPR=0.6497\n"
     ]
    },
    {
     "name": "stderr",
     "output_type": "stream",
     "text": [
      "Epoch 48: 100%|██████████████████████████| 3448/3448 [08:52<00:00,  6.48batch/s]\n"
     ]
    },
    {
     "name": "stdout",
     "output_type": "stream",
     "text": [
      "/////////////////////////\n",
      "adverserial loss :  tensor(8.1959e-08, device='cuda:1', grad_fn=<DivBackward0>)\n",
      "classification loss :  tensor(4.6355e-06, device='cuda:1', grad_fn=<DivBackward0>)\n",
      "classification node loss :  tensor(0.0002, device='cuda:1', grad_fn=<DivBackward0>)\n",
      "total loss :  tensor(0.0002, device='cuda:1', grad_fn=<DivBackward0>)\n",
      "////////////////////////////////////\n",
      "***************************\n",
      "test : \n"
     ]
    },
    {
     "name": "stderr",
     "output_type": "stream",
     "text": [
      "Epoch 48: 100%|████████████████████████████| 243/243 [00:39<00:00,  6.14batch/s]\n"
     ]
    },
    {
     "name": "stdout",
     "output_type": "stream",
     "text": [
      "score: write test scores to /home/hassan-hossein/single_image_graph_face_anti_spoofing/train/Scores/epoch_48/score.txt\n",
      "epoch:48, test:  val_ACC=0.8790, HTER=0.1211, AUC=0.9285, val_err=0.1211, ACC=0.8790, TPR=0.7551\n"
     ]
    },
    {
     "name": "stderr",
     "output_type": "stream",
     "text": [
      "Epoch 49: 100%|██████████████████████████| 3448/3448 [08:52<00:00,  6.48batch/s]\n"
     ]
    },
    {
     "name": "stdout",
     "output_type": "stream",
     "text": [
      "/////////////////////////\n",
      "adverserial loss :  tensor(2.1548e-06, device='cuda:1', grad_fn=<DivBackward0>)\n",
      "classification loss :  tensor(7.6676e-06, device='cuda:1', grad_fn=<DivBackward0>)\n",
      "classification node loss :  tensor(0.0002, device='cuda:1', grad_fn=<DivBackward0>)\n",
      "total loss :  tensor(0.0002, device='cuda:1', grad_fn=<DivBackward0>)\n",
      "////////////////////////////////////\n",
      "***************************\n",
      "test : \n"
     ]
    },
    {
     "name": "stderr",
     "output_type": "stream",
     "text": [
      "Epoch 49: 100%|████████████████████████████| 243/243 [00:38<00:00,  6.24batch/s]\n"
     ]
    },
    {
     "name": "stdout",
     "output_type": "stream",
     "text": [
      "score: write test scores to /home/hassan-hossein/single_image_graph_face_anti_spoofing/train/Scores/epoch_49/score.txt\n",
      "epoch:49, test:  val_ACC=0.8755, HTER=0.1245, AUC=0.9475, val_err=0.1245, ACC=0.8755, TPR=0.7052\n"
     ]
    },
    {
     "name": "stderr",
     "output_type": "stream",
     "text": [
      "Epoch 50: 100%|██████████████████████████| 3448/3448 [08:51<00:00,  6.48batch/s]\n"
     ]
    },
    {
     "name": "stdout",
     "output_type": "stream",
     "text": [
      "/////////////////////////\n",
      "adverserial loss :  tensor(9.2280e-07, device='cuda:1', grad_fn=<DivBackward0>)\n",
      "classification loss :  tensor(6.9075e-06, device='cuda:1', grad_fn=<DivBackward0>)\n",
      "classification node loss :  tensor(0.0001, device='cuda:1', grad_fn=<DivBackward0>)\n",
      "total loss :  tensor(0.0002, device='cuda:1', grad_fn=<DivBackward0>)\n",
      "////////////////////////////////////\n",
      "***************************\n",
      "test : \n"
     ]
    },
    {
     "name": "stderr",
     "output_type": "stream",
     "text": [
      "Epoch 50: 100%|████████████████████████████| 243/243 [00:38<00:00,  6.27batch/s]\n"
     ]
    },
    {
     "name": "stdout",
     "output_type": "stream",
     "text": [
      "score: write test scores to /home/hassan-hossein/single_image_graph_face_anti_spoofing/train/Scores/epoch_50/score.txt\n",
      "epoch:50, test:  val_ACC=0.8806, HTER=0.1194, AUC=0.9472, val_err=0.1194, ACC=0.8806, TPR=0.6649\n"
     ]
    },
    {
     "name": "stderr",
     "output_type": "stream",
     "text": [
      "Epoch 51: 100%|██████████████████████████| 3448/3448 [08:52<00:00,  6.48batch/s]\n"
     ]
    },
    {
     "name": "stdout",
     "output_type": "stream",
     "text": [
      "/////////////////////////\n",
      "adverserial loss :  tensor(1.5500e-06, device='cuda:1', grad_fn=<DivBackward0>)\n",
      "classification loss :  tensor(7.3621e-06, device='cuda:1', grad_fn=<DivBackward0>)\n",
      "classification node loss :  tensor(0.0002, device='cuda:1', grad_fn=<DivBackward0>)\n",
      "total loss :  tensor(0.0002, device='cuda:1', grad_fn=<DivBackward0>)\n",
      "////////////////////////////////////\n",
      "***************************\n",
      "test : \n"
     ]
    },
    {
     "name": "stderr",
     "output_type": "stream",
     "text": [
      "Epoch 51: 100%|████████████████████████████| 243/243 [00:38<00:00,  6.27batch/s]\n"
     ]
    },
    {
     "name": "stdout",
     "output_type": "stream",
     "text": [
      "score: write test scores to /home/hassan-hossein/single_image_graph_face_anti_spoofing/train/Scores/epoch_51/score.txt\n",
      "epoch:51, test:  val_ACC=0.8826, HTER=0.1173, AUC=0.9377, val_err=0.1174, ACC=0.8826, TPR=0.6157\n"
     ]
    },
    {
     "name": "stderr",
     "output_type": "stream",
     "text": [
      "Epoch 52: 100%|██████████████████████████| 3448/3448 [08:54<00:00,  6.45batch/s]\n"
     ]
    },
    {
     "name": "stdout",
     "output_type": "stream",
     "text": [
      "/////////////////////////\n",
      "adverserial loss :  tensor(5.4842e-07, device='cuda:1', grad_fn=<DivBackward0>)\n",
      "classification loss :  tensor(3.1661e-06, device='cuda:1', grad_fn=<DivBackward0>)\n",
      "classification node loss :  tensor(0.0001, device='cuda:1', grad_fn=<DivBackward0>)\n",
      "total loss :  tensor(0.0002, device='cuda:1', grad_fn=<DivBackward0>)\n",
      "////////////////////////////////////\n",
      "***************************\n",
      "test : \n"
     ]
    },
    {
     "name": "stderr",
     "output_type": "stream",
     "text": [
      "Epoch 52: 100%|████████████████████████████| 243/243 [00:38<00:00,  6.31batch/s]\n"
     ]
    },
    {
     "name": "stdout",
     "output_type": "stream",
     "text": [
      "score: write test scores to /home/hassan-hossein/single_image_graph_face_anti_spoofing/train/Scores/epoch_52/score.txt\n",
      "epoch:52, test:  val_ACC=0.8961, HTER=0.1039, AUC=0.9623, val_err=0.1039, ACC=0.8961, TPR=0.7948\n",
      "improve acc .. .. ..\n"
     ]
    },
    {
     "name": "stderr",
     "output_type": "stream",
     "text": [
      "Epoch 53: 100%|██████████████████████████| 3448/3448 [08:52<00:00,  6.48batch/s]\n"
     ]
    },
    {
     "name": "stdout",
     "output_type": "stream",
     "text": [
      "/////////////////////////\n",
      "adverserial loss :  tensor(1.3519e-06, device='cuda:1', grad_fn=<DivBackward0>)\n",
      "classification loss :  tensor(6.8385e-06, device='cuda:1', grad_fn=<DivBackward0>)\n",
      "classification node loss :  tensor(0.0001, device='cuda:1', grad_fn=<DivBackward0>)\n",
      "total loss :  tensor(0.0002, device='cuda:1', grad_fn=<DivBackward0>)\n",
      "////////////////////////////////////\n",
      "***************************\n",
      "test : \n"
     ]
    },
    {
     "name": "stderr",
     "output_type": "stream",
     "text": [
      "Epoch 53: 100%|████████████████████████████| 243/243 [00:38<00:00,  6.29batch/s]\n"
     ]
    },
    {
     "name": "stdout",
     "output_type": "stream",
     "text": [
      "score: write test scores to /home/hassan-hossein/single_image_graph_face_anti_spoofing/train/Scores/epoch_53/score.txt\n",
      "epoch:53, test:  val_ACC=0.8622, HTER=0.1378, AUC=0.9404, val_err=0.1378, ACC=0.8622, TPR=0.6402\n"
     ]
    },
    {
     "name": "stderr",
     "output_type": "stream",
     "text": [
      "Epoch 54: 100%|██████████████████████████| 3448/3448 [08:52<00:00,  6.48batch/s]\n"
     ]
    },
    {
     "name": "stdout",
     "output_type": "stream",
     "text": [
      "/////////////////////////\n",
      "adverserial loss :  tensor(1.6728e-06, device='cuda:1', grad_fn=<DivBackward0>)\n",
      "classification loss :  tensor(4.3595e-06, device='cuda:1', grad_fn=<DivBackward0>)\n",
      "classification node loss :  tensor(0.0002, device='cuda:1', grad_fn=<DivBackward0>)\n",
      "total loss :  tensor(0.0002, device='cuda:1', grad_fn=<DivBackward0>)\n",
      "////////////////////////////////////\n",
      "***************************\n",
      "test : \n"
     ]
    },
    {
     "name": "stderr",
     "output_type": "stream",
     "text": [
      "Epoch 54: 100%|████████████████████████████| 243/243 [00:38<00:00,  6.31batch/s]\n"
     ]
    },
    {
     "name": "stdout",
     "output_type": "stream",
     "text": [
      "score: write test scores to /home/hassan-hossein/single_image_graph_face_anti_spoofing/train/Scores/epoch_54/score.txt\n",
      "epoch:54, test:  val_ACC=0.8646, HTER=0.1353, AUC=0.9401, val_err=0.1354, ACC=0.8646, TPR=0.6260\n"
     ]
    },
    {
     "name": "stderr",
     "output_type": "stream",
     "text": [
      "Epoch 55: 100%|██████████████████████████| 3448/3448 [08:53<00:00,  6.47batch/s]\n"
     ]
    },
    {
     "name": "stdout",
     "output_type": "stream",
     "text": [
      "/////////////////////////\n",
      "adverserial loss :  tensor(4.3697e-07, device='cuda:1', grad_fn=<DivBackward0>)\n",
      "classification loss :  tensor(5.2402e-06, device='cuda:1', grad_fn=<DivBackward0>)\n",
      "classification node loss :  tensor(0.0001, device='cuda:1', grad_fn=<DivBackward0>)\n",
      "total loss :  tensor(0.0001, device='cuda:1', grad_fn=<DivBackward0>)\n",
      "////////////////////////////////////\n",
      "***************************\n",
      "test : \n"
     ]
    },
    {
     "name": "stderr",
     "output_type": "stream",
     "text": [
      "Epoch 55: 100%|████████████████████████████| 243/243 [00:39<00:00,  6.14batch/s]\n"
     ]
    },
    {
     "name": "stdout",
     "output_type": "stream",
     "text": [
      "score: write test scores to /home/hassan-hossein/single_image_graph_face_anti_spoofing/train/Scores/epoch_55/score.txt\n",
      "epoch:55, test:  val_ACC=0.8961, HTER=0.1039, AUC=0.9576, val_err=0.1039, ACC=0.8961, TPR=0.7202\n"
     ]
    },
    {
     "name": "stderr",
     "output_type": "stream",
     "text": [
      "Epoch 56: 100%|██████████████████████████| 3448/3448 [08:52<00:00,  6.48batch/s]\n"
     ]
    },
    {
     "name": "stdout",
     "output_type": "stream",
     "text": [
      "/////////////////////////\n",
      "adverserial loss :  tensor(3.9780e-06, device='cuda:1', grad_fn=<DivBackward0>)\n",
      "classification loss :  tensor(4.6426e-06, device='cuda:1', grad_fn=<DivBackward0>)\n",
      "classification node loss :  tensor(0.0001, device='cuda:1', grad_fn=<DivBackward0>)\n",
      "total loss :  tensor(0.0001, device='cuda:1', grad_fn=<DivBackward0>)\n",
      "////////////////////////////////////\n",
      "***************************\n",
      "test : \n"
     ]
    },
    {
     "name": "stderr",
     "output_type": "stream",
     "text": [
      "Epoch 56: 100%|████████████████████████████| 243/243 [00:39<00:00,  6.12batch/s]\n"
     ]
    },
    {
     "name": "stdout",
     "output_type": "stream",
     "text": [
      "score: write test scores to /home/hassan-hossein/single_image_graph_face_anti_spoofing/train/Scores/epoch_56/score.txt\n",
      "epoch:56, test:  val_ACC=0.8483, HTER=0.1518, AUC=0.9264, val_err=0.1518, ACC=0.8483, TPR=0.5484\n"
     ]
    },
    {
     "name": "stderr",
     "output_type": "stream",
     "text": [
      "Epoch 57: 100%|██████████████████████████| 3448/3448 [08:53<00:00,  6.46batch/s]\n"
     ]
    },
    {
     "name": "stdout",
     "output_type": "stream",
     "text": [
      "/////////////////////////\n",
      "adverserial loss :  tensor(5.1474e-07, device='cuda:1', grad_fn=<DivBackward0>)\n",
      "classification loss :  tensor(4.6682e-06, device='cuda:1', grad_fn=<DivBackward0>)\n",
      "classification node loss :  tensor(0.0001, device='cuda:1', grad_fn=<DivBackward0>)\n",
      "total loss :  tensor(0.0001, device='cuda:1', grad_fn=<DivBackward0>)\n",
      "////////////////////////////////////\n",
      "***************************\n",
      "test : \n"
     ]
    },
    {
     "name": "stderr",
     "output_type": "stream",
     "text": [
      "Epoch 57: 100%|████████████████████████████| 243/243 [00:38<00:00,  6.29batch/s]\n"
     ]
    },
    {
     "name": "stdout",
     "output_type": "stream",
     "text": [
      "score: write test scores to /home/hassan-hossein/single_image_graph_face_anti_spoofing/train/Scores/epoch_57/score.txt\n",
      "epoch:57, test:  val_ACC=0.8653, HTER=0.1348, AUC=0.9361, val_err=0.1348, ACC=0.8653, TPR=0.7639\n"
     ]
    },
    {
     "name": "stderr",
     "output_type": "stream",
     "text": [
      "Epoch 58: 100%|██████████████████████████| 3448/3448 [08:53<00:00,  6.47batch/s]\n"
     ]
    },
    {
     "name": "stdout",
     "output_type": "stream",
     "text": [
      "/////////////////////////\n",
      "adverserial loss :  tensor(6.4656e-07, device='cuda:1', grad_fn=<DivBackward0>)\n",
      "classification loss :  tensor(4.1619e-06, device='cuda:1', grad_fn=<DivBackward0>)\n",
      "classification node loss :  tensor(0.0001, device='cuda:1', grad_fn=<DivBackward0>)\n",
      "total loss :  tensor(0.0001, device='cuda:1', grad_fn=<DivBackward0>)\n",
      "////////////////////////////////////\n",
      "***************************\n",
      "test : \n"
     ]
    },
    {
     "name": "stderr",
     "output_type": "stream",
     "text": [
      "Epoch 58: 100%|████████████████████████████| 243/243 [00:38<00:00,  6.26batch/s]\n"
     ]
    },
    {
     "name": "stdout",
     "output_type": "stream",
     "text": [
      "score: write test scores to /home/hassan-hossein/single_image_graph_face_anti_spoofing/train/Scores/epoch_58/score.txt\n",
      "epoch:58, test:  val_ACC=0.8900, HTER=0.1104, AUC=0.9416, val_err=0.1105, ACC=0.8900, TPR=0.8392\n"
     ]
    },
    {
     "name": "stderr",
     "output_type": "stream",
     "text": [
      "Epoch 59: 100%|██████████████████████████| 3448/3448 [08:54<00:00,  6.46batch/s]\n"
     ]
    },
    {
     "name": "stdout",
     "output_type": "stream",
     "text": [
      "/////////////////////////\n",
      "adverserial loss :  tensor(1.6827e-06, device='cuda:1', grad_fn=<DivBackward0>)\n",
      "classification loss :  tensor(5.6612e-06, device='cuda:1', grad_fn=<DivBackward0>)\n",
      "classification node loss :  tensor(0.0001, device='cuda:1', grad_fn=<DivBackward0>)\n",
      "total loss :  tensor(0.0001, device='cuda:1', grad_fn=<DivBackward0>)\n",
      "////////////////////////////////////\n",
      "***************************\n",
      "test : \n"
     ]
    },
    {
     "name": "stderr",
     "output_type": "stream",
     "text": [
      "Epoch 59: 100%|████████████████████████████| 243/243 [00:38<00:00,  6.25batch/s]\n"
     ]
    },
    {
     "name": "stdout",
     "output_type": "stream",
     "text": [
      "score: write test scores to /home/hassan-hossein/single_image_graph_face_anti_spoofing/train/Scores/epoch_59/score.txt\n",
      "epoch:59, test:  val_ACC=0.8902, HTER=0.1098, AUC=0.9598, val_err=0.1099, ACC=0.8902, TPR=0.7824\n"
     ]
    },
    {
     "name": "stderr",
     "output_type": "stream",
     "text": [
      "Epoch 60: 100%|██████████████████████████| 3448/3448 [08:52<00:00,  6.47batch/s]\n"
     ]
    },
    {
     "name": "stdout",
     "output_type": "stream",
     "text": [
      "/////////////////////////\n",
      "adverserial loss :  tensor(2.4372e-07, device='cuda:1', grad_fn=<DivBackward0>)\n",
      "classification loss :  tensor(8.0577e-06, device='cuda:1', grad_fn=<DivBackward0>)\n",
      "classification node loss :  tensor(0.0001, device='cuda:1', grad_fn=<DivBackward0>)\n",
      "total loss :  tensor(0.0001, device='cuda:1', grad_fn=<DivBackward0>)\n",
      "////////////////////////////////////\n",
      "***************************\n",
      "test : \n"
     ]
    },
    {
     "name": "stderr",
     "output_type": "stream",
     "text": [
      "Epoch 60: 100%|████████████████████████████| 243/243 [00:39<00:00,  6.23batch/s]\n"
     ]
    },
    {
     "name": "stdout",
     "output_type": "stream",
     "text": [
      "score: write test scores to /home/hassan-hossein/single_image_graph_face_anti_spoofing/train/Scores/epoch_60/score.txt\n",
      "epoch:60, test:  val_ACC=0.8628, HTER=0.1371, AUC=0.9422, val_err=0.1372, ACC=0.8628, TPR=0.6690\n"
     ]
    },
    {
     "name": "stderr",
     "output_type": "stream",
     "text": [
      "Epoch 61: 100%|██████████████████████████| 3448/3448 [08:54<00:00,  6.45batch/s]\n"
     ]
    },
    {
     "name": "stdout",
     "output_type": "stream",
     "text": [
      "/////////////////////////\n",
      "adverserial loss :  tensor(2.1219e-06, device='cuda:1', grad_fn=<DivBackward0>)\n",
      "classification loss :  tensor(6.2281e-06, device='cuda:1', grad_fn=<DivBackward0>)\n",
      "classification node loss :  tensor(0.0001, device='cuda:1', grad_fn=<DivBackward0>)\n",
      "total loss :  tensor(0.0001, device='cuda:1', grad_fn=<DivBackward0>)\n",
      "////////////////////////////////////\n",
      "***************************\n",
      "test : \n"
     ]
    },
    {
     "name": "stderr",
     "output_type": "stream",
     "text": [
      "Epoch 61: 100%|████████████████████████████| 243/243 [00:39<00:00,  6.10batch/s]\n"
     ]
    },
    {
     "name": "stdout",
     "output_type": "stream",
     "text": [
      "score: write test scores to /home/hassan-hossein/single_image_graph_face_anti_spoofing/train/Scores/epoch_61/score.txt\n",
      "epoch:61, test:  val_ACC=0.8871, HTER=0.1129, AUC=0.9496, val_err=0.1129, ACC=0.8871, TPR=0.7284\n"
     ]
    },
    {
     "name": "stderr",
     "output_type": "stream",
     "text": [
      "Epoch 62: 100%|██████████████████████████| 3448/3448 [08:52<00:00,  6.47batch/s]\n"
     ]
    },
    {
     "name": "stdout",
     "output_type": "stream",
     "text": [
      "/////////////////////////\n",
      "adverserial loss :  tensor(1.6444e-06, device='cuda:1', grad_fn=<DivBackward0>)\n",
      "classification loss :  tensor(6.7569e-06, device='cuda:1', grad_fn=<DivBackward0>)\n",
      "classification node loss :  tensor(0.0001, device='cuda:1', grad_fn=<DivBackward0>)\n",
      "total loss :  tensor(0.0001, device='cuda:1', grad_fn=<DivBackward0>)\n",
      "////////////////////////////////////\n",
      "***************************\n",
      "test : \n"
     ]
    },
    {
     "name": "stderr",
     "output_type": "stream",
     "text": [
      "Epoch 62: 100%|████████████████████████████| 243/243 [00:38<00:00,  6.28batch/s]\n"
     ]
    },
    {
     "name": "stdout",
     "output_type": "stream",
     "text": [
      "score: write test scores to /home/hassan-hossein/single_image_graph_face_anti_spoofing/train/Scores/epoch_62/score.txt\n",
      "epoch:62, test:  val_ACC=0.8701, HTER=0.1299, AUC=0.9273, val_err=0.1299, ACC=0.8701, TPR=0.4977\n"
     ]
    },
    {
     "name": "stderr",
     "output_type": "stream",
     "text": [
      "Epoch 63: 100%|██████████████████████████| 3448/3448 [08:53<00:00,  6.46batch/s]\n"
     ]
    },
    {
     "name": "stdout",
     "output_type": "stream",
     "text": [
      "/////////////////////////\n",
      "adverserial loss :  tensor(3.4198e-07, device='cuda:1', grad_fn=<DivBackward0>)\n",
      "classification loss :  tensor(2.1054e-06, device='cuda:1', grad_fn=<DivBackward0>)\n",
      "classification node loss :  tensor(0.0001, device='cuda:1', grad_fn=<DivBackward0>)\n",
      "total loss :  tensor(0.0001, device='cuda:1', grad_fn=<DivBackward0>)\n",
      "////////////////////////////////////\n",
      "***************************\n",
      "test : \n"
     ]
    },
    {
     "name": "stderr",
     "output_type": "stream",
     "text": [
      "Epoch 63: 100%|████████████████████████████| 243/243 [00:39<00:00,  6.22batch/s]\n"
     ]
    },
    {
     "name": "stdout",
     "output_type": "stream",
     "text": [
      "score: write test scores to /home/hassan-hossein/single_image_graph_face_anti_spoofing/train/Scores/epoch_63/score.txt\n",
      "epoch:63, test:  val_ACC=0.8548, HTER=0.1453, AUC=0.9320, val_err=0.1453, ACC=0.8548, TPR=0.6222\n"
     ]
    },
    {
     "name": "stderr",
     "output_type": "stream",
     "text": [
      "Epoch 64: 100%|██████████████████████████| 3448/3448 [08:54<00:00,  6.46batch/s]\n"
     ]
    },
    {
     "name": "stdout",
     "output_type": "stream",
     "text": [
      "/////////////////////////\n",
      "adverserial loss :  tensor(8.1832e-07, device='cuda:1', grad_fn=<DivBackward0>)\n",
      "classification loss :  tensor(6.5094e-06, device='cuda:1', grad_fn=<DivBackward0>)\n",
      "classification node loss :  tensor(0.0001, device='cuda:1', grad_fn=<DivBackward0>)\n",
      "total loss :  tensor(0.0001, device='cuda:1', grad_fn=<DivBackward0>)\n",
      "////////////////////////////////////\n",
      "***************************\n",
      "test : \n"
     ]
    },
    {
     "name": "stderr",
     "output_type": "stream",
     "text": [
      "Epoch 64: 100%|████████████████████████████| 243/243 [00:38<00:00,  6.32batch/s]\n"
     ]
    },
    {
     "name": "stdout",
     "output_type": "stream",
     "text": [
      "score: write test scores to /home/hassan-hossein/single_image_graph_face_anti_spoofing/train/Scores/epoch_64/score.txt\n",
      "epoch:64, test:  val_ACC=0.8729, HTER=0.1271, AUC=0.9258, val_err=0.1272, ACC=0.8729, TPR=0.7199\n"
     ]
    },
    {
     "name": "stderr",
     "output_type": "stream",
     "text": [
      "Epoch 65: 100%|██████████████████████████| 3448/3448 [08:53<00:00,  6.47batch/s]\n"
     ]
    },
    {
     "name": "stdout",
     "output_type": "stream",
     "text": [
      "/////////////////////////\n",
      "adverserial loss :  tensor(2.2234e-06, device='cuda:1', grad_fn=<DivBackward0>)\n",
      "classification loss :  tensor(5.9960e-06, device='cuda:1', grad_fn=<DivBackward0>)\n",
      "classification node loss :  tensor(0.0001, device='cuda:1', grad_fn=<DivBackward0>)\n",
      "total loss :  tensor(0.0001, device='cuda:1', grad_fn=<DivBackward0>)\n",
      "////////////////////////////////////\n",
      "***************************\n",
      "test : \n"
     ]
    },
    {
     "name": "stderr",
     "output_type": "stream",
     "text": [
      "Epoch 65: 100%|████████████████████████████| 243/243 [00:39<00:00,  6.18batch/s]\n"
     ]
    },
    {
     "name": "stdout",
     "output_type": "stream",
     "text": [
      "score: write test scores to /home/hassan-hossein/single_image_graph_face_anti_spoofing/train/Scores/epoch_65/score.txt\n",
      "epoch:65, test:  val_ACC=0.8896, HTER=0.1104, AUC=0.9431, val_err=0.1105, ACC=0.8896, TPR=0.7451\n"
     ]
    },
    {
     "name": "stderr",
     "output_type": "stream",
     "text": [
      "Epoch 66: 100%|██████████████████████████| 3448/3448 [08:54<00:00,  6.46batch/s]\n"
     ]
    },
    {
     "name": "stdout",
     "output_type": "stream",
     "text": [
      "/////////////////////////\n",
      "adverserial loss :  tensor(1.5077e-06, device='cuda:1', grad_fn=<DivBackward0>)\n",
      "classification loss :  tensor(3.5622e-06, device='cuda:1', grad_fn=<DivBackward0>)\n",
      "classification node loss :  tensor(0.0001, device='cuda:1', grad_fn=<DivBackward0>)\n",
      "total loss :  tensor(0.0001, device='cuda:1', grad_fn=<DivBackward0>)\n",
      "////////////////////////////////////\n",
      "***************************\n",
      "test : \n"
     ]
    },
    {
     "name": "stderr",
     "output_type": "stream",
     "text": [
      "Epoch 66: 100%|████████████████████████████| 243/243 [00:38<00:00,  6.25batch/s]\n"
     ]
    },
    {
     "name": "stdout",
     "output_type": "stream",
     "text": [
      "score: write test scores to /home/hassan-hossein/single_image_graph_face_anti_spoofing/train/Scores/epoch_66/score.txt\n",
      "epoch:66, test:  val_ACC=0.8725, HTER=0.1276, AUC=0.9473, val_err=0.1276, ACC=0.8725, TPR=0.7531\n"
     ]
    },
    {
     "name": "stderr",
     "output_type": "stream",
     "text": [
      "Epoch 67: 100%|██████████████████████████| 3448/3448 [08:51<00:00,  6.48batch/s]\n"
     ]
    },
    {
     "name": "stdout",
     "output_type": "stream",
     "text": [
      "/////////////////////////\n",
      "adverserial loss :  tensor(3.8805e-07, device='cuda:1', grad_fn=<DivBackward0>)\n",
      "classification loss :  tensor(5.9261e-06, device='cuda:1', grad_fn=<DivBackward0>)\n",
      "classification node loss :  tensor(0.0001, device='cuda:1', grad_fn=<DivBackward0>)\n",
      "total loss :  tensor(0.0001, device='cuda:1', grad_fn=<DivBackward0>)\n",
      "////////////////////////////////////\n",
      "***************************\n",
      "test : \n"
     ]
    },
    {
     "name": "stderr",
     "output_type": "stream",
     "text": [
      "Epoch 67: 100%|████████████████████████████| 243/243 [00:38<00:00,  6.23batch/s]\n"
     ]
    },
    {
     "name": "stdout",
     "output_type": "stream",
     "text": [
      "score: write test scores to /home/hassan-hossein/single_image_graph_face_anti_spoofing/train/Scores/epoch_67/score.txt\n",
      "epoch:67, test:  val_ACC=0.8763, HTER=0.1237, AUC=0.9503, val_err=0.1237, ACC=0.8763, TPR=0.6497\n"
     ]
    },
    {
     "name": "stderr",
     "output_type": "stream",
     "text": [
      "Epoch 68: 100%|██████████████████████████| 3448/3448 [08:52<00:00,  6.48batch/s]\n"
     ]
    },
    {
     "name": "stdout",
     "output_type": "stream",
     "text": [
      "/////////////////////////\n",
      "adverserial loss :  tensor(6.5086e-07, device='cuda:1', grad_fn=<DivBackward0>)\n",
      "classification loss :  tensor(2.8908e-06, device='cuda:1', grad_fn=<DivBackward0>)\n",
      "classification node loss :  tensor(0.0001, device='cuda:1', grad_fn=<DivBackward0>)\n",
      "total loss :  tensor(0.0001, device='cuda:1', grad_fn=<DivBackward0>)\n",
      "////////////////////////////////////\n",
      "***************************\n",
      "test : \n"
     ]
    },
    {
     "name": "stderr",
     "output_type": "stream",
     "text": [
      "Epoch 68: 100%|████████████████████████████| 243/243 [00:38<00:00,  6.37batch/s]\n"
     ]
    },
    {
     "name": "stdout",
     "output_type": "stream",
     "text": [
      "score: write test scores to /home/hassan-hossein/single_image_graph_face_anti_spoofing/train/Scores/epoch_68/score.txt\n",
      "epoch:68, test:  val_ACC=0.8712, HTER=0.1288, AUC=0.9331, val_err=0.1288, ACC=0.8712, TPR=0.5003\n"
     ]
    },
    {
     "name": "stderr",
     "output_type": "stream",
     "text": [
      "Epoch 69: 100%|██████████████████████████| 3448/3448 [08:54<00:00,  6.45batch/s]\n"
     ]
    },
    {
     "name": "stdout",
     "output_type": "stream",
     "text": [
      "/////////////////////////\n",
      "adverserial loss :  tensor(7.2925e-07, device='cuda:1', grad_fn=<DivBackward0>)\n",
      "classification loss :  tensor(6.1220e-06, device='cuda:1', grad_fn=<DivBackward0>)\n",
      "classification node loss :  tensor(0.0001, device='cuda:1', grad_fn=<DivBackward0>)\n",
      "total loss :  tensor(0.0001, device='cuda:1', grad_fn=<DivBackward0>)\n",
      "////////////////////////////////////\n",
      "***************************\n",
      "test : \n"
     ]
    },
    {
     "name": "stderr",
     "output_type": "stream",
     "text": [
      "Epoch 69: 100%|████████████████████████████| 243/243 [00:39<00:00,  6.21batch/s]\n"
     ]
    },
    {
     "name": "stdout",
     "output_type": "stream",
     "text": [
      "score: write test scores to /home/hassan-hossein/single_image_graph_face_anti_spoofing/train/Scores/epoch_69/score.txt\n",
      "epoch:69, test:  val_ACC=0.8714, HTER=0.1286, AUC=0.9139, val_err=0.1286, ACC=0.8714, TPR=0.3884\n"
     ]
    },
    {
     "name": "stderr",
     "output_type": "stream",
     "text": [
      "Epoch 70: 100%|██████████████████████████| 3448/3448 [08:52<00:00,  6.47batch/s]\n"
     ]
    },
    {
     "name": "stdout",
     "output_type": "stream",
     "text": [
      "/////////////////////////\n",
      "adverserial loss :  tensor(1.2689e-06, device='cuda:1', grad_fn=<DivBackward0>)\n",
      "classification loss :  tensor(4.5404e-06, device='cuda:1', grad_fn=<DivBackward0>)\n",
      "classification node loss :  tensor(0.0001, device='cuda:1', grad_fn=<DivBackward0>)\n",
      "total loss :  tensor(0.0001, device='cuda:1', grad_fn=<DivBackward0>)\n",
      "////////////////////////////////////\n",
      "***************************\n",
      "test : \n"
     ]
    },
    {
     "name": "stderr",
     "output_type": "stream",
     "text": [
      "Epoch 70: 100%|████████████████████████████| 243/243 [00:39<00:00,  6.19batch/s]\n"
     ]
    },
    {
     "name": "stdout",
     "output_type": "stream",
     "text": [
      "score: write test scores to /home/hassan-hossein/single_image_graph_face_anti_spoofing/train/Scores/epoch_70/score.txt\n",
      "epoch:70, test:  val_ACC=0.8597, HTER=0.1404, AUC=0.9228, val_err=0.1404, ACC=0.8597, TPR=0.5934\n"
     ]
    },
    {
     "name": "stderr",
     "output_type": "stream",
     "text": [
      "Epoch 71: 100%|██████████████████████████| 3448/3448 [08:54<00:00,  6.45batch/s]\n"
     ]
    },
    {
     "name": "stdout",
     "output_type": "stream",
     "text": [
      "/////////////////////////\n",
      "adverserial loss :  tensor(1.0178e-06, device='cuda:1', grad_fn=<DivBackward0>)\n",
      "classification loss :  tensor(4.5956e-06, device='cuda:1', grad_fn=<DivBackward0>)\n",
      "classification node loss :  tensor(0.0001, device='cuda:1', grad_fn=<DivBackward0>)\n",
      "total loss :  tensor(0.0001, device='cuda:1', grad_fn=<DivBackward0>)\n",
      "////////////////////////////////////\n",
      "***************************\n",
      "test : \n"
     ]
    },
    {
     "name": "stderr",
     "output_type": "stream",
     "text": [
      "Epoch 71: 100%|████████████████████████████| 243/243 [00:40<00:00,  6.05batch/s]\n"
     ]
    },
    {
     "name": "stdout",
     "output_type": "stream",
     "text": [
      "score: write test scores to /home/hassan-hossein/single_image_graph_face_anti_spoofing/train/Scores/epoch_71/score.txt\n",
      "epoch:71, test:  val_ACC=0.8739, HTER=0.1261, AUC=0.9230, val_err=0.1261, ACC=0.8739, TPR=0.0000\n"
     ]
    },
    {
     "name": "stderr",
     "output_type": "stream",
     "text": [
      "Epoch 72: 100%|██████████████████████████| 3448/3448 [08:51<00:00,  6.48batch/s]\n"
     ]
    },
    {
     "name": "stdout",
     "output_type": "stream",
     "text": [
      "/////////////////////////\n",
      "adverserial loss :  tensor(1.0695e-06, device='cuda:1', grad_fn=<DivBackward0>)\n",
      "classification loss :  tensor(6.2582e-07, device='cuda:1', grad_fn=<DivBackward0>)\n",
      "classification node loss :  tensor(0.0001, device='cuda:1', grad_fn=<DivBackward0>)\n",
      "total loss :  tensor(0.0001, device='cuda:1', grad_fn=<DivBackward0>)\n",
      "////////////////////////////////////\n",
      "***************************\n",
      "test : \n"
     ]
    },
    {
     "name": "stderr",
     "output_type": "stream",
     "text": [
      "Epoch 72: 100%|████████████████████████████| 243/243 [00:39<00:00,  6.15batch/s]\n"
     ]
    },
    {
     "name": "stdout",
     "output_type": "stream",
     "text": [
      "score: write test scores to /home/hassan-hossein/single_image_graph_face_anti_spoofing/train/Scores/epoch_72/score.txt\n",
      "epoch:72, test:  val_ACC=0.8642, HTER=0.1358, AUC=0.9301, val_err=0.1358, ACC=0.8642, TPR=0.7330\n"
     ]
    },
    {
     "name": "stderr",
     "output_type": "stream",
     "text": [
      "Epoch 73: 100%|██████████████████████████| 3448/3448 [08:51<00:00,  6.48batch/s]\n"
     ]
    },
    {
     "name": "stdout",
     "output_type": "stream",
     "text": [
      "/////////////////////////\n",
      "adverserial loss :  tensor(6.8266e-07, device='cuda:1', grad_fn=<DivBackward0>)\n",
      "classification loss :  tensor(6.9677e-06, device='cuda:1', grad_fn=<DivBackward0>)\n",
      "classification node loss :  tensor(0.0001, device='cuda:1', grad_fn=<DivBackward0>)\n",
      "total loss :  tensor(0.0001, device='cuda:1', grad_fn=<DivBackward0>)\n",
      "////////////////////////////////////\n",
      "***************************\n",
      "test : \n"
     ]
    },
    {
     "name": "stderr",
     "output_type": "stream",
     "text": [
      "Epoch 73: 100%|████████████████████████████| 243/243 [00:38<00:00,  6.26batch/s]\n"
     ]
    },
    {
     "name": "stdout",
     "output_type": "stream",
     "text": [
      "score: write test scores to /home/hassan-hossein/single_image_graph_face_anti_spoofing/train/Scores/epoch_73/score.txt\n",
      "epoch:73, test:  val_ACC=0.8644, HTER=0.1356, AUC=0.9331, val_err=0.1357, ACC=0.8644, TPR=0.7749\n"
     ]
    },
    {
     "name": "stderr",
     "output_type": "stream",
     "text": [
      "Epoch 74: 100%|██████████████████████████| 3448/3448 [08:52<00:00,  6.48batch/s]\n"
     ]
    },
    {
     "name": "stdout",
     "output_type": "stream",
     "text": [
      "/////////////////////////\n",
      "adverserial loss :  tensor(1.4656e-07, device='cuda:1', grad_fn=<DivBackward0>)\n",
      "classification loss :  tensor(4.9565e-06, device='cuda:1', grad_fn=<DivBackward0>)\n",
      "classification node loss :  tensor(0.0001, device='cuda:1', grad_fn=<DivBackward0>)\n",
      "total loss :  tensor(0.0001, device='cuda:1', grad_fn=<DivBackward0>)\n",
      "////////////////////////////////////\n",
      "***************************\n",
      "test : \n"
     ]
    },
    {
     "name": "stderr",
     "output_type": "stream",
     "text": [
      "Epoch 74: 100%|████████████████████████████| 243/243 [00:40<00:00,  6.07batch/s]\n"
     ]
    },
    {
     "name": "stdout",
     "output_type": "stream",
     "text": [
      "score: write test scores to /home/hassan-hossein/single_image_graph_face_anti_spoofing/train/Scores/epoch_74/score.txt\n",
      "epoch:74, test:  val_ACC=0.8737, HTER=0.1263, AUC=0.9360, val_err=0.1263, ACC=0.8737, TPR=0.5381\n"
     ]
    },
    {
     "name": "stderr",
     "output_type": "stream",
     "text": [
      "Epoch 75: 100%|██████████████████████████| 3448/3448 [08:52<00:00,  6.47batch/s]\n"
     ]
    },
    {
     "name": "stdout",
     "output_type": "stream",
     "text": [
      "/////////////////////////\n",
      "adverserial loss :  tensor(2.4014e-06, device='cuda:1', grad_fn=<DivBackward0>)\n",
      "classification loss :  tensor(3.7373e-06, device='cuda:1', grad_fn=<DivBackward0>)\n",
      "classification node loss :  tensor(9.5629e-05, device='cuda:1', grad_fn=<DivBackward0>)\n",
      "total loss :  tensor(0.0001, device='cuda:1', grad_fn=<DivBackward0>)\n",
      "////////////////////////////////////\n",
      "***************************\n",
      "test : \n"
     ]
    },
    {
     "name": "stderr",
     "output_type": "stream",
     "text": [
      "Epoch 75: 100%|████████████████████████████| 243/243 [00:39<00:00,  6.11batch/s]\n"
     ]
    },
    {
     "name": "stdout",
     "output_type": "stream",
     "text": [
      "score: write test scores to /home/hassan-hossein/single_image_graph_face_anti_spoofing/train/Scores/epoch_75/score.txt\n",
      "epoch:75, test:  val_ACC=0.8702, HTER=0.1299, AUC=0.9405, val_err=0.1298, ACC=0.8702, TPR=0.7587\n"
     ]
    },
    {
     "name": "stderr",
     "output_type": "stream",
     "text": [
      "Epoch 76: 100%|██████████████████████████| 3448/3448 [08:51<00:00,  6.48batch/s]\n"
     ]
    },
    {
     "name": "stdout",
     "output_type": "stream",
     "text": [
      "/////////////////////////\n",
      "adverserial loss :  tensor(1.1810e-06, device='cuda:1', grad_fn=<DivBackward0>)\n",
      "classification loss :  tensor(8.2290e-06, device='cuda:1', grad_fn=<DivBackward0>)\n",
      "classification node loss :  tensor(9.4106e-05, device='cuda:1', grad_fn=<DivBackward0>)\n",
      "total loss :  tensor(0.0001, device='cuda:1', grad_fn=<DivBackward0>)\n",
      "////////////////////////////////////\n",
      "***************************\n",
      "test : \n"
     ]
    },
    {
     "name": "stderr",
     "output_type": "stream",
     "text": [
      "Epoch 76: 100%|████████████████████████████| 243/243 [00:38<00:00,  6.26batch/s]\n"
     ]
    },
    {
     "name": "stdout",
     "output_type": "stream",
     "text": [
      "score: write test scores to /home/hassan-hossein/single_image_graph_face_anti_spoofing/train/Scores/epoch_76/score.txt\n",
      "epoch:76, test:  val_ACC=0.8755, HTER=0.1245, AUC=0.9443, val_err=0.1245, ACC=0.8755, TPR=0.6422\n"
     ]
    },
    {
     "name": "stderr",
     "output_type": "stream",
     "text": [
      "Epoch 77: 100%|██████████████████████████| 3448/3448 [08:51<00:00,  6.48batch/s]\n"
     ]
    },
    {
     "name": "stdout",
     "output_type": "stream",
     "text": [
      "/////////////////////////\n",
      "adverserial loss :  tensor(1.0367e-06, device='cuda:1', grad_fn=<DivBackward0>)\n",
      "classification loss :  tensor(2.0053e-07, device='cuda:1', grad_fn=<DivBackward0>)\n",
      "classification node loss :  tensor(9.8206e-05, device='cuda:1', grad_fn=<DivBackward0>)\n",
      "total loss :  tensor(9.9443e-05, device='cuda:1', grad_fn=<DivBackward0>)\n",
      "////////////////////////////////////\n",
      "***************************\n",
      "test : \n"
     ]
    },
    {
     "name": "stderr",
     "output_type": "stream",
     "text": [
      "Epoch 77: 100%|████████████████████████████| 243/243 [00:38<00:00,  6.32batch/s]\n"
     ]
    },
    {
     "name": "stdout",
     "output_type": "stream",
     "text": [
      "score: write test scores to /home/hassan-hossein/single_image_graph_face_anti_spoofing/train/Scores/epoch_77/score.txt\n",
      "epoch:77, test:  val_ACC=0.8886, HTER=0.1114, AUC=0.9449, val_err=0.1114, ACC=0.8886, TPR=0.7670\n"
     ]
    },
    {
     "name": "stderr",
     "output_type": "stream",
     "text": [
      "Epoch 78: 100%|██████████████████████████| 3448/3448 [08:51<00:00,  6.49batch/s]\n"
     ]
    },
    {
     "name": "stdout",
     "output_type": "stream",
     "text": [
      "/////////////////////////\n",
      "adverserial loss :  tensor(3.7436e-07, device='cuda:1', grad_fn=<DivBackward0>)\n",
      "classification loss :  tensor(6.7936e-06, device='cuda:1', grad_fn=<DivBackward0>)\n",
      "classification node loss :  tensor(9.2368e-05, device='cuda:1', grad_fn=<DivBackward0>)\n",
      "total loss :  tensor(9.9536e-05, device='cuda:1', grad_fn=<DivBackward0>)\n",
      "////////////////////////////////////\n",
      "***************************\n",
      "test : \n"
     ]
    },
    {
     "name": "stderr",
     "output_type": "stream",
     "text": [
      "Epoch 78: 100%|████████████████████████████| 243/243 [00:38<00:00,  6.29batch/s]\n"
     ]
    },
    {
     "name": "stdout",
     "output_type": "stream",
     "text": [
      "score: write test scores to /home/hassan-hossein/single_image_graph_face_anti_spoofing/train/Scores/epoch_78/score.txt\n",
      "epoch:78, test:  val_ACC=0.8691, HTER=0.1309, AUC=0.9260, val_err=0.1309, ACC=0.8691, TPR=0.3812\n"
     ]
    },
    {
     "name": "stderr",
     "output_type": "stream",
     "text": [
      "Epoch 79: 100%|██████████████████████████| 3448/3448 [08:51<00:00,  6.48batch/s]\n"
     ]
    },
    {
     "name": "stdout",
     "output_type": "stream",
     "text": [
      "/////////////////////////\n",
      "adverserial loss :  tensor(9.6473e-07, device='cuda:1', grad_fn=<DivBackward0>)\n",
      "classification loss :  tensor(1.7258e-06, device='cuda:1', grad_fn=<DivBackward0>)\n",
      "classification node loss :  tensor(8.9197e-05, device='cuda:1', grad_fn=<DivBackward0>)\n",
      "total loss :  tensor(9.1888e-05, device='cuda:1', grad_fn=<DivBackward0>)\n",
      "////////////////////////////////////\n",
      "***************************\n",
      "test : \n"
     ]
    },
    {
     "name": "stderr",
     "output_type": "stream",
     "text": [
      "Epoch 79: 100%|████████████████████████████| 243/243 [00:38<00:00,  6.26batch/s]\n"
     ]
    },
    {
     "name": "stdout",
     "output_type": "stream",
     "text": [
      "score: write test scores to /home/hassan-hossein/single_image_graph_face_anti_spoofing/train/Scores/epoch_79/score.txt\n",
      "epoch:79, test:  val_ACC=0.8682, HTER=0.1317, AUC=0.9232, val_err=0.1318, ACC=0.8682, TPR=0.4509\n"
     ]
    },
    {
     "name": "stderr",
     "output_type": "stream",
     "text": [
      "Epoch 80: 100%|██████████████████████████| 3448/3448 [08:52<00:00,  6.48batch/s]\n"
     ]
    },
    {
     "name": "stdout",
     "output_type": "stream",
     "text": [
      "/////////////////////////\n",
      "adverserial loss :  tensor(1.2172e-06, device='cuda:1', grad_fn=<DivBackward0>)\n",
      "classification loss :  tensor(4.6898e-06, device='cuda:1', grad_fn=<DivBackward0>)\n",
      "classification node loss :  tensor(8.5338e-05, device='cuda:1', grad_fn=<DivBackward0>)\n",
      "total loss :  tensor(9.1245e-05, device='cuda:1', grad_fn=<DivBackward0>)\n",
      "////////////////////////////////////\n",
      "***************************\n",
      "test : \n"
     ]
    },
    {
     "name": "stderr",
     "output_type": "stream",
     "text": [
      "Epoch 80: 100%|████████████████████████████| 243/243 [00:38<00:00,  6.24batch/s]\n"
     ]
    },
    {
     "name": "stdout",
     "output_type": "stream",
     "text": [
      "score: write test scores to /home/hassan-hossein/single_image_graph_face_anti_spoofing/train/Scores/epoch_80/score.txt\n",
      "epoch:80, test:  val_ACC=0.8611, HTER=0.1389, AUC=0.9265, val_err=0.1389, ACC=0.8611, TPR=0.4897\n"
     ]
    },
    {
     "name": "stderr",
     "output_type": "stream",
     "text": [
      "Epoch 81: 100%|██████████████████████████| 3448/3448 [08:52<00:00,  6.48batch/s]\n"
     ]
    },
    {
     "name": "stdout",
     "output_type": "stream",
     "text": [
      "/////////////////////////\n",
      "adverserial loss :  tensor(9.2388e-07, device='cuda:1', grad_fn=<DivBackward0>)\n",
      "classification loss :  tensor(3.0073e-06, device='cuda:1', grad_fn=<DivBackward0>)\n",
      "classification node loss :  tensor(9.3377e-05, device='cuda:1', grad_fn=<DivBackward0>)\n",
      "total loss :  tensor(9.7308e-05, device='cuda:1', grad_fn=<DivBackward0>)\n",
      "////////////////////////////////////\n",
      "***************************\n",
      "test : \n"
     ]
    },
    {
     "name": "stderr",
     "output_type": "stream",
     "text": [
      "Epoch 81: 100%|████████████████████████████| 243/243 [00:41<00:00,  5.81batch/s]\n"
     ]
    },
    {
     "name": "stdout",
     "output_type": "stream",
     "text": [
      "score: write test scores to /home/hassan-hossein/single_image_graph_face_anti_spoofing/train/Scores/epoch_81/score.txt\n",
      "epoch:81, test:  val_ACC=0.8817, HTER=0.1183, AUC=0.9396, val_err=0.1183, ACC=0.8817, TPR=0.6538\n"
     ]
    },
    {
     "name": "stderr",
     "output_type": "stream",
     "text": [
      "Epoch 82: 100%|██████████████████████████| 3448/3448 [08:54<00:00,  6.45batch/s]\n"
     ]
    },
    {
     "name": "stdout",
     "output_type": "stream",
     "text": [
      "/////////////////////////\n",
      "adverserial loss :  tensor(8.7256e-07, device='cuda:1', grad_fn=<DivBackward0>)\n",
      "classification loss :  tensor(4.1621e-06, device='cuda:1', grad_fn=<DivBackward0>)\n",
      "classification node loss :  tensor(8.6673e-05, device='cuda:1', grad_fn=<DivBackward0>)\n",
      "total loss :  tensor(9.1708e-05, device='cuda:1', grad_fn=<DivBackward0>)\n",
      "////////////////////////////////////\n",
      "***************************\n",
      "test : \n"
     ]
    },
    {
     "name": "stderr",
     "output_type": "stream",
     "text": [
      "Epoch 82: 100%|████████████████████████████| 243/243 [00:38<00:00,  6.34batch/s]\n"
     ]
    },
    {
     "name": "stdout",
     "output_type": "stream",
     "text": [
      "score: write test scores to /home/hassan-hossein/single_image_graph_face_anti_spoofing/train/Scores/epoch_82/score.txt\n",
      "epoch:82, test:  val_ACC=0.8524, HTER=0.1477, AUC=0.9219, val_err=0.1477, ACC=0.8524, TPR=0.3552\n"
     ]
    },
    {
     "name": "stderr",
     "output_type": "stream",
     "text": [
      "Epoch 83: 100%|██████████████████████████| 3448/3448 [08:54<00:00,  6.46batch/s]\n"
     ]
    },
    {
     "name": "stdout",
     "output_type": "stream",
     "text": [
      "/////////////////////////\n",
      "adverserial loss :  tensor(5.6253e-07, device='cuda:1', grad_fn=<DivBackward0>)\n",
      "classification loss :  tensor(3.4808e-06, device='cuda:1', grad_fn=<DivBackward0>)\n",
      "classification node loss :  tensor(9.2200e-05, device='cuda:1', grad_fn=<DivBackward0>)\n",
      "total loss :  tensor(9.6244e-05, device='cuda:1', grad_fn=<DivBackward0>)\n",
      "////////////////////////////////////\n",
      "***************************\n",
      "test : \n"
     ]
    },
    {
     "name": "stderr",
     "output_type": "stream",
     "text": [
      "Epoch 83: 100%|████████████████████████████| 243/243 [00:39<00:00,  6.13batch/s]\n"
     ]
    },
    {
     "name": "stdout",
     "output_type": "stream",
     "text": [
      "score: write test scores to /home/hassan-hossein/single_image_graph_face_anti_spoofing/train/Scores/epoch_83/score.txt\n",
      "epoch:83, test:  val_ACC=0.8784, HTER=0.1216, AUC=0.9471, val_err=0.1216, ACC=0.8784, TPR=0.6517\n"
     ]
    },
    {
     "name": "stderr",
     "output_type": "stream",
     "text": [
      "Epoch 84: 100%|██████████████████████████| 3448/3448 [08:53<00:00,  6.46batch/s]\n"
     ]
    },
    {
     "name": "stdout",
     "output_type": "stream",
     "text": [
      "/////////////////////////\n",
      "adverserial loss :  tensor(2.8814e-07, device='cuda:1', grad_fn=<DivBackward0>)\n",
      "classification loss :  tensor(4.3686e-06, device='cuda:1', grad_fn=<DivBackward0>)\n",
      "classification node loss :  tensor(9.5770e-05, device='cuda:1', grad_fn=<DivBackward0>)\n",
      "total loss :  tensor(0.0001, device='cuda:1', grad_fn=<DivBackward0>)\n",
      "////////////////////////////////////\n",
      "***************************\n",
      "test : \n"
     ]
    },
    {
     "name": "stderr",
     "output_type": "stream",
     "text": [
      "Epoch 84: 100%|████████████████████████████| 243/243 [00:38<00:00,  6.26batch/s]\n"
     ]
    },
    {
     "name": "stdout",
     "output_type": "stream",
     "text": [
      "score: write test scores to /home/hassan-hossein/single_image_graph_face_anti_spoofing/train/Scores/epoch_84/score.txt\n",
      "epoch:84, test:  val_ACC=0.8766, HTER=0.1234, AUC=0.9424, val_err=0.1234, ACC=0.8766, TPR=0.6371\n"
     ]
    },
    {
     "name": "stderr",
     "output_type": "stream",
     "text": [
      "Epoch 85: 100%|██████████████████████████| 3448/3448 [08:54<00:00,  6.45batch/s]\n"
     ]
    },
    {
     "name": "stdout",
     "output_type": "stream",
     "text": [
      "/////////////////////////\n",
      "adverserial loss :  tensor(3.2963e-06, device='cuda:1', grad_fn=<DivBackward0>)\n",
      "classification loss :  tensor(3.0280e-06, device='cuda:1', grad_fn=<DivBackward0>)\n",
      "classification node loss :  tensor(8.6765e-05, device='cuda:1', grad_fn=<DivBackward0>)\n",
      "total loss :  tensor(9.3089e-05, device='cuda:1', grad_fn=<DivBackward0>)\n",
      "////////////////////////////////////\n",
      "***************************\n",
      "test : \n"
     ]
    },
    {
     "name": "stderr",
     "output_type": "stream",
     "text": [
      "Epoch 85: 100%|████████████████████████████| 243/243 [00:38<00:00,  6.27batch/s]\n"
     ]
    },
    {
     "name": "stdout",
     "output_type": "stream",
     "text": [
      "score: write test scores to /home/hassan-hossein/single_image_graph_face_anti_spoofing/train/Scores/epoch_85/score.txt\n",
      "epoch:85, test:  val_ACC=0.8910, HTER=0.1091, AUC=0.9367, val_err=0.1091, ACC=0.8910, TPR=0.7119\n"
     ]
    },
    {
     "name": "stderr",
     "output_type": "stream",
     "text": [
      "Epoch 86: 100%|██████████████████████████| 3448/3448 [08:53<00:00,  6.47batch/s]\n"
     ]
    },
    {
     "name": "stdout",
     "output_type": "stream",
     "text": [
      "/////////////////////////\n",
      "adverserial loss :  tensor(1.0001e-06, device='cuda:1', grad_fn=<DivBackward0>)\n",
      "classification loss :  tensor(3.3326e-06, device='cuda:1', grad_fn=<DivBackward0>)\n",
      "classification node loss :  tensor(0.0001, device='cuda:1', grad_fn=<DivBackward0>)\n",
      "total loss :  tensor(0.0001, device='cuda:1', grad_fn=<DivBackward0>)\n",
      "////////////////////////////////////\n",
      "***************************\n",
      "test : \n"
     ]
    },
    {
     "name": "stderr",
     "output_type": "stream",
     "text": [
      "Epoch 86: 100%|████████████████████████████| 243/243 [00:38<00:00,  6.29batch/s]\n"
     ]
    },
    {
     "name": "stdout",
     "output_type": "stream",
     "text": [
      "score: write test scores to /home/hassan-hossein/single_image_graph_face_anti_spoofing/train/Scores/epoch_86/score.txt\n",
      "epoch:86, test:  val_ACC=0.8514, HTER=0.1487, AUC=0.8976, val_err=0.1487, ACC=0.8514, TPR=0.3279\n"
     ]
    },
    {
     "name": "stderr",
     "output_type": "stream",
     "text": [
      "Epoch 87: 100%|██████████████████████████| 3448/3448 [08:52<00:00,  6.48batch/s]\n"
     ]
    },
    {
     "name": "stdout",
     "output_type": "stream",
     "text": [
      "/////////////////////////\n",
      "adverserial loss :  tensor(1.8112e-07, device='cuda:1', grad_fn=<DivBackward0>)\n",
      "classification loss :  tensor(2.5176e-06, device='cuda:1', grad_fn=<DivBackward0>)\n",
      "classification node loss :  tensor(0.0001, device='cuda:1', grad_fn=<DivBackward0>)\n",
      "total loss :  tensor(0.0001, device='cuda:1', grad_fn=<DivBackward0>)\n",
      "////////////////////////////////////\n",
      "***************************\n",
      "test : \n"
     ]
    },
    {
     "name": "stderr",
     "output_type": "stream",
     "text": [
      "Epoch 87: 100%|████████████████████████████| 243/243 [00:38<00:00,  6.24batch/s]\n"
     ]
    },
    {
     "name": "stdout",
     "output_type": "stream",
     "text": [
      "score: write test scores to /home/hassan-hossein/single_image_graph_face_anti_spoofing/train/Scores/epoch_87/score.txt\n",
      "epoch:87, test:  val_ACC=0.8753, HTER=0.1247, AUC=0.9356, val_err=0.1247, ACC=0.8753, TPR=0.5064\n"
     ]
    },
    {
     "name": "stderr",
     "output_type": "stream",
     "text": [
      "Epoch 88: 100%|██████████████████████████| 3448/3448 [08:51<00:00,  6.48batch/s]\n"
     ]
    },
    {
     "name": "stdout",
     "output_type": "stream",
     "text": [
      "/////////////////////////\n",
      "adverserial loss :  tensor(1.5831e-06, device='cuda:1', grad_fn=<DivBackward0>)\n",
      "classification loss :  tensor(2.7593e-06, device='cuda:1', grad_fn=<DivBackward0>)\n",
      "classification node loss :  tensor(8.8285e-05, device='cuda:1', grad_fn=<DivBackward0>)\n",
      "total loss :  tensor(9.2627e-05, device='cuda:1', grad_fn=<DivBackward0>)\n",
      "////////////////////////////////////\n",
      "***************************\n",
      "test : \n"
     ]
    },
    {
     "name": "stderr",
     "output_type": "stream",
     "text": [
      "Epoch 88: 100%|████████████████████████████| 243/243 [00:39<00:00,  6.18batch/s]\n"
     ]
    },
    {
     "name": "stdout",
     "output_type": "stream",
     "text": [
      "score: write test scores to /home/hassan-hossein/single_image_graph_face_anti_spoofing/train/Scores/epoch_88/score.txt\n",
      "epoch:88, test:  val_ACC=0.8626, HTER=0.1374, AUC=0.9269, val_err=0.1375, ACC=0.8626, TPR=0.5895\n"
     ]
    },
    {
     "name": "stderr",
     "output_type": "stream",
     "text": [
      "Epoch 89: 100%|██████████████████████████| 3448/3448 [08:52<00:00,  6.48batch/s]\n"
     ]
    },
    {
     "name": "stdout",
     "output_type": "stream",
     "text": [
      "/////////////////////////\n",
      "adverserial loss :  tensor(9.8225e-07, device='cuda:1', grad_fn=<DivBackward0>)\n",
      "classification loss :  tensor(5.1944e-06, device='cuda:1', grad_fn=<DivBackward0>)\n",
      "classification node loss :  tensor(8.5225e-05, device='cuda:1', grad_fn=<DivBackward0>)\n",
      "total loss :  tensor(9.1402e-05, device='cuda:1', grad_fn=<DivBackward0>)\n",
      "////////////////////////////////////\n",
      "***************************\n",
      "test : \n"
     ]
    },
    {
     "name": "stderr",
     "output_type": "stream",
     "text": [
      "Epoch 89: 100%|████████████████████████████| 243/243 [00:38<00:00,  6.31batch/s]\n"
     ]
    },
    {
     "name": "stdout",
     "output_type": "stream",
     "text": [
      "score: write test scores to /home/hassan-hossein/single_image_graph_face_anti_spoofing/train/Scores/epoch_89/score.txt\n",
      "epoch:89, test:  val_ACC=0.8824, HTER=0.1176, AUC=0.9426, val_err=0.1177, ACC=0.8824, TPR=0.6507\n"
     ]
    },
    {
     "name": "stderr",
     "output_type": "stream",
     "text": [
      "Epoch 90: 100%|██████████████████████████| 3448/3448 [08:52<00:00,  6.47batch/s]\n"
     ]
    },
    {
     "name": "stdout",
     "output_type": "stream",
     "text": [
      "/////////////////////////\n",
      "adverserial loss :  tensor(2.0743e-07, device='cuda:1', grad_fn=<DivBackward0>)\n",
      "classification loss :  tensor(6.0647e-06, device='cuda:1', grad_fn=<DivBackward0>)\n",
      "classification node loss :  tensor(7.9610e-05, device='cuda:1', grad_fn=<DivBackward0>)\n",
      "total loss :  tensor(8.5882e-05, device='cuda:1', grad_fn=<DivBackward0>)\n",
      "////////////////////////////////////\n",
      "***************************\n",
      "test : \n"
     ]
    },
    {
     "name": "stderr",
     "output_type": "stream",
     "text": [
      "Epoch 90: 100%|████████████████████████████| 243/243 [00:39<00:00,  6.22batch/s]\n"
     ]
    },
    {
     "name": "stdout",
     "output_type": "stream",
     "text": [
      "score: write test scores to /home/hassan-hossein/single_image_graph_face_anti_spoofing/train/Scores/epoch_90/score.txt\n",
      "epoch:90, test:  val_ACC=0.8936, HTER=0.1065, AUC=0.9508, val_err=0.1064, ACC=0.8936, TPR=0.7243\n"
     ]
    },
    {
     "name": "stderr",
     "output_type": "stream",
     "text": [
      "Epoch 91: 100%|██████████████████████████| 3448/3448 [08:52<00:00,  6.48batch/s]\n"
     ]
    },
    {
     "name": "stdout",
     "output_type": "stream",
     "text": [
      "/////////////////////////\n",
      "adverserial loss :  tensor(5.2531e-07, device='cuda:1', grad_fn=<DivBackward0>)\n",
      "classification loss :  tensor(4.1229e-06, device='cuda:1', grad_fn=<DivBackward0>)\n",
      "classification node loss :  tensor(8.6533e-05, device='cuda:1', grad_fn=<DivBackward0>)\n",
      "total loss :  tensor(9.1182e-05, device='cuda:1', grad_fn=<DivBackward0>)\n",
      "////////////////////////////////////\n",
      "***************************\n",
      "test : \n"
     ]
    },
    {
     "name": "stderr",
     "output_type": "stream",
     "text": [
      "Epoch 91: 100%|████████████████████████████| 243/243 [00:39<00:00,  6.22batch/s]\n"
     ]
    },
    {
     "name": "stdout",
     "output_type": "stream",
     "text": [
      "score: write test scores to /home/hassan-hossein/single_image_graph_face_anti_spoofing/train/Scores/epoch_91/score.txt\n",
      "epoch:91, test:  val_ACC=0.8902, HTER=0.1098, AUC=0.9517, val_err=0.1099, ACC=0.8902, TPR=0.6253\n"
     ]
    },
    {
     "name": "stderr",
     "output_type": "stream",
     "text": [
      "Epoch 92: 100%|██████████████████████████| 3448/3448 [08:52<00:00,  6.47batch/s]\n"
     ]
    },
    {
     "name": "stdout",
     "output_type": "stream",
     "text": [
      "/////////////////////////\n",
      "adverserial loss :  tensor(6.5721e-07, device='cuda:1', grad_fn=<DivBackward0>)\n",
      "classification loss :  tensor(1.8819e-06, device='cuda:1', grad_fn=<DivBackward0>)\n",
      "classification node loss :  tensor(8.3352e-05, device='cuda:1', grad_fn=<DivBackward0>)\n",
      "total loss :  tensor(8.5892e-05, device='cuda:1', grad_fn=<DivBackward0>)\n",
      "////////////////////////////////////\n",
      "***************************\n",
      "test : \n"
     ]
    },
    {
     "name": "stderr",
     "output_type": "stream",
     "text": [
      "Epoch 92: 100%|████████████████████████████| 243/243 [00:38<00:00,  6.30batch/s]\n"
     ]
    },
    {
     "name": "stdout",
     "output_type": "stream",
     "text": [
      "score: write test scores to /home/hassan-hossein/single_image_graph_face_anti_spoofing/train/Scores/epoch_92/score.txt\n",
      "epoch:92, test:  val_ACC=0.8439, HTER=0.1561, AUC=0.8963, val_err=0.1562, ACC=0.8439, TPR=0.7253\n"
     ]
    },
    {
     "name": "stderr",
     "output_type": "stream",
     "text": [
      "Epoch 93: 100%|██████████████████████████| 3448/3448 [08:52<00:00,  6.47batch/s]\n"
     ]
    },
    {
     "name": "stdout",
     "output_type": "stream",
     "text": [
      "/////////////////////////\n",
      "adverserial loss :  tensor(1.0325e-06, device='cuda:1', grad_fn=<DivBackward0>)\n",
      "classification loss :  tensor(7.5965e-06, device='cuda:1', grad_fn=<DivBackward0>)\n",
      "classification node loss :  tensor(7.3323e-05, device='cuda:1', grad_fn=<DivBackward0>)\n",
      "total loss :  tensor(8.1952e-05, device='cuda:1', grad_fn=<DivBackward0>)\n",
      "////////////////////////////////////\n",
      "***************************\n",
      "test : \n"
     ]
    },
    {
     "name": "stderr",
     "output_type": "stream",
     "text": [
      "Epoch 93: 100%|████████████████████████████| 243/243 [00:38<00:00,  6.32batch/s]\n"
     ]
    },
    {
     "name": "stdout",
     "output_type": "stream",
     "text": [
      "score: write test scores to /home/hassan-hossein/single_image_graph_face_anti_spoofing/train/Scores/epoch_93/score.txt\n",
      "epoch:93, test:  val_ACC=0.8768, HTER=0.1232, AUC=0.9389, val_err=0.1232, ACC=0.8768, TPR=0.8344\n"
     ]
    },
    {
     "name": "stderr",
     "output_type": "stream",
     "text": [
      "Epoch 94: 100%|██████████████████████████| 3448/3448 [08:52<00:00,  6.48batch/s]\n"
     ]
    },
    {
     "name": "stdout",
     "output_type": "stream",
     "text": [
      "/////////////////////////\n",
      "adverserial loss :  tensor(2.1379e-07, device='cuda:1', grad_fn=<DivBackward0>)\n",
      "classification loss :  tensor(2.2572e-06, device='cuda:1', grad_fn=<DivBackward0>)\n",
      "classification node loss :  tensor(8.1859e-05, device='cuda:1', grad_fn=<DivBackward0>)\n",
      "total loss :  tensor(8.4330e-05, device='cuda:1', grad_fn=<DivBackward0>)\n",
      "////////////////////////////////////\n",
      "***************************\n",
      "test : \n"
     ]
    },
    {
     "name": "stderr",
     "output_type": "stream",
     "text": [
      "Epoch 94: 100%|████████████████████████████| 243/243 [00:38<00:00,  6.31batch/s]\n"
     ]
    },
    {
     "name": "stdout",
     "output_type": "stream",
     "text": [
      "score: write test scores to /home/hassan-hossein/single_image_graph_face_anti_spoofing/train/Scores/epoch_94/score.txt\n",
      "epoch:94, test:  val_ACC=0.9028, HTER=0.0972, AUC=0.9481, val_err=0.0972, ACC=0.9028, TPR=0.7703\n"
     ]
    },
    {
     "name": "stderr",
     "output_type": "stream",
     "text": [
      "Epoch 95: 100%|██████████████████████████| 3448/3448 [08:52<00:00,  6.48batch/s]\n"
     ]
    },
    {
     "name": "stdout",
     "output_type": "stream",
     "text": [
      "/////////////////////////\n",
      "adverserial loss :  tensor(2.5235e-06, device='cuda:1', grad_fn=<DivBackward0>)\n",
      "classification loss :  tensor(3.6439e-06, device='cuda:1', grad_fn=<DivBackward0>)\n",
      "classification node loss :  tensor(7.8744e-05, device='cuda:1', grad_fn=<DivBackward0>)\n",
      "total loss :  tensor(8.4911e-05, device='cuda:1', grad_fn=<DivBackward0>)\n",
      "////////////////////////////////////\n",
      "***************************\n",
      "test : \n"
     ]
    },
    {
     "name": "stderr",
     "output_type": "stream",
     "text": [
      "Epoch 95: 100%|████████████████████████████| 243/243 [00:39<00:00,  6.17batch/s]\n"
     ]
    },
    {
     "name": "stdout",
     "output_type": "stream",
     "text": [
      "score: write test scores to /home/hassan-hossein/single_image_graph_face_anti_spoofing/train/Scores/epoch_95/score.txt\n",
      "epoch:95, test:  val_ACC=0.8900, HTER=0.1101, AUC=0.9476, val_err=0.1100, ACC=0.8900, TPR=0.7135\n"
     ]
    },
    {
     "name": "stderr",
     "output_type": "stream",
     "text": [
      "Epoch 96: 100%|██████████████████████████| 3448/3448 [08:54<00:00,  6.45batch/s]\n"
     ]
    },
    {
     "name": "stdout",
     "output_type": "stream",
     "text": [
      "/////////////////////////\n",
      "adverserial loss :  tensor(1.9452e-07, device='cuda:1', grad_fn=<DivBackward0>)\n",
      "classification loss :  tensor(3.0575e-07, device='cuda:1', grad_fn=<DivBackward0>)\n",
      "classification node loss :  tensor(7.6201e-05, device='cuda:1', grad_fn=<DivBackward0>)\n",
      "total loss :  tensor(7.6701e-05, device='cuda:1', grad_fn=<DivBackward0>)\n",
      "////////////////////////////////////\n",
      "***************************\n",
      "test : \n"
     ]
    },
    {
     "name": "stderr",
     "output_type": "stream",
     "text": [
      "Epoch 96: 100%|████████████████████████████| 243/243 [00:38<00:00,  6.33batch/s]\n"
     ]
    },
    {
     "name": "stdout",
     "output_type": "stream",
     "text": [
      "score: write test scores to /home/hassan-hossein/single_image_graph_face_anti_spoofing/train/Scores/epoch_96/score.txt\n",
      "epoch:96, test:  val_ACC=0.8821, HTER=0.1179, AUC=0.9429, val_err=0.1179, ACC=0.8821, TPR=0.6826\n"
     ]
    },
    {
     "name": "stderr",
     "output_type": "stream",
     "text": [
      "Epoch 97: 100%|██████████████████████████| 3448/3448 [08:53<00:00,  6.47batch/s]\n"
     ]
    },
    {
     "name": "stdout",
     "output_type": "stream",
     "text": [
      "/////////////////////////\n",
      "adverserial loss :  tensor(8.1966e-07, device='cuda:1', grad_fn=<DivBackward0>)\n",
      "classification loss :  tensor(3.9892e-06, device='cuda:1', grad_fn=<DivBackward0>)\n",
      "classification node loss :  tensor(7.6781e-05, device='cuda:1', grad_fn=<DivBackward0>)\n",
      "total loss :  tensor(8.1590e-05, device='cuda:1', grad_fn=<DivBackward0>)\n",
      "////////////////////////////////////\n",
      "***************************\n",
      "test : \n"
     ]
    },
    {
     "name": "stderr",
     "output_type": "stream",
     "text": [
      "Epoch 97: 100%|████████████████████████████| 243/243 [00:38<00:00,  6.24batch/s]\n"
     ]
    },
    {
     "name": "stdout",
     "output_type": "stream",
     "text": [
      "score: write test scores to /home/hassan-hossein/single_image_graph_face_anti_spoofing/train/Scores/epoch_97/score.txt\n",
      "epoch:97, test:  val_ACC=0.8698, HTER=0.1302, AUC=0.9235, val_err=0.1303, ACC=0.8698, TPR=0.5874\n"
     ]
    },
    {
     "name": "stderr",
     "output_type": "stream",
     "text": [
      "Epoch 98: 100%|██████████████████████████| 3448/3448 [08:53<00:00,  6.46batch/s]\n"
     ]
    },
    {
     "name": "stdout",
     "output_type": "stream",
     "text": [
      "/////////////////////////\n",
      "adverserial loss :  tensor(1.4092e-07, device='cuda:1', grad_fn=<DivBackward0>)\n",
      "classification loss :  tensor(2.1005e-06, device='cuda:1', grad_fn=<DivBackward0>)\n",
      "classification node loss :  tensor(7.3319e-05, device='cuda:1', grad_fn=<DivBackward0>)\n",
      "total loss :  tensor(7.5561e-05, device='cuda:1', grad_fn=<DivBackward0>)\n",
      "////////////////////////////////////\n",
      "***************************\n",
      "test : \n"
     ]
    },
    {
     "name": "stderr",
     "output_type": "stream",
     "text": [
      "Epoch 98: 100%|████████████████████████████| 243/243 [00:38<00:00,  6.28batch/s]\n"
     ]
    },
    {
     "name": "stdout",
     "output_type": "stream",
     "text": [
      "score: write test scores to /home/hassan-hossein/single_image_graph_face_anti_spoofing/train/Scores/epoch_98/score.txt\n",
      "epoch:98, test:  val_ACC=0.9131, HTER=0.0869, AUC=0.9536, val_err=0.0870, ACC=0.9131, TPR=0.7734\n"
     ]
    },
    {
     "name": "stderr",
     "output_type": "stream",
     "text": [
      "Epoch 99: 100%|██████████████████████████| 3448/3448 [08:52<00:00,  6.48batch/s]\n"
     ]
    },
    {
     "name": "stdout",
     "output_type": "stream",
     "text": [
      "/////////////////////////\n",
      "adverserial loss :  tensor(8.8194e-07, device='cuda:1', grad_fn=<DivBackward0>)\n",
      "classification loss :  tensor(4.3711e-06, device='cuda:1', grad_fn=<DivBackward0>)\n",
      "classification node loss :  tensor(7.9070e-05, device='cuda:1', grad_fn=<DivBackward0>)\n",
      "total loss :  tensor(8.4324e-05, device='cuda:1', grad_fn=<DivBackward0>)\n",
      "////////////////////////////////////\n",
      "***************************\n",
      "test : \n"
     ]
    },
    {
     "name": "stderr",
     "output_type": "stream",
     "text": [
      "Epoch 99: 100%|████████████████████████████| 243/243 [00:38<00:00,  6.24batch/s]\n"
     ]
    },
    {
     "name": "stdout",
     "output_type": "stream",
     "text": [
      "score: write test scores to /home/hassan-hossein/single_image_graph_face_anti_spoofing/train/Scores/epoch_99/score.txt\n",
      "epoch:99, test:  val_ACC=0.9800, HTER=0.1059, AUC=0.9227, val_err=0.1319, ACC=0.9800, TPR=0.0000\n"
     ]
    },
    {
     "name": "stderr",
     "output_type": "stream",
     "text": [
      "Epoch 100: 100%|█████████████████████████| 3448/3448 [08:52<00:00,  6.48batch/s]\n"
     ]
    },
    {
     "name": "stdout",
     "output_type": "stream",
     "text": [
      "/////////////////////////\n",
      "adverserial loss :  tensor(8.4079e-07, device='cuda:1', grad_fn=<DivBackward0>)\n",
      "classification loss :  tensor(2.1634e-06, device='cuda:1', grad_fn=<DivBackward0>)\n",
      "classification node loss :  tensor(7.2792e-05, device='cuda:1', grad_fn=<DivBackward0>)\n",
      "total loss :  tensor(7.5797e-05, device='cuda:1', grad_fn=<DivBackward0>)\n",
      "////////////////////////////////////\n",
      "***************************\n",
      "test : \n"
     ]
    },
    {
     "name": "stderr",
     "output_type": "stream",
     "text": [
      "Epoch 100: 100%|███████████████████████████| 243/243 [00:38<00:00,  6.34batch/s]\n"
     ]
    },
    {
     "name": "stdout",
     "output_type": "stream",
     "text": [
      "score: write test scores to /home/hassan-hossein/single_image_graph_face_anti_spoofing/train/Scores/epoch_100/score.txt\n",
      "epoch:100, test:  val_ACC=0.8995, HTER=0.1006, AUC=0.9515, val_err=0.1006, ACC=0.8995, TPR=0.7636\n"
     ]
    },
    {
     "name": "stderr",
     "output_type": "stream",
     "text": [
      "Epoch 101: 100%|█████████████████████████| 3448/3448 [08:53<00:00,  6.46batch/s]\n"
     ]
    },
    {
     "name": "stdout",
     "output_type": "stream",
     "text": [
      "/////////////////////////\n",
      "adverserial loss :  tensor(6.2880e-07, device='cuda:1', grad_fn=<DivBackward0>)\n",
      "classification loss :  tensor(4.8103e-06, device='cuda:1', grad_fn=<DivBackward0>)\n",
      "classification node loss :  tensor(7.4204e-05, device='cuda:1', grad_fn=<DivBackward0>)\n",
      "total loss :  tensor(7.9644e-05, device='cuda:1', grad_fn=<DivBackward0>)\n",
      "////////////////////////////////////\n",
      "***************************\n",
      "test : \n"
     ]
    },
    {
     "name": "stderr",
     "output_type": "stream",
     "text": [
      "Epoch 101: 100%|███████████████████████████| 243/243 [00:38<00:00,  6.30batch/s]\n"
     ]
    },
    {
     "name": "stdout",
     "output_type": "stream",
     "text": [
      "score: write test scores to /home/hassan-hossein/single_image_graph_face_anti_spoofing/train/Scores/epoch_101/score.txt\n",
      "epoch:101, test:  val_ACC=0.8790, HTER=0.1211, AUC=0.9450, val_err=0.1211, ACC=0.8790, TPR=0.6011\n"
     ]
    },
    {
     "name": "stderr",
     "output_type": "stream",
     "text": [
      "Epoch 102: 100%|█████████████████████████| 3448/3448 [08:52<00:00,  6.48batch/s]\n"
     ]
    },
    {
     "name": "stdout",
     "output_type": "stream",
     "text": [
      "/////////////////////////\n",
      "adverserial loss :  tensor(6.2431e-07, device='cuda:1', grad_fn=<DivBackward0>)\n",
      "classification loss :  tensor(1.6418e-06, device='cuda:1', grad_fn=<DivBackward0>)\n",
      "classification node loss :  tensor(7.3343e-05, device='cuda:1', grad_fn=<DivBackward0>)\n",
      "total loss :  tensor(7.5610e-05, device='cuda:1', grad_fn=<DivBackward0>)\n",
      "////////////////////////////////////\n",
      "***************************\n",
      "test : \n"
     ]
    },
    {
     "name": "stderr",
     "output_type": "stream",
     "text": [
      "Epoch 102: 100%|███████████████████████████| 243/243 [00:38<00:00,  6.24batch/s]\n"
     ]
    },
    {
     "name": "stdout",
     "output_type": "stream",
     "text": [
      "score: write test scores to /home/hassan-hossein/single_image_graph_face_anti_spoofing/train/Scores/epoch_102/score.txt\n",
      "epoch:102, test:  val_ACC=0.8721, HTER=0.1305, AUC=0.9116, val_err=0.1302, ACC=0.8721, TPR=0.0000\n"
     ]
    },
    {
     "name": "stderr",
     "output_type": "stream",
     "text": [
      "Epoch 103: 100%|█████████████████████████| 3448/3448 [08:52<00:00,  6.47batch/s]\n"
     ]
    },
    {
     "name": "stdout",
     "output_type": "stream",
     "text": [
      "/////////////////////////\n",
      "adverserial loss :  tensor(8.0080e-08, device='cuda:1', grad_fn=<DivBackward0>)\n",
      "classification loss :  tensor(3.5368e-06, device='cuda:1', grad_fn=<DivBackward0>)\n",
      "classification node loss :  tensor(7.5809e-05, device='cuda:1', grad_fn=<DivBackward0>)\n",
      "total loss :  tensor(7.9426e-05, device='cuda:1', grad_fn=<DivBackward0>)\n",
      "////////////////////////////////////\n",
      "***************************\n",
      "test : \n"
     ]
    },
    {
     "name": "stderr",
     "output_type": "stream",
     "text": [
      "Epoch 103: 100%|███████████████████████████| 243/243 [00:38<00:00,  6.26batch/s]\n"
     ]
    },
    {
     "name": "stdout",
     "output_type": "stream",
     "text": [
      "score: write test scores to /home/hassan-hossein/single_image_graph_face_anti_spoofing/train/Scores/epoch_103/score.txt\n",
      "epoch:103, test:  val_ACC=0.8858, HTER=0.1142, AUC=0.9399, val_err=0.1142, ACC=0.8858, TPR=0.7356\n"
     ]
    },
    {
     "name": "stderr",
     "output_type": "stream",
     "text": [
      "Epoch 104: 100%|█████████████████████████| 3448/3448 [08:53<00:00,  6.47batch/s]\n"
     ]
    },
    {
     "name": "stdout",
     "output_type": "stream",
     "text": [
      "/////////////////////////\n",
      "adverserial loss :  tensor(1.6367e-06, device='cuda:1', grad_fn=<DivBackward0>)\n",
      "classification loss :  tensor(4.6894e-06, device='cuda:1', grad_fn=<DivBackward0>)\n",
      "classification node loss :  tensor(7.1401e-05, device='cuda:1', grad_fn=<DivBackward0>)\n",
      "total loss :  tensor(7.7728e-05, device='cuda:1', grad_fn=<DivBackward0>)\n",
      "////////////////////////////////////\n",
      "***************************\n",
      "test : \n"
     ]
    },
    {
     "name": "stderr",
     "output_type": "stream",
     "text": [
      "Epoch 104: 100%|███████████████████████████| 243/243 [00:39<00:00,  6.17batch/s]\n"
     ]
    },
    {
     "name": "stdout",
     "output_type": "stream",
     "text": [
      "score: write test scores to /home/hassan-hossein/single_image_graph_face_anti_spoofing/train/Scores/epoch_104/score.txt\n",
      "epoch:104, test:  val_ACC=0.8702, HTER=0.1299, AUC=0.9397, val_err=0.1299, ACC=0.8702, TPR=0.7436\n"
     ]
    },
    {
     "name": "stderr",
     "output_type": "stream",
     "text": [
      "Epoch 105: 100%|█████████████████████████| 3448/3448 [08:56<00:00,  6.43batch/s]\n"
     ]
    },
    {
     "name": "stdout",
     "output_type": "stream",
     "text": [
      "/////////////////////////\n",
      "adverserial loss :  tensor(2.4841e-08, device='cuda:1', grad_fn=<DivBackward0>)\n",
      "classification loss :  tensor(2.4451e-06, device='cuda:1', grad_fn=<DivBackward0>)\n",
      "classification node loss :  tensor(6.8058e-05, device='cuda:1', grad_fn=<DivBackward0>)\n",
      "total loss :  tensor(7.0528e-05, device='cuda:1', grad_fn=<DivBackward0>)\n",
      "////////////////////////////////////\n",
      "***************************\n",
      "test : \n"
     ]
    },
    {
     "name": "stderr",
     "output_type": "stream",
     "text": [
      "Epoch 105: 100%|███████████████████████████| 243/243 [00:39<00:00,  6.11batch/s]\n"
     ]
    },
    {
     "name": "stdout",
     "output_type": "stream",
     "text": [
      "score: write test scores to /home/hassan-hossein/single_image_graph_face_anti_spoofing/train/Scores/epoch_105/score.txt\n",
      "epoch:105, test:  val_ACC=0.8599, HTER=0.1402, AUC=0.9306, val_err=0.1402, ACC=0.8599, TPR=0.5918\n"
     ]
    },
    {
     "name": "stderr",
     "output_type": "stream",
     "text": [
      "Epoch 106: 100%|█████████████████████████| 3448/3448 [08:55<00:00,  6.44batch/s]\n"
     ]
    },
    {
     "name": "stdout",
     "output_type": "stream",
     "text": [
      "/////////////////////////\n",
      "adverserial loss :  tensor(2.2836e-06, device='cuda:1', grad_fn=<DivBackward0>)\n",
      "classification loss :  tensor(3.5749e-06, device='cuda:1', grad_fn=<DivBackward0>)\n",
      "classification node loss :  tensor(7.2227e-05, device='cuda:1', grad_fn=<DivBackward0>)\n",
      "total loss :  tensor(7.8085e-05, device='cuda:1', grad_fn=<DivBackward0>)\n",
      "////////////////////////////////////\n",
      "***************************\n",
      "test : \n"
     ]
    },
    {
     "name": "stderr",
     "output_type": "stream",
     "text": [
      "Epoch 106: 100%|███████████████████████████| 243/243 [00:40<00:00,  6.03batch/s]\n"
     ]
    },
    {
     "name": "stdout",
     "output_type": "stream",
     "text": [
      "score: write test scores to /home/hassan-hossein/single_image_graph_face_anti_spoofing/train/Scores/epoch_106/score.txt\n",
      "epoch:106, test:  val_ACC=0.8809, HTER=0.1191, AUC=0.9506, val_err=0.1191, ACC=0.8809, TPR=0.7009\n"
     ]
    },
    {
     "name": "stderr",
     "output_type": "stream",
     "text": [
      "Epoch 107: 100%|█████████████████████████| 3448/3448 [08:53<00:00,  6.46batch/s]\n"
     ]
    },
    {
     "name": "stdout",
     "output_type": "stream",
     "text": [
      "/////////////////////////\n",
      "adverserial loss :  tensor(2.8096e-07, device='cuda:1', grad_fn=<DivBackward0>)\n",
      "classification loss :  tensor(2.5477e-06, device='cuda:1', grad_fn=<DivBackward0>)\n",
      "classification node loss :  tensor(6.8541e-05, device='cuda:1', grad_fn=<DivBackward0>)\n",
      "total loss :  tensor(7.1370e-05, device='cuda:1', grad_fn=<DivBackward0>)\n",
      "////////////////////////////////////\n",
      "***************************\n",
      "test : \n"
     ]
    },
    {
     "name": "stderr",
     "output_type": "stream",
     "text": [
      "Epoch 107: 100%|███████████████████████████| 243/243 [00:38<00:00,  6.24batch/s]\n"
     ]
    },
    {
     "name": "stdout",
     "output_type": "stream",
     "text": [
      "score: write test scores to /home/hassan-hossein/single_image_graph_face_anti_spoofing/train/Scores/epoch_107/score.txt\n",
      "epoch:107, test:  val_ACC=0.8781, HTER=0.1219, AUC=0.9378, val_err=0.1219, ACC=0.8781, TPR=0.7060\n"
     ]
    },
    {
     "name": "stderr",
     "output_type": "stream",
     "text": [
      "Epoch 108: 100%|█████████████████████████| 3448/3448 [08:53<00:00,  6.46batch/s]\n"
     ]
    },
    {
     "name": "stdout",
     "output_type": "stream",
     "text": [
      "/////////////////////////\n",
      "adverserial loss :  tensor(3.3953e-07, device='cuda:1', grad_fn=<DivBackward0>)\n",
      "classification loss :  tensor(2.6128e-06, device='cuda:1', grad_fn=<DivBackward0>)\n",
      "classification node loss :  tensor(7.4351e-05, device='cuda:1', grad_fn=<DivBackward0>)\n",
      "total loss :  tensor(7.7304e-05, device='cuda:1', grad_fn=<DivBackward0>)\n",
      "////////////////////////////////////\n",
      "***************************\n",
      "test : \n"
     ]
    },
    {
     "name": "stderr",
     "output_type": "stream",
     "text": [
      "Epoch 108: 100%|███████████████████████████| 243/243 [00:38<00:00,  6.29batch/s]\n"
     ]
    },
    {
     "name": "stdout",
     "output_type": "stream",
     "text": [
      "score: write test scores to /home/hassan-hossein/single_image_graph_face_anti_spoofing/train/Scores/epoch_108/score.txt\n",
      "epoch:108, test:  val_ACC=0.8780, HTER=0.1220, AUC=0.9466, val_err=0.1220, ACC=0.8780, TPR=0.7243\n"
     ]
    },
    {
     "name": "stderr",
     "output_type": "stream",
     "text": [
      "Epoch 109: 100%|█████████████████████████| 3448/3448 [08:52<00:00,  6.48batch/s]\n"
     ]
    },
    {
     "name": "stdout",
     "output_type": "stream",
     "text": [
      "/////////////////////////\n",
      "adverserial loss :  tensor(4.4150e-07, device='cuda:1', grad_fn=<DivBackward0>)\n",
      "classification loss :  tensor(3.0804e-06, device='cuda:1', grad_fn=<DivBackward0>)\n",
      "classification node loss :  tensor(7.2269e-05, device='cuda:1', grad_fn=<DivBackward0>)\n",
      "total loss :  tensor(7.5791e-05, device='cuda:1', grad_fn=<DivBackward0>)\n",
      "////////////////////////////////////\n",
      "***************************\n",
      "test : \n"
     ]
    },
    {
     "name": "stderr",
     "output_type": "stream",
     "text": [
      "Epoch 109: 100%|███████████████████████████| 243/243 [00:39<00:00,  6.23batch/s]\n"
     ]
    },
    {
     "name": "stdout",
     "output_type": "stream",
     "text": [
      "score: write test scores to /home/hassan-hossein/single_image_graph_face_anti_spoofing/train/Scores/epoch_109/score.txt\n",
      "epoch:109, test:  val_ACC=0.8945, HTER=0.1055, AUC=0.9408, val_err=0.1055, ACC=0.8945, TPR=0.6682\n"
     ]
    },
    {
     "name": "stderr",
     "output_type": "stream",
     "text": [
      "Epoch 110: 100%|█████████████████████████| 3448/3448 [08:54<00:00,  6.45batch/s]\n"
     ]
    },
    {
     "name": "stdout",
     "output_type": "stream",
     "text": [
      "/////////////////////////\n",
      "adverserial loss :  tensor(1.1412e-06, device='cuda:1', grad_fn=<DivBackward0>)\n",
      "classification loss :  tensor(1.2810e-07, device='cuda:1', grad_fn=<DivBackward0>)\n",
      "classification node loss :  tensor(6.8619e-05, device='cuda:1', grad_fn=<DivBackward0>)\n",
      "total loss :  tensor(6.9888e-05, device='cuda:1', grad_fn=<DivBackward0>)\n",
      "////////////////////////////////////\n",
      "***************************\n",
      "test : \n"
     ]
    },
    {
     "name": "stderr",
     "output_type": "stream",
     "text": [
      "Epoch 110: 100%|███████████████████████████| 243/243 [00:38<00:00,  6.31batch/s]\n"
     ]
    },
    {
     "name": "stdout",
     "output_type": "stream",
     "text": [
      "score: write test scores to /home/hassan-hossein/single_image_graph_face_anti_spoofing/train/Scores/epoch_110/score.txt\n",
      "epoch:110, test:  val_ACC=0.8677, HTER=0.1323, AUC=0.9322, val_err=0.1323, ACC=0.8677, TPR=0.8117\n"
     ]
    },
    {
     "name": "stderr",
     "output_type": "stream",
     "text": [
      "Epoch 111: 100%|█████████████████████████| 3448/3448 [08:54<00:00,  6.45batch/s]\n"
     ]
    },
    {
     "name": "stdout",
     "output_type": "stream",
     "text": [
      "/////////////////////////\n",
      "adverserial loss :  tensor(1.0371e-06, device='cuda:1', grad_fn=<DivBackward0>)\n",
      "classification loss :  tensor(6.1190e-06, device='cuda:1', grad_fn=<DivBackward0>)\n",
      "classification node loss :  tensor(6.6301e-05, device='cuda:1', grad_fn=<DivBackward0>)\n",
      "total loss :  tensor(7.3457e-05, device='cuda:1', grad_fn=<DivBackward0>)\n",
      "////////////////////////////////////\n",
      "***************************\n",
      "test : \n"
     ]
    },
    {
     "name": "stderr",
     "output_type": "stream",
     "text": [
      "Epoch 111: 100%|███████████████████████████| 243/243 [00:38<00:00,  6.28batch/s]\n"
     ]
    },
    {
     "name": "stdout",
     "output_type": "stream",
     "text": [
      "score: write test scores to /home/hassan-hossein/single_image_graph_face_anti_spoofing/train/Scores/epoch_111/score.txt\n",
      "epoch:111, test:  val_ACC=0.8767, HTER=0.1233, AUC=0.9437, val_err=0.1233, ACC=0.8767, TPR=0.6767\n"
     ]
    },
    {
     "name": "stderr",
     "output_type": "stream",
     "text": [
      "Epoch 112: 100%|█████████████████████████| 3448/3448 [08:52<00:00,  6.48batch/s]\n"
     ]
    },
    {
     "name": "stdout",
     "output_type": "stream",
     "text": [
      "/////////////////////////\n",
      "adverserial loss :  tensor(2.7983e-07, device='cuda:1', grad_fn=<DivBackward0>)\n",
      "classification loss :  tensor(3.6469e-06, device='cuda:1', grad_fn=<DivBackward0>)\n",
      "classification node loss :  tensor(5.7246e-05, device='cuda:1', grad_fn=<DivBackward0>)\n",
      "total loss :  tensor(6.1172e-05, device='cuda:1', grad_fn=<DivBackward0>)\n",
      "////////////////////////////////////\n",
      "***************************\n",
      "test : \n"
     ]
    },
    {
     "name": "stderr",
     "output_type": "stream",
     "text": [
      "Epoch 112: 100%|███████████████████████████| 243/243 [00:38<00:00,  6.33batch/s]\n"
     ]
    },
    {
     "name": "stdout",
     "output_type": "stream",
     "text": [
      "score: write test scores to /home/hassan-hossein/single_image_graph_face_anti_spoofing/train/Scores/epoch_112/score.txt\n",
      "epoch:112, test:  val_ACC=0.8563, HTER=0.1438, AUC=0.9277, val_err=0.1438, ACC=0.8563, TPR=0.7112\n"
     ]
    },
    {
     "name": "stderr",
     "output_type": "stream",
     "text": [
      "Epoch 113: 100%|█████████████████████████| 3448/3448 [08:52<00:00,  6.47batch/s]\n"
     ]
    },
    {
     "name": "stdout",
     "output_type": "stream",
     "text": [
      "/////////////////////////\n",
      "adverserial loss :  tensor(1.0718e-06, device='cuda:1', grad_fn=<DivBackward0>)\n",
      "classification loss :  tensor(1.7370e-06, device='cuda:1', grad_fn=<DivBackward0>)\n",
      "classification node loss :  tensor(7.2343e-05, device='cuda:1', grad_fn=<DivBackward0>)\n",
      "total loss :  tensor(7.5152e-05, device='cuda:1', grad_fn=<DivBackward0>)\n",
      "////////////////////////////////////\n",
      "***************************\n",
      "test : \n"
     ]
    },
    {
     "name": "stderr",
     "output_type": "stream",
     "text": [
      "Epoch 113: 100%|███████████████████████████| 243/243 [00:39<00:00,  6.20batch/s]\n"
     ]
    },
    {
     "name": "stdout",
     "output_type": "stream",
     "text": [
      "score: write test scores to /home/hassan-hossein/single_image_graph_face_anti_spoofing/train/Scores/epoch_113/score.txt\n",
      "epoch:113, test:  val_ACC=0.9000, HTER=0.1001, AUC=0.9445, val_err=0.1001, ACC=0.9000, TPR=0.7117\n"
     ]
    },
    {
     "name": "stderr",
     "output_type": "stream",
     "text": [
      "Epoch 114: 100%|█████████████████████████| 3448/3448 [08:52<00:00,  6.48batch/s]\n"
     ]
    },
    {
     "name": "stdout",
     "output_type": "stream",
     "text": [
      "/////////////////////////\n",
      "adverserial loss :  tensor(1.4200e-07, device='cuda:1', grad_fn=<DivBackward0>)\n",
      "classification loss :  tensor(3.7701e-06, device='cuda:1', grad_fn=<DivBackward0>)\n",
      "classification node loss :  tensor(5.8423e-05, device='cuda:1', grad_fn=<DivBackward0>)\n",
      "total loss :  tensor(6.2335e-05, device='cuda:1', grad_fn=<DivBackward0>)\n",
      "////////////////////////////////////\n",
      "***************************\n",
      "test : \n"
     ]
    },
    {
     "name": "stderr",
     "output_type": "stream",
     "text": [
      "Epoch 114: 100%|███████████████████████████| 243/243 [00:39<00:00,  6.22batch/s]\n"
     ]
    },
    {
     "name": "stdout",
     "output_type": "stream",
     "text": [
      "score: write test scores to /home/hassan-hossein/single_image_graph_face_anti_spoofing/train/Scores/epoch_114/score.txt\n",
      "epoch:114, test:  val_ACC=0.8862, HTER=0.1137, AUC=0.9334, val_err=0.1138, ACC=0.8862, TPR=0.5430\n"
     ]
    },
    {
     "name": "stderr",
     "output_type": "stream",
     "text": [
      "Epoch 115: 100%|█████████████████████████| 3448/3448 [08:53<00:00,  6.47batch/s]\n"
     ]
    },
    {
     "name": "stdout",
     "output_type": "stream",
     "text": [
      "/////////////////////////\n",
      "adverserial loss :  tensor(1.1280e-06, device='cuda:1', grad_fn=<DivBackward0>)\n",
      "classification loss :  tensor(2.2061e-06, device='cuda:1', grad_fn=<DivBackward0>)\n",
      "classification node loss :  tensor(7.2879e-05, device='cuda:1', grad_fn=<DivBackward0>)\n",
      "total loss :  tensor(7.6213e-05, device='cuda:1', grad_fn=<DivBackward0>)\n",
      "////////////////////////////////////\n",
      "***************************\n",
      "test : \n"
     ]
    },
    {
     "name": "stderr",
     "output_type": "stream",
     "text": [
      "Epoch 115: 100%|███████████████████████████| 243/243 [00:39<00:00,  6.21batch/s]\n"
     ]
    },
    {
     "name": "stdout",
     "output_type": "stream",
     "text": [
      "score: write test scores to /home/hassan-hossein/single_image_graph_face_anti_spoofing/train/Scores/epoch_115/score.txt\n",
      "epoch:115, test:  val_ACC=0.8758, HTER=0.1242, AUC=0.9470, val_err=0.1243, ACC=0.8758, TPR=0.7173\n"
     ]
    },
    {
     "name": "stderr",
     "output_type": "stream",
     "text": [
      "Epoch 116: 100%|█████████████████████████| 3448/3448 [08:52<00:00,  6.48batch/s]\n"
     ]
    },
    {
     "name": "stdout",
     "output_type": "stream",
     "text": [
      "/////////////////////////\n",
      "adverserial loss :  tensor(7.7281e-07, device='cuda:1', grad_fn=<DivBackward0>)\n",
      "classification loss :  tensor(4.3686e-06, device='cuda:1', grad_fn=<DivBackward0>)\n",
      "classification node loss :  tensor(6.9048e-05, device='cuda:1', grad_fn=<DivBackward0>)\n",
      "total loss :  tensor(7.4190e-05, device='cuda:1', grad_fn=<DivBackward0>)\n",
      "////////////////////////////////////\n",
      "***************************\n",
      "test : \n"
     ]
    },
    {
     "name": "stderr",
     "output_type": "stream",
     "text": [
      "Epoch 116: 100%|███████████████████████████| 243/243 [00:39<00:00,  6.21batch/s]\n"
     ]
    },
    {
     "name": "stdout",
     "output_type": "stream",
     "text": [
      "score: write test scores to /home/hassan-hossein/single_image_graph_face_anti_spoofing/train/Scores/epoch_116/score.txt\n",
      "epoch:116, test:  val_ACC=0.9167, HTER=0.0833, AUC=0.9716, val_err=0.0834, ACC=0.9167, TPR=0.8364\n",
      "improve acc .. .. ..\n"
     ]
    },
    {
     "name": "stderr",
     "output_type": "stream",
     "text": [
      "Epoch 117: 100%|█████████████████████████| 3448/3448 [08:54<00:00,  6.45batch/s]\n"
     ]
    },
    {
     "name": "stdout",
     "output_type": "stream",
     "text": [
      "/////////////////////////\n",
      "adverserial loss :  tensor(4.1510e-07, device='cuda:1', grad_fn=<DivBackward0>)\n",
      "classification loss :  tensor(3.2141e-06, device='cuda:1', grad_fn=<DivBackward0>)\n",
      "classification node loss :  tensor(5.9316e-05, device='cuda:1', grad_fn=<DivBackward0>)\n",
      "total loss :  tensor(6.2945e-05, device='cuda:1', grad_fn=<DivBackward0>)\n",
      "////////////////////////////////////\n",
      "***************************\n",
      "test : \n"
     ]
    },
    {
     "name": "stderr",
     "output_type": "stream",
     "text": [
      "Epoch 117: 100%|███████████████████████████| 243/243 [00:39<00:00,  6.22batch/s]\n"
     ]
    },
    {
     "name": "stdout",
     "output_type": "stream",
     "text": [
      "score: write test scores to /home/hassan-hossein/single_image_graph_face_anti_spoofing/train/Scores/epoch_117/score.txt\n",
      "epoch:117, test:  val_ACC=0.8952, HTER=0.1047, AUC=0.9535, val_err=0.1048, ACC=0.8952, TPR=0.7845\n"
     ]
    },
    {
     "name": "stderr",
     "output_type": "stream",
     "text": [
      "Epoch 118: 100%|█████████████████████████| 3448/3448 [08:53<00:00,  6.46batch/s]\n"
     ]
    },
    {
     "name": "stdout",
     "output_type": "stream",
     "text": [
      "/////////////////////////\n",
      "adverserial loss :  tensor(5.8896e-07, device='cuda:1', grad_fn=<DivBackward0>)\n",
      "classification loss :  tensor(6.2909e-07, device='cuda:1', grad_fn=<DivBackward0>)\n",
      "classification node loss :  tensor(6.1228e-05, device='cuda:1', grad_fn=<DivBackward0>)\n",
      "total loss :  tensor(6.2446e-05, device='cuda:1', grad_fn=<DivBackward0>)\n",
      "////////////////////////////////////\n",
      "***************************\n",
      "test : \n"
     ]
    },
    {
     "name": "stderr",
     "output_type": "stream",
     "text": [
      "Epoch 118: 100%|███████████████████████████| 243/243 [00:38<00:00,  6.29batch/s]\n"
     ]
    },
    {
     "name": "stdout",
     "output_type": "stream",
     "text": [
      "score: write test scores to /home/hassan-hossein/single_image_graph_face_anti_spoofing/train/Scores/epoch_118/score.txt\n",
      "epoch:118, test:  val_ACC=0.8963, HTER=0.1037, AUC=0.9522, val_err=0.1038, ACC=0.8963, TPR=0.8014\n"
     ]
    },
    {
     "name": "stderr",
     "output_type": "stream",
     "text": [
      "Epoch 119: 100%|█████████████████████████| 3448/3448 [08:51<00:00,  6.48batch/s]\n"
     ]
    },
    {
     "name": "stdout",
     "output_type": "stream",
     "text": [
      "/////////////////////////\n",
      "adverserial loss :  tensor(1.9508e-07, device='cuda:1', grad_fn=<DivBackward0>)\n",
      "classification loss :  tensor(3.0144e-06, device='cuda:1', grad_fn=<DivBackward0>)\n",
      "classification node loss :  tensor(6.0463e-05, device='cuda:1', grad_fn=<DivBackward0>)\n",
      "total loss :  tensor(6.3672e-05, device='cuda:1', grad_fn=<DivBackward0>)\n",
      "////////////////////////////////////\n",
      "***************************\n",
      "test : \n"
     ]
    },
    {
     "name": "stderr",
     "output_type": "stream",
     "text": [
      "Epoch 119: 100%|███████████████████████████| 243/243 [00:39<00:00,  6.23batch/s]\n"
     ]
    },
    {
     "name": "stdout",
     "output_type": "stream",
     "text": [
      "score: write test scores to /home/hassan-hossein/single_image_graph_face_anti_spoofing/train/Scores/epoch_119/score.txt\n",
      "epoch:119, test:  val_ACC=0.8646, HTER=0.1353, AUC=0.9372, val_err=0.1354, ACC=0.8646, TPR=0.6587\n"
     ]
    },
    {
     "name": "stderr",
     "output_type": "stream",
     "text": [
      "Epoch 120: 100%|█████████████████████████| 3448/3448 [08:53<00:00,  6.46batch/s]\n"
     ]
    },
    {
     "name": "stdout",
     "output_type": "stream",
     "text": [
      "/////////////////////////\n",
      "adverserial loss :  tensor(1.0472e-06, device='cuda:1', grad_fn=<DivBackward0>)\n",
      "classification loss :  tensor(2.3010e-06, device='cuda:1', grad_fn=<DivBackward0>)\n",
      "classification node loss :  tensor(6.5495e-05, device='cuda:1', grad_fn=<DivBackward0>)\n",
      "total loss :  tensor(6.8844e-05, device='cuda:1', grad_fn=<DivBackward0>)\n",
      "////////////////////////////////////\n",
      "***************************\n",
      "test : \n"
     ]
    },
    {
     "name": "stderr",
     "output_type": "stream",
     "text": [
      "Epoch 120: 100%|███████████████████████████| 243/243 [00:39<00:00,  6.15batch/s]\n"
     ]
    },
    {
     "name": "stdout",
     "output_type": "stream",
     "text": [
      "score: write test scores to /home/hassan-hossein/single_image_graph_face_anti_spoofing/train/Scores/epoch_120/score.txt\n",
      "epoch:120, test:  val_ACC=0.8915, HTER=0.1086, AUC=0.9411, val_err=0.1086, ACC=0.8915, TPR=0.6983\n"
     ]
    },
    {
     "name": "stderr",
     "output_type": "stream",
     "text": [
      "Epoch 121: 100%|█████████████████████████| 3448/3448 [08:53<00:00,  6.46batch/s]\n"
     ]
    },
    {
     "name": "stdout",
     "output_type": "stream",
     "text": [
      "/////////////////////////\n",
      "adverserial loss :  tensor(1.5154e-07, device='cuda:1', grad_fn=<DivBackward0>)\n",
      "classification loss :  tensor(2.5776e-06, device='cuda:1', grad_fn=<DivBackward0>)\n",
      "classification node loss :  tensor(6.0852e-05, device='cuda:1', grad_fn=<DivBackward0>)\n",
      "total loss :  tensor(6.3581e-05, device='cuda:1', grad_fn=<DivBackward0>)\n",
      "////////////////////////////////////\n",
      "***************************\n",
      "test : \n"
     ]
    },
    {
     "name": "stderr",
     "output_type": "stream",
     "text": [
      "Epoch 121: 100%|███████████████████████████| 243/243 [00:38<00:00,  6.30batch/s]\n"
     ]
    },
    {
     "name": "stdout",
     "output_type": "stream",
     "text": [
      "score: write test scores to /home/hassan-hossein/single_image_graph_face_anti_spoofing/train/Scores/epoch_121/score.txt\n",
      "epoch:121, test:  val_ACC=0.8736, HTER=0.1265, AUC=0.9438, val_err=0.1265, ACC=0.8736, TPR=0.6152\n"
     ]
    },
    {
     "name": "stderr",
     "output_type": "stream",
     "text": [
      "Epoch 122: 100%|█████████████████████████| 3448/3448 [08:51<00:00,  6.49batch/s]\n"
     ]
    },
    {
     "name": "stdout",
     "output_type": "stream",
     "text": [
      "/////////////////////////\n",
      "adverserial loss :  tensor(8.7627e-07, device='cuda:1', grad_fn=<DivBackward0>)\n",
      "classification loss :  tensor(8.6755e-06, device='cuda:1', grad_fn=<DivBackward0>)\n",
      "classification node loss :  tensor(6.6680e-05, device='cuda:1', grad_fn=<DivBackward0>)\n",
      "total loss :  tensor(7.6232e-05, device='cuda:1', grad_fn=<DivBackward0>)\n",
      "////////////////////////////////////\n",
      "***************************\n",
      "test : \n"
     ]
    },
    {
     "name": "stderr",
     "output_type": "stream",
     "text": [
      "Epoch 122: 100%|███████████████████████████| 243/243 [00:38<00:00,  6.31batch/s]\n"
     ]
    },
    {
     "name": "stdout",
     "output_type": "stream",
     "text": [
      "score: write test scores to /home/hassan-hossein/single_image_graph_face_anti_spoofing/train/Scores/epoch_122/score.txt\n",
      "epoch:122, test:  val_ACC=0.8915, HTER=0.1086, AUC=0.9574, val_err=0.1086, ACC=0.8915, TPR=0.7770\n"
     ]
    },
    {
     "name": "stderr",
     "output_type": "stream",
     "text": [
      "Epoch 123: 100%|█████████████████████████| 3448/3448 [08:51<00:00,  6.49batch/s]\n"
     ]
    },
    {
     "name": "stdout",
     "output_type": "stream",
     "text": [
      "/////////////////////////\n",
      "adverserial loss :  tensor(1.2964e-06, device='cuda:1', grad_fn=<DivBackward0>)\n",
      "classification loss :  tensor(5.0523e-06, device='cuda:1', grad_fn=<DivBackward0>)\n",
      "classification node loss :  tensor(6.7519e-05, device='cuda:1', grad_fn=<DivBackward0>)\n",
      "total loss :  tensor(7.3868e-05, device='cuda:1', grad_fn=<DivBackward0>)\n",
      "////////////////////////////////////\n",
      "***************************\n",
      "test : \n"
     ]
    },
    {
     "name": "stderr",
     "output_type": "stream",
     "text": [
      "Epoch 123: 100%|███████████████████████████| 243/243 [00:38<00:00,  6.28batch/s]\n"
     ]
    },
    {
     "name": "stdout",
     "output_type": "stream",
     "text": [
      "score: write test scores to /home/hassan-hossein/single_image_graph_face_anti_spoofing/train/Scores/epoch_123/score.txt\n",
      "epoch:123, test:  val_ACC=0.8918, HTER=0.1083, AUC=0.9529, val_err=0.1083, ACC=0.8918, TPR=0.7014\n"
     ]
    },
    {
     "name": "stderr",
     "output_type": "stream",
     "text": [
      "Epoch 124: 100%|█████████████████████████| 3448/3448 [08:54<00:00,  6.46batch/s]\n"
     ]
    },
    {
     "name": "stdout",
     "output_type": "stream",
     "text": [
      "/////////////////////////\n",
      "adverserial loss :  tensor(2.7195e-07, device='cuda:1', grad_fn=<DivBackward0>)\n",
      "classification loss :  tensor(1.5260e-06, device='cuda:1', grad_fn=<DivBackward0>)\n",
      "classification node loss :  tensor(5.9836e-05, device='cuda:1', grad_fn=<DivBackward0>)\n",
      "total loss :  tensor(6.1634e-05, device='cuda:1', grad_fn=<DivBackward0>)\n",
      "////////////////////////////////////\n",
      "***************************\n",
      "test : \n"
     ]
    },
    {
     "name": "stderr",
     "output_type": "stream",
     "text": [
      "Epoch 124: 100%|███████████████████████████| 243/243 [00:38<00:00,  6.28batch/s]\n"
     ]
    },
    {
     "name": "stdout",
     "output_type": "stream",
     "text": [
      "score: write test scores to /home/hassan-hossein/single_image_graph_face_anti_spoofing/train/Scores/epoch_124/score.txt\n",
      "epoch:124, test:  val_ACC=0.8914, HTER=0.1086, AUC=0.9484, val_err=0.1087, ACC=0.8914, TPR=0.7371\n"
     ]
    },
    {
     "name": "stderr",
     "output_type": "stream",
     "text": [
      "Epoch 125: 100%|█████████████████████████| 3448/3448 [08:53<00:00,  6.47batch/s]\n"
     ]
    },
    {
     "name": "stdout",
     "output_type": "stream",
     "text": [
      "/////////////////////////\n",
      "adverserial loss :  tensor(2.8294e-09, device='cuda:1', grad_fn=<DivBackward0>)\n",
      "classification loss :  tensor(2.6145e-06, device='cuda:1', grad_fn=<DivBackward0>)\n",
      "classification node loss :  tensor(5.6022e-05, device='cuda:1', grad_fn=<DivBackward0>)\n",
      "total loss :  tensor(5.8639e-05, device='cuda:1', grad_fn=<DivBackward0>)\n",
      "////////////////////////////////////\n",
      "***************************\n",
      "test : \n"
     ]
    },
    {
     "name": "stderr",
     "output_type": "stream",
     "text": [
      "Epoch 125: 100%|███████████████████████████| 243/243 [00:39<00:00,  6.18batch/s]\n"
     ]
    },
    {
     "name": "stdout",
     "output_type": "stream",
     "text": [
      "score: write test scores to /home/hassan-hossein/single_image_graph_face_anti_spoofing/train/Scores/epoch_125/score.txt\n",
      "epoch:125, test:  val_ACC=0.8838, HTER=0.1163, AUC=0.9517, val_err=0.1163, ACC=0.8838, TPR=0.7060\n"
     ]
    },
    {
     "name": "stderr",
     "output_type": "stream",
     "text": [
      "Epoch 126: 100%|█████████████████████████| 3448/3448 [08:53<00:00,  6.47batch/s]\n"
     ]
    },
    {
     "name": "stdout",
     "output_type": "stream",
     "text": [
      "/////////////////////////\n",
      "adverserial loss :  tensor(8.2415e-07, device='cuda:1', grad_fn=<DivBackward0>)\n",
      "classification loss :  tensor(3.8322e-06, device='cuda:1', grad_fn=<DivBackward0>)\n",
      "classification node loss :  tensor(5.9119e-05, device='cuda:1', grad_fn=<DivBackward0>)\n",
      "total loss :  tensor(6.3776e-05, device='cuda:1', grad_fn=<DivBackward0>)\n",
      "////////////////////////////////////\n",
      "***************************\n",
      "test : \n"
     ]
    },
    {
     "name": "stderr",
     "output_type": "stream",
     "text": [
      "Epoch 126: 100%|███████████████████████████| 243/243 [00:39<00:00,  6.11batch/s]\n"
     ]
    },
    {
     "name": "stdout",
     "output_type": "stream",
     "text": [
      "score: write test scores to /home/hassan-hossein/single_image_graph_face_anti_spoofing/train/Scores/epoch_126/score.txt\n",
      "epoch:126, test:  val_ACC=0.8947, HTER=0.1053, AUC=0.9576, val_err=0.1053, ACC=0.8947, TPR=0.7729\n"
     ]
    },
    {
     "name": "stderr",
     "output_type": "stream",
     "text": [
      "Epoch 127: 100%|█████████████████████████| 3448/3448 [08:51<00:00,  6.48batch/s]\n"
     ]
    },
    {
     "name": "stdout",
     "output_type": "stream",
     "text": [
      "/////////////////////////\n",
      "adverserial loss :  tensor(2.0086e-06, device='cuda:1', grad_fn=<DivBackward0>)\n",
      "classification loss :  tensor(2.4563e-06, device='cuda:1', grad_fn=<DivBackward0>)\n",
      "classification node loss :  tensor(5.4763e-05, device='cuda:1', grad_fn=<DivBackward0>)\n",
      "total loss :  tensor(5.9228e-05, device='cuda:1', grad_fn=<DivBackward0>)\n",
      "////////////////////////////////////\n",
      "***************************\n",
      "test : \n"
     ]
    },
    {
     "name": "stderr",
     "output_type": "stream",
     "text": [
      "Epoch 127: 100%|███████████████████████████| 243/243 [00:38<00:00,  6.29batch/s]\n"
     ]
    },
    {
     "name": "stdout",
     "output_type": "stream",
     "text": [
      "score: write test scores to /home/hassan-hossein/single_image_graph_face_anti_spoofing/train/Scores/epoch_127/score.txt\n",
      "epoch:127, test:  val_ACC=0.9001, HTER=0.1000, AUC=0.9614, val_err=0.1000, ACC=0.9001, TPR=0.7896\n"
     ]
    },
    {
     "name": "stderr",
     "output_type": "stream",
     "text": [
      "Epoch 128: 100%|█████████████████████████| 3448/3448 [08:52<00:00,  6.47batch/s]\n"
     ]
    },
    {
     "name": "stdout",
     "output_type": "stream",
     "text": [
      "/////////////////////////\n",
      "adverserial loss :  tensor(2.0929e-08, device='cuda:1', grad_fn=<DivBackward0>)\n",
      "classification loss :  tensor(1.6134e-06, device='cuda:1', grad_fn=<DivBackward0>)\n",
      "classification node loss :  tensor(5.5298e-05, device='cuda:1', grad_fn=<DivBackward0>)\n",
      "total loss :  tensor(5.6933e-05, device='cuda:1', grad_fn=<DivBackward0>)\n",
      "////////////////////////////////////\n",
      "***************************\n",
      "test : \n"
     ]
    },
    {
     "name": "stderr",
     "output_type": "stream",
     "text": [
      "Epoch 128: 100%|███████████████████████████| 243/243 [00:38<00:00,  6.32batch/s]\n"
     ]
    },
    {
     "name": "stdout",
     "output_type": "stream",
     "text": [
      "score: write test scores to /home/hassan-hossein/single_image_graph_face_anti_spoofing/train/Scores/epoch_128/score.txt\n",
      "epoch:128, test:  val_ACC=0.8851, HTER=0.1150, AUC=0.9567, val_err=0.1150, ACC=0.8851, TPR=0.8256\n"
     ]
    },
    {
     "name": "stderr",
     "output_type": "stream",
     "text": [
      "Epoch 129: 100%|█████████████████████████| 3448/3448 [08:53<00:00,  6.46batch/s]\n"
     ]
    },
    {
     "name": "stdout",
     "output_type": "stream",
     "text": [
      "/////////////////////////\n",
      "adverserial loss :  tensor(3.5723e-07, device='cuda:1', grad_fn=<DivBackward0>)\n",
      "classification loss :  tensor(2.6702e-06, device='cuda:1', grad_fn=<DivBackward0>)\n",
      "classification node loss :  tensor(5.0546e-05, device='cuda:1', grad_fn=<DivBackward0>)\n",
      "total loss :  tensor(5.3573e-05, device='cuda:1', grad_fn=<DivBackward0>)\n",
      "////////////////////////////////////\n",
      "***************************\n",
      "test : \n"
     ]
    },
    {
     "name": "stderr",
     "output_type": "stream",
     "text": [
      "Epoch 129: 100%|███████████████████████████| 243/243 [00:38<00:00,  6.26batch/s]\n"
     ]
    },
    {
     "name": "stdout",
     "output_type": "stream",
     "text": [
      "score: write test scores to /home/hassan-hossein/single_image_graph_face_anti_spoofing/train/Scores/epoch_129/score.txt\n",
      "epoch:129, test:  val_ACC=0.8961, HTER=0.1039, AUC=0.9477, val_err=0.1039, ACC=0.8961, TPR=0.7443\n"
     ]
    },
    {
     "name": "stderr",
     "output_type": "stream",
     "text": [
      "Epoch 130: 100%|█████████████████████████| 3448/3448 [08:52<00:00,  6.47batch/s]\n"
     ]
    },
    {
     "name": "stdout",
     "output_type": "stream",
     "text": [
      "/////////////////////////\n",
      "adverserial loss :  tensor(6.4475e-07, device='cuda:1', grad_fn=<DivBackward0>)\n",
      "classification loss :  tensor(2.0669e-06, device='cuda:1', grad_fn=<DivBackward0>)\n",
      "classification node loss :  tensor(5.7487e-05, device='cuda:1', grad_fn=<DivBackward0>)\n",
      "total loss :  tensor(6.0198e-05, device='cuda:1', grad_fn=<DivBackward0>)\n",
      "////////////////////////////////////\n",
      "***************************\n",
      "test : \n"
     ]
    },
    {
     "name": "stderr",
     "output_type": "stream",
     "text": [
      "Epoch 130: 100%|███████████████████████████| 243/243 [00:39<00:00,  6.10batch/s]\n"
     ]
    },
    {
     "name": "stdout",
     "output_type": "stream",
     "text": [
      "score: write test scores to /home/hassan-hossein/single_image_graph_face_anti_spoofing/train/Scores/epoch_130/score.txt\n",
      "epoch:130, test:  val_ACC=0.8848, HTER=0.1152, AUC=0.9519, val_err=0.1153, ACC=0.8848, TPR=0.7899\n"
     ]
    },
    {
     "name": "stderr",
     "output_type": "stream",
     "text": [
      "Epoch 131: 100%|█████████████████████████| 3448/3448 [08:54<00:00,  6.45batch/s]\n"
     ]
    },
    {
     "name": "stdout",
     "output_type": "stream",
     "text": [
      "/////////////////////////\n",
      "adverserial loss :  tensor(1.3358e-07, device='cuda:1', grad_fn=<DivBackward0>)\n",
      "classification loss :  tensor(3.3316e-06, device='cuda:1', grad_fn=<DivBackward0>)\n",
      "classification node loss :  tensor(5.6439e-05, device='cuda:1', grad_fn=<DivBackward0>)\n",
      "total loss :  tensor(5.9904e-05, device='cuda:1', grad_fn=<DivBackward0>)\n",
      "////////////////////////////////////\n",
      "***************************\n",
      "test : \n"
     ]
    },
    {
     "name": "stderr",
     "output_type": "stream",
     "text": [
      "Epoch 131: 100%|███████████████████████████| 243/243 [00:38<00:00,  6.25batch/s]\n"
     ]
    },
    {
     "name": "stdout",
     "output_type": "stream",
     "text": [
      "score: write test scores to /home/hassan-hossein/single_image_graph_face_anti_spoofing/train/Scores/epoch_131/score.txt\n",
      "epoch:131, test:  val_ACC=0.8810, HTER=0.1191, AUC=0.9526, val_err=0.1190, ACC=0.8810, TPR=0.7587\n"
     ]
    },
    {
     "name": "stderr",
     "output_type": "stream",
     "text": [
      "Epoch 132: 100%|█████████████████████████| 3448/3448 [08:53<00:00,  6.46batch/s]\n"
     ]
    },
    {
     "name": "stdout",
     "output_type": "stream",
     "text": [
      "/////////////////////////\n",
      "adverserial loss :  tensor(3.2202e-07, device='cuda:1', grad_fn=<DivBackward0>)\n",
      "classification loss :  tensor(1.5589e-06, device='cuda:1', grad_fn=<DivBackward0>)\n",
      "classification node loss :  tensor(5.5324e-05, device='cuda:1', grad_fn=<DivBackward0>)\n",
      "total loss :  tensor(5.7205e-05, device='cuda:1', grad_fn=<DivBackward0>)\n",
      "////////////////////////////////////\n",
      "***************************\n",
      "test : \n"
     ]
    },
    {
     "name": "stderr",
     "output_type": "stream",
     "text": [
      "Epoch 132: 100%|███████████████████████████| 243/243 [00:38<00:00,  6.25batch/s]\n"
     ]
    },
    {
     "name": "stdout",
     "output_type": "stream",
     "text": [
      "score: write test scores to /home/hassan-hossein/single_image_graph_face_anti_spoofing/train/Scores/epoch_132/score.txt\n",
      "epoch:132, test:  val_ACC=0.8673, HTER=0.1327, AUC=0.9366, val_err=0.1327, ACC=0.8673, TPR=0.6636\n"
     ]
    },
    {
     "name": "stderr",
     "output_type": "stream",
     "text": [
      "Epoch 133: 100%|█████████████████████████| 3448/3448 [08:53<00:00,  6.47batch/s]\n"
     ]
    },
    {
     "name": "stdout",
     "output_type": "stream",
     "text": [
      "/////////////////////////\n",
      "adverserial loss :  tensor(1.8078e-06, device='cuda:1', grad_fn=<DivBackward0>)\n",
      "classification loss :  tensor(1.8297e-06, device='cuda:1', grad_fn=<DivBackward0>)\n",
      "classification node loss :  tensor(5.0940e-05, device='cuda:1', grad_fn=<DivBackward0>)\n",
      "total loss :  tensor(5.4578e-05, device='cuda:1', grad_fn=<DivBackward0>)\n",
      "////////////////////////////////////\n",
      "***************************\n",
      "test : \n"
     ]
    },
    {
     "name": "stderr",
     "output_type": "stream",
     "text": [
      "Epoch 133: 100%|███████████████████████████| 243/243 [00:38<00:00,  6.29batch/s]\n"
     ]
    },
    {
     "name": "stdout",
     "output_type": "stream",
     "text": [
      "score: write test scores to /home/hassan-hossein/single_image_graph_face_anti_spoofing/train/Scores/epoch_133/score.txt\n",
      "epoch:133, test:  val_ACC=0.8876, HTER=0.1124, AUC=0.9493, val_err=0.1124, ACC=0.8876, TPR=0.7744\n"
     ]
    },
    {
     "name": "stderr",
     "output_type": "stream",
     "text": [
      "Epoch 134: 100%|█████████████████████████| 3448/3448 [08:52<00:00,  6.47batch/s]\n"
     ]
    },
    {
     "name": "stdout",
     "output_type": "stream",
     "text": [
      "/////////////////////////\n",
      "adverserial loss :  tensor(2.3575e-08, device='cuda:1', grad_fn=<DivBackward0>)\n",
      "classification loss :  tensor(3.2371e-06, device='cuda:1', grad_fn=<DivBackward0>)\n",
      "classification node loss :  tensor(5.2383e-05, device='cuda:1', grad_fn=<DivBackward0>)\n",
      "total loss :  tensor(5.5644e-05, device='cuda:1', grad_fn=<DivBackward0>)\n",
      "////////////////////////////////////\n",
      "***************************\n",
      "test : \n"
     ]
    },
    {
     "name": "stderr",
     "output_type": "stream",
     "text": [
      "Epoch 134: 100%|███████████████████████████| 243/243 [00:38<00:00,  6.31batch/s]\n"
     ]
    },
    {
     "name": "stdout",
     "output_type": "stream",
     "text": [
      "score: write test scores to /home/hassan-hossein/single_image_graph_face_anti_spoofing/train/Scores/epoch_134/score.txt\n",
      "epoch:134, test:  val_ACC=0.8952, HTER=0.1049, AUC=0.9589, val_err=0.1049, ACC=0.8952, TPR=0.7387\n"
     ]
    },
    {
     "name": "stderr",
     "output_type": "stream",
     "text": [
      "Epoch 135: 100%|█████████████████████████| 3448/3448 [08:52<00:00,  6.47batch/s]\n"
     ]
    },
    {
     "name": "stdout",
     "output_type": "stream",
     "text": [
      "/////////////////////////\n",
      "adverserial loss :  tensor(9.6100e-08, device='cuda:1', grad_fn=<DivBackward0>)\n",
      "classification loss :  tensor(1.9628e-06, device='cuda:1', grad_fn=<DivBackward0>)\n",
      "classification node loss :  tensor(5.0309e-05, device='cuda:1', grad_fn=<DivBackward0>)\n",
      "total loss :  tensor(5.2367e-05, device='cuda:1', grad_fn=<DivBackward0>)\n",
      "////////////////////////////////////\n",
      "***************************\n",
      "test : \n"
     ]
    },
    {
     "name": "stderr",
     "output_type": "stream",
     "text": [
      "Epoch 135: 100%|███████████████████████████| 243/243 [00:38<00:00,  6.24batch/s]\n"
     ]
    },
    {
     "name": "stdout",
     "output_type": "stream",
     "text": [
      "score: write test scores to /home/hassan-hossein/single_image_graph_face_anti_spoofing/train/Scores/epoch_135/score.txt\n",
      "epoch:135, test:  val_ACC=0.8813, HTER=0.1186, AUC=0.9548, val_err=0.1187, ACC=0.8813, TPR=0.7822\n"
     ]
    },
    {
     "name": "stderr",
     "output_type": "stream",
     "text": [
      "Epoch 136: 100%|█████████████████████████| 3448/3448 [08:53<00:00,  6.47batch/s]\n"
     ]
    },
    {
     "name": "stdout",
     "output_type": "stream",
     "text": [
      "/////////////////////////\n",
      "adverserial loss :  tensor(1.7052e-06, device='cuda:1', grad_fn=<DivBackward0>)\n",
      "classification loss :  tensor(5.7938e-07, device='cuda:1', grad_fn=<DivBackward0>)\n",
      "classification node loss :  tensor(5.2537e-05, device='cuda:1', grad_fn=<DivBackward0>)\n",
      "total loss :  tensor(5.4822e-05, device='cuda:1', grad_fn=<DivBackward0>)\n",
      "////////////////////////////////////\n",
      "***************************\n",
      "test : \n"
     ]
    },
    {
     "name": "stderr",
     "output_type": "stream",
     "text": [
      "Epoch 136: 100%|███████████████████████████| 243/243 [00:38<00:00,  6.30batch/s]\n"
     ]
    },
    {
     "name": "stdout",
     "output_type": "stream",
     "text": [
      "score: write test scores to /home/hassan-hossein/single_image_graph_face_anti_spoofing/train/Scores/epoch_136/score.txt\n",
      "epoch:136, test:  val_ACC=0.8745, HTER=0.1255, AUC=0.9436, val_err=0.1255, ACC=0.8745, TPR=0.6734\n"
     ]
    },
    {
     "name": "stderr",
     "output_type": "stream",
     "text": [
      "Epoch 137: 100%|█████████████████████████| 3448/3448 [08:52<00:00,  6.47batch/s]\n"
     ]
    },
    {
     "name": "stdout",
     "output_type": "stream",
     "text": [
      "/////////////////////////\n",
      "adverserial loss :  tensor(4.4972e-07, device='cuda:1', grad_fn=<DivBackward0>)\n",
      "classification loss :  tensor(2.6805e-06, device='cuda:1', grad_fn=<DivBackward0>)\n",
      "classification node loss :  tensor(5.6737e-05, device='cuda:1', grad_fn=<DivBackward0>)\n",
      "total loss :  tensor(5.9867e-05, device='cuda:1', grad_fn=<DivBackward0>)\n",
      "////////////////////////////////////\n",
      "***************************\n",
      "test : \n"
     ]
    },
    {
     "name": "stderr",
     "output_type": "stream",
     "text": [
      "Epoch 137: 100%|███████████████████████████| 243/243 [00:39<00:00,  6.20batch/s]\n"
     ]
    },
    {
     "name": "stdout",
     "output_type": "stream",
     "text": [
      "score: write test scores to /home/hassan-hossein/single_image_graph_face_anti_spoofing/train/Scores/epoch_137/score.txt\n",
      "epoch:137, test:  val_ACC=0.8815, HTER=0.1185, AUC=0.9439, val_err=0.1185, ACC=0.8815, TPR=0.6716\n"
     ]
    },
    {
     "name": "stderr",
     "output_type": "stream",
     "text": [
      "Epoch 138: 100%|█████████████████████████| 3448/3448 [08:52<00:00,  6.48batch/s]\n"
     ]
    },
    {
     "name": "stdout",
     "output_type": "stream",
     "text": [
      "/////////////////////////\n",
      "adverserial loss :  tensor(7.4294e-07, device='cuda:1', grad_fn=<DivBackward0>)\n",
      "classification loss :  tensor(8.5609e-07, device='cuda:1', grad_fn=<DivBackward0>)\n",
      "classification node loss :  tensor(5.2177e-05, device='cuda:1', grad_fn=<DivBackward0>)\n",
      "total loss :  tensor(5.3776e-05, device='cuda:1', grad_fn=<DivBackward0>)\n",
      "////////////////////////////////////\n",
      "***************************\n",
      "test : \n"
     ]
    },
    {
     "name": "stderr",
     "output_type": "stream",
     "text": [
      "Epoch 138: 100%|███████████████████████████| 243/243 [00:38<00:00,  6.23batch/s]\n"
     ]
    },
    {
     "name": "stdout",
     "output_type": "stream",
     "text": [
      "score: write test scores to /home/hassan-hossein/single_image_graph_face_anti_spoofing/train/Scores/epoch_138/score.txt\n",
      "epoch:138, test:  val_ACC=0.8702, HTER=0.1299, AUC=0.9450, val_err=0.1299, ACC=0.8702, TPR=0.6965\n"
     ]
    },
    {
     "name": "stderr",
     "output_type": "stream",
     "text": [
      "Epoch 139: 100%|█████████████████████████| 3448/3448 [08:54<00:00,  6.45batch/s]\n"
     ]
    },
    {
     "name": "stdout",
     "output_type": "stream",
     "text": [
      "/////////////////////////\n",
      "adverserial loss :  tensor(2.0312e-08, device='cuda:1', grad_fn=<DivBackward0>)\n",
      "classification loss :  tensor(2.0753e-06, device='cuda:1', grad_fn=<DivBackward0>)\n",
      "classification node loss :  tensor(5.3775e-05, device='cuda:1', grad_fn=<DivBackward0>)\n",
      "total loss :  tensor(5.5870e-05, device='cuda:1', grad_fn=<DivBackward0>)\n",
      "////////////////////////////////////\n",
      "***************************\n",
      "test : \n"
     ]
    },
    {
     "name": "stderr",
     "output_type": "stream",
     "text": [
      "Epoch 139: 100%|███████████████████████████| 243/243 [00:38<00:00,  6.34batch/s]\n"
     ]
    },
    {
     "name": "stdout",
     "output_type": "stream",
     "text": [
      "score: write test scores to /home/hassan-hossein/single_image_graph_face_anti_spoofing/train/Scores/epoch_139/score.txt\n",
      "epoch:139, test:  val_ACC=0.8732, HTER=0.1268, AUC=0.9429, val_err=0.1268, ACC=0.8732, TPR=0.6319\n"
     ]
    },
    {
     "name": "stderr",
     "output_type": "stream",
     "text": [
      "Epoch 140: 100%|█████████████████████████| 3448/3448 [08:52<00:00,  6.48batch/s]\n"
     ]
    },
    {
     "name": "stdout",
     "output_type": "stream",
     "text": [
      "/////////////////////////\n",
      "adverserial loss :  tensor(2.3657e-06, device='cuda:1', grad_fn=<DivBackward0>)\n",
      "classification loss :  tensor(2.0101e-06, device='cuda:1', grad_fn=<DivBackward0>)\n",
      "classification node loss :  tensor(5.4963e-05, device='cuda:1', grad_fn=<DivBackward0>)\n",
      "total loss :  tensor(5.9338e-05, device='cuda:1', grad_fn=<DivBackward0>)\n",
      "////////////////////////////////////\n",
      "***************************\n",
      "test : \n"
     ]
    },
    {
     "name": "stderr",
     "output_type": "stream",
     "text": [
      "Epoch 140: 100%|███████████████████████████| 243/243 [00:38<00:00,  6.34batch/s]\n"
     ]
    },
    {
     "name": "stdout",
     "output_type": "stream",
     "text": [
      "score: write test scores to /home/hassan-hossein/single_image_graph_face_anti_spoofing/train/Scores/epoch_140/score.txt\n",
      "epoch:140, test:  val_ACC=0.8802, HTER=0.1198, AUC=0.9419, val_err=0.1198, ACC=0.8802, TPR=0.7495\n"
     ]
    },
    {
     "name": "stderr",
     "output_type": "stream",
     "text": [
      "Epoch 141: 100%|█████████████████████████| 3448/3448 [08:53<00:00,  6.46batch/s]\n"
     ]
    },
    {
     "name": "stdout",
     "output_type": "stream",
     "text": [
      "/////////////////////////\n",
      "adverserial loss :  tensor(1.3591e-07, device='cuda:1', grad_fn=<DivBackward0>)\n",
      "classification loss :  tensor(2.7346e-06, device='cuda:1', grad_fn=<DivBackward0>)\n",
      "classification node loss :  tensor(4.9664e-05, device='cuda:1', grad_fn=<DivBackward0>)\n",
      "total loss :  tensor(5.2534e-05, device='cuda:1', grad_fn=<DivBackward0>)\n",
      "////////////////////////////////////\n",
      "***************************\n",
      "test : \n"
     ]
    },
    {
     "name": "stderr",
     "output_type": "stream",
     "text": [
      "Epoch 141: 100%|███████████████████████████| 243/243 [00:38<00:00,  6.24batch/s]\n"
     ]
    },
    {
     "name": "stdout",
     "output_type": "stream",
     "text": [
      "score: write test scores to /home/hassan-hossein/single_image_graph_face_anti_spoofing/train/Scores/epoch_141/score.txt\n",
      "epoch:141, test:  val_ACC=0.8709, HTER=0.1291, AUC=0.9374, val_err=0.1291, ACC=0.8709, TPR=0.7317\n"
     ]
    },
    {
     "name": "stderr",
     "output_type": "stream",
     "text": [
      "Epoch 142: 100%|█████████████████████████| 3448/3448 [08:51<00:00,  6.49batch/s]\n"
     ]
    },
    {
     "name": "stdout",
     "output_type": "stream",
     "text": [
      "/////////////////////////\n",
      "adverserial loss :  tensor(6.0105e-07, device='cuda:1', grad_fn=<DivBackward0>)\n",
      "classification loss :  tensor(2.5181e-06, device='cuda:1', grad_fn=<DivBackward0>)\n",
      "classification node loss :  tensor(4.7940e-05, device='cuda:1', grad_fn=<DivBackward0>)\n",
      "total loss :  tensor(5.1060e-05, device='cuda:1', grad_fn=<DivBackward0>)\n",
      "////////////////////////////////////\n",
      "***************************\n",
      "test : \n"
     ]
    },
    {
     "name": "stderr",
     "output_type": "stream",
     "text": [
      "Epoch 142: 100%|███████████████████████████| 243/243 [00:38<00:00,  6.25batch/s]\n"
     ]
    },
    {
     "name": "stdout",
     "output_type": "stream",
     "text": [
      "score: write test scores to /home/hassan-hossein/single_image_graph_face_anti_spoofing/train/Scores/epoch_142/score.txt\n",
      "epoch:142, test:  val_ACC=0.9264, HTER=0.0736, AUC=0.9709, val_err=0.0737, ACC=0.9264, TPR=0.8614\n"
     ]
    },
    {
     "name": "stderr",
     "output_type": "stream",
     "text": [
      "Epoch 143: 100%|█████████████████████████| 3448/3448 [08:54<00:00,  6.45batch/s]\n"
     ]
    },
    {
     "name": "stdout",
     "output_type": "stream",
     "text": [
      "/////////////////////////\n",
      "adverserial loss :  tensor(3.1538e-07, device='cuda:1', grad_fn=<DivBackward0>)\n",
      "classification loss :  tensor(2.5112e-06, device='cuda:1', grad_fn=<DivBackward0>)\n",
      "classification node loss :  tensor(4.8589e-05, device='cuda:1', grad_fn=<DivBackward0>)\n",
      "total loss :  tensor(5.1416e-05, device='cuda:1', grad_fn=<DivBackward0>)\n",
      "////////////////////////////////////\n",
      "***************************\n",
      "test : \n"
     ]
    },
    {
     "name": "stderr",
     "output_type": "stream",
     "text": [
      "Epoch 143: 100%|███████████████████████████| 243/243 [00:38<00:00,  6.30batch/s]\n"
     ]
    },
    {
     "name": "stdout",
     "output_type": "stream",
     "text": [
      "score: write test scores to /home/hassan-hossein/single_image_graph_face_anti_spoofing/train/Scores/epoch_143/score.txt\n",
      "epoch:143, test:  val_ACC=0.8911, HTER=0.1090, AUC=0.9429, val_err=0.1090, ACC=0.8911, TPR=0.6638\n"
     ]
    },
    {
     "name": "stderr",
     "output_type": "stream",
     "text": [
      "Epoch 144: 100%|█████████████████████████| 3448/3448 [08:52<00:00,  6.48batch/s]\n"
     ]
    },
    {
     "name": "stdout",
     "output_type": "stream",
     "text": [
      "/////////////////////////\n",
      "adverserial loss :  tensor(3.4276e-07, device='cuda:1', grad_fn=<DivBackward0>)\n",
      "classification loss :  tensor(5.6569e-08, device='cuda:1', grad_fn=<DivBackward0>)\n",
      "classification node loss :  tensor(4.7522e-05, device='cuda:1', grad_fn=<DivBackward0>)\n",
      "total loss :  tensor(4.7922e-05, device='cuda:1', grad_fn=<DivBackward0>)\n",
      "////////////////////////////////////\n",
      "***************************\n",
      "test : \n"
     ]
    },
    {
     "name": "stderr",
     "output_type": "stream",
     "text": [
      "Epoch 144: 100%|███████████████████████████| 243/243 [00:38<00:00,  6.34batch/s]\n"
     ]
    },
    {
     "name": "stdout",
     "output_type": "stream",
     "text": [
      "score: write test scores to /home/hassan-hossein/single_image_graph_face_anti_spoofing/train/Scores/epoch_144/score.txt\n",
      "epoch:144, test:  val_ACC=0.8905, HTER=0.1096, AUC=0.9382, val_err=0.1096, ACC=0.8905, TPR=0.7338\n"
     ]
    },
    {
     "name": "stderr",
     "output_type": "stream",
     "text": [
      "Epoch 145: 100%|█████████████████████████| 3448/3448 [08:53<00:00,  6.46batch/s]\n"
     ]
    },
    {
     "name": "stdout",
     "output_type": "stream",
     "text": [
      "/////////////////////////\n",
      "adverserial loss :  tensor(1.4986e-06, device='cuda:1', grad_fn=<DivBackward0>)\n",
      "classification loss :  tensor(2.0982e-06, device='cuda:1', grad_fn=<DivBackward0>)\n",
      "classification node loss :  tensor(5.4637e-05, device='cuda:1', grad_fn=<DivBackward0>)\n",
      "total loss :  tensor(5.8233e-05, device='cuda:1', grad_fn=<DivBackward0>)\n",
      "////////////////////////////////////\n",
      "***************************\n",
      "test : \n"
     ]
    },
    {
     "name": "stderr",
     "output_type": "stream",
     "text": [
      "Epoch 145: 100%|███████████████████████████| 243/243 [00:38<00:00,  6.24batch/s]\n"
     ]
    },
    {
     "name": "stdout",
     "output_type": "stream",
     "text": [
      "score: write test scores to /home/hassan-hossein/single_image_graph_face_anti_spoofing/train/Scores/epoch_145/score.txt\n",
      "epoch:145, test:  val_ACC=0.8964, HTER=0.1037, AUC=0.9457, val_err=0.1037, ACC=0.8964, TPR=0.7402\n"
     ]
    },
    {
     "name": "stderr",
     "output_type": "stream",
     "text": [
      "Epoch 146: 100%|█████████████████████████| 3448/3448 [08:54<00:00,  6.46batch/s]\n"
     ]
    },
    {
     "name": "stdout",
     "output_type": "stream",
     "text": [
      "/////////////////////////\n",
      "adverserial loss :  tensor(5.7946e-07, device='cuda:1', grad_fn=<DivBackward0>)\n",
      "classification loss :  tensor(2.5936e-06, device='cuda:1', grad_fn=<DivBackward0>)\n",
      "classification node loss :  tensor(4.9800e-05, device='cuda:1', grad_fn=<DivBackward0>)\n",
      "total loss :  tensor(5.2973e-05, device='cuda:1', grad_fn=<DivBackward0>)\n",
      "////////////////////////////////////\n",
      "***************************\n",
      "test : \n"
     ]
    },
    {
     "name": "stderr",
     "output_type": "stream",
     "text": [
      "Epoch 146: 100%|███████████████████████████| 243/243 [00:39<00:00,  6.20batch/s]\n"
     ]
    },
    {
     "name": "stdout",
     "output_type": "stream",
     "text": [
      "score: write test scores to /home/hassan-hossein/single_image_graph_face_anti_spoofing/train/Scores/epoch_146/score.txt\n",
      "epoch:146, test:  val_ACC=0.8966, HTER=0.1034, AUC=0.9575, val_err=0.1034, ACC=0.8966, TPR=0.7395\n"
     ]
    },
    {
     "name": "stderr",
     "output_type": "stream",
     "text": [
      "Epoch 147: 100%|█████████████████████████| 3448/3448 [08:52<00:00,  6.47batch/s]\n"
     ]
    },
    {
     "name": "stdout",
     "output_type": "stream",
     "text": [
      "/////////////////////////\n",
      "adverserial loss :  tensor(2.7710e-08, device='cuda:1', grad_fn=<DivBackward0>)\n",
      "classification loss :  tensor(3.3815e-06, device='cuda:1', grad_fn=<DivBackward0>)\n",
      "classification node loss :  tensor(5.6289e-05, device='cuda:1', grad_fn=<DivBackward0>)\n",
      "total loss :  tensor(5.9698e-05, device='cuda:1', grad_fn=<DivBackward0>)\n",
      "////////////////////////////////////\n",
      "***************************\n",
      "test : \n"
     ]
    },
    {
     "name": "stderr",
     "output_type": "stream",
     "text": [
      "Epoch 147: 100%|███████████████████████████| 243/243 [00:39<00:00,  6.23batch/s]\n"
     ]
    },
    {
     "name": "stdout",
     "output_type": "stream",
     "text": [
      "score: write test scores to /home/hassan-hossein/single_image_graph_face_anti_spoofing/train/Scores/epoch_147/score.txt\n",
      "epoch:147, test:  val_ACC=0.8916, HTER=0.1085, AUC=0.9468, val_err=0.1085, ACC=0.8916, TPR=0.6253\n"
     ]
    },
    {
     "name": "stderr",
     "output_type": "stream",
     "text": [
      "Epoch 148: 100%|█████████████████████████| 3448/3448 [08:53<00:00,  6.46batch/s]\n"
     ]
    },
    {
     "name": "stdout",
     "output_type": "stream",
     "text": [
      "/////////////////////////\n",
      "adverserial loss :  tensor(2.1576e-07, device='cuda:1', grad_fn=<DivBackward0>)\n",
      "classification loss :  tensor(2.2819e-07, device='cuda:1', grad_fn=<DivBackward0>)\n",
      "classification node loss :  tensor(4.7042e-05, device='cuda:1', grad_fn=<DivBackward0>)\n",
      "total loss :  tensor(4.7486e-05, device='cuda:1', grad_fn=<DivBackward0>)\n",
      "////////////////////////////////////\n",
      "***************************\n",
      "test : \n"
     ]
    },
    {
     "name": "stderr",
     "output_type": "stream",
     "text": [
      "Epoch 148: 100%|███████████████████████████| 243/243 [00:39<00:00,  6.20batch/s]\n"
     ]
    },
    {
     "name": "stdout",
     "output_type": "stream",
     "text": [
      "score: write test scores to /home/hassan-hossein/single_image_graph_face_anti_spoofing/train/Scores/epoch_148/score.txt\n",
      "epoch:148, test:  val_ACC=0.8714, HTER=0.1286, AUC=0.9486, val_err=0.1285, ACC=0.8714, TPR=0.6932\n"
     ]
    },
    {
     "name": "stderr",
     "output_type": "stream",
     "text": [
      "Epoch 149: 100%|█████████████████████████| 3448/3448 [08:52<00:00,  6.47batch/s]\n"
     ]
    },
    {
     "name": "stdout",
     "output_type": "stream",
     "text": [
      "/////////////////////////\n",
      "adverserial loss :  tensor(1.0860e-07, device='cuda:1', grad_fn=<DivBackward0>)\n",
      "classification loss :  tensor(3.0693e-06, device='cuda:1', grad_fn=<DivBackward0>)\n",
      "classification node loss :  tensor(4.8010e-05, device='cuda:1', grad_fn=<DivBackward0>)\n",
      "total loss :  tensor(5.1188e-05, device='cuda:1', grad_fn=<DivBackward0>)\n",
      "////////////////////////////////////\n",
      "***************************\n",
      "test : \n"
     ]
    },
    {
     "name": "stderr",
     "output_type": "stream",
     "text": [
      "Epoch 149: 100%|███████████████████████████| 243/243 [00:38<00:00,  6.29batch/s]\n"
     ]
    },
    {
     "name": "stdout",
     "output_type": "stream",
     "text": [
      "score: write test scores to /home/hassan-hossein/single_image_graph_face_anti_spoofing/train/Scores/epoch_149/score.txt\n",
      "epoch:149, test:  val_ACC=0.8968, HTER=0.1032, AUC=0.9533, val_err=0.1033, ACC=0.8968, TPR=0.7801\n"
     ]
    },
    {
     "name": "stderr",
     "output_type": "stream",
     "text": [
      "Epoch 150: 100%|█████████████████████████| 3448/3448 [08:52<00:00,  6.48batch/s]\n"
     ]
    },
    {
     "name": "stdout",
     "output_type": "stream",
     "text": [
      "/////////////////////////\n",
      "adverserial loss :  tensor(1.0747e-06, device='cuda:1', grad_fn=<DivBackward0>)\n",
      "classification loss :  tensor(1.5094e-06, device='cuda:1', grad_fn=<DivBackward0>)\n",
      "classification node loss :  tensor(5.0967e-05, device='cuda:1', grad_fn=<DivBackward0>)\n",
      "total loss :  tensor(5.3551e-05, device='cuda:1', grad_fn=<DivBackward0>)\n",
      "////////////////////////////////////\n",
      "***************************\n",
      "test : \n"
     ]
    },
    {
     "name": "stderr",
     "output_type": "stream",
     "text": [
      "Epoch 150: 100%|███████████████████████████| 243/243 [00:39<00:00,  6.12batch/s]\n"
     ]
    },
    {
     "name": "stdout",
     "output_type": "stream",
     "text": [
      "score: write test scores to /home/hassan-hossein/single_image_graph_face_anti_spoofing/train/Scores/epoch_150/score.txt\n",
      "epoch:150, test:  val_ACC=0.8754, HTER=0.1247, AUC=0.9392, val_err=0.1247, ACC=0.8754, TPR=0.5100\n"
     ]
    },
    {
     "name": "stderr",
     "output_type": "stream",
     "text": [
      "Epoch 151: 100%|█████████████████████████| 3448/3448 [08:53<00:00,  6.46batch/s]\n"
     ]
    },
    {
     "name": "stdout",
     "output_type": "stream",
     "text": [
      "/////////////////////////\n",
      "adverserial loss :  tensor(5.6081e-09, device='cuda:1', grad_fn=<DivBackward0>)\n",
      "classification loss :  tensor(2.3682e-06, device='cuda:1', grad_fn=<DivBackward0>)\n",
      "classification node loss :  tensor(5.8349e-05, device='cuda:1', grad_fn=<DivBackward0>)\n",
      "total loss :  tensor(6.0723e-05, device='cuda:1', grad_fn=<DivBackward0>)\n",
      "////////////////////////////////////\n",
      "***************************\n",
      "test : \n"
     ]
    },
    {
     "name": "stderr",
     "output_type": "stream",
     "text": [
      "Epoch 151: 100%|███████████████████████████| 243/243 [00:38<00:00,  6.29batch/s]\n"
     ]
    },
    {
     "name": "stdout",
     "output_type": "stream",
     "text": [
      "score: write test scores to /home/hassan-hossein/single_image_graph_face_anti_spoofing/train/Scores/epoch_151/score.txt\n",
      "epoch:151, test:  val_ACC=0.8719, HTER=0.1281, AUC=0.9469, val_err=0.1281, ACC=0.8719, TPR=0.7387\n"
     ]
    },
    {
     "name": "stderr",
     "output_type": "stream",
     "text": [
      "Epoch 152: 100%|█████████████████████████| 3448/3448 [08:52<00:00,  6.48batch/s]\n"
     ]
    },
    {
     "name": "stdout",
     "output_type": "stream",
     "text": [
      "/////////////////////////\n",
      "adverserial loss :  tensor(6.0854e-07, device='cuda:1', grad_fn=<DivBackward0>)\n",
      "classification loss :  tensor(2.1510e-06, device='cuda:1', grad_fn=<DivBackward0>)\n",
      "classification node loss :  tensor(5.2747e-05, device='cuda:1', grad_fn=<DivBackward0>)\n",
      "total loss :  tensor(5.5507e-05, device='cuda:1', grad_fn=<DivBackward0>)\n",
      "////////////////////////////////////\n",
      "***************************\n",
      "test : \n"
     ]
    },
    {
     "name": "stderr",
     "output_type": "stream",
     "text": [
      "Epoch 152: 100%|███████████████████████████| 243/243 [00:38<00:00,  6.29batch/s]\n"
     ]
    },
    {
     "name": "stdout",
     "output_type": "stream",
     "text": [
      "score: write test scores to /home/hassan-hossein/single_image_graph_face_anti_spoofing/train/Scores/epoch_152/score.txt\n",
      "epoch:152, test:  val_ACC=0.8836, HTER=0.1165, AUC=0.9531, val_err=0.1165, ACC=0.8836, TPR=0.7441\n"
     ]
    },
    {
     "name": "stderr",
     "output_type": "stream",
     "text": [
      "Epoch 153: 100%|█████████████████████████| 3448/3448 [08:52<00:00,  6.48batch/s]\n"
     ]
    },
    {
     "name": "stdout",
     "output_type": "stream",
     "text": [
      "/////////////////////////\n",
      "adverserial loss :  tensor(2.7600e-07, device='cuda:1', grad_fn=<DivBackward0>)\n",
      "classification loss :  tensor(3.3028e-06, device='cuda:1', grad_fn=<DivBackward0>)\n",
      "classification node loss :  tensor(5.2400e-05, device='cuda:1', grad_fn=<DivBackward0>)\n",
      "total loss :  tensor(5.5979e-05, device='cuda:1', grad_fn=<DivBackward0>)\n",
      "////////////////////////////////////\n",
      "***************************\n",
      "test : \n"
     ]
    },
    {
     "name": "stderr",
     "output_type": "stream",
     "text": [
      "Epoch 153: 100%|███████████████████████████| 243/243 [00:38<00:00,  6.24batch/s]\n"
     ]
    },
    {
     "name": "stdout",
     "output_type": "stream",
     "text": [
      "score: write test scores to /home/hassan-hossein/single_image_graph_face_anti_spoofing/train/Scores/epoch_153/score.txt\n",
      "epoch:153, test:  val_ACC=0.8808, HTER=0.1193, AUC=0.9378, val_err=0.1193, ACC=0.8808, TPR=0.5216\n"
     ]
    },
    {
     "name": "stderr",
     "output_type": "stream",
     "text": [
      "Epoch 154: 100%|█████████████████████████| 3448/3448 [08:55<00:00,  6.43batch/s]\n"
     ]
    },
    {
     "name": "stdout",
     "output_type": "stream",
     "text": [
      "/////////////////////////\n",
      "adverserial loss :  tensor(1.7404e-06, device='cuda:1', grad_fn=<DivBackward0>)\n",
      "classification loss :  tensor(1.1138e-06, device='cuda:1', grad_fn=<DivBackward0>)\n",
      "classification node loss :  tensor(4.6481e-05, device='cuda:1', grad_fn=<DivBackward0>)\n",
      "total loss :  tensor(4.9335e-05, device='cuda:1', grad_fn=<DivBackward0>)\n",
      "////////////////////////////////////\n",
      "***************************\n",
      "test : \n"
     ]
    },
    {
     "name": "stderr",
     "output_type": "stream",
     "text": [
      "Epoch 154: 100%|███████████████████████████| 243/243 [00:38<00:00,  6.26batch/s]\n"
     ]
    },
    {
     "name": "stdout",
     "output_type": "stream",
     "text": [
      "score: write test scores to /home/hassan-hossein/single_image_graph_face_anti_spoofing/train/Scores/epoch_154/score.txt\n",
      "epoch:154, test:  val_ACC=0.8981, HTER=0.1019, AUC=0.9515, val_err=0.1019, ACC=0.8981, TPR=0.6782\n"
     ]
    },
    {
     "name": "stderr",
     "output_type": "stream",
     "text": [
      "Epoch 155: 100%|█████████████████████████| 3448/3448 [08:55<00:00,  6.43batch/s]\n"
     ]
    },
    {
     "name": "stdout",
     "output_type": "stream",
     "text": [
      "/////////////////////////\n",
      "adverserial loss :  tensor(1.1461e-07, device='cuda:1', grad_fn=<DivBackward0>)\n",
      "classification loss :  tensor(3.5576e-06, device='cuda:1', grad_fn=<DivBackward0>)\n",
      "classification node loss :  tensor(4.5170e-05, device='cuda:1', grad_fn=<DivBackward0>)\n",
      "total loss :  tensor(4.8842e-05, device='cuda:1', grad_fn=<DivBackward0>)\n",
      "////////////////////////////////////\n",
      "***************************\n",
      "test : \n"
     ]
    },
    {
     "name": "stderr",
     "output_type": "stream",
     "text": [
      "Epoch 155: 100%|███████████████████████████| 243/243 [00:39<00:00,  6.19batch/s]\n"
     ]
    },
    {
     "name": "stdout",
     "output_type": "stream",
     "text": [
      "score: write test scores to /home/hassan-hossein/single_image_graph_face_anti_spoofing/train/Scores/epoch_155/score.txt\n",
      "epoch:155, test:  val_ACC=0.8878, HTER=0.1122, AUC=0.9505, val_err=0.1123, ACC=0.8878, TPR=0.6368\n"
     ]
    },
    {
     "name": "stderr",
     "output_type": "stream",
     "text": [
      "Epoch 156: 100%|█████████████████████████| 3448/3448 [09:00<00:00,  6.38batch/s]\n"
     ]
    },
    {
     "name": "stdout",
     "output_type": "stream",
     "text": [
      "/////////////////////////\n",
      "adverserial loss :  tensor(2.8575e-08, device='cuda:1', grad_fn=<DivBackward0>)\n",
      "classification loss :  tensor(1.2333e-06, device='cuda:1', grad_fn=<DivBackward0>)\n",
      "classification node loss :  tensor(4.7372e-05, device='cuda:1', grad_fn=<DivBackward0>)\n",
      "total loss :  tensor(4.8634e-05, device='cuda:1', grad_fn=<DivBackward0>)\n",
      "////////////////////////////////////\n",
      "***************************\n",
      "test : \n"
     ]
    },
    {
     "name": "stderr",
     "output_type": "stream",
     "text": [
      "Epoch 156: 100%|███████████████████████████| 243/243 [00:38<00:00,  6.32batch/s]\n"
     ]
    },
    {
     "name": "stdout",
     "output_type": "stream",
     "text": [
      "score: write test scores to /home/hassan-hossein/single_image_graph_face_anti_spoofing/train/Scores/epoch_156/score.txt\n",
      "epoch:156, test:  val_ACC=0.9051, HTER=0.0949, AUC=0.9588, val_err=0.0949, ACC=0.9051, TPR=0.7292\n"
     ]
    },
    {
     "name": "stderr",
     "output_type": "stream",
     "text": [
      "Epoch 157: 100%|█████████████████████████| 3448/3448 [09:02<00:00,  6.35batch/s]\n"
     ]
    },
    {
     "name": "stdout",
     "output_type": "stream",
     "text": [
      "/////////////////////////\n",
      "adverserial loss :  tensor(1.1646e-06, device='cuda:1', grad_fn=<DivBackward0>)\n",
      "classification loss :  tensor(1.6269e-06, device='cuda:1', grad_fn=<DivBackward0>)\n",
      "classification node loss :  tensor(4.4983e-05, device='cuda:1', grad_fn=<DivBackward0>)\n",
      "total loss :  tensor(4.7775e-05, device='cuda:1', grad_fn=<DivBackward0>)\n",
      "////////////////////////////////////\n",
      "***************************\n",
      "test : \n"
     ]
    },
    {
     "name": "stderr",
     "output_type": "stream",
     "text": [
      "Epoch 157: 100%|███████████████████████████| 243/243 [00:38<00:00,  6.32batch/s]\n"
     ]
    },
    {
     "name": "stdout",
     "output_type": "stream",
     "text": [
      "score: write test scores to /home/hassan-hossein/single_image_graph_face_anti_spoofing/train/Scores/epoch_157/score.txt\n",
      "epoch:157, test:  val_ACC=0.8950, HTER=0.1050, AUC=0.9477, val_err=0.1050, ACC=0.8950, TPR=0.6752\n"
     ]
    },
    {
     "name": "stderr",
     "output_type": "stream",
     "text": [
      "Epoch 158: 100%|█████████████████████████| 3448/3448 [09:02<00:00,  6.35batch/s]\n"
     ]
    },
    {
     "name": "stdout",
     "output_type": "stream",
     "text": [
      "/////////////////////////\n",
      "adverserial loss :  tensor(2.9449e-07, device='cuda:1', grad_fn=<DivBackward0>)\n",
      "classification loss :  tensor(1.1496e-06, device='cuda:1', grad_fn=<DivBackward0>)\n",
      "classification node loss :  tensor(5.0528e-05, device='cuda:1', grad_fn=<DivBackward0>)\n",
      "total loss :  tensor(5.1972e-05, device='cuda:1', grad_fn=<DivBackward0>)\n",
      "////////////////////////////////////\n",
      "***************************\n",
      "test : \n"
     ]
    },
    {
     "name": "stderr",
     "output_type": "stream",
     "text": [
      "Epoch 158: 100%|███████████████████████████| 243/243 [00:38<00:00,  6.30batch/s]\n"
     ]
    },
    {
     "name": "stdout",
     "output_type": "stream",
     "text": [
      "score: write test scores to /home/hassan-hossein/single_image_graph_face_anti_spoofing/train/Scores/epoch_158/score.txt\n",
      "epoch:158, test:  val_ACC=0.8371, HTER=0.1629, AUC=0.8995, val_err=0.1629, ACC=0.8371, TPR=0.4545\n"
     ]
    },
    {
     "name": "stderr",
     "output_type": "stream",
     "text": [
      "Epoch 159: 100%|█████████████████████████| 3448/3448 [09:01<00:00,  6.37batch/s]\n"
     ]
    },
    {
     "name": "stdout",
     "output_type": "stream",
     "text": [
      "/////////////////////////\n",
      "adverserial loss :  tensor(5.5091e-09, device='cuda:1', grad_fn=<DivBackward0>)\n",
      "classification loss :  tensor(3.1698e-06, device='cuda:1', grad_fn=<DivBackward0>)\n",
      "classification node loss :  tensor(4.1132e-05, device='cuda:1', grad_fn=<DivBackward0>)\n",
      "total loss :  tensor(4.4308e-05, device='cuda:1', grad_fn=<DivBackward0>)\n",
      "////////////////////////////////////\n",
      "***************************\n",
      "test : \n"
     ]
    },
    {
     "name": "stderr",
     "output_type": "stream",
     "text": [
      "Epoch 159: 100%|███████████████████████████| 243/243 [00:38<00:00,  6.23batch/s]\n"
     ]
    },
    {
     "name": "stdout",
     "output_type": "stream",
     "text": [
      "score: write test scores to /home/hassan-hossein/single_image_graph_face_anti_spoofing/train/Scores/epoch_159/score.txt\n",
      "epoch:159, test:  val_ACC=0.8831, HTER=0.1168, AUC=0.9347, val_err=0.1169, ACC=0.8831, TPR=0.5309\n"
     ]
    },
    {
     "name": "stderr",
     "output_type": "stream",
     "text": [
      "Epoch 160: 100%|█████████████████████████| 3448/3448 [09:03<00:00,  6.34batch/s]\n"
     ]
    },
    {
     "name": "stdout",
     "output_type": "stream",
     "text": [
      "/////////////////////////\n",
      "adverserial loss :  tensor(2.3946e-06, device='cuda:1', grad_fn=<DivBackward0>)\n",
      "classification loss :  tensor(2.2029e-06, device='cuda:1', grad_fn=<DivBackward0>)\n",
      "classification node loss :  tensor(4.1559e-05, device='cuda:1', grad_fn=<DivBackward0>)\n",
      "total loss :  tensor(4.6156e-05, device='cuda:1', grad_fn=<DivBackward0>)\n",
      "////////////////////////////////////\n",
      "***************************\n",
      "test : \n"
     ]
    },
    {
     "name": "stderr",
     "output_type": "stream",
     "text": [
      "Epoch 160: 100%|███████████████████████████| 243/243 [00:38<00:00,  6.29batch/s]\n"
     ]
    },
    {
     "name": "stdout",
     "output_type": "stream",
     "text": [
      "score: write test scores to /home/hassan-hossein/single_image_graph_face_anti_spoofing/train/Scores/epoch_160/score.txt\n",
      "epoch:160, test:  val_ACC=0.8886, HTER=0.1114, AUC=0.9468, val_err=0.1114, ACC=0.8886, TPR=0.7348\n"
     ]
    },
    {
     "name": "stderr",
     "output_type": "stream",
     "text": [
      "Epoch 161: 100%|█████████████████████████| 3448/3448 [09:03<00:00,  6.35batch/s]\n"
     ]
    },
    {
     "name": "stdout",
     "output_type": "stream",
     "text": [
      "/////////////////////////\n",
      "adverserial loss :  tensor(3.7972e-07, device='cuda:1', grad_fn=<DivBackward0>)\n",
      "classification loss :  tensor(4.7790e-07, device='cuda:1', grad_fn=<DivBackward0>)\n",
      "classification node loss :  tensor(4.4352e-05, device='cuda:1', grad_fn=<DivBackward0>)\n",
      "total loss :  tensor(4.5210e-05, device='cuda:1', grad_fn=<DivBackward0>)\n",
      "////////////////////////////////////\n",
      "***************************\n",
      "test : \n"
     ]
    },
    {
     "name": "stderr",
     "output_type": "stream",
     "text": [
      "Epoch 161: 100%|███████████████████████████| 243/243 [00:38<00:00,  6.31batch/s]\n"
     ]
    },
    {
     "name": "stdout",
     "output_type": "stream",
     "text": [
      "score: write test scores to /home/hassan-hossein/single_image_graph_face_anti_spoofing/train/Scores/epoch_161/score.txt\n",
      "epoch:161, test:  val_ACC=0.8774, HTER=0.1227, AUC=0.9185, val_err=0.1227, ACC=0.8774, TPR=0.6227\n"
     ]
    },
    {
     "name": "stderr",
     "output_type": "stream",
     "text": [
      "Epoch 162: 100%|█████████████████████████| 3448/3448 [09:02<00:00,  6.36batch/s]\n"
     ]
    },
    {
     "name": "stdout",
     "output_type": "stream",
     "text": [
      "/////////////////////////\n",
      "adverserial loss :  tensor(2.3941e-07, device='cuda:1', grad_fn=<DivBackward0>)\n",
      "classification loss :  tensor(2.5290e-06, device='cuda:1', grad_fn=<DivBackward0>)\n",
      "classification node loss :  tensor(4.5925e-05, device='cuda:1', grad_fn=<DivBackward0>)\n",
      "total loss :  tensor(4.8693e-05, device='cuda:1', grad_fn=<DivBackward0>)\n",
      "////////////////////////////////////\n",
      "***************************\n",
      "test : \n"
     ]
    },
    {
     "name": "stderr",
     "output_type": "stream",
     "text": [
      "Epoch 162: 100%|███████████████████████████| 243/243 [00:38<00:00,  6.27batch/s]\n"
     ]
    },
    {
     "name": "stdout",
     "output_type": "stream",
     "text": [
      "score: write test scores to /home/hassan-hossein/single_image_graph_face_anti_spoofing/train/Scores/epoch_162/score.txt\n",
      "epoch:162, test:  val_ACC=0.8892, HTER=0.1109, AUC=0.9414, val_err=0.1109, ACC=0.8892, TPR=0.7492\n"
     ]
    },
    {
     "name": "stderr",
     "output_type": "stream",
     "text": [
      "Epoch 163: 100%|█████████████████████████| 3448/3448 [09:02<00:00,  6.35batch/s]\n"
     ]
    },
    {
     "name": "stdout",
     "output_type": "stream",
     "text": [
      "/////////////////////////\n",
      "adverserial loss :  tensor(1.1728e-06, device='cuda:1', grad_fn=<DivBackward0>)\n",
      "classification loss :  tensor(7.3138e-07, device='cuda:1', grad_fn=<DivBackward0>)\n",
      "classification node loss :  tensor(4.7120e-05, device='cuda:1', grad_fn=<DivBackward0>)\n",
      "total loss :  tensor(4.9025e-05, device='cuda:1', grad_fn=<DivBackward0>)\n",
      "////////////////////////////////////\n",
      "***************************\n",
      "test : \n"
     ]
    },
    {
     "name": "stderr",
     "output_type": "stream",
     "text": [
      "Epoch 163: 100%|███████████████████████████| 243/243 [00:39<00:00,  6.23batch/s]\n"
     ]
    },
    {
     "name": "stdout",
     "output_type": "stream",
     "text": [
      "score: write test scores to /home/hassan-hossein/single_image_graph_face_anti_spoofing/train/Scores/epoch_163/score.txt\n",
      "epoch:163, test:  val_ACC=0.8844, HTER=0.1155, AUC=0.9347, val_err=0.1156, ACC=0.8844, TPR=0.7587\n"
     ]
    },
    {
     "name": "stderr",
     "output_type": "stream",
     "text": [
      "Epoch 164: 100%|█████████████████████████| 3448/3448 [09:01<00:00,  6.37batch/s]\n"
     ]
    },
    {
     "name": "stdout",
     "output_type": "stream",
     "text": [
      "/////////////////////////\n",
      "adverserial loss :  tensor(7.1345e-08, device='cuda:1', grad_fn=<DivBackward0>)\n",
      "classification loss :  tensor(2.0203e-06, device='cuda:1', grad_fn=<DivBackward0>)\n",
      "classification node loss :  tensor(4.4418e-05, device='cuda:1', grad_fn=<DivBackward0>)\n",
      "total loss :  tensor(4.6510e-05, device='cuda:1', grad_fn=<DivBackward0>)\n",
      "////////////////////////////////////\n",
      "***************************\n",
      "test : \n"
     ]
    },
    {
     "name": "stderr",
     "output_type": "stream",
     "text": [
      "Epoch 164: 100%|███████████████████████████| 243/243 [00:38<00:00,  6.28batch/s]\n"
     ]
    },
    {
     "name": "stdout",
     "output_type": "stream",
     "text": [
      "score: write test scores to /home/hassan-hossein/single_image_graph_face_anti_spoofing/train/Scores/epoch_164/score.txt\n",
      "epoch:164, test:  val_ACC=0.8548, HTER=0.1451, AUC=0.9290, val_err=0.1452, ACC=0.8548, TPR=0.5862\n"
     ]
    },
    {
     "name": "stderr",
     "output_type": "stream",
     "text": [
      "Epoch 165: 100%|█████████████████████████| 3448/3448 [09:04<00:00,  6.34batch/s]\n"
     ]
    },
    {
     "name": "stdout",
     "output_type": "stream",
     "text": [
      "/////////////////////////\n",
      "adverserial loss :  tensor(4.1340e-07, device='cuda:1', grad_fn=<DivBackward0>)\n",
      "classification loss :  tensor(2.1293e-06, device='cuda:1', grad_fn=<DivBackward0>)\n",
      "classification node loss :  tensor(4.3259e-05, device='cuda:1', grad_fn=<DivBackward0>)\n",
      "total loss :  tensor(4.5801e-05, device='cuda:1', grad_fn=<DivBackward0>)\n",
      "////////////////////////////////////\n",
      "***************************\n",
      "test : \n"
     ]
    },
    {
     "name": "stderr",
     "output_type": "stream",
     "text": [
      "Epoch 165: 100%|███████████████████████████| 243/243 [00:39<00:00,  6.23batch/s]\n"
     ]
    },
    {
     "name": "stdout",
     "output_type": "stream",
     "text": [
      "score: write test scores to /home/hassan-hossein/single_image_graph_face_anti_spoofing/train/Scores/epoch_165/score.txt\n",
      "epoch:165, test:  val_ACC=0.8606, HTER=0.1394, AUC=0.9231, val_err=0.1394, ACC=0.8606, TPR=0.6340\n"
     ]
    },
    {
     "name": "stderr",
     "output_type": "stream",
     "text": [
      "Epoch 166: 100%|█████████████████████████| 3448/3448 [09:02<00:00,  6.36batch/s]\n"
     ]
    },
    {
     "name": "stdout",
     "output_type": "stream",
     "text": [
      "/////////////////////////\n",
      "adverserial loss :  tensor(1.0704e-06, device='cuda:1', grad_fn=<DivBackward0>)\n",
      "classification loss :  tensor(5.0979e-07, device='cuda:1', grad_fn=<DivBackward0>)\n",
      "classification node loss :  tensor(4.5203e-05, device='cuda:1', grad_fn=<DivBackward0>)\n",
      "total loss :  tensor(4.6783e-05, device='cuda:1', grad_fn=<DivBackward0>)\n",
      "////////////////////////////////////\n",
      "***************************\n",
      "test : \n"
     ]
    },
    {
     "name": "stderr",
     "output_type": "stream",
     "text": [
      "Epoch 166: 100%|███████████████████████████| 243/243 [00:38<00:00,  6.34batch/s]\n"
     ]
    },
    {
     "name": "stdout",
     "output_type": "stream",
     "text": [
      "score: write test scores to /home/hassan-hossein/single_image_graph_face_anti_spoofing/train/Scores/epoch_166/score.txt\n",
      "epoch:166, test:  val_ACC=0.8660, HTER=0.1340, AUC=0.9292, val_err=0.1340, ACC=0.8660, TPR=0.6358\n"
     ]
    },
    {
     "name": "stderr",
     "output_type": "stream",
     "text": [
      "Epoch 167: 100%|█████████████████████████| 3448/3448 [09:03<00:00,  6.34batch/s]\n"
     ]
    },
    {
     "name": "stdout",
     "output_type": "stream",
     "text": [
      "/////////////////////////\n",
      "adverserial loss :  tensor(3.3171e-07, device='cuda:1', grad_fn=<DivBackward0>)\n",
      "classification loss :  tensor(1.4263e-06, device='cuda:1', grad_fn=<DivBackward0>)\n",
      "classification node loss :  tensor(4.1925e-05, device='cuda:1', grad_fn=<DivBackward0>)\n",
      "total loss :  tensor(4.3683e-05, device='cuda:1', grad_fn=<DivBackward0>)\n",
      "////////////////////////////////////\n",
      "***************************\n",
      "test : \n"
     ]
    },
    {
     "name": "stderr",
     "output_type": "stream",
     "text": [
      "Epoch 167: 100%|███████████████████████████| 243/243 [00:38<00:00,  6.23batch/s]\n"
     ]
    },
    {
     "name": "stdout",
     "output_type": "stream",
     "text": [
      "score: write test scores to /home/hassan-hossein/single_image_graph_face_anti_spoofing/train/Scores/epoch_167/score.txt\n",
      "epoch:167, test:  val_ACC=0.8774, HTER=0.1227, AUC=0.9254, val_err=0.1227, ACC=0.8774, TPR=0.5934\n"
     ]
    },
    {
     "name": "stderr",
     "output_type": "stream",
     "text": [
      "Epoch 168: 100%|█████████████████████████| 3448/3448 [09:02<00:00,  6.35batch/s]\n"
     ]
    },
    {
     "name": "stdout",
     "output_type": "stream",
     "text": [
      "/////////////////////////\n",
      "adverserial loss :  tensor(1.9799e-08, device='cuda:1', grad_fn=<DivBackward0>)\n",
      "classification loss :  tensor(2.3602e-06, device='cuda:1', grad_fn=<DivBackward0>)\n",
      "classification node loss :  tensor(4.3365e-05, device='cuda:1', grad_fn=<DivBackward0>)\n",
      "total loss :  tensor(4.5745e-05, device='cuda:1', grad_fn=<DivBackward0>)\n",
      "////////////////////////////////////\n",
      "***************************\n",
      "test : \n"
     ]
    },
    {
     "name": "stderr",
     "output_type": "stream",
     "text": [
      "Epoch 168: 100%|███████████████████████████| 243/243 [00:39<00:00,  6.20batch/s]\n"
     ]
    },
    {
     "name": "stdout",
     "output_type": "stream",
     "text": [
      "score: write test scores to /home/hassan-hossein/single_image_graph_face_anti_spoofing/train/Scores/epoch_168/score.txt\n",
      "epoch:168, test:  val_ACC=0.8554, HTER=0.1446, AUC=0.9285, val_err=0.1447, ACC=0.8554, TPR=0.5738\n"
     ]
    },
    {
     "name": "stderr",
     "output_type": "stream",
     "text": [
      "Epoch 169: 100%|█████████████████████████| 3448/3448 [09:02<00:00,  6.36batch/s]\n"
     ]
    },
    {
     "name": "stdout",
     "output_type": "stream",
     "text": [
      "/////////////////////////\n",
      "adverserial loss :  tensor(1.9370e-06, device='cuda:1', grad_fn=<DivBackward0>)\n",
      "classification loss :  tensor(6.2091e-07, device='cuda:1', grad_fn=<DivBackward0>)\n",
      "classification node loss :  tensor(4.4242e-05, device='cuda:1', grad_fn=<DivBackward0>)\n",
      "total loss :  tensor(4.6800e-05, device='cuda:1', grad_fn=<DivBackward0>)\n",
      "////////////////////////////////////\n",
      "***************************\n",
      "test : \n"
     ]
    },
    {
     "name": "stderr",
     "output_type": "stream",
     "text": [
      "Epoch 169: 100%|███████████████████████████| 243/243 [00:39<00:00,  6.18batch/s]\n"
     ]
    },
    {
     "name": "stdout",
     "output_type": "stream",
     "text": [
      "score: write test scores to /home/hassan-hossein/single_image_graph_face_anti_spoofing/train/Scores/epoch_169/score.txt\n",
      "epoch:169, test:  val_ACC=0.8656, HTER=0.1345, AUC=0.9323, val_err=0.1345, ACC=0.8656, TPR=0.6520\n"
     ]
    },
    {
     "name": "stderr",
     "output_type": "stream",
     "text": [
      "Epoch 170: 100%|█████████████████████████| 3448/3448 [09:53<00:00,  5.81batch/s]\n"
     ]
    },
    {
     "name": "stdout",
     "output_type": "stream",
     "text": [
      "/////////////////////////\n",
      "adverserial loss :  tensor(9.5133e-09, device='cuda:1', grad_fn=<DivBackward0>)\n",
      "classification loss :  tensor(5.2101e-06, device='cuda:1', grad_fn=<DivBackward0>)\n",
      "classification node loss :  tensor(4.2756e-05, device='cuda:1', grad_fn=<DivBackward0>)\n",
      "total loss :  tensor(4.7975e-05, device='cuda:1', grad_fn=<DivBackward0>)\n",
      "////////////////////////////////////\n",
      "***************************\n",
      "test : \n"
     ]
    },
    {
     "name": "stderr",
     "output_type": "stream",
     "text": [
      "Epoch 170: 100%|███████████████████████████| 243/243 [00:38<00:00,  6.35batch/s]\n"
     ]
    },
    {
     "name": "stdout",
     "output_type": "stream",
     "text": [
      "score: write test scores to /home/hassan-hossein/single_image_graph_face_anti_spoofing/train/Scores/epoch_170/score.txt\n",
      "epoch:170, test:  val_ACC=0.8954, HTER=0.1047, AUC=0.9412, val_err=0.1047, ACC=0.8954, TPR=0.6440\n"
     ]
    },
    {
     "name": "stderr",
     "output_type": "stream",
     "text": [
      "Epoch 171: 100%|█████████████████████████| 3448/3448 [09:02<00:00,  6.36batch/s]\n"
     ]
    },
    {
     "name": "stdout",
     "output_type": "stream",
     "text": [
      "/////////////////////////\n",
      "adverserial loss :  tensor(3.4684e-06, device='cuda:1', grad_fn=<DivBackward0>)\n",
      "classification loss :  tensor(7.9666e-07, device='cuda:1', grad_fn=<DivBackward0>)\n",
      "classification node loss :  tensor(3.9339e-05, device='cuda:1', grad_fn=<DivBackward0>)\n",
      "total loss :  tensor(4.3604e-05, device='cuda:1', grad_fn=<DivBackward0>)\n",
      "////////////////////////////////////\n",
      "***************************\n",
      "test : \n"
     ]
    },
    {
     "name": "stderr",
     "output_type": "stream",
     "text": [
      "Epoch 171: 100%|███████████████████████████| 243/243 [00:38<00:00,  6.29batch/s]\n"
     ]
    },
    {
     "name": "stdout",
     "output_type": "stream",
     "text": [
      "score: write test scores to /home/hassan-hossein/single_image_graph_face_anti_spoofing/train/Scores/epoch_171/score.txt\n",
      "epoch:171, test:  val_ACC=0.8763, HTER=0.1237, AUC=0.9339, val_err=0.1237, ACC=0.8763, TPR=0.6592\n"
     ]
    },
    {
     "name": "stderr",
     "output_type": "stream",
     "text": [
      "Epoch 172: 100%|█████████████████████████| 3448/3448 [09:04<00:00,  6.34batch/s]\n"
     ]
    },
    {
     "name": "stdout",
     "output_type": "stream",
     "text": [
      "/////////////////////////\n",
      "adverserial loss :  tensor(6.1192e-08, device='cuda:1', grad_fn=<DivBackward0>)\n",
      "classification loss :  tensor(6.3432e-07, device='cuda:1', grad_fn=<DivBackward0>)\n",
      "classification node loss :  tensor(4.3397e-05, device='cuda:1', grad_fn=<DivBackward0>)\n",
      "total loss :  tensor(4.4092e-05, device='cuda:1', grad_fn=<DivBackward0>)\n",
      "////////////////////////////////////\n",
      "***************************\n",
      "test : \n"
     ]
    },
    {
     "name": "stderr",
     "output_type": "stream",
     "text": [
      "Epoch 172: 100%|███████████████████████████| 243/243 [00:38<00:00,  6.26batch/s]\n"
     ]
    },
    {
     "name": "stdout",
     "output_type": "stream",
     "text": [
      "score: write test scores to /home/hassan-hossein/single_image_graph_face_anti_spoofing/train/Scores/epoch_172/score.txt\n",
      "epoch:172, test:  val_ACC=0.8421, HTER=0.1579, AUC=0.9195, val_err=0.1580, ACC=0.8421, TPR=0.4442\n"
     ]
    },
    {
     "name": "stderr",
     "output_type": "stream",
     "text": [
      "Epoch 173: 100%|█████████████████████████| 3448/3448 [09:04<00:00,  6.33batch/s]\n"
     ]
    },
    {
     "name": "stdout",
     "output_type": "stream",
     "text": [
      "/////////////////////////\n",
      "adverserial loss :  tensor(1.5990e-08, device='cuda:1', grad_fn=<DivBackward0>)\n",
      "classification loss :  tensor(3.5357e-06, device='cuda:1', grad_fn=<DivBackward0>)\n",
      "classification node loss :  tensor(4.1868e-05, device='cuda:1', grad_fn=<DivBackward0>)\n",
      "total loss :  tensor(4.5420e-05, device='cuda:1', grad_fn=<DivBackward0>)\n",
      "////////////////////////////////////\n",
      "***************************\n",
      "test : \n"
     ]
    },
    {
     "name": "stderr",
     "output_type": "stream",
     "text": [
      "Epoch 173: 100%|███████████████████████████| 243/243 [00:38<00:00,  6.26batch/s]\n"
     ]
    },
    {
     "name": "stdout",
     "output_type": "stream",
     "text": [
      "score: write test scores to /home/hassan-hossein/single_image_graph_face_anti_spoofing/train/Scores/epoch_173/score.txt\n",
      "epoch:173, test:  val_ACC=0.9049, HTER=0.0952, AUC=0.9448, val_err=0.0952, ACC=0.9049, TPR=0.7258\n"
     ]
    },
    {
     "name": "stderr",
     "output_type": "stream",
     "text": [
      "Epoch 174: 100%|█████████████████████████| 3448/3448 [09:04<00:00,  6.33batch/s]\n"
     ]
    },
    {
     "name": "stdout",
     "output_type": "stream",
     "text": [
      "/////////////////////////\n",
      "adverserial loss :  tensor(6.9928e-06, device='cuda:1', grad_fn=<DivBackward0>)\n",
      "classification loss :  tensor(1.8113e-06, device='cuda:1', grad_fn=<DivBackward0>)\n",
      "classification node loss :  tensor(4.7034e-05, device='cuda:1', grad_fn=<DivBackward0>)\n",
      "total loss :  tensor(5.5838e-05, device='cuda:1', grad_fn=<DivBackward0>)\n",
      "////////////////////////////////////\n",
      "***************************\n",
      "test : \n"
     ]
    },
    {
     "name": "stderr",
     "output_type": "stream",
     "text": [
      "Epoch 174: 100%|███████████████████████████| 243/243 [00:38<00:00,  6.23batch/s]\n"
     ]
    },
    {
     "name": "stdout",
     "output_type": "stream",
     "text": [
      "score: write test scores to /home/hassan-hossein/single_image_graph_face_anti_spoofing/train/Scores/epoch_174/score.txt\n",
      "epoch:174, test:  val_ACC=0.8842, HTER=0.1158, AUC=0.9395, val_err=0.1158, ACC=0.8842, TPR=0.6821\n"
     ]
    },
    {
     "name": "stderr",
     "output_type": "stream",
     "text": [
      "Epoch 175: 100%|█████████████████████████| 3448/3448 [09:00<00:00,  6.38batch/s]\n"
     ]
    },
    {
     "name": "stdout",
     "output_type": "stream",
     "text": [
      "/////////////////////////\n",
      "adverserial loss :  tensor(1.0880e-07, device='cuda:1', grad_fn=<DivBackward0>)\n",
      "classification loss :  tensor(2.4254e-06, device='cuda:1', grad_fn=<DivBackward0>)\n",
      "classification node loss :  tensor(5.1462e-05, device='cuda:1', grad_fn=<DivBackward0>)\n",
      "total loss :  tensor(5.3996e-05, device='cuda:1', grad_fn=<DivBackward0>)\n",
      "////////////////////////////////////\n",
      "***************************\n",
      "test : \n"
     ]
    },
    {
     "name": "stderr",
     "output_type": "stream",
     "text": [
      "Epoch 175: 100%|███████████████████████████| 243/243 [00:38<00:00,  6.24batch/s]\n"
     ]
    },
    {
     "name": "stdout",
     "output_type": "stream",
     "text": [
      "score: write test scores to /home/hassan-hossein/single_image_graph_face_anti_spoofing/train/Scores/epoch_175/score.txt\n",
      "epoch:175, test:  val_ACC=0.8871, HTER=0.1129, AUC=0.9390, val_err=0.1129, ACC=0.8871, TPR=0.6746\n"
     ]
    },
    {
     "name": "stderr",
     "output_type": "stream",
     "text": [
      "Epoch 176: 100%|█████████████████████████| 3448/3448 [08:53<00:00,  6.46batch/s]\n"
     ]
    },
    {
     "name": "stdout",
     "output_type": "stream",
     "text": [
      "/////////////////////////\n",
      "adverserial loss :  tensor(1.1355e-06, device='cuda:1', grad_fn=<DivBackward0>)\n",
      "classification loss :  tensor(4.5035e-08, device='cuda:1', grad_fn=<DivBackward0>)\n",
      "classification node loss :  tensor(4.1261e-05, device='cuda:1', grad_fn=<DivBackward0>)\n",
      "total loss :  tensor(4.2442e-05, device='cuda:1', grad_fn=<DivBackward0>)\n",
      "////////////////////////////////////\n",
      "***************************\n",
      "test : \n"
     ]
    },
    {
     "name": "stderr",
     "output_type": "stream",
     "text": [
      "Epoch 176: 100%|███████████████████████████| 243/243 [00:39<00:00,  6.22batch/s]\n"
     ]
    },
    {
     "name": "stdout",
     "output_type": "stream",
     "text": [
      "score: write test scores to /home/hassan-hossein/single_image_graph_face_anti_spoofing/train/Scores/epoch_176/score.txt\n",
      "epoch:176, test:  val_ACC=0.8951, HTER=0.1050, AUC=0.9448, val_err=0.1050, ACC=0.8951, TPR=0.6852\n"
     ]
    },
    {
     "name": "stderr",
     "output_type": "stream",
     "text": [
      "Epoch 177: 100%|█████████████████████████| 3448/3448 [08:52<00:00,  6.47batch/s]\n"
     ]
    },
    {
     "name": "stdout",
     "output_type": "stream",
     "text": [
      "/////////////////////////\n",
      "adverserial loss :  tensor(1.1935e-07, device='cuda:1', grad_fn=<DivBackward0>)\n",
      "classification loss :  tensor(2.2281e-06, device='cuda:1', grad_fn=<DivBackward0>)\n",
      "classification node loss :  tensor(4.2408e-05, device='cuda:1', grad_fn=<DivBackward0>)\n",
      "total loss :  tensor(4.4756e-05, device='cuda:1', grad_fn=<DivBackward0>)\n",
      "////////////////////////////////////\n",
      "***************************\n",
      "test : \n"
     ]
    },
    {
     "name": "stderr",
     "output_type": "stream",
     "text": [
      "Epoch 177: 100%|███████████████████████████| 243/243 [00:39<00:00,  6.08batch/s]\n"
     ]
    },
    {
     "name": "stdout",
     "output_type": "stream",
     "text": [
      "score: write test scores to /home/hassan-hossein/single_image_graph_face_anti_spoofing/train/Scores/epoch_177/score.txt\n",
      "epoch:177, test:  val_ACC=0.9022, HTER=0.0977, AUC=0.9466, val_err=0.0978, ACC=0.9022, TPR=0.6893\n"
     ]
    },
    {
     "name": "stderr",
     "output_type": "stream",
     "text": [
      "Epoch 178: 100%|█████████████████████████| 3448/3448 [08:54<00:00,  6.46batch/s]\n"
     ]
    },
    {
     "name": "stdout",
     "output_type": "stream",
     "text": [
      "/////////////////////////\n",
      "adverserial loss :  tensor(1.6376e-06, device='cuda:1', grad_fn=<DivBackward0>)\n",
      "classification loss :  tensor(2.9476e-06, device='cuda:1', grad_fn=<DivBackward0>)\n",
      "classification node loss :  tensor(4.2377e-05, device='cuda:1', grad_fn=<DivBackward0>)\n",
      "total loss :  tensor(4.6962e-05, device='cuda:1', grad_fn=<DivBackward0>)\n",
      "////////////////////////////////////\n",
      "***************************\n",
      "test : \n"
     ]
    },
    {
     "name": "stderr",
     "output_type": "stream",
     "text": [
      "Epoch 178: 100%|███████████████████████████| 243/243 [00:38<00:00,  6.26batch/s]\n"
     ]
    },
    {
     "name": "stdout",
     "output_type": "stream",
     "text": [
      "score: write test scores to /home/hassan-hossein/single_image_graph_face_anti_spoofing/train/Scores/epoch_178/score.txt\n",
      "epoch:178, test:  val_ACC=0.8726, HTER=0.1274, AUC=0.9263, val_err=0.1274, ACC=0.8726, TPR=0.5512\n"
     ]
    },
    {
     "name": "stderr",
     "output_type": "stream",
     "text": [
      "Epoch 179: 100%|█████████████████████████| 3448/3448 [08:52<00:00,  6.48batch/s]\n"
     ]
    },
    {
     "name": "stdout",
     "output_type": "stream",
     "text": [
      "/////////////////////////\n",
      "adverserial loss :  tensor(7.2196e-08, device='cuda:1', grad_fn=<DivBackward0>)\n",
      "classification loss :  tensor(3.2391e-06, device='cuda:1', grad_fn=<DivBackward0>)\n",
      "classification node loss :  tensor(3.8196e-05, device='cuda:1', grad_fn=<DivBackward0>)\n",
      "total loss :  tensor(4.1508e-05, device='cuda:1', grad_fn=<DivBackward0>)\n",
      "////////////////////////////////////\n",
      "***************************\n",
      "test : \n"
     ]
    },
    {
     "name": "stderr",
     "output_type": "stream",
     "text": [
      "Epoch 179: 100%|███████████████████████████| 243/243 [00:38<00:00,  6.33batch/s]\n"
     ]
    },
    {
     "name": "stdout",
     "output_type": "stream",
     "text": [
      "score: write test scores to /home/hassan-hossein/single_image_graph_face_anti_spoofing/train/Scores/epoch_179/score.txt\n",
      "epoch:179, test:  val_ACC=0.8871, HTER=0.1129, AUC=0.9450, val_err=0.1129, ACC=0.8871, TPR=0.6875\n"
     ]
    },
    {
     "name": "stderr",
     "output_type": "stream",
     "text": [
      "Epoch 180: 100%|█████████████████████████| 3448/3448 [08:52<00:00,  6.47batch/s]\n"
     ]
    },
    {
     "name": "stdout",
     "output_type": "stream",
     "text": [
      "/////////////////////////\n",
      "adverserial loss :  tensor(9.1297e-08, device='cuda:1', grad_fn=<DivBackward0>)\n",
      "classification loss :  tensor(1.2245e-06, device='cuda:1', grad_fn=<DivBackward0>)\n",
      "classification node loss :  tensor(4.5156e-05, device='cuda:1', grad_fn=<DivBackward0>)\n",
      "total loss :  tensor(4.6471e-05, device='cuda:1', grad_fn=<DivBackward0>)\n",
      "////////////////////////////////////\n",
      "***************************\n",
      "test : \n"
     ]
    },
    {
     "name": "stderr",
     "output_type": "stream",
     "text": [
      "Epoch 180: 100%|███████████████████████████| 243/243 [00:38<00:00,  6.25batch/s]\n"
     ]
    },
    {
     "name": "stdout",
     "output_type": "stream",
     "text": [
      "score: write test scores to /home/hassan-hossein/single_image_graph_face_anti_spoofing/train/Scores/epoch_180/score.txt\n",
      "epoch:180, test:  val_ACC=0.8742, HTER=0.1258, AUC=0.9404, val_err=0.1258, ACC=0.8742, TPR=0.6289\n"
     ]
    },
    {
     "name": "stderr",
     "output_type": "stream",
     "text": [
      "Epoch 181: 100%|█████████████████████████| 3448/3448 [08:52<00:00,  6.47batch/s]\n"
     ]
    },
    {
     "name": "stdout",
     "output_type": "stream",
     "text": [
      "/////////////////////////\n",
      "adverserial loss :  tensor(3.8311e-08, device='cuda:1', grad_fn=<DivBackward0>)\n",
      "classification loss :  tensor(2.4311e-06, device='cuda:1', grad_fn=<DivBackward0>)\n",
      "classification node loss :  tensor(3.9923e-05, device='cuda:1', grad_fn=<DivBackward0>)\n",
      "total loss :  tensor(4.2392e-05, device='cuda:1', grad_fn=<DivBackward0>)\n",
      "////////////////////////////////////\n",
      "***************************\n",
      "test : \n"
     ]
    },
    {
     "name": "stderr",
     "output_type": "stream",
     "text": [
      "Epoch 181: 100%|███████████████████████████| 243/243 [00:39<00:00,  6.18batch/s]\n"
     ]
    },
    {
     "name": "stdout",
     "output_type": "stream",
     "text": [
      "score: write test scores to /home/hassan-hossein/single_image_graph_face_anti_spoofing/train/Scores/epoch_181/score.txt\n",
      "epoch:181, test:  val_ACC=0.8850, HTER=0.1150, AUC=0.9488, val_err=0.1150, ACC=0.8850, TPR=0.6628\n"
     ]
    },
    {
     "name": "stderr",
     "output_type": "stream",
     "text": [
      "Epoch 182: 100%|█████████████████████████| 3448/3448 [08:54<00:00,  6.45batch/s]\n"
     ]
    },
    {
     "name": "stdout",
     "output_type": "stream",
     "text": [
      "/////////////////////////\n",
      "adverserial loss :  tensor(5.3291e-07, device='cuda:1', grad_fn=<DivBackward0>)\n",
      "classification loss :  tensor(1.0819e-06, device='cuda:1', grad_fn=<DivBackward0>)\n",
      "classification node loss :  tensor(3.8991e-05, device='cuda:1', grad_fn=<DivBackward0>)\n",
      "total loss :  tensor(4.0606e-05, device='cuda:1', grad_fn=<DivBackward0>)\n",
      "////////////////////////////////////\n",
      "***************************\n",
      "test : \n"
     ]
    },
    {
     "name": "stderr",
     "output_type": "stream",
     "text": [
      "Epoch 182: 100%|███████████████████████████| 243/243 [00:39<00:00,  6.18batch/s]\n"
     ]
    },
    {
     "name": "stdout",
     "output_type": "stream",
     "text": [
      "score: write test scores to /home/hassan-hossein/single_image_graph_face_anti_spoofing/train/Scores/epoch_182/score.txt\n",
      "epoch:182, test:  val_ACC=0.8938, HTER=0.1062, AUC=0.9502, val_err=0.1063, ACC=0.8938, TPR=0.6520\n"
     ]
    },
    {
     "name": "stderr",
     "output_type": "stream",
     "text": [
      "Epoch 183: 100%|█████████████████████████| 3448/3448 [08:54<00:00,  6.46batch/s]\n"
     ]
    },
    {
     "name": "stdout",
     "output_type": "stream",
     "text": [
      "/////////////////////////\n",
      "adverserial loss :  tensor(1.2013e-06, device='cuda:1', grad_fn=<DivBackward0>)\n",
      "classification loss :  tensor(1.5812e-06, device='cuda:1', grad_fn=<DivBackward0>)\n",
      "classification node loss :  tensor(3.5429e-05, device='cuda:1', grad_fn=<DivBackward0>)\n",
      "total loss :  tensor(3.8211e-05, device='cuda:1', grad_fn=<DivBackward0>)\n",
      "////////////////////////////////////\n",
      "***************************\n",
      "test : \n"
     ]
    },
    {
     "name": "stderr",
     "output_type": "stream",
     "text": [
      "Epoch 183: 100%|███████████████████████████| 243/243 [00:38<00:00,  6.24batch/s]\n"
     ]
    },
    {
     "name": "stdout",
     "output_type": "stream",
     "text": [
      "score: write test scores to /home/hassan-hossein/single_image_graph_face_anti_spoofing/train/Scores/epoch_183/score.txt\n",
      "epoch:183, test:  val_ACC=0.8837, HTER=0.1163, AUC=0.9448, val_err=0.1164, ACC=0.8837, TPR=0.5746\n"
     ]
    },
    {
     "name": "stderr",
     "output_type": "stream",
     "text": [
      "Epoch 184: 100%|█████████████████████████| 3448/3448 [08:52<00:00,  6.48batch/s]\n"
     ]
    },
    {
     "name": "stdout",
     "output_type": "stream",
     "text": [
      "/////////////////////////\n",
      "adverserial loss :  tensor(1.2926e-06, device='cuda:1', grad_fn=<DivBackward0>)\n",
      "classification loss :  tensor(1.5963e-06, device='cuda:1', grad_fn=<DivBackward0>)\n",
      "classification node loss :  tensor(4.0208e-05, device='cuda:1', grad_fn=<DivBackward0>)\n",
      "total loss :  tensor(4.3097e-05, device='cuda:1', grad_fn=<DivBackward0>)\n",
      "////////////////////////////////////\n",
      "***************************\n",
      "test : \n"
     ]
    },
    {
     "name": "stderr",
     "output_type": "stream",
     "text": [
      "Epoch 184: 100%|███████████████████████████| 243/243 [00:38<00:00,  6.27batch/s]\n"
     ]
    },
    {
     "name": "stdout",
     "output_type": "stream",
     "text": [
      "score: write test scores to /home/hassan-hossein/single_image_graph_face_anti_spoofing/train/Scores/epoch_184/score.txt\n",
      "epoch:184, test:  val_ACC=0.9182, HTER=0.0818, AUC=0.9678, val_err=0.0818, ACC=0.9182, TPR=0.7917\n"
     ]
    },
    {
     "name": "stderr",
     "output_type": "stream",
     "text": [
      "Epoch 185: 100%|█████████████████████████| 3448/3448 [08:52<00:00,  6.48batch/s]\n"
     ]
    },
    {
     "name": "stdout",
     "output_type": "stream",
     "text": [
      "/////////////////////////\n",
      "adverserial loss :  tensor(1.3385e-08, device='cuda:1', grad_fn=<DivBackward0>)\n",
      "classification loss :  tensor(1.4110e-06, device='cuda:1', grad_fn=<DivBackward0>)\n",
      "classification node loss :  tensor(4.0976e-05, device='cuda:1', grad_fn=<DivBackward0>)\n",
      "total loss :  tensor(4.2400e-05, device='cuda:1', grad_fn=<DivBackward0>)\n",
      "////////////////////////////////////\n",
      "***************************\n",
      "test : \n"
     ]
    },
    {
     "name": "stderr",
     "output_type": "stream",
     "text": [
      "Epoch 185: 100%|███████████████████████████| 243/243 [00:38<00:00,  6.31batch/s]\n"
     ]
    },
    {
     "name": "stdout",
     "output_type": "stream",
     "text": [
      "score: write test scores to /home/hassan-hossein/single_image_graph_face_anti_spoofing/train/Scores/epoch_185/score.txt\n",
      "epoch:185, test:  val_ACC=0.8929, HTER=0.1071, AUC=0.9514, val_err=0.1071, ACC=0.8929, TPR=0.7665\n"
     ]
    },
    {
     "name": "stderr",
     "output_type": "stream",
     "text": [
      "Epoch 186: 100%|█████████████████████████| 3448/3448 [08:53<00:00,  6.46batch/s]\n"
     ]
    },
    {
     "name": "stdout",
     "output_type": "stream",
     "text": [
      "/////////////////////////\n",
      "adverserial loss :  tensor(8.7613e-08, device='cuda:1', grad_fn=<DivBackward0>)\n",
      "classification loss :  tensor(1.5117e-06, device='cuda:1', grad_fn=<DivBackward0>)\n",
      "classification node loss :  tensor(4.0234e-05, device='cuda:1', grad_fn=<DivBackward0>)\n",
      "total loss :  tensor(4.1834e-05, device='cuda:1', grad_fn=<DivBackward0>)\n",
      "////////////////////////////////////\n",
      "***************************\n",
      "test : \n"
     ]
    },
    {
     "name": "stderr",
     "output_type": "stream",
     "text": [
      "Epoch 186: 100%|███████████████████████████| 243/243 [00:39<00:00,  6.18batch/s]\n"
     ]
    },
    {
     "name": "stdout",
     "output_type": "stream",
     "text": [
      "score: write test scores to /home/hassan-hossein/single_image_graph_face_anti_spoofing/train/Scores/epoch_186/score.txt\n",
      "epoch:186, test:  val_ACC=0.8892, HTER=0.1108, AUC=0.9493, val_err=0.1108, ACC=0.8892, TPR=0.6723\n"
     ]
    },
    {
     "name": "stderr",
     "output_type": "stream",
     "text": [
      "Epoch 187: 100%|█████████████████████████| 3448/3448 [08:52<00:00,  6.48batch/s]\n"
     ]
    },
    {
     "name": "stdout",
     "output_type": "stream",
     "text": [
      "/////////////////////////\n",
      "adverserial loss :  tensor(1.9221e-06, device='cuda:1', grad_fn=<DivBackward0>)\n",
      "classification loss :  tensor(2.6368e-06, device='cuda:1', grad_fn=<DivBackward0>)\n",
      "classification node loss :  tensor(4.2883e-05, device='cuda:1', grad_fn=<DivBackward0>)\n",
      "total loss :  tensor(4.7442e-05, device='cuda:1', grad_fn=<DivBackward0>)\n",
      "////////////////////////////////////\n",
      "***************************\n",
      "test : \n"
     ]
    },
    {
     "name": "stderr",
     "output_type": "stream",
     "text": [
      "Epoch 187: 100%|███████████████████████████| 243/243 [00:38<00:00,  6.25batch/s]\n"
     ]
    },
    {
     "name": "stdout",
     "output_type": "stream",
     "text": [
      "score: write test scores to /home/hassan-hossein/single_image_graph_face_anti_spoofing/train/Scores/epoch_187/score.txt\n",
      "epoch:187, test:  val_ACC=0.9111, HTER=0.0890, AUC=0.9610, val_err=0.0890, ACC=0.9111, TPR=0.8377\n"
     ]
    },
    {
     "name": "stderr",
     "output_type": "stream",
     "text": [
      "Epoch 188: 100%|█████████████████████████| 3448/3448 [08:53<00:00,  6.46batch/s]\n"
     ]
    },
    {
     "name": "stdout",
     "output_type": "stream",
     "text": [
      "/////////////////////////\n",
      "adverserial loss :  tensor(1.0413e-06, device='cuda:1', grad_fn=<DivBackward0>)\n",
      "classification loss :  tensor(4.1650e-08, device='cuda:1', grad_fn=<DivBackward0>)\n",
      "classification node loss :  tensor(3.4052e-05, device='cuda:1', grad_fn=<DivBackward0>)\n",
      "total loss :  tensor(3.5135e-05, device='cuda:1', grad_fn=<DivBackward0>)\n",
      "////////////////////////////////////\n",
      "***************************\n",
      "test : \n"
     ]
    },
    {
     "name": "stderr",
     "output_type": "stream",
     "text": [
      "Epoch 188: 100%|███████████████████████████| 243/243 [00:38<00:00,  6.25batch/s]\n"
     ]
    },
    {
     "name": "stdout",
     "output_type": "stream",
     "text": [
      "score: write test scores to /home/hassan-hossein/single_image_graph_face_anti_spoofing/train/Scores/epoch_188/score.txt\n",
      "epoch:188, test:  val_ACC=0.9131, HTER=0.0869, AUC=0.9551, val_err=0.0870, ACC=0.9131, TPR=0.7392\n"
     ]
    },
    {
     "name": "stderr",
     "output_type": "stream",
     "text": [
      "Epoch 189: 100%|█████████████████████████| 3448/3448 [08:52<00:00,  6.47batch/s]\n"
     ]
    },
    {
     "name": "stdout",
     "output_type": "stream",
     "text": [
      "/////////////////////////\n",
      "adverserial loss :  tensor(7.6441e-09, device='cuda:1', grad_fn=<DivBackward0>)\n",
      "classification loss :  tensor(2.1677e-08, device='cuda:1', grad_fn=<DivBackward0>)\n",
      "classification node loss :  tensor(4.3798e-05, device='cuda:1', grad_fn=<DivBackward0>)\n",
      "total loss :  tensor(4.3827e-05, device='cuda:1', grad_fn=<DivBackward0>)\n",
      "////////////////////////////////////\n",
      "***************************\n",
      "test : \n"
     ]
    },
    {
     "name": "stderr",
     "output_type": "stream",
     "text": [
      "Epoch 189: 100%|███████████████████████████| 243/243 [00:39<00:00,  6.12batch/s]\n"
     ]
    },
    {
     "name": "stdout",
     "output_type": "stream",
     "text": [
      "score: write test scores to /home/hassan-hossein/single_image_graph_face_anti_spoofing/train/Scores/epoch_189/score.txt\n",
      "epoch:189, test:  val_ACC=0.8993, HTER=0.1008, AUC=0.9478, val_err=0.1008, ACC=0.8993, TPR=0.7693\n"
     ]
    },
    {
     "name": "stderr",
     "output_type": "stream",
     "text": [
      "Epoch 190: 100%|█████████████████████████| 3448/3448 [08:52<00:00,  6.48batch/s]\n"
     ]
    },
    {
     "name": "stdout",
     "output_type": "stream",
     "text": [
      "/////////////////////////\n",
      "adverserial loss :  tensor(9.0694e-07, device='cuda:1', grad_fn=<DivBackward0>)\n",
      "classification loss :  tensor(3.9445e-06, device='cuda:1', grad_fn=<DivBackward0>)\n",
      "classification node loss :  tensor(3.4651e-05, device='cuda:1', grad_fn=<DivBackward0>)\n",
      "total loss :  tensor(3.9502e-05, device='cuda:1', grad_fn=<DivBackward0>)\n",
      "////////////////////////////////////\n",
      "***************************\n",
      "test : \n"
     ]
    },
    {
     "name": "stderr",
     "output_type": "stream",
     "text": [
      "Epoch 190: 100%|███████████████████████████| 243/243 [00:38<00:00,  6.28batch/s]\n"
     ]
    },
    {
     "name": "stdout",
     "output_type": "stream",
     "text": [
      "score: write test scores to /home/hassan-hossein/single_image_graph_face_anti_spoofing/train/Scores/epoch_190/score.txt\n",
      "epoch:190, test:  val_ACC=0.8822, HTER=0.1178, AUC=0.9508, val_err=0.1178, ACC=0.8822, TPR=0.6793\n"
     ]
    },
    {
     "name": "stderr",
     "output_type": "stream",
     "text": [
      "Epoch 191: 100%|█████████████████████████| 3448/3448 [08:53<00:00,  6.46batch/s]\n"
     ]
    },
    {
     "name": "stdout",
     "output_type": "stream",
     "text": [
      "/////////////////////////\n",
      "adverserial loss :  tensor(9.6048e-07, device='cuda:1', grad_fn=<DivBackward0>)\n",
      "classification loss :  tensor(1.0069e-06, device='cuda:1', grad_fn=<DivBackward0>)\n",
      "classification node loss :  tensor(4.4013e-05, device='cuda:1', grad_fn=<DivBackward0>)\n",
      "total loss :  tensor(4.5980e-05, device='cuda:1', grad_fn=<DivBackward0>)\n",
      "////////////////////////////////////\n",
      "***************************\n",
      "test : \n"
     ]
    },
    {
     "name": "stderr",
     "output_type": "stream",
     "text": [
      "Epoch 191: 100%|███████████████████████████| 243/243 [00:39<00:00,  6.22batch/s]\n"
     ]
    },
    {
     "name": "stdout",
     "output_type": "stream",
     "text": [
      "score: write test scores to /home/hassan-hossein/single_image_graph_face_anti_spoofing/train/Scores/epoch_191/score.txt\n",
      "epoch:191, test:  val_ACC=0.8818, HTER=0.1183, AUC=0.9265, val_err=0.1183, ACC=0.8818, TPR=0.0000\n"
     ]
    },
    {
     "name": "stderr",
     "output_type": "stream",
     "text": [
      "Epoch 192: 100%|█████████████████████████| 3448/3448 [08:52<00:00,  6.48batch/s]\n"
     ]
    },
    {
     "name": "stdout",
     "output_type": "stream",
     "text": [
      "/////////////////////////\n",
      "adverserial loss :  tensor(2.3631e-07, device='cuda:1', grad_fn=<DivBackward0>)\n",
      "classification loss :  tensor(4.0867e-06, device='cuda:1', grad_fn=<DivBackward0>)\n",
      "classification node loss :  tensor(3.4755e-05, device='cuda:1', grad_fn=<DivBackward0>)\n",
      "total loss :  tensor(3.9078e-05, device='cuda:1', grad_fn=<DivBackward0>)\n",
      "////////////////////////////////////\n",
      "***************************\n",
      "test : \n"
     ]
    },
    {
     "name": "stderr",
     "output_type": "stream",
     "text": [
      "Epoch 192: 100%|███████████████████████████| 243/243 [00:38<00:00,  6.28batch/s]\n"
     ]
    },
    {
     "name": "stdout",
     "output_type": "stream",
     "text": [
      "score: write test scores to /home/hassan-hossein/single_image_graph_face_anti_spoofing/train/Scores/epoch_192/score.txt\n",
      "epoch:192, test:  val_ACC=0.8687, HTER=0.1312, AUC=0.9356, val_err=0.1313, ACC=0.8687, TPR=0.6368\n"
     ]
    },
    {
     "name": "stderr",
     "output_type": "stream",
     "text": [
      "Epoch 193: 100%|█████████████████████████| 3448/3448 [08:53<00:00,  6.46batch/s]\n"
     ]
    },
    {
     "name": "stdout",
     "output_type": "stream",
     "text": [
      "/////////////////////////\n",
      "adverserial loss :  tensor(1.0822e-07, device='cuda:1', grad_fn=<DivBackward0>)\n",
      "classification loss :  tensor(1.6650e-06, device='cuda:1', grad_fn=<DivBackward0>)\n",
      "classification node loss :  tensor(3.8381e-05, device='cuda:1', grad_fn=<DivBackward0>)\n",
      "total loss :  tensor(4.0154e-05, device='cuda:1', grad_fn=<DivBackward0>)\n",
      "////////////////////////////////////\n",
      "***************************\n",
      "test : \n"
     ]
    },
    {
     "name": "stderr",
     "output_type": "stream",
     "text": [
      "Epoch 193: 100%|███████████████████████████| 243/243 [00:40<00:00,  6.05batch/s]\n"
     ]
    },
    {
     "name": "stdout",
     "output_type": "stream",
     "text": [
      "score: write test scores to /home/hassan-hossein/single_image_graph_face_anti_spoofing/train/Scores/epoch_193/score.txt\n",
      "epoch:193, test:  val_ACC=0.8750, HTER=0.1250, AUC=0.9427, val_err=0.1249, ACC=0.8750, TPR=0.6631\n"
     ]
    },
    {
     "name": "stderr",
     "output_type": "stream",
     "text": [
      "Epoch 194: 100%|█████████████████████████| 3448/3448 [08:52<00:00,  6.47batch/s]\n"
     ]
    },
    {
     "name": "stdout",
     "output_type": "stream",
     "text": [
      "/////////////////////////\n",
      "adverserial loss :  tensor(5.4153e-07, device='cuda:1', grad_fn=<DivBackward0>)\n",
      "classification loss :  tensor(1.6127e-06, device='cuda:1', grad_fn=<DivBackward0>)\n",
      "classification node loss :  tensor(4.2671e-05, device='cuda:1', grad_fn=<DivBackward0>)\n",
      "total loss :  tensor(4.4826e-05, device='cuda:1', grad_fn=<DivBackward0>)\n",
      "////////////////////////////////////\n",
      "***************************\n",
      "test : \n"
     ]
    },
    {
     "name": "stderr",
     "output_type": "stream",
     "text": [
      "Epoch 194: 100%|███████████████████████████| 243/243 [00:38<00:00,  6.31batch/s]\n"
     ]
    },
    {
     "name": "stdout",
     "output_type": "stream",
     "text": [
      "score: write test scores to /home/hassan-hossein/single_image_graph_face_anti_spoofing/train/Scores/epoch_194/score.txt\n",
      "epoch:194, test:  val_ACC=0.8802, HTER=0.1199, AUC=0.9518, val_err=0.1199, ACC=0.8802, TPR=0.7019\n"
     ]
    },
    {
     "name": "stderr",
     "output_type": "stream",
     "text": [
      "Epoch 195: 100%|█████████████████████████| 3448/3448 [08:52<00:00,  6.48batch/s]\n"
     ]
    },
    {
     "name": "stdout",
     "output_type": "stream",
     "text": [
      "/////////////////////////\n",
      "adverserial loss :  tensor(4.1857e-08, device='cuda:1', grad_fn=<DivBackward0>)\n",
      "classification loss :  tensor(1.0079e-06, device='cuda:1', grad_fn=<DivBackward0>)\n",
      "classification node loss :  tensor(4.2019e-05, device='cuda:1', grad_fn=<DivBackward0>)\n",
      "total loss :  tensor(4.3068e-05, device='cuda:1', grad_fn=<DivBackward0>)\n",
      "////////////////////////////////////\n",
      "***************************\n",
      "test : \n"
     ]
    },
    {
     "name": "stderr",
     "output_type": "stream",
     "text": [
      "Epoch 195: 100%|███████████████████████████| 243/243 [00:39<00:00,  6.15batch/s]\n"
     ]
    },
    {
     "name": "stdout",
     "output_type": "stream",
     "text": [
      "score: write test scores to /home/hassan-hossein/single_image_graph_face_anti_spoofing/train/Scores/epoch_195/score.txt\n",
      "epoch:195, test:  val_ACC=0.8957, HTER=0.1044, AUC=0.9581, val_err=0.1044, ACC=0.8957, TPR=0.7731\n"
     ]
    },
    {
     "name": "stderr",
     "output_type": "stream",
     "text": [
      "Epoch 196: 100%|█████████████████████████| 3448/3448 [08:53<00:00,  6.47batch/s]\n"
     ]
    },
    {
     "name": "stdout",
     "output_type": "stream",
     "text": [
      "/////////////////////////\n",
      "adverserial loss :  tensor(2.4033e-09, device='cuda:1', grad_fn=<DivBackward0>)\n",
      "classification loss :  tensor(6.3936e-08, device='cuda:1', grad_fn=<DivBackward0>)\n",
      "classification node loss :  tensor(3.6773e-05, device='cuda:1', grad_fn=<DivBackward0>)\n",
      "total loss :  tensor(3.6839e-05, device='cuda:1', grad_fn=<DivBackward0>)\n",
      "////////////////////////////////////\n",
      "***************************\n",
      "test : \n"
     ]
    },
    {
     "name": "stderr",
     "output_type": "stream",
     "text": [
      "Epoch 196: 100%|███████████████████████████| 243/243 [00:39<00:00,  6.09batch/s]\n"
     ]
    },
    {
     "name": "stdout",
     "output_type": "stream",
     "text": [
      "score: write test scores to /home/hassan-hossein/single_image_graph_face_anti_spoofing/train/Scores/epoch_196/score.txt\n",
      "epoch:196, test:  val_ACC=0.8757, HTER=0.1243, AUC=0.9398, val_err=0.1243, ACC=0.8757, TPR=0.7029\n"
     ]
    },
    {
     "name": "stderr",
     "output_type": "stream",
     "text": [
      "Epoch 197: 100%|█████████████████████████| 3448/3448 [09:01<00:00,  6.36batch/s]\n"
     ]
    },
    {
     "name": "stdout",
     "output_type": "stream",
     "text": [
      "/////////////////////////\n",
      "adverserial loss :  tensor(4.2169e-06, device='cuda:1', grad_fn=<DivBackward0>)\n",
      "classification loss :  tensor(4.0223e-06, device='cuda:1', grad_fn=<DivBackward0>)\n",
      "classification node loss :  tensor(3.6730e-05, device='cuda:1', grad_fn=<DivBackward0>)\n",
      "total loss :  tensor(4.4969e-05, device='cuda:1', grad_fn=<DivBackward0>)\n",
      "////////////////////////////////////\n",
      "***************************\n",
      "test : \n"
     ]
    },
    {
     "name": "stderr",
     "output_type": "stream",
     "text": [
      "Epoch 197: 100%|███████████████████████████| 243/243 [00:39<00:00,  6.18batch/s]\n"
     ]
    },
    {
     "name": "stdout",
     "output_type": "stream",
     "text": [
      "score: write test scores to /home/hassan-hossein/single_image_graph_face_anti_spoofing/train/Scores/epoch_197/score.txt\n",
      "epoch:197, test:  val_ACC=0.9062, HTER=0.0939, AUC=0.9529, val_err=0.0939, ACC=0.9062, TPR=0.7690\n"
     ]
    },
    {
     "name": "stderr",
     "output_type": "stream",
     "text": [
      "Epoch 198: 100%|█████████████████████████| 3448/3448 [08:59<00:00,  6.39batch/s]\n"
     ]
    },
    {
     "name": "stdout",
     "output_type": "stream",
     "text": [
      "/////////////////////////\n",
      "adverserial loss :  tensor(4.7882e-08, device='cuda:1', grad_fn=<DivBackward0>)\n",
      "classification loss :  tensor(3.8563e-07, device='cuda:1', grad_fn=<DivBackward0>)\n",
      "classification node loss :  tensor(3.7432e-05, device='cuda:1', grad_fn=<DivBackward0>)\n",
      "total loss :  tensor(3.7865e-05, device='cuda:1', grad_fn=<DivBackward0>)\n",
      "////////////////////////////////////\n",
      "***************************\n",
      "test : \n"
     ]
    },
    {
     "name": "stderr",
     "output_type": "stream",
     "text": [
      "Epoch 198: 100%|███████████████████████████| 243/243 [00:38<00:00,  6.25batch/s]\n"
     ]
    },
    {
     "name": "stdout",
     "output_type": "stream",
     "text": [
      "score: write test scores to /home/hassan-hossein/single_image_graph_face_anti_spoofing/train/Scores/epoch_198/score.txt\n",
      "epoch:198, test:  val_ACC=0.9066, HTER=0.0934, AUC=0.9516, val_err=0.0935, ACC=0.9066, TPR=0.6983\n"
     ]
    },
    {
     "name": "stderr",
     "output_type": "stream",
     "text": [
      "Epoch 199: 100%|█████████████████████████| 3448/3448 [08:58<00:00,  6.40batch/s]\n"
     ]
    },
    {
     "name": "stdout",
     "output_type": "stream",
     "text": [
      "/////////////////////////\n",
      "adverserial loss :  tensor(1.0204e-07, device='cuda:1', grad_fn=<DivBackward0>)\n",
      "classification loss :  tensor(2.9751e-06, device='cuda:1', grad_fn=<DivBackward0>)\n",
      "classification node loss :  tensor(3.9443e-05, device='cuda:1', grad_fn=<DivBackward0>)\n",
      "total loss :  tensor(4.2520e-05, device='cuda:1', grad_fn=<DivBackward0>)\n",
      "////////////////////////////////////\n",
      "***************************\n",
      "test : \n"
     ]
    },
    {
     "name": "stderr",
     "output_type": "stream",
     "text": [
      "Epoch 199: 100%|███████████████████████████| 243/243 [00:39<00:00,  6.21batch/s]\n"
     ]
    },
    {
     "name": "stdout",
     "output_type": "stream",
     "text": [
      "score: write test scores to /home/hassan-hossein/single_image_graph_face_anti_spoofing/train/Scores/epoch_199/score.txt\n",
      "epoch:199, test:  val_ACC=0.9004, HTER=0.0996, AUC=0.9587, val_err=0.0996, ACC=0.9004, TPR=0.7937\n"
     ]
    },
    {
     "name": "stderr",
     "output_type": "stream",
     "text": [
      "Epoch 200: 100%|█████████████████████████| 3448/3448 [09:00<00:00,  6.38batch/s]\n"
     ]
    },
    {
     "name": "stdout",
     "output_type": "stream",
     "text": [
      "/////////////////////////\n",
      "adverserial loss :  tensor(6.9873e-09, device='cuda:1', grad_fn=<DivBackward0>)\n",
      "classification loss :  tensor(8.2350e-08, device='cuda:1', grad_fn=<DivBackward0>)\n",
      "classification node loss :  tensor(3.6750e-05, device='cuda:1', grad_fn=<DivBackward0>)\n",
      "total loss :  tensor(3.6839e-05, device='cuda:1', grad_fn=<DivBackward0>)\n",
      "////////////////////////////////////\n",
      "***************************\n",
      "test : \n"
     ]
    },
    {
     "name": "stderr",
     "output_type": "stream",
     "text": [
      "Epoch 200: 100%|███████████████████████████| 243/243 [00:38<00:00,  6.26batch/s]\n"
     ]
    },
    {
     "name": "stdout",
     "output_type": "stream",
     "text": [
      "score: write test scores to /home/hassan-hossein/single_image_graph_face_anti_spoofing/train/Scores/epoch_200/score.txt\n",
      "epoch:200, test:  val_ACC=0.8844, HTER=0.1155, AUC=0.9517, val_err=0.1156, ACC=0.8844, TPR=0.6829\n"
     ]
    },
    {
     "name": "stderr",
     "output_type": "stream",
     "text": [
      "Epoch 201: 100%|█████████████████████████| 3448/3448 [08:59<00:00,  6.39batch/s]\n"
     ]
    },
    {
     "name": "stdout",
     "output_type": "stream",
     "text": [
      "/////////////////////////\n",
      "adverserial loss :  tensor(5.8389e-07, device='cuda:1', grad_fn=<DivBackward0>)\n",
      "classification loss :  tensor(3.1444e-06, device='cuda:1', grad_fn=<DivBackward0>)\n",
      "classification node loss :  tensor(3.5631e-05, device='cuda:1', grad_fn=<DivBackward0>)\n",
      "total loss :  tensor(3.9359e-05, device='cuda:1', grad_fn=<DivBackward0>)\n",
      "////////////////////////////////////\n",
      "***************************\n",
      "test : \n"
     ]
    },
    {
     "name": "stderr",
     "output_type": "stream",
     "text": [
      "Epoch 201: 100%|███████████████████████████| 243/243 [00:38<00:00,  6.24batch/s]\n"
     ]
    },
    {
     "name": "stdout",
     "output_type": "stream",
     "text": [
      "score: write test scores to /home/hassan-hossein/single_image_graph_face_anti_spoofing/train/Scores/epoch_201/score.txt\n",
      "epoch:201, test:  val_ACC=0.9041, HTER=0.0959, AUC=0.9515, val_err=0.0960, ACC=0.9041, TPR=0.7204\n"
     ]
    },
    {
     "name": "stderr",
     "output_type": "stream",
     "text": [
      "Epoch 202: 100%|█████████████████████████| 3448/3448 [08:59<00:00,  6.39batch/s]\n"
     ]
    },
    {
     "name": "stdout",
     "output_type": "stream",
     "text": [
      "/////////////////////////\n",
      "adverserial loss :  tensor(2.9456e-07, device='cuda:1', grad_fn=<DivBackward0>)\n",
      "classification loss :  tensor(2.1538e-06, device='cuda:1', grad_fn=<DivBackward0>)\n",
      "classification node loss :  tensor(3.9099e-05, device='cuda:1', grad_fn=<DivBackward0>)\n",
      "total loss :  tensor(4.1547e-05, device='cuda:1', grad_fn=<DivBackward0>)\n",
      "////////////////////////////////////\n",
      "***************************\n",
      "test : \n"
     ]
    },
    {
     "name": "stderr",
     "output_type": "stream",
     "text": [
      "Epoch 202: 100%|███████████████████████████| 243/243 [00:38<00:00,  6.35batch/s]\n"
     ]
    },
    {
     "name": "stdout",
     "output_type": "stream",
     "text": [
      "score: write test scores to /home/hassan-hossein/single_image_graph_face_anti_spoofing/train/Scores/epoch_202/score.txt\n",
      "epoch:202, test:  val_ACC=0.8939, HTER=0.1060, AUC=0.9407, val_err=0.1061, ACC=0.8939, TPR=0.5823\n"
     ]
    },
    {
     "name": "stderr",
     "output_type": "stream",
     "text": [
      "Epoch 203: 100%|█████████████████████████| 3448/3448 [08:58<00:00,  6.40batch/s]\n"
     ]
    },
    {
     "name": "stdout",
     "output_type": "stream",
     "text": [
      "/////////////////////////\n",
      "adverserial loss :  tensor(9.7549e-07, device='cuda:1', grad_fn=<DivBackward0>)\n",
      "classification loss :  tensor(1.0320e-07, device='cuda:1', grad_fn=<DivBackward0>)\n",
      "classification node loss :  tensor(3.6630e-05, device='cuda:1', grad_fn=<DivBackward0>)\n",
      "total loss :  tensor(3.7709e-05, device='cuda:1', grad_fn=<DivBackward0>)\n",
      "////////////////////////////////////\n",
      "***************************\n",
      "test : \n"
     ]
    },
    {
     "name": "stderr",
     "output_type": "stream",
     "text": [
      "Epoch 203: 100%|███████████████████████████| 243/243 [00:38<00:00,  6.25batch/s]\n"
     ]
    },
    {
     "name": "stdout",
     "output_type": "stream",
     "text": [
      "score: write test scores to /home/hassan-hossein/single_image_graph_face_anti_spoofing/train/Scores/epoch_203/score.txt\n",
      "epoch:203, test:  val_ACC=0.8866, HTER=0.1134, AUC=0.9492, val_err=0.1135, ACC=0.8866, TPR=0.6924\n"
     ]
    },
    {
     "name": "stderr",
     "output_type": "stream",
     "text": [
      "Epoch 204: 100%|█████████████████████████| 3448/3448 [09:00<00:00,  6.38batch/s]\n"
     ]
    },
    {
     "name": "stdout",
     "output_type": "stream",
     "text": [
      "/////////////////////////\n",
      "adverserial loss :  tensor(5.9295e-07, device='cuda:1', grad_fn=<DivBackward0>)\n",
      "classification loss :  tensor(1.0096e-07, device='cuda:1', grad_fn=<DivBackward0>)\n",
      "classification node loss :  tensor(3.7743e-05, device='cuda:1', grad_fn=<DivBackward0>)\n",
      "total loss :  tensor(3.8437e-05, device='cuda:1', grad_fn=<DivBackward0>)\n",
      "////////////////////////////////////\n",
      "***************************\n",
      "test : \n"
     ]
    },
    {
     "name": "stderr",
     "output_type": "stream",
     "text": [
      "Epoch 204: 100%|███████████████████████████| 243/243 [00:39<00:00,  6.11batch/s]\n"
     ]
    },
    {
     "name": "stdout",
     "output_type": "stream",
     "text": [
      "score: write test scores to /home/hassan-hossein/single_image_graph_face_anti_spoofing/train/Scores/epoch_204/score.txt\n",
      "epoch:204, test:  val_ACC=0.8915, HTER=0.1086, AUC=0.9473, val_err=0.1086, ACC=0.8915, TPR=0.6301\n"
     ]
    },
    {
     "name": "stderr",
     "output_type": "stream",
     "text": [
      "Epoch 205: 100%|█████████████████████████| 3448/3448 [09:00<00:00,  6.38batch/s]\n"
     ]
    },
    {
     "name": "stdout",
     "output_type": "stream",
     "text": [
      "/////////////////////////\n",
      "adverserial loss :  tensor(5.9397e-07, device='cuda:1', grad_fn=<DivBackward0>)\n",
      "classification loss :  tensor(1.5488e-06, device='cuda:1', grad_fn=<DivBackward0>)\n",
      "classification node loss :  tensor(3.8643e-05, device='cuda:1', grad_fn=<DivBackward0>)\n",
      "total loss :  tensor(4.0786e-05, device='cuda:1', grad_fn=<DivBackward0>)\n",
      "////////////////////////////////////\n",
      "***************************\n",
      "test : \n"
     ]
    },
    {
     "name": "stderr",
     "output_type": "stream",
     "text": [
      "Epoch 205: 100%|███████████████████████████| 243/243 [00:38<00:00,  6.26batch/s]\n"
     ]
    },
    {
     "name": "stdout",
     "output_type": "stream",
     "text": [
      "score: write test scores to /home/hassan-hossein/single_image_graph_face_anti_spoofing/train/Scores/epoch_205/score.txt\n",
      "epoch:205, test:  val_ACC=0.8852, HTER=0.1148, AUC=0.9391, val_err=0.1148, ACC=0.8852, TPR=0.8020\n"
     ]
    },
    {
     "name": "stderr",
     "output_type": "stream",
     "text": [
      "Epoch 206: 100%|█████████████████████████| 3448/3448 [09:01<00:00,  6.37batch/s]\n"
     ]
    },
    {
     "name": "stdout",
     "output_type": "stream",
     "text": [
      "/////////////////////////\n",
      "adverserial loss :  tensor(2.1857e-07, device='cuda:1', grad_fn=<DivBackward0>)\n",
      "classification loss :  tensor(4.3634e-06, device='cuda:1', grad_fn=<DivBackward0>)\n",
      "classification node loss :  tensor(3.7423e-05, device='cuda:1', grad_fn=<DivBackward0>)\n",
      "total loss :  tensor(4.2005e-05, device='cuda:1', grad_fn=<DivBackward0>)\n",
      "////////////////////////////////////\n",
      "***************************\n",
      "test : \n"
     ]
    },
    {
     "name": "stderr",
     "output_type": "stream",
     "text": [
      "Epoch 206: 100%|███████████████████████████| 243/243 [00:39<00:00,  6.18batch/s]\n"
     ]
    },
    {
     "name": "stdout",
     "output_type": "stream",
     "text": [
      "score: write test scores to /home/hassan-hossein/single_image_graph_face_anti_spoofing/train/Scores/epoch_206/score.txt\n",
      "epoch:206, test:  val_ACC=0.8994, HTER=0.1006, AUC=0.9508, val_err=0.1007, ACC=0.8994, TPR=0.7194\n"
     ]
    },
    {
     "name": "stderr",
     "output_type": "stream",
     "text": [
      "Epoch 207: 100%|█████████████████████████| 3448/3448 [09:01<00:00,  6.36batch/s]\n"
     ]
    },
    {
     "name": "stdout",
     "output_type": "stream",
     "text": [
      "/////////////////////////\n",
      "adverserial loss :  tensor(3.4810e-07, device='cuda:1', grad_fn=<DivBackward0>)\n",
      "classification loss :  tensor(3.1118e-07, device='cuda:1', grad_fn=<DivBackward0>)\n",
      "classification node loss :  tensor(2.6157e-05, device='cuda:1', grad_fn=<DivBackward0>)\n",
      "total loss :  tensor(2.6816e-05, device='cuda:1', grad_fn=<DivBackward0>)\n",
      "////////////////////////////////////\n",
      "***************************\n",
      "test : \n"
     ]
    },
    {
     "name": "stderr",
     "output_type": "stream",
     "text": [
      "Epoch 207: 100%|███████████████████████████| 243/243 [00:38<00:00,  6.26batch/s]\n"
     ]
    },
    {
     "name": "stdout",
     "output_type": "stream",
     "text": [
      "score: write test scores to /home/hassan-hossein/single_image_graph_face_anti_spoofing/train/Scores/epoch_207/score.txt\n",
      "epoch:207, test:  val_ACC=0.8851, HTER=0.1150, AUC=0.9342, val_err=0.1150, ACC=0.8851, TPR=0.6322\n"
     ]
    },
    {
     "name": "stderr",
     "output_type": "stream",
     "text": [
      "Epoch 208: 100%|█████████████████████████| 3448/3448 [08:59<00:00,  6.39batch/s]\n"
     ]
    },
    {
     "name": "stdout",
     "output_type": "stream",
     "text": [
      "/////////////////////////\n",
      "adverserial loss :  tensor(1.2637e-08, device='cuda:1', grad_fn=<DivBackward0>)\n",
      "classification loss :  tensor(4.5235e-06, device='cuda:1', grad_fn=<DivBackward0>)\n",
      "classification node loss :  tensor(3.2575e-05, device='cuda:1', grad_fn=<DivBackward0>)\n",
      "total loss :  tensor(3.7111e-05, device='cuda:1', grad_fn=<DivBackward0>)\n",
      "////////////////////////////////////\n",
      "***************************\n",
      "test : \n"
     ]
    },
    {
     "name": "stderr",
     "output_type": "stream",
     "text": [
      "Epoch 208: 100%|███████████████████████████| 243/243 [00:39<00:00,  6.18batch/s]\n"
     ]
    },
    {
     "name": "stdout",
     "output_type": "stream",
     "text": [
      "score: write test scores to /home/hassan-hossein/single_image_graph_face_anti_spoofing/train/Scores/epoch_208/score.txt\n",
      "epoch:208, test:  val_ACC=0.8878, HTER=0.1122, AUC=0.9486, val_err=0.1122, ACC=0.8878, TPR=0.7688\n"
     ]
    },
    {
     "name": "stderr",
     "output_type": "stream",
     "text": [
      "Epoch 209: 100%|█████████████████████████| 3448/3448 [09:00<00:00,  6.38batch/s]\n"
     ]
    },
    {
     "name": "stdout",
     "output_type": "stream",
     "text": [
      "/////////////////////////\n",
      "adverserial loss :  tensor(2.0330e-09, device='cuda:1', grad_fn=<DivBackward0>)\n",
      "classification loss :  tensor(7.7229e-07, device='cuda:1', grad_fn=<DivBackward0>)\n",
      "classification node loss :  tensor(3.7600e-05, device='cuda:1', grad_fn=<DivBackward0>)\n",
      "total loss :  tensor(3.8374e-05, device='cuda:1', grad_fn=<DivBackward0>)\n",
      "////////////////////////////////////\n",
      "***************************\n",
      "test : \n"
     ]
    },
    {
     "name": "stderr",
     "output_type": "stream",
     "text": [
      "Epoch 209: 100%|███████████████████████████| 243/243 [00:39<00:00,  6.22batch/s]\n"
     ]
    },
    {
     "name": "stdout",
     "output_type": "stream",
     "text": [
      "score: write test scores to /home/hassan-hossein/single_image_graph_face_anti_spoofing/train/Scores/epoch_209/score.txt\n",
      "epoch:209, test:  val_ACC=0.8976, HTER=0.1024, AUC=0.9497, val_err=0.1024, ACC=0.8976, TPR=0.7731\n"
     ]
    },
    {
     "name": "stderr",
     "output_type": "stream",
     "text": [
      "Epoch 210: 100%|█████████████████████████| 3448/3448 [09:00<00:00,  6.38batch/s]\n"
     ]
    },
    {
     "name": "stdout",
     "output_type": "stream",
     "text": [
      "/////////////////////////\n",
      "adverserial loss :  tensor(7.8110e-07, device='cuda:1', grad_fn=<DivBackward0>)\n",
      "classification loss :  tensor(1.9498e-06, device='cuda:1', grad_fn=<DivBackward0>)\n",
      "classification node loss :  tensor(3.4035e-05, device='cuda:1', grad_fn=<DivBackward0>)\n",
      "total loss :  tensor(3.6766e-05, device='cuda:1', grad_fn=<DivBackward0>)\n",
      "////////////////////////////////////\n",
      "***************************\n",
      "test : \n"
     ]
    },
    {
     "name": "stderr",
     "output_type": "stream",
     "text": [
      "Epoch 210: 100%|███████████████████████████| 243/243 [00:38<00:00,  6.29batch/s]\n"
     ]
    },
    {
     "name": "stdout",
     "output_type": "stream",
     "text": [
      "score: write test scores to /home/hassan-hossein/single_image_graph_face_anti_spoofing/train/Scores/epoch_210/score.txt\n",
      "epoch:210, test:  val_ACC=0.8689, HTER=0.1311, AUC=0.9320, val_err=0.1311, ACC=0.8689, TPR=0.5144\n"
     ]
    },
    {
     "name": "stderr",
     "output_type": "stream",
     "text": [
      "Epoch 211: 100%|█████████████████████████| 3448/3448 [09:00<00:00,  6.38batch/s]\n"
     ]
    },
    {
     "name": "stdout",
     "output_type": "stream",
     "text": [
      "/////////////////////////\n",
      "adverserial loss :  tensor(9.1891e-08, device='cuda:1', grad_fn=<DivBackward0>)\n",
      "classification loss :  tensor(1.2895e-06, device='cuda:1', grad_fn=<DivBackward0>)\n",
      "classification node loss :  tensor(3.2586e-05, device='cuda:1', grad_fn=<DivBackward0>)\n",
      "total loss :  tensor(3.3967e-05, device='cuda:1', grad_fn=<DivBackward0>)\n",
      "////////////////////////////////////\n",
      "***************************\n",
      "test : \n"
     ]
    },
    {
     "name": "stderr",
     "output_type": "stream",
     "text": [
      "Epoch 211: 100%|███████████████████████████| 243/243 [00:39<00:00,  6.16batch/s]\n"
     ]
    },
    {
     "name": "stdout",
     "output_type": "stream",
     "text": [
      "score: write test scores to /home/hassan-hossein/single_image_graph_face_anti_spoofing/train/Scores/epoch_211/score.txt\n",
      "epoch:211, test:  val_ACC=0.8793, HTER=0.1206, AUC=0.9358, val_err=0.1207, ACC=0.8793, TPR=0.5849\n"
     ]
    },
    {
     "name": "stderr",
     "output_type": "stream",
     "text": [
      "Epoch 212: 100%|█████████████████████████| 3448/3448 [08:58<00:00,  6.40batch/s]\n"
     ]
    },
    {
     "name": "stdout",
     "output_type": "stream",
     "text": [
      "/////////////////////////\n",
      "adverserial loss :  tensor(1.3622e-07, device='cuda:1', grad_fn=<DivBackward0>)\n",
      "classification loss :  tensor(2.4858e-06, device='cuda:1', grad_fn=<DivBackward0>)\n",
      "classification node loss :  tensor(3.3158e-05, device='cuda:1', grad_fn=<DivBackward0>)\n",
      "total loss :  tensor(3.5780e-05, device='cuda:1', grad_fn=<DivBackward0>)\n",
      "////////////////////////////////////\n",
      "***************************\n",
      "test : \n"
     ]
    },
    {
     "name": "stderr",
     "output_type": "stream",
     "text": [
      "Epoch 212: 100%|███████████████████████████| 243/243 [00:39<00:00,  6.21batch/s]\n"
     ]
    },
    {
     "name": "stdout",
     "output_type": "stream",
     "text": [
      "score: write test scores to /home/hassan-hossein/single_image_graph_face_anti_spoofing/train/Scores/epoch_212/score.txt\n",
      "epoch:212, test:  val_ACC=0.8620, HTER=0.1379, AUC=0.9301, val_err=0.1380, ACC=0.8620, TPR=0.7019\n"
     ]
    },
    {
     "name": "stderr",
     "output_type": "stream",
     "text": [
      "Epoch 213: 100%|█████████████████████████| 3448/3448 [08:58<00:00,  6.40batch/s]\n"
     ]
    },
    {
     "name": "stdout",
     "output_type": "stream",
     "text": [
      "/////////////////////////\n",
      "adverserial loss :  tensor(2.5844e-06, device='cuda:1', grad_fn=<DivBackward0>)\n",
      "classification loss :  tensor(1.2961e-06, device='cuda:1', grad_fn=<DivBackward0>)\n",
      "classification node loss :  tensor(3.7458e-05, device='cuda:1', grad_fn=<DivBackward0>)\n",
      "total loss :  tensor(4.1339e-05, device='cuda:1', grad_fn=<DivBackward0>)\n",
      "////////////////////////////////////\n",
      "***************************\n",
      "test : \n"
     ]
    },
    {
     "name": "stderr",
     "output_type": "stream",
     "text": [
      "Epoch 213: 100%|███████████████████████████| 243/243 [00:39<00:00,  6.12batch/s]\n"
     ]
    },
    {
     "name": "stdout",
     "output_type": "stream",
     "text": [
      "score: write test scores to /home/hassan-hossein/single_image_graph_face_anti_spoofing/train/Scores/epoch_213/score.txt\n",
      "epoch:213, test:  val_ACC=0.8858, HTER=0.1142, AUC=0.9368, val_err=0.1142, ACC=0.8858, TPR=0.6024\n"
     ]
    },
    {
     "name": "stderr",
     "output_type": "stream",
     "text": [
      "Epoch 214: 100%|█████████████████████████| 3448/3448 [08:59<00:00,  6.39batch/s]\n"
     ]
    },
    {
     "name": "stdout",
     "output_type": "stream",
     "text": [
      "/////////////////////////\n",
      "adverserial loss :  tensor(1.5011e-09, device='cuda:1', grad_fn=<DivBackward0>)\n",
      "classification loss :  tensor(1.8768e-06, device='cuda:1', grad_fn=<DivBackward0>)\n",
      "classification node loss :  tensor(3.4626e-05, device='cuda:1', grad_fn=<DivBackward0>)\n",
      "total loss :  tensor(3.6505e-05, device='cuda:1', grad_fn=<DivBackward0>)\n",
      "////////////////////////////////////\n",
      "***************************\n",
      "test : \n"
     ]
    },
    {
     "name": "stderr",
     "output_type": "stream",
     "text": [
      "Epoch 214: 100%|███████████████████████████| 243/243 [00:38<00:00,  6.29batch/s]\n"
     ]
    },
    {
     "name": "stdout",
     "output_type": "stream",
     "text": [
      "score: write test scores to /home/hassan-hossein/single_image_graph_face_anti_spoofing/train/Scores/epoch_214/score.txt\n",
      "epoch:214, test:  val_ACC=0.8793, HTER=0.1207, AUC=0.9460, val_err=0.1207, ACC=0.8793, TPR=0.6453\n"
     ]
    },
    {
     "name": "stderr",
     "output_type": "stream",
     "text": [
      "Epoch 215: 100%|█████████████████████████| 3448/3448 [09:01<00:00,  6.37batch/s]\n"
     ]
    },
    {
     "name": "stdout",
     "output_type": "stream",
     "text": [
      "/////////////////////////\n",
      "adverserial loss :  tensor(1.4772e-06, device='cuda:1', grad_fn=<DivBackward0>)\n",
      "classification loss :  tensor(5.1874e-06, device='cuda:1', grad_fn=<DivBackward0>)\n",
      "classification node loss :  tensor(3.1424e-05, device='cuda:1', grad_fn=<DivBackward0>)\n",
      "total loss :  tensor(3.8089e-05, device='cuda:1', grad_fn=<DivBackward0>)\n",
      "////////////////////////////////////\n",
      "***************************\n",
      "test : \n"
     ]
    },
    {
     "name": "stderr",
     "output_type": "stream",
     "text": [
      "Epoch 215: 100%|███████████████████████████| 243/243 [00:39<00:00,  6.11batch/s]\n"
     ]
    },
    {
     "name": "stdout",
     "output_type": "stream",
     "text": [
      "score: write test scores to /home/hassan-hossein/single_image_graph_face_anti_spoofing/train/Scores/epoch_215/score.txt\n",
      "epoch:215, test:  val_ACC=0.8887, HTER=0.1114, AUC=0.9465, val_err=0.1114, ACC=0.8887, TPR=0.6417\n"
     ]
    },
    {
     "name": "stderr",
     "output_type": "stream",
     "text": [
      "Epoch 216: 100%|█████████████████████████| 3448/3448 [08:59<00:00,  6.39batch/s]\n"
     ]
    },
    {
     "name": "stdout",
     "output_type": "stream",
     "text": [
      "/////////////////////////\n",
      "adverserial loss :  tensor(7.2566e-09, device='cuda:1', grad_fn=<DivBackward0>)\n",
      "classification loss :  tensor(3.1538e-07, device='cuda:1', grad_fn=<DivBackward0>)\n",
      "classification node loss :  tensor(3.3553e-05, device='cuda:1', grad_fn=<DivBackward0>)\n",
      "total loss :  tensor(3.3875e-05, device='cuda:1', grad_fn=<DivBackward0>)\n",
      "////////////////////////////////////\n",
      "***************************\n",
      "test : \n"
     ]
    },
    {
     "name": "stderr",
     "output_type": "stream",
     "text": [
      "Epoch 216: 100%|███████████████████████████| 243/243 [00:39<00:00,  6.22batch/s]\n"
     ]
    },
    {
     "name": "stdout",
     "output_type": "stream",
     "text": [
      "score: write test scores to /home/hassan-hossein/single_image_graph_face_anti_spoofing/train/Scores/epoch_216/score.txt\n",
      "epoch:216, test:  val_ACC=0.8844, HTER=0.1157, AUC=0.9442, val_err=0.1157, ACC=0.8844, TPR=0.6353\n"
     ]
    },
    {
     "name": "stderr",
     "output_type": "stream",
     "text": [
      "Epoch 217: 100%|█████████████████████████| 3448/3448 [09:01<00:00,  6.36batch/s]\n"
     ]
    },
    {
     "name": "stdout",
     "output_type": "stream",
     "text": [
      "/////////////////////////\n",
      "adverserial loss :  tensor(5.3451e-09, device='cuda:1', grad_fn=<DivBackward0>)\n",
      "classification loss :  tensor(3.0787e-06, device='cuda:1', grad_fn=<DivBackward0>)\n",
      "classification node loss :  tensor(3.5205e-05, device='cuda:1', grad_fn=<DivBackward0>)\n",
      "total loss :  tensor(3.8289e-05, device='cuda:1', grad_fn=<DivBackward0>)\n",
      "////////////////////////////////////\n",
      "***************************\n",
      "test : \n"
     ]
    },
    {
     "name": "stderr",
     "output_type": "stream",
     "text": [
      "Epoch 217: 100%|███████████████████████████| 243/243 [00:38<00:00,  6.30batch/s]\n"
     ]
    },
    {
     "name": "stdout",
     "output_type": "stream",
     "text": [
      "score: write test scores to /home/hassan-hossein/single_image_graph_face_anti_spoofing/train/Scores/epoch_217/score.txt\n",
      "epoch:217, test:  val_ACC=0.8725, HTER=0.1276, AUC=0.9456, val_err=0.1276, ACC=0.8725, TPR=0.6042\n"
     ]
    },
    {
     "name": "stderr",
     "output_type": "stream",
     "text": [
      "Epoch 218: 100%|█████████████████████████| 3448/3448 [09:01<00:00,  6.37batch/s]\n"
     ]
    },
    {
     "name": "stdout",
     "output_type": "stream",
     "text": [
      "/////////////////////////\n",
      "adverserial loss :  tensor(1.1312e-06, device='cuda:1', grad_fn=<DivBackward0>)\n",
      "classification loss :  tensor(9.1870e-07, device='cuda:1', grad_fn=<DivBackward0>)\n",
      "classification node loss :  tensor(3.1784e-05, device='cuda:1', grad_fn=<DivBackward0>)\n",
      "total loss :  tensor(3.3834e-05, device='cuda:1', grad_fn=<DivBackward0>)\n",
      "////////////////////////////////////\n",
      "***************************\n",
      "test : \n"
     ]
    },
    {
     "name": "stderr",
     "output_type": "stream",
     "text": [
      "Epoch 218: 100%|███████████████████████████| 243/243 [00:41<00:00,  5.92batch/s]\n"
     ]
    },
    {
     "name": "stdout",
     "output_type": "stream",
     "text": [
      "score: write test scores to /home/hassan-hossein/single_image_graph_face_anti_spoofing/train/Scores/epoch_218/score.txt\n",
      "epoch:218, test:  val_ACC=0.8912, HTER=0.1088, AUC=0.9535, val_err=0.1088, ACC=0.8912, TPR=0.6862\n"
     ]
    },
    {
     "name": "stderr",
     "output_type": "stream",
     "text": [
      "Epoch 219: 100%|█████████████████████████| 3448/3448 [08:59<00:00,  6.39batch/s]\n"
     ]
    },
    {
     "name": "stdout",
     "output_type": "stream",
     "text": [
      "/////////////////////////\n",
      "adverserial loss :  tensor(3.5000e-07, device='cuda:1', grad_fn=<DivBackward0>)\n",
      "classification loss :  tensor(1.8808e-06, device='cuda:1', grad_fn=<DivBackward0>)\n",
      "classification node loss :  tensor(3.3100e-05, device='cuda:1', grad_fn=<DivBackward0>)\n",
      "total loss :  tensor(3.5331e-05, device='cuda:1', grad_fn=<DivBackward0>)\n",
      "////////////////////////////////////\n",
      "***************************\n",
      "test : \n"
     ]
    },
    {
     "name": "stderr",
     "output_type": "stream",
     "text": [
      "Epoch 219: 100%|███████████████████████████| 243/243 [00:40<00:00,  6.07batch/s]\n"
     ]
    },
    {
     "name": "stdout",
     "output_type": "stream",
     "text": [
      "score: write test scores to /home/hassan-hossein/single_image_graph_face_anti_spoofing/train/Scores/epoch_219/score.txt\n",
      "epoch:219, test:  val_ACC=0.8993, HTER=0.1008, AUC=0.9589, val_err=0.1008, ACC=0.8993, TPR=0.7783\n"
     ]
    },
    {
     "name": "stderr",
     "output_type": "stream",
     "text": [
      "Epoch 220: 100%|█████████████████████████| 3448/3448 [09:00<00:00,  6.38batch/s]\n"
     ]
    },
    {
     "name": "stdout",
     "output_type": "stream",
     "text": [
      "/////////////////////////\n",
      "adverserial loss :  tensor(3.7095e-07, device='cuda:1', grad_fn=<DivBackward0>)\n",
      "classification loss :  tensor(9.7138e-07, device='cuda:1', grad_fn=<DivBackward0>)\n",
      "classification node loss :  tensor(3.3171e-05, device='cuda:1', grad_fn=<DivBackward0>)\n",
      "total loss :  tensor(3.4513e-05, device='cuda:1', grad_fn=<DivBackward0>)\n",
      "////////////////////////////////////\n",
      "***************************\n",
      "test : \n"
     ]
    },
    {
     "name": "stderr",
     "output_type": "stream",
     "text": [
      "Epoch 220: 100%|███████████████████████████| 243/243 [00:39<00:00,  6.19batch/s]\n"
     ]
    },
    {
     "name": "stdout",
     "output_type": "stream",
     "text": [
      "score: write test scores to /home/hassan-hossein/single_image_graph_face_anti_spoofing/train/Scores/epoch_220/score.txt\n",
      "epoch:220, test:  val_ACC=0.8694, HTER=0.1307, AUC=0.9388, val_err=0.1307, ACC=0.8694, TPR=0.7065\n"
     ]
    },
    {
     "name": "stderr",
     "output_type": "stream",
     "text": [
      "Epoch 221: 100%|█████████████████████████| 3448/3448 [08:59<00:00,  6.40batch/s]\n"
     ]
    },
    {
     "name": "stdout",
     "output_type": "stream",
     "text": [
      "/////////////////////////\n",
      "adverserial loss :  tensor(4.5399e-07, device='cuda:1', grad_fn=<DivBackward0>)\n",
      "classification loss :  tensor(2.4650e-06, device='cuda:1', grad_fn=<DivBackward0>)\n",
      "classification node loss :  tensor(3.1498e-05, device='cuda:1', grad_fn=<DivBackward0>)\n",
      "total loss :  tensor(3.4417e-05, device='cuda:1', grad_fn=<DivBackward0>)\n",
      "////////////////////////////////////\n",
      "***************************\n",
      "test : \n"
     ]
    },
    {
     "name": "stderr",
     "output_type": "stream",
     "text": [
      "Epoch 221: 100%|███████████████████████████| 243/243 [00:38<00:00,  6.25batch/s]\n"
     ]
    },
    {
     "name": "stdout",
     "output_type": "stream",
     "text": [
      "score: write test scores to /home/hassan-hossein/single_image_graph_face_anti_spoofing/train/Scores/epoch_221/score.txt\n",
      "epoch:221, test:  val_ACC=0.9017, HTER=0.0983, AUC=0.9450, val_err=0.0983, ACC=0.9017, TPR=0.7760\n"
     ]
    },
    {
     "name": "stderr",
     "output_type": "stream",
     "text": [
      "Epoch 222: 100%|█████████████████████████| 3448/3448 [08:59<00:00,  6.39batch/s]\n"
     ]
    },
    {
     "name": "stdout",
     "output_type": "stream",
     "text": [
      "/////////////////////////\n",
      "adverserial loss :  tensor(4.8097e-07, device='cuda:1', grad_fn=<DivBackward0>)\n",
      "classification loss :  tensor(8.4450e-07, device='cuda:1', grad_fn=<DivBackward0>)\n",
      "classification node loss :  tensor(2.7866e-05, device='cuda:1', grad_fn=<DivBackward0>)\n",
      "total loss :  tensor(2.9192e-05, device='cuda:1', grad_fn=<DivBackward0>)\n",
      "////////////////////////////////////\n",
      "***************************\n",
      "test : \n"
     ]
    },
    {
     "name": "stderr",
     "output_type": "stream",
     "text": [
      "Epoch 222: 100%|███████████████████████████| 243/243 [00:39<00:00,  6.22batch/s]\n"
     ]
    },
    {
     "name": "stdout",
     "output_type": "stream",
     "text": [
      "score: write test scores to /home/hassan-hossein/single_image_graph_face_anti_spoofing/train/Scores/epoch_222/score.txt\n",
      "epoch:222, test:  val_ACC=0.8804, HTER=0.1196, AUC=0.9480, val_err=0.1196, ACC=0.8804, TPR=0.6394\n"
     ]
    },
    {
     "name": "stderr",
     "output_type": "stream",
     "text": [
      "Epoch 223: 100%|█████████████████████████| 3448/3448 [08:59<00:00,  6.40batch/s]\n"
     ]
    },
    {
     "name": "stdout",
     "output_type": "stream",
     "text": [
      "/////////////////////////\n",
      "adverserial loss :  tensor(4.6503e-08, device='cuda:1', grad_fn=<DivBackward0>)\n",
      "classification loss :  tensor(2.3418e-06, device='cuda:1', grad_fn=<DivBackward0>)\n",
      "classification node loss :  tensor(3.1413e-05, device='cuda:1', grad_fn=<DivBackward0>)\n",
      "total loss :  tensor(3.3801e-05, device='cuda:1', grad_fn=<DivBackward0>)\n",
      "////////////////////////////////////\n",
      "***************************\n",
      "test : \n"
     ]
    },
    {
     "name": "stderr",
     "output_type": "stream",
     "text": [
      "Epoch 223: 100%|███████████████████████████| 243/243 [00:39<00:00,  6.20batch/s]\n"
     ]
    },
    {
     "name": "stdout",
     "output_type": "stream",
     "text": [
      "score: write test scores to /home/hassan-hossein/single_image_graph_face_anti_spoofing/train/Scores/epoch_223/score.txt\n",
      "epoch:223, test:  val_ACC=0.8871, HTER=0.1129, AUC=0.9526, val_err=0.1129, ACC=0.8871, TPR=0.7096\n"
     ]
    },
    {
     "name": "stderr",
     "output_type": "stream",
     "text": [
      "Epoch 224: 100%|█████████████████████████| 3448/3448 [08:59<00:00,  6.39batch/s]\n"
     ]
    },
    {
     "name": "stdout",
     "output_type": "stream",
     "text": [
      "/////////////////////////\n",
      "adverserial loss :  tensor(5.9203e-08, device='cuda:1', grad_fn=<DivBackward0>)\n",
      "classification loss :  tensor(2.2791e-08, device='cuda:1', grad_fn=<DivBackward0>)\n",
      "classification node loss :  tensor(3.5216e-05, device='cuda:1', grad_fn=<DivBackward0>)\n",
      "total loss :  tensor(3.5298e-05, device='cuda:1', grad_fn=<DivBackward0>)\n",
      "////////////////////////////////////\n",
      "***************************\n",
      "test : \n"
     ]
    },
    {
     "name": "stderr",
     "output_type": "stream",
     "text": [
      "Epoch 224: 100%|███████████████████████████| 243/243 [00:38<00:00,  6.28batch/s]\n"
     ]
    },
    {
     "name": "stdout",
     "output_type": "stream",
     "text": [
      "score: write test scores to /home/hassan-hossein/single_image_graph_face_anti_spoofing/train/Scores/epoch_224/score.txt\n",
      "epoch:224, test:  val_ACC=0.8959, HTER=0.1042, AUC=0.9520, val_err=0.1042, ACC=0.8959, TPR=0.7981\n"
     ]
    },
    {
     "name": "stderr",
     "output_type": "stream",
     "text": [
      "Epoch 225: 100%|█████████████████████████| 3448/3448 [09:00<00:00,  6.38batch/s]\n"
     ]
    },
    {
     "name": "stdout",
     "output_type": "stream",
     "text": [
      "/////////////////////////\n",
      "adverserial loss :  tensor(2.7424e-08, device='cuda:1', grad_fn=<DivBackward0>)\n",
      "classification loss :  tensor(1.9973e-06, device='cuda:1', grad_fn=<DivBackward0>)\n",
      "classification node loss :  tensor(3.0456e-05, device='cuda:1', grad_fn=<DivBackward0>)\n",
      "total loss :  tensor(3.2481e-05, device='cuda:1', grad_fn=<DivBackward0>)\n",
      "////////////////////////////////////\n",
      "***************************\n",
      "test : \n"
     ]
    },
    {
     "name": "stderr",
     "output_type": "stream",
     "text": [
      "Epoch 225: 100%|███████████████████████████| 243/243 [00:39<00:00,  6.23batch/s]\n"
     ]
    },
    {
     "name": "stdout",
     "output_type": "stream",
     "text": [
      "score: write test scores to /home/hassan-hossein/single_image_graph_face_anti_spoofing/train/Scores/epoch_225/score.txt\n",
      "epoch:225, test:  val_ACC=0.8880, HTER=0.1119, AUC=0.9524, val_err=0.1120, ACC=0.8880, TPR=0.7479\n"
     ]
    },
    {
     "name": "stderr",
     "output_type": "stream",
     "text": [
      "Epoch 226: 100%|█████████████████████████| 3448/3448 [08:58<00:00,  6.40batch/s]\n"
     ]
    },
    {
     "name": "stdout",
     "output_type": "stream",
     "text": [
      "/////////////////////////\n",
      "adverserial loss :  tensor(2.8675e-09, device='cuda:1', grad_fn=<DivBackward0>)\n",
      "classification loss :  tensor(2.3386e-08, device='cuda:1', grad_fn=<DivBackward0>)\n",
      "classification node loss :  tensor(3.3144e-05, device='cuda:1', grad_fn=<DivBackward0>)\n",
      "total loss :  tensor(3.3170e-05, device='cuda:1', grad_fn=<DivBackward0>)\n",
      "////////////////////////////////////\n",
      "***************************\n",
      "test : \n"
     ]
    },
    {
     "name": "stderr",
     "output_type": "stream",
     "text": [
      "Epoch 226: 100%|███████████████████████████| 243/243 [00:38<00:00,  6.32batch/s]\n"
     ]
    },
    {
     "name": "stdout",
     "output_type": "stream",
     "text": [
      "score: write test scores to /home/hassan-hossein/single_image_graph_face_anti_spoofing/train/Scores/epoch_226/score.txt\n",
      "epoch:226, test:  val_ACC=0.9000, HTER=0.1000, AUC=0.9588, val_err=0.1000, ACC=0.9000, TPR=0.8153\n"
     ]
    },
    {
     "name": "stderr",
     "output_type": "stream",
     "text": [
      "Epoch 227: 100%|█████████████████████████| 3448/3448 [08:58<00:00,  6.40batch/s]\n"
     ]
    },
    {
     "name": "stdout",
     "output_type": "stream",
     "text": [
      "/////////////////////////\n",
      "adverserial loss :  tensor(3.0170e-07, device='cuda:1', grad_fn=<DivBackward0>)\n",
      "classification loss :  tensor(2.4933e-06, device='cuda:1', grad_fn=<DivBackward0>)\n",
      "classification node loss :  tensor(3.6207e-05, device='cuda:1', grad_fn=<DivBackward0>)\n",
      "total loss :  tensor(3.9003e-05, device='cuda:1', grad_fn=<DivBackward0>)\n",
      "////////////////////////////////////\n",
      "***************************\n",
      "test : \n"
     ]
    },
    {
     "name": "stderr",
     "output_type": "stream",
     "text": [
      "Epoch 227: 100%|███████████████████████████| 243/243 [00:42<00:00,  5.77batch/s]\n"
     ]
    },
    {
     "name": "stdout",
     "output_type": "stream",
     "text": [
      "score: write test scores to /home/hassan-hossein/single_image_graph_face_anti_spoofing/train/Scores/epoch_227/score.txt\n",
      "epoch:227, test:  val_ACC=0.8842, HTER=0.1158, AUC=0.9311, val_err=0.1159, ACC=0.8842, TPR=0.8143\n"
     ]
    },
    {
     "name": "stderr",
     "output_type": "stream",
     "text": [
      "Epoch 228: 100%|█████████████████████████| 3448/3448 [09:00<00:00,  6.38batch/s]\n"
     ]
    },
    {
     "name": "stdout",
     "output_type": "stream",
     "text": [
      "/////////////////////////\n",
      "adverserial loss :  tensor(4.0731e-08, device='cuda:1', grad_fn=<DivBackward0>)\n",
      "classification loss :  tensor(2.8635e-06, device='cuda:1', grad_fn=<DivBackward0>)\n",
      "classification node loss :  tensor(2.8796e-05, device='cuda:1', grad_fn=<DivBackward0>)\n",
      "total loss :  tensor(3.1700e-05, device='cuda:1', grad_fn=<DivBackward0>)\n",
      "////////////////////////////////////\n",
      "***************************\n",
      "test : \n"
     ]
    },
    {
     "name": "stderr",
     "output_type": "stream",
     "text": [
      "Epoch 228: 100%|███████████████████████████| 243/243 [00:39<00:00,  6.14batch/s]\n"
     ]
    },
    {
     "name": "stdout",
     "output_type": "stream",
     "text": [
      "score: write test scores to /home/hassan-hossein/single_image_graph_face_anti_spoofing/train/Scores/epoch_228/score.txt\n",
      "epoch:228, test:  val_ACC=0.8817, HTER=0.1183, AUC=0.9535, val_err=0.1183, ACC=0.8817, TPR=0.7158\n"
     ]
    },
    {
     "name": "stderr",
     "output_type": "stream",
     "text": [
      "Epoch 229: 100%|█████████████████████████| 3448/3448 [09:00<00:00,  6.38batch/s]\n"
     ]
    },
    {
     "name": "stdout",
     "output_type": "stream",
     "text": [
      "/////////////////////////\n",
      "adverserial loss :  tensor(1.1513e-07, device='cuda:1', grad_fn=<DivBackward0>)\n",
      "classification loss :  tensor(8.1961e-07, device='cuda:1', grad_fn=<DivBackward0>)\n",
      "classification node loss :  tensor(3.3894e-05, device='cuda:1', grad_fn=<DivBackward0>)\n",
      "total loss :  tensor(3.4829e-05, device='cuda:1', grad_fn=<DivBackward0>)\n",
      "////////////////////////////////////\n",
      "***************************\n",
      "test : \n"
     ]
    },
    {
     "name": "stderr",
     "output_type": "stream",
     "text": [
      "Epoch 229: 100%|███████████████████████████| 243/243 [00:38<00:00,  6.26batch/s]\n"
     ]
    },
    {
     "name": "stdout",
     "output_type": "stream",
     "text": [
      "score: write test scores to /home/hassan-hossein/single_image_graph_face_anti_spoofing/train/Scores/epoch_229/score.txt\n",
      "epoch:229, test:  val_ACC=0.8828, HTER=0.1173, AUC=0.9435, val_err=0.1173, ACC=0.8828, TPR=0.6880\n"
     ]
    },
    {
     "name": "stderr",
     "output_type": "stream",
     "text": [
      "Epoch 230: 100%|█████████████████████████| 3448/3448 [09:02<00:00,  6.35batch/s]\n"
     ]
    },
    {
     "name": "stdout",
     "output_type": "stream",
     "text": [
      "/////////////////////////\n",
      "adverserial loss :  tensor(7.7066e-07, device='cuda:1', grad_fn=<DivBackward0>)\n",
      "classification loss :  tensor(1.8946e-06, device='cuda:1', grad_fn=<DivBackward0>)\n",
      "classification node loss :  tensor(2.7180e-05, device='cuda:1', grad_fn=<DivBackward0>)\n",
      "total loss :  tensor(2.9845e-05, device='cuda:1', grad_fn=<DivBackward0>)\n",
      "////////////////////////////////////\n",
      "***************************\n",
      "test : \n"
     ]
    },
    {
     "name": "stderr",
     "output_type": "stream",
     "text": [
      "Epoch 230: 100%|███████████████████████████| 243/243 [00:38<00:00,  6.23batch/s]\n"
     ]
    },
    {
     "name": "stdout",
     "output_type": "stream",
     "text": [
      "score: write test scores to /home/hassan-hossein/single_image_graph_face_anti_spoofing/train/Scores/epoch_230/score.txt\n",
      "epoch:230, test:  val_ACC=0.8951, HTER=0.1050, AUC=0.9490, val_err=0.1050, ACC=0.8951, TPR=0.7207\n"
     ]
    },
    {
     "name": "stderr",
     "output_type": "stream",
     "text": [
      "Epoch 231: 100%|█████████████████████████| 3448/3448 [08:59<00:00,  6.39batch/s]\n"
     ]
    },
    {
     "name": "stdout",
     "output_type": "stream",
     "text": [
      "/////////////////////////\n",
      "adverserial loss :  tensor(1.2065e-06, device='cuda:1', grad_fn=<DivBackward0>)\n",
      "classification loss :  tensor(2.4882e-06, device='cuda:1', grad_fn=<DivBackward0>)\n",
      "classification node loss :  tensor(2.8401e-05, device='cuda:1', grad_fn=<DivBackward0>)\n",
      "total loss :  tensor(3.2095e-05, device='cuda:1', grad_fn=<DivBackward0>)\n",
      "////////////////////////////////////\n",
      "***************************\n",
      "test : \n"
     ]
    },
    {
     "name": "stderr",
     "output_type": "stream",
     "text": [
      "Epoch 231: 100%|███████████████████████████| 243/243 [00:39<00:00,  6.16batch/s]\n"
     ]
    },
    {
     "name": "stdout",
     "output_type": "stream",
     "text": [
      "score: write test scores to /home/hassan-hossein/single_image_graph_face_anti_spoofing/train/Scores/epoch_231/score.txt\n",
      "epoch:231, test:  val_ACC=0.9054, HTER=0.0947, AUC=0.9527, val_err=0.0947, ACC=0.9054, TPR=0.6574\n"
     ]
    },
    {
     "name": "stderr",
     "output_type": "stream",
     "text": [
      "Epoch 232: 100%|█████████████████████████| 3448/3448 [08:58<00:00,  6.40batch/s]\n"
     ]
    },
    {
     "name": "stdout",
     "output_type": "stream",
     "text": [
      "/////////////////////////\n",
      "adverserial loss :  tensor(2.5412e-06, device='cuda:1', grad_fn=<DivBackward0>)\n",
      "classification loss :  tensor(7.4654e-07, device='cuda:1', grad_fn=<DivBackward0>)\n",
      "classification node loss :  tensor(2.6332e-05, device='cuda:1', grad_fn=<DivBackward0>)\n",
      "total loss :  tensor(2.9620e-05, device='cuda:1', grad_fn=<DivBackward0>)\n",
      "////////////////////////////////////\n",
      "***************************\n",
      "test : \n"
     ]
    },
    {
     "name": "stderr",
     "output_type": "stream",
     "text": [
      "Epoch 232: 100%|███████████████████████████| 243/243 [00:38<00:00,  6.27batch/s]\n"
     ]
    },
    {
     "name": "stdout",
     "output_type": "stream",
     "text": [
      "score: write test scores to /home/hassan-hossein/single_image_graph_face_anti_spoofing/train/Scores/epoch_232/score.txt\n",
      "epoch:232, test:  val_ACC=0.8837, HTER=0.1163, AUC=0.9349, val_err=0.1163, ACC=0.8837, TPR=0.5466\n"
     ]
    },
    {
     "name": "stderr",
     "output_type": "stream",
     "text": [
      "Epoch 233: 100%|█████████████████████████| 3448/3448 [08:59<00:00,  6.39batch/s]\n"
     ]
    },
    {
     "name": "stdout",
     "output_type": "stream",
     "text": [
      "/////////////////////////\n",
      "adverserial loss :  tensor(8.4126e-09, device='cuda:1', grad_fn=<DivBackward0>)\n",
      "classification loss :  tensor(2.9703e-06, device='cuda:1', grad_fn=<DivBackward0>)\n",
      "classification node loss :  tensor(3.1684e-05, device='cuda:1', grad_fn=<DivBackward0>)\n",
      "total loss :  tensor(3.4662e-05, device='cuda:1', grad_fn=<DivBackward0>)\n",
      "////////////////////////////////////\n",
      "***************************\n",
      "test : \n"
     ]
    },
    {
     "name": "stderr",
     "output_type": "stream",
     "text": [
      "Epoch 233: 100%|███████████████████████████| 243/243 [00:38<00:00,  6.24batch/s]\n"
     ]
    },
    {
     "name": "stdout",
     "output_type": "stream",
     "text": [
      "score: write test scores to /home/hassan-hossein/single_image_graph_face_anti_spoofing/train/Scores/epoch_233/score.txt\n",
      "epoch:233, test:  val_ACC=0.8578, HTER=0.1423, AUC=0.9398, val_err=0.1423, ACC=0.8578, TPR=0.6980\n"
     ]
    },
    {
     "name": "stderr",
     "output_type": "stream",
     "text": [
      "Epoch 234: 100%|█████████████████████████| 3448/3448 [08:59<00:00,  6.39batch/s]\n"
     ]
    },
    {
     "name": "stdout",
     "output_type": "stream",
     "text": [
      "/////////////////////////\n",
      "adverserial loss :  tensor(8.7999e-07, device='cuda:1', grad_fn=<DivBackward0>)\n",
      "classification loss :  tensor(2.3471e-06, device='cuda:1', grad_fn=<DivBackward0>)\n",
      "classification node loss :  tensor(3.3671e-05, device='cuda:1', grad_fn=<DivBackward0>)\n",
      "total loss :  tensor(3.6898e-05, device='cuda:1', grad_fn=<DivBackward0>)\n",
      "////////////////////////////////////\n",
      "***************************\n",
      "test : \n"
     ]
    },
    {
     "name": "stderr",
     "output_type": "stream",
     "text": [
      "Epoch 234: 100%|███████████████████████████| 243/243 [00:39<00:00,  6.22batch/s]\n"
     ]
    },
    {
     "name": "stdout",
     "output_type": "stream",
     "text": [
      "score: write test scores to /home/hassan-hossein/single_image_graph_face_anti_spoofing/train/Scores/epoch_234/score.txt\n",
      "epoch:234, test:  val_ACC=0.8561, HTER=0.1440, AUC=0.9211, val_err=0.1440, ACC=0.8561, TPR=0.5296\n"
     ]
    },
    {
     "name": "stderr",
     "output_type": "stream",
     "text": [
      "Epoch 235: 100%|█████████████████████████| 3448/3448 [08:59<00:00,  6.40batch/s]\n"
     ]
    },
    {
     "name": "stdout",
     "output_type": "stream",
     "text": [
      "/////////////////////////\n",
      "adverserial loss :  tensor(7.1690e-07, device='cuda:1', grad_fn=<DivBackward0>)\n",
      "classification loss :  tensor(2.4345e-07, device='cuda:1', grad_fn=<DivBackward0>)\n",
      "classification node loss :  tensor(2.7903e-05, device='cuda:1', grad_fn=<DivBackward0>)\n",
      "total loss :  tensor(2.8864e-05, device='cuda:1', grad_fn=<DivBackward0>)\n",
      "////////////////////////////////////\n",
      "***************************\n",
      "test : \n"
     ]
    },
    {
     "name": "stderr",
     "output_type": "stream",
     "text": [
      "Epoch 235: 100%|███████████████████████████| 243/243 [00:38<00:00,  6.25batch/s]\n"
     ]
    },
    {
     "name": "stdout",
     "output_type": "stream",
     "text": [
      "score: write test scores to /home/hassan-hossein/single_image_graph_face_anti_spoofing/train/Scores/epoch_235/score.txt\n",
      "epoch:235, test:  val_ACC=0.8921, HTER=0.1080, AUC=0.9415, val_err=0.1080, ACC=0.8921, TPR=0.7585\n"
     ]
    },
    {
     "name": "stderr",
     "output_type": "stream",
     "text": [
      "Epoch 236: 100%|█████████████████████████| 3448/3448 [08:59<00:00,  6.39batch/s]\n"
     ]
    },
    {
     "name": "stdout",
     "output_type": "stream",
     "text": [
      "/////////////////////////\n",
      "adverserial loss :  tensor(1.3961e-07, device='cuda:1', grad_fn=<DivBackward0>)\n",
      "classification loss :  tensor(2.7231e-06, device='cuda:1', grad_fn=<DivBackward0>)\n",
      "classification node loss :  tensor(3.2949e-05, device='cuda:1', grad_fn=<DivBackward0>)\n",
      "total loss :  tensor(3.5811e-05, device='cuda:1', grad_fn=<DivBackward0>)\n",
      "////////////////////////////////////\n",
      "***************************\n",
      "test : \n"
     ]
    },
    {
     "name": "stderr",
     "output_type": "stream",
     "text": [
      "Epoch 236: 100%|███████████████████████████| 243/243 [00:38<00:00,  6.28batch/s]\n"
     ]
    },
    {
     "name": "stdout",
     "output_type": "stream",
     "text": [
      "score: write test scores to /home/hassan-hossein/single_image_graph_face_anti_spoofing/train/Scores/epoch_236/score.txt\n",
      "epoch:236, test:  val_ACC=0.8570, HTER=0.1430, AUC=0.9318, val_err=0.1430, ACC=0.8570, TPR=0.6517\n"
     ]
    },
    {
     "name": "stderr",
     "output_type": "stream",
     "text": [
      "Epoch 237: 100%|█████████████████████████| 3448/3448 [08:58<00:00,  6.40batch/s]\n"
     ]
    },
    {
     "name": "stdout",
     "output_type": "stream",
     "text": [
      "/////////////////////////\n",
      "adverserial loss :  tensor(7.3222e-07, device='cuda:1', grad_fn=<DivBackward0>)\n",
      "classification loss :  tensor(1.0366e-06, device='cuda:1', grad_fn=<DivBackward0>)\n",
      "classification node loss :  tensor(2.8597e-05, device='cuda:1', grad_fn=<DivBackward0>)\n",
      "total loss :  tensor(3.0366e-05, device='cuda:1', grad_fn=<DivBackward0>)\n",
      "////////////////////////////////////\n",
      "***************************\n",
      "test : \n"
     ]
    },
    {
     "name": "stderr",
     "output_type": "stream",
     "text": [
      "Epoch 237: 100%|███████████████████████████| 243/243 [00:38<00:00,  6.30batch/s]\n"
     ]
    },
    {
     "name": "stdout",
     "output_type": "stream",
     "text": [
      "score: write test scores to /home/hassan-hossein/single_image_graph_face_anti_spoofing/train/Scores/epoch_237/score.txt\n",
      "epoch:237, test:  val_ACC=0.9085, HTER=0.0916, AUC=0.9554, val_err=0.0916, ACC=0.9085, TPR=0.7829\n"
     ]
    },
    {
     "name": "stderr",
     "output_type": "stream",
     "text": [
      "Epoch 238: 100%|█████████████████████████| 3448/3448 [08:58<00:00,  6.40batch/s]\n"
     ]
    },
    {
     "name": "stdout",
     "output_type": "stream",
     "text": [
      "/////////////////////////\n",
      "adverserial loss :  tensor(5.3229e-08, device='cuda:1', grad_fn=<DivBackward0>)\n",
      "classification loss :  tensor(5.5705e-08, device='cuda:1', grad_fn=<DivBackward0>)\n",
      "classification node loss :  tensor(3.1427e-05, device='cuda:1', grad_fn=<DivBackward0>)\n",
      "total loss :  tensor(3.1536e-05, device='cuda:1', grad_fn=<DivBackward0>)\n",
      "////////////////////////////////////\n",
      "***************************\n",
      "test : \n"
     ]
    },
    {
     "name": "stderr",
     "output_type": "stream",
     "text": [
      "Epoch 238: 100%|███████████████████████████| 243/243 [00:38<00:00,  6.39batch/s]\n"
     ]
    },
    {
     "name": "stdout",
     "output_type": "stream",
     "text": [
      "score: write test scores to /home/hassan-hossein/single_image_graph_face_anti_spoofing/train/Scores/epoch_238/score.txt\n",
      "epoch:238, test:  val_ACC=0.8941, HTER=0.1060, AUC=0.9417, val_err=0.1060, ACC=0.8941, TPR=0.7104\n"
     ]
    },
    {
     "name": "stderr",
     "output_type": "stream",
     "text": [
      "Epoch 239: 100%|█████████████████████████| 3448/3448 [08:59<00:00,  6.39batch/s]\n"
     ]
    },
    {
     "name": "stdout",
     "output_type": "stream",
     "text": [
      "/////////////////////////\n",
      "adverserial loss :  tensor(1.9189e-07, device='cuda:1', grad_fn=<DivBackward0>)\n",
      "classification loss :  tensor(2.5447e-06, device='cuda:1', grad_fn=<DivBackward0>)\n",
      "classification node loss :  tensor(2.4996e-05, device='cuda:1', grad_fn=<DivBackward0>)\n",
      "total loss :  tensor(2.7732e-05, device='cuda:1', grad_fn=<DivBackward0>)\n",
      "////////////////////////////////////\n",
      "***************************\n",
      "test : \n"
     ]
    },
    {
     "name": "stderr",
     "output_type": "stream",
     "text": [
      "Epoch 239: 100%|███████████████████████████| 243/243 [00:39<00:00,  6.13batch/s]\n"
     ]
    },
    {
     "name": "stdout",
     "output_type": "stream",
     "text": [
      "score: write test scores to /home/hassan-hossein/single_image_graph_face_anti_spoofing/train/Scores/epoch_239/score.txt\n",
      "epoch:239, test:  val_ACC=0.8954, HTER=0.1047, AUC=0.9363, val_err=0.1047, ACC=0.8954, TPR=0.7160\n"
     ]
    },
    {
     "name": "stderr",
     "output_type": "stream",
     "text": [
      "Epoch 240: 100%|█████████████████████████| 3448/3448 [09:00<00:00,  6.39batch/s]\n"
     ]
    },
    {
     "name": "stdout",
     "output_type": "stream",
     "text": [
      "/////////////////////////\n",
      "adverserial loss :  tensor(7.8073e-08, device='cuda:1', grad_fn=<DivBackward0>)\n",
      "classification loss :  tensor(1.3472e-07, device='cuda:1', grad_fn=<DivBackward0>)\n",
      "classification node loss :  tensor(3.4257e-05, device='cuda:1', grad_fn=<DivBackward0>)\n",
      "total loss :  tensor(3.4470e-05, device='cuda:1', grad_fn=<DivBackward0>)\n",
      "////////////////////////////////////\n",
      "***************************\n",
      "test : \n"
     ]
    },
    {
     "name": "stderr",
     "output_type": "stream",
     "text": [
      "Epoch 240: 100%|███████████████████████████| 243/243 [00:39<00:00,  6.18batch/s]\n"
     ]
    },
    {
     "name": "stdout",
     "output_type": "stream",
     "text": [
      "score: write test scores to /home/hassan-hossein/single_image_graph_face_anti_spoofing/train/Scores/epoch_240/score.txt\n",
      "epoch:240, test:  val_ACC=0.8704, HTER=0.1296, AUC=0.9320, val_err=0.1296, ACC=0.8704, TPR=0.7163\n"
     ]
    },
    {
     "name": "stderr",
     "output_type": "stream",
     "text": [
      "Epoch 241: 100%|█████████████████████████| 3448/3448 [08:59<00:00,  6.39batch/s]\n"
     ]
    },
    {
     "name": "stdout",
     "output_type": "stream",
     "text": [
      "/////////////////////////\n",
      "adverserial loss :  tensor(3.8190e-07, device='cuda:1', grad_fn=<DivBackward0>)\n",
      "classification loss :  tensor(2.2676e-06, device='cuda:1', grad_fn=<DivBackward0>)\n",
      "classification node loss :  tensor(3.3760e-05, device='cuda:1', grad_fn=<DivBackward0>)\n",
      "total loss :  tensor(3.6409e-05, device='cuda:1', grad_fn=<DivBackward0>)\n",
      "////////////////////////////////////\n",
      "***************************\n",
      "test : \n"
     ]
    },
    {
     "name": "stderr",
     "output_type": "stream",
     "text": [
      "Epoch 241: 100%|███████████████████████████| 243/243 [00:38<00:00,  6.28batch/s]\n"
     ]
    },
    {
     "name": "stdout",
     "output_type": "stream",
     "text": [
      "score: write test scores to /home/hassan-hossein/single_image_graph_face_anti_spoofing/train/Scores/epoch_241/score.txt\n",
      "epoch:241, test:  val_ACC=0.9100, HTER=0.0900, AUC=0.9408, val_err=0.0900, ACC=0.9100, TPR=0.6916\n"
     ]
    },
    {
     "name": "stderr",
     "output_type": "stream",
     "text": [
      "Epoch 242: 100%|█████████████████████████| 3448/3448 [09:00<00:00,  6.38batch/s]\n"
     ]
    },
    {
     "name": "stdout",
     "output_type": "stream",
     "text": [
      "/////////////////////////\n",
      "adverserial loss :  tensor(1.6581e-09, device='cuda:1', grad_fn=<DivBackward0>)\n",
      "classification loss :  tensor(1.3102e-06, device='cuda:1', grad_fn=<DivBackward0>)\n",
      "classification node loss :  tensor(2.7281e-05, device='cuda:1', grad_fn=<DivBackward0>)\n",
      "total loss :  tensor(2.8593e-05, device='cuda:1', grad_fn=<DivBackward0>)\n",
      "////////////////////////////////////\n",
      "***************************\n",
      "test : \n"
     ]
    },
    {
     "name": "stderr",
     "output_type": "stream",
     "text": [
      "Epoch 242: 100%|███████████████████████████| 243/243 [00:39<00:00,  6.20batch/s]\n"
     ]
    },
    {
     "name": "stdout",
     "output_type": "stream",
     "text": [
      "score: write test scores to /home/hassan-hossein/single_image_graph_face_anti_spoofing/train/Scores/epoch_242/score.txt\n",
      "epoch:242, test:  val_ACC=0.9165, HTER=0.0836, AUC=0.9552, val_err=0.0836, ACC=0.9165, TPR=0.8104\n"
     ]
    },
    {
     "name": "stderr",
     "output_type": "stream",
     "text": [
      "Epoch 243: 100%|█████████████████████████| 3448/3448 [08:58<00:00,  6.40batch/s]\n"
     ]
    },
    {
     "name": "stdout",
     "output_type": "stream",
     "text": [
      "/////////////////////////\n",
      "adverserial loss :  tensor(5.3424e-07, device='cuda:1', grad_fn=<DivBackward0>)\n",
      "classification loss :  tensor(3.4170e-07, device='cuda:1', grad_fn=<DivBackward0>)\n",
      "classification node loss :  tensor(3.3118e-05, device='cuda:1', grad_fn=<DivBackward0>)\n",
      "total loss :  tensor(3.3994e-05, device='cuda:1', grad_fn=<DivBackward0>)\n",
      "////////////////////////////////////\n",
      "***************************\n",
      "test : \n"
     ]
    },
    {
     "name": "stderr",
     "output_type": "stream",
     "text": [
      "Epoch 243: 100%|███████████████████████████| 243/243 [00:39<00:00,  6.21batch/s]\n"
     ]
    },
    {
     "name": "stdout",
     "output_type": "stream",
     "text": [
      "score: write test scores to /home/hassan-hossein/single_image_graph_face_anti_spoofing/train/Scores/epoch_243/score.txt\n",
      "epoch:243, test:  val_ACC=0.8906, HTER=0.1094, AUC=0.9412, val_err=0.1094, ACC=0.8906, TPR=0.6718\n"
     ]
    },
    {
     "name": "stderr",
     "output_type": "stream",
     "text": [
      "Epoch 244: 100%|█████████████████████████| 3448/3448 [09:01<00:00,  6.37batch/s]\n"
     ]
    },
    {
     "name": "stdout",
     "output_type": "stream",
     "text": [
      "/////////////////////////\n",
      "adverserial loss :  tensor(5.6604e-07, device='cuda:1', grad_fn=<DivBackward0>)\n",
      "classification loss :  tensor(3.3485e-07, device='cuda:1', grad_fn=<DivBackward0>)\n",
      "classification node loss :  tensor(2.6166e-05, device='cuda:1', grad_fn=<DivBackward0>)\n",
      "total loss :  tensor(2.7067e-05, device='cuda:1', grad_fn=<DivBackward0>)\n",
      "////////////////////////////////////\n",
      "***************************\n",
      "test : \n"
     ]
    },
    {
     "name": "stderr",
     "output_type": "stream",
     "text": [
      "Epoch 244: 100%|███████████████████████████| 243/243 [00:38<00:00,  6.32batch/s]\n"
     ]
    },
    {
     "name": "stdout",
     "output_type": "stream",
     "text": [
      "score: write test scores to /home/hassan-hossein/single_image_graph_face_anti_spoofing/train/Scores/epoch_244/score.txt\n",
      "epoch:244, test:  val_ACC=0.8948, HTER=0.1052, AUC=0.9389, val_err=0.1052, ACC=0.8948, TPR=0.5337\n"
     ]
    },
    {
     "name": "stderr",
     "output_type": "stream",
     "text": [
      "Epoch 245: 100%|█████████████████████████| 3448/3448 [08:59<00:00,  6.39batch/s]\n"
     ]
    },
    {
     "name": "stdout",
     "output_type": "stream",
     "text": [
      "/////////////////////////\n",
      "adverserial loss :  tensor(3.2193e-10, device='cuda:1', grad_fn=<DivBackward0>)\n",
      "classification loss :  tensor(1.6896e-07, device='cuda:1', grad_fn=<DivBackward0>)\n",
      "classification node loss :  tensor(3.1234e-05, device='cuda:1', grad_fn=<DivBackward0>)\n",
      "total loss :  tensor(3.1403e-05, device='cuda:1', grad_fn=<DivBackward0>)\n",
      "////////////////////////////////////\n",
      "***************************\n",
      "test : \n"
     ]
    },
    {
     "name": "stderr",
     "output_type": "stream",
     "text": [
      "Epoch 245: 100%|███████████████████████████| 243/243 [00:39<00:00,  6.20batch/s]\n"
     ]
    },
    {
     "name": "stdout",
     "output_type": "stream",
     "text": [
      "score: write test scores to /home/hassan-hossein/single_image_graph_face_anti_spoofing/train/Scores/epoch_245/score.txt\n",
      "epoch:245, test:  val_ACC=0.8933, HTER=0.1067, AUC=0.9472, val_err=0.1067, ACC=0.8933, TPR=0.6685\n"
     ]
    },
    {
     "name": "stderr",
     "output_type": "stream",
     "text": [
      "Epoch 246: 100%|█████████████████████████| 3448/3448 [09:00<00:00,  6.38batch/s]\n"
     ]
    },
    {
     "name": "stdout",
     "output_type": "stream",
     "text": [
      "/////////////////////////\n",
      "adverserial loss :  tensor(8.3703e-06, device='cuda:1', grad_fn=<DivBackward0>)\n",
      "classification loss :  tensor(2.1632e-06, device='cuda:1', grad_fn=<DivBackward0>)\n",
      "classification node loss :  tensor(2.7245e-05, device='cuda:1', grad_fn=<DivBackward0>)\n",
      "total loss :  tensor(3.7778e-05, device='cuda:1', grad_fn=<DivBackward0>)\n",
      "////////////////////////////////////\n",
      "***************************\n",
      "test : \n"
     ]
    },
    {
     "name": "stderr",
     "output_type": "stream",
     "text": [
      "Epoch 246: 100%|███████████████████████████| 243/243 [00:38<00:00,  6.31batch/s]\n"
     ]
    },
    {
     "name": "stdout",
     "output_type": "stream",
     "text": [
      "score: write test scores to /home/hassan-hossein/single_image_graph_face_anti_spoofing/train/Scores/epoch_246/score.txt\n",
      "epoch:246, test:  val_ACC=0.8927, HTER=0.1073, AUC=0.9448, val_err=0.1073, ACC=0.8927, TPR=0.6669\n"
     ]
    },
    {
     "name": "stderr",
     "output_type": "stream",
     "text": [
      "Epoch 247: 100%|█████████████████████████| 3448/3448 [08:59<00:00,  6.40batch/s]\n"
     ]
    },
    {
     "name": "stdout",
     "output_type": "stream",
     "text": [
      "/////////////////////////\n",
      "adverserial loss :  tensor(5.1270e-07, device='cuda:1', grad_fn=<DivBackward0>)\n",
      "classification loss :  tensor(1.1951e-06, device='cuda:1', grad_fn=<DivBackward0>)\n",
      "classification node loss :  tensor(2.9963e-05, device='cuda:1', grad_fn=<DivBackward0>)\n",
      "total loss :  tensor(3.1671e-05, device='cuda:1', grad_fn=<DivBackward0>)\n",
      "////////////////////////////////////\n",
      "***************************\n",
      "test : \n"
     ]
    },
    {
     "name": "stderr",
     "output_type": "stream",
     "text": [
      "Epoch 247: 100%|███████████████████████████| 243/243 [00:38<00:00,  6.31batch/s]\n"
     ]
    },
    {
     "name": "stdout",
     "output_type": "stream",
     "text": [
      "score: write test scores to /home/hassan-hossein/single_image_graph_face_anti_spoofing/train/Scores/epoch_247/score.txt\n",
      "epoch:247, test:  val_ACC=0.8909, HTER=0.1091, AUC=0.9569, val_err=0.1091, ACC=0.8909, TPR=0.7873\n"
     ]
    },
    {
     "name": "stderr",
     "output_type": "stream",
     "text": [
      "Epoch 248: 100%|█████████████████████████| 3448/3448 [09:00<00:00,  6.38batch/s]\n"
     ]
    },
    {
     "name": "stdout",
     "output_type": "stream",
     "text": [
      "/////////////////////////\n",
      "adverserial loss :  tensor(2.4025e-07, device='cuda:1', grad_fn=<DivBackward0>)\n",
      "classification loss :  tensor(6.1152e-07, device='cuda:1', grad_fn=<DivBackward0>)\n",
      "classification node loss :  tensor(3.0458e-05, device='cuda:1', grad_fn=<DivBackward0>)\n",
      "total loss :  tensor(3.1309e-05, device='cuda:1', grad_fn=<DivBackward0>)\n",
      "////////////////////////////////////\n",
      "***************************\n",
      "test : \n"
     ]
    },
    {
     "name": "stderr",
     "output_type": "stream",
     "text": [
      "Epoch 248: 100%|███████████████████████████| 243/243 [00:40<00:00,  5.97batch/s]\n"
     ]
    },
    {
     "name": "stdout",
     "output_type": "stream",
     "text": [
      "score: write test scores to /home/hassan-hossein/single_image_graph_face_anti_spoofing/train/Scores/epoch_248/score.txt\n",
      "epoch:248, test:  val_ACC=0.8923, HTER=0.1078, AUC=0.9522, val_err=0.1078, ACC=0.8923, TPR=0.7220\n"
     ]
    },
    {
     "name": "stderr",
     "output_type": "stream",
     "text": [
      "Epoch 249: 100%|█████████████████████████| 3448/3448 [09:00<00:00,  6.37batch/s]\n"
     ]
    },
    {
     "name": "stdout",
     "output_type": "stream",
     "text": [
      "/////////////////////////\n",
      "adverserial loss :  tensor(3.0781e-07, device='cuda:1', grad_fn=<DivBackward0>)\n",
      "classification loss :  tensor(2.1302e-06, device='cuda:1', grad_fn=<DivBackward0>)\n",
      "classification node loss :  tensor(3.1866e-05, device='cuda:1', grad_fn=<DivBackward0>)\n",
      "total loss :  tensor(3.4304e-05, device='cuda:1', grad_fn=<DivBackward0>)\n",
      "////////////////////////////////////\n",
      "***************************\n",
      "test : \n"
     ]
    },
    {
     "name": "stderr",
     "output_type": "stream",
     "text": [
      "Epoch 249: 100%|███████████████████████████| 243/243 [00:39<00:00,  6.15batch/s]\n"
     ]
    },
    {
     "name": "stdout",
     "output_type": "stream",
     "text": [
      "score: write test scores to /home/hassan-hossein/single_image_graph_face_anti_spoofing/train/Scores/epoch_249/score.txt\n",
      "epoch:249, test:  val_ACC=0.9299, HTER=0.0702, AUC=0.9689, val_err=0.0701, ACC=0.9299, TPR=0.8621\n"
     ]
    },
    {
     "name": "stderr",
     "output_type": "stream",
     "text": [
      "Epoch 250: 100%|█████████████████████████| 3448/3448 [08:59<00:00,  6.39batch/s]\n"
     ]
    },
    {
     "name": "stdout",
     "output_type": "stream",
     "text": [
      "/////////////////////////\n",
      "adverserial loss :  tensor(7.2660e-07, device='cuda:1', grad_fn=<DivBackward0>)\n",
      "classification loss :  tensor(7.6958e-07, device='cuda:1', grad_fn=<DivBackward0>)\n",
      "classification node loss :  tensor(2.5891e-05, device='cuda:1', grad_fn=<DivBackward0>)\n",
      "total loss :  tensor(2.7387e-05, device='cuda:1', grad_fn=<DivBackward0>)\n",
      "////////////////////////////////////\n",
      "***************************\n",
      "test : \n"
     ]
    },
    {
     "name": "stderr",
     "output_type": "stream",
     "text": [
      "Epoch 250: 100%|███████████████████████████| 243/243 [00:39<00:00,  6.21batch/s]\n"
     ]
    },
    {
     "name": "stdout",
     "output_type": "stream",
     "text": [
      "score: write test scores to /home/hassan-hossein/single_image_graph_face_anti_spoofing/train/Scores/epoch_250/score.txt\n",
      "epoch:250, test:  val_ACC=0.8915, HTER=0.1086, AUC=0.9495, val_err=0.1086, ACC=0.8915, TPR=0.7513\n"
     ]
    },
    {
     "name": "stderr",
     "output_type": "stream",
     "text": [
      "Epoch 251: 100%|█████████████████████████| 3448/3448 [09:00<00:00,  6.38batch/s]\n"
     ]
    },
    {
     "name": "stdout",
     "output_type": "stream",
     "text": [
      "/////////////////////////\n",
      "adverserial loss :  tensor(2.6647e-08, device='cuda:1', grad_fn=<DivBackward0>)\n",
      "classification loss :  tensor(3.4960e-06, device='cuda:1', grad_fn=<DivBackward0>)\n",
      "classification node loss :  tensor(3.5672e-05, device='cuda:1', grad_fn=<DivBackward0>)\n",
      "total loss :  tensor(3.9195e-05, device='cuda:1', grad_fn=<DivBackward0>)\n",
      "////////////////////////////////////\n",
      "***************************\n",
      "test : \n"
     ]
    },
    {
     "name": "stderr",
     "output_type": "stream",
     "text": [
      "Epoch 251: 100%|███████████████████████████| 243/243 [00:38<00:00,  6.29batch/s]\n"
     ]
    },
    {
     "name": "stdout",
     "output_type": "stream",
     "text": [
      "score: write test scores to /home/hassan-hossein/single_image_graph_face_anti_spoofing/train/Scores/epoch_251/score.txt\n",
      "epoch:251, test:  val_ACC=0.8873, HTER=0.1127, AUC=0.9507, val_err=0.1128, ACC=0.8873, TPR=0.6836\n"
     ]
    },
    {
     "name": "stderr",
     "output_type": "stream",
     "text": [
      "Epoch 252: 100%|█████████████████████████| 3448/3448 [09:01<00:00,  6.37batch/s]\n"
     ]
    },
    {
     "name": "stdout",
     "output_type": "stream",
     "text": [
      "/////////////////////////\n",
      "adverserial loss :  tensor(1.2675e-06, device='cuda:1', grad_fn=<DivBackward0>)\n",
      "classification loss :  tensor(9.0157e-08, device='cuda:1', grad_fn=<DivBackward0>)\n",
      "classification node loss :  tensor(2.3112e-05, device='cuda:1', grad_fn=<DivBackward0>)\n",
      "total loss :  tensor(2.4469e-05, device='cuda:1', grad_fn=<DivBackward0>)\n",
      "////////////////////////////////////\n",
      "***************************\n",
      "test : \n"
     ]
    },
    {
     "name": "stderr",
     "output_type": "stream",
     "text": [
      "Epoch 252: 100%|███████████████████████████| 243/243 [00:39<00:00,  6.21batch/s]\n"
     ]
    },
    {
     "name": "stdout",
     "output_type": "stream",
     "text": [
      "score: write test scores to /home/hassan-hossein/single_image_graph_face_anti_spoofing/train/Scores/epoch_252/score.txt\n",
      "epoch:252, test:  val_ACC=0.8771, HTER=0.1230, AUC=0.9390, val_err=0.1230, ACC=0.8771, TPR=0.6710\n"
     ]
    },
    {
     "name": "stderr",
     "output_type": "stream",
     "text": [
      "Epoch 253: 100%|█████████████████████████| 3448/3448 [08:58<00:00,  6.41batch/s]\n"
     ]
    },
    {
     "name": "stdout",
     "output_type": "stream",
     "text": [
      "/////////////////////////\n",
      "adverserial loss :  tensor(8.1743e-07, device='cuda:1', grad_fn=<DivBackward0>)\n",
      "classification loss :  tensor(2.8702e-07, device='cuda:1', grad_fn=<DivBackward0>)\n",
      "classification node loss :  tensor(2.8124e-05, device='cuda:1', grad_fn=<DivBackward0>)\n",
      "total loss :  tensor(2.9228e-05, device='cuda:1', grad_fn=<DivBackward0>)\n",
      "////////////////////////////////////\n",
      "***************************\n",
      "test : \n"
     ]
    },
    {
     "name": "stderr",
     "output_type": "stream",
     "text": [
      "Epoch 253: 100%|███████████████████████████| 243/243 [00:39<00:00,  6.18batch/s]\n"
     ]
    },
    {
     "name": "stdout",
     "output_type": "stream",
     "text": [
      "score: write test scores to /home/hassan-hossein/single_image_graph_face_anti_spoofing/train/Scores/epoch_253/score.txt\n",
      "epoch:253, test:  val_ACC=0.8557, HTER=0.1443, AUC=0.9213, val_err=0.1443, ACC=0.8557, TPR=0.6734\n"
     ]
    },
    {
     "name": "stderr",
     "output_type": "stream",
     "text": [
      "Epoch 254: 100%|█████████████████████████| 3448/3448 [09:00<00:00,  6.38batch/s]\n"
     ]
    },
    {
     "name": "stdout",
     "output_type": "stream",
     "text": [
      "/////////////////////////\n",
      "adverserial loss :  tensor(1.5778e-08, device='cuda:1', grad_fn=<DivBackward0>)\n",
      "classification loss :  tensor(2.3426e-06, device='cuda:1', grad_fn=<DivBackward0>)\n",
      "classification node loss :  tensor(2.7727e-05, device='cuda:1', grad_fn=<DivBackward0>)\n",
      "total loss :  tensor(3.0085e-05, device='cuda:1', grad_fn=<DivBackward0>)\n",
      "////////////////////////////////////\n",
      "***************************\n",
      "test : \n"
     ]
    },
    {
     "name": "stderr",
     "output_type": "stream",
     "text": [
      "Epoch 254: 100%|███████████████████████████| 243/243 [00:38<00:00,  6.25batch/s]\n"
     ]
    },
    {
     "name": "stdout",
     "output_type": "stream",
     "text": [
      "score: write test scores to /home/hassan-hossein/single_image_graph_face_anti_spoofing/train/Scores/epoch_254/score.txt\n",
      "epoch:254, test:  val_ACC=0.8920, HTER=0.1080, AUC=0.9450, val_err=0.1081, ACC=0.8920, TPR=0.7595\n"
     ]
    },
    {
     "name": "stderr",
     "output_type": "stream",
     "text": [
      "Epoch 255: 100%|█████████████████████████| 3448/3448 [08:59<00:00,  6.39batch/s]\n"
     ]
    },
    {
     "name": "stdout",
     "output_type": "stream",
     "text": [
      "/////////////////////////\n",
      "adverserial loss :  tensor(2.6322e-06, device='cuda:1', grad_fn=<DivBackward0>)\n",
      "classification loss :  tensor(2.7612e-06, device='cuda:1', grad_fn=<DivBackward0>)\n",
      "classification node loss :  tensor(3.1197e-05, device='cuda:1', grad_fn=<DivBackward0>)\n",
      "total loss :  tensor(3.6591e-05, device='cuda:1', grad_fn=<DivBackward0>)\n",
      "////////////////////////////////////\n",
      "***************************\n",
      "test : \n"
     ]
    },
    {
     "name": "stderr",
     "output_type": "stream",
     "text": [
      "Epoch 255: 100%|███████████████████████████| 243/243 [00:38<00:00,  6.28batch/s]\n"
     ]
    },
    {
     "name": "stdout",
     "output_type": "stream",
     "text": [
      "score: write test scores to /home/hassan-hossein/single_image_graph_face_anti_spoofing/train/Scores/epoch_255/score.txt\n",
      "epoch:255, test:  val_ACC=0.8808, HTER=0.1191, AUC=0.9477, val_err=0.1192, ACC=0.8808, TPR=0.6366\n"
     ]
    },
    {
     "name": "stderr",
     "output_type": "stream",
     "text": [
      "Epoch 256: 100%|█████████████████████████| 3448/3448 [09:00<00:00,  6.38batch/s]\n"
     ]
    },
    {
     "name": "stdout",
     "output_type": "stream",
     "text": [
      "/////////////////////////\n",
      "adverserial loss :  tensor(1.4806e-06, device='cuda:1', grad_fn=<DivBackward0>)\n",
      "classification loss :  tensor(1.1786e-06, device='cuda:1', grad_fn=<DivBackward0>)\n",
      "classification node loss :  tensor(3.2246e-05, device='cuda:1', grad_fn=<DivBackward0>)\n",
      "total loss :  tensor(3.4905e-05, device='cuda:1', grad_fn=<DivBackward0>)\n",
      "////////////////////////////////////\n",
      "***************************\n",
      "test : \n"
     ]
    },
    {
     "name": "stderr",
     "output_type": "stream",
     "text": [
      "Epoch 256: 100%|███████████████████████████| 243/243 [00:38<00:00,  6.26batch/s]\n"
     ]
    },
    {
     "name": "stdout",
     "output_type": "stream",
     "text": [
      "score: write test scores to /home/hassan-hossein/single_image_graph_face_anti_spoofing/train/Scores/epoch_256/score.txt\n",
      "epoch:256, test:  val_ACC=0.8834, HTER=0.1166, AUC=0.9484, val_err=0.1166, ACC=0.8834, TPR=0.7317\n"
     ]
    },
    {
     "name": "stderr",
     "output_type": "stream",
     "text": [
      "Epoch 257: 100%|█████████████████████████| 3448/3448 [08:58<00:00,  6.40batch/s]\n"
     ]
    },
    {
     "name": "stdout",
     "output_type": "stream",
     "text": [
      "/////////////////////////\n",
      "adverserial loss :  tensor(5.0136e-07, device='cuda:1', grad_fn=<DivBackward0>)\n",
      "classification loss :  tensor(3.5408e-06, device='cuda:1', grad_fn=<DivBackward0>)\n",
      "classification node loss :  tensor(2.6128e-05, device='cuda:1', grad_fn=<DivBackward0>)\n",
      "total loss :  tensor(3.0170e-05, device='cuda:1', grad_fn=<DivBackward0>)\n",
      "////////////////////////////////////\n",
      "***************************\n",
      "test : \n"
     ]
    },
    {
     "name": "stderr",
     "output_type": "stream",
     "text": [
      "Epoch 257: 100%|███████████████████████████| 243/243 [00:39<00:00,  6.21batch/s]\n"
     ]
    },
    {
     "name": "stdout",
     "output_type": "stream",
     "text": [
      "score: write test scores to /home/hassan-hossein/single_image_graph_face_anti_spoofing/train/Scores/epoch_257/score.txt\n",
      "epoch:257, test:  val_ACC=0.8680, HTER=0.1320, AUC=0.9373, val_err=0.1321, ACC=0.8680, TPR=0.6019\n"
     ]
    },
    {
     "name": "stderr",
     "output_type": "stream",
     "text": [
      "Epoch 258: 100%|█████████████████████████| 3448/3448 [08:59<00:00,  6.40batch/s]\n"
     ]
    },
    {
     "name": "stdout",
     "output_type": "stream",
     "text": [
      "/////////////////////////\n",
      "adverserial loss :  tensor(2.9406e-07, device='cuda:1', grad_fn=<DivBackward0>)\n",
      "classification loss :  tensor(1.9407e-06, device='cuda:1', grad_fn=<DivBackward0>)\n",
      "classification node loss :  tensor(2.5694e-05, device='cuda:1', grad_fn=<DivBackward0>)\n",
      "total loss :  tensor(2.7929e-05, device='cuda:1', grad_fn=<DivBackward0>)\n",
      "////////////////////////////////////\n",
      "***************************\n",
      "test : \n"
     ]
    },
    {
     "name": "stderr",
     "output_type": "stream",
     "text": [
      "Epoch 258: 100%|███████████████████████████| 243/243 [00:39<00:00,  6.19batch/s]\n"
     ]
    },
    {
     "name": "stdout",
     "output_type": "stream",
     "text": [
      "score: write test scores to /home/hassan-hossein/single_image_graph_face_anti_spoofing/train/Scores/epoch_258/score.txt\n",
      "epoch:258, test:  val_ACC=0.9059, HTER=0.0941, AUC=0.9614, val_err=0.0942, ACC=0.9059, TPR=0.7523\n"
     ]
    },
    {
     "name": "stderr",
     "output_type": "stream",
     "text": [
      "Epoch 259: 100%|█████████████████████████| 3448/3448 [08:59<00:00,  6.39batch/s]\n"
     ]
    },
    {
     "name": "stdout",
     "output_type": "stream",
     "text": [
      "/////////////////////////\n",
      "adverserial loss :  tensor(8.2705e-10, device='cuda:1', grad_fn=<DivBackward0>)\n",
      "classification loss :  tensor(2.4909e-06, device='cuda:1', grad_fn=<DivBackward0>)\n",
      "classification node loss :  tensor(2.6822e-05, device='cuda:1', grad_fn=<DivBackward0>)\n",
      "total loss :  tensor(2.9314e-05, device='cuda:1', grad_fn=<DivBackward0>)\n",
      "////////////////////////////////////\n",
      "***************************\n",
      "test : \n"
     ]
    },
    {
     "name": "stderr",
     "output_type": "stream",
     "text": [
      "Epoch 259: 100%|███████████████████████████| 243/243 [00:39<00:00,  6.19batch/s]\n"
     ]
    },
    {
     "name": "stdout",
     "output_type": "stream",
     "text": [
      "score: write test scores to /home/hassan-hossein/single_image_graph_face_anti_spoofing/train/Scores/epoch_259/score.txt\n",
      "epoch:259, test:  val_ACC=0.9008, HTER=0.0992, AUC=0.9527, val_err=0.0992, ACC=0.9008, TPR=0.7544\n"
     ]
    },
    {
     "name": "stderr",
     "output_type": "stream",
     "text": [
      "Epoch 260: 100%|█████████████████████████| 3448/3448 [08:59<00:00,  6.39batch/s]\n"
     ]
    },
    {
     "name": "stdout",
     "output_type": "stream",
     "text": [
      "/////////////////////////\n",
      "adverserial loss :  tensor(2.2799e-09, device='cuda:1', grad_fn=<DivBackward0>)\n",
      "classification loss :  tensor(1.2169e-06, device='cuda:1', grad_fn=<DivBackward0>)\n",
      "classification node loss :  tensor(3.0571e-05, device='cuda:1', grad_fn=<DivBackward0>)\n",
      "total loss :  tensor(3.1790e-05, device='cuda:1', grad_fn=<DivBackward0>)\n",
      "////////////////////////////////////\n",
      "***************************\n",
      "test : \n"
     ]
    },
    {
     "name": "stderr",
     "output_type": "stream",
     "text": [
      "Epoch 260: 100%|███████████████████████████| 243/243 [00:38<00:00,  6.27batch/s]\n"
     ]
    },
    {
     "name": "stdout",
     "output_type": "stream",
     "text": [
      "score: write test scores to /home/hassan-hossein/single_image_graph_face_anti_spoofing/train/Scores/epoch_260/score.txt\n",
      "epoch:260, test:  val_ACC=0.8792, HTER=0.1209, AUC=0.9335, val_err=0.1208, ACC=0.8792, TPR=0.7989\n"
     ]
    },
    {
     "name": "stderr",
     "output_type": "stream",
     "text": [
      "Epoch 261: 100%|█████████████████████████| 3448/3448 [09:00<00:00,  6.38batch/s]\n"
     ]
    },
    {
     "name": "stdout",
     "output_type": "stream",
     "text": [
      "/////////////////////////\n",
      "adverserial loss :  tensor(6.2015e-07, device='cuda:1', grad_fn=<DivBackward0>)\n",
      "classification loss :  tensor(5.3561e-06, device='cuda:1', grad_fn=<DivBackward0>)\n",
      "classification node loss :  tensor(3.3058e-05, device='cuda:1', grad_fn=<DivBackward0>)\n",
      "total loss :  tensor(3.9034e-05, device='cuda:1', grad_fn=<DivBackward0>)\n",
      "////////////////////////////////////\n",
      "***************************\n",
      "test : \n"
     ]
    },
    {
     "name": "stderr",
     "output_type": "stream",
     "text": [
      "Epoch 261: 100%|███████████████████████████| 243/243 [00:39<00:00,  6.17batch/s]\n"
     ]
    },
    {
     "name": "stdout",
     "output_type": "stream",
     "text": [
      "score: write test scores to /home/hassan-hossein/single_image_graph_face_anti_spoofing/train/Scores/epoch_261/score.txt\n",
      "epoch:261, test:  val_ACC=0.8673, HTER=0.1327, AUC=0.9318, val_err=0.1327, ACC=0.8673, TPR=0.7070\n"
     ]
    },
    {
     "name": "stderr",
     "output_type": "stream",
     "text": [
      "Epoch 262: 100%|█████████████████████████| 3448/3448 [08:58<00:00,  6.40batch/s]\n"
     ]
    },
    {
     "name": "stdout",
     "output_type": "stream",
     "text": [
      "/////////////////////////\n",
      "adverserial loss :  tensor(1.2639e-07, device='cuda:1', grad_fn=<DivBackward0>)\n",
      "classification loss :  tensor(3.0911e-06, device='cuda:1', grad_fn=<DivBackward0>)\n",
      "classification node loss :  tensor(2.6616e-05, device='cuda:1', grad_fn=<DivBackward0>)\n",
      "total loss :  tensor(2.9833e-05, device='cuda:1', grad_fn=<DivBackward0>)\n",
      "////////////////////////////////////\n",
      "***************************\n",
      "test : \n"
     ]
    },
    {
     "name": "stderr",
     "output_type": "stream",
     "text": [
      "Epoch 262: 100%|███████████████████████████| 243/243 [00:38<00:00,  6.25batch/s]\n"
     ]
    },
    {
     "name": "stdout",
     "output_type": "stream",
     "text": [
      "score: write test scores to /home/hassan-hossein/single_image_graph_face_anti_spoofing/train/Scores/epoch_262/score.txt\n",
      "epoch:262, test:  val_ACC=0.8412, HTER=0.1588, AUC=0.9148, val_err=0.1588, ACC=0.8412, TPR=0.5723\n"
     ]
    },
    {
     "name": "stderr",
     "output_type": "stream",
     "text": [
      "Epoch 263: 100%|█████████████████████████| 3448/3448 [08:58<00:00,  6.40batch/s]\n"
     ]
    },
    {
     "name": "stdout",
     "output_type": "stream",
     "text": [
      "/////////////////////////\n",
      "adverserial loss :  tensor(5.6918e-07, device='cuda:1', grad_fn=<DivBackward0>)\n",
      "classification loss :  tensor(6.0163e-07, device='cuda:1', grad_fn=<DivBackward0>)\n",
      "classification node loss :  tensor(2.7346e-05, device='cuda:1', grad_fn=<DivBackward0>)\n",
      "total loss :  tensor(2.8517e-05, device='cuda:1', grad_fn=<DivBackward0>)\n",
      "////////////////////////////////////\n",
      "***************************\n",
      "test : \n"
     ]
    },
    {
     "name": "stderr",
     "output_type": "stream",
     "text": [
      "Epoch 263: 100%|███████████████████████████| 243/243 [00:38<00:00,  6.28batch/s]\n"
     ]
    },
    {
     "name": "stdout",
     "output_type": "stream",
     "text": [
      "score: write test scores to /home/hassan-hossein/single_image_graph_face_anti_spoofing/train/Scores/epoch_263/score.txt\n",
      "epoch:263, test:  val_ACC=0.8752, HTER=0.1248, AUC=0.9362, val_err=0.1249, ACC=0.8752, TPR=0.5957\n"
     ]
    },
    {
     "name": "stderr",
     "output_type": "stream",
     "text": [
      "Epoch 264: 100%|█████████████████████████| 3448/3448 [09:01<00:00,  6.36batch/s]\n"
     ]
    },
    {
     "name": "stdout",
     "output_type": "stream",
     "text": [
      "/////////////////////////\n",
      "adverserial loss :  tensor(7.5335e-09, device='cuda:1', grad_fn=<DivBackward0>)\n",
      "classification loss :  tensor(1.0037e-06, device='cuda:1', grad_fn=<DivBackward0>)\n",
      "classification node loss :  tensor(3.2724e-05, device='cuda:1', grad_fn=<DivBackward0>)\n",
      "total loss :  tensor(3.3735e-05, device='cuda:1', grad_fn=<DivBackward0>)\n",
      "////////////////////////////////////\n",
      "***************************\n",
      "test : \n"
     ]
    },
    {
     "name": "stderr",
     "output_type": "stream",
     "text": [
      "Epoch 264: 100%|███████████████████████████| 243/243 [00:38<00:00,  6.25batch/s]\n"
     ]
    },
    {
     "name": "stdout",
     "output_type": "stream",
     "text": [
      "score: write test scores to /home/hassan-hossein/single_image_graph_face_anti_spoofing/train/Scores/epoch_264/score.txt\n",
      "epoch:264, test:  val_ACC=0.8916, HTER=0.1083, AUC=0.9424, val_err=0.1084, ACC=0.8916, TPR=0.6569\n"
     ]
    },
    {
     "name": "stderr",
     "output_type": "stream",
     "text": [
      "Epoch 265: 100%|█████████████████████████| 3448/3448 [09:00<00:00,  6.38batch/s]\n"
     ]
    },
    {
     "name": "stdout",
     "output_type": "stream",
     "text": [
      "/////////////////////////\n",
      "adverserial loss :  tensor(2.3880e-07, device='cuda:1', grad_fn=<DivBackward0>)\n",
      "classification loss :  tensor(7.0773e-09, device='cuda:1', grad_fn=<DivBackward0>)\n",
      "classification node loss :  tensor(3.2507e-05, device='cuda:1', grad_fn=<DivBackward0>)\n",
      "total loss :  tensor(3.2753e-05, device='cuda:1', grad_fn=<DivBackward0>)\n",
      "////////////////////////////////////\n",
      "***************************\n",
      "test : \n"
     ]
    },
    {
     "name": "stderr",
     "output_type": "stream",
     "text": [
      "Epoch 265: 100%|███████████████████████████| 243/243 [00:39<00:00,  6.19batch/s]\n"
     ]
    },
    {
     "name": "stdout",
     "output_type": "stream",
     "text": [
      "score: write test scores to /home/hassan-hossein/single_image_graph_face_anti_spoofing/train/Scores/epoch_265/score.txt\n",
      "epoch:265, test:  val_ACC=0.8884, HTER=0.1116, AUC=0.9399, val_err=0.1117, ACC=0.8884, TPR=0.6669\n"
     ]
    },
    {
     "name": "stderr",
     "output_type": "stream",
     "text": [
      "Epoch 266: 100%|█████████████████████████| 3448/3448 [08:58<00:00,  6.40batch/s]\n"
     ]
    },
    {
     "name": "stdout",
     "output_type": "stream",
     "text": [
      "/////////////////////////\n",
      "adverserial loss :  tensor(1.0742e-06, device='cuda:1', grad_fn=<DivBackward0>)\n",
      "classification loss :  tensor(3.9724e-06, device='cuda:1', grad_fn=<DivBackward0>)\n",
      "classification node loss :  tensor(3.1021e-05, device='cuda:1', grad_fn=<DivBackward0>)\n",
      "total loss :  tensor(3.6068e-05, device='cuda:1', grad_fn=<DivBackward0>)\n",
      "////////////////////////////////////\n",
      "***************************\n",
      "test : \n"
     ]
    },
    {
     "name": "stderr",
     "output_type": "stream",
     "text": [
      "Epoch 266: 100%|███████████████████████████| 243/243 [00:39<00:00,  6.14batch/s]\n"
     ]
    },
    {
     "name": "stdout",
     "output_type": "stream",
     "text": [
      "score: write test scores to /home/hassan-hossein/single_image_graph_face_anti_spoofing/train/Scores/epoch_266/score.txt\n",
      "epoch:266, test:  val_ACC=0.8809, HTER=0.1191, AUC=0.9380, val_err=0.1191, ACC=0.8809, TPR=0.6708\n"
     ]
    },
    {
     "name": "stderr",
     "output_type": "stream",
     "text": [
      "Epoch 267: 100%|█████████████████████████| 3448/3448 [08:58<00:00,  6.40batch/s]\n"
     ]
    },
    {
     "name": "stdout",
     "output_type": "stream",
     "text": [
      "/////////////////////////\n",
      "adverserial loss :  tensor(5.6360e-07, device='cuda:1', grad_fn=<DivBackward0>)\n",
      "classification loss :  tensor(3.7811e-08, device='cuda:1', grad_fn=<DivBackward0>)\n",
      "classification node loss :  tensor(2.5192e-05, device='cuda:1', grad_fn=<DivBackward0>)\n",
      "total loss :  tensor(2.5794e-05, device='cuda:1', grad_fn=<DivBackward0>)\n",
      "////////////////////////////////////\n",
      "***************************\n",
      "test : \n"
     ]
    },
    {
     "name": "stderr",
     "output_type": "stream",
     "text": [
      "Epoch 267: 100%|███████████████████████████| 243/243 [00:37<00:00,  6.40batch/s]\n"
     ]
    },
    {
     "name": "stdout",
     "output_type": "stream",
     "text": [
      "score: write test scores to /home/hassan-hossein/single_image_graph_face_anti_spoofing/train/Scores/epoch_267/score.txt\n",
      "epoch:267, test:  val_ACC=0.8762, HTER=0.1238, AUC=0.9317, val_err=0.1238, ACC=0.8762, TPR=0.7541\n"
     ]
    },
    {
     "name": "stderr",
     "output_type": "stream",
     "text": [
      "Epoch 268: 100%|█████████████████████████| 3448/3448 [08:55<00:00,  6.44batch/s]\n"
     ]
    },
    {
     "name": "stdout",
     "output_type": "stream",
     "text": [
      "/////////////////////////\n",
      "adverserial loss :  tensor(4.1186e-09, device='cuda:1', grad_fn=<DivBackward0>)\n",
      "classification loss :  tensor(1.1064e-06, device='cuda:1', grad_fn=<DivBackward0>)\n",
      "classification node loss :  tensor(3.0050e-05, device='cuda:1', grad_fn=<DivBackward0>)\n",
      "total loss :  tensor(3.1161e-05, device='cuda:1', grad_fn=<DivBackward0>)\n",
      "////////////////////////////////////\n",
      "***************************\n",
      "test : \n"
     ]
    },
    {
     "name": "stderr",
     "output_type": "stream",
     "text": [
      "Epoch 268: 100%|███████████████████████████| 243/243 [00:38<00:00,  6.35batch/s]\n"
     ]
    },
    {
     "name": "stdout",
     "output_type": "stream",
     "text": [
      "score: write test scores to /home/hassan-hossein/single_image_graph_face_anti_spoofing/train/Scores/epoch_268/score.txt\n",
      "epoch:268, test:  val_ACC=0.8866, HTER=0.1134, AUC=0.9427, val_err=0.1135, ACC=0.8866, TPR=0.6793\n"
     ]
    },
    {
     "name": "stderr",
     "output_type": "stream",
     "text": [
      "Epoch 269: 100%|█████████████████████████| 3448/3448 [08:54<00:00,  6.45batch/s]\n"
     ]
    },
    {
     "name": "stdout",
     "output_type": "stream",
     "text": [
      "/////////////////////////\n",
      "adverserial loss :  tensor(7.3088e-07, device='cuda:1', grad_fn=<DivBackward0>)\n",
      "classification loss :  tensor(1.6658e-06, device='cuda:1', grad_fn=<DivBackward0>)\n",
      "classification node loss :  tensor(3.1261e-05, device='cuda:1', grad_fn=<DivBackward0>)\n",
      "total loss :  tensor(3.3658e-05, device='cuda:1', grad_fn=<DivBackward0>)\n",
      "////////////////////////////////////\n",
      "***************************\n",
      "test : \n"
     ]
    },
    {
     "name": "stderr",
     "output_type": "stream",
     "text": [
      "Epoch 269: 100%|███████████████████████████| 243/243 [00:39<00:00,  6.19batch/s]\n"
     ]
    },
    {
     "name": "stdout",
     "output_type": "stream",
     "text": [
      "score: write test scores to /home/hassan-hossein/single_image_graph_face_anti_spoofing/train/Scores/epoch_269/score.txt\n",
      "epoch:269, test:  val_ACC=0.8732, HTER=0.1268, AUC=0.9347, val_err=0.1268, ACC=0.8732, TPR=0.6962\n"
     ]
    },
    {
     "name": "stderr",
     "output_type": "stream",
     "text": [
      "Epoch 270: 100%|█████████████████████████| 3448/3448 [08:53<00:00,  6.47batch/s]\n"
     ]
    },
    {
     "name": "stdout",
     "output_type": "stream",
     "text": [
      "/////////////////////////\n",
      "adverserial loss :  tensor(3.3267e-08, device='cuda:1', grad_fn=<DivBackward0>)\n",
      "classification loss :  tensor(4.4370e-08, device='cuda:1', grad_fn=<DivBackward0>)\n",
      "classification node loss :  tensor(2.6860e-05, device='cuda:1', grad_fn=<DivBackward0>)\n",
      "total loss :  tensor(2.6938e-05, device='cuda:1', grad_fn=<DivBackward0>)\n",
      "////////////////////////////////////\n",
      "***************************\n",
      "test : \n"
     ]
    },
    {
     "name": "stderr",
     "output_type": "stream",
     "text": [
      "Epoch 270: 100%|███████████████████████████| 243/243 [00:38<00:00,  6.32batch/s]\n"
     ]
    },
    {
     "name": "stdout",
     "output_type": "stream",
     "text": [
      "score: write test scores to /home/hassan-hossein/single_image_graph_face_anti_spoofing/train/Scores/epoch_270/score.txt\n",
      "epoch:270, test:  val_ACC=0.8566, HTER=0.1435, AUC=0.9259, val_err=0.1435, ACC=0.8566, TPR=0.7461\n"
     ]
    },
    {
     "name": "stderr",
     "output_type": "stream",
     "text": [
      "Epoch 271: 100%|█████████████████████████| 3448/3448 [08:52<00:00,  6.47batch/s]\n"
     ]
    },
    {
     "name": "stdout",
     "output_type": "stream",
     "text": [
      "/////////////////////////\n",
      "adverserial loss :  tensor(7.6258e-10, device='cuda:1', grad_fn=<DivBackward0>)\n",
      "classification loss :  tensor(1.4345e-06, device='cuda:1', grad_fn=<DivBackward0>)\n",
      "classification node loss :  tensor(2.7605e-05, device='cuda:1', grad_fn=<DivBackward0>)\n",
      "total loss :  tensor(2.9040e-05, device='cuda:1', grad_fn=<DivBackward0>)\n",
      "////////////////////////////////////\n",
      "***************************\n",
      "test : \n"
     ]
    },
    {
     "name": "stderr",
     "output_type": "stream",
     "text": [
      "Epoch 271: 100%|███████████████████████████| 243/243 [00:39<00:00,  6.23batch/s]\n"
     ]
    },
    {
     "name": "stdout",
     "output_type": "stream",
     "text": [
      "score: write test scores to /home/hassan-hossein/single_image_graph_face_anti_spoofing/train/Scores/epoch_271/score.txt\n",
      "epoch:271, test:  val_ACC=0.8775, HTER=0.1224, AUC=0.9360, val_err=0.1225, ACC=0.8775, TPR=0.7935\n"
     ]
    },
    {
     "name": "stderr",
     "output_type": "stream",
     "text": [
      "Epoch 272: 100%|█████████████████████████| 3448/3448 [08:54<00:00,  6.45batch/s]\n"
     ]
    },
    {
     "name": "stdout",
     "output_type": "stream",
     "text": [
      "/////////////////////////\n",
      "adverserial loss :  tensor(1.3233e-06, device='cuda:1', grad_fn=<DivBackward0>)\n",
      "classification loss :  tensor(3.3089e-07, device='cuda:1', grad_fn=<DivBackward0>)\n",
      "classification node loss :  tensor(3.0396e-05, device='cuda:1', grad_fn=<DivBackward0>)\n",
      "total loss :  tensor(3.2050e-05, device='cuda:1', grad_fn=<DivBackward0>)\n",
      "////////////////////////////////////\n",
      "***************************\n",
      "test : \n"
     ]
    },
    {
     "name": "stderr",
     "output_type": "stream",
     "text": [
      "Epoch 272: 100%|███████████████████████████| 243/243 [00:39<00:00,  6.22batch/s]\n"
     ]
    },
    {
     "name": "stdout",
     "output_type": "stream",
     "text": [
      "score: write test scores to /home/hassan-hossein/single_image_graph_face_anti_spoofing/train/Scores/epoch_272/score.txt\n",
      "epoch:272, test:  val_ACC=0.8766, HTER=0.1244, AUC=0.9202, val_err=0.1241, ACC=0.8766, TPR=0.0000\n"
     ]
    },
    {
     "name": "stderr",
     "output_type": "stream",
     "text": [
      "Epoch 273: 100%|█████████████████████████| 3448/3448 [08:52<00:00,  6.48batch/s]\n"
     ]
    },
    {
     "name": "stdout",
     "output_type": "stream",
     "text": [
      "/////////////////////////\n",
      "adverserial loss :  tensor(2.3949e-07, device='cuda:1', grad_fn=<DivBackward0>)\n",
      "classification loss :  tensor(2.9325e-06, device='cuda:1', grad_fn=<DivBackward0>)\n",
      "classification node loss :  tensor(2.7879e-05, device='cuda:1', grad_fn=<DivBackward0>)\n",
      "total loss :  tensor(3.1051e-05, device='cuda:1', grad_fn=<DivBackward0>)\n",
      "////////////////////////////////////\n",
      "***************************\n",
      "test : \n"
     ]
    },
    {
     "name": "stderr",
     "output_type": "stream",
     "text": [
      "Epoch 273: 100%|███████████████████████████| 243/243 [00:39<00:00,  6.19batch/s]\n"
     ]
    },
    {
     "name": "stdout",
     "output_type": "stream",
     "text": [
      "score: write test scores to /home/hassan-hossein/single_image_graph_face_anti_spoofing/train/Scores/epoch_273/score.txt\n",
      "epoch:273, test:  val_ACC=0.8788, HTER=0.1212, AUC=0.9317, val_err=0.1213, ACC=0.8788, TPR=0.5514\n"
     ]
    },
    {
     "name": "stderr",
     "output_type": "stream",
     "text": [
      "Epoch 274: 100%|█████████████████████████| 3448/3448 [08:52<00:00,  6.47batch/s]\n"
     ]
    },
    {
     "name": "stdout",
     "output_type": "stream",
     "text": [
      "/////////////////////////\n",
      "adverserial loss :  tensor(5.6673e-09, device='cuda:1', grad_fn=<DivBackward0>)\n",
      "classification loss :  tensor(1.7908e-06, device='cuda:1', grad_fn=<DivBackward0>)\n",
      "classification node loss :  tensor(2.3071e-05, device='cuda:1', grad_fn=<DivBackward0>)\n",
      "total loss :  tensor(2.4868e-05, device='cuda:1', grad_fn=<DivBackward0>)\n",
      "////////////////////////////////////\n",
      "***************************\n",
      "test : \n"
     ]
    },
    {
     "name": "stderr",
     "output_type": "stream",
     "text": [
      "Epoch 274: 100%|███████████████████████████| 243/243 [00:38<00:00,  6.26batch/s]\n"
     ]
    },
    {
     "name": "stdout",
     "output_type": "stream",
     "text": [
      "score: write test scores to /home/hassan-hossein/single_image_graph_face_anti_spoofing/train/Scores/epoch_274/score.txt\n",
      "epoch:274, test:  val_ACC=0.8824, HTER=0.1176, AUC=0.9319, val_err=0.1176, ACC=0.8824, TPR=0.5080\n"
     ]
    },
    {
     "name": "stderr",
     "output_type": "stream",
     "text": [
      "Epoch 275: 100%|█████████████████████████| 3448/3448 [08:53<00:00,  6.46batch/s]\n"
     ]
    },
    {
     "name": "stdout",
     "output_type": "stream",
     "text": [
      "/////////////////////////\n",
      "adverserial loss :  tensor(8.7325e-07, device='cuda:1', grad_fn=<DivBackward0>)\n",
      "classification loss :  tensor(1.5717e-07, device='cuda:1', grad_fn=<DivBackward0>)\n",
      "classification node loss :  tensor(2.9015e-05, device='cuda:1', grad_fn=<DivBackward0>)\n",
      "total loss :  tensor(3.0046e-05, device='cuda:1', grad_fn=<DivBackward0>)\n",
      "////////////////////////////////////\n",
      "***************************\n",
      "test : \n"
     ]
    },
    {
     "name": "stderr",
     "output_type": "stream",
     "text": [
      "Epoch 275: 100%|███████████████████████████| 243/243 [00:38<00:00,  6.29batch/s]\n"
     ]
    },
    {
     "name": "stdout",
     "output_type": "stream",
     "text": [
      "score: write test scores to /home/hassan-hossein/single_image_graph_face_anti_spoofing/train/Scores/epoch_275/score.txt\n",
      "epoch:275, test:  val_ACC=0.8941, HTER=0.1060, AUC=0.9537, val_err=0.1060, ACC=0.8941, TPR=0.7822\n"
     ]
    },
    {
     "name": "stderr",
     "output_type": "stream",
     "text": [
      "Epoch 276: 100%|█████████████████████████| 3448/3448 [08:53<00:00,  6.46batch/s]\n"
     ]
    },
    {
     "name": "stdout",
     "output_type": "stream",
     "text": [
      "/////////////////////////\n",
      "adverserial loss :  tensor(9.6227e-10, device='cuda:1', grad_fn=<DivBackward0>)\n",
      "classification loss :  tensor(8.9312e-07, device='cuda:1', grad_fn=<DivBackward0>)\n",
      "classification node loss :  tensor(2.5263e-05, device='cuda:1', grad_fn=<DivBackward0>)\n",
      "total loss :  tensor(2.6157e-05, device='cuda:1', grad_fn=<DivBackward0>)\n",
      "////////////////////////////////////\n",
      "***************************\n",
      "test : \n"
     ]
    },
    {
     "name": "stderr",
     "output_type": "stream",
     "text": [
      "Epoch 276: 100%|███████████████████████████| 243/243 [00:39<00:00,  6.10batch/s]\n"
     ]
    },
    {
     "name": "stdout",
     "output_type": "stream",
     "text": [
      "score: write test scores to /home/hassan-hossein/single_image_graph_face_anti_spoofing/train/Scores/epoch_276/score.txt\n",
      "epoch:276, test:  val_ACC=0.8809, HTER=0.1191, AUC=0.9460, val_err=0.1191, ACC=0.8809, TPR=0.6502\n"
     ]
    },
    {
     "name": "stderr",
     "output_type": "stream",
     "text": [
      "Epoch 277: 100%|█████████████████████████| 3448/3448 [08:54<00:00,  6.45batch/s]\n"
     ]
    },
    {
     "name": "stdout",
     "output_type": "stream",
     "text": [
      "/////////////////////////\n",
      "adverserial loss :  tensor(1.6641e-09, device='cuda:1', grad_fn=<DivBackward0>)\n",
      "classification loss :  tensor(8.4806e-07, device='cuda:1', grad_fn=<DivBackward0>)\n",
      "classification node loss :  tensor(3.1287e-05, device='cuda:1', grad_fn=<DivBackward0>)\n",
      "total loss :  tensor(3.2136e-05, device='cuda:1', grad_fn=<DivBackward0>)\n",
      "////////////////////////////////////\n",
      "***************************\n",
      "test : \n"
     ]
    },
    {
     "name": "stderr",
     "output_type": "stream",
     "text": [
      "Epoch 277: 100%|███████████████████████████| 243/243 [00:41<00:00,  5.89batch/s]\n"
     ]
    },
    {
     "name": "stdout",
     "output_type": "stream",
     "text": [
      "score: write test scores to /home/hassan-hossein/single_image_graph_face_anti_spoofing/train/Scores/epoch_277/score.txt\n",
      "epoch:277, test:  val_ACC=0.8761, HTER=0.1239, AUC=0.9382, val_err=0.1239, ACC=0.8761, TPR=0.6698\n"
     ]
    },
    {
     "name": "stderr",
     "output_type": "stream",
     "text": [
      "Epoch 278: 100%|█████████████████████████| 3448/3448 [08:53<00:00,  6.46batch/s]\n"
     ]
    },
    {
     "name": "stdout",
     "output_type": "stream",
     "text": [
      "/////////////////////////\n",
      "adverserial loss :  tensor(1.5179e-06, device='cuda:1', grad_fn=<DivBackward0>)\n",
      "classification loss :  tensor(1.8054e-06, device='cuda:1', grad_fn=<DivBackward0>)\n",
      "classification node loss :  tensor(2.6005e-05, device='cuda:1', grad_fn=<DivBackward0>)\n",
      "total loss :  tensor(2.9328e-05, device='cuda:1', grad_fn=<DivBackward0>)\n",
      "////////////////////////////////////\n",
      "***************************\n",
      "test : \n"
     ]
    },
    {
     "name": "stderr",
     "output_type": "stream",
     "text": [
      "Epoch 278: 100%|███████████████████████████| 243/243 [00:38<00:00,  6.24batch/s]\n"
     ]
    },
    {
     "name": "stdout",
     "output_type": "stream",
     "text": [
      "score: write test scores to /home/hassan-hossein/single_image_graph_face_anti_spoofing/train/Scores/epoch_278/score.txt\n",
      "epoch:278, test:  val_ACC=0.8542, HTER=0.1459, AUC=0.9281, val_err=0.1459, ACC=0.8542, TPR=0.7011\n"
     ]
    },
    {
     "name": "stderr",
     "output_type": "stream",
     "text": [
      "Epoch 279: 100%|█████████████████████████| 3448/3448 [08:52<00:00,  6.47batch/s]\n"
     ]
    },
    {
     "name": "stdout",
     "output_type": "stream",
     "text": [
      "/////////////////////////\n",
      "adverserial loss :  tensor(4.8756e-08, device='cuda:1', grad_fn=<DivBackward0>)\n",
      "classification loss :  tensor(1.2171e-06, device='cuda:1', grad_fn=<DivBackward0>)\n",
      "classification node loss :  tensor(2.2622e-05, device='cuda:1', grad_fn=<DivBackward0>)\n",
      "total loss :  tensor(2.3888e-05, device='cuda:1', grad_fn=<DivBackward0>)\n",
      "////////////////////////////////////\n",
      "***************************\n",
      "test : \n"
     ]
    },
    {
     "name": "stderr",
     "output_type": "stream",
     "text": [
      "Epoch 279: 100%|███████████████████████████| 243/243 [00:39<00:00,  6.18batch/s]\n"
     ]
    },
    {
     "name": "stdout",
     "output_type": "stream",
     "text": [
      "score: write test scores to /home/hassan-hossein/single_image_graph_face_anti_spoofing/train/Scores/epoch_279/score.txt\n",
      "epoch:279, test:  val_ACC=0.8738, HTER=0.1263, AUC=0.9293, val_err=0.1262, ACC=0.8738, TPR=0.6559\n"
     ]
    },
    {
     "name": "stderr",
     "output_type": "stream",
     "text": [
      "Epoch 280: 100%|█████████████████████████| 3448/3448 [08:53<00:00,  6.46batch/s]\n"
     ]
    },
    {
     "name": "stdout",
     "output_type": "stream",
     "text": [
      "/////////////////////////\n",
      "adverserial loss :  tensor(6.5179e-07, device='cuda:1', grad_fn=<DivBackward0>)\n",
      "classification loss :  tensor(1.5697e-06, device='cuda:1', grad_fn=<DivBackward0>)\n",
      "classification node loss :  tensor(2.4225e-05, device='cuda:1', grad_fn=<DivBackward0>)\n",
      "total loss :  tensor(2.6446e-05, device='cuda:1', grad_fn=<DivBackward0>)\n",
      "////////////////////////////////////\n",
      "***************************\n",
      "test : \n"
     ]
    },
    {
     "name": "stderr",
     "output_type": "stream",
     "text": [
      "Epoch 280: 100%|███████████████████████████| 243/243 [00:38<00:00,  6.24batch/s]\n"
     ]
    },
    {
     "name": "stdout",
     "output_type": "stream",
     "text": [
      "score: write test scores to /home/hassan-hossein/single_image_graph_face_anti_spoofing/train/Scores/epoch_280/score.txt\n",
      "epoch:280, test:  val_ACC=0.8706, HTER=0.1294, AUC=0.9066, val_err=0.1294, ACC=0.8706, TPR=0.5599\n"
     ]
    },
    {
     "name": "stderr",
     "output_type": "stream",
     "text": [
      "Epoch 281: 100%|█████████████████████████| 3448/3448 [08:52<00:00,  6.47batch/s]\n"
     ]
    },
    {
     "name": "stdout",
     "output_type": "stream",
     "text": [
      "/////////////////////////\n",
      "adverserial loss :  tensor(1.0744e-07, device='cuda:1', grad_fn=<DivBackward0>)\n",
      "classification loss :  tensor(2.1128e-06, device='cuda:1', grad_fn=<DivBackward0>)\n",
      "classification node loss :  tensor(2.3856e-05, device='cuda:1', grad_fn=<DivBackward0>)\n",
      "total loss :  tensor(2.6076e-05, device='cuda:1', grad_fn=<DivBackward0>)\n",
      "////////////////////////////////////\n",
      "***************************\n",
      "test : \n"
     ]
    },
    {
     "name": "stderr",
     "output_type": "stream",
     "text": [
      "Epoch 281: 100%|███████████████████████████| 243/243 [00:38<00:00,  6.32batch/s]\n"
     ]
    },
    {
     "name": "stdout",
     "output_type": "stream",
     "text": [
      "score: write test scores to /home/hassan-hossein/single_image_graph_face_anti_spoofing/train/Scores/epoch_281/score.txt\n",
      "epoch:281, test:  val_ACC=0.8758, HTER=0.1242, AUC=0.9231, val_err=0.1243, ACC=0.8758, TPR=0.6080\n"
     ]
    },
    {
     "name": "stderr",
     "output_type": "stream",
     "text": [
      "Epoch 282: 100%|█████████████████████████| 3448/3448 [08:53<00:00,  6.46batch/s]\n"
     ]
    },
    {
     "name": "stdout",
     "output_type": "stream",
     "text": [
      "/////////////////////////\n",
      "adverserial loss :  tensor(4.2303e-09, device='cuda:1', grad_fn=<DivBackward0>)\n",
      "classification loss :  tensor(7.4162e-06, device='cuda:1', grad_fn=<DivBackward0>)\n",
      "classification node loss :  tensor(2.8665e-05, device='cuda:1', grad_fn=<DivBackward0>)\n",
      "total loss :  tensor(3.6086e-05, device='cuda:1', grad_fn=<DivBackward0>)\n",
      "////////////////////////////////////\n",
      "***************************\n",
      "test : \n"
     ]
    },
    {
     "name": "stderr",
     "output_type": "stream",
     "text": [
      "Epoch 282: 100%|███████████████████████████| 243/243 [00:38<00:00,  6.33batch/s]\n"
     ]
    },
    {
     "name": "stdout",
     "output_type": "stream",
     "text": [
      "score: write test scores to /home/hassan-hossein/single_image_graph_face_anti_spoofing/train/Scores/epoch_282/score.txt\n",
      "epoch:282, test:  val_ACC=0.8651, HTER=0.1350, AUC=0.9129, val_err=0.1350, ACC=0.8651, TPR=0.6790\n"
     ]
    },
    {
     "name": "stderr",
     "output_type": "stream",
     "text": [
      "Epoch 283: 100%|█████████████████████████| 3448/3448 [08:55<00:00,  6.44batch/s]\n"
     ]
    },
    {
     "name": "stdout",
     "output_type": "stream",
     "text": [
      "/////////////////////////\n",
      "adverserial loss :  tensor(6.3600e-10, device='cuda:1', grad_fn=<DivBackward0>)\n",
      "classification loss :  tensor(2.8174e-08, device='cuda:1', grad_fn=<DivBackward0>)\n",
      "classification node loss :  tensor(2.8408e-05, device='cuda:1', grad_fn=<DivBackward0>)\n",
      "total loss :  tensor(2.8436e-05, device='cuda:1', grad_fn=<DivBackward0>)\n",
      "////////////////////////////////////\n",
      "***************************\n",
      "test : \n"
     ]
    },
    {
     "name": "stderr",
     "output_type": "stream",
     "text": [
      "Epoch 283: 100%|███████████████████████████| 243/243 [00:39<00:00,  6.20batch/s]\n"
     ]
    },
    {
     "name": "stdout",
     "output_type": "stream",
     "text": [
      "score: write test scores to /home/hassan-hossein/single_image_graph_face_anti_spoofing/train/Scores/epoch_283/score.txt\n",
      "epoch:283, test:  val_ACC=0.8540, HTER=0.1461, AUC=0.9057, val_err=0.1460, ACC=0.8540, TPR=0.6582\n"
     ]
    },
    {
     "name": "stderr",
     "output_type": "stream",
     "text": [
      "Epoch 284: 100%|█████████████████████████| 3448/3448 [08:54<00:00,  6.46batch/s]\n"
     ]
    },
    {
     "name": "stdout",
     "output_type": "stream",
     "text": [
      "/////////////////////////\n",
      "adverserial loss :  tensor(7.0768e-07, device='cuda:1', grad_fn=<DivBackward0>)\n",
      "classification loss :  tensor(1.2125e-07, device='cuda:1', grad_fn=<DivBackward0>)\n",
      "classification node loss :  tensor(2.8491e-05, device='cuda:1', grad_fn=<DivBackward0>)\n",
      "total loss :  tensor(2.9320e-05, device='cuda:1', grad_fn=<DivBackward0>)\n",
      "////////////////////////////////////\n",
      "***************************\n",
      "test : \n"
     ]
    },
    {
     "name": "stderr",
     "output_type": "stream",
     "text": [
      "Epoch 284: 100%|███████████████████████████| 243/243 [00:39<00:00,  6.17batch/s]\n"
     ]
    },
    {
     "name": "stdout",
     "output_type": "stream",
     "text": [
      "score: write test scores to /home/hassan-hossein/single_image_graph_face_anti_spoofing/train/Scores/epoch_284/score.txt\n",
      "epoch:284, test:  val_ACC=0.8562, HTER=0.1438, AUC=0.9068, val_err=0.1438, ACC=0.8562, TPR=0.0000\n"
     ]
    },
    {
     "name": "stderr",
     "output_type": "stream",
     "text": [
      "Epoch 285: 100%|█████████████████████████| 3448/3448 [08:53<00:00,  6.46batch/s]\n"
     ]
    },
    {
     "name": "stdout",
     "output_type": "stream",
     "text": [
      "/////////////////////////\n",
      "adverserial loss :  tensor(5.9025e-09, device='cuda:1', grad_fn=<DivBackward0>)\n",
      "classification loss :  tensor(2.2872e-06, device='cuda:1', grad_fn=<DivBackward0>)\n",
      "classification node loss :  tensor(2.9012e-05, device='cuda:1', grad_fn=<DivBackward0>)\n",
      "total loss :  tensor(3.1306e-05, device='cuda:1', grad_fn=<DivBackward0>)\n",
      "////////////////////////////////////\n",
      "***************************\n",
      "test : \n"
     ]
    },
    {
     "name": "stderr",
     "output_type": "stream",
     "text": [
      "Epoch 285: 100%|███████████████████████████| 243/243 [00:38<00:00,  6.31batch/s]\n"
     ]
    },
    {
     "name": "stdout",
     "output_type": "stream",
     "text": [
      "score: write test scores to /home/hassan-hossein/single_image_graph_face_anti_spoofing/train/Scores/epoch_285/score.txt\n",
      "epoch:285, test:  val_ACC=0.8682, HTER=0.1317, AUC=0.9194, val_err=0.1318, ACC=0.8682, TPR=0.4943\n"
     ]
    },
    {
     "name": "stderr",
     "output_type": "stream",
     "text": [
      "Epoch 286: 100%|█████████████████████████| 3448/3448 [08:52<00:00,  6.47batch/s]\n"
     ]
    },
    {
     "name": "stdout",
     "output_type": "stream",
     "text": [
      "/////////////////////////\n",
      "adverserial loss :  tensor(1.8280e-07, device='cuda:1', grad_fn=<DivBackward0>)\n",
      "classification loss :  tensor(1.5302e-06, device='cuda:1', grad_fn=<DivBackward0>)\n",
      "classification node loss :  tensor(2.3383e-05, device='cuda:1', grad_fn=<DivBackward0>)\n",
      "total loss :  tensor(2.5096e-05, device='cuda:1', grad_fn=<DivBackward0>)\n",
      "////////////////////////////////////\n",
      "***************************\n",
      "test : \n"
     ]
    },
    {
     "name": "stderr",
     "output_type": "stream",
     "text": [
      "Epoch 286: 100%|███████████████████████████| 243/243 [00:38<00:00,  6.26batch/s]\n"
     ]
    },
    {
     "name": "stdout",
     "output_type": "stream",
     "text": [
      "score: write test scores to /home/hassan-hossein/single_image_graph_face_anti_spoofing/train/Scores/epoch_286/score.txt\n",
      "epoch:286, test:  val_ACC=0.8648, HTER=0.1353, AUC=0.9270, val_err=0.1352, ACC=0.8648, TPR=0.5787\n"
     ]
    },
    {
     "name": "stderr",
     "output_type": "stream",
     "text": [
      "Epoch 287: 100%|█████████████████████████| 3448/3448 [08:52<00:00,  6.47batch/s]\n"
     ]
    },
    {
     "name": "stdout",
     "output_type": "stream",
     "text": [
      "/////////////////////////\n",
      "adverserial loss :  tensor(7.1698e-08, device='cuda:1', grad_fn=<DivBackward0>)\n",
      "classification loss :  tensor(8.9692e-07, device='cuda:1', grad_fn=<DivBackward0>)\n",
      "classification node loss :  tensor(2.6204e-05, device='cuda:1', grad_fn=<DivBackward0>)\n",
      "total loss :  tensor(2.7172e-05, device='cuda:1', grad_fn=<DivBackward0>)\n",
      "////////////////////////////////////\n",
      "***************************\n",
      "test : \n"
     ]
    },
    {
     "name": "stderr",
     "output_type": "stream",
     "text": [
      "Epoch 287: 100%|███████████████████████████| 243/243 [00:39<00:00,  6.20batch/s]\n"
     ]
    },
    {
     "name": "stdout",
     "output_type": "stream",
     "text": [
      "score: write test scores to /home/hassan-hossein/single_image_graph_face_anti_spoofing/train/Scores/epoch_287/score.txt\n",
      "epoch:287, test:  val_ACC=0.8729, HTER=0.1271, AUC=0.9308, val_err=0.1272, ACC=0.8729, TPR=0.5844\n"
     ]
    },
    {
     "name": "stderr",
     "output_type": "stream",
     "text": [
      "Epoch 288: 100%|█████████████████████████| 3448/3448 [08:53<00:00,  6.46batch/s]\n"
     ]
    },
    {
     "name": "stdout",
     "output_type": "stream",
     "text": [
      "/////////////////////////\n",
      "adverserial loss :  tensor(1.1937e-07, device='cuda:1', grad_fn=<DivBackward0>)\n",
      "classification loss :  tensor(2.7311e-06, device='cuda:1', grad_fn=<DivBackward0>)\n",
      "classification node loss :  tensor(2.5773e-05, device='cuda:1', grad_fn=<DivBackward0>)\n",
      "total loss :  tensor(2.8623e-05, device='cuda:1', grad_fn=<DivBackward0>)\n",
      "////////////////////////////////////\n",
      "***************************\n",
      "test : \n"
     ]
    },
    {
     "name": "stderr",
     "output_type": "stream",
     "text": [
      "Epoch 288: 100%|███████████████████████████| 243/243 [00:39<00:00,  6.19batch/s]\n"
     ]
    },
    {
     "name": "stdout",
     "output_type": "stream",
     "text": [
      "score: write test scores to /home/hassan-hossein/single_image_graph_face_anti_spoofing/train/Scores/epoch_288/score.txt\n",
      "epoch:288, test:  val_ACC=0.8255, HTER=0.1746, AUC=0.8784, val_err=0.1746, ACC=0.8255, TPR=0.5193\n"
     ]
    },
    {
     "name": "stderr",
     "output_type": "stream",
     "text": [
      "Epoch 289: 100%|█████████████████████████| 3448/3448 [08:51<00:00,  6.48batch/s]\n"
     ]
    },
    {
     "name": "stdout",
     "output_type": "stream",
     "text": [
      "/////////////////////////\n",
      "adverserial loss :  tensor(1.4171e-06, device='cuda:1', grad_fn=<DivBackward0>)\n",
      "classification loss :  tensor(1.7736e-06, device='cuda:1', grad_fn=<DivBackward0>)\n",
      "classification node loss :  tensor(2.7114e-05, device='cuda:1', grad_fn=<DivBackward0>)\n",
      "total loss :  tensor(3.0305e-05, device='cuda:1', grad_fn=<DivBackward0>)\n",
      "////////////////////////////////////\n",
      "***************************\n",
      "test : \n"
     ]
    },
    {
     "name": "stderr",
     "output_type": "stream",
     "text": [
      "Epoch 289: 100%|███████████████████████████| 243/243 [00:38<00:00,  6.28batch/s]\n"
     ]
    },
    {
     "name": "stdout",
     "output_type": "stream",
     "text": [
      "score: write test scores to /home/hassan-hossein/single_image_graph_face_anti_spoofing/train/Scores/epoch_289/score.txt\n",
      "epoch:289, test:  val_ACC=0.9163, HTER=0.0836, AUC=0.9587, val_err=0.0837, ACC=0.9163, TPR=0.8652\n"
     ]
    },
    {
     "name": "stderr",
     "output_type": "stream",
     "text": [
      "Epoch 290: 100%|█████████████████████████| 3448/3448 [08:54<00:00,  6.45batch/s]\n"
     ]
    },
    {
     "name": "stdout",
     "output_type": "stream",
     "text": [
      "/////////////////////////\n",
      "adverserial loss :  tensor(3.0305e-07, device='cuda:1', grad_fn=<DivBackward0>)\n",
      "classification loss :  tensor(6.6840e-08, device='cuda:1', grad_fn=<DivBackward0>)\n",
      "classification node loss :  tensor(2.3227e-05, device='cuda:1', grad_fn=<DivBackward0>)\n",
      "total loss :  tensor(2.3597e-05, device='cuda:1', grad_fn=<DivBackward0>)\n",
      "////////////////////////////////////\n",
      "***************************\n",
      "test : \n"
     ]
    },
    {
     "name": "stderr",
     "output_type": "stream",
     "text": [
      "Epoch 290: 100%|███████████████████████████| 243/243 [00:38<00:00,  6.25batch/s]\n"
     ]
    },
    {
     "name": "stdout",
     "output_type": "stream",
     "text": [
      "score: write test scores to /home/hassan-hossein/single_image_graph_face_anti_spoofing/train/Scores/epoch_290/score.txt\n",
      "epoch:290, test:  val_ACC=0.8884, HTER=0.1116, AUC=0.9509, val_err=0.1117, ACC=0.8884, TPR=0.8431\n"
     ]
    },
    {
     "name": "stderr",
     "output_type": "stream",
     "text": [
      "Epoch 291: 100%|█████████████████████████| 3448/3448 [08:51<00:00,  6.48batch/s]\n"
     ]
    },
    {
     "name": "stdout",
     "output_type": "stream",
     "text": [
      "/////////////////////////\n",
      "adverserial loss :  tensor(9.7892e-09, device='cuda:1', grad_fn=<DivBackward0>)\n",
      "classification loss :  tensor(1.6434e-06, device='cuda:1', grad_fn=<DivBackward0>)\n",
      "classification node loss :  tensor(2.9768e-05, device='cuda:1', grad_fn=<DivBackward0>)\n",
      "total loss :  tensor(3.1421e-05, device='cuda:1', grad_fn=<DivBackward0>)\n",
      "////////////////////////////////////\n",
      "***************************\n",
      "test : \n"
     ]
    },
    {
     "name": "stderr",
     "output_type": "stream",
     "text": [
      "Epoch 291: 100%|███████████████████████████| 243/243 [00:38<00:00,  6.30batch/s]\n"
     ]
    },
    {
     "name": "stdout",
     "output_type": "stream",
     "text": [
      "score: write test scores to /home/hassan-hossein/single_image_graph_face_anti_spoofing/train/Scores/epoch_291/score.txt\n",
      "epoch:291, test:  val_ACC=0.8930, HTER=0.1070, AUC=0.9410, val_err=0.1070, ACC=0.8930, TPR=0.8251\n"
     ]
    },
    {
     "name": "stderr",
     "output_type": "stream",
     "text": [
      "Epoch 292: 100%|█████████████████████████| 3448/3448 [08:53<00:00,  6.46batch/s]\n"
     ]
    },
    {
     "name": "stdout",
     "output_type": "stream",
     "text": [
      "/////////////////////////\n",
      "adverserial loss :  tensor(4.8325e-09, device='cuda:1', grad_fn=<DivBackward0>)\n",
      "classification loss :  tensor(1.4438e-06, device='cuda:1', grad_fn=<DivBackward0>)\n",
      "classification node loss :  tensor(2.7274e-05, device='cuda:1', grad_fn=<DivBackward0>)\n",
      "total loss :  tensor(2.8723e-05, device='cuda:1', grad_fn=<DivBackward0>)\n",
      "////////////////////////////////////\n",
      "***************************\n",
      "test : \n"
     ]
    },
    {
     "name": "stderr",
     "output_type": "stream",
     "text": [
      "Epoch 292: 100%|███████████████████████████| 243/243 [00:38<00:00,  6.34batch/s]\n"
     ]
    },
    {
     "name": "stdout",
     "output_type": "stream",
     "text": [
      "score: write test scores to /home/hassan-hossein/single_image_graph_face_anti_spoofing/train/Scores/epoch_292/score.txt\n",
      "epoch:292, test:  val_ACC=0.8876, HTER=0.1124, AUC=0.9377, val_err=0.1124, ACC=0.8876, TPR=0.7392\n"
     ]
    },
    {
     "name": "stderr",
     "output_type": "stream",
     "text": [
      "Epoch 293: 100%|█████████████████████████| 3448/3448 [08:53<00:00,  6.46batch/s]\n"
     ]
    },
    {
     "name": "stdout",
     "output_type": "stream",
     "text": [
      "/////////////////////////\n",
      "adverserial loss :  tensor(1.7226e-06, device='cuda:1', grad_fn=<DivBackward0>)\n",
      "classification loss :  tensor(8.4667e-07, device='cuda:1', grad_fn=<DivBackward0>)\n",
      "classification node loss :  tensor(1.9124e-05, device='cuda:1', grad_fn=<DivBackward0>)\n",
      "total loss :  tensor(2.1694e-05, device='cuda:1', grad_fn=<DivBackward0>)\n",
      "////////////////////////////////////\n",
      "***************************\n",
      "test : \n"
     ]
    },
    {
     "name": "stderr",
     "output_type": "stream",
     "text": [
      "Epoch 293: 100%|███████████████████████████| 243/243 [00:38<00:00,  6.23batch/s]\n"
     ]
    },
    {
     "name": "stdout",
     "output_type": "stream",
     "text": [
      "score: write test scores to /home/hassan-hossein/single_image_graph_face_anti_spoofing/train/Scores/epoch_293/score.txt\n",
      "epoch:293, test:  val_ACC=0.8814, HTER=0.1186, AUC=0.9138, val_err=0.1186, ACC=0.8814, TPR=0.6867\n"
     ]
    },
    {
     "name": "stderr",
     "output_type": "stream",
     "text": [
      "Epoch 294: 100%|█████████████████████████| 3448/3448 [08:53<00:00,  6.46batch/s]\n"
     ]
    },
    {
     "name": "stdout",
     "output_type": "stream",
     "text": [
      "/////////////////////////\n",
      "adverserial loss :  tensor(4.4074e-09, device='cuda:1', grad_fn=<DivBackward0>)\n",
      "classification loss :  tensor(2.3261e-08, device='cuda:1', grad_fn=<DivBackward0>)\n",
      "classification node loss :  tensor(2.9700e-05, device='cuda:1', grad_fn=<DivBackward0>)\n",
      "total loss :  tensor(2.9728e-05, device='cuda:1', grad_fn=<DivBackward0>)\n",
      "////////////////////////////////////\n",
      "***************************\n",
      "test : \n"
     ]
    },
    {
     "name": "stderr",
     "output_type": "stream",
     "text": [
      "Epoch 294: 100%|███████████████████████████| 243/243 [00:38<00:00,  6.29batch/s]\n"
     ]
    },
    {
     "name": "stdout",
     "output_type": "stream",
     "text": [
      "score: write test scores to /home/hassan-hossein/single_image_graph_face_anti_spoofing/train/Scores/epoch_294/score.txt\n",
      "epoch:294, test:  val_ACC=0.8936, HTER=0.1065, AUC=0.9373, val_err=0.1064, ACC=0.8936, TPR=0.7184\n"
     ]
    },
    {
     "name": "stderr",
     "output_type": "stream",
     "text": [
      "Epoch 295: 100%|█████████████████████████| 3448/3448 [08:54<00:00,  6.45batch/s]\n"
     ]
    },
    {
     "name": "stdout",
     "output_type": "stream",
     "text": [
      "/////////////////////////\n",
      "adverserial loss :  tensor(9.2467e-10, device='cuda:1', grad_fn=<DivBackward0>)\n",
      "classification loss :  tensor(2.7234e-06, device='cuda:1', grad_fn=<DivBackward0>)\n",
      "classification node loss :  tensor(2.7207e-05, device='cuda:1', grad_fn=<DivBackward0>)\n",
      "total loss :  tensor(2.9931e-05, device='cuda:1', grad_fn=<DivBackward0>)\n",
      "////////////////////////////////////\n",
      "***************************\n",
      "test : \n"
     ]
    },
    {
     "name": "stderr",
     "output_type": "stream",
     "text": [
      "Epoch 295: 100%|███████████████████████████| 243/243 [00:39<00:00,  6.23batch/s]\n"
     ]
    },
    {
     "name": "stdout",
     "output_type": "stream",
     "text": [
      "score: write test scores to /home/hassan-hossein/single_image_graph_face_anti_spoofing/train/Scores/epoch_295/score.txt\n",
      "epoch:295, test:  val_ACC=0.9141, HTER=0.0859, AUC=0.9623, val_err=0.0859, ACC=0.9141, TPR=0.8099\n"
     ]
    },
    {
     "name": "stderr",
     "output_type": "stream",
     "text": [
      "Epoch 296: 100%|█████████████████████████| 3448/3448 [09:00<00:00,  6.38batch/s]\n"
     ]
    },
    {
     "name": "stdout",
     "output_type": "stream",
     "text": [
      "/////////////////////////\n",
      "adverserial loss :  tensor(3.8286e-07, device='cuda:1', grad_fn=<DivBackward0>)\n",
      "classification loss :  tensor(8.3566e-08, device='cuda:1', grad_fn=<DivBackward0>)\n",
      "classification node loss :  tensor(2.7411e-05, device='cuda:1', grad_fn=<DivBackward0>)\n",
      "total loss :  tensor(2.7877e-05, device='cuda:1', grad_fn=<DivBackward0>)\n",
      "////////////////////////////////////\n",
      "***************************\n",
      "test : \n"
     ]
    },
    {
     "name": "stderr",
     "output_type": "stream",
     "text": [
      "Epoch 296: 100%|███████████████████████████| 243/243 [00:38<00:00,  6.35batch/s]\n"
     ]
    },
    {
     "name": "stdout",
     "output_type": "stream",
     "text": [
      "score: write test scores to /home/hassan-hossein/single_image_graph_face_anti_spoofing/train/Scores/epoch_296/score.txt\n",
      "epoch:296, test:  val_ACC=0.9026, HTER=0.0974, AUC=0.9532, val_err=0.0974, ACC=0.9026, TPR=0.7788\n"
     ]
    },
    {
     "name": "stderr",
     "output_type": "stream",
     "text": [
      "Epoch 297: 100%|█████████████████████████| 3448/3448 [08:59<00:00,  6.39batch/s]\n"
     ]
    },
    {
     "name": "stdout",
     "output_type": "stream",
     "text": [
      "/////////////////////////\n",
      "adverserial loss :  tensor(1.6282e-09, device='cuda:1', grad_fn=<DivBackward0>)\n",
      "classification loss :  tensor(1.9530e-07, device='cuda:1', grad_fn=<DivBackward0>)\n",
      "classification node loss :  tensor(2.6832e-05, device='cuda:1', grad_fn=<DivBackward0>)\n",
      "total loss :  tensor(2.7029e-05, device='cuda:1', grad_fn=<DivBackward0>)\n",
      "////////////////////////////////////\n",
      "***************************\n",
      "test : \n"
     ]
    },
    {
     "name": "stderr",
     "output_type": "stream",
     "text": [
      "Epoch 297: 100%|███████████████████████████| 243/243 [00:39<00:00,  6.22batch/s]\n"
     ]
    },
    {
     "name": "stdout",
     "output_type": "stream",
     "text": [
      "score: write test scores to /home/hassan-hossein/single_image_graph_face_anti_spoofing/train/Scores/epoch_297/score.txt\n",
      "epoch:297, test:  val_ACC=0.9058, HTER=0.0941, AUC=0.9577, val_err=0.0942, ACC=0.9058, TPR=0.8102\n"
     ]
    },
    {
     "name": "stderr",
     "output_type": "stream",
     "text": [
      "Epoch 298: 100%|█████████████████████████| 3448/3448 [08:58<00:00,  6.40batch/s]\n"
     ]
    },
    {
     "name": "stdout",
     "output_type": "stream",
     "text": [
      "/////////////////////////\n",
      "adverserial loss :  tensor(1.8280e-08, device='cuda:1', grad_fn=<DivBackward0>)\n",
      "classification loss :  tensor(2.9238e-06, device='cuda:1', grad_fn=<DivBackward0>)\n",
      "classification node loss :  tensor(2.8627e-05, device='cuda:1', grad_fn=<DivBackward0>)\n",
      "total loss :  tensor(3.1569e-05, device='cuda:1', grad_fn=<DivBackward0>)\n",
      "////////////////////////////////////\n",
      "***************************\n",
      "test : \n"
     ]
    },
    {
     "name": "stderr",
     "output_type": "stream",
     "text": [
      "Epoch 298: 100%|███████████████████████████| 243/243 [00:38<00:00,  6.27batch/s]\n"
     ]
    },
    {
     "name": "stdout",
     "output_type": "stream",
     "text": [
      "score: write test scores to /home/hassan-hossein/single_image_graph_face_anti_spoofing/train/Scores/epoch_298/score.txt\n",
      "epoch:298, test:  val_ACC=0.9027, HTER=0.0973, AUC=0.9627, val_err=0.0973, ACC=0.9027, TPR=0.8146\n"
     ]
    },
    {
     "name": "stderr",
     "output_type": "stream",
     "text": [
      "Epoch 299: 100%|█████████████████████████| 3448/3448 [08:58<00:00,  6.40batch/s]\n"
     ]
    },
    {
     "name": "stdout",
     "output_type": "stream",
     "text": [
      "/////////////////////////\n",
      "adverserial loss :  tensor(1.5731e-06, device='cuda:1', grad_fn=<DivBackward0>)\n",
      "classification loss :  tensor(2.3002e-08, device='cuda:1', grad_fn=<DivBackward0>)\n",
      "classification node loss :  tensor(2.5218e-05, device='cuda:1', grad_fn=<DivBackward0>)\n",
      "total loss :  tensor(2.6814e-05, device='cuda:1', grad_fn=<DivBackward0>)\n",
      "////////////////////////////////////\n",
      "***************************\n",
      "test : \n"
     ]
    },
    {
     "name": "stderr",
     "output_type": "stream",
     "text": [
      "Epoch 299: 100%|███████████████████████████| 243/243 [00:39<00:00,  6.13batch/s]\n"
     ]
    },
    {
     "name": "stdout",
     "output_type": "stream",
     "text": [
      "score: write test scores to /home/hassan-hossein/single_image_graph_face_anti_spoofing/train/Scores/epoch_299/score.txt\n",
      "epoch:299, test:  val_ACC=0.8852, HTER=0.1148, AUC=0.9444, val_err=0.1148, ACC=0.8852, TPR=0.7220\n"
     ]
    },
    {
     "name": "stderr",
     "output_type": "stream",
     "text": [
      "Epoch 300: 100%|█████████████████████████| 3448/3448 [08:57<00:00,  6.41batch/s]\n"
     ]
    },
    {
     "name": "stdout",
     "output_type": "stream",
     "text": [
      "/////////////////////////\n",
      "adverserial loss :  tensor(2.7576e-09, device='cuda:1', grad_fn=<DivBackward0>)\n",
      "classification loss :  tensor(1.8412e-08, device='cuda:1', grad_fn=<DivBackward0>)\n",
      "classification node loss :  tensor(3.0092e-05, device='cuda:1', grad_fn=<DivBackward0>)\n",
      "total loss :  tensor(3.0114e-05, device='cuda:1', grad_fn=<DivBackward0>)\n",
      "////////////////////////////////////\n",
      "***************************\n",
      "test : \n"
     ]
    },
    {
     "name": "stderr",
     "output_type": "stream",
     "text": [
      "Epoch 300: 100%|███████████████████████████| 243/243 [00:39<00:00,  6.13batch/s]\n"
     ]
    },
    {
     "name": "stdout",
     "output_type": "stream",
     "text": [
      "score: write test scores to /home/hassan-hossein/single_image_graph_face_anti_spoofing/train/Scores/epoch_300/score.txt\n",
      "epoch:300, test:  val_ACC=0.8912, HTER=0.1088, AUC=0.9419, val_err=0.1088, ACC=0.8912, TPR=0.7302\n"
     ]
    },
    {
     "name": "stderr",
     "output_type": "stream",
     "text": [
      "Epoch 301: 100%|█████████████████████████| 3448/3448 [08:57<00:00,  6.41batch/s]\n"
     ]
    },
    {
     "name": "stdout",
     "output_type": "stream",
     "text": [
      "/////////////////////////\n",
      "adverserial loss :  tensor(4.4905e-08, device='cuda:1', grad_fn=<DivBackward0>)\n",
      "classification loss :  tensor(2.7058e-06, device='cuda:1', grad_fn=<DivBackward0>)\n",
      "classification node loss :  tensor(2.9102e-05, device='cuda:1', grad_fn=<DivBackward0>)\n",
      "total loss :  tensor(3.1853e-05, device='cuda:1', grad_fn=<DivBackward0>)\n",
      "////////////////////////////////////\n",
      "***************************\n",
      "test : \n"
     ]
    },
    {
     "name": "stderr",
     "output_type": "stream",
     "text": [
      "Epoch 301: 100%|███████████████████████████| 243/243 [00:39<00:00,  6.17batch/s]\n"
     ]
    },
    {
     "name": "stdout",
     "output_type": "stream",
     "text": [
      "score: write test scores to /home/hassan-hossein/single_image_graph_face_anti_spoofing/train/Scores/epoch_301/score.txt\n",
      "epoch:301, test:  val_ACC=0.8735, HTER=0.1265, AUC=0.9336, val_err=0.1265, ACC=0.8735, TPR=0.6471\n"
     ]
    },
    {
     "name": "stderr",
     "output_type": "stream",
     "text": [
      "Epoch 302: 100%|█████████████████████████| 3448/3448 [08:57<00:00,  6.42batch/s]\n"
     ]
    },
    {
     "name": "stdout",
     "output_type": "stream",
     "text": [
      "/////////////////////////\n",
      "adverserial loss :  tensor(7.9844e-08, device='cuda:1', grad_fn=<DivBackward0>)\n",
      "classification loss :  tensor(1.4735e-06, device='cuda:1', grad_fn=<DivBackward0>)\n",
      "classification node loss :  tensor(2.0901e-05, device='cuda:1', grad_fn=<DivBackward0>)\n",
      "total loss :  tensor(2.2454e-05, device='cuda:1', grad_fn=<DivBackward0>)\n",
      "////////////////////////////////////\n",
      "***************************\n",
      "test : \n"
     ]
    },
    {
     "name": "stderr",
     "output_type": "stream",
     "text": [
      "Epoch 302: 100%|███████████████████████████| 243/243 [00:39<00:00,  6.22batch/s]\n"
     ]
    },
    {
     "name": "stdout",
     "output_type": "stream",
     "text": [
      "score: write test scores to /home/hassan-hossein/single_image_graph_face_anti_spoofing/train/Scores/epoch_302/score.txt\n",
      "epoch:302, test:  val_ACC=0.8768, HTER=0.1232, AUC=0.9379, val_err=0.1232, ACC=0.8768, TPR=0.7382\n"
     ]
    },
    {
     "name": "stderr",
     "output_type": "stream",
     "text": [
      "Epoch 303: 100%|█████████████████████████| 3448/3448 [08:58<00:00,  6.40batch/s]\n"
     ]
    },
    {
     "name": "stdout",
     "output_type": "stream",
     "text": [
      "/////////////////////////\n",
      "adverserial loss :  tensor(2.2513e-06, device='cuda:1', grad_fn=<DivBackward0>)\n",
      "classification loss :  tensor(1.0303e-05, device='cuda:1', grad_fn=<DivBackward0>)\n",
      "classification node loss :  tensor(2.6870e-05, device='cuda:1', grad_fn=<DivBackward0>)\n",
      "total loss :  tensor(3.9424e-05, device='cuda:1', grad_fn=<DivBackward0>)\n",
      "////////////////////////////////////\n",
      "***************************\n",
      "test : \n"
     ]
    },
    {
     "name": "stderr",
     "output_type": "stream",
     "text": [
      "Epoch 303: 100%|███████████████████████████| 243/243 [00:39<00:00,  6.11batch/s]\n"
     ]
    },
    {
     "name": "stdout",
     "output_type": "stream",
     "text": [
      "score: write test scores to /home/hassan-hossein/single_image_graph_face_anti_spoofing/train/Scores/epoch_303/score.txt\n",
      "epoch:303, test:  val_ACC=0.8889, HTER=0.1111, AUC=0.9374, val_err=0.1111, ACC=0.8889, TPR=0.6548\n"
     ]
    },
    {
     "name": "stderr",
     "output_type": "stream",
     "text": [
      "Epoch 304: 100%|█████████████████████████| 3448/3448 [08:57<00:00,  6.41batch/s]\n"
     ]
    },
    {
     "name": "stdout",
     "output_type": "stream",
     "text": [
      "/////////////////////////\n",
      "adverserial loss :  tensor(4.7691e-09, device='cuda:1', grad_fn=<DivBackward0>)\n",
      "classification loss :  tensor(1.4109e-06, device='cuda:1', grad_fn=<DivBackward0>)\n",
      "classification node loss :  tensor(2.8712e-05, device='cuda:1', grad_fn=<DivBackward0>)\n",
      "total loss :  tensor(3.0128e-05, device='cuda:1', grad_fn=<DivBackward0>)\n",
      "////////////////////////////////////\n",
      "***************************\n",
      "test : \n"
     ]
    },
    {
     "name": "stderr",
     "output_type": "stream",
     "text": [
      "Epoch 304: 100%|███████████████████████████| 243/243 [00:38<00:00,  6.28batch/s]\n"
     ]
    },
    {
     "name": "stdout",
     "output_type": "stream",
     "text": [
      "score: write test scores to /home/hassan-hossein/single_image_graph_face_anti_spoofing/train/Scores/epoch_304/score.txt\n",
      "epoch:304, test:  val_ACC=0.8715, HTER=0.1286, AUC=0.9147, val_err=0.1286, ACC=0.8715, TPR=0.0000\n"
     ]
    },
    {
     "name": "stderr",
     "output_type": "stream",
     "text": [
      "Epoch 305: 100%|█████████████████████████| 3448/3448 [08:59<00:00,  6.39batch/s]\n"
     ]
    },
    {
     "name": "stdout",
     "output_type": "stream",
     "text": [
      "/////////////////////////\n",
      "adverserial loss :  tensor(5.7058e-07, device='cuda:1', grad_fn=<DivBackward0>)\n",
      "classification loss :  tensor(2.2506e-07, device='cuda:1', grad_fn=<DivBackward0>)\n",
      "classification node loss :  tensor(2.4680e-05, device='cuda:1', grad_fn=<DivBackward0>)\n",
      "total loss :  tensor(2.5476e-05, device='cuda:1', grad_fn=<DivBackward0>)\n",
      "////////////////////////////////////\n",
      "***************************\n",
      "test : \n"
     ]
    },
    {
     "name": "stderr",
     "output_type": "stream",
     "text": [
      "Epoch 305: 100%|███████████████████████████| 243/243 [00:39<00:00,  6.20batch/s]\n"
     ]
    },
    {
     "name": "stdout",
     "output_type": "stream",
     "text": [
      "score: write test scores to /home/hassan-hossein/single_image_graph_face_anti_spoofing/train/Scores/epoch_305/score.txt\n",
      "epoch:305, test:  val_ACC=0.8764, HTER=0.1237, AUC=0.9232, val_err=0.1237, ACC=0.8764, TPR=0.7984\n"
     ]
    },
    {
     "name": "stderr",
     "output_type": "stream",
     "text": [
      "Epoch 306: 100%|█████████████████████████| 3448/3448 [08:58<00:00,  6.40batch/s]\n"
     ]
    },
    {
     "name": "stdout",
     "output_type": "stream",
     "text": [
      "/////////////////////////\n",
      "adverserial loss :  tensor(3.3140e-08, device='cuda:1', grad_fn=<DivBackward0>)\n",
      "classification loss :  tensor(2.9208e-09, device='cuda:1', grad_fn=<DivBackward0>)\n",
      "classification node loss :  tensor(3.0061e-05, device='cuda:1', grad_fn=<DivBackward0>)\n",
      "total loss :  tensor(3.0097e-05, device='cuda:1', grad_fn=<DivBackward0>)\n",
      "////////////////////////////////////\n",
      "***************************\n",
      "test : \n"
     ]
    },
    {
     "name": "stderr",
     "output_type": "stream",
     "text": [
      "Epoch 306: 100%|███████████████████████████| 243/243 [00:38<00:00,  6.25batch/s]\n"
     ]
    },
    {
     "name": "stdout",
     "output_type": "stream",
     "text": [
      "score: write test scores to /home/hassan-hossein/single_image_graph_face_anti_spoofing/train/Scores/epoch_306/score.txt\n",
      "epoch:306, test:  val_ACC=0.8847, HTER=0.1153, AUC=0.9341, val_err=0.1153, ACC=0.8847, TPR=0.7299\n"
     ]
    },
    {
     "name": "stderr",
     "output_type": "stream",
     "text": [
      "Epoch 307: 100%|█████████████████████████| 3448/3448 [09:00<00:00,  6.38batch/s]\n"
     ]
    },
    {
     "name": "stdout",
     "output_type": "stream",
     "text": [
      "/////////////////////////\n",
      "adverserial loss :  tensor(4.4849e-08, device='cuda:1', grad_fn=<DivBackward0>)\n",
      "classification loss :  tensor(3.0911e-06, device='cuda:1', grad_fn=<DivBackward0>)\n",
      "classification node loss :  tensor(2.5940e-05, device='cuda:1', grad_fn=<DivBackward0>)\n",
      "total loss :  tensor(2.9076e-05, device='cuda:1', grad_fn=<DivBackward0>)\n",
      "////////////////////////////////////\n",
      "***************************\n",
      "test : \n"
     ]
    },
    {
     "name": "stderr",
     "output_type": "stream",
     "text": [
      "Epoch 307: 100%|███████████████████████████| 243/243 [00:39<00:00,  6.12batch/s]\n"
     ]
    },
    {
     "name": "stdout",
     "output_type": "stream",
     "text": [
      "score: write test scores to /home/hassan-hossein/single_image_graph_face_anti_spoofing/train/Scores/epoch_307/score.txt\n",
      "epoch:307, test:  val_ACC=0.8605, HTER=0.1395, AUC=0.9254, val_err=0.1395, ACC=0.8605, TPR=0.5105\n"
     ]
    },
    {
     "name": "stderr",
     "output_type": "stream",
     "text": [
      "Epoch 308: 100%|█████████████████████████| 3448/3448 [09:00<00:00,  6.38batch/s]\n"
     ]
    },
    {
     "name": "stdout",
     "output_type": "stream",
     "text": [
      "/////////////////////////\n",
      "adverserial loss :  tensor(4.7185e-10, device='cuda:1', grad_fn=<DivBackward0>)\n",
      "classification loss :  tensor(1.6179e-06, device='cuda:1', grad_fn=<DivBackward0>)\n",
      "classification node loss :  tensor(2.6247e-05, device='cuda:1', grad_fn=<DivBackward0>)\n",
      "total loss :  tensor(2.7866e-05, device='cuda:1', grad_fn=<DivBackward0>)\n",
      "////////////////////////////////////\n",
      "***************************\n",
      "test : \n"
     ]
    },
    {
     "name": "stderr",
     "output_type": "stream",
     "text": [
      "Epoch 308: 100%|███████████████████████████| 243/243 [00:39<00:00,  6.10batch/s]\n"
     ]
    },
    {
     "name": "stdout",
     "output_type": "stream",
     "text": [
      "score: write test scores to /home/hassan-hossein/single_image_graph_face_anti_spoofing/train/Scores/epoch_308/score.txt\n",
      "epoch:308, test:  val_ACC=0.8869, HTER=0.1132, AUC=0.9419, val_err=0.1132, ACC=0.8869, TPR=0.7572\n"
     ]
    },
    {
     "name": "stderr",
     "output_type": "stream",
     "text": [
      "Epoch 309: 100%|█████████████████████████| 3448/3448 [08:57<00:00,  6.41batch/s]\n"
     ]
    },
    {
     "name": "stdout",
     "output_type": "stream",
     "text": [
      "/////////////////////////\n",
      "adverserial loss :  tensor(1.1962e-10, device='cuda:1', grad_fn=<DivBackward0>)\n",
      "classification loss :  tensor(2.7317e-07, device='cuda:1', grad_fn=<DivBackward0>)\n",
      "classification node loss :  tensor(2.4015e-05, device='cuda:1', grad_fn=<DivBackward0>)\n",
      "total loss :  tensor(2.4289e-05, device='cuda:1', grad_fn=<DivBackward0>)\n",
      "////////////////////////////////////\n",
      "***************************\n",
      "test : \n"
     ]
    },
    {
     "name": "stderr",
     "output_type": "stream",
     "text": [
      "Epoch 309: 100%|███████████████████████████| 243/243 [00:39<00:00,  6.19batch/s]\n"
     ]
    },
    {
     "name": "stdout",
     "output_type": "stream",
     "text": [
      "score: write test scores to /home/hassan-hossein/single_image_graph_face_anti_spoofing/train/Scores/epoch_309/score.txt\n",
      "epoch:309, test:  val_ACC=0.8725, HTER=0.1276, AUC=0.9229, val_err=0.1276, ACC=0.8725, TPR=0.6564\n"
     ]
    },
    {
     "name": "stderr",
     "output_type": "stream",
     "text": [
      "Epoch 310: 100%|█████████████████████████| 3448/3448 [08:57<00:00,  6.41batch/s]\n"
     ]
    },
    {
     "name": "stdout",
     "output_type": "stream",
     "text": [
      "/////////////////////////\n",
      "adverserial loss :  tensor(9.3310e-07, device='cuda:1', grad_fn=<DivBackward0>)\n",
      "classification loss :  tensor(2.6856e-06, device='cuda:1', grad_fn=<DivBackward0>)\n",
      "classification node loss :  tensor(2.5430e-05, device='cuda:1', grad_fn=<DivBackward0>)\n",
      "total loss :  tensor(2.9049e-05, device='cuda:1', grad_fn=<DivBackward0>)\n",
      "////////////////////////////////////\n",
      "***************************\n",
      "test : \n"
     ]
    },
    {
     "name": "stderr",
     "output_type": "stream",
     "text": [
      "Epoch 310: 100%|███████████████████████████| 243/243 [00:38<00:00,  6.31batch/s]\n"
     ]
    },
    {
     "name": "stdout",
     "output_type": "stream",
     "text": [
      "score: write test scores to /home/hassan-hossein/single_image_graph_face_anti_spoofing/train/Scores/epoch_310/score.txt\n",
      "epoch:310, test:  val_ACC=0.8755, HTER=0.1245, AUC=0.9321, val_err=0.1245, ACC=0.8755, TPR=0.6674\n"
     ]
    },
    {
     "name": "stderr",
     "output_type": "stream",
     "text": [
      "Epoch 311: 100%|█████████████████████████| 3448/3448 [08:59<00:00,  6.39batch/s]\n"
     ]
    },
    {
     "name": "stdout",
     "output_type": "stream",
     "text": [
      "/////////////////////////\n",
      "adverserial loss :  tensor(6.2817e-08, device='cuda:1', grad_fn=<DivBackward0>)\n",
      "classification loss :  tensor(2.8998e-06, device='cuda:1', grad_fn=<DivBackward0>)\n",
      "classification node loss :  tensor(2.7105e-05, device='cuda:1', grad_fn=<DivBackward0>)\n",
      "total loss :  tensor(3.0068e-05, device='cuda:1', grad_fn=<DivBackward0>)\n",
      "////////////////////////////////////\n",
      "***************************\n",
      "test : \n"
     ]
    },
    {
     "name": "stderr",
     "output_type": "stream",
     "text": [
      "Epoch 311: 100%|███████████████████████████| 243/243 [00:39<00:00,  6.19batch/s]\n"
     ]
    },
    {
     "name": "stdout",
     "output_type": "stream",
     "text": [
      "score: write test scores to /home/hassan-hossein/single_image_graph_face_anti_spoofing/train/Scores/epoch_311/score.txt\n",
      "epoch:311, test:  val_ACC=0.8918, HTER=0.1083, AUC=0.9443, val_err=0.1083, ACC=0.8918, TPR=0.7629\n"
     ]
    },
    {
     "name": "stderr",
     "output_type": "stream",
     "text": [
      "Epoch 312: 100%|█████████████████████████| 3448/3448 [08:59<00:00,  6.39batch/s]\n"
     ]
    },
    {
     "name": "stdout",
     "output_type": "stream",
     "text": [
      "/////////////////////////\n",
      "adverserial loss :  tensor(1.3106e-06, device='cuda:1', grad_fn=<DivBackward0>)\n",
      "classification loss :  tensor(9.7671e-07, device='cuda:1', grad_fn=<DivBackward0>)\n",
      "classification node loss :  tensor(2.5657e-05, device='cuda:1', grad_fn=<DivBackward0>)\n",
      "total loss :  tensor(2.7944e-05, device='cuda:1', grad_fn=<DivBackward0>)\n",
      "////////////////////////////////////\n",
      "***************************\n",
      "test : \n"
     ]
    },
    {
     "name": "stderr",
     "output_type": "stream",
     "text": [
      "Epoch 312: 100%|███████████████████████████| 243/243 [00:39<00:00,  6.22batch/s]\n"
     ]
    },
    {
     "name": "stdout",
     "output_type": "stream",
     "text": [
      "score: write test scores to /home/hassan-hossein/single_image_graph_face_anti_spoofing/train/Scores/epoch_312/score.txt\n",
      "epoch:312, test:  val_ACC=0.8916, HTER=0.1083, AUC=0.9424, val_err=0.1084, ACC=0.8916, TPR=0.7142\n"
     ]
    },
    {
     "name": "stderr",
     "output_type": "stream",
     "text": [
      "Epoch 313: 100%|█████████████████████████| 3448/3448 [09:00<00:00,  6.38batch/s]\n"
     ]
    },
    {
     "name": "stdout",
     "output_type": "stream",
     "text": [
      "/////////////////////////\n",
      "adverserial loss :  tensor(1.3569e-08, device='cuda:1', grad_fn=<DivBackward0>)\n",
      "classification loss :  tensor(7.7968e-07, device='cuda:1', grad_fn=<DivBackward0>)\n",
      "classification node loss :  tensor(2.3790e-05, device='cuda:1', grad_fn=<DivBackward0>)\n",
      "total loss :  tensor(2.4583e-05, device='cuda:1', grad_fn=<DivBackward0>)\n",
      "////////////////////////////////////\n",
      "***************************\n",
      "test : \n"
     ]
    },
    {
     "name": "stderr",
     "output_type": "stream",
     "text": [
      "Epoch 313: 100%|███████████████████████████| 243/243 [00:38<00:00,  6.26batch/s]\n"
     ]
    },
    {
     "name": "stdout",
     "output_type": "stream",
     "text": [
      "score: write test scores to /home/hassan-hossein/single_image_graph_face_anti_spoofing/train/Scores/epoch_313/score.txt\n",
      "epoch:313, test:  val_ACC=0.8745, HTER=0.1255, AUC=0.9324, val_err=0.1255, ACC=0.8745, TPR=0.6481\n"
     ]
    },
    {
     "name": "stderr",
     "output_type": "stream",
     "text": [
      "Epoch 314: 100%|█████████████████████████| 3448/3448 [09:00<00:00,  6.38batch/s]\n"
     ]
    },
    {
     "name": "stdout",
     "output_type": "stream",
     "text": [
      "/////////////////////////\n",
      "adverserial loss :  tensor(1.2780e-09, device='cuda:1', grad_fn=<DivBackward0>)\n",
      "classification loss :  tensor(4.1969e-08, device='cuda:1', grad_fn=<DivBackward0>)\n",
      "classification node loss :  tensor(2.6365e-05, device='cuda:1', grad_fn=<DivBackward0>)\n",
      "total loss :  tensor(2.6408e-05, device='cuda:1', grad_fn=<DivBackward0>)\n",
      "////////////////////////////////////\n",
      "***************************\n",
      "test : \n"
     ]
    },
    {
     "name": "stderr",
     "output_type": "stream",
     "text": [
      "Epoch 314: 100%|███████████████████████████| 243/243 [00:38<00:00,  6.24batch/s]\n"
     ]
    },
    {
     "name": "stdout",
     "output_type": "stream",
     "text": [
      "score: write test scores to /home/hassan-hossein/single_image_graph_face_anti_spoofing/train/Scores/epoch_314/score.txt\n",
      "epoch:314, test:  val_ACC=0.8874, HTER=0.1127, AUC=0.9449, val_err=0.1127, ACC=0.8874, TPR=0.7225\n"
     ]
    },
    {
     "name": "stderr",
     "output_type": "stream",
     "text": [
      "Epoch 315: 100%|█████████████████████████| 3448/3448 [09:01<00:00,  6.37batch/s]\n"
     ]
    },
    {
     "name": "stdout",
     "output_type": "stream",
     "text": [
      "/////////////////////////\n",
      "adverserial loss :  tensor(2.0970e-07, device='cuda:1', grad_fn=<DivBackward0>)\n",
      "classification loss :  tensor(3.2876e-06, device='cuda:1', grad_fn=<DivBackward0>)\n",
      "classification node loss :  tensor(2.5969e-05, device='cuda:1', grad_fn=<DivBackward0>)\n",
      "total loss :  tensor(2.9467e-05, device='cuda:1', grad_fn=<DivBackward0>)\n",
      "////////////////////////////////////\n",
      "***************************\n",
      "test : \n"
     ]
    },
    {
     "name": "stderr",
     "output_type": "stream",
     "text": [
      "Epoch 315: 100%|███████████████████████████| 243/243 [00:38<00:00,  6.33batch/s]\n"
     ]
    },
    {
     "name": "stdout",
     "output_type": "stream",
     "text": [
      "score: write test scores to /home/hassan-hossein/single_image_graph_face_anti_spoofing/train/Scores/epoch_315/score.txt\n",
      "epoch:315, test:  val_ACC=0.8957, HTER=0.1044, AUC=0.9329, val_err=0.1044, ACC=0.8957, TPR=0.6656\n"
     ]
    },
    {
     "name": "stderr",
     "output_type": "stream",
     "text": [
      "Epoch 316: 100%|█████████████████████████| 3448/3448 [09:00<00:00,  6.38batch/s]\n"
     ]
    },
    {
     "name": "stdout",
     "output_type": "stream",
     "text": [
      "/////////////////////////\n",
      "adverserial loss :  tensor(8.6919e-07, device='cuda:1', grad_fn=<DivBackward0>)\n",
      "classification loss :  tensor(4.5909e-07, device='cuda:1', grad_fn=<DivBackward0>)\n",
      "classification node loss :  tensor(2.4228e-05, device='cuda:1', grad_fn=<DivBackward0>)\n",
      "total loss :  tensor(2.5556e-05, device='cuda:1', grad_fn=<DivBackward0>)\n",
      "////////////////////////////////////\n",
      "***************************\n",
      "test : \n"
     ]
    },
    {
     "name": "stderr",
     "output_type": "stream",
     "text": [
      "Epoch 316: 100%|███████████████████████████| 243/243 [00:38<00:00,  6.25batch/s]\n"
     ]
    },
    {
     "name": "stdout",
     "output_type": "stream",
     "text": [
      "score: write test scores to /home/hassan-hossein/single_image_graph_face_anti_spoofing/train/Scores/epoch_316/score.txt\n",
      "epoch:316, test:  val_ACC=0.9060, HTER=0.0939, AUC=0.9464, val_err=0.0940, ACC=0.9060, TPR=0.8297\n"
     ]
    },
    {
     "name": "stderr",
     "output_type": "stream",
     "text": [
      "Epoch 317: 100%|█████████████████████████| 3448/3448 [08:59<00:00,  6.39batch/s]\n"
     ]
    },
    {
     "name": "stdout",
     "output_type": "stream",
     "text": [
      "/////////////////////////\n",
      "adverserial loss :  tensor(2.1065e-08, device='cuda:1', grad_fn=<DivBackward0>)\n",
      "classification loss :  tensor(4.2690e-06, device='cuda:1', grad_fn=<DivBackward0>)\n",
      "classification node loss :  tensor(3.0504e-05, device='cuda:1', grad_fn=<DivBackward0>)\n",
      "total loss :  tensor(3.4794e-05, device='cuda:1', grad_fn=<DivBackward0>)\n",
      "////////////////////////////////////\n",
      "***************************\n",
      "test : \n"
     ]
    },
    {
     "name": "stderr",
     "output_type": "stream",
     "text": [
      "Epoch 317: 100%|███████████████████████████| 243/243 [00:38<00:00,  6.31batch/s]\n"
     ]
    },
    {
     "name": "stdout",
     "output_type": "stream",
     "text": [
      "score: write test scores to /home/hassan-hossein/single_image_graph_face_anti_spoofing/train/Scores/epoch_317/score.txt\n",
      "epoch:317, test:  val_ACC=0.8875, HTER=0.1126, AUC=0.9371, val_err=0.1126, ACC=0.8875, TPR=0.6078\n"
     ]
    },
    {
     "name": "stderr",
     "output_type": "stream",
     "text": [
      "Epoch 318: 100%|█████████████████████████| 3448/3448 [08:58<00:00,  6.41batch/s]\n"
     ]
    },
    {
     "name": "stdout",
     "output_type": "stream",
     "text": [
      "/////////////////////////\n",
      "adverserial loss :  tensor(7.8845e-08, device='cuda:1', grad_fn=<DivBackward0>)\n",
      "classification loss :  tensor(3.7356e-07, device='cuda:1', grad_fn=<DivBackward0>)\n",
      "classification node loss :  tensor(2.4742e-05, device='cuda:1', grad_fn=<DivBackward0>)\n",
      "total loss :  tensor(2.5195e-05, device='cuda:1', grad_fn=<DivBackward0>)\n",
      "////////////////////////////////////\n",
      "***************************\n",
      "test : \n"
     ]
    },
    {
     "name": "stderr",
     "output_type": "stream",
     "text": [
      "Epoch 318: 100%|███████████████████████████| 243/243 [00:39<00:00,  6.13batch/s]\n"
     ]
    },
    {
     "name": "stdout",
     "output_type": "stream",
     "text": [
      "score: write test scores to /home/hassan-hossein/single_image_graph_face_anti_spoofing/train/Scores/epoch_318/score.txt\n",
      "epoch:318, test:  val_ACC=0.8918, HTER=0.1083, AUC=0.9338, val_err=0.1082, ACC=0.8918, TPR=0.7780\n"
     ]
    },
    {
     "name": "stderr",
     "output_type": "stream",
     "text": [
      "Epoch 319: 100%|█████████████████████████| 3448/3448 [08:57<00:00,  6.41batch/s]\n"
     ]
    },
    {
     "name": "stdout",
     "output_type": "stream",
     "text": [
      "/////////////////////////\n",
      "adverserial loss :  tensor(7.5869e-07, device='cuda:1', grad_fn=<DivBackward0>)\n",
      "classification loss :  tensor(1.1551e-06, device='cuda:1', grad_fn=<DivBackward0>)\n",
      "classification node loss :  tensor(2.5869e-05, device='cuda:1', grad_fn=<DivBackward0>)\n",
      "total loss :  tensor(2.7782e-05, device='cuda:1', grad_fn=<DivBackward0>)\n",
      "////////////////////////////////////\n",
      "***************************\n",
      "test : \n"
     ]
    },
    {
     "name": "stderr",
     "output_type": "stream",
     "text": [
      "Epoch 319: 100%|███████████████████████████| 243/243 [00:41<00:00,  5.87batch/s]\n"
     ]
    },
    {
     "name": "stdout",
     "output_type": "stream",
     "text": [
      "score: write test scores to /home/hassan-hossein/single_image_graph_face_anti_spoofing/train/Scores/epoch_319/score.txt\n",
      "epoch:319, test:  val_ACC=0.9202, HTER=0.0798, AUC=0.9537, val_err=0.0798, ACC=0.9202, TPR=0.7942\n"
     ]
    },
    {
     "name": "stderr",
     "output_type": "stream",
     "text": [
      "Epoch 320: 100%|█████████████████████████| 3448/3448 [09:01<00:00,  6.37batch/s]\n"
     ]
    },
    {
     "name": "stdout",
     "output_type": "stream",
     "text": [
      "/////////////////////////\n",
      "adverserial loss :  tensor(2.6371e-09, device='cuda:1', grad_fn=<DivBackward0>)\n",
      "classification loss :  tensor(1.5737e-07, device='cuda:1', grad_fn=<DivBackward0>)\n",
      "classification node loss :  tensor(2.3589e-05, device='cuda:1', grad_fn=<DivBackward0>)\n",
      "total loss :  tensor(2.3749e-05, device='cuda:1', grad_fn=<DivBackward0>)\n",
      "////////////////////////////////////\n",
      "***************************\n",
      "test : \n"
     ]
    },
    {
     "name": "stderr",
     "output_type": "stream",
     "text": [
      "Epoch 320: 100%|███████████████████████████| 243/243 [00:39<00:00,  6.20batch/s]\n"
     ]
    },
    {
     "name": "stdout",
     "output_type": "stream",
     "text": [
      "score: write test scores to /home/hassan-hossein/single_image_graph_face_anti_spoofing/train/Scores/epoch_320/score.txt\n",
      "epoch:320, test:  val_ACC=0.9011, HTER=0.0990, AUC=0.9426, val_err=0.0990, ACC=0.9011, TPR=0.8179\n"
     ]
    },
    {
     "name": "stderr",
     "output_type": "stream",
     "text": [
      "Epoch 321: 100%|█████████████████████████| 3448/3448 [08:58<00:00,  6.40batch/s]\n"
     ]
    },
    {
     "name": "stdout",
     "output_type": "stream",
     "text": [
      "/////////////////////////\n",
      "adverserial loss :  tensor(1.6506e-08, device='cuda:1', grad_fn=<DivBackward0>)\n",
      "classification loss :  tensor(1.9115e-07, device='cuda:1', grad_fn=<DivBackward0>)\n",
      "classification node loss :  tensor(2.5148e-05, device='cuda:1', grad_fn=<DivBackward0>)\n",
      "total loss :  tensor(2.5355e-05, device='cuda:1', grad_fn=<DivBackward0>)\n",
      "////////////////////////////////////\n",
      "***************************\n",
      "test : \n"
     ]
    },
    {
     "name": "stderr",
     "output_type": "stream",
     "text": [
      "Epoch 321: 100%|███████████████████████████| 243/243 [00:39<00:00,  6.15batch/s]\n"
     ]
    },
    {
     "name": "stdout",
     "output_type": "stream",
     "text": [
      "score: write test scores to /home/hassan-hossein/single_image_graph_face_anti_spoofing/train/Scores/epoch_321/score.txt\n",
      "epoch:321, test:  val_ACC=0.8758, HTER=0.1242, AUC=0.9053, val_err=0.1243, ACC=0.8758, TPR=0.6224\n"
     ]
    },
    {
     "name": "stderr",
     "output_type": "stream",
     "text": [
      "Epoch 322: 100%|█████████████████████████| 3448/3448 [08:58<00:00,  6.41batch/s]\n"
     ]
    },
    {
     "name": "stdout",
     "output_type": "stream",
     "text": [
      "/////////////////////////\n",
      "adverserial loss :  tensor(3.0324e-07, device='cuda:1', grad_fn=<DivBackward0>)\n",
      "classification loss :  tensor(4.6357e-06, device='cuda:1', grad_fn=<DivBackward0>)\n",
      "classification node loss :  tensor(2.5106e-05, device='cuda:1', grad_fn=<DivBackward0>)\n",
      "total loss :  tensor(3.0045e-05, device='cuda:1', grad_fn=<DivBackward0>)\n",
      "////////////////////////////////////\n",
      "***************************\n",
      "test : \n"
     ]
    },
    {
     "name": "stderr",
     "output_type": "stream",
     "text": [
      "Epoch 322: 100%|███████████████████████████| 243/243 [00:39<00:00,  6.21batch/s]\n"
     ]
    },
    {
     "name": "stdout",
     "output_type": "stream",
     "text": [
      "score: write test scores to /home/hassan-hossein/single_image_graph_face_anti_spoofing/train/Scores/epoch_322/score.txt\n",
      "epoch:322, test:  val_ACC=0.8763, HTER=0.1237, AUC=0.9296, val_err=0.1237, ACC=0.8763, TPR=0.6566\n"
     ]
    },
    {
     "name": "stderr",
     "output_type": "stream",
     "text": [
      "Epoch 323: 100%|█████████████████████████| 3448/3448 [09:00<00:00,  6.38batch/s]\n"
     ]
    },
    {
     "name": "stdout",
     "output_type": "stream",
     "text": [
      "/////////////////////////\n",
      "adverserial loss :  tensor(1.0288e-07, device='cuda:1', grad_fn=<DivBackward0>)\n",
      "classification loss :  tensor(2.2712e-07, device='cuda:1', grad_fn=<DivBackward0>)\n",
      "classification node loss :  tensor(2.3103e-05, device='cuda:1', grad_fn=<DivBackward0>)\n",
      "total loss :  tensor(2.3433e-05, device='cuda:1', grad_fn=<DivBackward0>)\n",
      "////////////////////////////////////\n",
      "***************************\n",
      "test : \n"
     ]
    },
    {
     "name": "stderr",
     "output_type": "stream",
     "text": [
      "Epoch 323: 100%|███████████████████████████| 243/243 [00:39<00:00,  6.22batch/s]\n"
     ]
    },
    {
     "name": "stdout",
     "output_type": "stream",
     "text": [
      "score: write test scores to /home/hassan-hossein/single_image_graph_face_anti_spoofing/train/Scores/epoch_323/score.txt\n",
      "epoch:323, test:  val_ACC=0.8779, HTER=0.1222, AUC=0.9422, val_err=0.1222, ACC=0.8779, TPR=0.6811\n"
     ]
    },
    {
     "name": "stderr",
     "output_type": "stream",
     "text": [
      "Epoch 324: 100%|█████████████████████████| 3448/3448 [08:59<00:00,  6.40batch/s]\n"
     ]
    },
    {
     "name": "stdout",
     "output_type": "stream",
     "text": [
      "/////////////////////////\n",
      "adverserial loss :  tensor(1.5722e-06, device='cuda:1', grad_fn=<DivBackward0>)\n",
      "classification loss :  tensor(1.8969e-06, device='cuda:1', grad_fn=<DivBackward0>)\n",
      "classification node loss :  tensor(2.2481e-05, device='cuda:1', grad_fn=<DivBackward0>)\n",
      "total loss :  tensor(2.5950e-05, device='cuda:1', grad_fn=<DivBackward0>)\n",
      "////////////////////////////////////\n",
      "***************************\n",
      "test : \n"
     ]
    },
    {
     "name": "stderr",
     "output_type": "stream",
     "text": [
      "Epoch 324: 100%|███████████████████████████| 243/243 [00:39<00:00,  6.16batch/s]\n"
     ]
    },
    {
     "name": "stdout",
     "output_type": "stream",
     "text": [
      "score: write test scores to /home/hassan-hossein/single_image_graph_face_anti_spoofing/train/Scores/epoch_324/score.txt\n",
      "epoch:324, test:  val_ACC=0.8981, HTER=0.1019, AUC=0.9402, val_err=0.1020, ACC=0.8981, TPR=0.7299\n"
     ]
    },
    {
     "name": "stderr",
     "output_type": "stream",
     "text": [
      "Epoch 325: 100%|█████████████████████████| 3448/3448 [09:00<00:00,  6.38batch/s]\n"
     ]
    },
    {
     "name": "stdout",
     "output_type": "stream",
     "text": [
      "/////////////////////////\n",
      "adverserial loss :  tensor(1.6666e-07, device='cuda:1', grad_fn=<DivBackward0>)\n",
      "classification loss :  tensor(1.7863e-07, device='cuda:1', grad_fn=<DivBackward0>)\n",
      "classification node loss :  tensor(3.0638e-05, device='cuda:1', grad_fn=<DivBackward0>)\n",
      "total loss :  tensor(3.0983e-05, device='cuda:1', grad_fn=<DivBackward0>)\n",
      "////////////////////////////////////\n",
      "***************************\n",
      "test : \n"
     ]
    },
    {
     "name": "stderr",
     "output_type": "stream",
     "text": [
      "Epoch 325: 100%|███████████████████████████| 243/243 [00:39<00:00,  6.22batch/s]\n"
     ]
    },
    {
     "name": "stdout",
     "output_type": "stream",
     "text": [
      "score: write test scores to /home/hassan-hossein/single_image_graph_face_anti_spoofing/train/Scores/epoch_325/score.txt\n",
      "epoch:325, test:  val_ACC=0.8851, HTER=0.1150, AUC=0.9285, val_err=0.1150, ACC=0.8851, TPR=0.5432\n"
     ]
    },
    {
     "name": "stderr",
     "output_type": "stream",
     "text": [
      "Epoch 326: 100%|█████████████████████████| 3448/3448 [08:58<00:00,  6.41batch/s]\n"
     ]
    },
    {
     "name": "stdout",
     "output_type": "stream",
     "text": [
      "/////////////////////////\n",
      "adverserial loss :  tensor(6.4759e-08, device='cuda:1', grad_fn=<DivBackward0>)\n",
      "classification loss :  tensor(1.0429e-06, device='cuda:1', grad_fn=<DivBackward0>)\n",
      "classification node loss :  tensor(3.2521e-05, device='cuda:1', grad_fn=<DivBackward0>)\n",
      "total loss :  tensor(3.3629e-05, device='cuda:1', grad_fn=<DivBackward0>)\n",
      "////////////////////////////////////\n",
      "***************************\n",
      "test : \n"
     ]
    },
    {
     "name": "stderr",
     "output_type": "stream",
     "text": [
      "Epoch 326: 100%|███████████████████████████| 243/243 [00:38<00:00,  6.27batch/s]\n"
     ]
    },
    {
     "name": "stdout",
     "output_type": "stream",
     "text": [
      "score: write test scores to /home/hassan-hossein/single_image_graph_face_anti_spoofing/train/Scores/epoch_326/score.txt\n",
      "epoch:326, test:  val_ACC=0.8732, HTER=0.1268, AUC=0.9203, val_err=0.1268, ACC=0.8732, TPR=0.7173\n"
     ]
    },
    {
     "name": "stderr",
     "output_type": "stream",
     "text": [
      "Epoch 327: 100%|█████████████████████████| 3448/3448 [08:58<00:00,  6.40batch/s]\n"
     ]
    },
    {
     "name": "stdout",
     "output_type": "stream",
     "text": [
      "/////////////////////////\n",
      "adverserial loss :  tensor(5.5128e-07, device='cuda:1', grad_fn=<DivBackward0>)\n",
      "classification loss :  tensor(2.4271e-06, device='cuda:1', grad_fn=<DivBackward0>)\n",
      "classification node loss :  tensor(2.3914e-05, device='cuda:1', grad_fn=<DivBackward0>)\n",
      "total loss :  tensor(2.6892e-05, device='cuda:1', grad_fn=<DivBackward0>)\n",
      "////////////////////////////////////\n",
      "***************************\n",
      "test : \n"
     ]
    },
    {
     "name": "stderr",
     "output_type": "stream",
     "text": [
      "Epoch 327: 100%|███████████████████████████| 243/243 [00:39<00:00,  6.23batch/s]\n"
     ]
    },
    {
     "name": "stdout",
     "output_type": "stream",
     "text": [
      "score: write test scores to /home/hassan-hossein/single_image_graph_face_anti_spoofing/train/Scores/epoch_327/score.txt\n",
      "epoch:327, test:  val_ACC=0.8772, HTER=0.1227, AUC=0.9457, val_err=0.1228, ACC=0.8772, TPR=0.7896\n"
     ]
    },
    {
     "name": "stderr",
     "output_type": "stream",
     "text": [
      "Epoch 328: 100%|█████████████████████████| 3448/3448 [08:57<00:00,  6.41batch/s]\n"
     ]
    },
    {
     "name": "stdout",
     "output_type": "stream",
     "text": [
      "/////////////////////////\n",
      "adverserial loss :  tensor(1.7716e-09, device='cuda:1', grad_fn=<DivBackward0>)\n",
      "classification loss :  tensor(2.2036e-06, device='cuda:1', grad_fn=<DivBackward0>)\n",
      "classification node loss :  tensor(2.5096e-05, device='cuda:1', grad_fn=<DivBackward0>)\n",
      "total loss :  tensor(2.7301e-05, device='cuda:1', grad_fn=<DivBackward0>)\n",
      "////////////////////////////////////\n",
      "***************************\n",
      "test : \n"
     ]
    },
    {
     "name": "stderr",
     "output_type": "stream",
     "text": [
      "Epoch 328: 100%|███████████████████████████| 243/243 [00:40<00:00,  6.02batch/s]\n"
     ]
    },
    {
     "name": "stdout",
     "output_type": "stream",
     "text": [
      "score: write test scores to /home/hassan-hossein/single_image_graph_face_anti_spoofing/train/Scores/epoch_328/score.txt\n",
      "epoch:328, test:  val_ACC=0.8920, HTER=0.1080, AUC=0.9378, val_err=0.1081, ACC=0.8920, TPR=0.6831\n"
     ]
    },
    {
     "name": "stderr",
     "output_type": "stream",
     "text": [
      "Epoch 329: 100%|█████████████████████████| 3448/3448 [09:02<00:00,  6.36batch/s]\n"
     ]
    },
    {
     "name": "stdout",
     "output_type": "stream",
     "text": [
      "/////////////////////////\n",
      "adverserial loss :  tensor(6.6969e-07, device='cuda:1', grad_fn=<DivBackward0>)\n",
      "classification loss :  tensor(6.2725e-07, device='cuda:1', grad_fn=<DivBackward0>)\n",
      "classification node loss :  tensor(2.5364e-05, device='cuda:1', grad_fn=<DivBackward0>)\n",
      "total loss :  tensor(2.6661e-05, device='cuda:1', grad_fn=<DivBackward0>)\n",
      "////////////////////////////////////\n",
      "***************************\n",
      "test : \n"
     ]
    },
    {
     "name": "stderr",
     "output_type": "stream",
     "text": [
      "Epoch 329: 100%|███████████████████████████| 243/243 [00:38<00:00,  6.32batch/s]\n"
     ]
    },
    {
     "name": "stdout",
     "output_type": "stream",
     "text": [
      "score: write test scores to /home/hassan-hossein/single_image_graph_face_anti_spoofing/train/Scores/epoch_329/score.txt\n",
      "epoch:329, test:  val_ACC=0.8959, HTER=0.1042, AUC=0.9531, val_err=0.1042, ACC=0.8959, TPR=0.7953\n"
     ]
    },
    {
     "name": "stderr",
     "output_type": "stream",
     "text": [
      "Epoch 330: 100%|█████████████████████████| 3448/3448 [08:58<00:00,  6.40batch/s]\n"
     ]
    },
    {
     "name": "stdout",
     "output_type": "stream",
     "text": [
      "/////////////////////////\n",
      "adverserial loss :  tensor(3.3097e-07, device='cuda:1', grad_fn=<DivBackward0>)\n",
      "classification loss :  tensor(2.1949e-06, device='cuda:1', grad_fn=<DivBackward0>)\n",
      "classification node loss :  tensor(2.4171e-05, device='cuda:1', grad_fn=<DivBackward0>)\n",
      "total loss :  tensor(2.6697e-05, device='cuda:1', grad_fn=<DivBackward0>)\n",
      "////////////////////////////////////\n",
      "***************************\n",
      "test : \n"
     ]
    },
    {
     "name": "stderr",
     "output_type": "stream",
     "text": [
      "Epoch 330: 100%|███████████████████████████| 243/243 [00:39<00:00,  6.14batch/s]\n"
     ]
    },
    {
     "name": "stdout",
     "output_type": "stream",
     "text": [
      "score: write test scores to /home/hassan-hossein/single_image_graph_face_anti_spoofing/train/Scores/epoch_330/score.txt\n",
      "epoch:330, test:  val_ACC=0.8846, HTER=0.1155, AUC=0.9406, val_err=0.1155, ACC=0.8846, TPR=0.7433\n"
     ]
    },
    {
     "name": "stderr",
     "output_type": "stream",
     "text": [
      "Epoch 331: 100%|█████████████████████████| 3448/3448 [09:01<00:00,  6.37batch/s]\n"
     ]
    },
    {
     "name": "stdout",
     "output_type": "stream",
     "text": [
      "/////////////////////////\n",
      "adverserial loss :  tensor(1.1085e-08, device='cuda:1', grad_fn=<DivBackward0>)\n",
      "classification loss :  tensor(1.3337e-06, device='cuda:1', grad_fn=<DivBackward0>)\n",
      "classification node loss :  tensor(2.0264e-05, device='cuda:1', grad_fn=<DivBackward0>)\n",
      "total loss :  tensor(2.1609e-05, device='cuda:1', grad_fn=<DivBackward0>)\n",
      "////////////////////////////////////\n",
      "***************************\n",
      "test : \n"
     ]
    },
    {
     "name": "stderr",
     "output_type": "stream",
     "text": [
      "Epoch 331: 100%|███████████████████████████| 243/243 [00:38<00:00,  6.31batch/s]\n"
     ]
    },
    {
     "name": "stdout",
     "output_type": "stream",
     "text": [
      "score: write test scores to /home/hassan-hossein/single_image_graph_face_anti_spoofing/train/Scores/epoch_331/score.txt\n",
      "epoch:331, test:  val_ACC=0.8904, HTER=0.1096, AUC=0.9514, val_err=0.1096, ACC=0.8904, TPR=0.8176\n"
     ]
    },
    {
     "name": "stderr",
     "output_type": "stream",
     "text": [
      "Epoch 332: 100%|█████████████████████████| 3448/3448 [08:59<00:00,  6.40batch/s]\n"
     ]
    },
    {
     "name": "stdout",
     "output_type": "stream",
     "text": [
      "/////////////////////////\n",
      "adverserial loss :  tensor(3.4631e-08, device='cuda:1', grad_fn=<DivBackward0>)\n",
      "classification loss :  tensor(7.7237e-07, device='cuda:1', grad_fn=<DivBackward0>)\n",
      "classification node loss :  tensor(2.0665e-05, device='cuda:1', grad_fn=<DivBackward0>)\n",
      "total loss :  tensor(2.1472e-05, device='cuda:1', grad_fn=<DivBackward0>)\n",
      "////////////////////////////////////\n",
      "***************************\n",
      "test : \n"
     ]
    },
    {
     "name": "stderr",
     "output_type": "stream",
     "text": [
      "Epoch 332: 100%|███████████████████████████| 243/243 [00:40<00:00,  6.07batch/s]\n"
     ]
    },
    {
     "name": "stdout",
     "output_type": "stream",
     "text": [
      "score: write test scores to /home/hassan-hossein/single_image_graph_face_anti_spoofing/train/Scores/epoch_332/score.txt\n",
      "epoch:332, test:  val_ACC=0.8885, HTER=0.1114, AUC=0.9416, val_err=0.1115, ACC=0.8885, TPR=0.6988\n"
     ]
    },
    {
     "name": "stderr",
     "output_type": "stream",
     "text": [
      "Epoch 333: 100%|█████████████████████████| 3448/3448 [08:58<00:00,  6.40batch/s]\n"
     ]
    },
    {
     "name": "stdout",
     "output_type": "stream",
     "text": [
      "/////////////////////////\n",
      "adverserial loss :  tensor(1.0352e-06, device='cuda:1', grad_fn=<DivBackward0>)\n",
      "classification loss :  tensor(2.9977e-06, device='cuda:1', grad_fn=<DivBackward0>)\n",
      "classification node loss :  tensor(2.0490e-05, device='cuda:1', grad_fn=<DivBackward0>)\n",
      "total loss :  tensor(2.4523e-05, device='cuda:1', grad_fn=<DivBackward0>)\n",
      "////////////////////////////////////\n",
      "***************************\n",
      "test : \n"
     ]
    },
    {
     "name": "stderr",
     "output_type": "stream",
     "text": [
      "Epoch 333: 100%|███████████████████████████| 243/243 [00:39<00:00,  6.20batch/s]\n"
     ]
    },
    {
     "name": "stdout",
     "output_type": "stream",
     "text": [
      "score: write test scores to /home/hassan-hossein/single_image_graph_face_anti_spoofing/train/Scores/epoch_333/score.txt\n",
      "epoch:333, test:  val_ACC=0.8964, HTER=0.1037, AUC=0.9389, val_err=0.1037, ACC=0.8964, TPR=0.7482\n"
     ]
    },
    {
     "name": "stderr",
     "output_type": "stream",
     "text": [
      "Epoch 334: 100%|█████████████████████████| 3448/3448 [09:00<00:00,  6.37batch/s]\n"
     ]
    },
    {
     "name": "stdout",
     "output_type": "stream",
     "text": [
      "/////////////////////////\n",
      "adverserial loss :  tensor(1.0804e-07, device='cuda:1', grad_fn=<DivBackward0>)\n",
      "classification loss :  tensor(1.4237e-06, device='cuda:1', grad_fn=<DivBackward0>)\n",
      "classification node loss :  tensor(2.6019e-05, device='cuda:1', grad_fn=<DivBackward0>)\n",
      "total loss :  tensor(2.7551e-05, device='cuda:1', grad_fn=<DivBackward0>)\n",
      "////////////////////////////////////\n",
      "***************************\n",
      "test : \n"
     ]
    },
    {
     "name": "stderr",
     "output_type": "stream",
     "text": [
      "Epoch 334: 100%|███████████████████████████| 243/243 [00:39<00:00,  6.10batch/s]\n"
     ]
    },
    {
     "name": "stdout",
     "output_type": "stream",
     "text": [
      "score: write test scores to /home/hassan-hossein/single_image_graph_face_anti_spoofing/train/Scores/epoch_334/score.txt\n",
      "epoch:334, test:  val_ACC=0.8732, HTER=0.1268, AUC=0.9394, val_err=0.1268, ACC=0.8732, TPR=0.5810\n"
     ]
    },
    {
     "name": "stderr",
     "output_type": "stream",
     "text": [
      "Epoch 335: 100%|█████████████████████████| 3448/3448 [09:00<00:00,  6.38batch/s]\n"
     ]
    },
    {
     "name": "stdout",
     "output_type": "stream",
     "text": [
      "/////////////////////////\n",
      "adverserial loss :  tensor(5.0296e-07, device='cuda:1', grad_fn=<DivBackward0>)\n",
      "classification loss :  tensor(1.5738e-06, device='cuda:1', grad_fn=<DivBackward0>)\n",
      "classification node loss :  tensor(2.6720e-05, device='cuda:1', grad_fn=<DivBackward0>)\n",
      "total loss :  tensor(2.8797e-05, device='cuda:1', grad_fn=<DivBackward0>)\n",
      "////////////////////////////////////\n",
      "***************************\n",
      "test : \n"
     ]
    },
    {
     "name": "stderr",
     "output_type": "stream",
     "text": [
      "Epoch 335: 100%|███████████████████████████| 243/243 [00:40<00:00,  6.01batch/s]\n"
     ]
    },
    {
     "name": "stdout",
     "output_type": "stream",
     "text": [
      "score: write test scores to /home/hassan-hossein/single_image_graph_face_anti_spoofing/train/Scores/epoch_335/score.txt\n",
      "epoch:335, test:  val_ACC=0.8885, HTER=0.1114, AUC=0.9444, val_err=0.1115, ACC=0.8885, TPR=0.7266\n"
     ]
    },
    {
     "name": "stderr",
     "output_type": "stream",
     "text": [
      "Epoch 336: 100%|█████████████████████████| 3448/3448 [08:59<00:00,  6.40batch/s]\n"
     ]
    },
    {
     "name": "stdout",
     "output_type": "stream",
     "text": [
      "/////////////////////////\n",
      "adverserial loss :  tensor(4.8759e-08, device='cuda:1', grad_fn=<DivBackward0>)\n",
      "classification loss :  tensor(6.8175e-07, device='cuda:1', grad_fn=<DivBackward0>)\n",
      "classification node loss :  tensor(2.6646e-05, device='cuda:1', grad_fn=<DivBackward0>)\n",
      "total loss :  tensor(2.7376e-05, device='cuda:1', grad_fn=<DivBackward0>)\n",
      "////////////////////////////////////\n",
      "***************************\n",
      "test : \n"
     ]
    },
    {
     "name": "stderr",
     "output_type": "stream",
     "text": [
      "Epoch 336: 100%|███████████████████████████| 243/243 [00:40<00:00,  6.07batch/s]\n"
     ]
    },
    {
     "name": "stdout",
     "output_type": "stream",
     "text": [
      "score: write test scores to /home/hassan-hossein/single_image_graph_face_anti_spoofing/train/Scores/epoch_336/score.txt\n",
      "epoch:336, test:  val_ACC=0.8626, HTER=0.1374, AUC=0.9173, val_err=0.1375, ACC=0.8626, TPR=0.5252\n"
     ]
    },
    {
     "name": "stderr",
     "output_type": "stream",
     "text": [
      "Epoch 337: 100%|█████████████████████████| 3448/3448 [08:58<00:00,  6.40batch/s]\n"
     ]
    },
    {
     "name": "stdout",
     "output_type": "stream",
     "text": [
      "/////////////////////////\n",
      "adverserial loss :  tensor(1.2397e-06, device='cuda:1', grad_fn=<DivBackward0>)\n",
      "classification loss :  tensor(8.7888e-07, device='cuda:1', grad_fn=<DivBackward0>)\n",
      "classification node loss :  tensor(2.1855e-05, device='cuda:1', grad_fn=<DivBackward0>)\n",
      "total loss :  tensor(2.3974e-05, device='cuda:1', grad_fn=<DivBackward0>)\n",
      "////////////////////////////////////\n",
      "***************************\n",
      "test : \n"
     ]
    },
    {
     "name": "stderr",
     "output_type": "stream",
     "text": [
      "Epoch 337: 100%|███████████████████████████| 243/243 [00:40<00:00,  6.05batch/s]\n"
     ]
    },
    {
     "name": "stdout",
     "output_type": "stream",
     "text": [
      "score: write test scores to /home/hassan-hossein/single_image_graph_face_anti_spoofing/train/Scores/epoch_337/score.txt\n",
      "epoch:337, test:  val_ACC=0.8737, HTER=0.1263, AUC=0.9275, val_err=0.1263, ACC=0.8737, TPR=0.7515\n"
     ]
    },
    {
     "name": "stderr",
     "output_type": "stream",
     "text": [
      "Epoch 338: 100%|█████████████████████████| 3448/3448 [08:59<00:00,  6.39batch/s]\n"
     ]
    },
    {
     "name": "stdout",
     "output_type": "stream",
     "text": [
      "/////////////////////////\n",
      "adverserial loss :  tensor(1.1117e-09, device='cuda:1', grad_fn=<DivBackward0>)\n",
      "classification loss :  tensor(1.2125e-06, device='cuda:1', grad_fn=<DivBackward0>)\n",
      "classification node loss :  tensor(2.3729e-05, device='cuda:1', grad_fn=<DivBackward0>)\n",
      "total loss :  tensor(2.4943e-05, device='cuda:1', grad_fn=<DivBackward0>)\n",
      "////////////////////////////////////\n",
      "***************************\n",
      "test : \n"
     ]
    },
    {
     "name": "stderr",
     "output_type": "stream",
     "text": [
      "Epoch 338: 100%|███████████████████████████| 243/243 [00:39<00:00,  6.18batch/s]\n"
     ]
    },
    {
     "name": "stdout",
     "output_type": "stream",
     "text": [
      "score: write test scores to /home/hassan-hossein/single_image_graph_face_anti_spoofing/train/Scores/epoch_338/score.txt\n",
      "epoch:338, test:  val_ACC=0.8682, HTER=0.1317, AUC=0.9169, val_err=0.1318, ACC=0.8682, TPR=0.4859\n"
     ]
    },
    {
     "name": "stderr",
     "output_type": "stream",
     "text": [
      "Epoch 339: 100%|█████████████████████████| 3448/3448 [09:00<00:00,  6.38batch/s]\n"
     ]
    },
    {
     "name": "stdout",
     "output_type": "stream",
     "text": [
      "/////////////////////////\n",
      "adverserial loss :  tensor(8.3696e-07, device='cuda:1', grad_fn=<DivBackward0>)\n",
      "classification loss :  tensor(1.4421e-06, device='cuda:1', grad_fn=<DivBackward0>)\n",
      "classification node loss :  tensor(2.3852e-05, device='cuda:1', grad_fn=<DivBackward0>)\n",
      "total loss :  tensor(2.6131e-05, device='cuda:1', grad_fn=<DivBackward0>)\n",
      "////////////////////////////////////\n",
      "***************************\n",
      "test : \n"
     ]
    },
    {
     "name": "stderr",
     "output_type": "stream",
     "text": [
      "Epoch 339: 100%|███████████████████████████| 243/243 [00:39<00:00,  6.22batch/s]\n"
     ]
    },
    {
     "name": "stdout",
     "output_type": "stream",
     "text": [
      "score: write test scores to /home/hassan-hossein/single_image_graph_face_anti_spoofing/train/Scores/epoch_339/score.txt\n",
      "epoch:339, test:  val_ACC=0.8915, HTER=0.1085, AUC=0.9380, val_err=0.1085, ACC=0.8915, TPR=0.5936\n"
     ]
    },
    {
     "name": "stderr",
     "output_type": "stream",
     "text": [
      "Epoch 340: 100%|█████████████████████████| 3448/3448 [09:00<00:00,  6.38batch/s]\n"
     ]
    },
    {
     "name": "stdout",
     "output_type": "stream",
     "text": [
      "/////////////////////////\n",
      "adverserial loss :  tensor(2.0727e-09, device='cuda:1', grad_fn=<DivBackward0>)\n",
      "classification loss :  tensor(5.1473e-07, device='cuda:1', grad_fn=<DivBackward0>)\n",
      "classification node loss :  tensor(2.2207e-05, device='cuda:1', grad_fn=<DivBackward0>)\n",
      "total loss :  tensor(2.2724e-05, device='cuda:1', grad_fn=<DivBackward0>)\n",
      "////////////////////////////////////\n",
      "***************************\n",
      "test : \n"
     ]
    },
    {
     "name": "stderr",
     "output_type": "stream",
     "text": [
      "Epoch 340: 100%|███████████████████████████| 243/243 [00:38<00:00,  6.24batch/s]\n"
     ]
    },
    {
     "name": "stdout",
     "output_type": "stream",
     "text": [
      "score: write test scores to /home/hassan-hossein/single_image_graph_face_anti_spoofing/train/Scores/epoch_340/score.txt\n",
      "epoch:340, test:  val_ACC=0.8931, HTER=0.1070, AUC=0.9355, val_err=0.1069, ACC=0.8931, TPR=0.6530\n"
     ]
    },
    {
     "name": "stderr",
     "output_type": "stream",
     "text": [
      "Epoch 341: 100%|█████████████████████████| 3448/3448 [09:03<00:00,  6.34batch/s]\n"
     ]
    },
    {
     "name": "stdout",
     "output_type": "stream",
     "text": [
      "/////////////////////////\n",
      "adverserial loss :  tensor(1.4833e-06, device='cuda:1', grad_fn=<DivBackward0>)\n",
      "classification loss :  tensor(3.2305e-06, device='cuda:1', grad_fn=<DivBackward0>)\n",
      "classification node loss :  tensor(2.6886e-05, device='cuda:1', grad_fn=<DivBackward0>)\n",
      "total loss :  tensor(3.1600e-05, device='cuda:1', grad_fn=<DivBackward0>)\n",
      "////////////////////////////////////\n",
      "***************************\n",
      "test : \n"
     ]
    },
    {
     "name": "stderr",
     "output_type": "stream",
     "text": [
      "Epoch 341: 100%|███████████████████████████| 243/243 [00:40<00:00,  6.01batch/s]\n"
     ]
    },
    {
     "name": "stdout",
     "output_type": "stream",
     "text": [
      "score: write test scores to /home/hassan-hossein/single_image_graph_face_anti_spoofing/train/Scores/epoch_341/score.txt\n",
      "epoch:341, test:  val_ACC=0.9089, HTER=0.0911, AUC=0.9240, val_err=0.0911, ACC=0.9089, TPR=0.7693\n"
     ]
    },
    {
     "name": "stderr",
     "output_type": "stream",
     "text": [
      "Epoch 342: 100%|█████████████████████████| 3448/3448 [08:58<00:00,  6.40batch/s]\n"
     ]
    },
    {
     "name": "stdout",
     "output_type": "stream",
     "text": [
      "/////////////////////////\n",
      "adverserial loss :  tensor(1.2599e-07, device='cuda:1', grad_fn=<DivBackward0>)\n",
      "classification loss :  tensor(6.0649e-07, device='cuda:1', grad_fn=<DivBackward0>)\n",
      "classification node loss :  tensor(2.2457e-05, device='cuda:1', grad_fn=<DivBackward0>)\n",
      "total loss :  tensor(2.3189e-05, device='cuda:1', grad_fn=<DivBackward0>)\n",
      "////////////////////////////////////\n",
      "***************************\n",
      "test : \n"
     ]
    },
    {
     "name": "stderr",
     "output_type": "stream",
     "text": [
      "Epoch 342: 100%|███████████████████████████| 243/243 [00:40<00:00,  5.99batch/s]\n"
     ]
    },
    {
     "name": "stdout",
     "output_type": "stream",
     "text": [
      "score: write test scores to /home/hassan-hossein/single_image_graph_face_anti_spoofing/train/Scores/epoch_342/score.txt\n",
      "epoch:342, test:  val_ACC=0.9085, HTER=0.0916, AUC=0.9434, val_err=0.0916, ACC=0.9085, TPR=0.7582\n"
     ]
    },
    {
     "name": "stderr",
     "output_type": "stream",
     "text": [
      "Epoch 343: 100%|█████████████████████████| 3448/3448 [08:59<00:00,  6.39batch/s]\n"
     ]
    },
    {
     "name": "stdout",
     "output_type": "stream",
     "text": [
      "/////////////////////////\n",
      "adverserial loss :  tensor(4.1292e-07, device='cuda:1', grad_fn=<DivBackward0>)\n",
      "classification loss :  tensor(2.4926e-06, device='cuda:1', grad_fn=<DivBackward0>)\n",
      "classification node loss :  tensor(1.6503e-05, device='cuda:1', grad_fn=<DivBackward0>)\n",
      "total loss :  tensor(1.9408e-05, device='cuda:1', grad_fn=<DivBackward0>)\n",
      "////////////////////////////////////\n",
      "***************************\n",
      "test : \n"
     ]
    },
    {
     "name": "stderr",
     "output_type": "stream",
     "text": [
      "Epoch 343: 100%|███████████████████████████| 243/243 [00:38<00:00,  6.26batch/s]\n"
     ]
    },
    {
     "name": "stdout",
     "output_type": "stream",
     "text": [
      "score: write test scores to /home/hassan-hossein/single_image_graph_face_anti_spoofing/train/Scores/epoch_343/score.txt\n",
      "epoch:343, test:  val_ACC=0.8909, HTER=0.1091, AUC=0.9596, val_err=0.1092, ACC=0.8909, TPR=0.7912\n"
     ]
    },
    {
     "name": "stderr",
     "output_type": "stream",
     "text": [
      "Epoch 344: 100%|█████████████████████████| 3448/3448 [09:01<00:00,  6.37batch/s]\n"
     ]
    },
    {
     "name": "stdout",
     "output_type": "stream",
     "text": [
      "/////////////////////////\n",
      "adverserial loss :  tensor(1.2098e-07, device='cuda:1', grad_fn=<DivBackward0>)\n",
      "classification loss :  tensor(2.8579e-07, device='cuda:1', grad_fn=<DivBackward0>)\n",
      "classification node loss :  tensor(2.2355e-05, device='cuda:1', grad_fn=<DivBackward0>)\n",
      "total loss :  tensor(2.2762e-05, device='cuda:1', grad_fn=<DivBackward0>)\n",
      "////////////////////////////////////\n",
      "***************************\n",
      "test : \n"
     ]
    },
    {
     "name": "stderr",
     "output_type": "stream",
     "text": [
      "Epoch 344: 100%|███████████████████████████| 243/243 [00:40<00:00,  5.99batch/s]\n"
     ]
    },
    {
     "name": "stdout",
     "output_type": "stream",
     "text": [
      "score: write test scores to /home/hassan-hossein/single_image_graph_face_anti_spoofing/train/Scores/epoch_344/score.txt\n",
      "epoch:344, test:  val_ACC=0.9054, HTER=0.0947, AUC=0.9477, val_err=0.0947, ACC=0.9054, TPR=0.7695\n"
     ]
    },
    {
     "name": "stderr",
     "output_type": "stream",
     "text": [
      "Epoch 345: 100%|█████████████████████████| 3448/3448 [09:01<00:00,  6.37batch/s]\n"
     ]
    },
    {
     "name": "stdout",
     "output_type": "stream",
     "text": [
      "/////////////////////////\n",
      "adverserial loss :  tensor(1.0040e-08, device='cuda:1', grad_fn=<DivBackward0>)\n",
      "classification loss :  tensor(1.2497e-06, device='cuda:1', grad_fn=<DivBackward0>)\n",
      "classification node loss :  tensor(2.4174e-05, device='cuda:1', grad_fn=<DivBackward0>)\n",
      "total loss :  tensor(2.5434e-05, device='cuda:1', grad_fn=<DivBackward0>)\n",
      "////////////////////////////////////\n",
      "***************************\n",
      "test : \n"
     ]
    },
    {
     "name": "stderr",
     "output_type": "stream",
     "text": [
      "Epoch 345: 100%|███████████████████████████| 243/243 [00:38<00:00,  6.34batch/s]\n"
     ]
    },
    {
     "name": "stdout",
     "output_type": "stream",
     "text": [
      "score: write test scores to /home/hassan-hossein/single_image_graph_face_anti_spoofing/train/Scores/epoch_345/score.txt\n",
      "epoch:345, test:  val_ACC=0.9136, HTER=0.0864, AUC=0.9615, val_err=0.0864, ACC=0.9136, TPR=0.8549\n"
     ]
    },
    {
     "name": "stderr",
     "output_type": "stream",
     "text": [
      "Epoch 346: 100%|█████████████████████████| 3448/3448 [08:58<00:00,  6.40batch/s]\n"
     ]
    },
    {
     "name": "stdout",
     "output_type": "stream",
     "text": [
      "/////////////////////////\n",
      "adverserial loss :  tensor(2.8535e-07, device='cuda:1', grad_fn=<DivBackward0>)\n",
      "classification loss :  tensor(1.2883e-06, device='cuda:1', grad_fn=<DivBackward0>)\n",
      "classification node loss :  tensor(2.2929e-05, device='cuda:1', grad_fn=<DivBackward0>)\n",
      "total loss :  tensor(2.4503e-05, device='cuda:1', grad_fn=<DivBackward0>)\n",
      "////////////////////////////////////\n",
      "***************************\n",
      "test : \n"
     ]
    },
    {
     "name": "stderr",
     "output_type": "stream",
     "text": [
      "Epoch 346: 100%|███████████████████████████| 243/243 [00:38<00:00,  6.29batch/s]\n"
     ]
    },
    {
     "name": "stdout",
     "output_type": "stream",
     "text": [
      "score: write test scores to /home/hassan-hossein/single_image_graph_face_anti_spoofing/train/Scores/epoch_346/score.txt\n",
      "epoch:346, test:  val_ACC=0.9019, HTER=0.0980, AUC=0.9469, val_err=0.0981, ACC=0.9019, TPR=0.7801\n"
     ]
    },
    {
     "name": "stderr",
     "output_type": "stream",
     "text": [
      "Epoch 347: 100%|█████████████████████████| 3448/3448 [08:58<00:00,  6.40batch/s]\n"
     ]
    },
    {
     "name": "stdout",
     "output_type": "stream",
     "text": [
      "/////////////////////////\n",
      "adverserial loss :  tensor(2.3391e-07, device='cuda:1', grad_fn=<DivBackward0>)\n",
      "classification loss :  tensor(2.9766e-08, device='cuda:1', grad_fn=<DivBackward0>)\n",
      "classification node loss :  tensor(2.1645e-05, device='cuda:1', grad_fn=<DivBackward0>)\n",
      "total loss :  tensor(2.1909e-05, device='cuda:1', grad_fn=<DivBackward0>)\n",
      "////////////////////////////////////\n",
      "***************************\n",
      "test : \n"
     ]
    },
    {
     "name": "stderr",
     "output_type": "stream",
     "text": [
      "Epoch 347: 100%|███████████████████████████| 243/243 [00:38<00:00,  6.23batch/s]\n"
     ]
    },
    {
     "name": "stdout",
     "output_type": "stream",
     "text": [
      "score: write test scores to /home/hassan-hossein/single_image_graph_face_anti_spoofing/train/Scores/epoch_347/score.txt\n",
      "epoch:347, test:  val_ACC=0.9134, HTER=0.0866, AUC=0.9509, val_err=0.0866, ACC=0.9134, TPR=0.7968\n"
     ]
    },
    {
     "name": "stderr",
     "output_type": "stream",
     "text": [
      "Epoch 348: 100%|█████████████████████████| 3448/3448 [08:58<00:00,  6.40batch/s]\n"
     ]
    },
    {
     "name": "stdout",
     "output_type": "stream",
     "text": [
      "/////////////////////////\n",
      "adverserial loss :  tensor(3.8471e-08, device='cuda:1', grad_fn=<DivBackward0>)\n",
      "classification loss :  tensor(1.6058e-06, device='cuda:1', grad_fn=<DivBackward0>)\n",
      "classification node loss :  tensor(2.4052e-05, device='cuda:1', grad_fn=<DivBackward0>)\n",
      "total loss :  tensor(2.5696e-05, device='cuda:1', grad_fn=<DivBackward0>)\n",
      "////////////////////////////////////\n",
      "***************************\n",
      "test : \n"
     ]
    },
    {
     "name": "stderr",
     "output_type": "stream",
     "text": [
      "Epoch 348: 100%|███████████████████████████| 243/243 [00:41<00:00,  5.81batch/s]\n"
     ]
    },
    {
     "name": "stdout",
     "output_type": "stream",
     "text": [
      "score: write test scores to /home/hassan-hossein/single_image_graph_face_anti_spoofing/train/Scores/epoch_348/score.txt\n",
      "epoch:348, test:  val_ACC=0.8921, HTER=0.1078, AUC=0.9531, val_err=0.1079, ACC=0.8921, TPR=0.7626\n"
     ]
    },
    {
     "name": "stderr",
     "output_type": "stream",
     "text": [
      "Epoch 349: 100%|█████████████████████████| 3448/3448 [08:58<00:00,  6.40batch/s]\n"
     ]
    },
    {
     "name": "stdout",
     "output_type": "stream",
     "text": [
      "/////////////////////////\n",
      "adverserial loss :  tensor(1.0052e-07, device='cuda:1', grad_fn=<DivBackward0>)\n",
      "classification loss :  tensor(1.1615e-06, device='cuda:1', grad_fn=<DivBackward0>)\n",
      "classification node loss :  tensor(2.1499e-05, device='cuda:1', grad_fn=<DivBackward0>)\n",
      "total loss :  tensor(2.2761e-05, device='cuda:1', grad_fn=<DivBackward0>)\n",
      "////////////////////////////////////\n",
      "***************************\n",
      "test : \n"
     ]
    },
    {
     "name": "stderr",
     "output_type": "stream",
     "text": [
      "Epoch 349: 100%|███████████████████████████| 243/243 [00:39<00:00,  6.16batch/s]\n"
     ]
    },
    {
     "name": "stdout",
     "output_type": "stream",
     "text": [
      "score: write test scores to /home/hassan-hossein/single_image_graph_face_anti_spoofing/train/Scores/epoch_349/score.txt\n",
      "epoch:349, test:  val_ACC=0.8928, HTER=0.1073, AUC=0.9477, val_err=0.1073, ACC=0.8928, TPR=0.7276\n"
     ]
    },
    {
     "name": "stderr",
     "output_type": "stream",
     "text": [
      "Epoch 350: 100%|█████████████████████████| 3448/3448 [09:00<00:00,  6.38batch/s]\n"
     ]
    },
    {
     "name": "stdout",
     "output_type": "stream",
     "text": [
      "/////////////////////////\n",
      "adverserial loss :  tensor(1.1928e-06, device='cuda:1', grad_fn=<DivBackward0>)\n",
      "classification loss :  tensor(4.0677e-08, device='cuda:1', grad_fn=<DivBackward0>)\n",
      "classification node loss :  tensor(2.0791e-05, device='cuda:1', grad_fn=<DivBackward0>)\n",
      "total loss :  tensor(2.2024e-05, device='cuda:1', grad_fn=<DivBackward0>)\n",
      "////////////////////////////////////\n",
      "***************************\n",
      "test : \n"
     ]
    },
    {
     "name": "stderr",
     "output_type": "stream",
     "text": [
      "Epoch 350: 100%|███████████████████████████| 243/243 [00:39<00:00,  6.12batch/s]\n"
     ]
    },
    {
     "name": "stdout",
     "output_type": "stream",
     "text": [
      "score: write test scores to /home/hassan-hossein/single_image_graph_face_anti_spoofing/train/Scores/epoch_350/score.txt\n",
      "epoch:350, test:  val_ACC=0.8966, HTER=0.1034, AUC=0.9474, val_err=0.1034, ACC=0.8966, TPR=0.7070\n"
     ]
    },
    {
     "name": "stderr",
     "output_type": "stream",
     "text": [
      "Epoch 351: 100%|█████████████████████████| 3448/3448 [09:01<00:00,  6.37batch/s]\n"
     ]
    },
    {
     "name": "stdout",
     "output_type": "stream",
     "text": [
      "/////////////////////////\n",
      "adverserial loss :  tensor(2.8907e-09, device='cuda:1', grad_fn=<DivBackward0>)\n",
      "classification loss :  tensor(3.2385e-06, device='cuda:1', grad_fn=<DivBackward0>)\n",
      "classification node loss :  tensor(2.5305e-05, device='cuda:1', grad_fn=<DivBackward0>)\n",
      "total loss :  tensor(2.8547e-05, device='cuda:1', grad_fn=<DivBackward0>)\n",
      "////////////////////////////////////\n",
      "***************************\n",
      "test : \n"
     ]
    },
    {
     "name": "stderr",
     "output_type": "stream",
     "text": [
      "Epoch 351: 100%|███████████████████████████| 243/243 [00:38<00:00,  6.31batch/s]\n"
     ]
    },
    {
     "name": "stdout",
     "output_type": "stream",
     "text": [
      "score: write test scores to /home/hassan-hossein/single_image_graph_face_anti_spoofing/train/Scores/epoch_351/score.txt\n",
      "epoch:351, test:  val_ACC=0.9015, HTER=0.0985, AUC=0.9577, val_err=0.0985, ACC=0.9015, TPR=0.7953\n"
     ]
    },
    {
     "name": "stderr",
     "output_type": "stream",
     "text": [
      "Epoch 352: 100%|█████████████████████████| 3448/3448 [09:00<00:00,  6.38batch/s]\n"
     ]
    },
    {
     "name": "stdout",
     "output_type": "stream",
     "text": [
      "/////////////////////////\n",
      "adverserial loss :  tensor(1.7508e-09, device='cuda:1', grad_fn=<DivBackward0>)\n",
      "classification loss :  tensor(5.0174e-08, device='cuda:1', grad_fn=<DivBackward0>)\n",
      "classification node loss :  tensor(2.4724e-05, device='cuda:1', grad_fn=<DivBackward0>)\n",
      "total loss :  tensor(2.4776e-05, device='cuda:1', grad_fn=<DivBackward0>)\n",
      "////////////////////////////////////\n",
      "***************************\n",
      "test : \n"
     ]
    },
    {
     "name": "stderr",
     "output_type": "stream",
     "text": [
      "Epoch 352: 100%|███████████████████████████| 243/243 [00:39<00:00,  6.19batch/s]\n"
     ]
    },
    {
     "name": "stdout",
     "output_type": "stream",
     "text": [
      "score: write test scores to /home/hassan-hossein/single_image_graph_face_anti_spoofing/train/Scores/epoch_352/score.txt\n",
      "epoch:352, test:  val_ACC=0.8982, HTER=0.1019, AUC=0.9526, val_err=0.1019, ACC=0.8982, TPR=0.7487\n"
     ]
    },
    {
     "name": "stderr",
     "output_type": "stream",
     "text": [
      "Epoch 353: 100%|█████████████████████████| 3448/3448 [08:58<00:00,  6.41batch/s]\n"
     ]
    },
    {
     "name": "stdout",
     "output_type": "stream",
     "text": [
      "/////////////////////////\n",
      "adverserial loss :  tensor(1.7470e-06, device='cuda:1', grad_fn=<DivBackward0>)\n",
      "classification loss :  tensor(2.3549e-06, device='cuda:1', grad_fn=<DivBackward0>)\n",
      "classification node loss :  tensor(2.1470e-05, device='cuda:1', grad_fn=<DivBackward0>)\n",
      "total loss :  tensor(2.5572e-05, device='cuda:1', grad_fn=<DivBackward0>)\n",
      "////////////////////////////////////\n",
      "***************************\n",
      "test : \n"
     ]
    },
    {
     "name": "stderr",
     "output_type": "stream",
     "text": [
      "Epoch 353: 100%|███████████████████████████| 243/243 [00:38<00:00,  6.25batch/s]\n"
     ]
    },
    {
     "name": "stdout",
     "output_type": "stream",
     "text": [
      "score: write test scores to /home/hassan-hossein/single_image_graph_face_anti_spoofing/train/Scores/epoch_353/score.txt\n",
      "epoch:353, test:  val_ACC=0.9105, HTER=0.0895, AUC=0.9479, val_err=0.0895, ACC=0.9105, TPR=0.8079\n"
     ]
    },
    {
     "name": "stderr",
     "output_type": "stream",
     "text": [
      "Epoch 354: 100%|█████████████████████████| 3448/3448 [08:59<00:00,  6.39batch/s]\n"
     ]
    },
    {
     "name": "stdout",
     "output_type": "stream",
     "text": [
      "/////////////////////////\n",
      "adverserial loss :  tensor(6.7864e-08, device='cuda:1', grad_fn=<DivBackward0>)\n",
      "classification loss :  tensor(5.6145e-06, device='cuda:1', grad_fn=<DivBackward0>)\n",
      "classification node loss :  tensor(2.1059e-05, device='cuda:1', grad_fn=<DivBackward0>)\n",
      "total loss :  tensor(2.6742e-05, device='cuda:1', grad_fn=<DivBackward0>)\n",
      "////////////////////////////////////\n",
      "***************************\n",
      "test : \n"
     ]
    },
    {
     "name": "stderr",
     "output_type": "stream",
     "text": [
      "Epoch 354: 100%|███████████████████████████| 243/243 [00:38<00:00,  6.27batch/s]\n"
     ]
    },
    {
     "name": "stdout",
     "output_type": "stream",
     "text": [
      "score: write test scores to /home/hassan-hossein/single_image_graph_face_anti_spoofing/train/Scores/epoch_354/score.txt\n",
      "epoch:354, test:  val_ACC=0.9161, HTER=0.0839, AUC=0.9621, val_err=0.0839, ACC=0.9161, TPR=0.8542\n"
     ]
    },
    {
     "name": "stderr",
     "output_type": "stream",
     "text": [
      "Epoch 355: 100%|█████████████████████████| 3448/3448 [08:57<00:00,  6.42batch/s]\n"
     ]
    },
    {
     "name": "stdout",
     "output_type": "stream",
     "text": [
      "/////////////////////////\n",
      "adverserial loss :  tensor(3.8251e-08, device='cuda:1', grad_fn=<DivBackward0>)\n",
      "classification loss :  tensor(6.7356e-07, device='cuda:1', grad_fn=<DivBackward0>)\n",
      "classification node loss :  tensor(2.7420e-05, device='cuda:1', grad_fn=<DivBackward0>)\n",
      "total loss :  tensor(2.8131e-05, device='cuda:1', grad_fn=<DivBackward0>)\n",
      "////////////////////////////////////\n",
      "***************************\n",
      "test : \n"
     ]
    },
    {
     "name": "stderr",
     "output_type": "stream",
     "text": [
      "Epoch 355: 100%|███████████████████████████| 243/243 [00:38<00:00,  6.33batch/s]\n"
     ]
    },
    {
     "name": "stdout",
     "output_type": "stream",
     "text": [
      "score: write test scores to /home/hassan-hossein/single_image_graph_face_anti_spoofing/train/Scores/epoch_355/score.txt\n",
      "epoch:355, test:  val_ACC=0.8925, HTER=0.1075, AUC=0.9518, val_err=0.1075, ACC=0.8925, TPR=0.6993\n"
     ]
    },
    {
     "name": "stderr",
     "output_type": "stream",
     "text": [
      "Epoch 356: 100%|█████████████████████████| 3448/3448 [08:59<00:00,  6.39batch/s]\n"
     ]
    },
    {
     "name": "stdout",
     "output_type": "stream",
     "text": [
      "/////////////////////////\n",
      "adverserial loss :  tensor(2.9757e-10, device='cuda:1', grad_fn=<DivBackward0>)\n",
      "classification loss :  tensor(3.6081e-07, device='cuda:1', grad_fn=<DivBackward0>)\n",
      "classification node loss :  tensor(2.7933e-05, device='cuda:1', grad_fn=<DivBackward0>)\n",
      "total loss :  tensor(2.8294e-05, device='cuda:1', grad_fn=<DivBackward0>)\n",
      "////////////////////////////////////\n",
      "***************************\n",
      "test : \n"
     ]
    },
    {
     "name": "stderr",
     "output_type": "stream",
     "text": [
      "Epoch 356: 100%|███████████████████████████| 243/243 [00:38<00:00,  6.24batch/s]\n"
     ]
    },
    {
     "name": "stdout",
     "output_type": "stream",
     "text": [
      "score: write test scores to /home/hassan-hossein/single_image_graph_face_anti_spoofing/train/Scores/epoch_356/score.txt\n",
      "epoch:356, test:  val_ACC=0.9157, HTER=0.0844, AUC=0.9672, val_err=0.0844, ACC=0.9157, TPR=0.8449\n"
     ]
    },
    {
     "name": "stderr",
     "output_type": "stream",
     "text": [
      "Epoch 357: 100%|█████████████████████████| 3448/3448 [08:59<00:00,  6.40batch/s]\n"
     ]
    },
    {
     "name": "stdout",
     "output_type": "stream",
     "text": [
      "/////////////////////////\n",
      "adverserial loss :  tensor(7.9772e-07, device='cuda:1', grad_fn=<DivBackward0>)\n",
      "classification loss :  tensor(1.5631e-06, device='cuda:1', grad_fn=<DivBackward0>)\n",
      "classification node loss :  tensor(2.1385e-05, device='cuda:1', grad_fn=<DivBackward0>)\n",
      "total loss :  tensor(2.3746e-05, device='cuda:1', grad_fn=<DivBackward0>)\n",
      "////////////////////////////////////\n",
      "***************************\n",
      "test : \n"
     ]
    },
    {
     "name": "stderr",
     "output_type": "stream",
     "text": [
      "Epoch 357: 100%|███████████████████████████| 243/243 [00:38<00:00,  6.24batch/s]\n"
     ]
    },
    {
     "name": "stdout",
     "output_type": "stream",
     "text": [
      "score: write test scores to /home/hassan-hossein/single_image_graph_face_anti_spoofing/train/Scores/epoch_357/score.txt\n",
      "epoch:357, test:  val_ACC=0.9064, HTER=0.0936, AUC=0.9639, val_err=0.0936, ACC=0.9064, TPR=0.8200\n"
     ]
    },
    {
     "name": "stderr",
     "output_type": "stream",
     "text": [
      "Epoch 358: 100%|█████████████████████████| 3448/3448 [08:59<00:00,  6.39batch/s]\n"
     ]
    },
    {
     "name": "stdout",
     "output_type": "stream",
     "text": [
      "/////////////////////////\n",
      "adverserial loss :  tensor(1.5619e-07, device='cuda:1', grad_fn=<DivBackward0>)\n",
      "classification loss :  tensor(9.2533e-07, device='cuda:1', grad_fn=<DivBackward0>)\n",
      "classification node loss :  tensor(3.5036e-05, device='cuda:1', grad_fn=<DivBackward0>)\n",
      "total loss :  tensor(3.6118e-05, device='cuda:1', grad_fn=<DivBackward0>)\n",
      "////////////////////////////////////\n",
      "***************************\n",
      "test : \n"
     ]
    },
    {
     "name": "stderr",
     "output_type": "stream",
     "text": [
      "Epoch 358: 100%|███████████████████████████| 243/243 [00:39<00:00,  6.13batch/s]\n"
     ]
    },
    {
     "name": "stdout",
     "output_type": "stream",
     "text": [
      "score: write test scores to /home/hassan-hossein/single_image_graph_face_anti_spoofing/train/Scores/epoch_358/score.txt\n",
      "epoch:358, test:  val_ACC=0.9060, HTER=0.0941, AUC=0.9593, val_err=0.0941, ACC=0.9060, TPR=0.7464\n"
     ]
    },
    {
     "name": "stderr",
     "output_type": "stream",
     "text": [
      "Epoch 359: 100%|█████████████████████████| 3448/3448 [09:02<00:00,  6.35batch/s]\n"
     ]
    },
    {
     "name": "stdout",
     "output_type": "stream",
     "text": [
      "/////////////////////////\n",
      "adverserial loss :  tensor(3.5633e-07, device='cuda:1', grad_fn=<DivBackward0>)\n",
      "classification loss :  tensor(3.9803e-06, device='cuda:1', grad_fn=<DivBackward0>)\n",
      "classification node loss :  tensor(3.1242e-05, device='cuda:1', grad_fn=<DivBackward0>)\n",
      "total loss :  tensor(3.5579e-05, device='cuda:1', grad_fn=<DivBackward0>)\n",
      "////////////////////////////////////\n",
      "***************************\n",
      "test : \n"
     ]
    },
    {
     "name": "stderr",
     "output_type": "stream",
     "text": [
      "Epoch 359: 100%|███████████████████████████| 243/243 [00:38<00:00,  6.24batch/s]\n"
     ]
    },
    {
     "name": "stdout",
     "output_type": "stream",
     "text": [
      "score: write test scores to /home/hassan-hossein/single_image_graph_face_anti_spoofing/train/Scores/epoch_359/score.txt\n",
      "epoch:359, test:  val_ACC=0.9169, HTER=0.0831, AUC=0.9637, val_err=0.0831, ACC=0.9169, TPR=0.8642\n"
     ]
    },
    {
     "name": "stderr",
     "output_type": "stream",
     "text": [
      "Epoch 360: 100%|█████████████████████████| 3448/3448 [08:58<00:00,  6.40batch/s]\n"
     ]
    },
    {
     "name": "stdout",
     "output_type": "stream",
     "text": [
      "/////////////////////////\n",
      "adverserial loss :  tensor(1.5111e-08, device='cuda:1', grad_fn=<DivBackward0>)\n",
      "classification loss :  tensor(9.2422e-07, device='cuda:1', grad_fn=<DivBackward0>)\n",
      "classification node loss :  tensor(2.5548e-05, device='cuda:1', grad_fn=<DivBackward0>)\n",
      "total loss :  tensor(2.6487e-05, device='cuda:1', grad_fn=<DivBackward0>)\n",
      "////////////////////////////////////\n",
      "***************************\n",
      "test : \n"
     ]
    },
    {
     "name": "stderr",
     "output_type": "stream",
     "text": [
      "Epoch 360: 100%|███████████████████████████| 243/243 [00:38<00:00,  6.32batch/s]\n"
     ]
    },
    {
     "name": "stdout",
     "output_type": "stream",
     "text": [
      "score: write test scores to /home/hassan-hossein/single_image_graph_face_anti_spoofing/train/Scores/epoch_360/score.txt\n",
      "epoch:360, test:  val_ACC=0.9296, HTER=0.0704, AUC=0.9666, val_err=0.0704, ACC=0.9296, TPR=0.8781\n"
     ]
    },
    {
     "name": "stderr",
     "output_type": "stream",
     "text": [
      "Epoch 361: 100%|█████████████████████████| 3448/3448 [08:58<00:00,  6.40batch/s]\n"
     ]
    },
    {
     "name": "stdout",
     "output_type": "stream",
     "text": [
      "/////////////////////////\n",
      "adverserial loss :  tensor(4.3535e-09, device='cuda:1', grad_fn=<DivBackward0>)\n",
      "classification loss :  tensor(2.0222e-08, device='cuda:1', grad_fn=<DivBackward0>)\n",
      "classification node loss :  tensor(2.7213e-05, device='cuda:1', grad_fn=<DivBackward0>)\n",
      "total loss :  tensor(2.7238e-05, device='cuda:1', grad_fn=<DivBackward0>)\n",
      "////////////////////////////////////\n",
      "***************************\n",
      "test : \n"
     ]
    },
    {
     "name": "stderr",
     "output_type": "stream",
     "text": [
      "Epoch 361: 100%|███████████████████████████| 243/243 [00:38<00:00,  6.26batch/s]\n"
     ]
    },
    {
     "name": "stdout",
     "output_type": "stream",
     "text": [
      "score: write test scores to /home/hassan-hossein/single_image_graph_face_anti_spoofing/train/Scores/epoch_361/score.txt\n",
      "epoch:361, test:  val_ACC=0.9181, HTER=0.0820, AUC=0.9627, val_err=0.0820, ACC=0.9181, TPR=0.8346\n"
     ]
    },
    {
     "name": "stderr",
     "output_type": "stream",
     "text": [
      "Epoch 362: 100%|█████████████████████████| 3448/3448 [08:59<00:00,  6.39batch/s]\n"
     ]
    },
    {
     "name": "stdout",
     "output_type": "stream",
     "text": [
      "/////////////////////////\n",
      "adverserial loss :  tensor(2.2248e-10, device='cuda:1', grad_fn=<DivBackward0>)\n",
      "classification loss :  tensor(1.0618e-06, device='cuda:1', grad_fn=<DivBackward0>)\n",
      "classification node loss :  tensor(2.1735e-05, device='cuda:1', grad_fn=<DivBackward0>)\n",
      "total loss :  tensor(2.2797e-05, device='cuda:1', grad_fn=<DivBackward0>)\n",
      "////////////////////////////////////\n",
      "***************************\n",
      "test : \n"
     ]
    },
    {
     "name": "stderr",
     "output_type": "stream",
     "text": [
      "Epoch 362: 100%|███████████████████████████| 243/243 [00:39<00:00,  6.21batch/s]\n"
     ]
    },
    {
     "name": "stdout",
     "output_type": "stream",
     "text": [
      "score: write test scores to /home/hassan-hossein/single_image_graph_face_anti_spoofing/train/Scores/epoch_362/score.txt\n",
      "epoch:362, test:  val_ACC=0.9241, HTER=0.0759, AUC=0.9641, val_err=0.0759, ACC=0.9241, TPR=0.8153\n"
     ]
    },
    {
     "name": "stderr",
     "output_type": "stream",
     "text": [
      "Epoch 363: 100%|█████████████████████████| 3448/3448 [08:58<00:00,  6.40batch/s]\n"
     ]
    },
    {
     "name": "stdout",
     "output_type": "stream",
     "text": [
      "/////////////////////////\n",
      "adverserial loss :  tensor(1.8993e-06, device='cuda:1', grad_fn=<DivBackward0>)\n",
      "classification loss :  tensor(5.9403e-07, device='cuda:1', grad_fn=<DivBackward0>)\n",
      "classification node loss :  tensor(2.5324e-05, device='cuda:1', grad_fn=<DivBackward0>)\n",
      "total loss :  tensor(2.7818e-05, device='cuda:1', grad_fn=<DivBackward0>)\n",
      "////////////////////////////////////\n",
      "***************************\n",
      "test : \n"
     ]
    },
    {
     "name": "stderr",
     "output_type": "stream",
     "text": [
      "Epoch 363: 100%|███████████████████████████| 243/243 [00:39<00:00,  6.11batch/s]\n"
     ]
    },
    {
     "name": "stdout",
     "output_type": "stream",
     "text": [
      "score: write test scores to /home/hassan-hossein/single_image_graph_face_anti_spoofing/train/Scores/epoch_363/score.txt\n",
      "epoch:363, test:  val_ACC=0.8987, HTER=0.1014, AUC=0.9618, val_err=0.1014, ACC=0.8987, TPR=0.8187\n"
     ]
    },
    {
     "name": "stderr",
     "output_type": "stream",
     "text": [
      "Epoch 364: 100%|█████████████████████████| 3448/3448 [09:01<00:00,  6.37batch/s]\n"
     ]
    },
    {
     "name": "stdout",
     "output_type": "stream",
     "text": [
      "/////////////////////////\n",
      "adverserial loss :  tensor(1.5082e-09, device='cuda:1', grad_fn=<DivBackward0>)\n",
      "classification loss :  tensor(1.8324e-06, device='cuda:1', grad_fn=<DivBackward0>)\n",
      "classification node loss :  tensor(2.4593e-05, device='cuda:1', grad_fn=<DivBackward0>)\n",
      "total loss :  tensor(2.6427e-05, device='cuda:1', grad_fn=<DivBackward0>)\n",
      "////////////////////////////////////\n",
      "***************************\n",
      "test : \n"
     ]
    },
    {
     "name": "stderr",
     "output_type": "stream",
     "text": [
      "Epoch 364: 100%|███████████████████████████| 243/243 [00:39<00:00,  6.15batch/s]\n"
     ]
    },
    {
     "name": "stdout",
     "output_type": "stream",
     "text": [
      "score: write test scores to /home/hassan-hossein/single_image_graph_face_anti_spoofing/train/Scores/epoch_364/score.txt\n",
      "epoch:364, test:  val_ACC=0.8992, HTER=0.1008, AUC=0.9584, val_err=0.1008, ACC=0.8992, TPR=0.7711\n"
     ]
    },
    {
     "name": "stderr",
     "output_type": "stream",
     "text": [
      "Epoch 365: 100%|█████████████████████████| 3448/3448 [08:59<00:00,  6.39batch/s]\n"
     ]
    },
    {
     "name": "stdout",
     "output_type": "stream",
     "text": [
      "/////////////////////////\n",
      "adverserial loss :  tensor(9.1233e-10, device='cuda:1', grad_fn=<DivBackward0>)\n",
      "classification loss :  tensor(3.0409e-06, device='cuda:1', grad_fn=<DivBackward0>)\n",
      "classification node loss :  tensor(2.2616e-05, device='cuda:1', grad_fn=<DivBackward0>)\n",
      "total loss :  tensor(2.5658e-05, device='cuda:1', grad_fn=<DivBackward0>)\n",
      "////////////////////////////////////\n",
      "***************************\n",
      "test : \n"
     ]
    },
    {
     "name": "stderr",
     "output_type": "stream",
     "text": [
      "Epoch 365: 100%|███████████████████████████| 243/243 [00:40<00:00,  6.02batch/s]\n"
     ]
    },
    {
     "name": "stdout",
     "output_type": "stream",
     "text": [
      "score: write test scores to /home/hassan-hossein/single_image_graph_face_anti_spoofing/train/Scores/epoch_365/score.txt\n",
      "epoch:365, test:  val_ACC=0.8853, HTER=0.1147, AUC=0.9397, val_err=0.1147, ACC=0.8853, TPR=0.7011\n"
     ]
    },
    {
     "name": "stderr",
     "output_type": "stream",
     "text": [
      "Epoch 366: 100%|█████████████████████████| 3448/3448 [08:59<00:00,  6.39batch/s]\n"
     ]
    },
    {
     "name": "stdout",
     "output_type": "stream",
     "text": [
      "/////////////////////////\n",
      "adverserial loss :  tensor(1.8553e-06, device='cuda:1', grad_fn=<DivBackward0>)\n",
      "classification loss :  tensor(1.5689e-06, device='cuda:1', grad_fn=<DivBackward0>)\n",
      "classification node loss :  tensor(2.2382e-05, device='cuda:1', grad_fn=<DivBackward0>)\n",
      "total loss :  tensor(2.5806e-05, device='cuda:1', grad_fn=<DivBackward0>)\n",
      "////////////////////////////////////\n",
      "***************************\n",
      "test : \n"
     ]
    },
    {
     "name": "stderr",
     "output_type": "stream",
     "text": [
      "Epoch 366: 100%|███████████████████████████| 243/243 [00:38<00:00,  6.35batch/s]\n"
     ]
    },
    {
     "name": "stdout",
     "output_type": "stream",
     "text": [
      "score: write test scores to /home/hassan-hossein/single_image_graph_face_anti_spoofing/train/Scores/epoch_366/score.txt\n",
      "epoch:366, test:  val_ACC=0.8893, HTER=0.1107, AUC=0.9385, val_err=0.1107, ACC=0.8893, TPR=0.6965\n"
     ]
    },
    {
     "name": "stderr",
     "output_type": "stream",
     "text": [
      "Epoch 367: 100%|█████████████████████████| 3448/3448 [08:59<00:00,  6.39batch/s]\n"
     ]
    },
    {
     "name": "stdout",
     "output_type": "stream",
     "text": [
      "/////////////////////////\n",
      "adverserial loss :  tensor(7.3468e-07, device='cuda:1', grad_fn=<DivBackward0>)\n",
      "classification loss :  tensor(4.3434e-07, device='cuda:1', grad_fn=<DivBackward0>)\n",
      "classification node loss :  tensor(2.2584e-05, device='cuda:1', grad_fn=<DivBackward0>)\n",
      "total loss :  tensor(2.3754e-05, device='cuda:1', grad_fn=<DivBackward0>)\n",
      "////////////////////////////////////\n",
      "***************************\n",
      "test : \n"
     ]
    },
    {
     "name": "stderr",
     "output_type": "stream",
     "text": [
      "Epoch 367: 100%|███████████████████████████| 243/243 [00:39<00:00,  6.10batch/s]\n"
     ]
    },
    {
     "name": "stdout",
     "output_type": "stream",
     "text": [
      "score: write test scores to /home/hassan-hossein/single_image_graph_face_anti_spoofing/train/Scores/epoch_367/score.txt\n",
      "epoch:367, test:  val_ACC=0.9054, HTER=0.0947, AUC=0.9495, val_err=0.0947, ACC=0.9054, TPR=0.7999\n"
     ]
    },
    {
     "name": "stderr",
     "output_type": "stream",
     "text": [
      "Epoch 368: 100%|█████████████████████████| 3448/3448 [09:00<00:00,  6.37batch/s]\n"
     ]
    },
    {
     "name": "stdout",
     "output_type": "stream",
     "text": [
      "/////////////////////////\n",
      "adverserial loss :  tensor(5.2074e-09, device='cuda:1', grad_fn=<DivBackward0>)\n",
      "classification loss :  tensor(3.7855e-07, device='cuda:1', grad_fn=<DivBackward0>)\n",
      "classification node loss :  tensor(1.9971e-05, device='cuda:1', grad_fn=<DivBackward0>)\n",
      "total loss :  tensor(2.0354e-05, device='cuda:1', grad_fn=<DivBackward0>)\n",
      "////////////////////////////////////\n",
      "***************************\n",
      "test : \n"
     ]
    },
    {
     "name": "stderr",
     "output_type": "stream",
     "text": [
      "Epoch 368: 100%|███████████████████████████| 243/243 [00:39<00:00,  6.20batch/s]\n"
     ]
    },
    {
     "name": "stdout",
     "output_type": "stream",
     "text": [
      "score: write test scores to /home/hassan-hossein/single_image_graph_face_anti_spoofing/train/Scores/epoch_368/score.txt\n",
      "epoch:368, test:  val_ACC=0.8911, HTER=0.1090, AUC=0.9391, val_err=0.1090, ACC=0.8911, TPR=0.7515\n"
     ]
    },
    {
     "name": "stderr",
     "output_type": "stream",
     "text": [
      "Epoch 369: 100%|█████████████████████████| 3448/3448 [09:01<00:00,  6.37batch/s]\n"
     ]
    },
    {
     "name": "stdout",
     "output_type": "stream",
     "text": [
      "/////////////////////////\n",
      "adverserial loss :  tensor(2.4149e-07, device='cuda:1', grad_fn=<DivBackward0>)\n",
      "classification loss :  tensor(2.4142e-08, device='cuda:1', grad_fn=<DivBackward0>)\n",
      "classification node loss :  tensor(2.2641e-05, device='cuda:1', grad_fn=<DivBackward0>)\n",
      "total loss :  tensor(2.2907e-05, device='cuda:1', grad_fn=<DivBackward0>)\n",
      "////////////////////////////////////\n",
      "***************************\n",
      "test : \n"
     ]
    },
    {
     "name": "stderr",
     "output_type": "stream",
     "text": [
      "Epoch 369: 100%|███████████████████████████| 243/243 [00:39<00:00,  6.15batch/s]\n"
     ]
    },
    {
     "name": "stdout",
     "output_type": "stream",
     "text": [
      "score: write test scores to /home/hassan-hossein/single_image_graph_face_anti_spoofing/train/Scores/epoch_369/score.txt\n",
      "epoch:369, test:  val_ACC=0.8848, HTER=0.1152, AUC=0.9436, val_err=0.1153, ACC=0.8848, TPR=0.7150\n"
     ]
    },
    {
     "name": "stderr",
     "output_type": "stream",
     "text": [
      "Epoch 370: 100%|█████████████████████████| 3448/3448 [08:59<00:00,  6.39batch/s]\n"
     ]
    },
    {
     "name": "stdout",
     "output_type": "stream",
     "text": [
      "/////////////////////////\n",
      "adverserial loss :  tensor(1.2236e-08, device='cuda:1', grad_fn=<DivBackward0>)\n",
      "classification loss :  tensor(5.6630e-08, device='cuda:1', grad_fn=<DivBackward0>)\n",
      "classification node loss :  tensor(2.9583e-05, device='cuda:1', grad_fn=<DivBackward0>)\n",
      "total loss :  tensor(2.9652e-05, device='cuda:1', grad_fn=<DivBackward0>)\n",
      "////////////////////////////////////\n",
      "***************************\n",
      "test : \n"
     ]
    },
    {
     "name": "stderr",
     "output_type": "stream",
     "text": [
      "Epoch 370: 100%|███████████████████████████| 243/243 [00:39<00:00,  6.21batch/s]\n"
     ]
    },
    {
     "name": "stdout",
     "output_type": "stream",
     "text": [
      "score: write test scores to /home/hassan-hossein/single_image_graph_face_anti_spoofing/train/Scores/epoch_370/score.txt\n",
      "epoch:370, test:  val_ACC=0.9054, HTER=0.0947, AUC=0.9445, val_err=0.0947, ACC=0.9054, TPR=0.8130\n"
     ]
    },
    {
     "name": "stderr",
     "output_type": "stream",
     "text": [
      "Epoch 371: 100%|█████████████████████████| 3448/3448 [08:59<00:00,  6.39batch/s]\n"
     ]
    },
    {
     "name": "stdout",
     "output_type": "stream",
     "text": [
      "/////////////////////////\n",
      "adverserial loss :  tensor(8.5996e-07, device='cuda:1', grad_fn=<DivBackward0>)\n",
      "classification loss :  tensor(2.0369e-06, device='cuda:1', grad_fn=<DivBackward0>)\n",
      "classification node loss :  tensor(2.0250e-05, device='cuda:1', grad_fn=<DivBackward0>)\n",
      "total loss :  tensor(2.3147e-05, device='cuda:1', grad_fn=<DivBackward0>)\n",
      "////////////////////////////////////\n",
      "***************************\n",
      "test : \n"
     ]
    },
    {
     "name": "stderr",
     "output_type": "stream",
     "text": [
      "Epoch 371: 100%|███████████████████████████| 243/243 [00:38<00:00,  6.28batch/s]\n"
     ]
    },
    {
     "name": "stdout",
     "output_type": "stream",
     "text": [
      "score: write test scores to /home/hassan-hossein/single_image_graph_face_anti_spoofing/train/Scores/epoch_371/score.txt\n",
      "epoch:371, test:  val_ACC=0.8879, HTER=0.1121, AUC=0.9545, val_err=0.1121, ACC=0.8879, TPR=0.7199\n"
     ]
    },
    {
     "name": "stderr",
     "output_type": "stream",
     "text": [
      "Epoch 372: 100%|█████████████████████████| 3448/3448 [09:00<00:00,  6.38batch/s]\n"
     ]
    },
    {
     "name": "stdout",
     "output_type": "stream",
     "text": [
      "/////////////////////////\n",
      "adverserial loss :  tensor(3.1926e-07, device='cuda:1', grad_fn=<DivBackward0>)\n",
      "classification loss :  tensor(1.1163e-06, device='cuda:1', grad_fn=<DivBackward0>)\n",
      "classification node loss :  tensor(2.2408e-05, device='cuda:1', grad_fn=<DivBackward0>)\n",
      "total loss :  tensor(2.3843e-05, device='cuda:1', grad_fn=<DivBackward0>)\n",
      "////////////////////////////////////\n",
      "***************************\n",
      "test : \n"
     ]
    },
    {
     "name": "stderr",
     "output_type": "stream",
     "text": [
      "Epoch 372: 100%|███████████████████████████| 243/243 [00:38<00:00,  6.25batch/s]\n"
     ]
    },
    {
     "name": "stdout",
     "output_type": "stream",
     "text": [
      "score: write test scores to /home/hassan-hossein/single_image_graph_face_anti_spoofing/train/Scores/epoch_372/score.txt\n",
      "epoch:372, test:  val_ACC=0.9046, HTER=0.0954, AUC=0.9399, val_err=0.0954, ACC=0.9046, TPR=0.6008\n"
     ]
    },
    {
     "name": "stderr",
     "output_type": "stream",
     "text": [
      "Epoch 373: 100%|█████████████████████████| 3448/3448 [09:00<00:00,  6.38batch/s]\n"
     ]
    },
    {
     "name": "stdout",
     "output_type": "stream",
     "text": [
      "/////////////////////////\n",
      "adverserial loss :  tensor(1.2917e-07, device='cuda:1', grad_fn=<DivBackward0>)\n",
      "classification loss :  tensor(5.5245e-07, device='cuda:1', grad_fn=<DivBackward0>)\n",
      "classification node loss :  tensor(2.3193e-05, device='cuda:1', grad_fn=<DivBackward0>)\n",
      "total loss :  tensor(2.3874e-05, device='cuda:1', grad_fn=<DivBackward0>)\n",
      "////////////////////////////////////\n",
      "***************************\n",
      "test : \n"
     ]
    },
    {
     "name": "stderr",
     "output_type": "stream",
     "text": [
      "Epoch 373: 100%|███████████████████████████| 243/243 [00:38<00:00,  6.29batch/s]\n"
     ]
    },
    {
     "name": "stdout",
     "output_type": "stream",
     "text": [
      "score: write test scores to /home/hassan-hossein/single_image_graph_face_anti_spoofing/train/Scores/epoch_373/score.txt\n",
      "epoch:373, test:  val_ACC=0.8892, HTER=0.1108, AUC=0.9396, val_err=0.1108, ACC=0.8892, TPR=0.7546\n"
     ]
    },
    {
     "name": "stderr",
     "output_type": "stream",
     "text": [
      "Epoch 374: 100%|█████████████████████████| 3448/3448 [09:01<00:00,  6.37batch/s]\n"
     ]
    },
    {
     "name": "stdout",
     "output_type": "stream",
     "text": [
      "/////////////////////////\n",
      "adverserial loss :  tensor(1.8686e-06, device='cuda:1', grad_fn=<DivBackward0>)\n",
      "classification loss :  tensor(3.5450e-08, device='cuda:1', grad_fn=<DivBackward0>)\n",
      "classification node loss :  tensor(2.1862e-05, device='cuda:1', grad_fn=<DivBackward0>)\n",
      "total loss :  tensor(2.3766e-05, device='cuda:1', grad_fn=<DivBackward0>)\n",
      "////////////////////////////////////\n",
      "***************************\n",
      "test : \n"
     ]
    },
    {
     "name": "stderr",
     "output_type": "stream",
     "text": [
      "Epoch 374: 100%|███████████████████████████| 243/243 [00:39<00:00,  6.20batch/s]\n"
     ]
    },
    {
     "name": "stdout",
     "output_type": "stream",
     "text": [
      "score: write test scores to /home/hassan-hossein/single_image_graph_face_anti_spoofing/train/Scores/epoch_374/score.txt\n",
      "epoch:374, test:  val_ACC=0.9013, HTER=0.0987, AUC=0.9412, val_err=0.0987, ACC=0.9013, TPR=0.6908\n"
     ]
    },
    {
     "name": "stderr",
     "output_type": "stream",
     "text": [
      "Epoch 375: 100%|█████████████████████████| 3448/3448 [08:58<00:00,  6.40batch/s]\n"
     ]
    },
    {
     "name": "stdout",
     "output_type": "stream",
     "text": [
      "/////////////////////////\n",
      "adverserial loss :  tensor(2.2362e-09, device='cuda:1', grad_fn=<DivBackward0>)\n",
      "classification loss :  tensor(2.3483e-06, device='cuda:1', grad_fn=<DivBackward0>)\n",
      "classification node loss :  tensor(2.8355e-05, device='cuda:1', grad_fn=<DivBackward0>)\n",
      "total loss :  tensor(3.0706e-05, device='cuda:1', grad_fn=<DivBackward0>)\n",
      "////////////////////////////////////\n",
      "***************************\n",
      "test : \n"
     ]
    },
    {
     "name": "stderr",
     "output_type": "stream",
     "text": [
      "Epoch 375: 100%|███████████████████████████| 243/243 [00:38<00:00,  6.28batch/s]\n"
     ]
    },
    {
     "name": "stdout",
     "output_type": "stream",
     "text": [
      "score: write test scores to /home/hassan-hossein/single_image_graph_face_anti_spoofing/train/Scores/epoch_375/score.txt\n",
      "epoch:375, test:  val_ACC=0.8838, HTER=0.1163, AUC=0.9492, val_err=0.1163, ACC=0.8838, TPR=0.8071\n"
     ]
    },
    {
     "name": "stderr",
     "output_type": "stream",
     "text": [
      "Epoch 376: 100%|█████████████████████████| 3448/3448 [08:59<00:00,  6.39batch/s]\n"
     ]
    },
    {
     "name": "stdout",
     "output_type": "stream",
     "text": [
      "/////////////////////////\n",
      "adverserial loss :  tensor(1.5976e-06, device='cuda:1', grad_fn=<DivBackward0>)\n",
      "classification loss :  tensor(1.2583e-07, device='cuda:1', grad_fn=<DivBackward0>)\n",
      "classification node loss :  tensor(2.4108e-05, device='cuda:1', grad_fn=<DivBackward0>)\n",
      "total loss :  tensor(2.5832e-05, device='cuda:1', grad_fn=<DivBackward0>)\n",
      "////////////////////////////////////\n",
      "***************************\n",
      "test : \n"
     ]
    },
    {
     "name": "stderr",
     "output_type": "stream",
     "text": [
      "Epoch 376: 100%|███████████████████████████| 243/243 [00:38<00:00,  6.26batch/s]\n"
     ]
    },
    {
     "name": "stdout",
     "output_type": "stream",
     "text": [
      "score: write test scores to /home/hassan-hossein/single_image_graph_face_anti_spoofing/train/Scores/epoch_376/score.txt\n",
      "epoch:376, test:  val_ACC=0.8949, HTER=0.1052, AUC=0.9428, val_err=0.1051, ACC=0.8949, TPR=0.7971\n"
     ]
    },
    {
     "name": "stderr",
     "output_type": "stream",
     "text": [
      "Epoch 377: 100%|█████████████████████████| 3448/3448 [08:59<00:00,  6.40batch/s]\n"
     ]
    },
    {
     "name": "stdout",
     "output_type": "stream",
     "text": [
      "/////////////////////////\n",
      "adverserial loss :  tensor(1.0946e-06, device='cuda:1', grad_fn=<DivBackward0>)\n",
      "classification loss :  tensor(1.6364e-06, device='cuda:1', grad_fn=<DivBackward0>)\n",
      "classification node loss :  tensor(2.6512e-05, device='cuda:1', grad_fn=<DivBackward0>)\n",
      "total loss :  tensor(2.9243e-05, device='cuda:1', grad_fn=<DivBackward0>)\n",
      "////////////////////////////////////\n",
      "***************************\n",
      "test : \n"
     ]
    },
    {
     "name": "stderr",
     "output_type": "stream",
     "text": [
      "Epoch 377: 100%|███████████████████████████| 243/243 [00:38<00:00,  6.30batch/s]\n"
     ]
    },
    {
     "name": "stdout",
     "output_type": "stream",
     "text": [
      "score: write test scores to /home/hassan-hossein/single_image_graph_face_anti_spoofing/train/Scores/epoch_377/score.txt\n",
      "epoch:377, test:  val_ACC=0.8950, HTER=0.1050, AUC=0.9502, val_err=0.1050, ACC=0.8950, TPR=0.6394\n"
     ]
    },
    {
     "name": "stderr",
     "output_type": "stream",
     "text": [
      "Epoch 378: 100%|█████████████████████████| 3448/3448 [08:59<00:00,  6.39batch/s]\n"
     ]
    },
    {
     "name": "stdout",
     "output_type": "stream",
     "text": [
      "/////////////////////////\n",
      "adverserial loss :  tensor(1.1036e-08, device='cuda:1', grad_fn=<DivBackward0>)\n",
      "classification loss :  tensor(4.8532e-07, device='cuda:1', grad_fn=<DivBackward0>)\n",
      "classification node loss :  tensor(2.5751e-05, device='cuda:1', grad_fn=<DivBackward0>)\n",
      "total loss :  tensor(2.6248e-05, device='cuda:1', grad_fn=<DivBackward0>)\n",
      "////////////////////////////////////\n",
      "***************************\n",
      "test : \n"
     ]
    },
    {
     "name": "stderr",
     "output_type": "stream",
     "text": [
      "Epoch 378: 100%|███████████████████████████| 243/243 [00:38<00:00,  6.29batch/s]\n"
     ]
    },
    {
     "name": "stdout",
     "output_type": "stream",
     "text": [
      "score: write test scores to /home/hassan-hossein/single_image_graph_face_anti_spoofing/train/Scores/epoch_378/score.txt\n",
      "epoch:378, test:  val_ACC=0.8662, HTER=0.1338, AUC=0.9174, val_err=0.1338, ACC=0.8662, TPR=0.6435\n"
     ]
    },
    {
     "name": "stderr",
     "output_type": "stream",
     "text": [
      "Epoch 379: 100%|█████████████████████████| 3448/3448 [09:00<00:00,  6.38batch/s]\n"
     ]
    },
    {
     "name": "stdout",
     "output_type": "stream",
     "text": [
      "/////////////////////////\n",
      "adverserial loss :  tensor(5.3867e-08, device='cuda:1', grad_fn=<DivBackward0>)\n",
      "classification loss :  tensor(2.7444e-06, device='cuda:1', grad_fn=<DivBackward0>)\n",
      "classification node loss :  tensor(1.8989e-05, device='cuda:1', grad_fn=<DivBackward0>)\n",
      "total loss :  tensor(2.1787e-05, device='cuda:1', grad_fn=<DivBackward0>)\n",
      "////////////////////////////////////\n",
      "***************************\n",
      "test : \n"
     ]
    },
    {
     "name": "stderr",
     "output_type": "stream",
     "text": [
      "Epoch 379: 100%|███████████████████████████| 243/243 [00:38<00:00,  6.33batch/s]\n"
     ]
    },
    {
     "name": "stdout",
     "output_type": "stream",
     "text": [
      "score: write test scores to /home/hassan-hossein/single_image_graph_face_anti_spoofing/train/Scores/epoch_379/score.txt\n",
      "epoch:379, test:  val_ACC=0.9026, HTER=0.0975, AUC=0.9353, val_err=0.0975, ACC=0.9026, TPR=0.7948\n"
     ]
    },
    {
     "name": "stderr",
     "output_type": "stream",
     "text": [
      "Epoch 380: 100%|█████████████████████████| 3448/3448 [08:59<00:00,  6.39batch/s]\n"
     ]
    },
    {
     "name": "stdout",
     "output_type": "stream",
     "text": [
      "/////////////////////////\n",
      "adverserial loss :  tensor(3.3409e-07, device='cuda:1', grad_fn=<DivBackward0>)\n",
      "classification loss :  tensor(2.8148e-07, device='cuda:1', grad_fn=<DivBackward0>)\n",
      "classification node loss :  tensor(1.7284e-05, device='cuda:1', grad_fn=<DivBackward0>)\n",
      "total loss :  tensor(1.7899e-05, device='cuda:1', grad_fn=<DivBackward0>)\n",
      "////////////////////////////////////\n",
      "***************************\n",
      "test : \n"
     ]
    },
    {
     "name": "stderr",
     "output_type": "stream",
     "text": [
      "Epoch 380: 100%|███████████████████████████| 243/243 [00:39<00:00,  6.12batch/s]\n"
     ]
    },
    {
     "name": "stdout",
     "output_type": "stream",
     "text": [
      "score: write test scores to /home/hassan-hossein/single_image_graph_face_anti_spoofing/train/Scores/epoch_380/score.txt\n",
      "epoch:380, test:  val_ACC=0.8725, HTER=0.1276, AUC=0.9098, val_err=0.1276, ACC=0.8725, TPR=0.7060\n"
     ]
    },
    {
     "name": "stderr",
     "output_type": "stream",
     "text": [
      "Epoch 381: 100%|█████████████████████████| 3448/3448 [08:59<00:00,  6.39batch/s]\n"
     ]
    },
    {
     "name": "stdout",
     "output_type": "stream",
     "text": [
      "/////////////////////////\n",
      "adverserial loss :  tensor(4.0953e-10, device='cuda:1', grad_fn=<DivBackward0>)\n",
      "classification loss :  tensor(1.2893e-06, device='cuda:1', grad_fn=<DivBackward0>)\n",
      "classification node loss :  tensor(2.2789e-05, device='cuda:1', grad_fn=<DivBackward0>)\n",
      "total loss :  tensor(2.4079e-05, device='cuda:1', grad_fn=<DivBackward0>)\n",
      "////////////////////////////////////\n",
      "***************************\n",
      "test : \n"
     ]
    },
    {
     "name": "stderr",
     "output_type": "stream",
     "text": [
      "Epoch 381: 100%|███████████████████████████| 243/243 [00:40<00:00,  6.03batch/s]\n"
     ]
    },
    {
     "name": "stdout",
     "output_type": "stream",
     "text": [
      "score: write test scores to /home/hassan-hossein/single_image_graph_face_anti_spoofing/train/Scores/epoch_381/score.txt\n",
      "epoch:381, test:  val_ACC=0.8987, HTER=0.1014, AUC=0.9339, val_err=0.1014, ACC=0.8987, TPR=0.5242\n"
     ]
    },
    {
     "name": "stderr",
     "output_type": "stream",
     "text": [
      "Epoch 382: 100%|█████████████████████████| 3448/3448 [08:58<00:00,  6.40batch/s]\n"
     ]
    },
    {
     "name": "stdout",
     "output_type": "stream",
     "text": [
      "/////////////////////////\n",
      "adverserial loss :  tensor(8.5970e-07, device='cuda:1', grad_fn=<DivBackward0>)\n",
      "classification loss :  tensor(8.0426e-07, device='cuda:1', grad_fn=<DivBackward0>)\n",
      "classification node loss :  tensor(2.1236e-05, device='cuda:1', grad_fn=<DivBackward0>)\n",
      "total loss :  tensor(2.2900e-05, device='cuda:1', grad_fn=<DivBackward0>)\n",
      "////////////////////////////////////\n",
      "***************************\n",
      "test : \n"
     ]
    },
    {
     "name": "stderr",
     "output_type": "stream",
     "text": [
      "Epoch 382: 100%|███████████████████████████| 243/243 [00:38<00:00,  6.27batch/s]\n"
     ]
    },
    {
     "name": "stdout",
     "output_type": "stream",
     "text": [
      "score: write test scores to /home/hassan-hossein/single_image_graph_face_anti_spoofing/train/Scores/epoch_382/score.txt\n",
      "epoch:382, test:  val_ACC=0.8945, HTER=0.1055, AUC=0.9398, val_err=0.1055, ACC=0.8945, TPR=0.6553\n"
     ]
    },
    {
     "name": "stderr",
     "output_type": "stream",
     "text": [
      "Epoch 383: 100%|█████████████████████████| 3448/3448 [08:57<00:00,  6.41batch/s]\n"
     ]
    },
    {
     "name": "stdout",
     "output_type": "stream",
     "text": [
      "/////////////////////////\n",
      "adverserial loss :  tensor(1.0336e-08, device='cuda:1', grad_fn=<DivBackward0>)\n",
      "classification loss :  tensor(7.6675e-07, device='cuda:1', grad_fn=<DivBackward0>)\n",
      "classification node loss :  tensor(2.2952e-05, device='cuda:1', grad_fn=<DivBackward0>)\n",
      "total loss :  tensor(2.3729e-05, device='cuda:1', grad_fn=<DivBackward0>)\n",
      "////////////////////////////////////\n",
      "***************************\n",
      "test : \n"
     ]
    },
    {
     "name": "stderr",
     "output_type": "stream",
     "text": [
      "Epoch 383: 100%|███████████████████████████| 243/243 [00:38<00:00,  6.28batch/s]\n"
     ]
    },
    {
     "name": "stdout",
     "output_type": "stream",
     "text": [
      "score: write test scores to /home/hassan-hossein/single_image_graph_face_anti_spoofing/train/Scores/epoch_383/score.txt\n",
      "epoch:383, test:  val_ACC=0.8903, HTER=0.1096, AUC=0.9358, val_err=0.1097, ACC=0.8903, TPR=0.6646\n"
     ]
    },
    {
     "name": "stderr",
     "output_type": "stream",
     "text": [
      "Epoch 384: 100%|█████████████████████████| 3448/3448 [08:58<00:00,  6.40batch/s]\n"
     ]
    },
    {
     "name": "stdout",
     "output_type": "stream",
     "text": [
      "/////////////////////////\n",
      "adverserial loss :  tensor(3.5046e-07, device='cuda:1', grad_fn=<DivBackward0>)\n",
      "classification loss :  tensor(1.7000e-06, device='cuda:1', grad_fn=<DivBackward0>)\n",
      "classification node loss :  tensor(2.5815e-05, device='cuda:1', grad_fn=<DivBackward0>)\n",
      "total loss :  tensor(2.7866e-05, device='cuda:1', grad_fn=<DivBackward0>)\n",
      "////////////////////////////////////\n",
      "***************************\n",
      "test : \n"
     ]
    },
    {
     "name": "stderr",
     "output_type": "stream",
     "text": [
      "Epoch 384: 100%|███████████████████████████| 243/243 [00:38<00:00,  6.25batch/s]\n"
     ]
    },
    {
     "name": "stdout",
     "output_type": "stream",
     "text": [
      "score: write test scores to /home/hassan-hossein/single_image_graph_face_anti_spoofing/train/Scores/epoch_384/score.txt\n",
      "epoch:384, test:  val_ACC=0.8841, HTER=0.1160, AUC=0.9292, val_err=0.1160, ACC=0.8841, TPR=0.8349\n"
     ]
    },
    {
     "name": "stderr",
     "output_type": "stream",
     "text": [
      "Epoch 385: 100%|█████████████████████████| 3448/3448 [08:59<00:00,  6.39batch/s]\n"
     ]
    },
    {
     "name": "stdout",
     "output_type": "stream",
     "text": [
      "/////////////////////////\n",
      "adverserial loss :  tensor(1.3784e-06, device='cuda:1', grad_fn=<DivBackward0>)\n",
      "classification loss :  tensor(4.7379e-07, device='cuda:1', grad_fn=<DivBackward0>)\n",
      "classification node loss :  tensor(2.1248e-05, device='cuda:1', grad_fn=<DivBackward0>)\n",
      "total loss :  tensor(2.3100e-05, device='cuda:1', grad_fn=<DivBackward0>)\n",
      "////////////////////////////////////\n",
      "***************************\n",
      "test : \n"
     ]
    },
    {
     "name": "stderr",
     "output_type": "stream",
     "text": [
      "Epoch 385: 100%|███████████████████████████| 243/243 [00:39<00:00,  6.20batch/s]\n"
     ]
    },
    {
     "name": "stdout",
     "output_type": "stream",
     "text": [
      "score: write test scores to /home/hassan-hossein/single_image_graph_face_anti_spoofing/train/Scores/epoch_385/score.txt\n",
      "epoch:385, test:  val_ACC=0.8862, HTER=0.1139, AUC=0.9150, val_err=0.1139, ACC=0.8862, TPR=0.6736\n"
     ]
    },
    {
     "name": "stderr",
     "output_type": "stream",
     "text": [
      "Epoch 386: 100%|█████████████████████████| 3448/3448 [09:00<00:00,  6.38batch/s]\n"
     ]
    },
    {
     "name": "stdout",
     "output_type": "stream",
     "text": [
      "/////////////////////////\n",
      "adverserial loss :  tensor(7.3098e-07, device='cuda:1', grad_fn=<DivBackward0>)\n",
      "classification loss :  tensor(7.4714e-09, device='cuda:1', grad_fn=<DivBackward0>)\n",
      "classification node loss :  tensor(2.1280e-05, device='cuda:1', grad_fn=<DivBackward0>)\n",
      "total loss :  tensor(2.2018e-05, device='cuda:1', grad_fn=<DivBackward0>)\n",
      "////////////////////////////////////\n",
      "***************************\n",
      "test : \n"
     ]
    },
    {
     "name": "stderr",
     "output_type": "stream",
     "text": [
      "Epoch 386: 100%|███████████████████████████| 243/243 [00:39<00:00,  6.17batch/s]\n"
     ]
    },
    {
     "name": "stdout",
     "output_type": "stream",
     "text": [
      "score: write test scores to /home/hassan-hossein/single_image_graph_face_anti_spoofing/train/Scores/epoch_386/score.txt\n",
      "epoch:386, test:  val_ACC=0.8817, HTER=0.1183, AUC=0.9094, val_err=0.1183, ACC=0.8817, TPR=0.0000\n"
     ]
    },
    {
     "name": "stderr",
     "output_type": "stream",
     "text": [
      "Epoch 387: 100%|█████████████████████████| 3448/3448 [08:59<00:00,  6.39batch/s]\n"
     ]
    },
    {
     "name": "stdout",
     "output_type": "stream",
     "text": [
      "/////////////////////////\n",
      "adverserial loss :  tensor(1.3836e-06, device='cuda:1', grad_fn=<DivBackward0>)\n",
      "classification loss :  tensor(2.3344e-09, device='cuda:1', grad_fn=<DivBackward0>)\n",
      "classification node loss :  tensor(2.0226e-05, device='cuda:1', grad_fn=<DivBackward0>)\n",
      "total loss :  tensor(2.1612e-05, device='cuda:1', grad_fn=<DivBackward0>)\n",
      "////////////////////////////////////\n",
      "***************************\n",
      "test : \n"
     ]
    },
    {
     "name": "stderr",
     "output_type": "stream",
     "text": [
      "Epoch 387: 100%|███████████████████████████| 243/243 [00:39<00:00,  6.22batch/s]\n"
     ]
    },
    {
     "name": "stdout",
     "output_type": "stream",
     "text": [
      "score: write test scores to /home/hassan-hossein/single_image_graph_face_anti_spoofing/train/Scores/epoch_387/score.txt\n",
      "epoch:387, test:  val_ACC=0.8807, HTER=0.1194, AUC=0.9171, val_err=0.1194, ACC=0.8807, TPR=0.6373\n"
     ]
    },
    {
     "name": "stderr",
     "output_type": "stream",
     "text": [
      "Epoch 388: 100%|█████████████████████████| 3448/3448 [08:58<00:00,  6.40batch/s]\n"
     ]
    },
    {
     "name": "stdout",
     "output_type": "stream",
     "text": [
      "/////////////////////////\n",
      "adverserial loss :  tensor(6.3593e-07, device='cuda:1', grad_fn=<DivBackward0>)\n",
      "classification loss :  tensor(1.4611e-06, device='cuda:1', grad_fn=<DivBackward0>)\n",
      "classification node loss :  tensor(2.4218e-05, device='cuda:1', grad_fn=<DivBackward0>)\n",
      "total loss :  tensor(2.6315e-05, device='cuda:1', grad_fn=<DivBackward0>)\n",
      "////////////////////////////////////\n",
      "***************************\n",
      "test : \n"
     ]
    },
    {
     "name": "stderr",
     "output_type": "stream",
     "text": [
      "Epoch 388: 100%|███████████████████████████| 243/243 [00:39<00:00,  6.22batch/s]\n"
     ]
    },
    {
     "name": "stdout",
     "output_type": "stream",
     "text": [
      "score: write test scores to /home/hassan-hossein/single_image_graph_face_anti_spoofing/train/Scores/epoch_388/score.txt\n",
      "epoch:388, test:  val_ACC=0.9069, HTER=0.0931, AUC=0.9556, val_err=0.0931, ACC=0.9069, TPR=0.7767\n"
     ]
    },
    {
     "name": "stderr",
     "output_type": "stream",
     "text": [
      "Epoch 389: 100%|█████████████████████████| 3448/3448 [09:01<00:00,  6.37batch/s]\n"
     ]
    },
    {
     "name": "stdout",
     "output_type": "stream",
     "text": [
      "/////////////////////////\n",
      "adverserial loss :  tensor(1.2871e-07, device='cuda:1', grad_fn=<DivBackward0>)\n",
      "classification loss :  tensor(1.1806e-06, device='cuda:1', grad_fn=<DivBackward0>)\n",
      "classification node loss :  tensor(2.0541e-05, device='cuda:1', grad_fn=<DivBackward0>)\n",
      "total loss :  tensor(2.1850e-05, device='cuda:1', grad_fn=<DivBackward0>)\n",
      "////////////////////////////////////\n",
      "***************************\n",
      "test : \n"
     ]
    },
    {
     "name": "stderr",
     "output_type": "stream",
     "text": [
      "Epoch 389: 100%|███████████████████████████| 243/243 [00:39<00:00,  6.10batch/s]\n"
     ]
    },
    {
     "name": "stdout",
     "output_type": "stream",
     "text": [
      "score: write test scores to /home/hassan-hossein/single_image_graph_face_anti_spoofing/train/Scores/epoch_389/score.txt\n",
      "epoch:389, test:  val_ACC=0.8636, HTER=0.1364, AUC=0.9209, val_err=0.1364, ACC=0.8636, TPR=0.0000\n"
     ]
    },
    {
     "name": "stderr",
     "output_type": "stream",
     "text": [
      "Epoch 390: 100%|█████████████████████████| 3448/3448 [09:00<00:00,  6.38batch/s]\n"
     ]
    },
    {
     "name": "stdout",
     "output_type": "stream",
     "text": [
      "/////////////////////////\n",
      "adverserial loss :  tensor(1.2932e-09, device='cuda:1', grad_fn=<DivBackward0>)\n",
      "classification loss :  tensor(7.1647e-08, device='cuda:1', grad_fn=<DivBackward0>)\n",
      "classification node loss :  tensor(1.9115e-05, device='cuda:1', grad_fn=<DivBackward0>)\n",
      "total loss :  tensor(1.9188e-05, device='cuda:1', grad_fn=<DivBackward0>)\n",
      "////////////////////////////////////\n",
      "***************************\n",
      "test : \n"
     ]
    },
    {
     "name": "stderr",
     "output_type": "stream",
     "text": [
      "Epoch 390: 100%|███████████████████████████| 243/243 [00:39<00:00,  6.14batch/s]\n"
     ]
    },
    {
     "name": "stdout",
     "output_type": "stream",
     "text": [
      "score: write test scores to /home/hassan-hossein/single_image_graph_face_anti_spoofing/train/Scores/epoch_390/score.txt\n",
      "epoch:390, test:  val_ACC=0.8661, HTER=0.1340, AUC=0.9229, val_err=0.1340, ACC=0.8661, TPR=0.6831\n"
     ]
    },
    {
     "name": "stderr",
     "output_type": "stream",
     "text": [
      "Epoch 391: 100%|█████████████████████████| 3448/3448 [08:59<00:00,  6.39batch/s]\n"
     ]
    },
    {
     "name": "stdout",
     "output_type": "stream",
     "text": [
      "/////////////////////////\n",
      "adverserial loss :  tensor(3.8842e-09, device='cuda:1', grad_fn=<DivBackward0>)\n",
      "classification loss :  tensor(1.2867e-06, device='cuda:1', grad_fn=<DivBackward0>)\n",
      "classification node loss :  tensor(2.4502e-05, device='cuda:1', grad_fn=<DivBackward0>)\n",
      "total loss :  tensor(2.5792e-05, device='cuda:1', grad_fn=<DivBackward0>)\n",
      "////////////////////////////////////\n",
      "***************************\n",
      "test : \n"
     ]
    },
    {
     "name": "stderr",
     "output_type": "stream",
     "text": [
      "Epoch 391: 100%|███████████████████████████| 243/243 [00:38<00:00,  6.30batch/s]\n"
     ]
    },
    {
     "name": "stdout",
     "output_type": "stream",
     "text": [
      "score: write test scores to /home/hassan-hossein/single_image_graph_face_anti_spoofing/train/Scores/epoch_391/score.txt\n",
      "epoch:391, test:  val_ACC=0.8509, HTER=0.1492, AUC=0.9098, val_err=0.1492, ACC=0.8509, TPR=0.6165\n"
     ]
    },
    {
     "name": "stderr",
     "output_type": "stream",
     "text": [
      "Epoch 392: 100%|█████████████████████████| 3448/3448 [09:00<00:00,  6.38batch/s]\n"
     ]
    },
    {
     "name": "stdout",
     "output_type": "stream",
     "text": [
      "/////////////////////////\n",
      "adverserial loss :  tensor(6.5939e-07, device='cuda:1', grad_fn=<DivBackward0>)\n",
      "classification loss :  tensor(8.5605e-07, device='cuda:1', grad_fn=<DivBackward0>)\n",
      "classification node loss :  tensor(2.0460e-05, device='cuda:1', grad_fn=<DivBackward0>)\n",
      "total loss :  tensor(2.1976e-05, device='cuda:1', grad_fn=<DivBackward0>)\n",
      "////////////////////////////////////\n",
      "***************************\n",
      "test : \n"
     ]
    },
    {
     "name": "stderr",
     "output_type": "stream",
     "text": [
      "Epoch 392: 100%|███████████████████████████| 243/243 [00:41<00:00,  5.89batch/s]\n"
     ]
    },
    {
     "name": "stdout",
     "output_type": "stream",
     "text": [
      "score: write test scores to /home/hassan-hossein/single_image_graph_face_anti_spoofing/train/Scores/epoch_392/score.txt\n",
      "epoch:392, test:  val_ACC=0.8756, HTER=0.1245, AUC=0.9288, val_err=0.1244, ACC=0.8756, TPR=0.7366\n"
     ]
    },
    {
     "name": "stderr",
     "output_type": "stream",
     "text": [
      "Epoch 393: 100%|█████████████████████████| 3448/3448 [09:01<00:00,  6.36batch/s]\n"
     ]
    },
    {
     "name": "stdout",
     "output_type": "stream",
     "text": [
      "/////////////////////////\n",
      "adverserial loss :  tensor(3.5376e-07, device='cuda:1', grad_fn=<DivBackward0>)\n",
      "classification loss :  tensor(1.4441e-06, device='cuda:1', grad_fn=<DivBackward0>)\n",
      "classification node loss :  tensor(2.0382e-05, device='cuda:1', grad_fn=<DivBackward0>)\n",
      "total loss :  tensor(2.2180e-05, device='cuda:1', grad_fn=<DivBackward0>)\n",
      "////////////////////////////////////\n",
      "***************************\n",
      "test : \n"
     ]
    },
    {
     "name": "stderr",
     "output_type": "stream",
     "text": [
      "Epoch 393: 100%|███████████████████████████| 243/243 [00:38<00:00,  6.27batch/s]\n"
     ]
    },
    {
     "name": "stdout",
     "output_type": "stream",
     "text": [
      "score: write test scores to /home/hassan-hossein/single_image_graph_face_anti_spoofing/train/Scores/epoch_393/score.txt\n",
      "epoch:393, test:  val_ACC=0.8889, HTER=0.1111, AUC=0.9460, val_err=0.1111, ACC=0.8889, TPR=0.7222\n"
     ]
    },
    {
     "name": "stderr",
     "output_type": "stream",
     "text": [
      "Epoch 394: 100%|█████████████████████████| 3448/3448 [09:00<00:00,  6.38batch/s]\n"
     ]
    },
    {
     "name": "stdout",
     "output_type": "stream",
     "text": [
      "/////////////////////////\n",
      "adverserial loss :  tensor(9.5887e-09, device='cuda:1', grad_fn=<DivBackward0>)\n",
      "classification loss :  tensor(9.3775e-07, device='cuda:1', grad_fn=<DivBackward0>)\n",
      "classification node loss :  tensor(1.9560e-05, device='cuda:1', grad_fn=<DivBackward0>)\n",
      "total loss :  tensor(2.0508e-05, device='cuda:1', grad_fn=<DivBackward0>)\n",
      "////////////////////////////////////\n",
      "***************************\n",
      "test : \n"
     ]
    },
    {
     "name": "stderr",
     "output_type": "stream",
     "text": [
      "Epoch 394: 100%|███████████████████████████| 243/243 [00:38<00:00,  6.28batch/s]\n"
     ]
    },
    {
     "name": "stdout",
     "output_type": "stream",
     "text": [
      "score: write test scores to /home/hassan-hossein/single_image_graph_face_anti_spoofing/train/Scores/epoch_394/score.txt\n",
      "epoch:394, test:  val_ACC=0.8960, HTER=0.1040, AUC=0.9440, val_err=0.1040, ACC=0.8960, TPR=0.6762\n"
     ]
    },
    {
     "name": "stderr",
     "output_type": "stream",
     "text": [
      "Epoch 395: 100%|█████████████████████████| 3448/3448 [09:02<00:00,  6.36batch/s]\n"
     ]
    },
    {
     "name": "stdout",
     "output_type": "stream",
     "text": [
      "/////////////////////////\n",
      "adverserial loss :  tensor(2.3994e-06, device='cuda:1', grad_fn=<DivBackward0>)\n",
      "classification loss :  tensor(1.7529e-06, device='cuda:1', grad_fn=<DivBackward0>)\n",
      "classification node loss :  tensor(1.9098e-05, device='cuda:1', grad_fn=<DivBackward0>)\n",
      "total loss :  tensor(2.3250e-05, device='cuda:1', grad_fn=<DivBackward0>)\n",
      "////////////////////////////////////\n",
      "***************************\n",
      "test : \n"
     ]
    },
    {
     "name": "stderr",
     "output_type": "stream",
     "text": [
      "Epoch 395: 100%|███████████████████████████| 243/243 [00:38<00:00,  6.30batch/s]\n"
     ]
    },
    {
     "name": "stdout",
     "output_type": "stream",
     "text": [
      "score: write test scores to /home/hassan-hossein/single_image_graph_face_anti_spoofing/train/Scores/epoch_395/score.txt\n",
      "epoch:395, test:  val_ACC=0.8987, HTER=0.1013, AUC=0.9556, val_err=0.1013, ACC=0.8987, TPR=0.6952\n"
     ]
    },
    {
     "name": "stderr",
     "output_type": "stream",
     "text": [
      "Epoch 396: 100%|█████████████████████████| 3448/3448 [09:00<00:00,  6.38batch/s]\n"
     ]
    },
    {
     "name": "stdout",
     "output_type": "stream",
     "text": [
      "/////////////////////////\n",
      "adverserial loss :  tensor(3.3582e-08, device='cuda:1', grad_fn=<DivBackward0>)\n",
      "classification loss :  tensor(2.9661e-07, device='cuda:1', grad_fn=<DivBackward0>)\n",
      "classification node loss :  tensor(2.1904e-05, device='cuda:1', grad_fn=<DivBackward0>)\n",
      "total loss :  tensor(2.2234e-05, device='cuda:1', grad_fn=<DivBackward0>)\n",
      "////////////////////////////////////\n",
      "***************************\n",
      "test : \n"
     ]
    },
    {
     "name": "stderr",
     "output_type": "stream",
     "text": [
      "Epoch 396: 100%|███████████████████████████| 243/243 [00:39<00:00,  6.16batch/s]\n"
     ]
    },
    {
     "name": "stdout",
     "output_type": "stream",
     "text": [
      "score: write test scores to /home/hassan-hossein/single_image_graph_face_anti_spoofing/train/Scores/epoch_396/score.txt\n",
      "epoch:396, test:  val_ACC=0.8923, HTER=0.1078, AUC=0.9542, val_err=0.1078, ACC=0.8923, TPR=0.7276\n"
     ]
    },
    {
     "name": "stderr",
     "output_type": "stream",
     "text": [
      "Epoch 397: 100%|█████████████████████████| 3448/3448 [08:59<00:00,  6.39batch/s]\n"
     ]
    },
    {
     "name": "stdout",
     "output_type": "stream",
     "text": [
      "/////////////////////////\n",
      "adverserial loss :  tensor(1.8852e-07, device='cuda:1', grad_fn=<DivBackward0>)\n",
      "classification loss :  tensor(1.2024e-08, device='cuda:1', grad_fn=<DivBackward0>)\n",
      "classification node loss :  tensor(2.2880e-05, device='cuda:1', grad_fn=<DivBackward0>)\n",
      "total loss :  tensor(2.3080e-05, device='cuda:1', grad_fn=<DivBackward0>)\n",
      "////////////////////////////////////\n",
      "***************************\n",
      "test : \n"
     ]
    },
    {
     "name": "stderr",
     "output_type": "stream",
     "text": [
      "Epoch 397: 100%|███████████████████████████| 243/243 [00:38<00:00,  6.34batch/s]\n"
     ]
    },
    {
     "name": "stdout",
     "output_type": "stream",
     "text": [
      "score: write test scores to /home/hassan-hossein/single_image_graph_face_anti_spoofing/train/Scores/epoch_397/score.txt\n",
      "epoch:397, test:  val_ACC=0.8925, HTER=0.1075, AUC=0.9491, val_err=0.1075, ACC=0.8925, TPR=0.6960\n"
     ]
    },
    {
     "name": "stderr",
     "output_type": "stream",
     "text": [
      "Epoch 398: 100%|█████████████████████████| 3448/3448 [08:58<00:00,  6.40batch/s]\n"
     ]
    },
    {
     "name": "stdout",
     "output_type": "stream",
     "text": [
      "/////////////////////////\n",
      "adverserial loss :  tensor(9.0603e-07, device='cuda:1', grad_fn=<DivBackward0>)\n",
      "classification loss :  tensor(5.8792e-08, device='cuda:1', grad_fn=<DivBackward0>)\n",
      "classification node loss :  tensor(1.7543e-05, device='cuda:1', grad_fn=<DivBackward0>)\n",
      "total loss :  tensor(1.8507e-05, device='cuda:1', grad_fn=<DivBackward0>)\n",
      "////////////////////////////////////\n",
      "***************************\n",
      "test : \n"
     ]
    },
    {
     "name": "stderr",
     "output_type": "stream",
     "text": [
      "Epoch 398: 100%|███████████████████████████| 243/243 [00:39<00:00,  6.21batch/s]\n"
     ]
    },
    {
     "name": "stdout",
     "output_type": "stream",
     "text": [
      "score: write test scores to /home/hassan-hossein/single_image_graph_face_anti_spoofing/train/Scores/epoch_398/score.txt\n",
      "epoch:398, test:  val_ACC=0.9149, HTER=0.0851, AUC=0.9595, val_err=0.0852, ACC=0.9149, TPR=0.8431\n"
     ]
    },
    {
     "name": "stderr",
     "output_type": "stream",
     "text": [
      "Epoch 399: 100%|█████████████████████████| 3448/3448 [09:00<00:00,  6.37batch/s]\n"
     ]
    },
    {
     "name": "stdout",
     "output_type": "stream",
     "text": [
      "/////////////////////////\n",
      "adverserial loss :  tensor(1.1491e-06, device='cuda:1', grad_fn=<DivBackward0>)\n",
      "classification loss :  tensor(2.2859e-06, device='cuda:1', grad_fn=<DivBackward0>)\n",
      "classification node loss :  tensor(1.7891e-05, device='cuda:1', grad_fn=<DivBackward0>)\n",
      "total loss :  tensor(2.1326e-05, device='cuda:1', grad_fn=<DivBackward0>)\n",
      "////////////////////////////////////\n",
      "***************************\n",
      "test : \n"
     ]
    },
    {
     "name": "stderr",
     "output_type": "stream",
     "text": [
      "Epoch 399: 100%|███████████████████████████| 243/243 [00:39<00:00,  6.13batch/s]\n"
     ]
    },
    {
     "name": "stdout",
     "output_type": "stream",
     "text": [
      "score: write test scores to /home/hassan-hossein/single_image_graph_face_anti_spoofing/train/Scores/epoch_399/score.txt\n",
      "epoch:399, test:  val_ACC=0.8959, HTER=0.1041, AUC=0.9479, val_err=0.1041, ACC=0.8959, TPR=0.6394\n"
     ]
    },
    {
     "name": "stderr",
     "output_type": "stream",
     "text": [
      "Epoch 400: 100%|█████████████████████████| 3448/3448 [08:59<00:00,  6.39batch/s]\n"
     ]
    },
    {
     "name": "stdout",
     "output_type": "stream",
     "text": [
      "/////////////////////////\n",
      "adverserial loss :  tensor(1.8521e-07, device='cuda:1', grad_fn=<DivBackward0>)\n",
      "classification loss :  tensor(7.3024e-08, device='cuda:1', grad_fn=<DivBackward0>)\n",
      "classification node loss :  tensor(2.0223e-05, device='cuda:1', grad_fn=<DivBackward0>)\n",
      "total loss :  tensor(2.0481e-05, device='cuda:1', grad_fn=<DivBackward0>)\n",
      "////////////////////////////////////\n",
      "***************************\n",
      "test : \n"
     ]
    },
    {
     "name": "stderr",
     "output_type": "stream",
     "text": [
      "Epoch 400: 100%|███████████████████████████| 243/243 [00:38<00:00,  6.27batch/s]\n"
     ]
    },
    {
     "name": "stdout",
     "output_type": "stream",
     "text": [
      "score: write test scores to /home/hassan-hossein/single_image_graph_face_anti_spoofing/train/Scores/epoch_400/score.txt\n",
      "epoch:400, test:  val_ACC=0.8846, HTER=0.1155, AUC=0.9317, val_err=0.1154, ACC=0.8846, TPR=0.7912\n"
     ]
    },
    {
     "name": "stderr",
     "output_type": "stream",
     "text": [
      "Epoch 401: 100%|█████████████████████████| 3448/3448 [08:59<00:00,  6.39batch/s]\n"
     ]
    },
    {
     "name": "stdout",
     "output_type": "stream",
     "text": [
      "/////////////////////////\n",
      "adverserial loss :  tensor(1.0630e-06, device='cuda:1', grad_fn=<DivBackward0>)\n",
      "classification loss :  tensor(1.1559e-07, device='cuda:1', grad_fn=<DivBackward0>)\n",
      "classification node loss :  tensor(2.2913e-05, device='cuda:1', grad_fn=<DivBackward0>)\n",
      "total loss :  tensor(2.4092e-05, device='cuda:1', grad_fn=<DivBackward0>)\n",
      "////////////////////////////////////\n",
      "***************************\n",
      "test : \n"
     ]
    },
    {
     "name": "stderr",
     "output_type": "stream",
     "text": [
      "Epoch 401: 100%|███████████████████████████| 243/243 [00:38<00:00,  6.25batch/s]\n"
     ]
    },
    {
     "name": "stdout",
     "output_type": "stream",
     "text": [
      "score: write test scores to /home/hassan-hossein/single_image_graph_face_anti_spoofing/train/Scores/epoch_401/score.txt\n",
      "epoch:401, test:  val_ACC=0.9057, HTER=0.0944, AUC=0.9335, val_err=0.0944, ACC=0.9057, TPR=0.8372\n"
     ]
    },
    {
     "name": "stderr",
     "output_type": "stream",
     "text": [
      "Epoch 402: 100%|█████████████████████████| 3448/3448 [09:01<00:00,  6.37batch/s]\n"
     ]
    },
    {
     "name": "stdout",
     "output_type": "stream",
     "text": [
      "/////////////////////////\n",
      "adverserial loss :  tensor(7.3769e-07, device='cuda:1', grad_fn=<DivBackward0>)\n",
      "classification loss :  tensor(2.2484e-06, device='cuda:1', grad_fn=<DivBackward0>)\n",
      "classification node loss :  tensor(2.1914e-05, device='cuda:1', grad_fn=<DivBackward0>)\n",
      "total loss :  tensor(2.4901e-05, device='cuda:1', grad_fn=<DivBackward0>)\n",
      "////////////////////////////////////\n",
      "***************************\n",
      "test : \n"
     ]
    },
    {
     "name": "stderr",
     "output_type": "stream",
     "text": [
      "Epoch 402: 100%|███████████████████████████| 243/243 [00:39<00:00,  6.18batch/s]\n"
     ]
    },
    {
     "name": "stdout",
     "output_type": "stream",
     "text": [
      "score: write test scores to /home/hassan-hossein/single_image_graph_face_anti_spoofing/train/Scores/epoch_402/score.txt\n",
      "epoch:402, test:  val_ACC=0.9004, HTER=0.0995, AUC=0.9410, val_err=0.0996, ACC=0.9004, TPR=0.6785\n"
     ]
    },
    {
     "name": "stderr",
     "output_type": "stream",
     "text": [
      "Epoch 403: 100%|█████████████████████████| 3448/3448 [09:00<00:00,  6.38batch/s]\n"
     ]
    },
    {
     "name": "stdout",
     "output_type": "stream",
     "text": [
      "/////////////////////////\n",
      "adverserial loss :  tensor(2.6403e-08, device='cuda:1', grad_fn=<DivBackward0>)\n",
      "classification loss :  tensor(2.8314e-07, device='cuda:1', grad_fn=<DivBackward0>)\n",
      "classification node loss :  tensor(2.0322e-05, device='cuda:1', grad_fn=<DivBackward0>)\n",
      "total loss :  tensor(2.0632e-05, device='cuda:1', grad_fn=<DivBackward0>)\n",
      "////////////////////////////////////\n",
      "***************************\n",
      "test : \n"
     ]
    },
    {
     "name": "stderr",
     "output_type": "stream",
     "text": [
      "Epoch 403: 100%|███████████████████████████| 243/243 [00:38<00:00,  6.32batch/s]\n"
     ]
    },
    {
     "name": "stdout",
     "output_type": "stream",
     "text": [
      "score: write test scores to /home/hassan-hossein/single_image_graph_face_anti_spoofing/train/Scores/epoch_403/score.txt\n",
      "epoch:403, test:  val_ACC=0.8875, HTER=0.1125, AUC=0.9375, val_err=0.1125, ACC=0.8875, TPR=0.7945\n"
     ]
    },
    {
     "name": "stderr",
     "output_type": "stream",
     "text": [
      "Epoch 404: 100%|█████████████████████████| 3448/3448 [09:00<00:00,  6.38batch/s]\n"
     ]
    },
    {
     "name": "stdout",
     "output_type": "stream",
     "text": [
      "/////////////////////////\n",
      "adverserial loss :  tensor(6.1479e-07, device='cuda:1', grad_fn=<DivBackward0>)\n",
      "classification loss :  tensor(3.5145e-08, device='cuda:1', grad_fn=<DivBackward0>)\n",
      "classification node loss :  tensor(2.3853e-05, device='cuda:1', grad_fn=<DivBackward0>)\n",
      "total loss :  tensor(2.4503e-05, device='cuda:1', grad_fn=<DivBackward0>)\n",
      "////////////////////////////////////\n",
      "***************************\n",
      "test : \n"
     ]
    },
    {
     "name": "stderr",
     "output_type": "stream",
     "text": [
      "Epoch 404: 100%|███████████████████████████| 243/243 [00:38<00:00,  6.24batch/s]\n"
     ]
    },
    {
     "name": "stdout",
     "output_type": "stream",
     "text": [
      "score: write test scores to /home/hassan-hossein/single_image_graph_face_anti_spoofing/train/Scores/epoch_404/score.txt\n",
      "epoch:404, test:  val_ACC=0.8932, HTER=0.1068, AUC=0.9401, val_err=0.1069, ACC=0.8932, TPR=0.6626\n"
     ]
    },
    {
     "name": "stderr",
     "output_type": "stream",
     "text": [
      "Epoch 405: 100%|█████████████████████████| 3448/3448 [09:00<00:00,  6.38batch/s]\n"
     ]
    },
    {
     "name": "stdout",
     "output_type": "stream",
     "text": [
      "/////////////////////////\n",
      "adverserial loss :  tensor(5.2599e-11, device='cuda:1', grad_fn=<DivBackward0>)\n",
      "classification loss :  tensor(1.7917e-06, device='cuda:1', grad_fn=<DivBackward0>)\n",
      "classification node loss :  tensor(2.0078e-05, device='cuda:1', grad_fn=<DivBackward0>)\n",
      "total loss :  tensor(2.1869e-05, device='cuda:1', grad_fn=<DivBackward0>)\n",
      "////////////////////////////////////\n",
      "***************************\n",
      "test : \n"
     ]
    },
    {
     "name": "stderr",
     "output_type": "stream",
     "text": [
      "Epoch 405: 100%|███████████████████████████| 243/243 [00:39<00:00,  6.20batch/s]\n"
     ]
    },
    {
     "name": "stdout",
     "output_type": "stream",
     "text": [
      "score: write test scores to /home/hassan-hossein/single_image_graph_face_anti_spoofing/train/Scores/epoch_405/score.txt\n",
      "epoch:405, test:  val_ACC=0.8741, HTER=0.1258, AUC=0.9265, val_err=0.1259, ACC=0.8741, TPR=0.4599\n"
     ]
    },
    {
     "name": "stderr",
     "output_type": "stream",
     "text": [
      "Epoch 406: 100%|█████████████████████████| 3448/3448 [08:59<00:00,  6.39batch/s]\n"
     ]
    },
    {
     "name": "stdout",
     "output_type": "stream",
     "text": [
      "/////////////////////////\n",
      "adverserial loss :  tensor(1.5160e-08, device='cuda:1', grad_fn=<DivBackward0>)\n",
      "classification loss :  tensor(2.1955e-06, device='cuda:1', grad_fn=<DivBackward0>)\n",
      "classification node loss :  tensor(1.4766e-05, device='cuda:1', grad_fn=<DivBackward0>)\n",
      "total loss :  tensor(1.6976e-05, device='cuda:1', grad_fn=<DivBackward0>)\n",
      "////////////////////////////////////\n",
      "***************************\n",
      "test : \n"
     ]
    },
    {
     "name": "stderr",
     "output_type": "stream",
     "text": [
      "Epoch 406: 100%|███████████████████████████| 243/243 [00:39<00:00,  6.21batch/s]\n"
     ]
    },
    {
     "name": "stdout",
     "output_type": "stream",
     "text": [
      "score: write test scores to /home/hassan-hossein/single_image_graph_face_anti_spoofing/train/Scores/epoch_406/score.txt\n",
      "epoch:406, test:  val_ACC=0.8722, HTER=0.1278, AUC=0.9338, val_err=0.1278, ACC=0.8722, TPR=0.5646\n"
     ]
    },
    {
     "name": "stderr",
     "output_type": "stream",
     "text": [
      "Epoch 407: 100%|█████████████████████████| 3448/3448 [09:00<00:00,  6.37batch/s]\n"
     ]
    },
    {
     "name": "stdout",
     "output_type": "stream",
     "text": [
      "/////////////////////////\n",
      "adverserial loss :  tensor(1.0834e-06, device='cuda:1', grad_fn=<DivBackward0>)\n",
      "classification loss :  tensor(1.9382e-06, device='cuda:1', grad_fn=<DivBackward0>)\n",
      "classification node loss :  tensor(1.9329e-05, device='cuda:1', grad_fn=<DivBackward0>)\n",
      "total loss :  tensor(2.2351e-05, device='cuda:1', grad_fn=<DivBackward0>)\n",
      "////////////////////////////////////\n",
      "***************************\n",
      "test : \n"
     ]
    },
    {
     "name": "stderr",
     "output_type": "stream",
     "text": [
      "Epoch 407: 100%|███████████████████████████| 243/243 [00:39<00:00,  6.16batch/s]\n"
     ]
    },
    {
     "name": "stdout",
     "output_type": "stream",
     "text": [
      "score: write test scores to /home/hassan-hossein/single_image_graph_face_anti_spoofing/train/Scores/epoch_407/score.txt\n",
      "epoch:407, test:  val_ACC=0.8591, HTER=0.1410, AUC=0.9050, val_err=0.1410, ACC=0.8591, TPR=0.5658\n"
     ]
    },
    {
     "name": "stderr",
     "output_type": "stream",
     "text": [
      "Epoch 408: 100%|█████████████████████████| 3448/3448 [09:02<00:00,  6.35batch/s]\n"
     ]
    },
    {
     "name": "stdout",
     "output_type": "stream",
     "text": [
      "/////////////////////////\n",
      "adverserial loss :  tensor(2.7525e-07, device='cuda:1', grad_fn=<DivBackward0>)\n",
      "classification loss :  tensor(1.8729e-06, device='cuda:1', grad_fn=<DivBackward0>)\n",
      "classification node loss :  tensor(2.0022e-05, device='cuda:1', grad_fn=<DivBackward0>)\n",
      "total loss :  tensor(2.2171e-05, device='cuda:1', grad_fn=<DivBackward0>)\n",
      "////////////////////////////////////\n",
      "***************************\n",
      "test : \n"
     ]
    },
    {
     "name": "stderr",
     "output_type": "stream",
     "text": [
      "Epoch 408: 100%|███████████████████████████| 243/243 [00:41<00:00,  5.80batch/s]\n"
     ]
    },
    {
     "name": "stdout",
     "output_type": "stream",
     "text": [
      "score: write test scores to /home/hassan-hossein/single_image_graph_face_anti_spoofing/train/Scores/epoch_408/score.txt\n",
      "epoch:408, test:  val_ACC=0.8727, HTER=0.1273, AUC=0.9259, val_err=0.1273, ACC=0.8727, TPR=0.5370\n"
     ]
    },
    {
     "name": "stderr",
     "output_type": "stream",
     "text": [
      "Epoch 409: 100%|█████████████████████████| 3448/3448 [08:59<00:00,  6.39batch/s]\n"
     ]
    },
    {
     "name": "stdout",
     "output_type": "stream",
     "text": [
      "/////////////////////////\n",
      "adverserial loss :  tensor(2.0737e-07, device='cuda:1', grad_fn=<DivBackward0>)\n",
      "classification loss :  tensor(5.1198e-07, device='cuda:1', grad_fn=<DivBackward0>)\n",
      "classification node loss :  tensor(2.0330e-05, device='cuda:1', grad_fn=<DivBackward0>)\n",
      "total loss :  tensor(2.1050e-05, device='cuda:1', grad_fn=<DivBackward0>)\n",
      "////////////////////////////////////\n",
      "***************************\n",
      "test : \n"
     ]
    },
    {
     "name": "stderr",
     "output_type": "stream",
     "text": [
      "Epoch 409: 100%|███████████████████████████| 243/243 [00:40<00:00,  6.07batch/s]\n"
     ]
    },
    {
     "name": "stdout",
     "output_type": "stream",
     "text": [
      "score: write test scores to /home/hassan-hossein/single_image_graph_face_anti_spoofing/train/Scores/epoch_409/score.txt\n",
      "epoch:409, test:  val_ACC=0.8767, HTER=0.1233, AUC=0.9406, val_err=0.1233, ACC=0.8767, TPR=0.8138\n"
     ]
    },
    {
     "name": "stderr",
     "output_type": "stream",
     "text": [
      "Epoch 410: 100%|█████████████████████████| 3448/3448 [09:01<00:00,  6.37batch/s]\n"
     ]
    },
    {
     "name": "stdout",
     "output_type": "stream",
     "text": [
      "/////////////////////////\n",
      "adverserial loss :  tensor(4.3507e-10, device='cuda:1', grad_fn=<DivBackward0>)\n",
      "classification loss :  tensor(2.7295e-08, device='cuda:1', grad_fn=<DivBackward0>)\n",
      "classification node loss :  tensor(2.0667e-05, device='cuda:1', grad_fn=<DivBackward0>)\n",
      "total loss :  tensor(2.0695e-05, device='cuda:1', grad_fn=<DivBackward0>)\n",
      "////////////////////////////////////\n",
      "***************************\n",
      "test : \n"
     ]
    },
    {
     "name": "stderr",
     "output_type": "stream",
     "text": [
      "Epoch 410: 100%|███████████████████████████| 243/243 [00:39<00:00,  6.23batch/s]\n"
     ]
    },
    {
     "name": "stdout",
     "output_type": "stream",
     "text": [
      "score: write test scores to /home/hassan-hossein/single_image_graph_face_anti_spoofing/train/Scores/epoch_410/score.txt\n",
      "epoch:410, test:  val_ACC=0.8825, HTER=0.1176, AUC=0.9299, val_err=0.1176, ACC=0.8825, TPR=0.8135\n"
     ]
    },
    {
     "name": "stderr",
     "output_type": "stream",
     "text": [
      "Epoch 411: 100%|█████████████████████████| 3448/3448 [09:01<00:00,  6.36batch/s]\n"
     ]
    },
    {
     "name": "stdout",
     "output_type": "stream",
     "text": [
      "/////////////////////////\n",
      "adverserial loss :  tensor(2.9731e-07, device='cuda:1', grad_fn=<DivBackward0>)\n",
      "classification loss :  tensor(6.0697e-09, device='cuda:1', grad_fn=<DivBackward0>)\n",
      "classification node loss :  tensor(2.1045e-05, device='cuda:1', grad_fn=<DivBackward0>)\n",
      "total loss :  tensor(2.1349e-05, device='cuda:1', grad_fn=<DivBackward0>)\n",
      "////////////////////////////////////\n",
      "***************************\n",
      "test : \n"
     ]
    },
    {
     "name": "stderr",
     "output_type": "stream",
     "text": [
      "Epoch 411: 100%|███████████████████████████| 243/243 [00:38<00:00,  6.37batch/s]\n"
     ]
    },
    {
     "name": "stdout",
     "output_type": "stream",
     "text": [
      "score: write test scores to /home/hassan-hossein/single_image_graph_face_anti_spoofing/train/Scores/epoch_411/score.txt\n",
      "epoch:411, test:  val_ACC=0.8761, HTER=0.1239, AUC=0.9266, val_err=0.1239, ACC=0.8761, TPR=0.7739\n"
     ]
    },
    {
     "name": "stderr",
     "output_type": "stream",
     "text": [
      "Epoch 412: 100%|█████████████████████████| 3448/3448 [09:01<00:00,  6.37batch/s]\n"
     ]
    },
    {
     "name": "stdout",
     "output_type": "stream",
     "text": [
      "/////////////////////////\n",
      "adverserial loss :  tensor(4.0016e-08, device='cuda:1', grad_fn=<DivBackward0>)\n",
      "classification loss :  tensor(2.5875e-06, device='cuda:1', grad_fn=<DivBackward0>)\n",
      "classification node loss :  tensor(2.1975e-05, device='cuda:1', grad_fn=<DivBackward0>)\n",
      "total loss :  tensor(2.4603e-05, device='cuda:1', grad_fn=<DivBackward0>)\n",
      "////////////////////////////////////\n",
      "***************************\n",
      "test : \n"
     ]
    },
    {
     "name": "stderr",
     "output_type": "stream",
     "text": [
      "Epoch 412: 100%|███████████████████████████| 243/243 [00:38<00:00,  6.26batch/s]\n"
     ]
    },
    {
     "name": "stdout",
     "output_type": "stream",
     "text": [
      "score: write test scores to /home/hassan-hossein/single_image_graph_face_anti_spoofing/train/Scores/epoch_412/score.txt\n",
      "epoch:412, test:  val_ACC=0.8888, HTER=0.1112, AUC=0.9303, val_err=0.1112, ACC=0.8888, TPR=0.6860\n"
     ]
    },
    {
     "name": "stderr",
     "output_type": "stream",
     "text": [
      "Epoch 413: 100%|█████████████████████████| 3448/3448 [09:00<00:00,  6.38batch/s]\n"
     ]
    },
    {
     "name": "stdout",
     "output_type": "stream",
     "text": [
      "/////////////////////////\n",
      "adverserial loss :  tensor(1.1294e-06, device='cuda:1', grad_fn=<DivBackward0>)\n",
      "classification loss :  tensor(1.3390e-08, device='cuda:1', grad_fn=<DivBackward0>)\n",
      "classification node loss :  tensor(2.3750e-05, device='cuda:1', grad_fn=<DivBackward0>)\n",
      "total loss :  tensor(2.4892e-05, device='cuda:1', grad_fn=<DivBackward0>)\n",
      "////////////////////////////////////\n",
      "***************************\n",
      "test : \n"
     ]
    },
    {
     "name": "stderr",
     "output_type": "stream",
     "text": [
      "Epoch 413: 100%|███████████████████████████| 243/243 [00:38<00:00,  6.27batch/s]\n"
     ]
    },
    {
     "name": "stdout",
     "output_type": "stream",
     "text": [
      "score: write test scores to /home/hassan-hossein/single_image_graph_face_anti_spoofing/train/Scores/epoch_413/score.txt\n",
      "epoch:413, test:  val_ACC=0.8821, HTER=0.1180, AUC=0.9311, val_err=0.1180, ACC=0.8821, TPR=0.6289\n"
     ]
    },
    {
     "name": "stderr",
     "output_type": "stream",
     "text": [
      "Epoch 414: 100%|█████████████████████████| 3448/3448 [09:01<00:00,  6.37batch/s]\n"
     ]
    },
    {
     "name": "stdout",
     "output_type": "stream",
     "text": [
      "/////////////////////////\n",
      "adverserial loss :  tensor(4.5280e-09, device='cuda:1', grad_fn=<DivBackward0>)\n",
      "classification loss :  tensor(2.1694e-06, device='cuda:1', grad_fn=<DivBackward0>)\n",
      "classification node loss :  tensor(1.7422e-05, device='cuda:1', grad_fn=<DivBackward0>)\n",
      "total loss :  tensor(1.9596e-05, device='cuda:1', grad_fn=<DivBackward0>)\n",
      "////////////////////////////////////\n",
      "***************************\n",
      "test : \n"
     ]
    },
    {
     "name": "stderr",
     "output_type": "stream",
     "text": [
      "Epoch 414: 100%|███████████████████████████| 243/243 [00:38<00:00,  6.26batch/s]\n"
     ]
    },
    {
     "name": "stdout",
     "output_type": "stream",
     "text": [
      "score: write test scores to /home/hassan-hossein/single_image_graph_face_anti_spoofing/train/Scores/epoch_414/score.txt\n",
      "epoch:414, test:  val_ACC=0.9085, HTER=0.0916, AUC=0.9484, val_err=0.0916, ACC=0.9085, TPR=0.7338\n"
     ]
    },
    {
     "name": "stderr",
     "output_type": "stream",
     "text": [
      "Epoch 415: 100%|█████████████████████████| 3448/3448 [08:59<00:00,  6.40batch/s]\n"
     ]
    },
    {
     "name": "stdout",
     "output_type": "stream",
     "text": [
      "/////////////////////////\n",
      "adverserial loss :  tensor(4.5083e-09, device='cuda:1', grad_fn=<DivBackward0>)\n",
      "classification loss :  tensor(5.8203e-07, device='cuda:1', grad_fn=<DivBackward0>)\n",
      "classification node loss :  tensor(2.6138e-05, device='cuda:1', grad_fn=<DivBackward0>)\n",
      "total loss :  tensor(2.6724e-05, device='cuda:1', grad_fn=<DivBackward0>)\n",
      "////////////////////////////////////\n",
      "***************************\n",
      "test : \n"
     ]
    },
    {
     "name": "stderr",
     "output_type": "stream",
     "text": [
      "Epoch 415: 100%|███████████████████████████| 243/243 [00:39<00:00,  6.23batch/s]\n"
     ]
    },
    {
     "name": "stdout",
     "output_type": "stream",
     "text": [
      "score: write test scores to /home/hassan-hossein/single_image_graph_face_anti_spoofing/train/Scores/epoch_415/score.txt\n",
      "epoch:415, test:  val_ACC=0.8900, HTER=0.1101, AUC=0.9344, val_err=0.1100, ACC=0.8900, TPR=0.5877\n"
     ]
    },
    {
     "name": "stderr",
     "output_type": "stream",
     "text": [
      "Epoch 416: 100%|█████████████████████████| 3448/3448 [08:59<00:00,  6.39batch/s]\n"
     ]
    },
    {
     "name": "stdout",
     "output_type": "stream",
     "text": [
      "/////////////////////////\n",
      "adverserial loss :  tensor(9.7158e-07, device='cuda:1', grad_fn=<DivBackward0>)\n",
      "classification loss :  tensor(8.1894e-08, device='cuda:1', grad_fn=<DivBackward0>)\n",
      "classification node loss :  tensor(2.1057e-05, device='cuda:1', grad_fn=<DivBackward0>)\n",
      "total loss :  tensor(2.2110e-05, device='cuda:1', grad_fn=<DivBackward0>)\n",
      "////////////////////////////////////\n",
      "***************************\n",
      "test : \n"
     ]
    },
    {
     "name": "stderr",
     "output_type": "stream",
     "text": [
      "Epoch 416: 100%|███████████████████████████| 243/243 [00:38<00:00,  6.26batch/s]\n"
     ]
    },
    {
     "name": "stdout",
     "output_type": "stream",
     "text": [
      "score: write test scores to /home/hassan-hossein/single_image_graph_face_anti_spoofing/train/Scores/epoch_416/score.txt\n",
      "epoch:416, test:  val_ACC=0.8930, HTER=0.1070, AUC=0.9400, val_err=0.1070, ACC=0.8930, TPR=0.6973\n"
     ]
    },
    {
     "name": "stderr",
     "output_type": "stream",
     "text": [
      "Epoch 417: 100%|█████████████████████████| 3448/3448 [08:59<00:00,  6.39batch/s]\n"
     ]
    },
    {
     "name": "stdout",
     "output_type": "stream",
     "text": [
      "/////////////////////////\n",
      "adverserial loss :  tensor(2.3571e-09, device='cuda:1', grad_fn=<DivBackward0>)\n",
      "classification loss :  tensor(9.1295e-09, device='cuda:1', grad_fn=<DivBackward0>)\n",
      "classification node loss :  tensor(1.8688e-05, device='cuda:1', grad_fn=<DivBackward0>)\n",
      "total loss :  tensor(1.8699e-05, device='cuda:1', grad_fn=<DivBackward0>)\n",
      "////////////////////////////////////\n",
      "***************************\n",
      "test : \n"
     ]
    },
    {
     "name": "stderr",
     "output_type": "stream",
     "text": [
      "Epoch 417: 100%|███████████████████████████| 243/243 [00:39<00:00,  6.22batch/s]\n"
     ]
    },
    {
     "name": "stdout",
     "output_type": "stream",
     "text": [
      "score: write test scores to /home/hassan-hossein/single_image_graph_face_anti_spoofing/train/Scores/epoch_417/score.txt\n",
      "epoch:417, test:  val_ACC=0.8879, HTER=0.1122, AUC=0.9344, val_err=0.1122, ACC=0.8879, TPR=0.8025\n"
     ]
    },
    {
     "name": "stderr",
     "output_type": "stream",
     "text": [
      "Epoch 418: 100%|█████████████████████████| 3448/3448 [09:02<00:00,  6.35batch/s]\n"
     ]
    },
    {
     "name": "stdout",
     "output_type": "stream",
     "text": [
      "/////////////////////////\n",
      "adverserial loss :  tensor(1.9615e-08, device='cuda:1', grad_fn=<DivBackward0>)\n",
      "classification loss :  tensor(3.9901e-09, device='cuda:1', grad_fn=<DivBackward0>)\n",
      "classification node loss :  tensor(1.7334e-05, device='cuda:1', grad_fn=<DivBackward0>)\n",
      "total loss :  tensor(1.7358e-05, device='cuda:1', grad_fn=<DivBackward0>)\n",
      "////////////////////////////////////\n",
      "***************************\n",
      "test : \n"
     ]
    },
    {
     "name": "stderr",
     "output_type": "stream",
     "text": [
      "Epoch 418:  17%|████▊                       | 42/243 [00:10<00:49,  4.07batch/s]\n"
     ]
    },
    {
     "ename": "KeyboardInterrupt",
     "evalue": "",
     "output_type": "error",
     "traceback": [
      "\u001b[0;31m---------------------------------------------------------------------------\u001b[0m",
      "\u001b[0;31mKeyboardInterrupt\u001b[0m                         Traceback (most recent call last)",
      "Input \u001b[0;32mIn [3]\u001b[0m, in \u001b[0;36m<module>\u001b[0;34m\u001b[0m\n\u001b[1;32m      5\u001b[0m \u001b[38;5;66;03m#print(\"train : \")\u001b[39;00m\n\u001b[1;32m      6\u001b[0m \u001b[38;5;66;03m#train_auc = test(train_loader,epoch)\u001b[39;00m\n\u001b[1;32m      7\u001b[0m \u001b[38;5;28mprint\u001b[39m(\u001b[38;5;124m\"\u001b[39m\u001b[38;5;124mtest : \u001b[39m\u001b[38;5;124m\"\u001b[39m)\n\u001b[0;32m----> 8\u001b[0m test_auc \u001b[38;5;241m=\u001b[39m \u001b[43mtest\u001b[49m\u001b[43m(\u001b[49m\u001b[43mtest_loader\u001b[49m\u001b[43m,\u001b[49m\u001b[43mepoch\u001b[49m\u001b[43m)\u001b[49m\n\u001b[1;32m      9\u001b[0m \u001b[38;5;28;01mif\u001b[39;00m test_auc \u001b[38;5;241m>\u001b[39m best_auc:\n\u001b[1;32m     10\u001b[0m     \u001b[38;5;28mprint\u001b[39m(\u001b[38;5;124m\"\u001b[39m\u001b[38;5;124mimprove acc .. .. ..\u001b[39m\u001b[38;5;124m\"\u001b[39m)\n",
      "Input \u001b[0;32mIn [2]\u001b[0m, in \u001b[0;36mtest\u001b[0;34m(loader, epoch)\u001b[0m\n\u001b[1;32m    299\u001b[0m \u001b[38;5;28;01melse\u001b[39;00m :\n\u001b[1;32m    301\u001b[0m     index_arr \u001b[38;5;241m=\u001b[39m torch\u001b[38;5;241m.\u001b[39mrandint(\u001b[38;5;241m0\u001b[39m, \u001b[38;5;241m29952\u001b[39m, (\u001b[38;5;241m64\u001b[39m,))\u001b[38;5;241m.\u001b[39mto(device)\n\u001b[0;32m--> 303\u001b[0m graph \u001b[38;5;241m=\u001b[39m \u001b[43mgraph\u001b[49m\u001b[38;5;241;43m.\u001b[39;49m\u001b[43mto\u001b[49m\u001b[43m(\u001b[49m\u001b[43mdevice\u001b[49m\u001b[43m)\u001b[49m  \u001b[38;5;66;03m# Move data to the device\u001b[39;00m\n\u001b[1;32m    304\u001b[0m logit,_ ,_\u001b[38;5;241m=\u001b[39m model(graph\u001b[38;5;241m.\u001b[39mx, graph\u001b[38;5;241m.\u001b[39medge_index, graph\u001b[38;5;241m.\u001b[39mbatch,\u001b[38;5;28;01mFalse\u001b[39;00m,index_arr)\n\u001b[1;32m    305\u001b[0m live_label \u001b[38;5;241m=\u001b[39m graph\u001b[38;5;241m.\u001b[39my\u001b[38;5;241m.\u001b[39mfloat()\n",
      "File \u001b[0;32m~/anaconda3/envs/Wav2Lip/lib/python3.8/site-packages/torch_geometric/data/data.py:262\u001b[0m, in \u001b[0;36mBaseData.to\u001b[0;34m(self, device, non_blocking, *args)\u001b[0m\n\u001b[1;32m    258\u001b[0m \u001b[38;5;28;01mdef\u001b[39;00m \u001b[38;5;21mto\u001b[39m(\u001b[38;5;28mself\u001b[39m, device: Union[\u001b[38;5;28mint\u001b[39m, \u001b[38;5;28mstr\u001b[39m], \u001b[38;5;241m*\u001b[39margs: List[\u001b[38;5;28mstr\u001b[39m],\n\u001b[1;32m    259\u001b[0m        non_blocking: \u001b[38;5;28mbool\u001b[39m \u001b[38;5;241m=\u001b[39m \u001b[38;5;28;01mFalse\u001b[39;00m):\n\u001b[1;32m    260\u001b[0m     \u001b[38;5;124mr\u001b[39m\u001b[38;5;124;03m\"\"\"Performs tensor device conversion, either for all attributes or\u001b[39;00m\n\u001b[1;32m    261\u001b[0m \u001b[38;5;124;03m    only the ones given in :obj:`*args`.\"\"\"\u001b[39;00m\n\u001b[0;32m--> 262\u001b[0m     \u001b[38;5;28;01mreturn\u001b[39;00m \u001b[38;5;28;43mself\u001b[39;49m\u001b[38;5;241;43m.\u001b[39;49m\u001b[43mapply\u001b[49m\u001b[43m(\u001b[49m\n\u001b[1;32m    263\u001b[0m \u001b[43m        \u001b[49m\u001b[38;5;28;43;01mlambda\u001b[39;49;00m\u001b[43m \u001b[49m\u001b[43mx\u001b[49m\u001b[43m:\u001b[49m\u001b[43m \u001b[49m\u001b[43mx\u001b[49m\u001b[38;5;241;43m.\u001b[39;49m\u001b[43mto\u001b[49m\u001b[43m(\u001b[49m\u001b[43mdevice\u001b[49m\u001b[38;5;241;43m=\u001b[39;49m\u001b[43mdevice\u001b[49m\u001b[43m,\u001b[49m\u001b[43m \u001b[49m\u001b[43mnon_blocking\u001b[49m\u001b[38;5;241;43m=\u001b[39;49m\u001b[43mnon_blocking\u001b[49m\u001b[43m)\u001b[49m\u001b[43m,\u001b[49m\u001b[43m \u001b[49m\u001b[38;5;241;43m*\u001b[39;49m\u001b[43margs\u001b[49m\u001b[43m)\u001b[49m\n",
      "File \u001b[0;32m~/anaconda3/envs/Wav2Lip/lib/python3.8/site-packages/torch_geometric/data/data.py:245\u001b[0m, in \u001b[0;36mBaseData.apply\u001b[0;34m(self, func, *args)\u001b[0m\n\u001b[1;32m    242\u001b[0m \u001b[38;5;124mr\u001b[39m\u001b[38;5;124;03m\"\"\"Applies the function :obj:`func`, either to all attributes or only\u001b[39;00m\n\u001b[1;32m    243\u001b[0m \u001b[38;5;124;03mthe ones given in :obj:`*args`.\"\"\"\u001b[39;00m\n\u001b[1;32m    244\u001b[0m \u001b[38;5;28;01mfor\u001b[39;00m store \u001b[38;5;129;01min\u001b[39;00m \u001b[38;5;28mself\u001b[39m\u001b[38;5;241m.\u001b[39mstores:\n\u001b[0;32m--> 245\u001b[0m     \u001b[43mstore\u001b[49m\u001b[38;5;241;43m.\u001b[39;49m\u001b[43mapply\u001b[49m\u001b[43m(\u001b[49m\u001b[43mfunc\u001b[49m\u001b[43m,\u001b[49m\u001b[43m \u001b[49m\u001b[38;5;241;43m*\u001b[39;49m\u001b[43margs\u001b[49m\u001b[43m)\u001b[49m\n\u001b[1;32m    246\u001b[0m \u001b[38;5;28;01mreturn\u001b[39;00m \u001b[38;5;28mself\u001b[39m\n",
      "File \u001b[0;32m~/anaconda3/envs/Wav2Lip/lib/python3.8/site-packages/torch_geometric/data/storage.py:184\u001b[0m, in \u001b[0;36mBaseStorage.apply\u001b[0;34m(self, func, *args)\u001b[0m\n\u001b[1;32m    181\u001b[0m \u001b[38;5;124mr\u001b[39m\u001b[38;5;124;03m\"\"\"Applies the function :obj:`func`, either to all attributes or only\u001b[39;00m\n\u001b[1;32m    182\u001b[0m \u001b[38;5;124;03mthe ones given in :obj:`*args`.\"\"\"\u001b[39;00m\n\u001b[1;32m    183\u001b[0m \u001b[38;5;28;01mfor\u001b[39;00m key, value \u001b[38;5;129;01min\u001b[39;00m \u001b[38;5;28mself\u001b[39m\u001b[38;5;241m.\u001b[39mitems(\u001b[38;5;241m*\u001b[39margs):\n\u001b[0;32m--> 184\u001b[0m     \u001b[38;5;28mself\u001b[39m[key] \u001b[38;5;241m=\u001b[39m \u001b[43mrecursive_apply\u001b[49m(value, func)\n\u001b[1;32m    185\u001b[0m \u001b[38;5;28;01mreturn\u001b[39;00m \u001b[38;5;28mself\u001b[39m\n",
      "\u001b[0;31mKeyboardInterrupt\u001b[0m: "
     ]
    }
   ],
   "source": [
    "best_auc = 0\n",
    "for epoch in range(0, 1000):\n",
    "    train(epoch)\n",
    "    print(\"***************************\")\n",
    "    #print(\"train : \")\n",
    "    #train_auc = test(train_loader,epoch)\n",
    "    print(\"test : \")\n",
    "    test_auc = test(test_loader,epoch)\n",
    "    if test_auc > best_auc:\n",
    "        print(\"improve acc .. .. ..\")\n",
    "        torch.save(model.state_dict(), 'Focal_without_pipline_domain_generalization_tuning_M.pth')\n",
    "        best_auc = test_auc\n",
    "        continue  "
   ]
  },
  {
   "cell_type": "code",
   "execution_count": 2,
   "id": "3423b00c",
   "metadata": {},
   "outputs": [
    {
     "name": "stdout",
     "output_type": "stream",
     "text": [
      "GCN(\n",
      "  (conv1): ChebConv(640, 128, K=2, normalization=sym)\n",
      "  (conv2): ChebConv(128, 128, K=2, normalization=sym)\n",
      "  (conv3): ChebConv(128, 128, K=2, normalization=sym)\n",
      "  (conv4): ChebConv(128, 128, K=2, normalization=sym)\n",
      "  (conv5): ChebConv(256, 128, K=2, normalization=sym)\n",
      "  (conv6): ChebConv(128, 128, K=2, normalization=sym)\n",
      "  (conv7): ChebConv(128, 128, K=2, normalization=sym)\n",
      "  (conv8): ChebConv(128, 128, K=2, normalization=sym)\n",
      "  (lin): SimpleTransformer(\n",
      "    (linear): Linear(in_features=4, out_features=8, bias=True)\n",
      "    (encoder_layer): TransformerEncoderLayer(\n",
      "      (self_attn): MultiheadAttention(\n",
      "        (out_proj): NonDynamicallyQuantizableLinear(in_features=8, out_features=8, bias=True)\n",
      "      )\n",
      "      (linear1): Linear(in_features=8, out_features=2048, bias=True)\n",
      "      (dropout): Dropout(p=0.1, inplace=False)\n",
      "      (linear2): Linear(in_features=2048, out_features=8, bias=True)\n",
      "      (norm1): LayerNorm((8,), eps=1e-05, elementwise_affine=True)\n",
      "      (norm2): LayerNorm((8,), eps=1e-05, elementwise_affine=True)\n",
      "      (dropout1): Dropout(p=0.1, inplace=False)\n",
      "      (dropout2): Dropout(p=0.1, inplace=False)\n",
      "    )\n",
      "    (transformer_encoder): TransformerEncoder(\n",
      "      (layers): ModuleList(\n",
      "        (0): TransformerEncoderLayer(\n",
      "          (self_attn): MultiheadAttention(\n",
      "            (out_proj): NonDynamicallyQuantizableLinear(in_features=8, out_features=8, bias=True)\n",
      "          )\n",
      "          (linear1): Linear(in_features=8, out_features=2048, bias=True)\n",
      "          (dropout): Dropout(p=0.1, inplace=False)\n",
      "          (linear2): Linear(in_features=2048, out_features=8, bias=True)\n",
      "          (norm1): LayerNorm((8,), eps=1e-05, elementwise_affine=True)\n",
      "          (norm2): LayerNorm((8,), eps=1e-05, elementwise_affine=True)\n",
      "          (dropout1): Dropout(p=0.1, inplace=False)\n",
      "          (dropout2): Dropout(p=0.1, inplace=False)\n",
      "        )\n",
      "        (1): TransformerEncoderLayer(\n",
      "          (self_attn): MultiheadAttention(\n",
      "            (out_proj): NonDynamicallyQuantizableLinear(in_features=8, out_features=8, bias=True)\n",
      "          )\n",
      "          (linear1): Linear(in_features=8, out_features=2048, bias=True)\n",
      "          (dropout): Dropout(p=0.1, inplace=False)\n",
      "          (linear2): Linear(in_features=2048, out_features=8, bias=True)\n",
      "          (norm1): LayerNorm((8,), eps=1e-05, elementwise_affine=True)\n",
      "          (norm2): LayerNorm((8,), eps=1e-05, elementwise_affine=True)\n",
      "          (dropout1): Dropout(p=0.1, inplace=False)\n",
      "          (dropout2): Dropout(p=0.1, inplace=False)\n",
      "        )\n",
      "        (2): TransformerEncoderLayer(\n",
      "          (self_attn): MultiheadAttention(\n",
      "            (out_proj): NonDynamicallyQuantizableLinear(in_features=8, out_features=8, bias=True)\n",
      "          )\n",
      "          (linear1): Linear(in_features=8, out_features=2048, bias=True)\n",
      "          (dropout): Dropout(p=0.1, inplace=False)\n",
      "          (linear2): Linear(in_features=2048, out_features=8, bias=True)\n",
      "          (norm1): LayerNorm((8,), eps=1e-05, elementwise_affine=True)\n",
      "          (norm2): LayerNorm((8,), eps=1e-05, elementwise_affine=True)\n",
      "          (dropout1): Dropout(p=0.1, inplace=False)\n",
      "          (dropout2): Dropout(p=0.1, inplace=False)\n",
      "        )\n",
      "        (3): TransformerEncoderLayer(\n",
      "          (self_attn): MultiheadAttention(\n",
      "            (out_proj): NonDynamicallyQuantizableLinear(in_features=8, out_features=8, bias=True)\n",
      "          )\n",
      "          (linear1): Linear(in_features=8, out_features=2048, bias=True)\n",
      "          (dropout): Dropout(p=0.1, inplace=False)\n",
      "          (linear2): Linear(in_features=2048, out_features=8, bias=True)\n",
      "          (norm1): LayerNorm((8,), eps=1e-05, elementwise_affine=True)\n",
      "          (norm2): LayerNorm((8,), eps=1e-05, elementwise_affine=True)\n",
      "          (dropout1): Dropout(p=0.1, inplace=False)\n",
      "          (dropout2): Dropout(p=0.1, inplace=False)\n",
      "        )\n",
      "        (4): TransformerEncoderLayer(\n",
      "          (self_attn): MultiheadAttention(\n",
      "            (out_proj): NonDynamicallyQuantizableLinear(in_features=8, out_features=8, bias=True)\n",
      "          )\n",
      "          (linear1): Linear(in_features=8, out_features=2048, bias=True)\n",
      "          (dropout): Dropout(p=0.1, inplace=False)\n",
      "          (linear2): Linear(in_features=2048, out_features=8, bias=True)\n",
      "          (norm1): LayerNorm((8,), eps=1e-05, elementwise_affine=True)\n",
      "          (norm2): LayerNorm((8,), eps=1e-05, elementwise_affine=True)\n",
      "          (dropout1): Dropout(p=0.1, inplace=False)\n",
      "          (dropout2): Dropout(p=0.1, inplace=False)\n",
      "        )\n",
      "      )\n",
      "    )\n",
      "    (fc): Linear(in_features=1024, out_features=2, bias=True)\n",
      "  )\n",
      "  (drop_1): RandomNodeDropout()\n",
      "  (drop_2): RandomNodeDropout()\n",
      "  (drop_3): RandomNodeDropout()\n",
      "  (drop_4): RandomNodeDropout()\n",
      "  (drop_5): RandomNodeDropout()\n",
      "  (drop_6): RandomNodeDropout()\n",
      "  (b1): BatchNorm(128)\n",
      "  (b2): BatchNorm(128)\n",
      "  (b3): BatchNorm(128)\n",
      "  (b4): BatchNorm(128)\n",
      "  (b5): BatchNorm(128)\n",
      "  (b6): BatchNorm(128)\n",
      "  (b7): BatchNorm(128)\n",
      "  (dis): Discriminator(\n",
      "    (conv1): GraphSAGE(128, 128, num_layers=2)\n",
      "    (conv2): GraphSAGE(128, 128, num_layers=2)\n",
      "    (conv3): GraphSAGE(128, 128, num_layers=2)\n",
      "    (conv4): GraphSAGE(128, 128, num_layers=2)\n",
      "    (drop_1): RandomNodeDropout()\n",
      "    (drop_2): RandomNodeDropout()\n",
      "    (grl_layer): GRL()\n",
      "    (fc2): Linear(in_features=128, out_features=3, bias=True)\n",
      "  )\n",
      "  (conv1_node_class): GraphSAGE(128, 128, num_layers=2)\n",
      "  (conv2_node_class): GraphSAGE(128, 128, num_layers=2)\n",
      "  (lin_node_class): SimpleTransformer_2(\n",
      "    (linear): Linear(in_features=1, out_features=64, bias=True)\n",
      "    (encoder_layer): TransformerEncoderLayer(\n",
      "      (self_attn): MultiheadAttention(\n",
      "        (out_proj): NonDynamicallyQuantizableLinear(in_features=64, out_features=64, bias=True)\n",
      "      )\n",
      "      (linear1): Linear(in_features=64, out_features=2048, bias=True)\n",
      "      (dropout): Dropout(p=0.1, inplace=False)\n",
      "      (linear2): Linear(in_features=2048, out_features=64, bias=True)\n",
      "      (norm1): LayerNorm((64,), eps=1e-05, elementwise_affine=True)\n",
      "      (norm2): LayerNorm((64,), eps=1e-05, elementwise_affine=True)\n",
      "      (dropout1): Dropout(p=0.1, inplace=False)\n",
      "      (dropout2): Dropout(p=0.1, inplace=False)\n",
      "    )\n",
      "    (transformer_encoder): TransformerEncoder(\n",
      "      (layers): ModuleList(\n",
      "        (0): TransformerEncoderLayer(\n",
      "          (self_attn): MultiheadAttention(\n",
      "            (out_proj): NonDynamicallyQuantizableLinear(in_features=64, out_features=64, bias=True)\n",
      "          )\n",
      "          (linear1): Linear(in_features=64, out_features=2048, bias=True)\n",
      "          (dropout): Dropout(p=0.1, inplace=False)\n",
      "          (linear2): Linear(in_features=2048, out_features=64, bias=True)\n",
      "          (norm1): LayerNorm((64,), eps=1e-05, elementwise_affine=True)\n",
      "          (norm2): LayerNorm((64,), eps=1e-05, elementwise_affine=True)\n",
      "          (dropout1): Dropout(p=0.1, inplace=False)\n",
      "          (dropout2): Dropout(p=0.1, inplace=False)\n",
      "        )\n",
      "        (1): TransformerEncoderLayer(\n",
      "          (self_attn): MultiheadAttention(\n",
      "            (out_proj): NonDynamicallyQuantizableLinear(in_features=64, out_features=64, bias=True)\n",
      "          )\n",
      "          (linear1): Linear(in_features=64, out_features=2048, bias=True)\n",
      "          (dropout): Dropout(p=0.1, inplace=False)\n",
      "          (linear2): Linear(in_features=2048, out_features=64, bias=True)\n",
      "          (norm1): LayerNorm((64,), eps=1e-05, elementwise_affine=True)\n",
      "          (norm2): LayerNorm((64,), eps=1e-05, elementwise_affine=True)\n",
      "          (dropout1): Dropout(p=0.1, inplace=False)\n",
      "          (dropout2): Dropout(p=0.1, inplace=False)\n",
      "        )\n",
      "        (2): TransformerEncoderLayer(\n",
      "          (self_attn): MultiheadAttention(\n",
      "            (out_proj): NonDynamicallyQuantizableLinear(in_features=64, out_features=64, bias=True)\n",
      "          )\n",
      "          (linear1): Linear(in_features=64, out_features=2048, bias=True)\n",
      "          (dropout): Dropout(p=0.1, inplace=False)\n",
      "          (linear2): Linear(in_features=2048, out_features=64, bias=True)\n",
      "          (norm1): LayerNorm((64,), eps=1e-05, elementwise_affine=True)\n",
      "          (norm2): LayerNorm((64,), eps=1e-05, elementwise_affine=True)\n",
      "          (dropout1): Dropout(p=0.1, inplace=False)\n",
      "          (dropout2): Dropout(p=0.1, inplace=False)\n",
      "        )\n",
      "        (3): TransformerEncoderLayer(\n",
      "          (self_attn): MultiheadAttention(\n",
      "            (out_proj): NonDynamicallyQuantizableLinear(in_features=64, out_features=64, bias=True)\n",
      "          )\n",
      "          (linear1): Linear(in_features=64, out_features=2048, bias=True)\n",
      "          (dropout): Dropout(p=0.1, inplace=False)\n",
      "          (linear2): Linear(in_features=2048, out_features=64, bias=True)\n",
      "          (norm1): LayerNorm((64,), eps=1e-05, elementwise_affine=True)\n",
      "          (norm2): LayerNorm((64,), eps=1e-05, elementwise_affine=True)\n",
      "          (dropout1): Dropout(p=0.1, inplace=False)\n",
      "          (dropout2): Dropout(p=0.1, inplace=False)\n",
      "        )\n",
      "        (4): TransformerEncoderLayer(\n",
      "          (self_attn): MultiheadAttention(\n",
      "            (out_proj): NonDynamicallyQuantizableLinear(in_features=64, out_features=64, bias=True)\n",
      "          )\n",
      "          (linear1): Linear(in_features=64, out_features=2048, bias=True)\n",
      "          (dropout): Dropout(p=0.1, inplace=False)\n",
      "          (linear2): Linear(in_features=2048, out_features=64, bias=True)\n",
      "          (norm1): LayerNorm((64,), eps=1e-05, elementwise_affine=True)\n",
      "          (norm2): LayerNorm((64,), eps=1e-05, elementwise_affine=True)\n",
      "          (dropout1): Dropout(p=0.1, inplace=False)\n",
      "          (dropout2): Dropout(p=0.1, inplace=False)\n",
      "        )\n",
      "        (5): TransformerEncoderLayer(\n",
      "          (self_attn): MultiheadAttention(\n",
      "            (out_proj): NonDynamicallyQuantizableLinear(in_features=64, out_features=64, bias=True)\n",
      "          )\n",
      "          (linear1): Linear(in_features=64, out_features=2048, bias=True)\n",
      "          (dropout): Dropout(p=0.1, inplace=False)\n",
      "          (linear2): Linear(in_features=2048, out_features=64, bias=True)\n",
      "          (norm1): LayerNorm((64,), eps=1e-05, elementwise_affine=True)\n",
      "          (norm2): LayerNorm((64,), eps=1e-05, elementwise_affine=True)\n",
      "          (dropout1): Dropout(p=0.1, inplace=False)\n",
      "          (dropout2): Dropout(p=0.1, inplace=False)\n",
      "        )\n",
      "        (6): TransformerEncoderLayer(\n",
      "          (self_attn): MultiheadAttention(\n",
      "            (out_proj): NonDynamicallyQuantizableLinear(in_features=64, out_features=64, bias=True)\n",
      "          )\n",
      "          (linear1): Linear(in_features=64, out_features=2048, bias=True)\n",
      "          (dropout): Dropout(p=0.1, inplace=False)\n",
      "          (linear2): Linear(in_features=2048, out_features=64, bias=True)\n",
      "          (norm1): LayerNorm((64,), eps=1e-05, elementwise_affine=True)\n",
      "          (norm2): LayerNorm((64,), eps=1e-05, elementwise_affine=True)\n",
      "          (dropout1): Dropout(p=0.1, inplace=False)\n",
      "          (dropout2): Dropout(p=0.1, inplace=False)\n",
      "        )\n",
      "        (7): TransformerEncoderLayer(\n",
      "          (self_attn): MultiheadAttention(\n",
      "            (out_proj): NonDynamicallyQuantizableLinear(in_features=64, out_features=64, bias=True)\n",
      "          )\n",
      "          (linear1): Linear(in_features=64, out_features=2048, bias=True)\n",
      "          (dropout): Dropout(p=0.1, inplace=False)\n",
      "          (linear2): Linear(in_features=2048, out_features=64, bias=True)\n",
      "          (norm1): LayerNorm((64,), eps=1e-05, elementwise_affine=True)\n",
      "          (norm2): LayerNorm((64,), eps=1e-05, elementwise_affine=True)\n",
      "          (dropout1): Dropout(p=0.1, inplace=False)\n",
      "          (dropout2): Dropout(p=0.1, inplace=False)\n",
      "        )\n",
      "        (8): TransformerEncoderLayer(\n",
      "          (self_attn): MultiheadAttention(\n",
      "            (out_proj): NonDynamicallyQuantizableLinear(in_features=64, out_features=64, bias=True)\n",
      "          )\n",
      "          (linear1): Linear(in_features=64, out_features=2048, bias=True)\n",
      "          (dropout): Dropout(p=0.1, inplace=False)\n",
      "          (linear2): Linear(in_features=2048, out_features=64, bias=True)\n",
      "          (norm1): LayerNorm((64,), eps=1e-05, elementwise_affine=True)\n",
      "          (norm2): LayerNorm((64,), eps=1e-05, elementwise_affine=True)\n",
      "          (dropout1): Dropout(p=0.1, inplace=False)\n",
      "          (dropout2): Dropout(p=0.1, inplace=False)\n",
      "        )\n",
      "        (9): TransformerEncoderLayer(\n",
      "          (self_attn): MultiheadAttention(\n",
      "            (out_proj): NonDynamicallyQuantizableLinear(in_features=64, out_features=64, bias=True)\n",
      "          )\n",
      "          (linear1): Linear(in_features=64, out_features=2048, bias=True)\n",
      "          (dropout): Dropout(p=0.1, inplace=False)\n",
      "          (linear2): Linear(in_features=2048, out_features=64, bias=True)\n",
      "          (norm1): LayerNorm((64,), eps=1e-05, elementwise_affine=True)\n",
      "          (norm2): LayerNorm((64,), eps=1e-05, elementwise_affine=True)\n",
      "          (dropout1): Dropout(p=0.1, inplace=False)\n",
      "          (dropout2): Dropout(p=0.1, inplace=False)\n",
      "        )\n",
      "      )\n",
      "    )\n",
      "    (fc): Linear(in_features=8192, out_features=7, bias=True)\n",
      "  )\n",
      ")\n"
     ]
    }
   ],
   "source": [
    "class RandomNodeDropout(nn.Module):\n",
    "    def __init__(self, drop_prob=0.3):\n",
    "        super(RandomNodeDropout, self).__init__()\n",
    "        self.drop_prob = drop_prob\n",
    "\n",
    "    def forward(self, x, enabled=True):\n",
    "        if not self.training or not enabled:\n",
    "            return x\n",
    "        \n",
    "        num_rows = x.size(0)\n",
    "        mask = torch.rand(num_rows, device=x.device) > self.drop_prob\n",
    "        mask = mask.float().unsqueeze(1).expand_as(x)\n",
    "        x = x * mask\n",
    "        \n",
    "        return x\n",
    "\n",
    "soft = torch.nn.Softmax(dim=1)\n",
    "\n",
    "num_domain = 3\n",
    "class GRL(nn.Module):\n",
    "\n",
    "    def __init__(self, max_iter):\n",
    "        super(GRL, self).__init__()\n",
    "        self.iter_num = 0\n",
    "        self.alpha = 10\n",
    "        self.low = 0.0\n",
    "        self.high = 1.0\n",
    "        self.max_iter = max_iter\n",
    "\n",
    "    def forward(self, input):\n",
    "        self.iter_num += 1\n",
    "        return input * 1.0\n",
    "\n",
    "    def backward(self, gradOutput):\n",
    "        coeff = np.float(2.0 * (self.high - self.low) / (1.0 + np.exp(-self.alpha * self.iter_num / self.max_iter))\n",
    "                         - (self.high - self.low) + self.low)\n",
    "        return -coeff*10* gradOutput\n",
    "\n",
    "num_node  =train_dataset.num_node_features\n",
    "class Discriminator(torch.nn.Module):\n",
    "    def __init__(self,hidden_channels ,max_iter):\n",
    "        super(Discriminator, self).__init__()\n",
    "        torch.manual_seed(12345)\n",
    "        self.conv1 = GraphSAGE(hidden_channels, hidden_channels,2,dropout=0.5)\n",
    "        self.conv2 = GraphSAGE(hidden_channels, hidden_channels,2,dropout=0.5)\n",
    "        self.conv3 = GraphSAGE(hidden_channels, hidden_channels,2,dropout=0.5)\n",
    "        self.conv4 = GraphSAGE(hidden_channels, hidden_channels,2,dropout=0.5)\n",
    "        self.drop_1 = RandomNodeDropout(drop_prob=0.3)\n",
    "        self.drop_2 = RandomNodeDropout(drop_prob=0.3)\n",
    "        self.grl_layer = GRL(max_iter)\n",
    "        self.fc2 = nn.Linear(hidden_channels, num_domain)\n",
    "        \n",
    "    def forward(self, x, edge_index, batch,drop_en):\n",
    "        #print(\"graph fea :\",graph_level_feature.shape ,edge_index.shape )\n",
    "        \n",
    "        x = self.grl_layer(x)\n",
    "        x = self.conv1(x, edge_index)\n",
    "        x = x.relu()\n",
    "        x = self.drop_1(x,drop_en)\n",
    "        \n",
    "        x = self.conv2(x, edge_index)\n",
    "        x = x.relu()\n",
    "        x = self.drop_2(x,drop_en)\n",
    "        \n",
    "        x = self.conv3(x, edge_index)\n",
    "        x = x.relu()\n",
    "        x = self.conv4(x, edge_index)\n",
    "        x = x.relu()\n",
    "        \n",
    "        x = global_mean_pool(x, batch)\n",
    "        \n",
    "        x = self.fc2(x)\n",
    "        x = m(x)\n",
    "         \n",
    "        return x \n",
    "\n",
    "\n",
    "\n",
    "class GCN(torch.nn.Module):\n",
    "    def __init__(self, hidden_channels,max_iter=4000):\n",
    "        super(GCN, self).__init__()\n",
    "        torch.manual_seed(12345)\n",
    "        self.conv1 = ChebConv(num_node, hidden_channels,2)\n",
    "        self.conv2 = ChebConv(hidden_channels, hidden_channels,2)\n",
    "        self.conv3 = ChebConv(hidden_channels, hidden_channels,2)\n",
    "        self.conv4 = ChebConv(hidden_channels, hidden_channels,2)\n",
    "        self.conv5 = ChebConv(hidden_channels*2, hidden_channels,2)\n",
    "        self.conv6 = ChebConv(hidden_channels, hidden_channels,2)\n",
    "        self.conv7 = ChebConv(hidden_channels, hidden_channels,2)\n",
    "        self.conv8 = ChebConv(hidden_channels, hidden_channels,2)\n",
    "        self.lin = SimpleTransformer(8,5,8,2)\n",
    "        \n",
    "        self.drop_1 = RandomNodeDropout(drop_prob=0.3)\n",
    "        self.drop_2 = RandomNodeDropout(drop_prob=0.3)\n",
    "        self.drop_3 = RandomNodeDropout(drop_prob=0.3)\n",
    "        self.drop_4 = RandomNodeDropout(drop_prob=0.3)\n",
    "        self.drop_5 = RandomNodeDropout(drop_prob=0.3)\n",
    "        self.drop_6 = RandomNodeDropout(drop_prob=0.3)\n",
    "        \n",
    "        \n",
    "        self.b1 = BatchNorm(hidden_channels)\n",
    "        self.b2 = BatchNorm(hidden_channels)\n",
    "        self.b3 = BatchNorm(hidden_channels)\n",
    "        self.b4 = BatchNorm(hidden_channels)\n",
    "        self.b5 = BatchNorm(hidden_channels)\n",
    "        self.b6 = BatchNorm(hidden_channels)\n",
    "        self.b7 = BatchNorm(hidden_channels)\n",
    "        \n",
    "        self.dis = Discriminator(hidden_channels,max_iter)\n",
    "        \n",
    "        self.conv1_node_class = GraphSAGE(hidden_channels, hidden_channels,2,dropout=0.5)\n",
    "        \n",
    "        self.conv2_node_class = GraphSAGE(hidden_channels, hidden_channels,2,dropout=0.5)\n",
    "        \n",
    "        self.lin_node_class = SimpleTransformer_2(64,10,8)\n",
    "        \n",
    "\n",
    "        \n",
    "        #self.tcn = Simple1DCNN()\n",
    "        \n",
    "    def forward(self, x, edge_index, batch,drop_en,index_arr):\n",
    "        #print(\"graph fea :\",graph_level_feature.shape ,edge_index.shape )\n",
    "        \n",
    "\n",
    "        x = self.conv1(x, edge_index)\n",
    "        x  = self.b1(x)\n",
    "        x = x.relu()\n",
    "        \n",
    "        x = self.drop_1(x,drop_en)\n",
    "        \n",
    "        \n",
    "\n",
    "        x = self.conv2(x, edge_index)\n",
    "        x  = self.b2(x)\n",
    "        x = x.relu()\n",
    "        \n",
    "        x = self.drop_2(x,drop_en)\n",
    "                \n",
    "        dicriminator = x\n",
    "        \n",
    "        x_1 = global_mean_pool(x, batch)\n",
    "        \n",
    "        x = self.conv3(x, edge_index)\n",
    "        x  = self.b3(x)\n",
    "        x = x.relu()\n",
    "        \n",
    "        x = self.drop_3(x,drop_en)\n",
    "        \n",
    "        x_3 = global_mean_pool(x, batch)\n",
    "        \n",
    "        \n",
    "        x = self.conv4(x, edge_index)\n",
    "        x  = self.b4(x)\n",
    "        x = x.relu()\n",
    "        \n",
    "        x = self.drop_4(x,drop_en)\n",
    "        \n",
    "        \n",
    "        x = torch.cat((x,dicriminator),dim=1) #skip connection\n",
    "        \n",
    "        x = self.conv5(x, edge_index)\n",
    "        x  = self.b5(x)\n",
    "        x = x.relu()\n",
    "        \n",
    "        x = self.drop_5(x,drop_en)\n",
    "        \n",
    "        x_5 = global_mean_pool(x, batch)\n",
    "        \n",
    "        x = self.conv6(x, edge_index)\n",
    "        x  = self.b6(x)\n",
    "        x = x.relu()\n",
    "        \n",
    "        x = self.drop_6(x,drop_en)\n",
    "        \n",
    "        x = self.conv7(x, edge_index)\n",
    "        x  = self.b7(x)\n",
    "        x = x.relu()\n",
    "        \n",
    "        \n",
    "        x = self.conv8(x, edge_index)\n",
    "        # 2. Readout layer\n",
    "        x = global_mean_pool(x, batch)  # [batch_size, hidden_channels]\n",
    "        \n",
    "        x = torch.stack([x,x_1,x_5,x_3],dim=2)\n",
    "        \n",
    "        x = F.dropout(x, p=0.5, training=self.training)\n",
    "        \n",
    "        #x = torch.unsqueeze(x,2)\n",
    "        #print(x.shape)\n",
    "        \n",
    "        x = self.lin(x)\n",
    "        \n",
    "        x= m(x)\n",
    "        \n",
    "        \n",
    "        node_class_hidden = self.conv1_node_class(dicriminator,edge_index)\n",
    "        node_class_hidden = node_class_hidden.relu()\n",
    "        \n",
    "        node_class_hidden = self.conv2_node_class(node_class_hidden,edge_index)\n",
    "        node_class_hidden = node_class_hidden.relu()\n",
    "        \n",
    "        #print(index_arr.shape , node_class_hidden.shape)\n",
    "        \n",
    "        node_class_hidden = node_class_hidden[index_arr]\n",
    "        \n",
    "        #print(node_class_hidden.shape)\n",
    "        node_class_hidden = torch.unsqueeze(node_class_hidden, dim=2)\n",
    "        \n",
    "        node_pre = self.lin_node_class(node_class_hidden)\n",
    "        \n",
    "            \n",
    "        #print(\"hiiii :\" , dicriminator.shape)\n",
    "        dis_invariant = self.dis(dicriminator,edge_index,batch,drop_en)\n",
    "        \n",
    "        return x ,dis_invariant ,node_pre\n",
    "\n",
    "model = GCN(hidden_channels=128).to(device)\n",
    "print(model)\n",
    "\n",
    "def check_folder(log_dir):\n",
    "    if not os.path.exists(log_dir):\n",
    "        os.makedirs(log_dir)\n",
    "    return log_dir\n",
    "\n",
    "optimizer = torch.optim.Adam(model.parameters(), lr=0.0001)\n",
    "#criterion = torch.nn.CrossEntropyLoss()\n",
    "criterion= FocalLoss(gamma=2)\n",
    "criterion_node_class=  torch.nn.CrossEntropyLoss()\n",
    "criterion_2 = FocalLoss(gamma=2)\n",
    "def train(epoch):\n",
    "    model.train()\n",
    "    losses_adv_loss=0\n",
    "    losses_loss_cls=0\n",
    "    total_loss = 0\n",
    "    losses_node_cls_loss = 0\n",
    "    progress_bar = tqdm(train_loader, desc=f'Epoch {epoch+1}', unit='batch')\n",
    "    for graph in progress_bar:  # Iterate in batches over the training dataset.\n",
    "        graph = graph.to(device)  # Move data to the device\n",
    "        \n",
    "        drop_en = bool(np.random.binomial(1, 0.5))\n",
    "        \n",
    "        if graph.x.shape[0] < 29952 :\n",
    "            \n",
    "            if graph.x.shape[0] < 64:\n",
    "            \n",
    "                index_arr = torch.randint(0, int(graph.x.shape[0]), (int(graph.x.shape[0]),)).to(device)\n",
    "            else :\n",
    "                \n",
    "                index_arr = torch.randint(0, int(graph.x.shape[0]), (64,)).to(device)\n",
    "        else :\n",
    "                \n",
    "            index_arr = torch.randint(0, 29952, (64,)).to(device)\n",
    "        \n",
    "        \n",
    "        \n",
    "        out,domain_invariant,node_pre = model(graph.x, graph.edge_index, graph.batch,drop_en,index_arr)  # Perform a single forward pass.\n",
    "        \n",
    "        adv_loss = criterion_2(domain_invariant, graph.data)\n",
    "        \n",
    "        node_cls_loss = criterion_node_class(node_pre.squeeze(),graph.y_node.float()[index_arr])\n",
    "        #print(out.shape , graph.y.long().shape)\n",
    "        loss_cls = criterion(out.squeeze(), graph.y)  # Compute the loss.\n",
    "        \n",
    "        loss_all = adv_loss + loss_cls + node_cls_loss\n",
    "        loss_all.backward()  # Derive gradients.\n",
    "        optimizer.step()  # Update parameters based on gradients.\n",
    "        optimizer.zero_grad()  # Clear gradients.\n",
    "        total_loss = loss_all + total_loss\n",
    "        losses_adv_loss = adv_loss + losses_adv_loss\n",
    "        losses_loss_cls = loss_cls + losses_loss_cls\n",
    "        losses_node_cls_loss = node_cls_loss + losses_node_cls_loss\n",
    "\n",
    "\n",
    "    print(\"/////////////////////////\")\n",
    "    print(\"adverserial loss : \" ,losses_adv_loss/len(train_loader.dataset))  \n",
    "    print(\"classification loss : \" , losses_loss_cls/len(train_loader.dataset))\n",
    "    print(\"classification node loss : \" , losses_node_cls_loss/len(train_loader.dataset))\n",
    "    print(\"total loss : \" ,total_loss/len(train_loader.dataset) )\n",
    "    print(\"////////////////////////////////////\")\n",
    "def test(loader,epoch):\n",
    "    score_path = os.path.join(\"/home/hassan-hossein/single_image_graph_face_anti_spoofing/train/Scores\", \"epoch_{}\".format(epoch+1))\n",
    "    check_folder(score_path)\n",
    "    model.eval()\n",
    "    with torch.no_grad():\n",
    "        scores_list = []\n",
    "\n",
    "        correct = 0\n",
    "        s= 0\n",
    "        progress_bar = tqdm(loader, desc=f'Epoch {epoch+1}', unit='batch')\n",
    "        for graph in progress_bar:  # Iterate in batches over the training/test dataset.\n",
    "            if graph.x.shape[0] < 29952 :\n",
    "\n",
    "                if graph.x.shape[0] < 64:\n",
    "\n",
    "                    index_arr = torch.randint(0, int(graph.x.shape[0]), (int(graph.x.shape[0]),)).to(device)\n",
    "                else :\n",
    "\n",
    "                    index_arr = torch.randint(0, int(graph.x.shape[0]), (64,)).to(device)\n",
    "            else :\n",
    "\n",
    "                index_arr = torch.randint(0, 29952, (64,)).to(device)\n",
    "                \n",
    "            graph = graph.to(device)  # Move data to the device\n",
    "            logit,_ ,_= model(graph.x, graph.edge_index, graph.batch,False,index_arr)\n",
    "            logit = logit[:,1]\n",
    "            live_label = graph.y.float()\n",
    "            for i in range(len(logit)):\n",
    "                        scores_list.append(\"{} {}\\n\".format(logit[i].item(), live_label[i].item()))\n",
    "  # Check against ground-truth labels.\n",
    "    map_score_val_filename = os.path.join(score_path, \"score.txt\")\n",
    "    with open(map_score_val_filename, 'w') as file:\n",
    "                file.writelines(scores_list)\n",
    "    print(\"score: write test scores to {}\".format(map_score_val_filename))\n",
    "    test_ACC, fpr, FRR, HTER, auc_test, test_err, tpr = performances_val(map_score_val_filename)\n",
    "    print(\"epoch:{:d}, test:  val_ACC={:.4f}, HTER={:.4f}, AUC={:.4f}, val_err={:.4f}, ACC={:.4f}, TPR={:.4f}\".format(\n",
    "        epoch + 1, test_ACC, HTER, auc_test, test_err, test_ACC, tpr))  \n",
    "    return auc_test\n",
    "\n",
    "\n"
   ]
  },
  {
   "cell_type": "code",
   "execution_count": 3,
   "id": "31fccca9",
   "metadata": {},
   "outputs": [
    {
     "name": "stderr",
     "output_type": "stream",
     "text": [
      "Epoch 1: 100%|███████████████████████████| 3448/3448 [08:39<00:00,  6.64batch/s]\n"
     ]
    },
    {
     "name": "stdout",
     "output_type": "stream",
     "text": [
      "/////////////////////////\n",
      "adverserial loss :  tensor(0.0004, device='cuda:0', grad_fn=<DivBackward0>)\n",
      "classification loss :  tensor(0.0002, device='cuda:0', grad_fn=<DivBackward0>)\n",
      "classification node loss :  tensor(0.0083, device='cuda:0', grad_fn=<DivBackward0>)\n",
      "total loss :  tensor(0.0089, device='cuda:0', grad_fn=<DivBackward0>)\n",
      "////////////////////////////////////\n",
      "***************************\n",
      "test : \n"
     ]
    },
    {
     "name": "stderr",
     "output_type": "stream",
     "text": [
      "Epoch 1: 100%|█████████████████████████████| 243/243 [00:39<00:00,  6.12batch/s]\n"
     ]
    },
    {
     "name": "stdout",
     "output_type": "stream",
     "text": [
      "score: write test scores to /home/hassan-hossein/single_image_graph_face_anti_spoofing/train/Scores/epoch_1/score.txt\n",
      "epoch:1, test:  val_ACC=0.7736, HTER=0.2265, AUC=0.8742, val_err=0.2265, ACC=0.7736, TPR=0.4326\n",
      "improve acc .. .. ..\n"
     ]
    },
    {
     "name": "stderr",
     "output_type": "stream",
     "text": [
      "Epoch 2: 100%|███████████████████████████| 3448/3448 [08:35<00:00,  6.69batch/s]\n"
     ]
    },
    {
     "name": "stdout",
     "output_type": "stream",
     "text": [
      "/////////////////////////\n",
      "adverserial loss :  tensor(2.4628e-05, device='cuda:0', grad_fn=<DivBackward0>)\n",
      "classification loss :  tensor(4.0135e-05, device='cuda:0', grad_fn=<DivBackward0>)\n",
      "classification node loss :  tensor(0.0035, device='cuda:0', grad_fn=<DivBackward0>)\n",
      "total loss :  tensor(0.0036, device='cuda:0', grad_fn=<DivBackward0>)\n",
      "////////////////////////////////////\n",
      "***************************\n",
      "test : \n"
     ]
    },
    {
     "name": "stderr",
     "output_type": "stream",
     "text": [
      "Epoch 2: 100%|█████████████████████████████| 243/243 [00:38<00:00,  6.25batch/s]\n"
     ]
    },
    {
     "name": "stdout",
     "output_type": "stream",
     "text": [
      "score: write test scores to /home/hassan-hossein/single_image_graph_face_anti_spoofing/train/Scores/epoch_2/score.txt\n",
      "epoch:2, test:  val_ACC=0.8280, HTER=0.1720, AUC=0.9179, val_err=0.1720, ACC=0.8280, TPR=0.5823\n",
      "improve acc .. .. ..\n"
     ]
    },
    {
     "name": "stderr",
     "output_type": "stream",
     "text": [
      "Epoch 3: 100%|███████████████████████████| 3448/3448 [08:35<00:00,  6.69batch/s]\n"
     ]
    },
    {
     "name": "stdout",
     "output_type": "stream",
     "text": [
      "/////////////////////////\n",
      "adverserial loss :  tensor(1.4478e-05, device='cuda:0', grad_fn=<DivBackward0>)\n",
      "classification loss :  tensor(2.7240e-05, device='cuda:0', grad_fn=<DivBackward0>)\n",
      "classification node loss :  tensor(0.0027, device='cuda:0', grad_fn=<DivBackward0>)\n",
      "total loss :  tensor(0.0028, device='cuda:0', grad_fn=<DivBackward0>)\n",
      "////////////////////////////////////\n",
      "***************************\n",
      "test : \n"
     ]
    },
    {
     "name": "stderr",
     "output_type": "stream",
     "text": [
      "Epoch 3: 100%|█████████████████████████████| 243/243 [00:39<00:00,  6.23batch/s]\n"
     ]
    },
    {
     "name": "stdout",
     "output_type": "stream",
     "text": [
      "score: write test scores to /home/hassan-hossein/single_image_graph_face_anti_spoofing/train/Scores/epoch_3/score.txt\n",
      "epoch:3, test:  val_ACC=0.8329, HTER=0.1672, AUC=0.9202, val_err=0.1671, ACC=0.8329, TPR=0.5851\n",
      "improve acc .. .. ..\n"
     ]
    },
    {
     "name": "stderr",
     "output_type": "stream",
     "text": [
      "Epoch 4: 100%|███████████████████████████| 3448/3448 [08:34<00:00,  6.70batch/s]\n"
     ]
    },
    {
     "name": "stdout",
     "output_type": "stream",
     "text": [
      "/////////////////////////\n",
      "adverserial loss :  tensor(1.0494e-05, device='cuda:0', grad_fn=<DivBackward0>)\n",
      "classification loss :  tensor(2.1107e-05, device='cuda:0', grad_fn=<DivBackward0>)\n",
      "classification node loss :  tensor(0.0022, device='cuda:0', grad_fn=<DivBackward0>)\n",
      "total loss :  tensor(0.0022, device='cuda:0', grad_fn=<DivBackward0>)\n",
      "////////////////////////////////////\n",
      "***************************\n",
      "test : \n"
     ]
    },
    {
     "name": "stderr",
     "output_type": "stream",
     "text": [
      "Epoch 4: 100%|█████████████████████████████| 243/243 [00:39<00:00,  6.18batch/s]\n"
     ]
    },
    {
     "name": "stdout",
     "output_type": "stream",
     "text": [
      "score: write test scores to /home/hassan-hossein/single_image_graph_face_anti_spoofing/train/Scores/epoch_4/score.txt\n",
      "epoch:4, test:  val_ACC=0.8494, HTER=0.1505, AUC=0.9250, val_err=0.1506, ACC=0.8494, TPR=0.4761\n",
      "improve acc .. .. ..\n"
     ]
    },
    {
     "name": "stderr",
     "output_type": "stream",
     "text": [
      "Epoch 5: 100%|███████████████████████████| 3448/3448 [08:32<00:00,  6.72batch/s]\n"
     ]
    },
    {
     "name": "stdout",
     "output_type": "stream",
     "text": [
      "/////////////////////////\n",
      "adverserial loss :  tensor(9.3346e-06, device='cuda:0', grad_fn=<DivBackward0>)\n",
      "classification loss :  tensor(1.8453e-05, device='cuda:0', grad_fn=<DivBackward0>)\n",
      "classification node loss :  tensor(0.0019, device='cuda:0', grad_fn=<DivBackward0>)\n",
      "total loss :  tensor(0.0019, device='cuda:0', grad_fn=<DivBackward0>)\n",
      "////////////////////////////////////\n",
      "***************************\n",
      "test : \n"
     ]
    },
    {
     "name": "stderr",
     "output_type": "stream",
     "text": [
      "Epoch 5: 100%|█████████████████████████████| 243/243 [00:38<00:00,  6.26batch/s]\n"
     ]
    },
    {
     "name": "stdout",
     "output_type": "stream",
     "text": [
      "score: write test scores to /home/hassan-hossein/single_image_graph_face_anti_spoofing/train/Scores/epoch_5/score.txt\n",
      "epoch:5, test:  val_ACC=0.8184, HTER=0.1816, AUC=0.9008, val_err=0.1816, ACC=0.8184, TPR=0.5234\n"
     ]
    },
    {
     "name": "stderr",
     "output_type": "stream",
     "text": [
      "Epoch 6: 100%|███████████████████████████| 3448/3448 [08:30<00:00,  6.76batch/s]\n"
     ]
    },
    {
     "name": "stdout",
     "output_type": "stream",
     "text": [
      "/////////////////////////\n",
      "adverserial loss :  tensor(6.9700e-06, device='cuda:0', grad_fn=<DivBackward0>)\n",
      "classification loss :  tensor(1.4270e-05, device='cuda:0', grad_fn=<DivBackward0>)\n",
      "classification node loss :  tensor(0.0016, device='cuda:0', grad_fn=<DivBackward0>)\n",
      "total loss :  tensor(0.0016, device='cuda:0', grad_fn=<DivBackward0>)\n",
      "////////////////////////////////////\n",
      "***************************\n",
      "test : \n"
     ]
    },
    {
     "name": "stderr",
     "output_type": "stream",
     "text": [
      "Epoch 6: 100%|█████████████████████████████| 243/243 [00:39<00:00,  6.20batch/s]\n"
     ]
    },
    {
     "name": "stdout",
     "output_type": "stream",
     "text": [
      "score: write test scores to /home/hassan-hossein/single_image_graph_face_anti_spoofing/train/Scores/epoch_6/score.txt\n",
      "epoch:6, test:  val_ACC=0.8622, HTER=0.1379, AUC=0.9371, val_err=0.1379, ACC=0.8622, TPR=0.5913\n",
      "improve acc .. .. ..\n"
     ]
    },
    {
     "name": "stderr",
     "output_type": "stream",
     "text": [
      "Epoch 7: 100%|███████████████████████████| 3448/3448 [08:31<00:00,  6.74batch/s]\n"
     ]
    },
    {
     "name": "stdout",
     "output_type": "stream",
     "text": [
      "/////////////////////////\n",
      "adverserial loss :  tensor(8.4417e-06, device='cuda:0', grad_fn=<DivBackward0>)\n",
      "classification loss :  tensor(1.5133e-05, device='cuda:0', grad_fn=<DivBackward0>)\n",
      "classification node loss :  tensor(0.0013, device='cuda:0', grad_fn=<DivBackward0>)\n",
      "total loss :  tensor(0.0013, device='cuda:0', grad_fn=<DivBackward0>)\n",
      "////////////////////////////////////\n",
      "***************************\n",
      "test : \n"
     ]
    },
    {
     "name": "stderr",
     "output_type": "stream",
     "text": [
      "Epoch 7: 100%|█████████████████████████████| 243/243 [00:38<00:00,  6.31batch/s]\n"
     ]
    },
    {
     "name": "stdout",
     "output_type": "stream",
     "text": [
      "score: write test scores to /home/hassan-hossein/single_image_graph_face_anti_spoofing/train/Scores/epoch_7/score.txt\n",
      "epoch:7, test:  val_ACC=0.8170, HTER=0.1831, AUC=0.9032, val_err=0.1831, ACC=0.8170, TPR=0.5885\n"
     ]
    },
    {
     "name": "stderr",
     "output_type": "stream",
     "text": [
      "Epoch 8: 100%|███████████████████████████| 3448/3448 [08:32<00:00,  6.73batch/s]\n"
     ]
    },
    {
     "name": "stdout",
     "output_type": "stream",
     "text": [
      "/////////////////////////\n",
      "adverserial loss :  tensor(1.0410e-05, device='cuda:0', grad_fn=<DivBackward0>)\n",
      "classification loss :  tensor(1.3335e-05, device='cuda:0', grad_fn=<DivBackward0>)\n",
      "classification node loss :  tensor(0.0011, device='cuda:0', grad_fn=<DivBackward0>)\n",
      "total loss :  tensor(0.0012, device='cuda:0', grad_fn=<DivBackward0>)\n",
      "////////////////////////////////////\n",
      "***************************\n",
      "test : \n"
     ]
    },
    {
     "name": "stderr",
     "output_type": "stream",
     "text": [
      "Epoch 8: 100%|█████████████████████████████| 243/243 [00:38<00:00,  6.27batch/s]\n"
     ]
    },
    {
     "name": "stdout",
     "output_type": "stream",
     "text": [
      "score: write test scores to /home/hassan-hossein/single_image_graph_face_anti_spoofing/train/Scores/epoch_8/score.txt\n",
      "epoch:8, test:  val_ACC=0.8533, HTER=0.1467, AUC=0.9209, val_err=0.1467, ACC=0.8533, TPR=0.5239\n"
     ]
    },
    {
     "name": "stderr",
     "output_type": "stream",
     "text": [
      "Epoch 9: 100%|███████████████████████████| 3448/3448 [08:31<00:00,  6.74batch/s]\n"
     ]
    },
    {
     "name": "stdout",
     "output_type": "stream",
     "text": [
      "/////////////////////////\n",
      "adverserial loss :  tensor(5.7965e-06, device='cuda:0', grad_fn=<DivBackward0>)\n",
      "classification loss :  tensor(1.0712e-05, device='cuda:0', grad_fn=<DivBackward0>)\n",
      "classification node loss :  tensor(0.0010, device='cuda:0', grad_fn=<DivBackward0>)\n",
      "total loss :  tensor(0.0010, device='cuda:0', grad_fn=<DivBackward0>)\n",
      "////////////////////////////////////\n",
      "***************************\n",
      "test : \n"
     ]
    },
    {
     "name": "stderr",
     "output_type": "stream",
     "text": [
      "Epoch 9: 100%|█████████████████████████████| 243/243 [00:38<00:00,  6.26batch/s]\n"
     ]
    },
    {
     "name": "stdout",
     "output_type": "stream",
     "text": [
      "score: write test scores to /home/hassan-hossein/single_image_graph_face_anti_spoofing/train/Scores/epoch_9/score.txt\n",
      "epoch:9, test:  val_ACC=0.8354, HTER=0.1646, AUC=0.9021, val_err=0.1647, ACC=0.8354, TPR=0.4470\n"
     ]
    },
    {
     "name": "stderr",
     "output_type": "stream",
     "text": [
      "Epoch 10: 100%|██████████████████████████| 3448/3448 [08:32<00:00,  6.73batch/s]\n"
     ]
    },
    {
     "name": "stdout",
     "output_type": "stream",
     "text": [
      "/////////////////////////\n",
      "adverserial loss :  tensor(5.7901e-06, device='cuda:0', grad_fn=<DivBackward0>)\n",
      "classification loss :  tensor(1.2441e-05, device='cuda:0', grad_fn=<DivBackward0>)\n",
      "classification node loss :  tensor(0.0009, device='cuda:0', grad_fn=<DivBackward0>)\n",
      "total loss :  tensor(0.0009, device='cuda:0', grad_fn=<DivBackward0>)\n",
      "////////////////////////////////////\n",
      "***************************\n",
      "test : \n"
     ]
    },
    {
     "name": "stderr",
     "output_type": "stream",
     "text": [
      "Epoch 10: 100%|████████████████████████████| 243/243 [00:38<00:00,  6.34batch/s]\n"
     ]
    },
    {
     "name": "stdout",
     "output_type": "stream",
     "text": [
      "score: write test scores to /home/hassan-hossein/single_image_graph_face_anti_spoofing/train/Scores/epoch_10/score.txt\n",
      "epoch:10, test:  val_ACC=0.8451, HTER=0.1549, AUC=0.9119, val_err=0.1549, ACC=0.8451, TPR=0.5136\n"
     ]
    },
    {
     "name": "stderr",
     "output_type": "stream",
     "text": [
      "Epoch 11: 100%|██████████████████████████| 3448/3448 [08:32<00:00,  6.73batch/s]\n"
     ]
    },
    {
     "name": "stdout",
     "output_type": "stream",
     "text": [
      "/////////////////////////\n",
      "adverserial loss :  tensor(3.9153e-06, device='cuda:0', grad_fn=<DivBackward0>)\n",
      "classification loss :  tensor(1.0923e-05, device='cuda:0', grad_fn=<DivBackward0>)\n",
      "classification node loss :  tensor(0.0008, device='cuda:0', grad_fn=<DivBackward0>)\n",
      "total loss :  tensor(0.0008, device='cuda:0', grad_fn=<DivBackward0>)\n",
      "////////////////////////////////////\n",
      "***************************\n",
      "test : \n"
     ]
    },
    {
     "name": "stderr",
     "output_type": "stream",
     "text": [
      "Epoch 11: 100%|████████████████████████████| 243/243 [00:39<00:00,  6.21batch/s]\n"
     ]
    },
    {
     "name": "stdout",
     "output_type": "stream",
     "text": [
      "score: write test scores to /home/hassan-hossein/single_image_graph_face_anti_spoofing/train/Scores/epoch_11/score.txt\n",
      "epoch:11, test:  val_ACC=0.8918, HTER=0.1083, AUC=0.9455, val_err=0.1083, ACC=0.8918, TPR=0.6211\n",
      "improve acc .. .. ..\n"
     ]
    },
    {
     "name": "stderr",
     "output_type": "stream",
     "text": [
      "Epoch 12: 100%|██████████████████████████| 3448/3448 [08:34<00:00,  6.71batch/s]\n"
     ]
    },
    {
     "name": "stdout",
     "output_type": "stream",
     "text": [
      "/////////////////////////\n",
      "adverserial loss :  tensor(6.2047e-06, device='cuda:0', grad_fn=<DivBackward0>)\n",
      "classification loss :  tensor(1.0739e-05, device='cuda:0', grad_fn=<DivBackward0>)\n",
      "classification node loss :  tensor(0.0007, device='cuda:0', grad_fn=<DivBackward0>)\n",
      "total loss :  tensor(0.0007, device='cuda:0', grad_fn=<DivBackward0>)\n",
      "////////////////////////////////////\n",
      "***************************\n",
      "test : \n"
     ]
    },
    {
     "name": "stderr",
     "output_type": "stream",
     "text": [
      "Epoch 12: 100%|████████████████████████████| 243/243 [00:38<00:00,  6.37batch/s]\n"
     ]
    },
    {
     "name": "stdout",
     "output_type": "stream",
     "text": [
      "score: write test scores to /home/hassan-hossein/single_image_graph_face_anti_spoofing/train/Scores/epoch_12/score.txt\n",
      "epoch:12, test:  val_ACC=0.8770, HTER=0.1230, AUC=0.9267, val_err=0.1231, ACC=0.8770, TPR=0.4131\n"
     ]
    },
    {
     "name": "stderr",
     "output_type": "stream",
     "text": [
      "Epoch 13: 100%|██████████████████████████| 3448/3448 [08:31<00:00,  6.74batch/s]\n"
     ]
    },
    {
     "name": "stdout",
     "output_type": "stream",
     "text": [
      "/////////////////////////\n",
      "adverserial loss :  tensor(4.0506e-06, device='cuda:0', grad_fn=<DivBackward0>)\n",
      "classification loss :  tensor(9.6389e-06, device='cuda:0', grad_fn=<DivBackward0>)\n",
      "classification node loss :  tensor(0.0006, device='cuda:0', grad_fn=<DivBackward0>)\n",
      "total loss :  tensor(0.0006, device='cuda:0', grad_fn=<DivBackward0>)\n",
      "////////////////////////////////////\n",
      "***************************\n",
      "test : \n"
     ]
    },
    {
     "name": "stderr",
     "output_type": "stream",
     "text": [
      "Epoch 13: 100%|████████████████████████████| 243/243 [00:38<00:00,  6.24batch/s]\n"
     ]
    },
    {
     "name": "stdout",
     "output_type": "stream",
     "text": [
      "score: write test scores to /home/hassan-hossein/single_image_graph_face_anti_spoofing/train/Scores/epoch_13/score.txt\n",
      "epoch:13, test:  val_ACC=0.8742, HTER=0.1258, AUC=0.9308, val_err=0.1258, ACC=0.8742, TPR=0.4748\n"
     ]
    },
    {
     "name": "stderr",
     "output_type": "stream",
     "text": [
      "Epoch 14: 100%|██████████████████████████| 3448/3448 [08:32<00:00,  6.73batch/s]\n"
     ]
    },
    {
     "name": "stdout",
     "output_type": "stream",
     "text": [
      "/////////////////////////\n",
      "adverserial loss :  tensor(3.0796e-06, device='cuda:0', grad_fn=<DivBackward0>)\n",
      "classification loss :  tensor(8.5219e-06, device='cuda:0', grad_fn=<DivBackward0>)\n",
      "classification node loss :  tensor(0.0006, device='cuda:0', grad_fn=<DivBackward0>)\n",
      "total loss :  tensor(0.0006, device='cuda:0', grad_fn=<DivBackward0>)\n",
      "////////////////////////////////////\n",
      "***************************\n",
      "test : \n"
     ]
    },
    {
     "name": "stderr",
     "output_type": "stream",
     "text": [
      "Epoch 14: 100%|████████████████████████████| 243/243 [00:39<00:00,  6.22batch/s]\n"
     ]
    },
    {
     "name": "stdout",
     "output_type": "stream",
     "text": [
      "score: write test scores to /home/hassan-hossein/single_image_graph_face_anti_spoofing/train/Scores/epoch_14/score.txt\n",
      "epoch:14, test:  val_ACC=0.8958, HTER=0.1042, AUC=0.9495, val_err=0.1042, ACC=0.8958, TPR=0.6939\n",
      "improve acc .. .. ..\n"
     ]
    },
    {
     "name": "stderr",
     "output_type": "stream",
     "text": [
      "Epoch 15: 100%|██████████████████████████| 3448/3448 [08:31<00:00,  6.74batch/s]\n"
     ]
    },
    {
     "name": "stdout",
     "output_type": "stream",
     "text": [
      "/////////////////////////\n",
      "adverserial loss :  tensor(5.5911e-06, device='cuda:0', grad_fn=<DivBackward0>)\n",
      "classification loss :  tensor(7.1128e-06, device='cuda:0', grad_fn=<DivBackward0>)\n",
      "classification node loss :  tensor(0.0006, device='cuda:0', grad_fn=<DivBackward0>)\n",
      "total loss :  tensor(0.0006, device='cuda:0', grad_fn=<DivBackward0>)\n",
      "////////////////////////////////////\n",
      "***************************\n",
      "test : \n"
     ]
    },
    {
     "name": "stderr",
     "output_type": "stream",
     "text": [
      "Epoch 15: 100%|████████████████████████████| 243/243 [00:38<00:00,  6.24batch/s]\n"
     ]
    },
    {
     "name": "stdout",
     "output_type": "stream",
     "text": [
      "score: write test scores to /home/hassan-hossein/single_image_graph_face_anti_spoofing/train/Scores/epoch_15/score.txt\n",
      "epoch:15, test:  val_ACC=0.9030, HTER=0.0970, AUC=0.9474, val_err=0.0970, ACC=0.9030, TPR=0.7088\n"
     ]
    },
    {
     "name": "stderr",
     "output_type": "stream",
     "text": [
      "Epoch 16: 100%|██████████████████████████| 3448/3448 [08:33<00:00,  6.71batch/s]\n"
     ]
    },
    {
     "name": "stdout",
     "output_type": "stream",
     "text": [
      "/////////////////////////\n",
      "adverserial loss :  tensor(4.7801e-06, device='cuda:0', grad_fn=<DivBackward0>)\n",
      "classification loss :  tensor(6.9062e-06, device='cuda:0', grad_fn=<DivBackward0>)\n",
      "classification node loss :  tensor(0.0005, device='cuda:0', grad_fn=<DivBackward0>)\n",
      "total loss :  tensor(0.0005, device='cuda:0', grad_fn=<DivBackward0>)\n",
      "////////////////////////////////////\n",
      "***************************\n",
      "test : \n"
     ]
    },
    {
     "name": "stderr",
     "output_type": "stream",
     "text": [
      "Epoch 16: 100%|████████████████████████████| 243/243 [00:38<00:00,  6.28batch/s]\n"
     ]
    },
    {
     "name": "stdout",
     "output_type": "stream",
     "text": [
      "score: write test scores to /home/hassan-hossein/single_image_graph_face_anti_spoofing/train/Scores/epoch_16/score.txt\n",
      "epoch:16, test:  val_ACC=0.8608, HTER=0.1392, AUC=0.9053, val_err=0.1393, ACC=0.8608, TPR=0.1710\n"
     ]
    },
    {
     "name": "stderr",
     "output_type": "stream",
     "text": [
      "Epoch 17: 100%|██████████████████████████| 3448/3448 [08:33<00:00,  6.72batch/s]\n"
     ]
    },
    {
     "name": "stdout",
     "output_type": "stream",
     "text": [
      "/////////////////////////\n",
      "adverserial loss :  tensor(2.1979e-06, device='cuda:0', grad_fn=<DivBackward0>)\n",
      "classification loss :  tensor(8.9809e-06, device='cuda:0', grad_fn=<DivBackward0>)\n",
      "classification node loss :  tensor(0.0005, device='cuda:0', grad_fn=<DivBackward0>)\n",
      "total loss :  tensor(0.0005, device='cuda:0', grad_fn=<DivBackward0>)\n",
      "////////////////////////////////////\n",
      "***************************\n",
      "test : \n"
     ]
    },
    {
     "name": "stderr",
     "output_type": "stream",
     "text": [
      "Epoch 17: 100%|████████████████████████████| 243/243 [00:38<00:00,  6.28batch/s]\n"
     ]
    },
    {
     "name": "stdout",
     "output_type": "stream",
     "text": [
      "score: write test scores to /home/hassan-hossein/single_image_graph_face_anti_spoofing/train/Scores/epoch_17/score.txt\n",
      "epoch:17, test:  val_ACC=0.8680, HTER=0.1320, AUC=0.9188, val_err=0.1320, ACC=0.8680, TPR=0.3621\n"
     ]
    },
    {
     "name": "stderr",
     "output_type": "stream",
     "text": [
      "Epoch 18: 100%|██████████████████████████| 3448/3448 [08:33<00:00,  6.71batch/s]\n"
     ]
    },
    {
     "name": "stdout",
     "output_type": "stream",
     "text": [
      "/////////////////////////\n",
      "adverserial loss :  tensor(2.1577e-06, device='cuda:0', grad_fn=<DivBackward0>)\n",
      "classification loss :  tensor(8.0946e-06, device='cuda:0', grad_fn=<DivBackward0>)\n",
      "classification node loss :  tensor(0.0004, device='cuda:0', grad_fn=<DivBackward0>)\n",
      "total loss :  tensor(0.0004, device='cuda:0', grad_fn=<DivBackward0>)\n",
      "////////////////////////////////////\n",
      "***************************\n",
      "test : \n"
     ]
    },
    {
     "name": "stderr",
     "output_type": "stream",
     "text": [
      "Epoch 18: 100%|████████████████████████████| 243/243 [00:39<00:00,  6.08batch/s]\n"
     ]
    },
    {
     "name": "stdout",
     "output_type": "stream",
     "text": [
      "score: write test scores to /home/hassan-hossein/single_image_graph_face_anti_spoofing/train/Scores/epoch_18/score.txt\n",
      "epoch:18, test:  val_ACC=0.8893, HTER=0.1108, AUC=0.9518, val_err=0.1108, ACC=0.8893, TPR=0.7163\n",
      "improve acc .. .. ..\n"
     ]
    },
    {
     "name": "stderr",
     "output_type": "stream",
     "text": [
      "Epoch 19: 100%|██████████████████████████| 3448/3448 [08:32<00:00,  6.73batch/s]\n"
     ]
    },
    {
     "name": "stdout",
     "output_type": "stream",
     "text": [
      "/////////////////////////\n",
      "adverserial loss :  tensor(2.3552e-06, device='cuda:0', grad_fn=<DivBackward0>)\n",
      "classification loss :  tensor(6.7324e-06, device='cuda:0', grad_fn=<DivBackward0>)\n",
      "classification node loss :  tensor(0.0004, device='cuda:0', grad_fn=<DivBackward0>)\n",
      "total loss :  tensor(0.0004, device='cuda:0', grad_fn=<DivBackward0>)\n",
      "////////////////////////////////////\n",
      "***************************\n",
      "test : \n"
     ]
    },
    {
     "name": "stderr",
     "output_type": "stream",
     "text": [
      "Epoch 19: 100%|████████████████████████████| 243/243 [00:38<00:00,  6.36batch/s]\n"
     ]
    },
    {
     "name": "stdout",
     "output_type": "stream",
     "text": [
      "score: write test scores to /home/hassan-hossein/single_image_graph_face_anti_spoofing/train/Scores/epoch_19/score.txt\n",
      "epoch:19, test:  val_ACC=0.8881, HTER=0.1119, AUC=0.9425, val_err=0.1119, ACC=0.8881, TPR=0.6824\n"
     ]
    },
    {
     "name": "stderr",
     "output_type": "stream",
     "text": [
      "Epoch 20: 100%|██████████████████████████| 3448/3448 [08:32<00:00,  6.73batch/s]\n"
     ]
    },
    {
     "name": "stdout",
     "output_type": "stream",
     "text": [
      "/////////////////////////\n",
      "adverserial loss :  tensor(4.8436e-06, device='cuda:0', grad_fn=<DivBackward0>)\n",
      "classification loss :  tensor(5.3490e-06, device='cuda:0', grad_fn=<DivBackward0>)\n",
      "classification node loss :  tensor(0.0004, device='cuda:0', grad_fn=<DivBackward0>)\n",
      "total loss :  tensor(0.0004, device='cuda:0', grad_fn=<DivBackward0>)\n",
      "////////////////////////////////////\n",
      "***************************\n",
      "test : \n"
     ]
    },
    {
     "name": "stderr",
     "output_type": "stream",
     "text": [
      "Epoch 20: 100%|████████████████████████████| 243/243 [00:41<00:00,  5.90batch/s]\n"
     ]
    },
    {
     "name": "stdout",
     "output_type": "stream",
     "text": [
      "score: write test scores to /home/hassan-hossein/single_image_graph_face_anti_spoofing/train/Scores/epoch_20/score.txt\n",
      "epoch:20, test:  val_ACC=0.8903, HTER=0.1096, AUC=0.9409, val_err=0.1097, ACC=0.8903, TPR=0.6181\n"
     ]
    },
    {
     "name": "stderr",
     "output_type": "stream",
     "text": [
      "Epoch 21: 100%|██████████████████████████| 3448/3448 [08:32<00:00,  6.73batch/s]\n"
     ]
    },
    {
     "name": "stdout",
     "output_type": "stream",
     "text": [
      "/////////////////////////\n",
      "adverserial loss :  tensor(1.5590e-06, device='cuda:0', grad_fn=<DivBackward0>)\n",
      "classification loss :  tensor(6.7509e-06, device='cuda:0', grad_fn=<DivBackward0>)\n",
      "classification node loss :  tensor(0.0004, device='cuda:0', grad_fn=<DivBackward0>)\n",
      "total loss :  tensor(0.0004, device='cuda:0', grad_fn=<DivBackward0>)\n",
      "////////////////////////////////////\n",
      "***************************\n",
      "test : \n"
     ]
    },
    {
     "name": "stderr",
     "output_type": "stream",
     "text": [
      "Epoch 21: 100%|████████████████████████████| 243/243 [00:39<00:00,  6.20batch/s]\n"
     ]
    },
    {
     "name": "stdout",
     "output_type": "stream",
     "text": [
      "score: write test scores to /home/hassan-hossein/single_image_graph_face_anti_spoofing/train/Scores/epoch_21/score.txt\n",
      "epoch:21, test:  val_ACC=0.8716, HTER=0.1284, AUC=0.9452, val_err=0.1285, ACC=0.8716, TPR=0.7212\n"
     ]
    },
    {
     "name": "stderr",
     "output_type": "stream",
     "text": [
      "Epoch 22: 100%|██████████████████████████| 3448/3448 [08:32<00:00,  6.73batch/s]\n"
     ]
    },
    {
     "name": "stdout",
     "output_type": "stream",
     "text": [
      "/////////////////////////\n",
      "adverserial loss :  tensor(2.0483e-06, device='cuda:0', grad_fn=<DivBackward0>)\n",
      "classification loss :  tensor(5.6146e-06, device='cuda:0', grad_fn=<DivBackward0>)\n",
      "classification node loss :  tensor(0.0003, device='cuda:0', grad_fn=<DivBackward0>)\n",
      "total loss :  tensor(0.0004, device='cuda:0', grad_fn=<DivBackward0>)\n",
      "////////////////////////////////////\n",
      "***************************\n",
      "test : \n"
     ]
    },
    {
     "name": "stderr",
     "output_type": "stream",
     "text": [
      "Epoch 22: 100%|████████████████████████████| 243/243 [00:39<00:00,  6.16batch/s]\n"
     ]
    },
    {
     "name": "stdout",
     "output_type": "stream",
     "text": [
      "score: write test scores to /home/hassan-hossein/single_image_graph_face_anti_spoofing/train/Scores/epoch_22/score.txt\n",
      "epoch:22, test:  val_ACC=0.8876, HTER=0.1124, AUC=0.9502, val_err=0.1123, ACC=0.8876, TPR=0.6317\n"
     ]
    },
    {
     "name": "stderr",
     "output_type": "stream",
     "text": [
      "Epoch 23: 100%|██████████████████████████| 3448/3448 [08:32<00:00,  6.73batch/s]\n"
     ]
    },
    {
     "name": "stdout",
     "output_type": "stream",
     "text": [
      "/////////////////////////\n",
      "adverserial loss :  tensor(1.6443e-06, device='cuda:0', grad_fn=<DivBackward0>)\n",
      "classification loss :  tensor(5.7314e-06, device='cuda:0', grad_fn=<DivBackward0>)\n",
      "classification node loss :  tensor(0.0003, device='cuda:0', grad_fn=<DivBackward0>)\n",
      "total loss :  tensor(0.0003, device='cuda:0', grad_fn=<DivBackward0>)\n",
      "////////////////////////////////////\n",
      "***************************\n",
      "test : \n"
     ]
    },
    {
     "name": "stderr",
     "output_type": "stream",
     "text": [
      "Epoch 23: 100%|████████████████████████████| 243/243 [00:38<00:00,  6.24batch/s]\n"
     ]
    },
    {
     "name": "stdout",
     "output_type": "stream",
     "text": [
      "score: write test scores to /home/hassan-hossein/single_image_graph_face_anti_spoofing/train/Scores/epoch_23/score.txt\n",
      "epoch:23, test:  val_ACC=0.8939, HTER=0.1060, AUC=0.9570, val_err=0.1061, ACC=0.8939, TPR=0.7767\n",
      "improve acc .. .. ..\n"
     ]
    },
    {
     "name": "stderr",
     "output_type": "stream",
     "text": [
      "Epoch 24: 100%|██████████████████████████| 3448/3448 [08:33<00:00,  6.72batch/s]\n"
     ]
    },
    {
     "name": "stdout",
     "output_type": "stream",
     "text": [
      "/////////////////////////\n",
      "adverserial loss :  tensor(3.3854e-06, device='cuda:0', grad_fn=<DivBackward0>)\n",
      "classification loss :  tensor(6.2556e-06, device='cuda:0', grad_fn=<DivBackward0>)\n",
      "classification node loss :  tensor(0.0003, device='cuda:0', grad_fn=<DivBackward0>)\n",
      "total loss :  tensor(0.0003, device='cuda:0', grad_fn=<DivBackward0>)\n",
      "////////////////////////////////////\n",
      "***************************\n",
      "test : \n"
     ]
    },
    {
     "name": "stderr",
     "output_type": "stream",
     "text": [
      "Epoch 24: 100%|████████████████████████████| 243/243 [00:39<00:00,  6.17batch/s]\n"
     ]
    },
    {
     "name": "stdout",
     "output_type": "stream",
     "text": [
      "score: write test scores to /home/hassan-hossein/single_image_graph_face_anti_spoofing/train/Scores/epoch_24/score.txt\n",
      "epoch:24, test:  val_ACC=0.8700, HTER=0.1301, AUC=0.9084, val_err=0.1301, ACC=0.8700, TPR=0.4465\n"
     ]
    },
    {
     "name": "stderr",
     "output_type": "stream",
     "text": [
      "Epoch 25: 100%|██████████████████████████| 3448/3448 [08:33<00:00,  6.71batch/s]\n"
     ]
    },
    {
     "name": "stdout",
     "output_type": "stream",
     "text": [
      "/////////////////////////\n",
      "adverserial loss :  tensor(2.3678e-06, device='cuda:0', grad_fn=<DivBackward0>)\n",
      "classification loss :  tensor(4.6048e-06, device='cuda:0', grad_fn=<DivBackward0>)\n",
      "classification node loss :  tensor(0.0003, device='cuda:0', grad_fn=<DivBackward0>)\n",
      "total loss :  tensor(0.0003, device='cuda:0', grad_fn=<DivBackward0>)\n",
      "////////////////////////////////////\n",
      "***************************\n",
      "test : \n"
     ]
    },
    {
     "name": "stderr",
     "output_type": "stream",
     "text": [
      "Epoch 25: 100%|████████████████████████████| 243/243 [00:38<00:00,  6.27batch/s]\n"
     ]
    },
    {
     "name": "stdout",
     "output_type": "stream",
     "text": [
      "score: write test scores to /home/hassan-hossein/single_image_graph_face_anti_spoofing/train/Scores/epoch_25/score.txt\n",
      "epoch:25, test:  val_ACC=0.8703, HTER=0.1297, AUC=0.9341, val_err=0.1297, ACC=0.8703, TPR=0.6019\n"
     ]
    },
    {
     "name": "stderr",
     "output_type": "stream",
     "text": [
      "Epoch 26: 100%|██████████████████████████| 3448/3448 [08:33<00:00,  6.71batch/s]\n"
     ]
    },
    {
     "name": "stdout",
     "output_type": "stream",
     "text": [
      "/////////////////////////\n",
      "adverserial loss :  tensor(1.7383e-06, device='cuda:0', grad_fn=<DivBackward0>)\n",
      "classification loss :  tensor(4.9646e-06, device='cuda:0', grad_fn=<DivBackward0>)\n",
      "classification node loss :  tensor(0.0003, device='cuda:0', grad_fn=<DivBackward0>)\n",
      "total loss :  tensor(0.0003, device='cuda:0', grad_fn=<DivBackward0>)\n",
      "////////////////////////////////////\n",
      "***************************\n",
      "test : \n"
     ]
    },
    {
     "name": "stderr",
     "output_type": "stream",
     "text": [
      "Epoch 26: 100%|████████████████████████████| 243/243 [00:39<00:00,  6.19batch/s]\n"
     ]
    },
    {
     "name": "stdout",
     "output_type": "stream",
     "text": [
      "score: write test scores to /home/hassan-hossein/single_image_graph_face_anti_spoofing/train/Scores/epoch_26/score.txt\n",
      "epoch:26, test:  val_ACC=0.8754, HTER=0.1245, AUC=0.9086, val_err=0.1246, ACC=0.8754, TPR=0.2243\n"
     ]
    },
    {
     "name": "stderr",
     "output_type": "stream",
     "text": [
      "Epoch 27: 100%|██████████████████████████| 3448/3448 [08:33<00:00,  6.72batch/s]\n"
     ]
    },
    {
     "name": "stdout",
     "output_type": "stream",
     "text": [
      "/////////////////////////\n",
      "adverserial loss :  tensor(2.6226e-06, device='cuda:0', grad_fn=<DivBackward0>)\n",
      "classification loss :  tensor(4.4385e-06, device='cuda:0', grad_fn=<DivBackward0>)\n",
      "classification node loss :  tensor(0.0003, device='cuda:0', grad_fn=<DivBackward0>)\n",
      "total loss :  tensor(0.0003, device='cuda:0', grad_fn=<DivBackward0>)\n",
      "////////////////////////////////////\n",
      "***************************\n",
      "test : \n"
     ]
    },
    {
     "name": "stderr",
     "output_type": "stream",
     "text": [
      "Epoch 27: 100%|████████████████████████████| 243/243 [00:38<00:00,  6.28batch/s]\n"
     ]
    },
    {
     "name": "stdout",
     "output_type": "stream",
     "text": [
      "score: write test scores to /home/hassan-hossein/single_image_graph_face_anti_spoofing/train/Scores/epoch_27/score.txt\n",
      "epoch:27, test:  val_ACC=0.8933, HTER=0.1068, AUC=0.9337, val_err=0.1068, ACC=0.8933, TPR=0.6903\n"
     ]
    },
    {
     "name": "stderr",
     "output_type": "stream",
     "text": [
      "Epoch 28: 100%|██████████████████████████| 3448/3448 [08:32<00:00,  6.73batch/s]\n"
     ]
    },
    {
     "name": "stdout",
     "output_type": "stream",
     "text": [
      "/////////////////////////\n",
      "adverserial loss :  tensor(1.3421e-06, device='cuda:0', grad_fn=<DivBackward0>)\n",
      "classification loss :  tensor(4.4547e-06, device='cuda:0', grad_fn=<DivBackward0>)\n",
      "classification node loss :  tensor(0.0003, device='cuda:0', grad_fn=<DivBackward0>)\n",
      "total loss :  tensor(0.0003, device='cuda:0', grad_fn=<DivBackward0>)\n",
      "////////////////////////////////////\n",
      "***************************\n",
      "test : \n"
     ]
    },
    {
     "name": "stderr",
     "output_type": "stream",
     "text": [
      "Epoch 28: 100%|████████████████████████████| 243/243 [00:38<00:00,  6.27batch/s]\n"
     ]
    },
    {
     "name": "stdout",
     "output_type": "stream",
     "text": [
      "score: write test scores to /home/hassan-hossein/single_image_graph_face_anti_spoofing/train/Scores/epoch_28/score.txt\n",
      "epoch:28, test:  val_ACC=0.8560, HTER=0.1441, AUC=0.9076, val_err=0.1441, ACC=0.8560, TPR=0.5141\n"
     ]
    },
    {
     "name": "stderr",
     "output_type": "stream",
     "text": [
      "Epoch 29: 100%|██████████████████████████| 3448/3448 [08:33<00:00,  6.72batch/s]\n"
     ]
    },
    {
     "name": "stdout",
     "output_type": "stream",
     "text": [
      "/////////////////////////\n",
      "adverserial loss :  tensor(3.1190e-06, device='cuda:0', grad_fn=<DivBackward0>)\n",
      "classification loss :  tensor(3.4349e-06, device='cuda:0', grad_fn=<DivBackward0>)\n",
      "classification node loss :  tensor(0.0003, device='cuda:0', grad_fn=<DivBackward0>)\n",
      "total loss :  tensor(0.0003, device='cuda:0', grad_fn=<DivBackward0>)\n",
      "////////////////////////////////////\n",
      "***************************\n",
      "test : \n"
     ]
    },
    {
     "name": "stderr",
     "output_type": "stream",
     "text": [
      "Epoch 29: 100%|████████████████████████████| 243/243 [00:38<00:00,  6.27batch/s]\n"
     ]
    },
    {
     "name": "stdout",
     "output_type": "stream",
     "text": [
      "score: write test scores to /home/hassan-hossein/single_image_graph_face_anti_spoofing/train/Scores/epoch_29/score.txt\n",
      "epoch:29, test:  val_ACC=0.8795, HTER=0.1204, AUC=0.9386, val_err=0.1205, ACC=0.8795, TPR=0.5903\n"
     ]
    },
    {
     "name": "stderr",
     "output_type": "stream",
     "text": [
      "Epoch 30: 100%|██████████████████████████| 3448/3448 [08:34<00:00,  6.71batch/s]\n"
     ]
    },
    {
     "name": "stdout",
     "output_type": "stream",
     "text": [
      "/////////////////////////\n",
      "adverserial loss :  tensor(9.3284e-07, device='cuda:0', grad_fn=<DivBackward0>)\n",
      "classification loss :  tensor(4.6783e-06, device='cuda:0', grad_fn=<DivBackward0>)\n",
      "classification node loss :  tensor(0.0003, device='cuda:0', grad_fn=<DivBackward0>)\n",
      "total loss :  tensor(0.0003, device='cuda:0', grad_fn=<DivBackward0>)\n",
      "////////////////////////////////////\n",
      "***************************\n",
      "test : \n"
     ]
    },
    {
     "name": "stderr",
     "output_type": "stream",
     "text": [
      "Epoch 30: 100%|████████████████████████████| 243/243 [00:39<00:00,  6.22batch/s]\n"
     ]
    },
    {
     "name": "stdout",
     "output_type": "stream",
     "text": [
      "score: write test scores to /home/hassan-hossein/single_image_graph_face_anti_spoofing/train/Scores/epoch_30/score.txt\n",
      "epoch:30, test:  val_ACC=0.8717, HTER=0.1284, AUC=0.9116, val_err=0.1284, ACC=0.8717, TPR=0.0910\n"
     ]
    },
    {
     "name": "stderr",
     "output_type": "stream",
     "text": [
      "Epoch 31: 100%|██████████████████████████| 3448/3448 [08:31<00:00,  6.74batch/s]\n"
     ]
    },
    {
     "name": "stdout",
     "output_type": "stream",
     "text": [
      "/////////////////////////\n",
      "adverserial loss :  tensor(1.7827e-06, device='cuda:0', grad_fn=<DivBackward0>)\n",
      "classification loss :  tensor(3.0919e-06, device='cuda:0', grad_fn=<DivBackward0>)\n",
      "classification node loss :  tensor(0.0002, device='cuda:0', grad_fn=<DivBackward0>)\n",
      "total loss :  tensor(0.0003, device='cuda:0', grad_fn=<DivBackward0>)\n",
      "////////////////////////////////////\n",
      "***************************\n",
      "test : \n"
     ]
    },
    {
     "name": "stderr",
     "output_type": "stream",
     "text": [
      "Epoch 31: 100%|████████████████████████████| 243/243 [00:38<00:00,  6.23batch/s]\n"
     ]
    },
    {
     "name": "stdout",
     "output_type": "stream",
     "text": [
      "score: write test scores to /home/hassan-hossein/single_image_graph_face_anti_spoofing/train/Scores/epoch_31/score.txt\n",
      "epoch:31, test:  val_ACC=0.8709, HTER=0.1291, AUC=0.9014, val_err=0.1291, ACC=0.8709, TPR=0.1224\n"
     ]
    },
    {
     "name": "stderr",
     "output_type": "stream",
     "text": [
      "Epoch 32: 100%|██████████████████████████| 3448/3448 [08:34<00:00,  6.71batch/s]\n"
     ]
    },
    {
     "name": "stdout",
     "output_type": "stream",
     "text": [
      "/////////////////////////\n",
      "adverserial loss :  tensor(1.4455e-06, device='cuda:0', grad_fn=<DivBackward0>)\n",
      "classification loss :  tensor(3.2125e-06, device='cuda:0', grad_fn=<DivBackward0>)\n",
      "classification node loss :  tensor(0.0002, device='cuda:0', grad_fn=<DivBackward0>)\n",
      "total loss :  tensor(0.0002, device='cuda:0', grad_fn=<DivBackward0>)\n",
      "////////////////////////////////////\n",
      "***************************\n",
      "test : \n"
     ]
    },
    {
     "name": "stderr",
     "output_type": "stream",
     "text": [
      "Epoch 32: 100%|████████████████████████████| 243/243 [00:38<00:00,  6.25batch/s]\n"
     ]
    },
    {
     "name": "stdout",
     "output_type": "stream",
     "text": [
      "score: write test scores to /home/hassan-hossein/single_image_graph_face_anti_spoofing/train/Scores/epoch_32/score.txt\n",
      "epoch:32, test:  val_ACC=0.8835, HTER=0.1165, AUC=0.9305, val_err=0.1165, ACC=0.8835, TPR=0.5610\n"
     ]
    },
    {
     "name": "stderr",
     "output_type": "stream",
     "text": [
      "Epoch 33: 100%|██████████████████████████| 3448/3448 [08:35<00:00,  6.68batch/s]\n"
     ]
    },
    {
     "name": "stdout",
     "output_type": "stream",
     "text": [
      "/////////////////////////\n",
      "adverserial loss :  tensor(1.9862e-06, device='cuda:0', grad_fn=<DivBackward0>)\n",
      "classification loss :  tensor(3.3393e-06, device='cuda:0', grad_fn=<DivBackward0>)\n",
      "classification node loss :  tensor(0.0002, device='cuda:0', grad_fn=<DivBackward0>)\n",
      "total loss :  tensor(0.0002, device='cuda:0', grad_fn=<DivBackward0>)\n",
      "////////////////////////////////////\n",
      "***************************\n",
      "test : \n"
     ]
    },
    {
     "name": "stderr",
     "output_type": "stream",
     "text": [
      "Epoch 33: 100%|████████████████████████████| 243/243 [00:38<00:00,  6.28batch/s]\n"
     ]
    },
    {
     "name": "stdout",
     "output_type": "stream",
     "text": [
      "score: write test scores to /home/hassan-hossein/single_image_graph_face_anti_spoofing/train/Scores/epoch_33/score.txt\n",
      "epoch:33, test:  val_ACC=0.8747, HTER=0.1253, AUC=0.9088, val_err=0.1254, ACC=0.8747, TPR=0.2963\n"
     ]
    },
    {
     "name": "stderr",
     "output_type": "stream",
     "text": [
      "Epoch 34: 100%|██████████████████████████| 3448/3448 [08:33<00:00,  6.72batch/s]\n"
     ]
    },
    {
     "name": "stdout",
     "output_type": "stream",
     "text": [
      "/////////////////////////\n",
      "adverserial loss :  tensor(2.2121e-06, device='cuda:0', grad_fn=<DivBackward0>)\n",
      "classification loss :  tensor(4.6548e-06, device='cuda:0', grad_fn=<DivBackward0>)\n",
      "classification node loss :  tensor(0.0002, device='cuda:0', grad_fn=<DivBackward0>)\n",
      "total loss :  tensor(0.0002, device='cuda:0', grad_fn=<DivBackward0>)\n",
      "////////////////////////////////////\n",
      "***************************\n",
      "test : \n"
     ]
    },
    {
     "name": "stderr",
     "output_type": "stream",
     "text": [
      "Epoch 34: 100%|████████████████████████████| 243/243 [00:39<00:00,  6.21batch/s]\n"
     ]
    },
    {
     "name": "stdout",
     "output_type": "stream",
     "text": [
      "score: write test scores to /home/hassan-hossein/single_image_graph_face_anti_spoofing/train/Scores/epoch_34/score.txt\n",
      "epoch:34, test:  val_ACC=0.8477, HTER=0.1523, AUC=0.8998, val_err=0.1523, ACC=0.8477, TPR=0.1723\n"
     ]
    },
    {
     "name": "stderr",
     "output_type": "stream",
     "text": [
      "Epoch 35: 100%|██████████████████████████| 3448/3448 [08:33<00:00,  6.71batch/s]\n"
     ]
    },
    {
     "name": "stdout",
     "output_type": "stream",
     "text": [
      "/////////////////////////\n",
      "adverserial loss :  tensor(9.6162e-08, device='cuda:0', grad_fn=<DivBackward0>)\n",
      "classification loss :  tensor(3.8214e-06, device='cuda:0', grad_fn=<DivBackward0>)\n",
      "classification node loss :  tensor(0.0002, device='cuda:0', grad_fn=<DivBackward0>)\n",
      "total loss :  tensor(0.0002, device='cuda:0', grad_fn=<DivBackward0>)\n",
      "////////////////////////////////////\n",
      "***************************\n",
      "test : \n"
     ]
    },
    {
     "name": "stderr",
     "output_type": "stream",
     "text": [
      "Epoch 35: 100%|████████████████████████████| 243/243 [00:38<00:00,  6.28batch/s]\n"
     ]
    },
    {
     "name": "stdout",
     "output_type": "stream",
     "text": [
      "score: write test scores to /home/hassan-hossein/single_image_graph_face_anti_spoofing/train/Scores/epoch_35/score.txt\n",
      "epoch:35, test:  val_ACC=0.8732, HTER=0.1268, AUC=0.9314, val_err=0.1268, ACC=0.8732, TPR=0.5329\n"
     ]
    },
    {
     "name": "stderr",
     "output_type": "stream",
     "text": [
      "Epoch 36: 100%|██████████████████████████| 3448/3448 [08:32<00:00,  6.73batch/s]\n"
     ]
    },
    {
     "name": "stdout",
     "output_type": "stream",
     "text": [
      "/////////////////////////\n",
      "adverserial loss :  tensor(2.9211e-06, device='cuda:0', grad_fn=<DivBackward0>)\n",
      "classification loss :  tensor(4.1039e-06, device='cuda:0', grad_fn=<DivBackward0>)\n",
      "classification node loss :  tensor(0.0002, device='cuda:0', grad_fn=<DivBackward0>)\n",
      "total loss :  tensor(0.0002, device='cuda:0', grad_fn=<DivBackward0>)\n",
      "////////////////////////////////////\n",
      "***************************\n",
      "test : \n"
     ]
    },
    {
     "name": "stderr",
     "output_type": "stream",
     "text": [
      "Epoch 36: 100%|████████████████████████████| 243/243 [00:38<00:00,  6.23batch/s]\n"
     ]
    },
    {
     "name": "stdout",
     "output_type": "stream",
     "text": [
      "score: write test scores to /home/hassan-hossein/single_image_graph_face_anti_spoofing/train/Scores/epoch_36/score.txt\n",
      "epoch:36, test:  val_ACC=0.8485, HTER=0.1515, AUC=0.9163, val_err=0.1515, ACC=0.8485, TPR=0.3480\n"
     ]
    },
    {
     "name": "stderr",
     "output_type": "stream",
     "text": [
      "Epoch 37: 100%|██████████████████████████| 3448/3448 [08:32<00:00,  6.73batch/s]\n"
     ]
    },
    {
     "name": "stdout",
     "output_type": "stream",
     "text": [
      "/////////////////////////\n",
      "adverserial loss :  tensor(3.8701e-07, device='cuda:0', grad_fn=<DivBackward0>)\n",
      "classification loss :  tensor(4.3765e-06, device='cuda:0', grad_fn=<DivBackward0>)\n",
      "classification node loss :  tensor(0.0002, device='cuda:0', grad_fn=<DivBackward0>)\n",
      "total loss :  tensor(0.0002, device='cuda:0', grad_fn=<DivBackward0>)\n",
      "////////////////////////////////////\n",
      "***************************\n",
      "test : \n"
     ]
    },
    {
     "name": "stderr",
     "output_type": "stream",
     "text": [
      "Epoch 37: 100%|████████████████████████████| 243/243 [00:39<00:00,  6.16batch/s]\n"
     ]
    },
    {
     "name": "stdout",
     "output_type": "stream",
     "text": [
      "score: write test scores to /home/hassan-hossein/single_image_graph_face_anti_spoofing/train/Scores/epoch_37/score.txt\n",
      "epoch:37, test:  val_ACC=0.8787, HTER=0.1214, AUC=0.9255, val_err=0.1213, ACC=0.8787, TPR=0.3483\n"
     ]
    },
    {
     "name": "stderr",
     "output_type": "stream",
     "text": [
      "Epoch 38: 100%|██████████████████████████| 3448/3448 [08:32<00:00,  6.73batch/s]\n"
     ]
    },
    {
     "name": "stdout",
     "output_type": "stream",
     "text": [
      "/////////////////////////\n",
      "adverserial loss :  tensor(2.6391e-06, device='cuda:0', grad_fn=<DivBackward0>)\n",
      "classification loss :  tensor(3.6535e-06, device='cuda:0', grad_fn=<DivBackward0>)\n",
      "classification node loss :  tensor(0.0002, device='cuda:0', grad_fn=<DivBackward0>)\n",
      "total loss :  tensor(0.0002, device='cuda:0', grad_fn=<DivBackward0>)\n",
      "////////////////////////////////////\n",
      "***************************\n",
      "test : \n"
     ]
    },
    {
     "name": "stderr",
     "output_type": "stream",
     "text": [
      "Epoch 38: 100%|████████████████████████████| 243/243 [00:38<00:00,  6.34batch/s]\n"
     ]
    },
    {
     "name": "stdout",
     "output_type": "stream",
     "text": [
      "score: write test scores to /home/hassan-hossein/single_image_graph_face_anti_spoofing/train/Scores/epoch_38/score.txt\n",
      "epoch:38, test:  val_ACC=0.9033, HTER=0.0967, AUC=0.9511, val_err=0.0967, ACC=0.9033, TPR=0.7639\n"
     ]
    },
    {
     "name": "stderr",
     "output_type": "stream",
     "text": [
      "Epoch 39: 100%|██████████████████████████| 3448/3448 [08:33<00:00,  6.71batch/s]\n"
     ]
    },
    {
     "name": "stdout",
     "output_type": "stream",
     "text": [
      "/////////////////////////\n",
      "adverserial loss :  tensor(5.3364e-07, device='cuda:0', grad_fn=<DivBackward0>)\n",
      "classification loss :  tensor(4.5758e-06, device='cuda:0', grad_fn=<DivBackward0>)\n",
      "classification node loss :  tensor(0.0002, device='cuda:0', grad_fn=<DivBackward0>)\n",
      "total loss :  tensor(0.0002, device='cuda:0', grad_fn=<DivBackward0>)\n",
      "////////////////////////////////////\n",
      "***************************\n",
      "test : \n"
     ]
    },
    {
     "name": "stderr",
     "output_type": "stream",
     "text": [
      "Epoch 39: 100%|████████████████████████████| 243/243 [00:39<00:00,  6.22batch/s]\n"
     ]
    },
    {
     "name": "stdout",
     "output_type": "stream",
     "text": [
      "score: write test scores to /home/hassan-hossein/single_image_graph_face_anti_spoofing/train/Scores/epoch_39/score.txt\n",
      "epoch:39, test:  val_ACC=0.8670, HTER=0.1330, AUC=0.9129, val_err=0.1330, ACC=0.8670, TPR=0.2822\n"
     ]
    },
    {
     "name": "stderr",
     "output_type": "stream",
     "text": [
      "Epoch 40: 100%|██████████████████████████| 3448/3448 [08:33<00:00,  6.72batch/s]\n"
     ]
    },
    {
     "name": "stdout",
     "output_type": "stream",
     "text": [
      "/////////////////////////\n",
      "adverserial loss :  tensor(2.0788e-06, device='cuda:0', grad_fn=<DivBackward0>)\n",
      "classification loss :  tensor(2.4872e-06, device='cuda:0', grad_fn=<DivBackward0>)\n",
      "classification node loss :  tensor(0.0002, device='cuda:0', grad_fn=<DivBackward0>)\n",
      "total loss :  tensor(0.0002, device='cuda:0', grad_fn=<DivBackward0>)\n",
      "////////////////////////////////////\n",
      "***************************\n",
      "test : \n"
     ]
    },
    {
     "name": "stderr",
     "output_type": "stream",
     "text": [
      "Epoch 40: 100%|████████████████████████████| 243/243 [00:39<00:00,  6.16batch/s]\n"
     ]
    },
    {
     "name": "stdout",
     "output_type": "stream",
     "text": [
      "score: write test scores to /home/hassan-hossein/single_image_graph_face_anti_spoofing/train/Scores/epoch_40/score.txt\n",
      "epoch:40, test:  val_ACC=0.8672, HTER=0.1328, AUC=0.9054, val_err=0.1328, ACC=0.8672, TPR=0.0926\n"
     ]
    },
    {
     "name": "stderr",
     "output_type": "stream",
     "text": [
      "Epoch 41: 100%|██████████████████████████| 3448/3448 [08:32<00:00,  6.73batch/s]\n"
     ]
    },
    {
     "name": "stdout",
     "output_type": "stream",
     "text": [
      "/////////////////////////\n",
      "adverserial loss :  tensor(1.0393e-06, device='cuda:0', grad_fn=<DivBackward0>)\n",
      "classification loss :  tensor(3.9680e-06, device='cuda:0', grad_fn=<DivBackward0>)\n",
      "classification node loss :  tensor(0.0002, device='cuda:0', grad_fn=<DivBackward0>)\n",
      "total loss :  tensor(0.0002, device='cuda:0', grad_fn=<DivBackward0>)\n",
      "////////////////////////////////////\n",
      "***************************\n",
      "test : \n"
     ]
    },
    {
     "name": "stderr",
     "output_type": "stream",
     "text": [
      "Epoch 41: 100%|████████████████████████████| 243/243 [00:38<00:00,  6.30batch/s]\n"
     ]
    },
    {
     "name": "stdout",
     "output_type": "stream",
     "text": [
      "score: write test scores to /home/hassan-hossein/single_image_graph_face_anti_spoofing/train/Scores/epoch_41/score.txt\n",
      "epoch:41, test:  val_ACC=0.8790, HTER=0.1209, AUC=0.9241, val_err=0.1210, ACC=0.8790, TPR=0.3483\n"
     ]
    },
    {
     "name": "stderr",
     "output_type": "stream",
     "text": [
      "Epoch 42: 100%|██████████████████████████| 3448/3448 [08:31<00:00,  6.74batch/s]\n"
     ]
    },
    {
     "name": "stdout",
     "output_type": "stream",
     "text": [
      "/////////////////////////\n",
      "adverserial loss :  tensor(1.1955e-06, device='cuda:0', grad_fn=<DivBackward0>)\n",
      "classification loss :  tensor(3.7396e-06, device='cuda:0', grad_fn=<DivBackward0>)\n",
      "classification node loss :  tensor(0.0002, device='cuda:0', grad_fn=<DivBackward0>)\n",
      "total loss :  tensor(0.0002, device='cuda:0', grad_fn=<DivBackward0>)\n",
      "////////////////////////////////////\n",
      "***************************\n",
      "test : \n"
     ]
    },
    {
     "name": "stderr",
     "output_type": "stream",
     "text": [
      "Epoch 42: 100%|████████████████████████████| 243/243 [00:38<00:00,  6.26batch/s]\n"
     ]
    },
    {
     "name": "stdout",
     "output_type": "stream",
     "text": [
      "score: write test scores to /home/hassan-hossein/single_image_graph_face_anti_spoofing/train/Scores/epoch_42/score.txt\n",
      "epoch:42, test:  val_ACC=0.8679, HTER=0.1322, AUC=0.9269, val_err=0.1321, ACC=0.8679, TPR=0.3935\n"
     ]
    },
    {
     "name": "stderr",
     "output_type": "stream",
     "text": [
      "Epoch 43: 100%|██████████████████████████| 3448/3448 [08:32<00:00,  6.73batch/s]\n"
     ]
    },
    {
     "name": "stdout",
     "output_type": "stream",
     "text": [
      "/////////////////////////\n",
      "adverserial loss :  tensor(1.1841e-07, device='cuda:0', grad_fn=<DivBackward0>)\n",
      "classification loss :  tensor(2.9031e-06, device='cuda:0', grad_fn=<DivBackward0>)\n",
      "classification node loss :  tensor(0.0002, device='cuda:0', grad_fn=<DivBackward0>)\n",
      "total loss :  tensor(0.0002, device='cuda:0', grad_fn=<DivBackward0>)\n",
      "////////////////////////////////////\n",
      "***************************\n",
      "test : \n"
     ]
    },
    {
     "name": "stderr",
     "output_type": "stream",
     "text": [
      "Epoch 43: 100%|████████████████████████████| 243/243 [00:38<00:00,  6.33batch/s]\n"
     ]
    },
    {
     "name": "stdout",
     "output_type": "stream",
     "text": [
      "score: write test scores to /home/hassan-hossein/single_image_graph_face_anti_spoofing/train/Scores/epoch_43/score.txt\n",
      "epoch:43, test:  val_ACC=0.8681, HTER=0.1320, AUC=0.9054, val_err=0.1320, ACC=0.8681, TPR=0.0959\n"
     ]
    },
    {
     "name": "stderr",
     "output_type": "stream",
     "text": [
      "Epoch 44: 100%|██████████████████████████| 3448/3448 [08:33<00:00,  6.72batch/s]\n"
     ]
    },
    {
     "name": "stdout",
     "output_type": "stream",
     "text": [
      "/////////////////////////\n",
      "adverserial loss :  tensor(2.5960e-06, device='cuda:0', grad_fn=<DivBackward0>)\n",
      "classification loss :  tensor(2.6739e-06, device='cuda:0', grad_fn=<DivBackward0>)\n",
      "classification node loss :  tensor(0.0002, device='cuda:0', grad_fn=<DivBackward0>)\n",
      "total loss :  tensor(0.0002, device='cuda:0', grad_fn=<DivBackward0>)\n",
      "////////////////////////////////////\n",
      "***************************\n",
      "test : \n"
     ]
    },
    {
     "name": "stderr",
     "output_type": "stream",
     "text": [
      "Epoch 44: 100%|████████████████████████████| 243/243 [00:38<00:00,  6.30batch/s]\n"
     ]
    },
    {
     "name": "stdout",
     "output_type": "stream",
     "text": [
      "score: write test scores to /home/hassan-hossein/single_image_graph_face_anti_spoofing/train/Scores/epoch_44/score.txt\n",
      "epoch:44, test:  val_ACC=0.8754, HTER=0.1247, AUC=0.9276, val_err=0.1247, ACC=0.8754, TPR=0.4452\n"
     ]
    },
    {
     "name": "stderr",
     "output_type": "stream",
     "text": [
      "Epoch 45: 100%|██████████████████████████| 3448/3448 [08:30<00:00,  6.75batch/s]\n"
     ]
    },
    {
     "name": "stdout",
     "output_type": "stream",
     "text": [
      "/////////////////////////\n",
      "adverserial loss :  tensor(7.0853e-07, device='cuda:0', grad_fn=<DivBackward0>)\n",
      "classification loss :  tensor(3.2308e-06, device='cuda:0', grad_fn=<DivBackward0>)\n",
      "classification node loss :  tensor(0.0002, device='cuda:0', grad_fn=<DivBackward0>)\n",
      "total loss :  tensor(0.0002, device='cuda:0', grad_fn=<DivBackward0>)\n",
      "////////////////////////////////////\n",
      "***************************\n",
      "test : \n"
     ]
    },
    {
     "name": "stderr",
     "output_type": "stream",
     "text": [
      "Epoch 45: 100%|████████████████████████████| 243/243 [00:38<00:00,  6.39batch/s]\n"
     ]
    },
    {
     "name": "stdout",
     "output_type": "stream",
     "text": [
      "score: write test scores to /home/hassan-hossein/single_image_graph_face_anti_spoofing/train/Scores/epoch_45/score.txt\n",
      "epoch:45, test:  val_ACC=0.8482, HTER=0.1518, AUC=0.9010, val_err=0.1519, ACC=0.8482, TPR=0.1746\n"
     ]
    },
    {
     "name": "stderr",
     "output_type": "stream",
     "text": [
      "Epoch 46: 100%|██████████████████████████| 3448/3448 [08:31<00:00,  6.74batch/s]\n"
     ]
    },
    {
     "name": "stdout",
     "output_type": "stream",
     "text": [
      "/////////////////////////\n",
      "adverserial loss :  tensor(1.1459e-06, device='cuda:0', grad_fn=<DivBackward0>)\n",
      "classification loss :  tensor(3.2909e-06, device='cuda:0', grad_fn=<DivBackward0>)\n",
      "classification node loss :  tensor(0.0002, device='cuda:0', grad_fn=<DivBackward0>)\n",
      "total loss :  tensor(0.0002, device='cuda:0', grad_fn=<DivBackward0>)\n",
      "////////////////////////////////////\n",
      "***************************\n",
      "test : \n"
     ]
    },
    {
     "name": "stderr",
     "output_type": "stream",
     "text": [
      "Epoch 46: 100%|████████████████████████████| 243/243 [00:38<00:00,  6.27batch/s]\n"
     ]
    },
    {
     "name": "stdout",
     "output_type": "stream",
     "text": [
      "score: write test scores to /home/hassan-hossein/single_image_graph_face_anti_spoofing/train/Scores/epoch_46/score.txt\n",
      "epoch:46, test:  val_ACC=0.8698, HTER=0.1302, AUC=0.9148, val_err=0.1302, ACC=0.8698, TPR=0.2299\n"
     ]
    },
    {
     "name": "stderr",
     "output_type": "stream",
     "text": [
      "Epoch 47: 100%|██████████████████████████| 3448/3448 [08:31<00:00,  6.75batch/s]\n"
     ]
    },
    {
     "name": "stdout",
     "output_type": "stream",
     "text": [
      "/////////////////////////\n",
      "adverserial loss :  tensor(1.4894e-06, device='cuda:0', grad_fn=<DivBackward0>)\n",
      "classification loss :  tensor(3.1526e-06, device='cuda:0', grad_fn=<DivBackward0>)\n",
      "classification node loss :  tensor(0.0002, device='cuda:0', grad_fn=<DivBackward0>)\n",
      "total loss :  tensor(0.0002, device='cuda:0', grad_fn=<DivBackward0>)\n",
      "////////////////////////////////////\n",
      "***************************\n",
      "test : \n"
     ]
    },
    {
     "name": "stderr",
     "output_type": "stream",
     "text": [
      "Epoch 47: 100%|████████████████████████████| 243/243 [00:38<00:00,  6.28batch/s]\n"
     ]
    },
    {
     "name": "stdout",
     "output_type": "stream",
     "text": [
      "score: write test scores to /home/hassan-hossein/single_image_graph_face_anti_spoofing/train/Scores/epoch_47/score.txt\n",
      "epoch:47, test:  val_ACC=0.8934, HTER=0.1065, AUC=0.9518, val_err=0.1066, ACC=0.8934, TPR=0.6682\n"
     ]
    },
    {
     "name": "stderr",
     "output_type": "stream",
     "text": [
      "Epoch 48: 100%|██████████████████████████| 3448/3448 [08:32<00:00,  6.72batch/s]\n"
     ]
    },
    {
     "name": "stdout",
     "output_type": "stream",
     "text": [
      "/////////////////////////\n",
      "adverserial loss :  tensor(5.5268e-07, device='cuda:0', grad_fn=<DivBackward0>)\n",
      "classification loss :  tensor(3.0216e-06, device='cuda:0', grad_fn=<DivBackward0>)\n",
      "classification node loss :  tensor(0.0002, device='cuda:0', grad_fn=<DivBackward0>)\n",
      "total loss :  tensor(0.0002, device='cuda:0', grad_fn=<DivBackward0>)\n",
      "////////////////////////////////////\n",
      "***************************\n",
      "test : \n"
     ]
    },
    {
     "name": "stderr",
     "output_type": "stream",
     "text": [
      "Epoch 48: 100%|████████████████████████████| 243/243 [00:38<00:00,  6.33batch/s]\n"
     ]
    },
    {
     "name": "stdout",
     "output_type": "stream",
     "text": [
      "score: write test scores to /home/hassan-hossein/single_image_graph_face_anti_spoofing/train/Scores/epoch_48/score.txt\n",
      "epoch:48, test:  val_ACC=0.8826, HTER=0.1175, AUC=0.9196, val_err=0.1175, ACC=0.8826, TPR=0.3158\n"
     ]
    },
    {
     "name": "stderr",
     "output_type": "stream",
     "text": [
      "Epoch 49: 100%|██████████████████████████| 3448/3448 [08:32<00:00,  6.73batch/s]\n"
     ]
    },
    {
     "name": "stdout",
     "output_type": "stream",
     "text": [
      "/////////////////////////\n",
      "adverserial loss :  tensor(1.5049e-06, device='cuda:0', grad_fn=<DivBackward0>)\n",
      "classification loss :  tensor(2.5323e-06, device='cuda:0', grad_fn=<DivBackward0>)\n",
      "classification node loss :  tensor(0.0001, device='cuda:0', grad_fn=<DivBackward0>)\n",
      "total loss :  tensor(0.0001, device='cuda:0', grad_fn=<DivBackward0>)\n",
      "////////////////////////////////////\n",
      "***************************\n",
      "test : \n"
     ]
    },
    {
     "name": "stderr",
     "output_type": "stream",
     "text": [
      "Epoch 49: 100%|████████████████████████████| 243/243 [00:38<00:00,  6.29batch/s]\n"
     ]
    },
    {
     "name": "stdout",
     "output_type": "stream",
     "text": [
      "score: write test scores to /home/hassan-hossein/single_image_graph_face_anti_spoofing/train/Scores/epoch_49/score.txt\n",
      "epoch:49, test:  val_ACC=0.8990, HTER=0.1011, AUC=0.9458, val_err=0.1010, ACC=0.8990, TPR=0.7163\n"
     ]
    },
    {
     "name": "stderr",
     "output_type": "stream",
     "text": [
      "Epoch 50: 100%|██████████████████████████| 3448/3448 [08:32<00:00,  6.73batch/s]\n"
     ]
    },
    {
     "name": "stdout",
     "output_type": "stream",
     "text": [
      "/////////////////////////\n",
      "adverserial loss :  tensor(1.5427e-06, device='cuda:0', grad_fn=<DivBackward0>)\n",
      "classification loss :  tensor(2.3191e-06, device='cuda:0', grad_fn=<DivBackward0>)\n",
      "classification node loss :  tensor(0.0001, device='cuda:0', grad_fn=<DivBackward0>)\n",
      "total loss :  tensor(0.0001, device='cuda:0', grad_fn=<DivBackward0>)\n",
      "////////////////////////////////////\n",
      "***************************\n",
      "test : \n"
     ]
    },
    {
     "name": "stderr",
     "output_type": "stream",
     "text": [
      "Epoch 50: 100%|████████████████████████████| 243/243 [00:39<00:00,  6.22batch/s]\n"
     ]
    },
    {
     "name": "stdout",
     "output_type": "stream",
     "text": [
      "score: write test scores to /home/hassan-hossein/single_image_graph_face_anti_spoofing/train/Scores/epoch_50/score.txt\n",
      "epoch:50, test:  val_ACC=0.8902, HTER=0.1098, AUC=0.9460, val_err=0.1099, ACC=0.8902, TPR=0.6898\n"
     ]
    },
    {
     "name": "stderr",
     "output_type": "stream",
     "text": [
      "Epoch 51: 100%|██████████████████████████| 3448/3448 [08:30<00:00,  6.76batch/s]\n"
     ]
    },
    {
     "name": "stdout",
     "output_type": "stream",
     "text": [
      "/////////////////////////\n",
      "adverserial loss :  tensor(9.2270e-07, device='cuda:0', grad_fn=<DivBackward0>)\n",
      "classification loss :  tensor(2.5949e-06, device='cuda:0', grad_fn=<DivBackward0>)\n",
      "classification node loss :  tensor(0.0001, device='cuda:0', grad_fn=<DivBackward0>)\n",
      "total loss :  tensor(0.0001, device='cuda:0', grad_fn=<DivBackward0>)\n",
      "////////////////////////////////////\n",
      "***************************\n",
      "test : \n"
     ]
    },
    {
     "name": "stderr",
     "output_type": "stream",
     "text": [
      "Epoch 51: 100%|████████████████████████████| 243/243 [00:38<00:00,  6.27batch/s]\n"
     ]
    },
    {
     "name": "stdout",
     "output_type": "stream",
     "text": [
      "score: write test scores to /home/hassan-hossein/single_image_graph_face_anti_spoofing/train/Scores/epoch_51/score.txt\n",
      "epoch:51, test:  val_ACC=0.8574, HTER=0.1426, AUC=0.9117, val_err=0.1426, ACC=0.8574, TPR=0.3467\n"
     ]
    },
    {
     "name": "stderr",
     "output_type": "stream",
     "text": [
      "Epoch 52: 100%|██████████████████████████| 3448/3448 [08:31<00:00,  6.74batch/s]\n"
     ]
    },
    {
     "name": "stdout",
     "output_type": "stream",
     "text": [
      "/////////////////////////\n",
      "adverserial loss :  tensor(9.4921e-07, device='cuda:0', grad_fn=<DivBackward0>)\n",
      "classification loss :  tensor(2.6920e-06, device='cuda:0', grad_fn=<DivBackward0>)\n",
      "classification node loss :  tensor(0.0001, device='cuda:0', grad_fn=<DivBackward0>)\n",
      "total loss :  tensor(0.0001, device='cuda:0', grad_fn=<DivBackward0>)\n",
      "////////////////////////////////////\n",
      "***************************\n",
      "test : \n"
     ]
    },
    {
     "name": "stderr",
     "output_type": "stream",
     "text": [
      "Epoch 52: 100%|████████████████████████████| 243/243 [00:38<00:00,  6.30batch/s]\n"
     ]
    },
    {
     "name": "stdout",
     "output_type": "stream",
     "text": [
      "score: write test scores to /home/hassan-hossein/single_image_graph_face_anti_spoofing/train/Scores/epoch_52/score.txt\n",
      "epoch:52, test:  val_ACC=0.8610, HTER=0.1389, AUC=0.9132, val_err=0.1390, ACC=0.8610, TPR=0.4331\n"
     ]
    },
    {
     "name": "stderr",
     "output_type": "stream",
     "text": [
      "Epoch 53: 100%|██████████████████████████| 3448/3448 [08:33<00:00,  6.72batch/s]\n"
     ]
    },
    {
     "name": "stdout",
     "output_type": "stream",
     "text": [
      "/////////////////////////\n",
      "adverserial loss :  tensor(1.1922e-06, device='cuda:0', grad_fn=<DivBackward0>)\n",
      "classification loss :  tensor(2.5634e-06, device='cuda:0', grad_fn=<DivBackward0>)\n",
      "classification node loss :  tensor(0.0001, device='cuda:0', grad_fn=<DivBackward0>)\n",
      "total loss :  tensor(0.0001, device='cuda:0', grad_fn=<DivBackward0>)\n",
      "////////////////////////////////////\n",
      "***************************\n",
      "test : \n"
     ]
    },
    {
     "name": "stderr",
     "output_type": "stream",
     "text": [
      "Epoch 53: 100%|████████████████████████████| 243/243 [00:38<00:00,  6.34batch/s]\n"
     ]
    },
    {
     "name": "stdout",
     "output_type": "stream",
     "text": [
      "score: write test scores to /home/hassan-hossein/single_image_graph_face_anti_spoofing/train/Scores/epoch_53/score.txt\n",
      "epoch:53, test:  val_ACC=0.8644, HTER=0.1356, AUC=0.9104, val_err=0.1356, ACC=0.8644, TPR=0.2245\n"
     ]
    },
    {
     "name": "stderr",
     "output_type": "stream",
     "text": [
      "Epoch 54: 100%|██████████████████████████| 3448/3448 [08:31<00:00,  6.74batch/s]\n"
     ]
    },
    {
     "name": "stdout",
     "output_type": "stream",
     "text": [
      "/////////////////////////\n",
      "adverserial loss :  tensor(1.8083e-06, device='cuda:0', grad_fn=<DivBackward0>)\n",
      "classification loss :  tensor(3.1337e-06, device='cuda:0', grad_fn=<DivBackward0>)\n",
      "classification node loss :  tensor(0.0001, device='cuda:0', grad_fn=<DivBackward0>)\n",
      "total loss :  tensor(0.0001, device='cuda:0', grad_fn=<DivBackward0>)\n",
      "////////////////////////////////////\n",
      "***************************\n",
      "test : \n"
     ]
    },
    {
     "name": "stderr",
     "output_type": "stream",
     "text": [
      "Epoch 54: 100%|████████████████████████████| 243/243 [00:38<00:00,  6.24batch/s]\n"
     ]
    },
    {
     "name": "stdout",
     "output_type": "stream",
     "text": [
      "score: write test scores to /home/hassan-hossein/single_image_graph_face_anti_spoofing/train/Scores/epoch_54/score.txt\n",
      "epoch:54, test:  val_ACC=0.8564, HTER=0.1436, AUC=0.9061, val_err=0.1436, ACC=0.8564, TPR=0.2989\n"
     ]
    },
    {
     "name": "stderr",
     "output_type": "stream",
     "text": [
      "Epoch 55: 100%|██████████████████████████| 3448/3448 [08:33<00:00,  6.72batch/s]\n"
     ]
    },
    {
     "name": "stdout",
     "output_type": "stream",
     "text": [
      "/////////////////////////\n",
      "adverserial loss :  tensor(8.7440e-07, device='cuda:0', grad_fn=<DivBackward0>)\n",
      "classification loss :  tensor(2.5488e-06, device='cuda:0', grad_fn=<DivBackward0>)\n",
      "classification node loss :  tensor(0.0001, device='cuda:0', grad_fn=<DivBackward0>)\n",
      "total loss :  tensor(0.0001, device='cuda:0', grad_fn=<DivBackward0>)\n",
      "////////////////////////////////////\n",
      "***************************\n",
      "test : \n"
     ]
    },
    {
     "name": "stderr",
     "output_type": "stream",
     "text": [
      "Epoch 55: 100%|████████████████████████████| 243/243 [00:39<00:00,  6.19batch/s]\n"
     ]
    },
    {
     "name": "stdout",
     "output_type": "stream",
     "text": [
      "score: write test scores to /home/hassan-hossein/single_image_graph_face_anti_spoofing/train/Scores/epoch_55/score.txt\n",
      "epoch:55, test:  val_ACC=0.8611, HTER=0.1389, AUC=0.9161, val_err=0.1389, ACC=0.8611, TPR=0.5049\n"
     ]
    },
    {
     "name": "stderr",
     "output_type": "stream",
     "text": [
      "Epoch 56: 100%|██████████████████████████| 3448/3448 [08:32<00:00,  6.72batch/s]\n"
     ]
    },
    {
     "name": "stdout",
     "output_type": "stream",
     "text": [
      "/////////////////////////\n",
      "adverserial loss :  tensor(6.2682e-08, device='cuda:0', grad_fn=<DivBackward0>)\n",
      "classification loss :  tensor(1.3614e-06, device='cuda:0', grad_fn=<DivBackward0>)\n",
      "classification node loss :  tensor(0.0001, device='cuda:0', grad_fn=<DivBackward0>)\n",
      "total loss :  tensor(0.0001, device='cuda:0', grad_fn=<DivBackward0>)\n",
      "////////////////////////////////////\n",
      "***************************\n",
      "test : \n"
     ]
    },
    {
     "name": "stderr",
     "output_type": "stream",
     "text": [
      "Epoch 56: 100%|████████████████████████████| 243/243 [00:39<00:00,  6.16batch/s]\n"
     ]
    },
    {
     "name": "stdout",
     "output_type": "stream",
     "text": [
      "score: write test scores to /home/hassan-hossein/single_image_graph_face_anti_spoofing/train/Scores/epoch_56/score.txt\n",
      "epoch:56, test:  val_ACC=0.8754, HTER=0.1247, AUC=0.9176, val_err=0.1247, ACC=0.8754, TPR=0.1183\n"
     ]
    },
    {
     "name": "stderr",
     "output_type": "stream",
     "text": [
      "Epoch 57: 100%|██████████████████████████| 3448/3448 [08:32<00:00,  6.72batch/s]\n"
     ]
    },
    {
     "name": "stdout",
     "output_type": "stream",
     "text": [
      "/////////////////////////\n",
      "adverserial loss :  tensor(2.2145e-06, device='cuda:0', grad_fn=<DivBackward0>)\n",
      "classification loss :  tensor(2.9647e-06, device='cuda:0', grad_fn=<DivBackward0>)\n",
      "classification node loss :  tensor(0.0001, device='cuda:0', grad_fn=<DivBackward0>)\n",
      "total loss :  tensor(0.0001, device='cuda:0', grad_fn=<DivBackward0>)\n",
      "////////////////////////////////////\n",
      "***************************\n",
      "test : \n"
     ]
    },
    {
     "name": "stderr",
     "output_type": "stream",
     "text": [
      "Epoch 57: 100%|████████████████████████████| 243/243 [00:38<00:00,  6.28batch/s]\n"
     ]
    },
    {
     "name": "stdout",
     "output_type": "stream",
     "text": [
      "score: write test scores to /home/hassan-hossein/single_image_graph_face_anti_spoofing/train/Scores/epoch_57/score.txt\n",
      "epoch:57, test:  val_ACC=0.8634, HTER=0.1366, AUC=0.9092, val_err=0.1366, ACC=0.8634, TPR=0.1484\n"
     ]
    },
    {
     "name": "stderr",
     "output_type": "stream",
     "text": [
      "Epoch 58: 100%|██████████████████████████| 3448/3448 [08:32<00:00,  6.73batch/s]\n"
     ]
    },
    {
     "name": "stdout",
     "output_type": "stream",
     "text": [
      "/////////////////////////\n",
      "adverserial loss :  tensor(2.3162e-06, device='cuda:0', grad_fn=<DivBackward0>)\n",
      "classification loss :  tensor(2.1076e-06, device='cuda:0', grad_fn=<DivBackward0>)\n",
      "classification node loss :  tensor(0.0001, device='cuda:0', grad_fn=<DivBackward0>)\n",
      "total loss :  tensor(0.0001, device='cuda:0', grad_fn=<DivBackward0>)\n",
      "////////////////////////////////////\n",
      "***************************\n",
      "test : \n"
     ]
    },
    {
     "name": "stderr",
     "output_type": "stream",
     "text": [
      "Epoch 58: 100%|████████████████████████████| 243/243 [00:39<00:00,  6.17batch/s]\n"
     ]
    },
    {
     "name": "stdout",
     "output_type": "stream",
     "text": [
      "score: write test scores to /home/hassan-hossein/single_image_graph_face_anti_spoofing/train/Scores/epoch_58/score.txt\n",
      "epoch:58, test:  val_ACC=0.8547, HTER=0.1453, AUC=0.8927, val_err=0.1454, ACC=0.8547, TPR=0.0262\n"
     ]
    },
    {
     "name": "stderr",
     "output_type": "stream",
     "text": [
      "Epoch 59: 100%|██████████████████████████| 3448/3448 [08:32<00:00,  6.73batch/s]\n"
     ]
    },
    {
     "name": "stdout",
     "output_type": "stream",
     "text": [
      "/////////////////////////\n",
      "adverserial loss :  tensor(2.2265e-07, device='cuda:0', grad_fn=<DivBackward0>)\n",
      "classification loss :  tensor(2.0092e-06, device='cuda:0', grad_fn=<DivBackward0>)\n",
      "classification node loss :  tensor(0.0001, device='cuda:0', grad_fn=<DivBackward0>)\n",
      "total loss :  tensor(0.0001, device='cuda:0', grad_fn=<DivBackward0>)\n",
      "////////////////////////////////////\n",
      "***************************\n",
      "test : \n"
     ]
    },
    {
     "name": "stderr",
     "output_type": "stream",
     "text": [
      "Epoch 59: 100%|████████████████████████████| 243/243 [00:39<00:00,  6.20batch/s]\n"
     ]
    },
    {
     "name": "stdout",
     "output_type": "stream",
     "text": [
      "score: write test scores to /home/hassan-hossein/single_image_graph_face_anti_spoofing/train/Scores/epoch_59/score.txt\n",
      "epoch:59, test:  val_ACC=0.8691, HTER=0.1309, AUC=0.9116, val_err=0.1309, ACC=0.8691, TPR=0.1155\n"
     ]
    },
    {
     "name": "stderr",
     "output_type": "stream",
     "text": [
      "Epoch 60: 100%|██████████████████████████| 3448/3448 [08:32<00:00,  6.73batch/s]\n"
     ]
    },
    {
     "name": "stdout",
     "output_type": "stream",
     "text": [
      "/////////////////////////\n",
      "adverserial loss :  tensor(1.4097e-06, device='cuda:0', grad_fn=<DivBackward0>)\n",
      "classification loss :  tensor(1.9666e-06, device='cuda:0', grad_fn=<DivBackward0>)\n",
      "classification node loss :  tensor(0.0001, device='cuda:0', grad_fn=<DivBackward0>)\n",
      "total loss :  tensor(0.0001, device='cuda:0', grad_fn=<DivBackward0>)\n",
      "////////////////////////////////////\n",
      "***************************\n",
      "test : \n"
     ]
    },
    {
     "name": "stderr",
     "output_type": "stream",
     "text": [
      "Epoch 60: 100%|████████████████████████████| 243/243 [00:38<00:00,  6.25batch/s]\n"
     ]
    },
    {
     "name": "stdout",
     "output_type": "stream",
     "text": [
      "score: write test scores to /home/hassan-hossein/single_image_graph_face_anti_spoofing/train/Scores/epoch_60/score.txt\n",
      "epoch:60, test:  val_ACC=0.8602, HTER=0.1397, AUC=0.9012, val_err=0.1398, ACC=0.8602, TPR=0.1919\n"
     ]
    },
    {
     "name": "stderr",
     "output_type": "stream",
     "text": [
      "Epoch 61: 100%|██████████████████████████| 3448/3448 [08:31<00:00,  6.74batch/s]\n"
     ]
    },
    {
     "name": "stdout",
     "output_type": "stream",
     "text": [
      "/////////////////////////\n",
      "adverserial loss :  tensor(2.9464e-07, device='cuda:0', grad_fn=<DivBackward0>)\n",
      "classification loss :  tensor(2.3705e-06, device='cuda:0', grad_fn=<DivBackward0>)\n",
      "classification node loss :  tensor(0.0001, device='cuda:0', grad_fn=<DivBackward0>)\n",
      "total loss :  tensor(0.0001, device='cuda:0', grad_fn=<DivBackward0>)\n",
      "////////////////////////////////////\n",
      "***************************\n",
      "test : \n"
     ]
    },
    {
     "name": "stderr",
     "output_type": "stream",
     "text": [
      "Epoch 61: 100%|████████████████████████████| 243/243 [00:39<00:00,  6.16batch/s]\n"
     ]
    },
    {
     "name": "stdout",
     "output_type": "stream",
     "text": [
      "score: write test scores to /home/hassan-hossein/single_image_graph_face_anti_spoofing/train/Scores/epoch_61/score.txt\n",
      "epoch:61, test:  val_ACC=0.8810, HTER=0.1191, AUC=0.9243, val_err=0.1191, ACC=0.8810, TPR=0.4997\n"
     ]
    },
    {
     "name": "stderr",
     "output_type": "stream",
     "text": [
      "Epoch 62: 100%|██████████████████████████| 3448/3448 [08:33<00:00,  6.71batch/s]\n"
     ]
    },
    {
     "name": "stdout",
     "output_type": "stream",
     "text": [
      "/////////////////////////\n",
      "adverserial loss :  tensor(2.8985e-07, device='cuda:0', grad_fn=<DivBackward0>)\n",
      "classification loss :  tensor(2.2072e-06, device='cuda:0', grad_fn=<DivBackward0>)\n",
      "classification node loss :  tensor(0.0001, device='cuda:0', grad_fn=<DivBackward0>)\n",
      "total loss :  tensor(0.0001, device='cuda:0', grad_fn=<DivBackward0>)\n",
      "////////////////////////////////////\n",
      "***************************\n",
      "test : \n"
     ]
    },
    {
     "name": "stderr",
     "output_type": "stream",
     "text": [
      "Epoch 62: 100%|████████████████████████████| 243/243 [00:38<00:00,  6.26batch/s]\n"
     ]
    },
    {
     "name": "stdout",
     "output_type": "stream",
     "text": [
      "score: write test scores to /home/hassan-hossein/single_image_graph_face_anti_spoofing/train/Scores/epoch_62/score.txt\n",
      "epoch:62, test:  val_ACC=0.8593, HTER=0.1407, AUC=0.9061, val_err=0.1406, ACC=0.8593, TPR=0.1535\n"
     ]
    },
    {
     "name": "stderr",
     "output_type": "stream",
     "text": [
      "Epoch 63: 100%|██████████████████████████| 3448/3448 [08:33<00:00,  6.71batch/s]\n"
     ]
    },
    {
     "name": "stdout",
     "output_type": "stream",
     "text": [
      "/////////////////////////\n",
      "adverserial loss :  tensor(1.0898e-06, device='cuda:0', grad_fn=<DivBackward0>)\n",
      "classification loss :  tensor(1.6547e-06, device='cuda:0', grad_fn=<DivBackward0>)\n",
      "classification node loss :  tensor(0.0001, device='cuda:0', grad_fn=<DivBackward0>)\n",
      "total loss :  tensor(0.0001, device='cuda:0', grad_fn=<DivBackward0>)\n",
      "////////////////////////////////////\n",
      "***************************\n",
      "test : \n"
     ]
    },
    {
     "name": "stderr",
     "output_type": "stream",
     "text": [
      "Epoch 63: 100%|████████████████████████████| 243/243 [00:38<00:00,  6.26batch/s]\n"
     ]
    },
    {
     "name": "stdout",
     "output_type": "stream",
     "text": [
      "score: write test scores to /home/hassan-hossein/single_image_graph_face_anti_spoofing/train/Scores/epoch_63/score.txt\n",
      "epoch:63, test:  val_ACC=0.8678, HTER=0.1322, AUC=0.9172, val_err=0.1322, ACC=0.8678, TPR=0.3627\n"
     ]
    },
    {
     "name": "stderr",
     "output_type": "stream",
     "text": [
      "Epoch 64: 100%|██████████████████████████| 3448/3448 [08:32<00:00,  6.73batch/s]\n"
     ]
    },
    {
     "name": "stdout",
     "output_type": "stream",
     "text": [
      "/////////////////////////\n",
      "adverserial loss :  tensor(2.4409e-07, device='cuda:0', grad_fn=<DivBackward0>)\n",
      "classification loss :  tensor(2.3379e-06, device='cuda:0', grad_fn=<DivBackward0>)\n",
      "classification node loss :  tensor(0.0001, device='cuda:0', grad_fn=<DivBackward0>)\n",
      "total loss :  tensor(0.0001, device='cuda:0', grad_fn=<DivBackward0>)\n",
      "////////////////////////////////////\n",
      "***************************\n",
      "test : \n"
     ]
    },
    {
     "name": "stderr",
     "output_type": "stream",
     "text": [
      "Epoch 64: 100%|████████████████████████████| 243/243 [00:38<00:00,  6.35batch/s]\n"
     ]
    },
    {
     "name": "stdout",
     "output_type": "stream",
     "text": [
      "score: write test scores to /home/hassan-hossein/single_image_graph_face_anti_spoofing/train/Scores/epoch_64/score.txt\n",
      "epoch:64, test:  val_ACC=0.8795, HTER=0.1204, AUC=0.9164, val_err=0.1205, ACC=0.8795, TPR=0.2220\n"
     ]
    },
    {
     "name": "stderr",
     "output_type": "stream",
     "text": [
      "Epoch 65: 100%|██████████████████████████| 3448/3448 [08:32<00:00,  6.73batch/s]\n"
     ]
    },
    {
     "name": "stdout",
     "output_type": "stream",
     "text": [
      "/////////////////////////\n",
      "adverserial loss :  tensor(8.7219e-07, device='cuda:0', grad_fn=<DivBackward0>)\n",
      "classification loss :  tensor(1.8644e-06, device='cuda:0', grad_fn=<DivBackward0>)\n",
      "classification node loss :  tensor(0.0001, device='cuda:0', grad_fn=<DivBackward0>)\n",
      "total loss :  tensor(0.0001, device='cuda:0', grad_fn=<DivBackward0>)\n",
      "////////////////////////////////////\n",
      "***************************\n",
      "test : \n"
     ]
    },
    {
     "name": "stderr",
     "output_type": "stream",
     "text": [
      "Epoch 65: 100%|████████████████████████████| 243/243 [00:38<00:00,  6.28batch/s]\n"
     ]
    },
    {
     "name": "stdout",
     "output_type": "stream",
     "text": [
      "score: write test scores to /home/hassan-hossein/single_image_graph_face_anti_spoofing/train/Scores/epoch_65/score.txt\n",
      "epoch:65, test:  val_ACC=0.8690, HTER=0.1310, AUC=0.8915, val_err=0.1310, ACC=0.8690, TPR=0.0285\n"
     ]
    },
    {
     "name": "stderr",
     "output_type": "stream",
     "text": [
      "Epoch 66: 100%|██████████████████████████| 3448/3448 [08:31<00:00,  6.73batch/s]\n"
     ]
    },
    {
     "name": "stdout",
     "output_type": "stream",
     "text": [
      "/////////////////////////\n",
      "adverserial loss :  tensor(1.0510e-06, device='cuda:0', grad_fn=<DivBackward0>)\n",
      "classification loss :  tensor(2.4409e-06, device='cuda:0', grad_fn=<DivBackward0>)\n",
      "classification node loss :  tensor(0.0001, device='cuda:0', grad_fn=<DivBackward0>)\n",
      "total loss :  tensor(0.0001, device='cuda:0', grad_fn=<DivBackward0>)\n",
      "////////////////////////////////////\n",
      "***************************\n",
      "test : \n"
     ]
    },
    {
     "name": "stderr",
     "output_type": "stream",
     "text": [
      "Epoch 66: 100%|████████████████████████████| 243/243 [00:39<00:00,  6.22batch/s]\n"
     ]
    },
    {
     "name": "stdout",
     "output_type": "stream",
     "text": [
      "score: write test scores to /home/hassan-hossein/single_image_graph_face_anti_spoofing/train/Scores/epoch_66/score.txt\n",
      "epoch:66, test:  val_ACC=0.8978, HTER=0.1022, AUC=0.9401, val_err=0.1022, ACC=0.8978, TPR=0.4913\n"
     ]
    },
    {
     "name": "stderr",
     "output_type": "stream",
     "text": [
      "Epoch 67: 100%|██████████████████████████| 3448/3448 [08:32<00:00,  6.73batch/s]\n"
     ]
    },
    {
     "name": "stdout",
     "output_type": "stream",
     "text": [
      "/////////////////////////\n",
      "adverserial loss :  tensor(7.5035e-07, device='cuda:0', grad_fn=<DivBackward0>)\n",
      "classification loss :  tensor(2.7018e-06, device='cuda:0', grad_fn=<DivBackward0>)\n",
      "classification node loss :  tensor(0.0001, device='cuda:0', grad_fn=<DivBackward0>)\n",
      "total loss :  tensor(0.0001, device='cuda:0', grad_fn=<DivBackward0>)\n",
      "////////////////////////////////////\n",
      "***************************\n",
      "test : \n"
     ]
    },
    {
     "name": "stderr",
     "output_type": "stream",
     "text": [
      "Epoch 67: 100%|████████████████████████████| 243/243 [00:38<00:00,  6.27batch/s]\n"
     ]
    },
    {
     "name": "stdout",
     "output_type": "stream",
     "text": [
      "score: write test scores to /home/hassan-hossein/single_image_graph_face_anti_spoofing/train/Scores/epoch_67/score.txt\n",
      "epoch:67, test:  val_ACC=0.8866, HTER=0.1134, AUC=0.9101, val_err=0.1135, ACC=0.8866, TPR=0.5195\n"
     ]
    },
    {
     "name": "stderr",
     "output_type": "stream",
     "text": [
      "Epoch 68: 100%|██████████████████████████| 3448/3448 [08:32<00:00,  6.72batch/s]\n"
     ]
    },
    {
     "name": "stdout",
     "output_type": "stream",
     "text": [
      "/////////////////////////\n",
      "adverserial loss :  tensor(9.5157e-07, device='cuda:0', grad_fn=<DivBackward0>)\n",
      "classification loss :  tensor(2.0872e-06, device='cuda:0', grad_fn=<DivBackward0>)\n",
      "classification node loss :  tensor(9.6235e-05, device='cuda:0', grad_fn=<DivBackward0>)\n",
      "total loss :  tensor(9.9274e-05, device='cuda:0', grad_fn=<DivBackward0>)\n",
      "////////////////////////////////////\n",
      "***************************\n",
      "test : \n"
     ]
    },
    {
     "name": "stderr",
     "output_type": "stream",
     "text": [
      "Epoch 68: 100%|████████████████████████████| 243/243 [00:38<00:00,  6.26batch/s]\n"
     ]
    },
    {
     "name": "stdout",
     "output_type": "stream",
     "text": [
      "score: write test scores to /home/hassan-hossein/single_image_graph_face_anti_spoofing/train/Scores/epoch_68/score.txt\n",
      "epoch:68, test:  val_ACC=0.8804, HTER=0.1196, AUC=0.9265, val_err=0.1195, ACC=0.8804, TPR=0.4645\n"
     ]
    },
    {
     "name": "stderr",
     "output_type": "stream",
     "text": [
      "Epoch 69: 100%|██████████████████████████| 3448/3448 [08:32<00:00,  6.73batch/s]\n"
     ]
    },
    {
     "name": "stdout",
     "output_type": "stream",
     "text": [
      "/////////////////////////\n",
      "adverserial loss :  tensor(5.0526e-08, device='cuda:0', grad_fn=<DivBackward0>)\n",
      "classification loss :  tensor(2.1850e-06, device='cuda:0', grad_fn=<DivBackward0>)\n",
      "classification node loss :  tensor(0.0001, device='cuda:0', grad_fn=<DivBackward0>)\n",
      "total loss :  tensor(0.0001, device='cuda:0', grad_fn=<DivBackward0>)\n",
      "////////////////////////////////////\n",
      "***************************\n",
      "test : \n"
     ]
    },
    {
     "name": "stderr",
     "output_type": "stream",
     "text": [
      "Epoch 69: 100%|████████████████████████████| 243/243 [00:38<00:00,  6.26batch/s]\n"
     ]
    },
    {
     "name": "stdout",
     "output_type": "stream",
     "text": [
      "score: write test scores to /home/hassan-hossein/single_image_graph_face_anti_spoofing/train/Scores/epoch_69/score.txt\n",
      "epoch:69, test:  val_ACC=0.8637, HTER=0.1363, AUC=0.8954, val_err=0.1363, ACC=0.8637, TPR=0.1361\n"
     ]
    },
    {
     "name": "stderr",
     "output_type": "stream",
     "text": [
      "Epoch 70: 100%|██████████████████████████| 3448/3448 [08:33<00:00,  6.71batch/s]\n"
     ]
    },
    {
     "name": "stdout",
     "output_type": "stream",
     "text": [
      "/////////////////////////\n",
      "adverserial loss :  tensor(2.5254e-06, device='cuda:0', grad_fn=<DivBackward0>)\n",
      "classification loss :  tensor(1.5415e-06, device='cuda:0', grad_fn=<DivBackward0>)\n",
      "classification node loss :  tensor(0.0002, device='cuda:0', grad_fn=<DivBackward0>)\n",
      "total loss :  tensor(0.0002, device='cuda:0', grad_fn=<DivBackward0>)\n",
      "////////////////////////////////////\n",
      "***************************\n",
      "test : \n"
     ]
    },
    {
     "name": "stderr",
     "output_type": "stream",
     "text": [
      "Epoch 70: 100%|████████████████████████████| 243/243 [00:38<00:00,  6.29batch/s]\n"
     ]
    },
    {
     "name": "stdout",
     "output_type": "stream",
     "text": [
      "score: write test scores to /home/hassan-hossein/single_image_graph_face_anti_spoofing/train/Scores/epoch_70/score.txt\n",
      "epoch:70, test:  val_ACC=0.8809, HTER=0.1191, AUC=0.9144, val_err=0.1191, ACC=0.8809, TPR=0.2595\n"
     ]
    },
    {
     "name": "stderr",
     "output_type": "stream",
     "text": [
      "Epoch 71: 100%|██████████████████████████| 3448/3448 [08:31<00:00,  6.75batch/s]\n"
     ]
    },
    {
     "name": "stdout",
     "output_type": "stream",
     "text": [
      "/////////////////////////\n",
      "adverserial loss :  tensor(1.3149e-06, device='cuda:0', grad_fn=<DivBackward0>)\n",
      "classification loss :  tensor(2.0670e-06, device='cuda:0', grad_fn=<DivBackward0>)\n",
      "classification node loss :  tensor(0.0001, device='cuda:0', grad_fn=<DivBackward0>)\n",
      "total loss :  tensor(0.0001, device='cuda:0', grad_fn=<DivBackward0>)\n",
      "////////////////////////////////////\n",
      "***************************\n",
      "test : \n"
     ]
    },
    {
     "name": "stderr",
     "output_type": "stream",
     "text": [
      "Epoch 71: 100%|████████████████████████████| 243/243 [00:38<00:00,  6.25batch/s]\n"
     ]
    },
    {
     "name": "stdout",
     "output_type": "stream",
     "text": [
      "score: write test scores to /home/hassan-hossein/single_image_graph_face_anti_spoofing/train/Scores/epoch_71/score.txt\n",
      "epoch:71, test:  val_ACC=0.8779, HTER=0.1221, AUC=0.9096, val_err=0.1221, ACC=0.8779, TPR=0.3238\n"
     ]
    },
    {
     "name": "stderr",
     "output_type": "stream",
     "text": [
      "Epoch 72: 100%|██████████████████████████| 3448/3448 [08:31<00:00,  6.74batch/s]\n"
     ]
    },
    {
     "name": "stdout",
     "output_type": "stream",
     "text": [
      "/////////////////////////\n",
      "adverserial loss :  tensor(7.2348e-07, device='cuda:0', grad_fn=<DivBackward0>)\n",
      "classification loss :  tensor(2.2144e-06, device='cuda:0', grad_fn=<DivBackward0>)\n",
      "classification node loss :  tensor(9.7061e-05, device='cuda:0', grad_fn=<DivBackward0>)\n",
      "total loss :  tensor(9.9999e-05, device='cuda:0', grad_fn=<DivBackward0>)\n",
      "////////////////////////////////////\n",
      "***************************\n",
      "test : \n"
     ]
    },
    {
     "name": "stderr",
     "output_type": "stream",
     "text": [
      "Epoch 72: 100%|████████████████████████████| 243/243 [00:38<00:00,  6.29batch/s]\n"
     ]
    },
    {
     "name": "stdout",
     "output_type": "stream",
     "text": [
      "score: write test scores to /home/hassan-hossein/single_image_graph_face_anti_spoofing/train/Scores/epoch_72/score.txt\n",
      "epoch:72, test:  val_ACC=0.8709, HTER=0.1291, AUC=0.9368, val_err=0.1291, ACC=0.8709, TPR=0.5977\n"
     ]
    },
    {
     "name": "stderr",
     "output_type": "stream",
     "text": [
      "Epoch 73: 100%|██████████████████████████| 3448/3448 [08:32<00:00,  6.73batch/s]\n"
     ]
    },
    {
     "name": "stdout",
     "output_type": "stream",
     "text": [
      "/////////////////////////\n",
      "adverserial loss :  tensor(4.2078e-07, device='cuda:0', grad_fn=<DivBackward0>)\n",
      "classification loss :  tensor(1.5709e-06, device='cuda:0', grad_fn=<DivBackward0>)\n",
      "classification node loss :  tensor(0.0001, device='cuda:0', grad_fn=<DivBackward0>)\n",
      "total loss :  tensor(0.0001, device='cuda:0', grad_fn=<DivBackward0>)\n",
      "////////////////////////////////////\n",
      "***************************\n",
      "test : \n"
     ]
    },
    {
     "name": "stderr",
     "output_type": "stream",
     "text": [
      "Epoch 73: 100%|████████████████████████████| 243/243 [00:39<00:00,  6.21batch/s]\n"
     ]
    },
    {
     "name": "stdout",
     "output_type": "stream",
     "text": [
      "score: write test scores to /home/hassan-hossein/single_image_graph_face_anti_spoofing/train/Scores/epoch_73/score.txt\n",
      "epoch:73, test:  val_ACC=0.8684, HTER=0.1317, AUC=0.9109, val_err=0.1317, ACC=0.8684, TPR=0.2549\n"
     ]
    },
    {
     "name": "stderr",
     "output_type": "stream",
     "text": [
      "Epoch 74: 100%|██████████████████████████| 3448/3448 [08:32<00:00,  6.73batch/s]\n"
     ]
    },
    {
     "name": "stdout",
     "output_type": "stream",
     "text": [
      "/////////////////////////\n",
      "adverserial loss :  tensor(1.0606e-06, device='cuda:0', grad_fn=<DivBackward0>)\n",
      "classification loss :  tensor(1.5791e-06, device='cuda:0', grad_fn=<DivBackward0>)\n",
      "classification node loss :  tensor(0.0001, device='cuda:0', grad_fn=<DivBackward0>)\n",
      "total loss :  tensor(0.0001, device='cuda:0', grad_fn=<DivBackward0>)\n",
      "////////////////////////////////////\n",
      "***************************\n",
      "test : \n"
     ]
    },
    {
     "name": "stderr",
     "output_type": "stream",
     "text": [
      "Epoch 74: 100%|████████████████████████████| 243/243 [00:38<00:00,  6.25batch/s]\n"
     ]
    },
    {
     "name": "stdout",
     "output_type": "stream",
     "text": [
      "score: write test scores to /home/hassan-hossein/single_image_graph_face_anti_spoofing/train/Scores/epoch_74/score.txt\n",
      "epoch:74, test:  val_ACC=0.8824, HTER=0.1176, AUC=0.9312, val_err=0.1177, ACC=0.8824, TPR=0.4853\n"
     ]
    },
    {
     "name": "stderr",
     "output_type": "stream",
     "text": [
      "Epoch 75: 100%|██████████████████████████| 3448/3448 [08:32<00:00,  6.73batch/s]\n"
     ]
    },
    {
     "name": "stdout",
     "output_type": "stream",
     "text": [
      "/////////////////////////\n",
      "adverserial loss :  tensor(5.0123e-07, device='cuda:0', grad_fn=<DivBackward0>)\n",
      "classification loss :  tensor(1.9349e-06, device='cuda:0', grad_fn=<DivBackward0>)\n",
      "classification node loss :  tensor(9.0072e-05, device='cuda:0', grad_fn=<DivBackward0>)\n",
      "total loss :  tensor(9.2508e-05, device='cuda:0', grad_fn=<DivBackward0>)\n",
      "////////////////////////////////////\n",
      "***************************\n",
      "test : \n"
     ]
    },
    {
     "name": "stderr",
     "output_type": "stream",
     "text": [
      "Epoch 75: 100%|████████████████████████████| 243/243 [00:38<00:00,  6.28batch/s]\n"
     ]
    },
    {
     "name": "stdout",
     "output_type": "stream",
     "text": [
      "score: write test scores to /home/hassan-hossein/single_image_graph_face_anti_spoofing/train/Scores/epoch_75/score.txt\n",
      "epoch:75, test:  val_ACC=0.8981, HTER=0.1019, AUC=0.9413, val_err=0.1019, ACC=0.8981, TPR=0.6134\n"
     ]
    },
    {
     "name": "stderr",
     "output_type": "stream",
     "text": [
      "Epoch 76: 100%|██████████████████████████| 3448/3448 [08:31<00:00,  6.74batch/s]\n"
     ]
    },
    {
     "name": "stdout",
     "output_type": "stream",
     "text": [
      "/////////////////////////\n",
      "adverserial loss :  tensor(6.6074e-07, device='cuda:0', grad_fn=<DivBackward0>)\n",
      "classification loss :  tensor(1.2882e-06, device='cuda:0', grad_fn=<DivBackward0>)\n",
      "classification node loss :  tensor(9.8498e-05, device='cuda:0', grad_fn=<DivBackward0>)\n",
      "total loss :  tensor(0.0001, device='cuda:0', grad_fn=<DivBackward0>)\n",
      "////////////////////////////////////\n",
      "***************************\n",
      "test : \n"
     ]
    },
    {
     "name": "stderr",
     "output_type": "stream",
     "text": [
      "Epoch 76: 100%|████████████████████████████| 243/243 [00:38<00:00,  6.31batch/s]\n"
     ]
    },
    {
     "name": "stdout",
     "output_type": "stream",
     "text": [
      "score: write test scores to /home/hassan-hossein/single_image_graph_face_anti_spoofing/train/Scores/epoch_76/score.txt\n",
      "epoch:76, test:  val_ACC=0.8801, HTER=0.1199, AUC=0.9237, val_err=0.1199, ACC=0.8801, TPR=0.2667\n"
     ]
    },
    {
     "name": "stderr",
     "output_type": "stream",
     "text": [
      "Epoch 77: 100%|██████████████████████████| 3448/3448 [08:33<00:00,  6.71batch/s]\n"
     ]
    },
    {
     "name": "stdout",
     "output_type": "stream",
     "text": [
      "/////////////////////////\n",
      "adverserial loss :  tensor(1.7027e-06, device='cuda:0', grad_fn=<DivBackward0>)\n",
      "classification loss :  tensor(1.5550e-06, device='cuda:0', grad_fn=<DivBackward0>)\n",
      "classification node loss :  tensor(9.6199e-05, device='cuda:0', grad_fn=<DivBackward0>)\n",
      "total loss :  tensor(9.9457e-05, device='cuda:0', grad_fn=<DivBackward0>)\n",
      "////////////////////////////////////\n",
      "***************************\n",
      "test : \n"
     ]
    },
    {
     "name": "stderr",
     "output_type": "stream",
     "text": [
      "Epoch 77: 100%|████████████████████████████| 243/243 [00:38<00:00,  6.29batch/s]\n"
     ]
    },
    {
     "name": "stdout",
     "output_type": "stream",
     "text": [
      "score: write test scores to /home/hassan-hossein/single_image_graph_face_anti_spoofing/train/Scores/epoch_77/score.txt\n",
      "epoch:77, test:  val_ACC=0.8629, HTER=0.1371, AUC=0.9023, val_err=0.1371, ACC=0.8629, TPR=0.1556\n"
     ]
    },
    {
     "name": "stderr",
     "output_type": "stream",
     "text": [
      "Epoch 78: 100%|██████████████████████████| 3448/3448 [08:33<00:00,  6.71batch/s]\n"
     ]
    },
    {
     "name": "stdout",
     "output_type": "stream",
     "text": [
      "/////////////////////////\n",
      "adverserial loss :  tensor(6.3969e-07, device='cuda:0', grad_fn=<DivBackward0>)\n",
      "classification loss :  tensor(1.9276e-06, device='cuda:0', grad_fn=<DivBackward0>)\n",
      "classification node loss :  tensor(8.9370e-05, device='cuda:0', grad_fn=<DivBackward0>)\n",
      "total loss :  tensor(9.1937e-05, device='cuda:0', grad_fn=<DivBackward0>)\n",
      "////////////////////////////////////\n",
      "***************************\n",
      "test : \n"
     ]
    },
    {
     "name": "stderr",
     "output_type": "stream",
     "text": [
      "Epoch 78: 100%|████████████████████████████| 243/243 [00:39<00:00,  6.23batch/s]\n"
     ]
    },
    {
     "name": "stdout",
     "output_type": "stream",
     "text": [
      "score: write test scores to /home/hassan-hossein/single_image_graph_face_anti_spoofing/train/Scores/epoch_78/score.txt\n",
      "epoch:78, test:  val_ACC=0.8771, HTER=0.1230, AUC=0.9314, val_err=0.1230, ACC=0.8771, TPR=0.5118\n"
     ]
    },
    {
     "name": "stderr",
     "output_type": "stream",
     "text": [
      "Epoch 79: 100%|██████████████████████████| 3448/3448 [08:32<00:00,  6.72batch/s]\n"
     ]
    },
    {
     "name": "stdout",
     "output_type": "stream",
     "text": [
      "/////////////////////////\n",
      "adverserial loss :  tensor(8.8590e-07, device='cuda:0', grad_fn=<DivBackward0>)\n",
      "classification loss :  tensor(1.4729e-06, device='cuda:0', grad_fn=<DivBackward0>)\n",
      "classification node loss :  tensor(8.6876e-05, device='cuda:0', grad_fn=<DivBackward0>)\n",
      "total loss :  tensor(8.9235e-05, device='cuda:0', grad_fn=<DivBackward0>)\n",
      "////////////////////////////////////\n",
      "***************************\n",
      "test : \n"
     ]
    },
    {
     "name": "stderr",
     "output_type": "stream",
     "text": [
      "Epoch 79: 100%|████████████████████████████| 243/243 [00:39<00:00,  6.10batch/s]\n"
     ]
    },
    {
     "name": "stdout",
     "output_type": "stream",
     "text": [
      "score: write test scores to /home/hassan-hossein/single_image_graph_face_anti_spoofing/train/Scores/epoch_79/score.txt\n",
      "epoch:79, test:  val_ACC=0.8741, HTER=0.1258, AUC=0.9164, val_err=0.1259, ACC=0.8741, TPR=0.3670\n"
     ]
    },
    {
     "name": "stderr",
     "output_type": "stream",
     "text": [
      "Epoch 80: 100%|██████████████████████████| 3448/3448 [08:32<00:00,  6.73batch/s]\n"
     ]
    },
    {
     "name": "stdout",
     "output_type": "stream",
     "text": [
      "/////////////////////////\n",
      "adverserial loss :  tensor(1.7631e-07, device='cuda:0', grad_fn=<DivBackward0>)\n",
      "classification loss :  tensor(2.7078e-06, device='cuda:0', grad_fn=<DivBackward0>)\n",
      "classification node loss :  tensor(8.5605e-05, device='cuda:0', grad_fn=<DivBackward0>)\n",
      "total loss :  tensor(8.8489e-05, device='cuda:0', grad_fn=<DivBackward0>)\n",
      "////////////////////////////////////\n",
      "***************************\n",
      "test : \n"
     ]
    },
    {
     "name": "stderr",
     "output_type": "stream",
     "text": [
      "Epoch 80: 100%|████████████████████████████| 243/243 [00:38<00:00,  6.26batch/s]\n"
     ]
    },
    {
     "name": "stdout",
     "output_type": "stream",
     "text": [
      "score: write test scores to /home/hassan-hossein/single_image_graph_face_anti_spoofing/train/Scores/epoch_80/score.txt\n",
      "epoch:80, test:  val_ACC=0.8637, HTER=0.1363, AUC=0.9100, val_err=0.1364, ACC=0.8637, TPR=0.2320\n"
     ]
    },
    {
     "name": "stderr",
     "output_type": "stream",
     "text": [
      "Epoch 81: 100%|██████████████████████████| 3448/3448 [08:32<00:00,  6.73batch/s]\n"
     ]
    },
    {
     "name": "stdout",
     "output_type": "stream",
     "text": [
      "/////////////////////////\n",
      "adverserial loss :  tensor(6.5073e-07, device='cuda:0', grad_fn=<DivBackward0>)\n",
      "classification loss :  tensor(2.0123e-06, device='cuda:0', grad_fn=<DivBackward0>)\n",
      "classification node loss :  tensor(9.3788e-05, device='cuda:0', grad_fn=<DivBackward0>)\n",
      "total loss :  tensor(9.6451e-05, device='cuda:0', grad_fn=<DivBackward0>)\n",
      "////////////////////////////////////\n",
      "***************************\n",
      "test : \n"
     ]
    },
    {
     "name": "stderr",
     "output_type": "stream",
     "text": [
      "Epoch 81: 100%|████████████████████████████| 243/243 [00:38<00:00,  6.33batch/s]\n"
     ]
    },
    {
     "name": "stdout",
     "output_type": "stream",
     "text": [
      "score: write test scores to /home/hassan-hossein/single_image_graph_face_anti_spoofing/train/Scores/epoch_81/score.txt\n",
      "epoch:81, test:  val_ACC=0.8748, HTER=0.1252, AUC=0.9082, val_err=0.1252, ACC=0.8748, TPR=0.2464\n"
     ]
    },
    {
     "name": "stderr",
     "output_type": "stream",
     "text": [
      "Epoch 82: 100%|██████████████████████████| 3448/3448 [08:33<00:00,  6.71batch/s]\n"
     ]
    },
    {
     "name": "stdout",
     "output_type": "stream",
     "text": [
      "/////////////////////////\n",
      "adverserial loss :  tensor(2.3239e-06, device='cuda:0', grad_fn=<DivBackward0>)\n",
      "classification loss :  tensor(1.1290e-06, device='cuda:0', grad_fn=<DivBackward0>)\n",
      "classification node loss :  tensor(8.4714e-05, device='cuda:0', grad_fn=<DivBackward0>)\n",
      "total loss :  tensor(8.8167e-05, device='cuda:0', grad_fn=<DivBackward0>)\n",
      "////////////////////////////////////\n",
      "***************************\n",
      "test : \n"
     ]
    },
    {
     "name": "stderr",
     "output_type": "stream",
     "text": [
      "Epoch 82: 100%|████████████████████████████| 243/243 [00:38<00:00,  6.27batch/s]\n"
     ]
    },
    {
     "name": "stdout",
     "output_type": "stream",
     "text": [
      "score: write test scores to /home/hassan-hossein/single_image_graph_face_anti_spoofing/train/Scores/epoch_82/score.txt\n",
      "epoch:82, test:  val_ACC=0.8517, HTER=0.1484, AUC=0.9063, val_err=0.1484, ACC=0.8517, TPR=0.2852\n"
     ]
    },
    {
     "name": "stderr",
     "output_type": "stream",
     "text": [
      "Epoch 83: 100%|██████████████████████████| 3448/3448 [08:32<00:00,  6.73batch/s]\n"
     ]
    },
    {
     "name": "stdout",
     "output_type": "stream",
     "text": [
      "/////////////////////////\n",
      "adverserial loss :  tensor(8.7515e-07, device='cuda:0', grad_fn=<DivBackward0>)\n",
      "classification loss :  tensor(2.6660e-06, device='cuda:0', grad_fn=<DivBackward0>)\n",
      "classification node loss :  tensor(8.3712e-05, device='cuda:0', grad_fn=<DivBackward0>)\n",
      "total loss :  tensor(8.7253e-05, device='cuda:0', grad_fn=<DivBackward0>)\n",
      "////////////////////////////////////\n",
      "***************************\n",
      "test : \n"
     ]
    },
    {
     "name": "stderr",
     "output_type": "stream",
     "text": [
      "Epoch 83: 100%|████████████████████████████| 243/243 [00:39<00:00,  6.18batch/s]\n"
     ]
    },
    {
     "name": "stdout",
     "output_type": "stream",
     "text": [
      "score: write test scores to /home/hassan-hossein/single_image_graph_face_anti_spoofing/train/Scores/epoch_83/score.txt\n",
      "epoch:83, test:  val_ACC=0.8480, HTER=0.1520, AUC=0.8878, val_err=0.1520, ACC=0.8480, TPR=0.0574\n"
     ]
    },
    {
     "name": "stderr",
     "output_type": "stream",
     "text": [
      "Epoch 84: 100%|██████████████████████████| 3448/3448 [08:32<00:00,  6.73batch/s]\n"
     ]
    },
    {
     "name": "stdout",
     "output_type": "stream",
     "text": [
      "/////////////////////////\n",
      "adverserial loss :  tensor(6.7935e-07, device='cuda:0', grad_fn=<DivBackward0>)\n",
      "classification loss :  tensor(2.2032e-06, device='cuda:0', grad_fn=<DivBackward0>)\n",
      "classification node loss :  tensor(8.8099e-05, device='cuda:0', grad_fn=<DivBackward0>)\n",
      "total loss :  tensor(9.0981e-05, device='cuda:0', grad_fn=<DivBackward0>)\n",
      "////////////////////////////////////\n",
      "***************************\n",
      "test : \n"
     ]
    },
    {
     "name": "stderr",
     "output_type": "stream",
     "text": [
      "Epoch 84: 100%|████████████████████████████| 243/243 [00:38<00:00,  6.32batch/s]\n"
     ]
    },
    {
     "name": "stdout",
     "output_type": "stream",
     "text": [
      "score: write test scores to /home/hassan-hossein/single_image_graph_face_anti_spoofing/train/Scores/epoch_84/score.txt\n",
      "epoch:84, test:  val_ACC=0.8194, HTER=0.1806, AUC=0.8545, val_err=0.1806, ACC=0.8194, TPR=0.0401\n"
     ]
    },
    {
     "name": "stderr",
     "output_type": "stream",
     "text": [
      "Epoch 85: 100%|██████████████████████████| 3448/3448 [08:31<00:00,  6.74batch/s]\n"
     ]
    },
    {
     "name": "stdout",
     "output_type": "stream",
     "text": [
      "/////////////////////////\n",
      "adverserial loss :  tensor(1.0970e-07, device='cuda:0', grad_fn=<DivBackward0>)\n",
      "classification loss :  tensor(1.0613e-06, device='cuda:0', grad_fn=<DivBackward0>)\n",
      "classification node loss :  tensor(8.8802e-05, device='cuda:0', grad_fn=<DivBackward0>)\n",
      "total loss :  tensor(8.9973e-05, device='cuda:0', grad_fn=<DivBackward0>)\n",
      "////////////////////////////////////\n",
      "***************************\n",
      "test : \n"
     ]
    },
    {
     "name": "stderr",
     "output_type": "stream",
     "text": [
      "Epoch 85: 100%|████████████████████████████| 243/243 [00:38<00:00,  6.26batch/s]\n"
     ]
    },
    {
     "name": "stdout",
     "output_type": "stream",
     "text": [
      "score: write test scores to /home/hassan-hossein/single_image_graph_face_anti_spoofing/train/Scores/epoch_85/score.txt\n",
      "epoch:85, test:  val_ACC=0.8633, HTER=0.1368, AUC=0.9020, val_err=0.1368, ACC=0.8633, TPR=0.2554\n"
     ]
    },
    {
     "name": "stderr",
     "output_type": "stream",
     "text": [
      "Epoch 86: 100%|██████████████████████████| 3448/3448 [08:32<00:00,  6.73batch/s]\n"
     ]
    },
    {
     "name": "stdout",
     "output_type": "stream",
     "text": [
      "/////////////////////////\n",
      "adverserial loss :  tensor(5.9309e-07, device='cuda:0', grad_fn=<DivBackward0>)\n",
      "classification loss :  tensor(2.5140e-06, device='cuda:0', grad_fn=<DivBackward0>)\n",
      "classification node loss :  tensor(8.0472e-05, device='cuda:0', grad_fn=<DivBackward0>)\n",
      "total loss :  tensor(8.3578e-05, device='cuda:0', grad_fn=<DivBackward0>)\n",
      "////////////////////////////////////\n",
      "***************************\n",
      "test : \n"
     ]
    },
    {
     "name": "stderr",
     "output_type": "stream",
     "text": [
      "Epoch 86: 100%|████████████████████████████| 243/243 [00:38<00:00,  6.27batch/s]\n"
     ]
    },
    {
     "name": "stdout",
     "output_type": "stream",
     "text": [
      "score: write test scores to /home/hassan-hossein/single_image_graph_face_anti_spoofing/train/Scores/epoch_86/score.txt\n",
      "epoch:86, test:  val_ACC=0.8738, HTER=0.1263, AUC=0.9082, val_err=0.1262, ACC=0.8738, TPR=0.0841\n"
     ]
    },
    {
     "name": "stderr",
     "output_type": "stream",
     "text": [
      "Epoch 87: 100%|██████████████████████████| 3448/3448 [08:31<00:00,  6.75batch/s]\n"
     ]
    },
    {
     "name": "stdout",
     "output_type": "stream",
     "text": [
      "/////////////////////////\n",
      "adverserial loss :  tensor(2.6101e-08, device='cuda:0', grad_fn=<DivBackward0>)\n",
      "classification loss :  tensor(1.9833e-06, device='cuda:0', grad_fn=<DivBackward0>)\n",
      "classification node loss :  tensor(8.0968e-05, device='cuda:0', grad_fn=<DivBackward0>)\n",
      "total loss :  tensor(8.2977e-05, device='cuda:0', grad_fn=<DivBackward0>)\n",
      "////////////////////////////////////\n",
      "***************************\n",
      "test : \n"
     ]
    },
    {
     "name": "stderr",
     "output_type": "stream",
     "text": [
      "Epoch 87: 100%|████████████████████████████| 243/243 [00:38<00:00,  6.25batch/s]\n"
     ]
    },
    {
     "name": "stdout",
     "output_type": "stream",
     "text": [
      "score: write test scores to /home/hassan-hossein/single_image_graph_face_anti_spoofing/train/Scores/epoch_87/score.txt\n",
      "epoch:87, test:  val_ACC=0.8502, HTER=0.1498, AUC=0.8885, val_err=0.1498, ACC=0.8502, TPR=0.0499\n"
     ]
    },
    {
     "name": "stderr",
     "output_type": "stream",
     "text": [
      "Epoch 88: 100%|██████████████████████████| 3448/3448 [08:32<00:00,  6.73batch/s]\n"
     ]
    },
    {
     "name": "stdout",
     "output_type": "stream",
     "text": [
      "/////////////////////////\n",
      "adverserial loss :  tensor(2.2204e-06, device='cuda:0', grad_fn=<DivBackward0>)\n",
      "classification loss :  tensor(1.0509e-06, device='cuda:0', grad_fn=<DivBackward0>)\n",
      "classification node loss :  tensor(8.3318e-05, device='cuda:0', grad_fn=<DivBackward0>)\n",
      "total loss :  tensor(8.6589e-05, device='cuda:0', grad_fn=<DivBackward0>)\n",
      "////////////////////////////////////\n",
      "***************************\n",
      "test : \n"
     ]
    },
    {
     "name": "stderr",
     "output_type": "stream",
     "text": [
      "Epoch 88: 100%|████████████████████████████| 243/243 [00:39<00:00,  6.17batch/s]\n"
     ]
    },
    {
     "name": "stdout",
     "output_type": "stream",
     "text": [
      "score: write test scores to /home/hassan-hossein/single_image_graph_face_anti_spoofing/train/Scores/epoch_88/score.txt\n",
      "epoch:88, test:  val_ACC=0.8637, HTER=0.1363, AUC=0.8929, val_err=0.1364, ACC=0.8637, TPR=0.1258\n"
     ]
    },
    {
     "name": "stderr",
     "output_type": "stream",
     "text": [
      "Epoch 89: 100%|██████████████████████████| 3448/3448 [08:27<00:00,  6.79batch/s]\n"
     ]
    },
    {
     "name": "stdout",
     "output_type": "stream",
     "text": [
      "/////////////////////////\n",
      "adverserial loss :  tensor(1.6543e-06, device='cuda:0', grad_fn=<DivBackward0>)\n",
      "classification loss :  tensor(1.1305e-06, device='cuda:0', grad_fn=<DivBackward0>)\n",
      "classification node loss :  tensor(8.1908e-05, device='cuda:0', grad_fn=<DivBackward0>)\n",
      "total loss :  tensor(8.4693e-05, device='cuda:0', grad_fn=<DivBackward0>)\n",
      "////////////////////////////////////\n",
      "***************************\n",
      "test : \n"
     ]
    },
    {
     "name": "stderr",
     "output_type": "stream",
     "text": [
      "Epoch 89: 100%|████████████████████████████| 243/243 [00:39<00:00,  6.20batch/s]\n"
     ]
    },
    {
     "name": "stdout",
     "output_type": "stream",
     "text": [
      "score: write test scores to /home/hassan-hossein/single_image_graph_face_anti_spoofing/train/Scores/epoch_89/score.txt\n",
      "epoch:89, test:  val_ACC=0.8577, HTER=0.1423, AUC=0.8851, val_err=0.1423, ACC=0.8577, TPR=0.1121\n"
     ]
    },
    {
     "name": "stderr",
     "output_type": "stream",
     "text": [
      "Epoch 90: 100%|██████████████████████████| 3448/3448 [08:28<00:00,  6.78batch/s]\n"
     ]
    },
    {
     "name": "stdout",
     "output_type": "stream",
     "text": [
      "/////////////////////////\n",
      "adverserial loss :  tensor(9.7791e-08, device='cuda:0', grad_fn=<DivBackward0>)\n",
      "classification loss :  tensor(1.6521e-06, device='cuda:0', grad_fn=<DivBackward0>)\n",
      "classification node loss :  tensor(7.7231e-05, device='cuda:0', grad_fn=<DivBackward0>)\n",
      "total loss :  tensor(7.8981e-05, device='cuda:0', grad_fn=<DivBackward0>)\n",
      "////////////////////////////////////\n",
      "***************************\n",
      "test : \n"
     ]
    },
    {
     "name": "stderr",
     "output_type": "stream",
     "text": [
      "Epoch 90: 100%|████████████████████████████| 243/243 [00:39<00:00,  6.21batch/s]\n"
     ]
    },
    {
     "name": "stdout",
     "output_type": "stream",
     "text": [
      "score: write test scores to /home/hassan-hossein/single_image_graph_face_anti_spoofing/train/Scores/epoch_90/score.txt\n",
      "epoch:90, test:  val_ACC=0.8559, HTER=0.1441, AUC=0.8976, val_err=0.1442, ACC=0.8559, TPR=0.1487\n"
     ]
    },
    {
     "name": "stderr",
     "output_type": "stream",
     "text": [
      "Epoch 91: 100%|██████████████████████████| 3448/3448 [08:30<00:00,  6.76batch/s]\n"
     ]
    },
    {
     "name": "stdout",
     "output_type": "stream",
     "text": [
      "/////////////////////////\n",
      "adverserial loss :  tensor(7.3558e-07, device='cuda:0', grad_fn=<DivBackward0>)\n",
      "classification loss :  tensor(1.7516e-06, device='cuda:0', grad_fn=<DivBackward0>)\n",
      "classification node loss :  tensor(8.5355e-05, device='cuda:0', grad_fn=<DivBackward0>)\n",
      "total loss :  tensor(8.7843e-05, device='cuda:0', grad_fn=<DivBackward0>)\n",
      "////////////////////////////////////\n",
      "***************************\n",
      "test : \n"
     ]
    },
    {
     "name": "stderr",
     "output_type": "stream",
     "text": [
      "Epoch 91: 100%|████████████████████████████| 243/243 [00:38<00:00,  6.34batch/s]\n"
     ]
    },
    {
     "name": "stdout",
     "output_type": "stream",
     "text": [
      "score: write test scores to /home/hassan-hossein/single_image_graph_face_anti_spoofing/train/Scores/epoch_91/score.txt\n",
      "epoch:91, test:  val_ACC=0.8662, HTER=0.1338, AUC=0.8970, val_err=0.1338, ACC=0.8662, TPR=0.0383\n"
     ]
    },
    {
     "name": "stderr",
     "output_type": "stream",
     "text": [
      "Epoch 92: 100%|██████████████████████████| 3448/3448 [08:28<00:00,  6.78batch/s]\n"
     ]
    },
    {
     "name": "stdout",
     "output_type": "stream",
     "text": [
      "/////////////////////////\n",
      "adverserial loss :  tensor(2.9073e-07, device='cuda:0', grad_fn=<DivBackward0>)\n",
      "classification loss :  tensor(1.1316e-06, device='cuda:0', grad_fn=<DivBackward0>)\n",
      "classification node loss :  tensor(7.5495e-05, device='cuda:0', grad_fn=<DivBackward0>)\n",
      "total loss :  tensor(7.6917e-05, device='cuda:0', grad_fn=<DivBackward0>)\n",
      "////////////////////////////////////\n",
      "***************************\n",
      "test : \n"
     ]
    },
    {
     "name": "stderr",
     "output_type": "stream",
     "text": [
      "Epoch 92: 100%|████████████████████████████| 243/243 [00:37<00:00,  6.42batch/s]\n"
     ]
    },
    {
     "name": "stdout",
     "output_type": "stream",
     "text": [
      "score: write test scores to /home/hassan-hossein/single_image_graph_face_anti_spoofing/train/Scores/epoch_92/score.txt\n",
      "epoch:92, test:  val_ACC=0.8600, HTER=0.1400, AUC=0.9091, val_err=0.1400, ACC=0.8600, TPR=0.1458\n"
     ]
    },
    {
     "name": "stderr",
     "output_type": "stream",
     "text": [
      "Epoch 93: 100%|██████████████████████████| 3448/3448 [08:27<00:00,  6.79batch/s]\n"
     ]
    },
    {
     "name": "stdout",
     "output_type": "stream",
     "text": [
      "/////////////////////////\n",
      "adverserial loss :  tensor(1.2591e-06, device='cuda:0', grad_fn=<DivBackward0>)\n",
      "classification loss :  tensor(2.1998e-06, device='cuda:0', grad_fn=<DivBackward0>)\n",
      "classification node loss :  tensor(7.5795e-05, device='cuda:0', grad_fn=<DivBackward0>)\n",
      "total loss :  tensor(7.9253e-05, device='cuda:0', grad_fn=<DivBackward0>)\n",
      "////////////////////////////////////\n",
      "***************************\n",
      "test : \n"
     ]
    },
    {
     "name": "stderr",
     "output_type": "stream",
     "text": [
      "Epoch 93: 100%|████████████████████████████| 243/243 [00:38<00:00,  6.34batch/s]\n"
     ]
    },
    {
     "name": "stdout",
     "output_type": "stream",
     "text": [
      "score: write test scores to /home/hassan-hossein/single_image_graph_face_anti_spoofing/train/Scores/epoch_93/score.txt\n",
      "epoch:93, test:  val_ACC=0.8668, HTER=0.1332, AUC=0.8923, val_err=0.1332, ACC=0.8668, TPR=0.0422\n"
     ]
    },
    {
     "name": "stderr",
     "output_type": "stream",
     "text": [
      "Epoch 94: 100%|██████████████████████████| 3448/3448 [08:27<00:00,  6.79batch/s]\n"
     ]
    },
    {
     "name": "stdout",
     "output_type": "stream",
     "text": [
      "/////////////////////////\n",
      "adverserial loss :  tensor(9.2325e-07, device='cuda:0', grad_fn=<DivBackward0>)\n",
      "classification loss :  tensor(2.4371e-06, device='cuda:0', grad_fn=<DivBackward0>)\n",
      "classification node loss :  tensor(9.4626e-05, device='cuda:0', grad_fn=<DivBackward0>)\n",
      "total loss :  tensor(9.7987e-05, device='cuda:0', grad_fn=<DivBackward0>)\n",
      "////////////////////////////////////\n",
      "***************************\n",
      "test : \n"
     ]
    },
    {
     "name": "stderr",
     "output_type": "stream",
     "text": [
      "Epoch 94: 100%|████████████████████████████| 243/243 [00:38<00:00,  6.34batch/s]\n"
     ]
    },
    {
     "name": "stdout",
     "output_type": "stream",
     "text": [
      "score: write test scores to /home/hassan-hossein/single_image_graph_face_anti_spoofing/train/Scores/epoch_94/score.txt\n",
      "epoch:94, test:  val_ACC=0.8597, HTER=0.1404, AUC=0.9153, val_err=0.1404, ACC=0.8597, TPR=0.3845\n"
     ]
    },
    {
     "name": "stderr",
     "output_type": "stream",
     "text": [
      "Epoch 95: 100%|██████████████████████████| 3448/3448 [08:29<00:00,  6.77batch/s]\n"
     ]
    },
    {
     "name": "stdout",
     "output_type": "stream",
     "text": [
      "/////////////////////////\n",
      "adverserial loss :  tensor(1.1732e-06, device='cuda:0', grad_fn=<DivBackward0>)\n",
      "classification loss :  tensor(1.1311e-06, device='cuda:0', grad_fn=<DivBackward0>)\n",
      "classification node loss :  tensor(7.5401e-05, device='cuda:0', grad_fn=<DivBackward0>)\n",
      "total loss :  tensor(7.7705e-05, device='cuda:0', grad_fn=<DivBackward0>)\n",
      "////////////////////////////////////\n",
      "***************************\n",
      "test : \n"
     ]
    },
    {
     "name": "stderr",
     "output_type": "stream",
     "text": [
      "Epoch 95: 100%|████████████████████████████| 243/243 [00:38<00:00,  6.31batch/s]\n"
     ]
    },
    {
     "name": "stdout",
     "output_type": "stream",
     "text": [
      "score: write test scores to /home/hassan-hossein/single_image_graph_face_anti_spoofing/train/Scores/epoch_95/score.txt\n",
      "epoch:95, test:  val_ACC=0.8820, HTER=0.1180, AUC=0.9187, val_err=0.1180, ACC=0.8820, TPR=0.5183\n"
     ]
    },
    {
     "name": "stderr",
     "output_type": "stream",
     "text": [
      "Epoch 96: 100%|██████████████████████████| 3448/3448 [08:29<00:00,  6.77batch/s]\n"
     ]
    },
    {
     "name": "stdout",
     "output_type": "stream",
     "text": [
      "/////////////////////////\n",
      "adverserial loss :  tensor(7.3696e-07, device='cuda:0', grad_fn=<DivBackward0>)\n",
      "classification loss :  tensor(1.2302e-06, device='cuda:0', grad_fn=<DivBackward0>)\n",
      "classification node loss :  tensor(7.7603e-05, device='cuda:0', grad_fn=<DivBackward0>)\n",
      "total loss :  tensor(7.9571e-05, device='cuda:0', grad_fn=<DivBackward0>)\n",
      "////////////////////////////////////\n",
      "***************************\n",
      "test : \n"
     ]
    },
    {
     "name": "stderr",
     "output_type": "stream",
     "text": [
      "Epoch 96: 100%|████████████████████████████| 243/243 [00:38<00:00,  6.30batch/s]\n"
     ]
    },
    {
     "name": "stdout",
     "output_type": "stream",
     "text": [
      "score: write test scores to /home/hassan-hossein/single_image_graph_face_anti_spoofing/train/Scores/epoch_96/score.txt\n",
      "epoch:96, test:  val_ACC=0.8676, HTER=0.1325, AUC=0.9076, val_err=0.1325, ACC=0.8676, TPR=0.3927\n"
     ]
    },
    {
     "name": "stderr",
     "output_type": "stream",
     "text": [
      "Epoch 97: 100%|██████████████████████████| 3448/3448 [08:28<00:00,  6.78batch/s]\n"
     ]
    },
    {
     "name": "stdout",
     "output_type": "stream",
     "text": [
      "/////////////////////////\n",
      "adverserial loss :  tensor(8.5754e-07, device='cuda:0', grad_fn=<DivBackward0>)\n",
      "classification loss :  tensor(2.5523e-06, device='cuda:0', grad_fn=<DivBackward0>)\n",
      "classification node loss :  tensor(8.0882e-05, device='cuda:0', grad_fn=<DivBackward0>)\n",
      "total loss :  tensor(8.4291e-05, device='cuda:0', grad_fn=<DivBackward0>)\n",
      "////////////////////////////////////\n",
      "***************************\n",
      "test : \n"
     ]
    },
    {
     "name": "stderr",
     "output_type": "stream",
     "text": [
      "Epoch 97: 100%|████████████████████████████| 243/243 [00:38<00:00,  6.31batch/s]\n"
     ]
    },
    {
     "name": "stdout",
     "output_type": "stream",
     "text": [
      "score: write test scores to /home/hassan-hossein/single_image_graph_face_anti_spoofing/train/Scores/epoch_97/score.txt\n",
      "epoch:97, test:  val_ACC=0.8713, HTER=0.1287, AUC=0.9011, val_err=0.1287, ACC=0.8713, TPR=0.4475\n"
     ]
    },
    {
     "name": "stderr",
     "output_type": "stream",
     "text": [
      "Epoch 98: 100%|██████████████████████████| 3448/3448 [08:29<00:00,  6.77batch/s]\n"
     ]
    },
    {
     "name": "stdout",
     "output_type": "stream",
     "text": [
      "/////////////////////////\n",
      "adverserial loss :  tensor(8.4987e-07, device='cuda:0', grad_fn=<DivBackward0>)\n",
      "classification loss :  tensor(1.1781e-06, device='cuda:0', grad_fn=<DivBackward0>)\n",
      "classification node loss :  tensor(7.7316e-05, device='cuda:0', grad_fn=<DivBackward0>)\n",
      "total loss :  tensor(7.9344e-05, device='cuda:0', grad_fn=<DivBackward0>)\n",
      "////////////////////////////////////\n",
      "***************************\n",
      "test : \n"
     ]
    },
    {
     "name": "stderr",
     "output_type": "stream",
     "text": [
      "Epoch 98: 100%|████████████████████████████| 243/243 [00:39<00:00,  6.20batch/s]\n"
     ]
    },
    {
     "name": "stdout",
     "output_type": "stream",
     "text": [
      "score: write test scores to /home/hassan-hossein/single_image_graph_face_anti_spoofing/train/Scores/epoch_98/score.txt\n",
      "epoch:98, test:  val_ACC=0.8725, HTER=0.1276, AUC=0.9180, val_err=0.1276, ACC=0.8725, TPR=0.6973\n"
     ]
    },
    {
     "name": "stderr",
     "output_type": "stream",
     "text": [
      "Epoch 99: 100%|██████████████████████████| 3448/3448 [08:27<00:00,  6.79batch/s]\n"
     ]
    },
    {
     "name": "stdout",
     "output_type": "stream",
     "text": [
      "/////////////////////////\n",
      "adverserial loss :  tensor(1.0099e-06, device='cuda:0', grad_fn=<DivBackward0>)\n",
      "classification loss :  tensor(1.0249e-06, device='cuda:0', grad_fn=<DivBackward0>)\n",
      "classification node loss :  tensor(7.1901e-05, device='cuda:0', grad_fn=<DivBackward0>)\n",
      "total loss :  tensor(7.3935e-05, device='cuda:0', grad_fn=<DivBackward0>)\n",
      "////////////////////////////////////\n",
      "***************************\n",
      "test : \n"
     ]
    },
    {
     "name": "stderr",
     "output_type": "stream",
     "text": [
      "Epoch 99: 100%|████████████████████████████| 243/243 [00:38<00:00,  6.23batch/s]\n"
     ]
    },
    {
     "name": "stdout",
     "output_type": "stream",
     "text": [
      "score: write test scores to /home/hassan-hossein/single_image_graph_face_anti_spoofing/train/Scores/epoch_99/score.txt\n",
      "epoch:99, test:  val_ACC=0.8666, HTER=0.1335, AUC=0.9122, val_err=0.1334, ACC=0.8666, TPR=0.6106\n"
     ]
    },
    {
     "name": "stderr",
     "output_type": "stream",
     "text": [
      "Epoch 100: 100%|█████████████████████████| 3448/3448 [08:28<00:00,  6.78batch/s]\n"
     ]
    },
    {
     "name": "stdout",
     "output_type": "stream",
     "text": [
      "/////////////////////////\n",
      "adverserial loss :  tensor(2.7516e-07, device='cuda:0', grad_fn=<DivBackward0>)\n",
      "classification loss :  tensor(2.3504e-06, device='cuda:0', grad_fn=<DivBackward0>)\n",
      "classification node loss :  tensor(7.8933e-05, device='cuda:0', grad_fn=<DivBackward0>)\n",
      "total loss :  tensor(8.1559e-05, device='cuda:0', grad_fn=<DivBackward0>)\n",
      "////////////////////////////////////\n",
      "***************************\n",
      "test : \n"
     ]
    },
    {
     "name": "stderr",
     "output_type": "stream",
     "text": [
      "Epoch 100: 100%|███████████████████████████| 243/243 [00:39<00:00,  6.13batch/s]\n"
     ]
    },
    {
     "name": "stdout",
     "output_type": "stream",
     "text": [
      "score: write test scores to /home/hassan-hossein/single_image_graph_face_anti_spoofing/train/Scores/epoch_100/score.txt\n",
      "epoch:100, test:  val_ACC=0.8790, HTER=0.1209, AUC=0.9204, val_err=0.1210, ACC=0.8790, TPR=0.5185\n"
     ]
    },
    {
     "name": "stderr",
     "output_type": "stream",
     "text": [
      "Epoch 101: 100%|█████████████████████████| 3448/3448 [08:28<00:00,  6.78batch/s]\n"
     ]
    },
    {
     "name": "stdout",
     "output_type": "stream",
     "text": [
      "/////////////////////////\n",
      "adverserial loss :  tensor(6.0399e-07, device='cuda:0', grad_fn=<DivBackward0>)\n",
      "classification loss :  tensor(1.9398e-06, device='cuda:0', grad_fn=<DivBackward0>)\n",
      "classification node loss :  tensor(7.9937e-05, device='cuda:0', grad_fn=<DivBackward0>)\n",
      "total loss :  tensor(8.2480e-05, device='cuda:0', grad_fn=<DivBackward0>)\n",
      "////////////////////////////////////\n",
      "***************************\n",
      "test : \n"
     ]
    },
    {
     "name": "stderr",
     "output_type": "stream",
     "text": [
      "Epoch 101: 100%|███████████████████████████| 243/243 [00:38<00:00,  6.33batch/s]\n"
     ]
    },
    {
     "name": "stdout",
     "output_type": "stream",
     "text": [
      "score: write test scores to /home/hassan-hossein/single_image_graph_face_anti_spoofing/train/Scores/epoch_101/score.txt\n",
      "epoch:101, test:  val_ACC=0.8708, HTER=0.1292, AUC=0.9029, val_err=0.1292, ACC=0.8708, TPR=0.2855\n"
     ]
    },
    {
     "name": "stderr",
     "output_type": "stream",
     "text": [
      "Epoch 102: 100%|█████████████████████████| 3448/3448 [08:29<00:00,  6.76batch/s]\n"
     ]
    },
    {
     "name": "stdout",
     "output_type": "stream",
     "text": [
      "/////////////////////////\n",
      "adverserial loss :  tensor(3.8778e-08, device='cuda:0', grad_fn=<DivBackward0>)\n",
      "classification loss :  tensor(1.4612e-06, device='cuda:0', grad_fn=<DivBackward0>)\n",
      "classification node loss :  tensor(7.3748e-05, device='cuda:0', grad_fn=<DivBackward0>)\n",
      "total loss :  tensor(7.5248e-05, device='cuda:0', grad_fn=<DivBackward0>)\n",
      "////////////////////////////////////\n",
      "***************************\n",
      "test : \n"
     ]
    },
    {
     "name": "stderr",
     "output_type": "stream",
     "text": [
      "Epoch 102: 100%|███████████████████████████| 243/243 [00:39<00:00,  6.19batch/s]\n"
     ]
    },
    {
     "name": "stdout",
     "output_type": "stream",
     "text": [
      "score: write test scores to /home/hassan-hossein/single_image_graph_face_anti_spoofing/train/Scores/epoch_102/score.txt\n",
      "epoch:102, test:  val_ACC=0.8934, HTER=0.1067, AUC=0.9346, val_err=0.1067, ACC=0.8934, TPR=0.5291\n"
     ]
    },
    {
     "name": "stderr",
     "output_type": "stream",
     "text": [
      "Epoch 103: 100%|█████████████████████████| 3448/3448 [08:30<00:00,  6.76batch/s]\n"
     ]
    },
    {
     "name": "stdout",
     "output_type": "stream",
     "text": [
      "/////////////////////////\n",
      "adverserial loss :  tensor(7.5671e-07, device='cuda:0', grad_fn=<DivBackward0>)\n",
      "classification loss :  tensor(1.7424e-06, device='cuda:0', grad_fn=<DivBackward0>)\n",
      "classification node loss :  tensor(7.3583e-05, device='cuda:0', grad_fn=<DivBackward0>)\n",
      "total loss :  tensor(7.6082e-05, device='cuda:0', grad_fn=<DivBackward0>)\n",
      "////////////////////////////////////\n",
      "***************************\n",
      "test : \n"
     ]
    },
    {
     "name": "stderr",
     "output_type": "stream",
     "text": [
      "Epoch 103: 100%|███████████████████████████| 243/243 [00:38<00:00,  6.34batch/s]\n"
     ]
    },
    {
     "name": "stdout",
     "output_type": "stream",
     "text": [
      "score: write test scores to /home/hassan-hossein/single_image_graph_face_anti_spoofing/train/Scores/epoch_103/score.txt\n",
      "epoch:103, test:  val_ACC=0.8804, HTER=0.1196, AUC=0.9194, val_err=0.1196, ACC=0.8804, TPR=0.5136\n"
     ]
    },
    {
     "name": "stderr",
     "output_type": "stream",
     "text": [
      "Epoch 104: 100%|█████████████████████████| 3448/3448 [08:29<00:00,  6.76batch/s]\n"
     ]
    },
    {
     "name": "stdout",
     "output_type": "stream",
     "text": [
      "/////////////////////////\n",
      "adverserial loss :  tensor(8.9798e-07, device='cuda:0', grad_fn=<DivBackward0>)\n",
      "classification loss :  tensor(1.2643e-06, device='cuda:0', grad_fn=<DivBackward0>)\n",
      "classification node loss :  tensor(7.0802e-05, device='cuda:0', grad_fn=<DivBackward0>)\n",
      "total loss :  tensor(7.2964e-05, device='cuda:0', grad_fn=<DivBackward0>)\n",
      "////////////////////////////////////\n",
      "***************************\n",
      "test : \n"
     ]
    },
    {
     "name": "stderr",
     "output_type": "stream",
     "text": [
      "Epoch 104: 100%|███████████████████████████| 243/243 [00:38<00:00,  6.29batch/s]\n"
     ]
    },
    {
     "name": "stdout",
     "output_type": "stream",
     "text": [
      "score: write test scores to /home/hassan-hossein/single_image_graph_face_anti_spoofing/train/Scores/epoch_104/score.txt\n",
      "epoch:104, test:  val_ACC=0.9024, HTER=0.0977, AUC=0.9381, val_err=0.0977, ACC=0.9024, TPR=0.6417\n"
     ]
    },
    {
     "name": "stderr",
     "output_type": "stream",
     "text": [
      "Epoch 105: 100%|█████████████████████████| 3448/3448 [08:29<00:00,  6.77batch/s]\n"
     ]
    },
    {
     "name": "stdout",
     "output_type": "stream",
     "text": [
      "/////////////////////////\n",
      "adverserial loss :  tensor(1.1007e-06, device='cuda:0', grad_fn=<DivBackward0>)\n",
      "classification loss :  tensor(1.9606e-06, device='cuda:0', grad_fn=<DivBackward0>)\n",
      "classification node loss :  tensor(7.2252e-05, device='cuda:0', grad_fn=<DivBackward0>)\n",
      "total loss :  tensor(7.5314e-05, device='cuda:0', grad_fn=<DivBackward0>)\n",
      "////////////////////////////////////\n",
      "***************************\n",
      "test : \n"
     ]
    },
    {
     "name": "stderr",
     "output_type": "stream",
     "text": [
      "Epoch 105: 100%|███████████████████████████| 243/243 [00:39<00:00,  6.12batch/s]\n"
     ]
    },
    {
     "name": "stdout",
     "output_type": "stream",
     "text": [
      "score: write test scores to /home/hassan-hossein/single_image_graph_face_anti_spoofing/train/Scores/epoch_105/score.txt\n",
      "epoch:105, test:  val_ACC=0.8552, HTER=0.1448, AUC=0.9256, val_err=0.1448, ACC=0.8552, TPR=0.5365\n"
     ]
    },
    {
     "name": "stderr",
     "output_type": "stream",
     "text": [
      "Epoch 106: 100%|█████████████████████████| 3448/3448 [08:30<00:00,  6.75batch/s]\n"
     ]
    },
    {
     "name": "stdout",
     "output_type": "stream",
     "text": [
      "/////////////////////////\n",
      "adverserial loss :  tensor(2.8579e-07, device='cuda:0', grad_fn=<DivBackward0>)\n",
      "classification loss :  tensor(1.0105e-06, device='cuda:0', grad_fn=<DivBackward0>)\n",
      "classification node loss :  tensor(7.3915e-05, device='cuda:0', grad_fn=<DivBackward0>)\n",
      "total loss :  tensor(7.5211e-05, device='cuda:0', grad_fn=<DivBackward0>)\n",
      "////////////////////////////////////\n",
      "***************************\n",
      "test : \n"
     ]
    },
    {
     "name": "stderr",
     "output_type": "stream",
     "text": [
      "Epoch 106: 100%|███████████████████████████| 243/243 [00:38<00:00,  6.31batch/s]\n"
     ]
    },
    {
     "name": "stdout",
     "output_type": "stream",
     "text": [
      "score: write test scores to /home/hassan-hossein/single_image_graph_face_anti_spoofing/train/Scores/epoch_106/score.txt\n",
      "epoch:106, test:  val_ACC=0.8742, HTER=0.1258, AUC=0.9215, val_err=0.1258, ACC=0.8742, TPR=0.4372\n"
     ]
    },
    {
     "name": "stderr",
     "output_type": "stream",
     "text": [
      "Epoch 107: 100%|█████████████████████████| 3448/3448 [08:30<00:00,  6.75batch/s]\n"
     ]
    },
    {
     "name": "stdout",
     "output_type": "stream",
     "text": [
      "/////////////////////////\n",
      "adverserial loss :  tensor(6.5223e-07, device='cuda:0', grad_fn=<DivBackward0>)\n",
      "classification loss :  tensor(2.8520e-06, device='cuda:0', grad_fn=<DivBackward0>)\n",
      "classification node loss :  tensor(7.5008e-05, device='cuda:0', grad_fn=<DivBackward0>)\n",
      "total loss :  tensor(7.8512e-05, device='cuda:0', grad_fn=<DivBackward0>)\n",
      "////////////////////////////////////\n",
      "***************************\n",
      "test : \n"
     ]
    },
    {
     "name": "stderr",
     "output_type": "stream",
     "text": [
      "Epoch 107: 100%|███████████████████████████| 243/243 [00:39<00:00,  6.08batch/s]\n"
     ]
    },
    {
     "name": "stdout",
     "output_type": "stream",
     "text": [
      "score: write test scores to /home/hassan-hossein/single_image_graph_face_anti_spoofing/train/Scores/epoch_107/score.txt\n",
      "epoch:107, test:  val_ACC=0.8595, HTER=0.1405, AUC=0.9078, val_err=0.1406, ACC=0.8595, TPR=0.3616\n"
     ]
    },
    {
     "name": "stderr",
     "output_type": "stream",
     "text": [
      "Epoch 108: 100%|█████████████████████████| 3448/3448 [08:30<00:00,  6.76batch/s]\n"
     ]
    },
    {
     "name": "stdout",
     "output_type": "stream",
     "text": [
      "/////////////////////////\n",
      "adverserial loss :  tensor(1.0007e-06, device='cuda:0', grad_fn=<DivBackward0>)\n",
      "classification loss :  tensor(1.1346e-06, device='cuda:0', grad_fn=<DivBackward0>)\n",
      "classification node loss :  tensor(6.3604e-05, device='cuda:0', grad_fn=<DivBackward0>)\n",
      "total loss :  tensor(6.5739e-05, device='cuda:0', grad_fn=<DivBackward0>)\n",
      "////////////////////////////////////\n",
      "***************************\n",
      "test : \n"
     ]
    },
    {
     "name": "stderr",
     "output_type": "stream",
     "text": [
      "Epoch 108: 100%|███████████████████████████| 243/243 [00:39<00:00,  6.19batch/s]\n"
     ]
    },
    {
     "name": "stdout",
     "output_type": "stream",
     "text": [
      "score: write test scores to /home/hassan-hossein/single_image_graph_face_anti_spoofing/train/Scores/epoch_108/score.txt\n",
      "epoch:108, test:  val_ACC=0.8604, HTER=0.1396, AUC=0.9127, val_err=0.1396, ACC=0.8604, TPR=0.4084\n"
     ]
    },
    {
     "name": "stderr",
     "output_type": "stream",
     "text": [
      "Epoch 109: 100%|█████████████████████████| 3448/3448 [08:30<00:00,  6.76batch/s]\n"
     ]
    },
    {
     "name": "stdout",
     "output_type": "stream",
     "text": [
      "/////////////////////////\n",
      "adverserial loss :  tensor(2.0976e-07, device='cuda:0', grad_fn=<DivBackward0>)\n",
      "classification loss :  tensor(4.9394e-07, device='cuda:0', grad_fn=<DivBackward0>)\n",
      "classification node loss :  tensor(6.8411e-05, device='cuda:0', grad_fn=<DivBackward0>)\n",
      "total loss :  tensor(6.9114e-05, device='cuda:0', grad_fn=<DivBackward0>)\n",
      "////////////////////////////////////\n",
      "***************************\n",
      "test : \n"
     ]
    },
    {
     "name": "stderr",
     "output_type": "stream",
     "text": [
      "Epoch 109: 100%|███████████████████████████| 243/243 [00:39<00:00,  6.20batch/s]\n"
     ]
    },
    {
     "name": "stdout",
     "output_type": "stream",
     "text": [
      "score: write test scores to /home/hassan-hossein/single_image_graph_face_anti_spoofing/train/Scores/epoch_109/score.txt\n",
      "epoch:109, test:  val_ACC=0.8750, HTER=0.1250, AUC=0.9044, val_err=0.1250, ACC=0.8750, TPR=0.3385\n"
     ]
    },
    {
     "name": "stderr",
     "output_type": "stream",
     "text": [
      "Epoch 110: 100%|█████████████████████████| 3448/3448 [08:29<00:00,  6.77batch/s]\n"
     ]
    },
    {
     "name": "stdout",
     "output_type": "stream",
     "text": [
      "/////////////////////////\n",
      "adverserial loss :  tensor(1.7187e-06, device='cuda:0', grad_fn=<DivBackward0>)\n",
      "classification loss :  tensor(2.7314e-06, device='cuda:0', grad_fn=<DivBackward0>)\n",
      "classification node loss :  tensor(8.4872e-05, device='cuda:0', grad_fn=<DivBackward0>)\n",
      "total loss :  tensor(8.9322e-05, device='cuda:0', grad_fn=<DivBackward0>)\n",
      "////////////////////////////////////\n",
      "***************************\n",
      "test : \n"
     ]
    },
    {
     "name": "stderr",
     "output_type": "stream",
     "text": [
      "Epoch 110: 100%|███████████████████████████| 243/243 [00:38<00:00,  6.27batch/s]\n"
     ]
    },
    {
     "name": "stdout",
     "output_type": "stream",
     "text": [
      "score: write test scores to /home/hassan-hossein/single_image_graph_face_anti_spoofing/train/Scores/epoch_110/score.txt\n",
      "epoch:110, test:  val_ACC=0.8660, HTER=0.1340, AUC=0.8886, val_err=0.1340, ACC=0.8660, TPR=0.1479\n"
     ]
    },
    {
     "name": "stderr",
     "output_type": "stream",
     "text": [
      "Epoch 111: 100%|█████████████████████████| 3448/3448 [08:30<00:00,  6.75batch/s]\n"
     ]
    },
    {
     "name": "stdout",
     "output_type": "stream",
     "text": [
      "/////////////////////////\n",
      "adverserial loss :  tensor(8.3811e-08, device='cuda:0', grad_fn=<DivBackward0>)\n",
      "classification loss :  tensor(1.3735e-06, device='cuda:0', grad_fn=<DivBackward0>)\n",
      "classification node loss :  tensor(7.6874e-05, device='cuda:0', grad_fn=<DivBackward0>)\n",
      "total loss :  tensor(7.8331e-05, device='cuda:0', grad_fn=<DivBackward0>)\n",
      "////////////////////////////////////\n",
      "***************************\n",
      "test : \n"
     ]
    },
    {
     "name": "stderr",
     "output_type": "stream",
     "text": [
      "Epoch 111: 100%|███████████████████████████| 243/243 [00:39<00:00,  6.08batch/s]\n"
     ]
    },
    {
     "name": "stdout",
     "output_type": "stream",
     "text": [
      "score: write test scores to /home/hassan-hossein/single_image_graph_face_anti_spoofing/train/Scores/epoch_111/score.txt\n",
      "epoch:111, test:  val_ACC=0.8639, HTER=0.1361, AUC=0.9123, val_err=0.1361, ACC=0.8639, TPR=0.5404\n"
     ]
    },
    {
     "name": "stderr",
     "output_type": "stream",
     "text": [
      "Epoch 112: 100%|█████████████████████████| 3448/3448 [08:30<00:00,  6.75batch/s]\n"
     ]
    },
    {
     "name": "stdout",
     "output_type": "stream",
     "text": [
      "/////////////////////////\n",
      "adverserial loss :  tensor(1.0878e-06, device='cuda:0', grad_fn=<DivBackward0>)\n",
      "classification loss :  tensor(2.4420e-06, device='cuda:0', grad_fn=<DivBackward0>)\n",
      "classification node loss :  tensor(5.8411e-05, device='cuda:0', grad_fn=<DivBackward0>)\n",
      "total loss :  tensor(6.1941e-05, device='cuda:0', grad_fn=<DivBackward0>)\n",
      "////////////////////////////////////\n",
      "***************************\n",
      "test : \n"
     ]
    },
    {
     "name": "stderr",
     "output_type": "stream",
     "text": [
      "Epoch 112: 100%|███████████████████████████| 243/243 [00:39<00:00,  6.21batch/s]\n"
     ]
    },
    {
     "name": "stdout",
     "output_type": "stream",
     "text": [
      "score: write test scores to /home/hassan-hossein/single_image_graph_face_anti_spoofing/train/Scores/epoch_112/score.txt\n",
      "epoch:112, test:  val_ACC=0.8632, HTER=0.1368, AUC=0.9083, val_err=0.1368, ACC=0.8632, TPR=0.6137\n"
     ]
    },
    {
     "name": "stderr",
     "output_type": "stream",
     "text": [
      "Epoch 113: 100%|█████████████████████████| 3448/3448 [08:29<00:00,  6.76batch/s]\n"
     ]
    },
    {
     "name": "stdout",
     "output_type": "stream",
     "text": [
      "/////////////////////////\n",
      "adverserial loss :  tensor(5.2526e-07, device='cuda:0', grad_fn=<DivBackward0>)\n",
      "classification loss :  tensor(1.5182e-06, device='cuda:0', grad_fn=<DivBackward0>)\n",
      "classification node loss :  tensor(6.5544e-05, device='cuda:0', grad_fn=<DivBackward0>)\n",
      "total loss :  tensor(6.7588e-05, device='cuda:0', grad_fn=<DivBackward0>)\n",
      "////////////////////////////////////\n",
      "***************************\n",
      "test : \n"
     ]
    },
    {
     "name": "stderr",
     "output_type": "stream",
     "text": [
      "Epoch 113: 100%|███████████████████████████| 243/243 [00:39<00:00,  6.10batch/s]\n"
     ]
    },
    {
     "name": "stdout",
     "output_type": "stream",
     "text": [
      "score: write test scores to /home/hassan-hossein/single_image_graph_face_anti_spoofing/train/Scores/epoch_113/score.txt\n",
      "epoch:113, test:  val_ACC=0.8742, HTER=0.1258, AUC=0.8997, val_err=0.1258, ACC=0.8742, TPR=0.1914\n"
     ]
    },
    {
     "name": "stderr",
     "output_type": "stream",
     "text": [
      "Epoch 114: 100%|█████████████████████████| 3448/3448 [08:30<00:00,  6.75batch/s]\n"
     ]
    },
    {
     "name": "stdout",
     "output_type": "stream",
     "text": [
      "/////////////////////////\n",
      "adverserial loss :  tensor(7.5823e-08, device='cuda:0', grad_fn=<DivBackward0>)\n",
      "classification loss :  tensor(1.8784e-06, device='cuda:0', grad_fn=<DivBackward0>)\n",
      "classification node loss :  tensor(6.5286e-05, device='cuda:0', grad_fn=<DivBackward0>)\n",
      "total loss :  tensor(6.7241e-05, device='cuda:0', grad_fn=<DivBackward0>)\n",
      "////////////////////////////////////\n",
      "***************************\n",
      "test : \n"
     ]
    },
    {
     "name": "stderr",
     "output_type": "stream",
     "text": [
      "Epoch 114: 100%|███████████████████████████| 243/243 [00:39<00:00,  6.11batch/s]\n"
     ]
    },
    {
     "name": "stdout",
     "output_type": "stream",
     "text": [
      "score: write test scores to /home/hassan-hossein/single_image_graph_face_anti_spoofing/train/Scores/epoch_114/score.txt\n",
      "epoch:114, test:  val_ACC=0.8837, HTER=0.1163, AUC=0.9079, val_err=0.1163, ACC=0.8837, TPR=0.3089\n"
     ]
    },
    {
     "name": "stderr",
     "output_type": "stream",
     "text": [
      "Epoch 115: 100%|█████████████████████████| 3448/3448 [08:30<00:00,  6.75batch/s]\n"
     ]
    },
    {
     "name": "stdout",
     "output_type": "stream",
     "text": [
      "/////////////////////////\n",
      "adverserial loss :  tensor(1.7705e-06, device='cuda:0', grad_fn=<DivBackward0>)\n",
      "classification loss :  tensor(6.8391e-07, device='cuda:0', grad_fn=<DivBackward0>)\n",
      "classification node loss :  tensor(6.4415e-05, device='cuda:0', grad_fn=<DivBackward0>)\n",
      "total loss :  tensor(6.6869e-05, device='cuda:0', grad_fn=<DivBackward0>)\n",
      "////////////////////////////////////\n",
      "***************************\n",
      "test : \n"
     ]
    },
    {
     "name": "stderr",
     "output_type": "stream",
     "text": [
      "Epoch 115: 100%|███████████████████████████| 243/243 [00:39<00:00,  6.19batch/s]\n"
     ]
    },
    {
     "name": "stdout",
     "output_type": "stream",
     "text": [
      "score: write test scores to /home/hassan-hossein/single_image_graph_face_anti_spoofing/train/Scores/epoch_115/score.txt\n",
      "epoch:115, test:  val_ACC=0.8593, HTER=0.1407, AUC=0.9017, val_err=0.1407, ACC=0.8593, TPR=0.4156\n"
     ]
    },
    {
     "name": "stderr",
     "output_type": "stream",
     "text": [
      "Epoch 116: 100%|█████████████████████████| 3448/3448 [08:31<00:00,  6.74batch/s]\n"
     ]
    },
    {
     "name": "stdout",
     "output_type": "stream",
     "text": [
      "/////////////////////////\n",
      "adverserial loss :  tensor(4.1952e-07, device='cuda:0', grad_fn=<DivBackward0>)\n",
      "classification loss :  tensor(1.2288e-06, device='cuda:0', grad_fn=<DivBackward0>)\n",
      "classification node loss :  tensor(7.4177e-05, device='cuda:0', grad_fn=<DivBackward0>)\n",
      "total loss :  tensor(7.5826e-05, device='cuda:0', grad_fn=<DivBackward0>)\n",
      "////////////////////////////////////\n",
      "***************************\n",
      "test : \n"
     ]
    },
    {
     "name": "stderr",
     "output_type": "stream",
     "text": [
      "Epoch 116: 100%|███████████████████████████| 243/243 [00:39<00:00,  6.22batch/s]\n"
     ]
    },
    {
     "name": "stdout",
     "output_type": "stream",
     "text": [
      "score: write test scores to /home/hassan-hossein/single_image_graph_face_anti_spoofing/train/Scores/epoch_116/score.txt\n",
      "epoch:116, test:  val_ACC=0.8969, HTER=0.1032, AUC=0.9337, val_err=0.1032, ACC=0.8969, TPR=0.6394\n"
     ]
    },
    {
     "name": "stderr",
     "output_type": "stream",
     "text": [
      "Epoch 117: 100%|█████████████████████████| 3448/3448 [08:31<00:00,  6.74batch/s]\n"
     ]
    },
    {
     "name": "stdout",
     "output_type": "stream",
     "text": [
      "/////////////////////////\n",
      "adverserial loss :  tensor(4.4064e-07, device='cuda:0', grad_fn=<DivBackward0>)\n",
      "classification loss :  tensor(1.4826e-06, device='cuda:0', grad_fn=<DivBackward0>)\n",
      "classification node loss :  tensor(5.9567e-05, device='cuda:0', grad_fn=<DivBackward0>)\n",
      "total loss :  tensor(6.1490e-05, device='cuda:0', grad_fn=<DivBackward0>)\n",
      "////////////////////////////////////\n",
      "***************************\n",
      "test : \n"
     ]
    },
    {
     "name": "stderr",
     "output_type": "stream",
     "text": [
      "Epoch 117: 100%|███████████████████████████| 243/243 [00:38<00:00,  6.29batch/s]\n"
     ]
    },
    {
     "name": "stdout",
     "output_type": "stream",
     "text": [
      "score: write test scores to /home/hassan-hossein/single_image_graph_face_anti_spoofing/train/Scores/epoch_117/score.txt\n",
      "epoch:117, test:  val_ACC=0.8947, HTER=0.1053, AUC=0.9196, val_err=0.1053, ACC=0.8947, TPR=0.5985\n"
     ]
    },
    {
     "name": "stderr",
     "output_type": "stream",
     "text": [
      "Epoch 118: 100%|█████████████████████████| 3448/3448 [08:30<00:00,  6.75batch/s]\n"
     ]
    },
    {
     "name": "stdout",
     "output_type": "stream",
     "text": [
      "/////////////////////////\n",
      "adverserial loss :  tensor(6.7028e-07, device='cuda:0', grad_fn=<DivBackward0>)\n",
      "classification loss :  tensor(1.8371e-06, device='cuda:0', grad_fn=<DivBackward0>)\n",
      "classification node loss :  tensor(6.4444e-05, device='cuda:0', grad_fn=<DivBackward0>)\n",
      "total loss :  tensor(6.6952e-05, device='cuda:0', grad_fn=<DivBackward0>)\n",
      "////////////////////////////////////\n",
      "***************************\n",
      "test : \n"
     ]
    },
    {
     "name": "stderr",
     "output_type": "stream",
     "text": [
      "Epoch 118: 100%|███████████████████████████| 243/243 [00:39<00:00,  6.22batch/s]\n"
     ]
    },
    {
     "name": "stdout",
     "output_type": "stream",
     "text": [
      "score: write test scores to /home/hassan-hossein/single_image_graph_face_anti_spoofing/train/Scores/epoch_118/score.txt\n",
      "epoch:118, test:  val_ACC=0.8655, HTER=0.1345, AUC=0.8974, val_err=0.1346, ACC=0.8655, TPR=0.2834\n"
     ]
    },
    {
     "name": "stderr",
     "output_type": "stream",
     "text": [
      "Epoch 119: 100%|█████████████████████████| 3448/3448 [08:30<00:00,  6.75batch/s]\n"
     ]
    },
    {
     "name": "stdout",
     "output_type": "stream",
     "text": [
      "/////////////////////////\n",
      "adverserial loss :  tensor(1.3750e-06, device='cuda:0', grad_fn=<DivBackward0>)\n",
      "classification loss :  tensor(1.2027e-06, device='cuda:0', grad_fn=<DivBackward0>)\n",
      "classification node loss :  tensor(6.4588e-05, device='cuda:0', grad_fn=<DivBackward0>)\n",
      "total loss :  tensor(6.7166e-05, device='cuda:0', grad_fn=<DivBackward0>)\n",
      "////////////////////////////////////\n",
      "***************************\n",
      "test : \n"
     ]
    },
    {
     "name": "stderr",
     "output_type": "stream",
     "text": [
      "Epoch 119: 100%|███████████████████████████| 243/243 [00:38<00:00,  6.26batch/s]\n"
     ]
    },
    {
     "name": "stdout",
     "output_type": "stream",
     "text": [
      "score: write test scores to /home/hassan-hossein/single_image_graph_face_anti_spoofing/train/Scores/epoch_119/score.txt\n",
      "epoch:119, test:  val_ACC=0.8954, HTER=0.1047, AUC=0.9153, val_err=0.1047, ACC=0.8954, TPR=0.5862\n"
     ]
    },
    {
     "name": "stderr",
     "output_type": "stream",
     "text": [
      "Epoch 120: 100%|█████████████████████████| 3448/3448 [08:31<00:00,  6.74batch/s]\n"
     ]
    },
    {
     "name": "stdout",
     "output_type": "stream",
     "text": [
      "/////////////////////////\n",
      "adverserial loss :  tensor(2.7629e-07, device='cuda:0', grad_fn=<DivBackward0>)\n",
      "classification loss :  tensor(1.1351e-06, device='cuda:0', grad_fn=<DivBackward0>)\n",
      "classification node loss :  tensor(7.5397e-05, device='cuda:0', grad_fn=<DivBackward0>)\n",
      "total loss :  tensor(7.6808e-05, device='cuda:0', grad_fn=<DivBackward0>)\n",
      "////////////////////////////////////\n",
      "***************************\n",
      "test : \n"
     ]
    },
    {
     "name": "stderr",
     "output_type": "stream",
     "text": [
      "Epoch 120: 100%|███████████████████████████| 243/243 [00:38<00:00,  6.35batch/s]\n"
     ]
    },
    {
     "name": "stdout",
     "output_type": "stream",
     "text": [
      "score: write test scores to /home/hassan-hossein/single_image_graph_face_anti_spoofing/train/Scores/epoch_120/score.txt\n",
      "epoch:120, test:  val_ACC=0.8660, HTER=0.1340, AUC=0.8969, val_err=0.1340, ACC=0.8660, TPR=0.3565\n"
     ]
    },
    {
     "name": "stderr",
     "output_type": "stream",
     "text": [
      "Epoch 121: 100%|█████████████████████████| 3448/3448 [08:29<00:00,  6.76batch/s]\n"
     ]
    },
    {
     "name": "stdout",
     "output_type": "stream",
     "text": [
      "/////////////////////////\n",
      "adverserial loss :  tensor(3.9240e-07, device='cuda:0', grad_fn=<DivBackward0>)\n",
      "classification loss :  tensor(1.3886e-06, device='cuda:0', grad_fn=<DivBackward0>)\n",
      "classification node loss :  tensor(6.0246e-05, device='cuda:0', grad_fn=<DivBackward0>)\n",
      "total loss :  tensor(6.2027e-05, device='cuda:0', grad_fn=<DivBackward0>)\n",
      "////////////////////////////////////\n",
      "***************************\n",
      "test : \n"
     ]
    },
    {
     "name": "stderr",
     "output_type": "stream",
     "text": [
      "Epoch 121: 100%|███████████████████████████| 243/243 [00:38<00:00,  6.24batch/s]\n"
     ]
    },
    {
     "name": "stdout",
     "output_type": "stream",
     "text": [
      "score: write test scores to /home/hassan-hossein/single_image_graph_face_anti_spoofing/train/Scores/epoch_121/score.txt\n",
      "epoch:121, test:  val_ACC=0.8784, HTER=0.1217, AUC=0.9141, val_err=0.1217, ACC=0.8784, TPR=0.4871\n"
     ]
    },
    {
     "name": "stderr",
     "output_type": "stream",
     "text": [
      "Epoch 122: 100%|█████████████████████████| 3448/3448 [08:31<00:00,  6.74batch/s]\n"
     ]
    },
    {
     "name": "stdout",
     "output_type": "stream",
     "text": [
      "/////////////////////////\n",
      "adverserial loss :  tensor(1.9426e-06, device='cuda:0', grad_fn=<DivBackward0>)\n",
      "classification loss :  tensor(7.3851e-06, device='cuda:0', grad_fn=<DivBackward0>)\n",
      "classification node loss :  tensor(6.0336e-05, device='cuda:0', grad_fn=<DivBackward0>)\n",
      "total loss :  tensor(6.9663e-05, device='cuda:0', grad_fn=<DivBackward0>)\n",
      "////////////////////////////////////\n",
      "***************************\n",
      "test : \n"
     ]
    },
    {
     "name": "stderr",
     "output_type": "stream",
     "text": [
      "Epoch 122: 100%|███████████████████████████| 243/243 [00:38<00:00,  6.24batch/s]\n"
     ]
    },
    {
     "name": "stdout",
     "output_type": "stream",
     "text": [
      "score: write test scores to /home/hassan-hossein/single_image_graph_face_anti_spoofing/train/Scores/epoch_122/score.txt\n",
      "epoch:122, test:  val_ACC=0.9008, HTER=0.0993, AUC=0.9400, val_err=0.0993, ACC=0.9008, TPR=0.5779\n"
     ]
    },
    {
     "name": "stderr",
     "output_type": "stream",
     "text": [
      "Epoch 123: 100%|█████████████████████████| 3448/3448 [08:29<00:00,  6.77batch/s]\n"
     ]
    },
    {
     "name": "stdout",
     "output_type": "stream",
     "text": [
      "/////////////////////////\n",
      "adverserial loss :  tensor(1.0352e-07, device='cuda:0', grad_fn=<DivBackward0>)\n",
      "classification loss :  tensor(5.1964e-06, device='cuda:0', grad_fn=<DivBackward0>)\n",
      "classification node loss :  tensor(6.2374e-05, device='cuda:0', grad_fn=<DivBackward0>)\n",
      "total loss :  tensor(6.7674e-05, device='cuda:0', grad_fn=<DivBackward0>)\n",
      "////////////////////////////////////\n",
      "***************************\n",
      "test : \n"
     ]
    },
    {
     "name": "stderr",
     "output_type": "stream",
     "text": [
      "Epoch 123: 100%|███████████████████████████| 243/243 [00:39<00:00,  6.16batch/s]\n"
     ]
    },
    {
     "name": "stdout",
     "output_type": "stream",
     "text": [
      "score: write test scores to /home/hassan-hossein/single_image_graph_face_anti_spoofing/train/Scores/epoch_123/score.txt\n",
      "epoch:123, test:  val_ACC=0.8946, HTER=0.1055, AUC=0.9194, val_err=0.1055, ACC=0.8946, TPR=0.4846\n"
     ]
    },
    {
     "name": "stderr",
     "output_type": "stream",
     "text": [
      "Epoch 124: 100%|█████████████████████████| 3448/3448 [08:33<00:00,  6.72batch/s]\n"
     ]
    },
    {
     "name": "stdout",
     "output_type": "stream",
     "text": [
      "/////////////////////////\n",
      "adverserial loss :  tensor(6.7824e-07, device='cuda:0', grad_fn=<DivBackward0>)\n",
      "classification loss :  tensor(8.2561e-07, device='cuda:0', grad_fn=<DivBackward0>)\n",
      "classification node loss :  tensor(6.3532e-05, device='cuda:0', grad_fn=<DivBackward0>)\n",
      "total loss :  tensor(6.5036e-05, device='cuda:0', grad_fn=<DivBackward0>)\n",
      "////////////////////////////////////\n",
      "***************************\n",
      "test : \n"
     ]
    },
    {
     "name": "stderr",
     "output_type": "stream",
     "text": [
      "Epoch 124: 100%|███████████████████████████| 243/243 [00:38<00:00,  6.28batch/s]\n"
     ]
    },
    {
     "name": "stdout",
     "output_type": "stream",
     "text": [
      "score: write test scores to /home/hassan-hossein/single_image_graph_face_anti_spoofing/train/Scores/epoch_124/score.txt\n",
      "epoch:124, test:  val_ACC=0.8745, HTER=0.1255, AUC=0.8913, val_err=0.1255, ACC=0.8745, TPR=0.1255\n"
     ]
    },
    {
     "name": "stderr",
     "output_type": "stream",
     "text": [
      "Epoch 125: 100%|█████████████████████████| 3448/3448 [08:31<00:00,  6.74batch/s]\n"
     ]
    },
    {
     "name": "stdout",
     "output_type": "stream",
     "text": [
      "/////////////////////////\n",
      "adverserial loss :  tensor(1.5059e-06, device='cuda:0', grad_fn=<DivBackward0>)\n",
      "classification loss :  tensor(1.3466e-06, device='cuda:0', grad_fn=<DivBackward0>)\n",
      "classification node loss :  tensor(6.6029e-05, device='cuda:0', grad_fn=<DivBackward0>)\n",
      "total loss :  tensor(6.8882e-05, device='cuda:0', grad_fn=<DivBackward0>)\n",
      "////////////////////////////////////\n",
      "***************************\n",
      "test : \n"
     ]
    },
    {
     "name": "stderr",
     "output_type": "stream",
     "text": [
      "Epoch 125: 100%|███████████████████████████| 243/243 [00:38<00:00,  6.34batch/s]\n"
     ]
    },
    {
     "name": "stdout",
     "output_type": "stream",
     "text": [
      "score: write test scores to /home/hassan-hossein/single_image_graph_face_anti_spoofing/train/Scores/epoch_125/score.txt\n",
      "epoch:125, test:  val_ACC=0.8902, HTER=0.1098, AUC=0.9184, val_err=0.1099, ACC=0.8902, TPR=0.5111\n"
     ]
    },
    {
     "name": "stderr",
     "output_type": "stream",
     "text": [
      "Epoch 126: 100%|█████████████████████████| 3448/3448 [08:32<00:00,  6.73batch/s]\n"
     ]
    },
    {
     "name": "stdout",
     "output_type": "stream",
     "text": [
      "/////////////////////////\n",
      "adverserial loss :  tensor(2.6960e-07, device='cuda:0', grad_fn=<DivBackward0>)\n",
      "classification loss :  tensor(6.2183e-07, device='cuda:0', grad_fn=<DivBackward0>)\n",
      "classification node loss :  tensor(5.6793e-05, device='cuda:0', grad_fn=<DivBackward0>)\n",
      "total loss :  tensor(5.7685e-05, device='cuda:0', grad_fn=<DivBackward0>)\n",
      "////////////////////////////////////\n",
      "***************************\n",
      "test : \n"
     ]
    },
    {
     "name": "stderr",
     "output_type": "stream",
     "text": [
      "Epoch 126: 100%|███████████████████████████| 243/243 [00:38<00:00,  6.26batch/s]\n"
     ]
    },
    {
     "name": "stdout",
     "output_type": "stream",
     "text": [
      "score: write test scores to /home/hassan-hossein/single_image_graph_face_anti_spoofing/train/Scores/epoch_126/score.txt\n",
      "epoch:126, test:  val_ACC=0.8861, HTER=0.1140, AUC=0.9255, val_err=0.1140, ACC=0.8861, TPR=0.4699\n"
     ]
    },
    {
     "name": "stderr",
     "output_type": "stream",
     "text": [
      "Epoch 127: 100%|█████████████████████████| 3448/3448 [08:33<00:00,  6.71batch/s]\n"
     ]
    },
    {
     "name": "stdout",
     "output_type": "stream",
     "text": [
      "/////////////////////////\n",
      "adverserial loss :  tensor(5.4290e-07, device='cuda:0', grad_fn=<DivBackward0>)\n",
      "classification loss :  tensor(1.4074e-06, device='cuda:0', grad_fn=<DivBackward0>)\n",
      "classification node loss :  tensor(5.9636e-05, device='cuda:0', grad_fn=<DivBackward0>)\n",
      "total loss :  tensor(6.1587e-05, device='cuda:0', grad_fn=<DivBackward0>)\n",
      "////////////////////////////////////\n",
      "***************************\n",
      "test : \n"
     ]
    },
    {
     "name": "stderr",
     "output_type": "stream",
     "text": [
      "Epoch 127: 100%|███████████████████████████| 243/243 [00:38<00:00,  6.27batch/s]\n"
     ]
    },
    {
     "name": "stdout",
     "output_type": "stream",
     "text": [
      "score: write test scores to /home/hassan-hossein/single_image_graph_face_anti_spoofing/train/Scores/epoch_127/score.txt\n",
      "epoch:127, test:  val_ACC=0.8921, HTER=0.1078, AUC=0.9245, val_err=0.1079, ACC=0.8921, TPR=0.4136\n"
     ]
    },
    {
     "name": "stderr",
     "output_type": "stream",
     "text": [
      "Epoch 128: 100%|█████████████████████████| 3448/3448 [08:33<00:00,  6.72batch/s]\n"
     ]
    },
    {
     "name": "stdout",
     "output_type": "stream",
     "text": [
      "/////////////////////////\n",
      "adverserial loss :  tensor(7.8238e-07, device='cuda:0', grad_fn=<DivBackward0>)\n",
      "classification loss :  tensor(1.1642e-06, device='cuda:0', grad_fn=<DivBackward0>)\n",
      "classification node loss :  tensor(5.2729e-05, device='cuda:0', grad_fn=<DivBackward0>)\n",
      "total loss :  tensor(5.4676e-05, device='cuda:0', grad_fn=<DivBackward0>)\n",
      "////////////////////////////////////\n",
      "***************************\n",
      "test : \n"
     ]
    },
    {
     "name": "stderr",
     "output_type": "stream",
     "text": [
      "Epoch 128: 100%|███████████████████████████| 243/243 [00:38<00:00,  6.24batch/s]\n"
     ]
    },
    {
     "name": "stdout",
     "output_type": "stream",
     "text": [
      "score: write test scores to /home/hassan-hossein/single_image_graph_face_anti_spoofing/train/Scores/epoch_128/score.txt\n",
      "epoch:128, test:  val_ACC=0.9134, HTER=0.0866, AUC=0.9443, val_err=0.0866, ACC=0.9134, TPR=0.6265\n"
     ]
    },
    {
     "name": "stderr",
     "output_type": "stream",
     "text": [
      "Epoch 129: 100%|█████████████████████████| 3448/3448 [08:34<00:00,  6.70batch/s]\n"
     ]
    },
    {
     "name": "stdout",
     "output_type": "stream",
     "text": [
      "/////////////////////////\n",
      "adverserial loss :  tensor(3.2436e-07, device='cuda:0', grad_fn=<DivBackward0>)\n",
      "classification loss :  tensor(5.9347e-07, device='cuda:0', grad_fn=<DivBackward0>)\n",
      "classification node loss :  tensor(5.9170e-05, device='cuda:0', grad_fn=<DivBackward0>)\n",
      "total loss :  tensor(6.0088e-05, device='cuda:0', grad_fn=<DivBackward0>)\n",
      "////////////////////////////////////\n",
      "***************************\n",
      "test : \n"
     ]
    },
    {
     "name": "stderr",
     "output_type": "stream",
     "text": [
      "Epoch 129: 100%|███████████████████████████| 243/243 [00:39<00:00,  6.20batch/s]\n"
     ]
    },
    {
     "name": "stdout",
     "output_type": "stream",
     "text": [
      "score: write test scores to /home/hassan-hossein/single_image_graph_face_anti_spoofing/train/Scores/epoch_129/score.txt\n",
      "epoch:129, test:  val_ACC=0.9017, HTER=0.0983, AUC=0.9284, val_err=0.0984, ACC=0.9017, TPR=0.4354\n"
     ]
    },
    {
     "name": "stderr",
     "output_type": "stream",
     "text": [
      "Epoch 130: 100%|█████████████████████████| 3448/3448 [08:32<00:00,  6.73batch/s]\n"
     ]
    },
    {
     "name": "stdout",
     "output_type": "stream",
     "text": [
      "/////////////////////////\n",
      "adverserial loss :  tensor(3.4032e-08, device='cuda:0', grad_fn=<DivBackward0>)\n",
      "classification loss :  tensor(1.0899e-06, device='cuda:0', grad_fn=<DivBackward0>)\n",
      "classification node loss :  tensor(5.6120e-05, device='cuda:0', grad_fn=<DivBackward0>)\n",
      "total loss :  tensor(5.7244e-05, device='cuda:0', grad_fn=<DivBackward0>)\n",
      "////////////////////////////////////\n",
      "***************************\n",
      "test : \n"
     ]
    },
    {
     "name": "stderr",
     "output_type": "stream",
     "text": [
      "Epoch 130: 100%|███████████████████████████| 243/243 [00:38<00:00,  6.37batch/s]\n"
     ]
    },
    {
     "name": "stdout",
     "output_type": "stream",
     "text": [
      "score: write test scores to /home/hassan-hossein/single_image_graph_face_anti_spoofing/train/Scores/epoch_130/score.txt\n",
      "epoch:130, test:  val_ACC=0.8918, HTER=0.1083, AUC=0.9276, val_err=0.1082, ACC=0.8918, TPR=0.3354\n"
     ]
    },
    {
     "name": "stderr",
     "output_type": "stream",
     "text": [
      "Epoch 131: 100%|█████████████████████████| 3448/3448 [08:34<00:00,  6.70batch/s]\n"
     ]
    },
    {
     "name": "stdout",
     "output_type": "stream",
     "text": [
      "/////////////////////////\n",
      "adverserial loss :  tensor(1.5944e-06, device='cuda:0', grad_fn=<DivBackward0>)\n",
      "classification loss :  tensor(1.5762e-06, device='cuda:0', grad_fn=<DivBackward0>)\n",
      "classification node loss :  tensor(5.6134e-05, device='cuda:0', grad_fn=<DivBackward0>)\n",
      "total loss :  tensor(5.9305e-05, device='cuda:0', grad_fn=<DivBackward0>)\n",
      "////////////////////////////////////\n",
      "***************************\n",
      "test : \n"
     ]
    },
    {
     "name": "stderr",
     "output_type": "stream",
     "text": [
      "Epoch 131: 100%|███████████████████████████| 243/243 [00:38<00:00,  6.30batch/s]\n"
     ]
    },
    {
     "name": "stdout",
     "output_type": "stream",
     "text": [
      "score: write test scores to /home/hassan-hossein/single_image_graph_face_anti_spoofing/train/Scores/epoch_131/score.txt\n",
      "epoch:131, test:  val_ACC=0.8947, HTER=0.1053, AUC=0.9280, val_err=0.1053, ACC=0.8947, TPR=0.3822\n"
     ]
    },
    {
     "name": "stderr",
     "output_type": "stream",
     "text": [
      "Epoch 132: 100%|█████████████████████████| 3448/3448 [08:34<00:00,  6.71batch/s]\n"
     ]
    },
    {
     "name": "stdout",
     "output_type": "stream",
     "text": [
      "/////////////////////////\n",
      "adverserial loss :  tensor(7.4131e-07, device='cuda:0', grad_fn=<DivBackward0>)\n",
      "classification loss :  tensor(1.3096e-06, device='cuda:0', grad_fn=<DivBackward0>)\n",
      "classification node loss :  tensor(5.4598e-05, device='cuda:0', grad_fn=<DivBackward0>)\n",
      "total loss :  tensor(5.6649e-05, device='cuda:0', grad_fn=<DivBackward0>)\n",
      "////////////////////////////////////\n",
      "***************************\n",
      "test : \n"
     ]
    },
    {
     "name": "stderr",
     "output_type": "stream",
     "text": [
      "Epoch 132: 100%|███████████████████████████| 243/243 [00:39<00:00,  6.22batch/s]\n"
     ]
    },
    {
     "name": "stdout",
     "output_type": "stream",
     "text": [
      "score: write test scores to /home/hassan-hossein/single_image_graph_face_anti_spoofing/train/Scores/epoch_132/score.txt\n",
      "epoch:132, test:  val_ACC=0.8735, HTER=0.1266, AUC=0.9122, val_err=0.1266, ACC=0.8735, TPR=0.3282\n"
     ]
    },
    {
     "name": "stderr",
     "output_type": "stream",
     "text": [
      "Epoch 133: 100%|█████████████████████████| 3448/3448 [08:33<00:00,  6.72batch/s]\n"
     ]
    },
    {
     "name": "stdout",
     "output_type": "stream",
     "text": [
      "/////////////////////////\n",
      "adverserial loss :  tensor(2.9453e-07, device='cuda:0', grad_fn=<DivBackward0>)\n",
      "classification loss :  tensor(6.9267e-07, device='cuda:0', grad_fn=<DivBackward0>)\n",
      "classification node loss :  tensor(5.4662e-05, device='cuda:0', grad_fn=<DivBackward0>)\n",
      "total loss :  tensor(5.5649e-05, device='cuda:0', grad_fn=<DivBackward0>)\n",
      "////////////////////////////////////\n",
      "***************************\n",
      "test : \n"
     ]
    },
    {
     "name": "stderr",
     "output_type": "stream",
     "text": [
      "Epoch 133: 100%|███████████████████████████| 243/243 [00:38<00:00,  6.24batch/s]\n"
     ]
    },
    {
     "name": "stdout",
     "output_type": "stream",
     "text": [
      "score: write test scores to /home/hassan-hossein/single_image_graph_face_anti_spoofing/train/Scores/epoch_133/score.txt\n",
      "epoch:133, test:  val_ACC=0.8633, HTER=0.1366, AUC=0.8970, val_err=0.1367, ACC=0.8633, TPR=0.0818\n"
     ]
    },
    {
     "name": "stderr",
     "output_type": "stream",
     "text": [
      "Epoch 134: 100%|█████████████████████████| 3448/3448 [08:33<00:00,  6.71batch/s]\n"
     ]
    },
    {
     "name": "stdout",
     "output_type": "stream",
     "text": [
      "/////////////////////////\n",
      "adverserial loss :  tensor(1.2857e-06, device='cuda:0', grad_fn=<DivBackward0>)\n",
      "classification loss :  tensor(1.6974e-06, device='cuda:0', grad_fn=<DivBackward0>)\n",
      "classification node loss :  tensor(5.2514e-05, device='cuda:0', grad_fn=<DivBackward0>)\n",
      "total loss :  tensor(5.5497e-05, device='cuda:0', grad_fn=<DivBackward0>)\n",
      "////////////////////////////////////\n",
      "***************************\n",
      "test : \n"
     ]
    },
    {
     "name": "stderr",
     "output_type": "stream",
     "text": [
      "Epoch 134: 100%|███████████████████████████| 243/243 [00:39<00:00,  6.12batch/s]\n"
     ]
    },
    {
     "name": "stdout",
     "output_type": "stream",
     "text": [
      "score: write test scores to /home/hassan-hossein/single_image_graph_face_anti_spoofing/train/Scores/epoch_134/score.txt\n",
      "epoch:134, test:  val_ACC=0.8985, HTER=0.1016, AUC=0.9254, val_err=0.1016, ACC=0.8985, TPR=0.6260\n"
     ]
    },
    {
     "name": "stderr",
     "output_type": "stream",
     "text": [
      "Epoch 135: 100%|█████████████████████████| 3448/3448 [08:34<00:00,  6.71batch/s]\n"
     ]
    },
    {
     "name": "stdout",
     "output_type": "stream",
     "text": [
      "/////////////////////////\n",
      "adverserial loss :  tensor(1.6470e-07, device='cuda:0', grad_fn=<DivBackward0>)\n",
      "classification loss :  tensor(1.1418e-06, device='cuda:0', grad_fn=<DivBackward0>)\n",
      "classification node loss :  tensor(4.9728e-05, device='cuda:0', grad_fn=<DivBackward0>)\n",
      "total loss :  tensor(5.1034e-05, device='cuda:0', grad_fn=<DivBackward0>)\n",
      "////////////////////////////////////\n",
      "***************************\n",
      "test : \n"
     ]
    },
    {
     "name": "stderr",
     "output_type": "stream",
     "text": [
      "Epoch 135: 100%|███████████████████████████| 243/243 [00:38<00:00,  6.27batch/s]\n"
     ]
    },
    {
     "name": "stdout",
     "output_type": "stream",
     "text": [
      "score: write test scores to /home/hassan-hossein/single_image_graph_face_anti_spoofing/train/Scores/epoch_135/score.txt\n",
      "epoch:135, test:  val_ACC=0.8689, HTER=0.1312, AUC=0.8988, val_err=0.1312, ACC=0.8689, TPR=0.0844\n"
     ]
    },
    {
     "name": "stderr",
     "output_type": "stream",
     "text": [
      "Epoch 136: 100%|█████████████████████████| 3448/3448 [08:35<00:00,  6.69batch/s]\n"
     ]
    },
    {
     "name": "stdout",
     "output_type": "stream",
     "text": [
      "/////////////////////////\n",
      "adverserial loss :  tensor(3.6267e-07, device='cuda:0', grad_fn=<DivBackward0>)\n",
      "classification loss :  tensor(7.6872e-07, device='cuda:0', grad_fn=<DivBackward0>)\n",
      "classification node loss :  tensor(5.9882e-05, device='cuda:0', grad_fn=<DivBackward0>)\n",
      "total loss :  tensor(6.1014e-05, device='cuda:0', grad_fn=<DivBackward0>)\n",
      "////////////////////////////////////\n",
      "***************************\n",
      "test : \n"
     ]
    },
    {
     "name": "stderr",
     "output_type": "stream",
     "text": [
      "Epoch 136: 100%|███████████████████████████| 243/243 [00:39<00:00,  6.16batch/s]\n"
     ]
    },
    {
     "name": "stdout",
     "output_type": "stream",
     "text": [
      "score: write test scores to /home/hassan-hossein/single_image_graph_face_anti_spoofing/train/Scores/epoch_136/score.txt\n",
      "epoch:136, test:  val_ACC=0.8825, HTER=0.1176, AUC=0.9104, val_err=0.1176, ACC=0.8825, TPR=0.3089\n"
     ]
    },
    {
     "name": "stderr",
     "output_type": "stream",
     "text": [
      "Epoch 137: 100%|█████████████████████████| 3448/3448 [08:35<00:00,  6.69batch/s]\n"
     ]
    },
    {
     "name": "stdout",
     "output_type": "stream",
     "text": [
      "/////////////////////////\n",
      "adverserial loss :  tensor(1.0543e-06, device='cuda:0', grad_fn=<DivBackward0>)\n",
      "classification loss :  tensor(9.0732e-07, device='cuda:0', grad_fn=<DivBackward0>)\n",
      "classification node loss :  tensor(4.9212e-05, device='cuda:0', grad_fn=<DivBackward0>)\n",
      "total loss :  tensor(5.1173e-05, device='cuda:0', grad_fn=<DivBackward0>)\n",
      "////////////////////////////////////\n",
      "***************************\n",
      "test : \n"
     ]
    },
    {
     "name": "stderr",
     "output_type": "stream",
     "text": [
      "Epoch 137: 100%|███████████████████████████| 243/243 [00:38<00:00,  6.25batch/s]\n"
     ]
    },
    {
     "name": "stdout",
     "output_type": "stream",
     "text": [
      "score: write test scores to /home/hassan-hossein/single_image_graph_face_anti_spoofing/train/Scores/epoch_137/score.txt\n",
      "epoch:137, test:  val_ACC=0.9018, HTER=0.0982, AUC=0.9322, val_err=0.0982, ACC=0.9018, TPR=0.7387\n"
     ]
    },
    {
     "name": "stderr",
     "output_type": "stream",
     "text": [
      "Epoch 138: 100%|█████████████████████████| 3448/3448 [08:35<00:00,  6.69batch/s]\n"
     ]
    },
    {
     "name": "stdout",
     "output_type": "stream",
     "text": [
      "/////////////////////////\n",
      "adverserial loss :  tensor(4.2234e-08, device='cuda:0', grad_fn=<DivBackward0>)\n",
      "classification loss :  tensor(1.4930e-06, device='cuda:0', grad_fn=<DivBackward0>)\n",
      "classification node loss :  tensor(4.6953e-05, device='cuda:0', grad_fn=<DivBackward0>)\n",
      "total loss :  tensor(4.8489e-05, device='cuda:0', grad_fn=<DivBackward0>)\n",
      "////////////////////////////////////\n",
      "***************************\n",
      "test : \n"
     ]
    },
    {
     "name": "stderr",
     "output_type": "stream",
     "text": [
      "Epoch 138: 100%|███████████████████████████| 243/243 [00:38<00:00,  6.26batch/s]\n"
     ]
    },
    {
     "name": "stdout",
     "output_type": "stream",
     "text": [
      "score: write test scores to /home/hassan-hossein/single_image_graph_face_anti_spoofing/train/Scores/epoch_138/score.txt\n",
      "epoch:138, test:  val_ACC=0.8941, HTER=0.1059, AUC=0.9240, val_err=0.1059, ACC=0.8941, TPR=0.1325\n"
     ]
    },
    {
     "name": "stderr",
     "output_type": "stream",
     "text": [
      "Epoch 139: 100%|█████████████████████████| 3448/3448 [08:34<00:00,  6.71batch/s]\n"
     ]
    },
    {
     "name": "stdout",
     "output_type": "stream",
     "text": [
      "/////////////////////////\n",
      "adverserial loss :  tensor(1.0935e-06, device='cuda:0', grad_fn=<DivBackward0>)\n",
      "classification loss :  tensor(1.2583e-06, device='cuda:0', grad_fn=<DivBackward0>)\n",
      "classification node loss :  tensor(6.0756e-05, device='cuda:0', grad_fn=<DivBackward0>)\n",
      "total loss :  tensor(6.3108e-05, device='cuda:0', grad_fn=<DivBackward0>)\n",
      "////////////////////////////////////\n",
      "***************************\n",
      "test : \n"
     ]
    },
    {
     "name": "stderr",
     "output_type": "stream",
     "text": [
      "Epoch 139: 100%|███████████████████████████| 243/243 [00:38<00:00,  6.34batch/s]\n"
     ]
    },
    {
     "name": "stdout",
     "output_type": "stream",
     "text": [
      "score: write test scores to /home/hassan-hossein/single_image_graph_face_anti_spoofing/train/Scores/epoch_139/score.txt\n",
      "epoch:139, test:  val_ACC=0.8781, HTER=0.1219, AUC=0.9062, val_err=0.1219, ACC=0.8781, TPR=0.0656\n"
     ]
    },
    {
     "name": "stderr",
     "output_type": "stream",
     "text": [
      "Epoch 140: 100%|█████████████████████████| 3448/3448 [08:33<00:00,  6.71batch/s]\n"
     ]
    },
    {
     "name": "stdout",
     "output_type": "stream",
     "text": [
      "/////////////////////////\n",
      "adverserial loss :  tensor(2.6105e-06, device='cuda:0', grad_fn=<DivBackward0>)\n",
      "classification loss :  tensor(9.9812e-07, device='cuda:0', grad_fn=<DivBackward0>)\n",
      "classification node loss :  tensor(5.1063e-05, device='cuda:0', grad_fn=<DivBackward0>)\n",
      "total loss :  tensor(5.4672e-05, device='cuda:0', grad_fn=<DivBackward0>)\n",
      "////////////////////////////////////\n",
      "***************************\n",
      "test : \n"
     ]
    },
    {
     "name": "stderr",
     "output_type": "stream",
     "text": [
      "Epoch 140: 100%|███████████████████████████| 243/243 [00:38<00:00,  6.24batch/s]\n"
     ]
    },
    {
     "name": "stdout",
     "output_type": "stream",
     "text": [
      "score: write test scores to /home/hassan-hossein/single_image_graph_face_anti_spoofing/train/Scores/epoch_140/score.txt\n",
      "epoch:140, test:  val_ACC=0.8744, HTER=0.1256, AUC=0.9017, val_err=0.1256, ACC=0.8744, TPR=0.1134\n"
     ]
    },
    {
     "name": "stderr",
     "output_type": "stream",
     "text": [
      "Epoch 141: 100%|█████████████████████████| 3448/3448 [08:34<00:00,  6.70batch/s]\n"
     ]
    },
    {
     "name": "stdout",
     "output_type": "stream",
     "text": [
      "/////////////////////////\n",
      "adverserial loss :  tensor(2.0445e-07, device='cuda:0', grad_fn=<DivBackward0>)\n",
      "classification loss :  tensor(1.2219e-06, device='cuda:0', grad_fn=<DivBackward0>)\n",
      "classification node loss :  tensor(5.0210e-05, device='cuda:0', grad_fn=<DivBackward0>)\n",
      "total loss :  tensor(5.1636e-05, device='cuda:0', grad_fn=<DivBackward0>)\n",
      "////////////////////////////////////\n",
      "***************************\n",
      "test : \n"
     ]
    },
    {
     "name": "stderr",
     "output_type": "stream",
     "text": [
      "Epoch 141: 100%|███████████████████████████| 243/243 [00:38<00:00,  6.28batch/s]\n"
     ]
    },
    {
     "name": "stdout",
     "output_type": "stream",
     "text": [
      "score: write test scores to /home/hassan-hossein/single_image_graph_face_anti_spoofing/train/Scores/epoch_141/score.txt\n",
      "epoch:141, test:  val_ACC=0.8961, HTER=0.1039, AUC=0.9457, val_err=0.1039, ACC=0.8961, TPR=0.7451\n"
     ]
    },
    {
     "name": "stderr",
     "output_type": "stream",
     "text": [
      "Epoch 142: 100%|█████████████████████████| 3448/3448 [08:34<00:00,  6.71batch/s]\n"
     ]
    },
    {
     "name": "stdout",
     "output_type": "stream",
     "text": [
      "/////////////////////////\n",
      "adverserial loss :  tensor(8.9193e-08, device='cuda:0', grad_fn=<DivBackward0>)\n",
      "classification loss :  tensor(1.4808e-06, device='cuda:0', grad_fn=<DivBackward0>)\n",
      "classification node loss :  tensor(4.9922e-05, device='cuda:0', grad_fn=<DivBackward0>)\n",
      "total loss :  tensor(5.1492e-05, device='cuda:0', grad_fn=<DivBackward0>)\n",
      "////////////////////////////////////\n",
      "***************************\n",
      "test : \n"
     ]
    },
    {
     "name": "stderr",
     "output_type": "stream",
     "text": [
      "Epoch 142: 100%|███████████████████████████| 243/243 [00:38<00:00,  6.32batch/s]\n"
     ]
    },
    {
     "name": "stdout",
     "output_type": "stream",
     "text": [
      "score: write test scores to /home/hassan-hossein/single_image_graph_face_anti_spoofing/train/Scores/epoch_142/score.txt\n",
      "epoch:142, test:  val_ACC=0.8663, HTER=0.1338, AUC=0.9130, val_err=0.1338, ACC=0.8663, TPR=0.2667\n"
     ]
    },
    {
     "name": "stderr",
     "output_type": "stream",
     "text": [
      "Epoch 143: 100%|█████████████████████████| 3448/3448 [08:34<00:00,  6.71batch/s]\n"
     ]
    },
    {
     "name": "stdout",
     "output_type": "stream",
     "text": [
      "/////////////////////////\n",
      "adverserial loss :  tensor(1.1251e-06, device='cuda:0', grad_fn=<DivBackward0>)\n",
      "classification loss :  tensor(5.3734e-07, device='cuda:0', grad_fn=<DivBackward0>)\n",
      "classification node loss :  tensor(5.0140e-05, device='cuda:0', grad_fn=<DivBackward0>)\n",
      "total loss :  tensor(5.1802e-05, device='cuda:0', grad_fn=<DivBackward0>)\n",
      "////////////////////////////////////\n",
      "***************************\n",
      "test : \n"
     ]
    },
    {
     "name": "stderr",
     "output_type": "stream",
     "text": [
      "Epoch 143: 100%|███████████████████████████| 243/243 [00:39<00:00,  6.17batch/s]\n"
     ]
    },
    {
     "name": "stdout",
     "output_type": "stream",
     "text": [
      "score: write test scores to /home/hassan-hossein/single_image_graph_face_anti_spoofing/train/Scores/epoch_143/score.txt\n",
      "epoch:143, test:  val_ACC=0.8650, HTER=0.1350, AUC=0.9134, val_err=0.1351, ACC=0.8650, TPR=0.0828\n"
     ]
    },
    {
     "name": "stderr",
     "output_type": "stream",
     "text": [
      "Epoch 144: 100%|█████████████████████████| 3448/3448 [08:35<00:00,  6.69batch/s]\n"
     ]
    },
    {
     "name": "stdout",
     "output_type": "stream",
     "text": [
      "/////////////////////////\n",
      "adverserial loss :  tensor(7.3794e-08, device='cuda:0', grad_fn=<DivBackward0>)\n",
      "classification loss :  tensor(1.0499e-06, device='cuda:0', grad_fn=<DivBackward0>)\n",
      "classification node loss :  tensor(5.2858e-05, device='cuda:0', grad_fn=<DivBackward0>)\n",
      "total loss :  tensor(5.3982e-05, device='cuda:0', grad_fn=<DivBackward0>)\n",
      "////////////////////////////////////\n",
      "***************************\n",
      "test : \n"
     ]
    },
    {
     "name": "stderr",
     "output_type": "stream",
     "text": [
      "Epoch 144: 100%|███████████████████████████| 243/243 [00:38<00:00,  6.39batch/s]\n"
     ]
    },
    {
     "name": "stdout",
     "output_type": "stream",
     "text": [
      "score: write test scores to /home/hassan-hossein/single_image_graph_face_anti_spoofing/train/Scores/epoch_144/score.txt\n",
      "epoch:144, test:  val_ACC=0.8718, HTER=0.1281, AUC=0.9369, val_err=0.1282, ACC=0.8718, TPR=0.5970\n"
     ]
    },
    {
     "name": "stderr",
     "output_type": "stream",
     "text": [
      "Epoch 145: 100%|█████████████████████████| 3448/3448 [08:33<00:00,  6.71batch/s]\n"
     ]
    },
    {
     "name": "stdout",
     "output_type": "stream",
     "text": [
      "/////////////////////////\n",
      "adverserial loss :  tensor(1.9654e-07, device='cuda:0', grad_fn=<DivBackward0>)\n",
      "classification loss :  tensor(6.3254e-07, device='cuda:0', grad_fn=<DivBackward0>)\n",
      "classification node loss :  tensor(4.8892e-05, device='cuda:0', grad_fn=<DivBackward0>)\n",
      "total loss :  tensor(4.9721e-05, device='cuda:0', grad_fn=<DivBackward0>)\n",
      "////////////////////////////////////\n",
      "***************************\n",
      "test : \n"
     ]
    },
    {
     "name": "stderr",
     "output_type": "stream",
     "text": [
      "Epoch 145: 100%|███████████████████████████| 243/243 [00:38<00:00,  6.30batch/s]\n"
     ]
    },
    {
     "name": "stdout",
     "output_type": "stream",
     "text": [
      "score: write test scores to /home/hassan-hossein/single_image_graph_face_anti_spoofing/train/Scores/epoch_145/score.txt\n",
      "epoch:145, test:  val_ACC=0.8839, HTER=0.1161, AUC=0.9282, val_err=0.1161, ACC=0.8839, TPR=0.5113\n"
     ]
    },
    {
     "name": "stderr",
     "output_type": "stream",
     "text": [
      "Epoch 146: 100%|█████████████████████████| 3448/3448 [08:33<00:00,  6.71batch/s]\n"
     ]
    },
    {
     "name": "stdout",
     "output_type": "stream",
     "text": [
      "/////////////////////////\n",
      "adverserial loss :  tensor(8.4051e-08, device='cuda:0', grad_fn=<DivBackward0>)\n",
      "classification loss :  tensor(1.2147e-06, device='cuda:0', grad_fn=<DivBackward0>)\n",
      "classification node loss :  tensor(5.6251e-05, device='cuda:0', grad_fn=<DivBackward0>)\n",
      "total loss :  tensor(5.7549e-05, device='cuda:0', grad_fn=<DivBackward0>)\n",
      "////////////////////////////////////\n",
      "***************************\n",
      "test : \n"
     ]
    },
    {
     "name": "stderr",
     "output_type": "stream",
     "text": [
      "Epoch 146: 100%|███████████████████████████| 243/243 [00:39<00:00,  6.16batch/s]\n"
     ]
    },
    {
     "name": "stdout",
     "output_type": "stream",
     "text": [
      "score: write test scores to /home/hassan-hossein/single_image_graph_face_anti_spoofing/train/Scores/epoch_146/score.txt\n",
      "epoch:146, test:  val_ACC=0.8957, HTER=0.1042, AUC=0.9201, val_err=0.1043, ACC=0.8957, TPR=0.2868\n"
     ]
    },
    {
     "name": "stderr",
     "output_type": "stream",
     "text": [
      "Epoch 147: 100%|█████████████████████████| 3448/3448 [08:34<00:00,  6.70batch/s]\n"
     ]
    },
    {
     "name": "stdout",
     "output_type": "stream",
     "text": [
      "/////////////////////////\n",
      "adverserial loss :  tensor(1.6480e-06, device='cuda:0', grad_fn=<DivBackward0>)\n",
      "classification loss :  tensor(8.2342e-07, device='cuda:0', grad_fn=<DivBackward0>)\n",
      "classification node loss :  tensor(5.4041e-05, device='cuda:0', grad_fn=<DivBackward0>)\n",
      "total loss :  tensor(5.6513e-05, device='cuda:0', grad_fn=<DivBackward0>)\n",
      "////////////////////////////////////\n",
      "***************************\n",
      "test : \n"
     ]
    },
    {
     "name": "stderr",
     "output_type": "stream",
     "text": [
      "Epoch 147: 100%|███████████████████████████| 243/243 [00:38<00:00,  6.28batch/s]\n"
     ]
    },
    {
     "name": "stdout",
     "output_type": "stream",
     "text": [
      "score: write test scores to /home/hassan-hossein/single_image_graph_face_anti_spoofing/train/Scores/epoch_147/score.txt\n",
      "epoch:147, test:  val_ACC=0.8856, HTER=0.1145, AUC=0.9135, val_err=0.1145, ACC=0.8856, TPR=0.3302\n"
     ]
    },
    {
     "name": "stderr",
     "output_type": "stream",
     "text": [
      "Epoch 148: 100%|█████████████████████████| 3448/3448 [08:34<00:00,  6.70batch/s]\n"
     ]
    },
    {
     "name": "stdout",
     "output_type": "stream",
     "text": [
      "/////////////////////////\n",
      "adverserial loss :  tensor(1.2131e-07, device='cuda:0', grad_fn=<DivBackward0>)\n",
      "classification loss :  tensor(1.1123e-06, device='cuda:0', grad_fn=<DivBackward0>)\n",
      "classification node loss :  tensor(5.0297e-05, device='cuda:0', grad_fn=<DivBackward0>)\n",
      "total loss :  tensor(5.1530e-05, device='cuda:0', grad_fn=<DivBackward0>)\n",
      "////////////////////////////////////\n",
      "***************************\n",
      "test : \n"
     ]
    },
    {
     "name": "stderr",
     "output_type": "stream",
     "text": [
      "Epoch 148: 100%|███████████████████████████| 243/243 [00:39<00:00,  6.22batch/s]\n"
     ]
    },
    {
     "name": "stdout",
     "output_type": "stream",
     "text": [
      "score: write test scores to /home/hassan-hossein/single_image_graph_face_anti_spoofing/train/Scores/epoch_148/score.txt\n",
      "epoch:148, test:  val_ACC=0.8820, HTER=0.1181, AUC=0.9009, val_err=0.1181, ACC=0.8820, TPR=0.0712\n"
     ]
    },
    {
     "name": "stderr",
     "output_type": "stream",
     "text": [
      "Epoch 149: 100%|█████████████████████████| 3448/3448 [08:33<00:00,  6.71batch/s]\n"
     ]
    },
    {
     "name": "stdout",
     "output_type": "stream",
     "text": [
      "/////////////////////////\n",
      "adverserial loss :  tensor(1.0014e-06, device='cuda:0', grad_fn=<DivBackward0>)\n",
      "classification loss :  tensor(1.2586e-06, device='cuda:0', grad_fn=<DivBackward0>)\n",
      "classification node loss :  tensor(5.3594e-05, device='cuda:0', grad_fn=<DivBackward0>)\n",
      "total loss :  tensor(5.5854e-05, device='cuda:0', grad_fn=<DivBackward0>)\n",
      "////////////////////////////////////\n",
      "***************************\n",
      "test : \n"
     ]
    },
    {
     "name": "stderr",
     "output_type": "stream",
     "text": [
      "Epoch 149: 100%|███████████████████████████| 243/243 [00:38<00:00,  6.25batch/s]\n"
     ]
    },
    {
     "name": "stdout",
     "output_type": "stream",
     "text": [
      "score: write test scores to /home/hassan-hossein/single_image_graph_face_anti_spoofing/train/Scores/epoch_149/score.txt\n",
      "epoch:149, test:  val_ACC=0.8999, HTER=0.1001, AUC=0.9204, val_err=0.1002, ACC=0.8999, TPR=0.2611\n"
     ]
    },
    {
     "name": "stderr",
     "output_type": "stream",
     "text": [
      "Epoch 150: 100%|█████████████████████████| 3448/3448 [08:33<00:00,  6.72batch/s]\n"
     ]
    },
    {
     "name": "stdout",
     "output_type": "stream",
     "text": [
      "/////////////////////////\n",
      "adverserial loss :  tensor(1.4121e-06, device='cuda:0', grad_fn=<DivBackward0>)\n",
      "classification loss :  tensor(1.3182e-06, device='cuda:0', grad_fn=<DivBackward0>)\n",
      "classification node loss :  tensor(4.5619e-05, device='cuda:0', grad_fn=<DivBackward0>)\n",
      "total loss :  tensor(4.8349e-05, device='cuda:0', grad_fn=<DivBackward0>)\n",
      "////////////////////////////////////\n",
      "***************************\n",
      "test : \n"
     ]
    },
    {
     "name": "stderr",
     "output_type": "stream",
     "text": [
      "Epoch 150: 100%|███████████████████████████| 243/243 [00:38<00:00,  6.32batch/s]\n"
     ]
    },
    {
     "name": "stdout",
     "output_type": "stream",
     "text": [
      "score: write test scores to /home/hassan-hossein/single_image_graph_face_anti_spoofing/train/Scores/epoch_150/score.txt\n",
      "epoch:150, test:  val_ACC=0.8843, HTER=0.1158, AUC=0.9324, val_err=0.1158, ACC=0.8843, TPR=0.3814\n"
     ]
    },
    {
     "name": "stderr",
     "output_type": "stream",
     "text": [
      "Epoch 151: 100%|█████████████████████████| 3448/3448 [08:32<00:00,  6.72batch/s]\n"
     ]
    },
    {
     "name": "stdout",
     "output_type": "stream",
     "text": [
      "/////////////////////////\n",
      "adverserial loss :  tensor(7.6021e-08, device='cuda:0', grad_fn=<DivBackward0>)\n",
      "classification loss :  tensor(5.8254e-07, device='cuda:0', grad_fn=<DivBackward0>)\n",
      "classification node loss :  tensor(5.5827e-05, device='cuda:0', grad_fn=<DivBackward0>)\n",
      "total loss :  tensor(5.6486e-05, device='cuda:0', grad_fn=<DivBackward0>)\n",
      "////////////////////////////////////\n",
      "***************************\n",
      "test : \n"
     ]
    },
    {
     "name": "stderr",
     "output_type": "stream",
     "text": [
      "Epoch 151: 100%|███████████████████████████| 243/243 [00:38<00:00,  6.30batch/s]\n"
     ]
    },
    {
     "name": "stdout",
     "output_type": "stream",
     "text": [
      "score: write test scores to /home/hassan-hossein/single_image_graph_face_anti_spoofing/train/Scores/epoch_151/score.txt\n",
      "epoch:151, test:  val_ACC=0.8970, HTER=0.1029, AUC=0.9278, val_err=0.1030, ACC=0.8970, TPR=0.1890\n"
     ]
    },
    {
     "name": "stderr",
     "output_type": "stream",
     "text": [
      "Epoch 152: 100%|█████████████████████████| 3448/3448 [08:33<00:00,  6.71batch/s]\n"
     ]
    },
    {
     "name": "stdout",
     "output_type": "stream",
     "text": [
      "/////////////////////////\n",
      "adverserial loss :  tensor(5.5828e-09, device='cuda:0', grad_fn=<DivBackward0>)\n",
      "classification loss :  tensor(1.7215e-06, device='cuda:0', grad_fn=<DivBackward0>)\n",
      "classification node loss :  tensor(4.4256e-05, device='cuda:0', grad_fn=<DivBackward0>)\n",
      "total loss :  tensor(4.5983e-05, device='cuda:0', grad_fn=<DivBackward0>)\n",
      "////////////////////////////////////\n",
      "***************************\n",
      "test : \n"
     ]
    },
    {
     "name": "stderr",
     "output_type": "stream",
     "text": [
      "Epoch 152: 100%|███████████████████████████| 243/243 [00:38<00:00,  6.27batch/s]\n"
     ]
    },
    {
     "name": "stdout",
     "output_type": "stream",
     "text": [
      "score: write test scores to /home/hassan-hossein/single_image_graph_face_anti_spoofing/train/Scores/epoch_152/score.txt\n",
      "epoch:152, test:  val_ACC=0.8862, HTER=0.1137, AUC=0.9317, val_err=0.1138, ACC=0.8862, TPR=0.3786\n"
     ]
    },
    {
     "name": "stderr",
     "output_type": "stream",
     "text": [
      "Epoch 153: 100%|█████████████████████████| 3448/3448 [08:34<00:00,  6.71batch/s]\n"
     ]
    },
    {
     "name": "stdout",
     "output_type": "stream",
     "text": [
      "/////////////////////////\n",
      "adverserial loss :  tensor(9.9416e-07, device='cuda:0', grad_fn=<DivBackward0>)\n",
      "classification loss :  tensor(9.1579e-07, device='cuda:0', grad_fn=<DivBackward0>)\n",
      "classification node loss :  tensor(5.3744e-05, device='cuda:0', grad_fn=<DivBackward0>)\n",
      "total loss :  tensor(5.5654e-05, device='cuda:0', grad_fn=<DivBackward0>)\n",
      "////////////////////////////////////\n",
      "***************************\n",
      "test : \n"
     ]
    },
    {
     "name": "stderr",
     "output_type": "stream",
     "text": [
      "Epoch 153: 100%|███████████████████████████| 243/243 [00:38<00:00,  6.24batch/s]\n"
     ]
    },
    {
     "name": "stdout",
     "output_type": "stream",
     "text": [
      "score: write test scores to /home/hassan-hossein/single_image_graph_face_anti_spoofing/train/Scores/epoch_153/score.txt\n",
      "epoch:153, test:  val_ACC=0.8923, HTER=0.1078, AUC=0.9374, val_err=0.1078, ACC=0.8923, TPR=0.6870\n"
     ]
    },
    {
     "name": "stderr",
     "output_type": "stream",
     "text": [
      "Epoch 154: 100%|█████████████████████████| 3448/3448 [08:33<00:00,  6.71batch/s]\n"
     ]
    },
    {
     "name": "stdout",
     "output_type": "stream",
     "text": [
      "/////////////////////////\n",
      "adverserial loss :  tensor(3.9639e-07, device='cuda:0', grad_fn=<DivBackward0>)\n",
      "classification loss :  tensor(7.0017e-07, device='cuda:0', grad_fn=<DivBackward0>)\n",
      "classification node loss :  tensor(4.7122e-05, device='cuda:0', grad_fn=<DivBackward0>)\n",
      "total loss :  tensor(4.8219e-05, device='cuda:0', grad_fn=<DivBackward0>)\n",
      "////////////////////////////////////\n",
      "***************************\n",
      "test : \n"
     ]
    },
    {
     "name": "stderr",
     "output_type": "stream",
     "text": [
      "Epoch 154: 100%|███████████████████████████| 243/243 [00:39<00:00,  6.21batch/s]\n"
     ]
    },
    {
     "name": "stdout",
     "output_type": "stream",
     "text": [
      "score: write test scores to /home/hassan-hossein/single_image_graph_face_anti_spoofing/train/Scores/epoch_154/score.txt\n",
      "epoch:154, test:  val_ACC=0.9017, HTER=0.0983, AUC=0.9322, val_err=0.0983, ACC=0.9017, TPR=0.6224\n"
     ]
    },
    {
     "name": "stderr",
     "output_type": "stream",
     "text": [
      "Epoch 155: 100%|█████████████████████████| 3448/3448 [08:34<00:00,  6.70batch/s]\n"
     ]
    },
    {
     "name": "stdout",
     "output_type": "stream",
     "text": [
      "/////////////////////////\n",
      "adverserial loss :  tensor(1.1583e-08, device='cuda:0', grad_fn=<DivBackward0>)\n",
      "classification loss :  tensor(4.1552e-07, device='cuda:0', grad_fn=<DivBackward0>)\n",
      "classification node loss :  tensor(4.9943e-05, device='cuda:0', grad_fn=<DivBackward0>)\n",
      "total loss :  tensor(5.0371e-05, device='cuda:0', grad_fn=<DivBackward0>)\n",
      "////////////////////////////////////\n",
      "***************************\n",
      "test : \n"
     ]
    },
    {
     "name": "stderr",
     "output_type": "stream",
     "text": [
      "Epoch 155: 100%|███████████████████████████| 243/243 [00:38<00:00,  6.33batch/s]\n"
     ]
    },
    {
     "name": "stdout",
     "output_type": "stream",
     "text": [
      "score: write test scores to /home/hassan-hossein/single_image_graph_face_anti_spoofing/train/Scores/epoch_155/score.txt\n",
      "epoch:155, test:  val_ACC=0.8907, HTER=0.1093, AUC=0.9000, val_err=0.1093, ACC=0.8907, TPR=0.1878\n"
     ]
    },
    {
     "name": "stderr",
     "output_type": "stream",
     "text": [
      "Epoch 156: 100%|█████████████████████████| 3448/3448 [08:35<00:00,  6.69batch/s]\n"
     ]
    },
    {
     "name": "stdout",
     "output_type": "stream",
     "text": [
      "/////////////////////////\n",
      "adverserial loss :  tensor(9.7764e-09, device='cuda:0', grad_fn=<DivBackward0>)\n",
      "classification loss :  tensor(1.4113e-06, device='cuda:0', grad_fn=<DivBackward0>)\n",
      "classification node loss :  tensor(4.9815e-05, device='cuda:0', grad_fn=<DivBackward0>)\n",
      "total loss :  tensor(5.1237e-05, device='cuda:0', grad_fn=<DivBackward0>)\n",
      "////////////////////////////////////\n",
      "***************************\n",
      "test : \n"
     ]
    },
    {
     "name": "stderr",
     "output_type": "stream",
     "text": [
      "Epoch 156: 100%|███████████████████████████| 243/243 [00:38<00:00,  6.30batch/s]\n"
     ]
    },
    {
     "name": "stdout",
     "output_type": "stream",
     "text": [
      "score: write test scores to /home/hassan-hossein/single_image_graph_face_anti_spoofing/train/Scores/epoch_156/score.txt\n",
      "epoch:156, test:  val_ACC=0.8734, HTER=0.1266, AUC=0.9092, val_err=0.1266, ACC=0.8734, TPR=0.2215\n"
     ]
    },
    {
     "name": "stderr",
     "output_type": "stream",
     "text": [
      "Epoch 157: 100%|█████████████████████████| 3448/3448 [08:34<00:00,  6.70batch/s]\n"
     ]
    },
    {
     "name": "stdout",
     "output_type": "stream",
     "text": [
      "/////////////////////////\n",
      "adverserial loss :  tensor(1.6055e-09, device='cuda:0', grad_fn=<DivBackward0>)\n",
      "classification loss :  tensor(1.9868e-06, device='cuda:0', grad_fn=<DivBackward0>)\n",
      "classification node loss :  tensor(5.0865e-05, device='cuda:0', grad_fn=<DivBackward0>)\n",
      "total loss :  tensor(5.2853e-05, device='cuda:0', grad_fn=<DivBackward0>)\n",
      "////////////////////////////////////\n",
      "***************************\n",
      "test : \n"
     ]
    },
    {
     "name": "stderr",
     "output_type": "stream",
     "text": [
      "Epoch 157: 100%|███████████████████████████| 243/243 [00:38<00:00,  6.31batch/s]\n"
     ]
    },
    {
     "name": "stdout",
     "output_type": "stream",
     "text": [
      "score: write test scores to /home/hassan-hossein/single_image_graph_face_anti_spoofing/train/Scores/epoch_157/score.txt\n",
      "epoch:157, test:  val_ACC=0.8866, HTER=0.1134, AUC=0.9293, val_err=0.1135, ACC=0.8866, TPR=0.3948\n"
     ]
    },
    {
     "name": "stderr",
     "output_type": "stream",
     "text": [
      "Epoch 158: 100%|█████████████████████████| 3448/3448 [08:33<00:00,  6.71batch/s]\n"
     ]
    },
    {
     "name": "stdout",
     "output_type": "stream",
     "text": [
      "/////////////////////////\n",
      "adverserial loss :  tensor(1.8829e-06, device='cuda:0', grad_fn=<DivBackward0>)\n",
      "classification loss :  tensor(8.2533e-07, device='cuda:0', grad_fn=<DivBackward0>)\n",
      "classification node loss :  tensor(5.1396e-05, device='cuda:0', grad_fn=<DivBackward0>)\n",
      "total loss :  tensor(5.4105e-05, device='cuda:0', grad_fn=<DivBackward0>)\n",
      "////////////////////////////////////\n",
      "***************************\n",
      "test : \n"
     ]
    },
    {
     "name": "stderr",
     "output_type": "stream",
     "text": [
      "Epoch 158: 100%|███████████████████████████| 243/243 [00:38<00:00,  6.33batch/s]\n"
     ]
    },
    {
     "name": "stdout",
     "output_type": "stream",
     "text": [
      "score: write test scores to /home/hassan-hossein/single_image_graph_face_anti_spoofing/train/Scores/epoch_158/score.txt\n",
      "epoch:158, test:  val_ACC=0.8861, HTER=0.1139, AUC=0.9096, val_err=0.1139, ACC=0.8861, TPR=0.0939\n"
     ]
    },
    {
     "name": "stderr",
     "output_type": "stream",
     "text": [
      "Epoch 159: 100%|█████████████████████████| 3448/3448 [08:32<00:00,  6.72batch/s]\n"
     ]
    },
    {
     "name": "stdout",
     "output_type": "stream",
     "text": [
      "/////////////////////////\n",
      "adverserial loss :  tensor(2.9818e-06, device='cuda:0', grad_fn=<DivBackward0>)\n",
      "classification loss :  tensor(8.7345e-07, device='cuda:0', grad_fn=<DivBackward0>)\n",
      "classification node loss :  tensor(4.3380e-05, device='cuda:0', grad_fn=<DivBackward0>)\n",
      "total loss :  tensor(4.7235e-05, device='cuda:0', grad_fn=<DivBackward0>)\n",
      "////////////////////////////////////\n",
      "***************************\n",
      "test : \n"
     ]
    },
    {
     "name": "stderr",
     "output_type": "stream",
     "text": [
      "Epoch 159: 100%|███████████████████████████| 243/243 [00:39<00:00,  6.16batch/s]\n"
     ]
    },
    {
     "name": "stdout",
     "output_type": "stream",
     "text": [
      "score: write test scores to /home/hassan-hossein/single_image_graph_face_anti_spoofing/train/Scores/epoch_159/score.txt\n",
      "epoch:159, test:  val_ACC=0.8786, HTER=0.1214, AUC=0.9046, val_err=0.1214, ACC=0.8786, TPR=0.0900\n"
     ]
    },
    {
     "name": "stderr",
     "output_type": "stream",
     "text": [
      "Epoch 160: 100%|█████████████████████████| 3448/3448 [08:33<00:00,  6.72batch/s]\n"
     ]
    },
    {
     "name": "stdout",
     "output_type": "stream",
     "text": [
      "/////////////////////////\n",
      "adverserial loss :  tensor(1.0027e-07, device='cuda:0', grad_fn=<DivBackward0>)\n",
      "classification loss :  tensor(1.0764e-06, device='cuda:0', grad_fn=<DivBackward0>)\n",
      "classification node loss :  tensor(4.9808e-05, device='cuda:0', grad_fn=<DivBackward0>)\n",
      "total loss :  tensor(5.0984e-05, device='cuda:0', grad_fn=<DivBackward0>)\n",
      "////////////////////////////////////\n",
      "***************************\n",
      "test : \n"
     ]
    },
    {
     "name": "stderr",
     "output_type": "stream",
     "text": [
      "Epoch 160: 100%|███████████████████████████| 243/243 [00:39<00:00,  6.17batch/s]\n"
     ]
    },
    {
     "name": "stdout",
     "output_type": "stream",
     "text": [
      "score: write test scores to /home/hassan-hossein/single_image_graph_face_anti_spoofing/train/Scores/epoch_160/score.txt\n",
      "epoch:160, test:  val_ACC=0.8800, HTER=0.1201, AUC=0.9248, val_err=0.1201, ACC=0.8800, TPR=0.3511\n"
     ]
    },
    {
     "name": "stderr",
     "output_type": "stream",
     "text": [
      "Epoch 161: 100%|█████████████████████████| 3448/3448 [08:33<00:00,  6.71batch/s]\n"
     ]
    },
    {
     "name": "stdout",
     "output_type": "stream",
     "text": [
      "/////////////////////////\n",
      "adverserial loss :  tensor(1.0111e-06, device='cuda:0', grad_fn=<DivBackward0>)\n",
      "classification loss :  tensor(1.7039e-06, device='cuda:0', grad_fn=<DivBackward0>)\n",
      "classification node loss :  tensor(4.9387e-05, device='cuda:0', grad_fn=<DivBackward0>)\n",
      "total loss :  tensor(5.2102e-05, device='cuda:0', grad_fn=<DivBackward0>)\n",
      "////////////////////////////////////\n",
      "***************************\n",
      "test : \n"
     ]
    },
    {
     "name": "stderr",
     "output_type": "stream",
     "text": [
      "Epoch 161: 100%|███████████████████████████| 243/243 [00:39<00:00,  6.18batch/s]\n"
     ]
    },
    {
     "name": "stdout",
     "output_type": "stream",
     "text": [
      "score: write test scores to /home/hassan-hossein/single_image_graph_face_anti_spoofing/train/Scores/epoch_161/score.txt\n",
      "epoch:161, test:  val_ACC=0.8725, HTER=0.1275, AUC=0.9143, val_err=0.1275, ACC=0.8725, TPR=0.1474\n"
     ]
    },
    {
     "name": "stderr",
     "output_type": "stream",
     "text": [
      "Epoch 162: 100%|█████████████████████████| 3448/3448 [08:34<00:00,  6.70batch/s]\n"
     ]
    },
    {
     "name": "stdout",
     "output_type": "stream",
     "text": [
      "/////////////////////////\n",
      "adverserial loss :  tensor(2.8884e-07, device='cuda:0', grad_fn=<DivBackward0>)\n",
      "classification loss :  tensor(2.0393e-06, device='cuda:0', grad_fn=<DivBackward0>)\n",
      "classification node loss :  tensor(4.3663e-05, device='cuda:0', grad_fn=<DivBackward0>)\n",
      "total loss :  tensor(4.5991e-05, device='cuda:0', grad_fn=<DivBackward0>)\n",
      "////////////////////////////////////\n",
      "***************************\n",
      "test : \n"
     ]
    },
    {
     "name": "stderr",
     "output_type": "stream",
     "text": [
      "Epoch 162: 100%|███████████████████████████| 243/243 [00:39<00:00,  6.20batch/s]\n"
     ]
    },
    {
     "name": "stdout",
     "output_type": "stream",
     "text": [
      "score: write test scores to /home/hassan-hossein/single_image_graph_face_anti_spoofing/train/Scores/epoch_162/score.txt\n",
      "epoch:162, test:  val_ACC=0.8852, HTER=0.1148, AUC=0.9276, val_err=0.1148, ACC=0.8852, TPR=0.3629\n"
     ]
    },
    {
     "name": "stderr",
     "output_type": "stream",
     "text": [
      "Epoch 163: 100%|█████████████████████████| 3448/3448 [08:34<00:00,  6.70batch/s]\n"
     ]
    },
    {
     "name": "stdout",
     "output_type": "stream",
     "text": [
      "/////////////////////////\n",
      "adverserial loss :  tensor(3.5202e-07, device='cuda:0', grad_fn=<DivBackward0>)\n",
      "classification loss :  tensor(4.3544e-07, device='cuda:0', grad_fn=<DivBackward0>)\n",
      "classification node loss :  tensor(4.8313e-05, device='cuda:0', grad_fn=<DivBackward0>)\n",
      "total loss :  tensor(4.9101e-05, device='cuda:0', grad_fn=<DivBackward0>)\n",
      "////////////////////////////////////\n",
      "***************************\n",
      "test : \n"
     ]
    },
    {
     "name": "stderr",
     "output_type": "stream",
     "text": [
      "Epoch 163: 100%|███████████████████████████| 243/243 [00:38<00:00,  6.37batch/s]\n"
     ]
    },
    {
     "name": "stdout",
     "output_type": "stream",
     "text": [
      "score: write test scores to /home/hassan-hossein/single_image_graph_face_anti_spoofing/train/Scores/epoch_163/score.txt\n",
      "epoch:163, test:  val_ACC=0.8765, HTER=0.1235, AUC=0.9169, val_err=0.1236, ACC=0.8765, TPR=0.2541\n"
     ]
    },
    {
     "name": "stderr",
     "output_type": "stream",
     "text": [
      "Epoch 164: 100%|█████████████████████████| 3448/3448 [08:31<00:00,  6.74batch/s]\n"
     ]
    },
    {
     "name": "stdout",
     "output_type": "stream",
     "text": [
      "/////////////////////////\n",
      "adverserial loss :  tensor(6.9996e-09, device='cuda:0', grad_fn=<DivBackward0>)\n",
      "classification loss :  tensor(1.0402e-06, device='cuda:0', grad_fn=<DivBackward0>)\n",
      "classification node loss :  tensor(4.6762e-05, device='cuda:0', grad_fn=<DivBackward0>)\n",
      "total loss :  tensor(4.7809e-05, device='cuda:0', grad_fn=<DivBackward0>)\n",
      "////////////////////////////////////\n",
      "***************************\n",
      "test : \n"
     ]
    },
    {
     "name": "stderr",
     "output_type": "stream",
     "text": [
      "Epoch 164: 100%|███████████████████████████| 243/243 [00:38<00:00,  6.30batch/s]\n"
     ]
    },
    {
     "name": "stdout",
     "output_type": "stream",
     "text": [
      "score: write test scores to /home/hassan-hossein/single_image_graph_face_anti_spoofing/train/Scores/epoch_164/score.txt\n",
      "epoch:164, test:  val_ACC=0.8752, HTER=0.1248, AUC=0.9073, val_err=0.1249, ACC=0.8752, TPR=0.0939\n"
     ]
    },
    {
     "name": "stderr",
     "output_type": "stream",
     "text": [
      "Epoch 165: 100%|█████████████████████████| 3448/3448 [08:34<00:00,  6.70batch/s]\n"
     ]
    },
    {
     "name": "stdout",
     "output_type": "stream",
     "text": [
      "/////////////////////////\n",
      "adverserial loss :  tensor(1.2599e-06, device='cuda:0', grad_fn=<DivBackward0>)\n",
      "classification loss :  tensor(3.9234e-07, device='cuda:0', grad_fn=<DivBackward0>)\n",
      "classification node loss :  tensor(4.8290e-05, device='cuda:0', grad_fn=<DivBackward0>)\n",
      "total loss :  tensor(4.9943e-05, device='cuda:0', grad_fn=<DivBackward0>)\n",
      "////////////////////////////////////\n",
      "***************************\n",
      "test : \n"
     ]
    },
    {
     "name": "stderr",
     "output_type": "stream",
     "text": [
      "Epoch 165: 100%|███████████████████████████| 243/243 [00:39<00:00,  6.08batch/s]\n"
     ]
    },
    {
     "name": "stdout",
     "output_type": "stream",
     "text": [
      "score: write test scores to /home/hassan-hossein/single_image_graph_face_anti_spoofing/train/Scores/epoch_165/score.txt\n",
      "epoch:165, test:  val_ACC=0.8893, HTER=0.1107, AUC=0.9248, val_err=0.1107, ACC=0.8893, TPR=0.0949\n"
     ]
    },
    {
     "name": "stderr",
     "output_type": "stream",
     "text": [
      "Epoch 166: 100%|█████████████████████████| 3448/3448 [08:36<00:00,  6.68batch/s]\n"
     ]
    },
    {
     "name": "stdout",
     "output_type": "stream",
     "text": [
      "/////////////////////////\n",
      "adverserial loss :  tensor(1.4201e-06, device='cuda:0', grad_fn=<DivBackward0>)\n",
      "classification loss :  tensor(1.8502e-06, device='cuda:0', grad_fn=<DivBackward0>)\n",
      "classification node loss :  tensor(4.4549e-05, device='cuda:0', grad_fn=<DivBackward0>)\n",
      "total loss :  tensor(4.7819e-05, device='cuda:0', grad_fn=<DivBackward0>)\n",
      "////////////////////////////////////\n",
      "***************************\n",
      "test : \n"
     ]
    },
    {
     "name": "stderr",
     "output_type": "stream",
     "text": [
      "Epoch 166: 100%|███████████████████████████| 243/243 [00:39<00:00,  6.16batch/s]\n"
     ]
    },
    {
     "name": "stdout",
     "output_type": "stream",
     "text": [
      "score: write test scores to /home/hassan-hossein/single_image_graph_face_anti_spoofing/train/Scores/epoch_166/score.txt\n",
      "epoch:166, test:  val_ACC=0.8930, HTER=0.1070, AUC=0.9292, val_err=0.1070, ACC=0.8930, TPR=0.3819\n"
     ]
    },
    {
     "name": "stderr",
     "output_type": "stream",
     "text": [
      "Epoch 167: 100%|█████████████████████████| 3448/3448 [08:32<00:00,  6.73batch/s]\n"
     ]
    },
    {
     "name": "stdout",
     "output_type": "stream",
     "text": [
      "/////////////////////////\n",
      "adverserial loss :  tensor(7.1897e-07, device='cuda:0', grad_fn=<DivBackward0>)\n",
      "classification loss :  tensor(7.5024e-07, device='cuda:0', grad_fn=<DivBackward0>)\n",
      "classification node loss :  tensor(4.6051e-05, device='cuda:0', grad_fn=<DivBackward0>)\n",
      "total loss :  tensor(4.7521e-05, device='cuda:0', grad_fn=<DivBackward0>)\n",
      "////////////////////////////////////\n",
      "***************************\n",
      "test : \n"
     ]
    },
    {
     "name": "stderr",
     "output_type": "stream",
     "text": [
      "Epoch 167: 100%|███████████████████████████| 243/243 [00:38<00:00,  6.25batch/s]\n"
     ]
    },
    {
     "name": "stdout",
     "output_type": "stream",
     "text": [
      "score: write test scores to /home/hassan-hossein/single_image_graph_face_anti_spoofing/train/Scores/epoch_167/score.txt\n",
      "epoch:167, test:  val_ACC=0.8977, HTER=0.1024, AUC=0.9314, val_err=0.1024, ACC=0.8977, TPR=0.3855\n"
     ]
    },
    {
     "name": "stderr",
     "output_type": "stream",
     "text": [
      "Epoch 168: 100%|█████████████████████████| 3448/3448 [08:34<00:00,  6.70batch/s]\n"
     ]
    },
    {
     "name": "stdout",
     "output_type": "stream",
     "text": [
      "/////////////////////////\n",
      "adverserial loss :  tensor(2.8250e-08, device='cuda:0', grad_fn=<DivBackward0>)\n",
      "classification loss :  tensor(1.0553e-06, device='cuda:0', grad_fn=<DivBackward0>)\n",
      "classification node loss :  tensor(4.7717e-05, device='cuda:0', grad_fn=<DivBackward0>)\n",
      "total loss :  tensor(4.8801e-05, device='cuda:0', grad_fn=<DivBackward0>)\n",
      "////////////////////////////////////\n",
      "***************************\n",
      "test : \n"
     ]
    },
    {
     "name": "stderr",
     "output_type": "stream",
     "text": [
      "Epoch 168: 100%|███████████████████████████| 243/243 [00:38<00:00,  6.38batch/s]\n"
     ]
    },
    {
     "name": "stdout",
     "output_type": "stream",
     "text": [
      "score: write test scores to /home/hassan-hossein/single_image_graph_face_anti_spoofing/train/Scores/epoch_168/score.txt\n",
      "epoch:168, test:  val_ACC=0.8783, HTER=0.1217, AUC=0.9153, val_err=0.1217, ACC=0.8783, TPR=0.4527\n"
     ]
    },
    {
     "name": "stderr",
     "output_type": "stream",
     "text": [
      "Epoch 169: 100%|█████████████████████████| 3448/3448 [08:34<00:00,  6.70batch/s]\n"
     ]
    },
    {
     "name": "stdout",
     "output_type": "stream",
     "text": [
      "/////////////////////////\n",
      "adverserial loss :  tensor(4.2895e-07, device='cuda:0', grad_fn=<DivBackward0>)\n",
      "classification loss :  tensor(2.0493e-07, device='cuda:0', grad_fn=<DivBackward0>)\n",
      "classification node loss :  tensor(4.2020e-05, device='cuda:0', grad_fn=<DivBackward0>)\n",
      "total loss :  tensor(4.2654e-05, device='cuda:0', grad_fn=<DivBackward0>)\n",
      "////////////////////////////////////\n",
      "***************************\n",
      "test : \n"
     ]
    },
    {
     "name": "stderr",
     "output_type": "stream",
     "text": [
      "Epoch 169: 100%|███████████████████████████| 243/243 [00:38<00:00,  6.29batch/s]\n"
     ]
    },
    {
     "name": "stdout",
     "output_type": "stream",
     "text": [
      "score: write test scores to /home/hassan-hossein/single_image_graph_face_anti_spoofing/train/Scores/epoch_169/score.txt\n",
      "epoch:169, test:  val_ACC=0.8763, HTER=0.1237, AUC=0.9065, val_err=0.1237, ACC=0.8763, TPR=0.3673\n"
     ]
    },
    {
     "name": "stderr",
     "output_type": "stream",
     "text": [
      "Epoch 170: 100%|█████████████████████████| 3448/3448 [08:35<00:00,  6.69batch/s]\n"
     ]
    },
    {
     "name": "stdout",
     "output_type": "stream",
     "text": [
      "/////////////////////////\n",
      "adverserial loss :  tensor(3.0145e-07, device='cuda:0', grad_fn=<DivBackward0>)\n",
      "classification loss :  tensor(1.2200e-06, device='cuda:0', grad_fn=<DivBackward0>)\n",
      "classification node loss :  tensor(5.4466e-05, device='cuda:0', grad_fn=<DivBackward0>)\n",
      "total loss :  tensor(5.5987e-05, device='cuda:0', grad_fn=<DivBackward0>)\n",
      "////////////////////////////////////\n",
      "***************************\n",
      "test : \n"
     ]
    },
    {
     "name": "stderr",
     "output_type": "stream",
     "text": [
      "Epoch 170: 100%|███████████████████████████| 243/243 [00:40<00:00,  6.07batch/s]\n"
     ]
    },
    {
     "name": "stdout",
     "output_type": "stream",
     "text": [
      "score: write test scores to /home/hassan-hossein/single_image_graph_face_anti_spoofing/train/Scores/epoch_170/score.txt\n",
      "epoch:170, test:  val_ACC=0.8745, HTER=0.1255, AUC=0.9150, val_err=0.1255, ACC=0.8745, TPR=0.3573\n"
     ]
    },
    {
     "name": "stderr",
     "output_type": "stream",
     "text": [
      "Epoch 171: 100%|█████████████████████████| 3448/3448 [08:33<00:00,  6.71batch/s]\n"
     ]
    },
    {
     "name": "stdout",
     "output_type": "stream",
     "text": [
      "/////////////////////////\n",
      "adverserial loss :  tensor(4.3814e-08, device='cuda:0', grad_fn=<DivBackward0>)\n",
      "classification loss :  tensor(8.9014e-07, device='cuda:0', grad_fn=<DivBackward0>)\n",
      "classification node loss :  tensor(4.7903e-05, device='cuda:0', grad_fn=<DivBackward0>)\n",
      "total loss :  tensor(4.8837e-05, device='cuda:0', grad_fn=<DivBackward0>)\n",
      "////////////////////////////////////\n",
      "***************************\n",
      "test : \n"
     ]
    },
    {
     "name": "stderr",
     "output_type": "stream",
     "text": [
      "Epoch 171: 100%|███████████████████████████| 243/243 [00:39<00:00,  6.23batch/s]\n"
     ]
    },
    {
     "name": "stdout",
     "output_type": "stream",
     "text": [
      "score: write test scores to /home/hassan-hossein/single_image_graph_face_anti_spoofing/train/Scores/epoch_171/score.txt\n",
      "epoch:171, test:  val_ACC=0.8547, HTER=0.1453, AUC=0.9007, val_err=0.1454, ACC=0.8547, TPR=0.0854\n"
     ]
    },
    {
     "name": "stderr",
     "output_type": "stream",
     "text": [
      "Epoch 172: 100%|█████████████████████████| 3448/3448 [08:34<00:00,  6.70batch/s]\n"
     ]
    },
    {
     "name": "stdout",
     "output_type": "stream",
     "text": [
      "/////////////////////////\n",
      "adverserial loss :  tensor(1.3211e-06, device='cuda:0', grad_fn=<DivBackward0>)\n",
      "classification loss :  tensor(9.6292e-07, device='cuda:0', grad_fn=<DivBackward0>)\n",
      "classification node loss :  tensor(4.4251e-05, device='cuda:0', grad_fn=<DivBackward0>)\n",
      "total loss :  tensor(4.6535e-05, device='cuda:0', grad_fn=<DivBackward0>)\n",
      "////////////////////////////////////\n",
      "***************************\n",
      "test : \n"
     ]
    },
    {
     "name": "stderr",
     "output_type": "stream",
     "text": [
      "Epoch 172: 100%|███████████████████████████| 243/243 [00:38<00:00,  6.29batch/s]\n"
     ]
    },
    {
     "name": "stdout",
     "output_type": "stream",
     "text": [
      "score: write test scores to /home/hassan-hossein/single_image_graph_face_anti_spoofing/train/Scores/epoch_172/score.txt\n",
      "epoch:172, test:  val_ACC=0.8715, HTER=0.1286, AUC=0.9093, val_err=0.1285, ACC=0.8715, TPR=0.1494\n"
     ]
    },
    {
     "name": "stderr",
     "output_type": "stream",
     "text": [
      "Epoch 173: 100%|█████████████████████████| 3448/3448 [08:33<00:00,  6.71batch/s]\n"
     ]
    },
    {
     "name": "stdout",
     "output_type": "stream",
     "text": [
      "/////////////////////////\n",
      "adverserial loss :  tensor(2.0936e-07, device='cuda:0', grad_fn=<DivBackward0>)\n",
      "classification loss :  tensor(6.8904e-07, device='cuda:0', grad_fn=<DivBackward0>)\n",
      "classification node loss :  tensor(3.9972e-05, device='cuda:0', grad_fn=<DivBackward0>)\n",
      "total loss :  tensor(4.0871e-05, device='cuda:0', grad_fn=<DivBackward0>)\n",
      "////////////////////////////////////\n",
      "***************************\n",
      "test : \n"
     ]
    },
    {
     "name": "stderr",
     "output_type": "stream",
     "text": [
      "Epoch 173: 100%|███████████████████████████| 243/243 [00:38<00:00,  6.31batch/s]\n"
     ]
    },
    {
     "name": "stdout",
     "output_type": "stream",
     "text": [
      "score: write test scores to /home/hassan-hossein/single_image_graph_face_anti_spoofing/train/Scores/epoch_173/score.txt\n",
      "epoch:173, test:  val_ACC=0.8837, HTER=0.1163, AUC=0.9167, val_err=0.1163, ACC=0.8837, TPR=0.4735\n"
     ]
    },
    {
     "name": "stderr",
     "output_type": "stream",
     "text": [
      "Epoch 174: 100%|█████████████████████████| 3448/3448 [08:34<00:00,  6.70batch/s]\n"
     ]
    },
    {
     "name": "stdout",
     "output_type": "stream",
     "text": [
      "/////////////////////////\n",
      "adverserial loss :  tensor(8.5338e-07, device='cuda:0', grad_fn=<DivBackward0>)\n",
      "classification loss :  tensor(1.2919e-06, device='cuda:0', grad_fn=<DivBackward0>)\n",
      "classification node loss :  tensor(4.4722e-05, device='cuda:0', grad_fn=<DivBackward0>)\n",
      "total loss :  tensor(4.6867e-05, device='cuda:0', grad_fn=<DivBackward0>)\n",
      "////////////////////////////////////\n",
      "***************************\n",
      "test : \n"
     ]
    },
    {
     "name": "stderr",
     "output_type": "stream",
     "text": [
      "Epoch 174: 100%|███████████████████████████| 243/243 [00:39<00:00,  6.14batch/s]\n"
     ]
    },
    {
     "name": "stdout",
     "output_type": "stream",
     "text": [
      "score: write test scores to /home/hassan-hossein/single_image_graph_face_anti_spoofing/train/Scores/epoch_174/score.txt\n",
      "epoch:174, test:  val_ACC=0.8817, HTER=0.1183, AUC=0.9319, val_err=0.1183, ACC=0.8817, TPR=0.3845\n"
     ]
    },
    {
     "name": "stderr",
     "output_type": "stream",
     "text": [
      "Epoch 175: 100%|█████████████████████████| 3448/3448 [08:33<00:00,  6.71batch/s]\n"
     ]
    },
    {
     "name": "stdout",
     "output_type": "stream",
     "text": [
      "/////////////////////////\n",
      "adverserial loss :  tensor(1.3419e-06, device='cuda:0', grad_fn=<DivBackward0>)\n",
      "classification loss :  tensor(4.0345e-07, device='cuda:0', grad_fn=<DivBackward0>)\n",
      "classification node loss :  tensor(4.8792e-05, device='cuda:0', grad_fn=<DivBackward0>)\n",
      "total loss :  tensor(5.0538e-05, device='cuda:0', grad_fn=<DivBackward0>)\n",
      "////////////////////////////////////\n",
      "***************************\n",
      "test : \n"
     ]
    },
    {
     "name": "stderr",
     "output_type": "stream",
     "text": [
      "Epoch 175: 100%|███████████████████████████| 243/243 [00:38<00:00,  6.26batch/s]\n"
     ]
    },
    {
     "name": "stdout",
     "output_type": "stream",
     "text": [
      "score: write test scores to /home/hassan-hossein/single_image_graph_face_anti_spoofing/train/Scores/epoch_175/score.txt\n",
      "epoch:175, test:  val_ACC=0.8705, HTER=0.1294, AUC=0.9127, val_err=0.1295, ACC=0.8705, TPR=0.3747\n"
     ]
    },
    {
     "name": "stderr",
     "output_type": "stream",
     "text": [
      "Epoch 176: 100%|█████████████████████████| 3448/3448 [08:34<00:00,  6.70batch/s]\n"
     ]
    },
    {
     "name": "stdout",
     "output_type": "stream",
     "text": [
      "/////////////////////////\n",
      "adverserial loss :  tensor(2.2577e-06, device='cuda:0', grad_fn=<DivBackward0>)\n",
      "classification loss :  tensor(7.6996e-07, device='cuda:0', grad_fn=<DivBackward0>)\n",
      "classification node loss :  tensor(4.5892e-05, device='cuda:0', grad_fn=<DivBackward0>)\n",
      "total loss :  tensor(4.8920e-05, device='cuda:0', grad_fn=<DivBackward0>)\n",
      "////////////////////////////////////\n",
      "***************************\n",
      "test : \n"
     ]
    },
    {
     "name": "stderr",
     "output_type": "stream",
     "text": [
      "Epoch 176: 100%|███████████████████████████| 243/243 [00:38<00:00,  6.25batch/s]\n"
     ]
    },
    {
     "name": "stdout",
     "output_type": "stream",
     "text": [
      "score: write test scores to /home/hassan-hossein/single_image_graph_face_anti_spoofing/train/Scores/epoch_176/score.txt\n",
      "epoch:176, test:  val_ACC=0.8727, HTER=0.1273, AUC=0.9042, val_err=0.1273, ACC=0.8727, TPR=0.2243\n"
     ]
    },
    {
     "name": "stderr",
     "output_type": "stream",
     "text": [
      "Epoch 177: 100%|█████████████████████████| 3448/3448 [08:35<00:00,  6.69batch/s]\n"
     ]
    },
    {
     "name": "stdout",
     "output_type": "stream",
     "text": [
      "/////////////////////////\n",
      "adverserial loss :  tensor(1.6461e-07, device='cuda:0', grad_fn=<DivBackward0>)\n",
      "classification loss :  tensor(7.7047e-07, device='cuda:0', grad_fn=<DivBackward0>)\n",
      "classification node loss :  tensor(4.2697e-05, device='cuda:0', grad_fn=<DivBackward0>)\n",
      "total loss :  tensor(4.3632e-05, device='cuda:0', grad_fn=<DivBackward0>)\n",
      "////////////////////////////////////\n",
      "***************************\n",
      "test : \n"
     ]
    },
    {
     "name": "stderr",
     "output_type": "stream",
     "text": [
      "Epoch 177: 100%|███████████████████████████| 243/243 [00:39<00:00,  6.22batch/s]\n"
     ]
    },
    {
     "name": "stdout",
     "output_type": "stream",
     "text": [
      "score: write test scores to /home/hassan-hossein/single_image_graph_face_anti_spoofing/train/Scores/epoch_177/score.txt\n",
      "epoch:177, test:  val_ACC=0.8413, HTER=0.1587, AUC=0.8704, val_err=0.1587, ACC=0.8413, TPR=0.1170\n"
     ]
    },
    {
     "name": "stderr",
     "output_type": "stream",
     "text": [
      "Epoch 178: 100%|█████████████████████████| 3448/3448 [08:34<00:00,  6.70batch/s]\n"
     ]
    },
    {
     "name": "stdout",
     "output_type": "stream",
     "text": [
      "/////////////////////////\n",
      "adverserial loss :  tensor(7.3585e-07, device='cuda:0', grad_fn=<DivBackward0>)\n",
      "classification loss :  tensor(7.5373e-07, device='cuda:0', grad_fn=<DivBackward0>)\n",
      "classification node loss :  tensor(4.1867e-05, device='cuda:0', grad_fn=<DivBackward0>)\n",
      "total loss :  tensor(4.3357e-05, device='cuda:0', grad_fn=<DivBackward0>)\n",
      "////////////////////////////////////\n",
      "***************************\n",
      "test : \n"
     ]
    },
    {
     "name": "stderr",
     "output_type": "stream",
     "text": [
      "Epoch 178: 100%|███████████████████████████| 243/243 [00:40<00:00,  6.07batch/s]\n"
     ]
    },
    {
     "name": "stdout",
     "output_type": "stream",
     "text": [
      "score: write test scores to /home/hassan-hossein/single_image_graph_face_anti_spoofing/train/Scores/epoch_178/score.txt\n",
      "epoch:178, test:  val_ACC=0.8815, HTER=0.1186, AUC=0.9137, val_err=0.1186, ACC=0.8815, TPR=0.3362\n"
     ]
    },
    {
     "name": "stderr",
     "output_type": "stream",
     "text": [
      "Epoch 179: 100%|█████████████████████████| 3448/3448 [08:35<00:00,  6.69batch/s]\n"
     ]
    },
    {
     "name": "stdout",
     "output_type": "stream",
     "text": [
      "/////////////////////////\n",
      "adverserial loss :  tensor(4.4919e-08, device='cuda:0', grad_fn=<DivBackward0>)\n",
      "classification loss :  tensor(1.1817e-06, device='cuda:0', grad_fn=<DivBackward0>)\n",
      "classification node loss :  tensor(4.2076e-05, device='cuda:0', grad_fn=<DivBackward0>)\n",
      "total loss :  tensor(4.3302e-05, device='cuda:0', grad_fn=<DivBackward0>)\n",
      "////////////////////////////////////\n",
      "***************************\n",
      "test : \n"
     ]
    },
    {
     "name": "stderr",
     "output_type": "stream",
     "text": [
      "Epoch 179: 100%|███████████████████████████| 243/243 [00:39<00:00,  6.20batch/s]\n"
     ]
    },
    {
     "name": "stdout",
     "output_type": "stream",
     "text": [
      "score: write test scores to /home/hassan-hossein/single_image_graph_face_anti_spoofing/train/Scores/epoch_179/score.txt\n",
      "epoch:179, test:  val_ACC=0.8821, HTER=0.1179, AUC=0.9187, val_err=0.1179, ACC=0.8821, TPR=0.3902\n"
     ]
    },
    {
     "name": "stderr",
     "output_type": "stream",
     "text": [
      "Epoch 180: 100%|█████████████████████████| 3448/3448 [08:34<00:00,  6.70batch/s]\n"
     ]
    },
    {
     "name": "stdout",
     "output_type": "stream",
     "text": [
      "/////////////////////////\n",
      "adverserial loss :  tensor(9.8410e-09, device='cuda:0', grad_fn=<DivBackward0>)\n",
      "classification loss :  tensor(1.3754e-06, device='cuda:0', grad_fn=<DivBackward0>)\n",
      "classification node loss :  tensor(4.4770e-05, device='cuda:0', grad_fn=<DivBackward0>)\n",
      "total loss :  tensor(4.6155e-05, device='cuda:0', grad_fn=<DivBackward0>)\n",
      "////////////////////////////////////\n",
      "***************************\n",
      "test : \n"
     ]
    },
    {
     "name": "stderr",
     "output_type": "stream",
     "text": [
      "Epoch 180: 100%|███████████████████████████| 243/243 [00:39<00:00,  6.18batch/s]\n"
     ]
    },
    {
     "name": "stdout",
     "output_type": "stream",
     "text": [
      "score: write test scores to /home/hassan-hossein/single_image_graph_face_anti_spoofing/train/Scores/epoch_180/score.txt\n",
      "epoch:180, test:  val_ACC=0.8930, HTER=0.1070, AUC=0.9395, val_err=0.1070, ACC=0.8930, TPR=0.5476\n"
     ]
    },
    {
     "name": "stderr",
     "output_type": "stream",
     "text": [
      "Epoch 181: 100%|█████████████████████████| 3448/3448 [08:35<00:00,  6.69batch/s]\n"
     ]
    },
    {
     "name": "stdout",
     "output_type": "stream",
     "text": [
      "/////////////////////////\n",
      "adverserial loss :  tensor(2.2136e-06, device='cuda:0', grad_fn=<DivBackward0>)\n",
      "classification loss :  tensor(3.9529e-07, device='cuda:0', grad_fn=<DivBackward0>)\n",
      "classification node loss :  tensor(4.1574e-05, device='cuda:0', grad_fn=<DivBackward0>)\n",
      "total loss :  tensor(4.4183e-05, device='cuda:0', grad_fn=<DivBackward0>)\n",
      "////////////////////////////////////\n",
      "***************************\n",
      "test : \n"
     ]
    },
    {
     "name": "stderr",
     "output_type": "stream",
     "text": [
      "Epoch 181: 100%|███████████████████████████| 243/243 [00:39<00:00,  6.14batch/s]\n"
     ]
    },
    {
     "name": "stdout",
     "output_type": "stream",
     "text": [
      "score: write test scores to /home/hassan-hossein/single_image_graph_face_anti_spoofing/train/Scores/epoch_181/score.txt\n",
      "epoch:181, test:  val_ACC=0.8836, HTER=0.1165, AUC=0.9156, val_err=0.1165, ACC=0.8836, TPR=0.3151\n"
     ]
    },
    {
     "name": "stderr",
     "output_type": "stream",
     "text": [
      "Epoch 182: 100%|█████████████████████████| 3448/3448 [08:35<00:00,  6.69batch/s]\n"
     ]
    },
    {
     "name": "stdout",
     "output_type": "stream",
     "text": [
      "/////////////////////////\n",
      "adverserial loss :  tensor(1.5092e-07, device='cuda:0', grad_fn=<DivBackward0>)\n",
      "classification loss :  tensor(6.4492e-07, device='cuda:0', grad_fn=<DivBackward0>)\n",
      "classification node loss :  tensor(4.1025e-05, device='cuda:0', grad_fn=<DivBackward0>)\n",
      "total loss :  tensor(4.1820e-05, device='cuda:0', grad_fn=<DivBackward0>)\n",
      "////////////////////////////////////\n",
      "***************************\n",
      "test : \n"
     ]
    },
    {
     "name": "stderr",
     "output_type": "stream",
     "text": [
      "Epoch 182: 100%|███████████████████████████| 243/243 [00:38<00:00,  6.28batch/s]\n"
     ]
    },
    {
     "name": "stdout",
     "output_type": "stream",
     "text": [
      "score: write test scores to /home/hassan-hossein/single_image_graph_face_anti_spoofing/train/Scores/epoch_182/score.txt\n",
      "epoch:182, test:  val_ACC=0.8400, HTER=0.1600, AUC=0.8781, val_err=0.1600, ACC=0.8400, TPR=0.0687\n"
     ]
    },
    {
     "name": "stderr",
     "output_type": "stream",
     "text": [
      "Epoch 183: 100%|█████████████████████████| 3448/3448 [08:35<00:00,  6.69batch/s]\n"
     ]
    },
    {
     "name": "stdout",
     "output_type": "stream",
     "text": [
      "/////////////////////////\n",
      "adverserial loss :  tensor(1.9425e-07, device='cuda:0', grad_fn=<DivBackward0>)\n",
      "classification loss :  tensor(1.2281e-06, device='cuda:0', grad_fn=<DivBackward0>)\n",
      "classification node loss :  tensor(3.7843e-05, device='cuda:0', grad_fn=<DivBackward0>)\n",
      "total loss :  tensor(3.9265e-05, device='cuda:0', grad_fn=<DivBackward0>)\n",
      "////////////////////////////////////\n",
      "***************************\n",
      "test : \n"
     ]
    },
    {
     "name": "stderr",
     "output_type": "stream",
     "text": [
      "Epoch 183: 100%|███████████████████████████| 243/243 [00:38<00:00,  6.29batch/s]\n"
     ]
    },
    {
     "name": "stdout",
     "output_type": "stream",
     "text": [
      "score: write test scores to /home/hassan-hossein/single_image_graph_face_anti_spoofing/train/Scores/epoch_183/score.txt\n",
      "epoch:183, test:  val_ACC=0.8900, HTER=0.1101, AUC=0.9243, val_err=0.1101, ACC=0.8900, TPR=0.4277\n"
     ]
    },
    {
     "name": "stderr",
     "output_type": "stream",
     "text": [
      "Epoch 184: 100%|█████████████████████████| 3448/3448 [08:35<00:00,  6.69batch/s]\n"
     ]
    },
    {
     "name": "stdout",
     "output_type": "stream",
     "text": [
      "/////////////////////////\n",
      "adverserial loss :  tensor(2.6278e-07, device='cuda:0', grad_fn=<DivBackward0>)\n",
      "classification loss :  tensor(8.7656e-07, device='cuda:0', grad_fn=<DivBackward0>)\n",
      "classification node loss :  tensor(4.1573e-05, device='cuda:0', grad_fn=<DivBackward0>)\n",
      "total loss :  tensor(4.2712e-05, device='cuda:0', grad_fn=<DivBackward0>)\n",
      "////////////////////////////////////\n",
      "***************************\n",
      "test : \n"
     ]
    },
    {
     "name": "stderr",
     "output_type": "stream",
     "text": [
      "Epoch 184: 100%|███████████████████████████| 243/243 [00:38<00:00,  6.25batch/s]\n"
     ]
    },
    {
     "name": "stdout",
     "output_type": "stream",
     "text": [
      "score: write test scores to /home/hassan-hossein/single_image_graph_face_anti_spoofing/train/Scores/epoch_184/score.txt\n",
      "epoch:184, test:  val_ACC=0.8666, HTER=0.1335, AUC=0.8985, val_err=0.1334, ACC=0.8666, TPR=0.1865\n"
     ]
    },
    {
     "name": "stderr",
     "output_type": "stream",
     "text": [
      "Epoch 185: 100%|█████████████████████████| 3448/3448 [08:34<00:00,  6.70batch/s]\n"
     ]
    },
    {
     "name": "stdout",
     "output_type": "stream",
     "text": [
      "/////////////////////////\n",
      "adverserial loss :  tensor(2.0113e-06, device='cuda:0', grad_fn=<DivBackward0>)\n",
      "classification loss :  tensor(5.9448e-07, device='cuda:0', grad_fn=<DivBackward0>)\n",
      "classification node loss :  tensor(4.6410e-05, device='cuda:0', grad_fn=<DivBackward0>)\n",
      "total loss :  tensor(4.9016e-05, device='cuda:0', grad_fn=<DivBackward0>)\n",
      "////////////////////////////////////\n",
      "***************************\n",
      "test : \n"
     ]
    },
    {
     "name": "stderr",
     "output_type": "stream",
     "text": [
      "Epoch 185: 100%|███████████████████████████| 243/243 [00:39<00:00,  6.15batch/s]\n"
     ]
    },
    {
     "name": "stdout",
     "output_type": "stream",
     "text": [
      "score: write test scores to /home/hassan-hossein/single_image_graph_face_anti_spoofing/train/Scores/epoch_185/score.txt\n",
      "epoch:185, test:  val_ACC=0.8785, HTER=0.1215, AUC=0.9271, val_err=0.1215, ACC=0.8785, TPR=0.4149\n"
     ]
    },
    {
     "name": "stderr",
     "output_type": "stream",
     "text": [
      "Epoch 186: 100%|█████████████████████████| 3448/3448 [08:33<00:00,  6.71batch/s]\n"
     ]
    },
    {
     "name": "stdout",
     "output_type": "stream",
     "text": [
      "/////////////////////////\n",
      "adverserial loss :  tensor(4.0995e-07, device='cuda:0', grad_fn=<DivBackward0>)\n",
      "classification loss :  tensor(1.3407e-06, device='cuda:0', grad_fn=<DivBackward0>)\n",
      "classification node loss :  tensor(4.3170e-05, device='cuda:0', grad_fn=<DivBackward0>)\n",
      "total loss :  tensor(4.4921e-05, device='cuda:0', grad_fn=<DivBackward0>)\n",
      "////////////////////////////////////\n",
      "***************************\n",
      "test : \n"
     ]
    },
    {
     "name": "stderr",
     "output_type": "stream",
     "text": [
      "Epoch 186: 100%|███████████████████████████| 243/243 [00:38<00:00,  6.31batch/s]\n"
     ]
    },
    {
     "name": "stdout",
     "output_type": "stream",
     "text": [
      "score: write test scores to /home/hassan-hossein/single_image_graph_face_anti_spoofing/train/Scores/epoch_186/score.txt\n",
      "epoch:186, test:  val_ACC=0.8773, HTER=0.1227, AUC=0.9069, val_err=0.1227, ACC=0.8773, TPR=0.1317\n"
     ]
    },
    {
     "name": "stderr",
     "output_type": "stream",
     "text": [
      "Epoch 187: 100%|█████████████████████████| 3448/3448 [08:34<00:00,  6.70batch/s]\n"
     ]
    },
    {
     "name": "stdout",
     "output_type": "stream",
     "text": [
      "/////////////////////////\n",
      "adverserial loss :  tensor(1.5797e-07, device='cuda:0', grad_fn=<DivBackward0>)\n",
      "classification loss :  tensor(1.2405e-06, device='cuda:0', grad_fn=<DivBackward0>)\n",
      "classification node loss :  tensor(4.4089e-05, device='cuda:0', grad_fn=<DivBackward0>)\n",
      "total loss :  tensor(4.5487e-05, device='cuda:0', grad_fn=<DivBackward0>)\n",
      "////////////////////////////////////\n",
      "***************************\n",
      "test : \n"
     ]
    },
    {
     "name": "stderr",
     "output_type": "stream",
     "text": [
      "Epoch 187: 100%|███████████████████████████| 243/243 [00:38<00:00,  6.23batch/s]\n"
     ]
    },
    {
     "name": "stdout",
     "output_type": "stream",
     "text": [
      "score: write test scores to /home/hassan-hossein/single_image_graph_face_anti_spoofing/train/Scores/epoch_187/score.txt\n",
      "epoch:187, test:  val_ACC=0.8774, HTER=0.1227, AUC=0.9221, val_err=0.1226, ACC=0.8774, TPR=0.3248\n"
     ]
    },
    {
     "name": "stderr",
     "output_type": "stream",
     "text": [
      "Epoch 188: 100%|█████████████████████████| 3448/3448 [08:33<00:00,  6.71batch/s]\n"
     ]
    },
    {
     "name": "stdout",
     "output_type": "stream",
     "text": [
      "/////////////////////////\n",
      "adverserial loss :  tensor(6.2864e-08, device='cuda:0', grad_fn=<DivBackward0>)\n",
      "classification loss :  tensor(4.4943e-07, device='cuda:0', grad_fn=<DivBackward0>)\n",
      "classification node loss :  tensor(3.7082e-05, device='cuda:0', grad_fn=<DivBackward0>)\n",
      "total loss :  tensor(3.7594e-05, device='cuda:0', grad_fn=<DivBackward0>)\n",
      "////////////////////////////////////\n",
      "***************************\n",
      "test : \n"
     ]
    },
    {
     "name": "stderr",
     "output_type": "stream",
     "text": [
      "Epoch 188: 100%|███████████████████████████| 243/243 [00:38<00:00,  6.26batch/s]\n"
     ]
    },
    {
     "name": "stdout",
     "output_type": "stream",
     "text": [
      "score: write test scores to /home/hassan-hossein/single_image_graph_face_anti_spoofing/train/Scores/epoch_188/score.txt\n",
      "epoch:188, test:  val_ACC=0.8789, HTER=0.1212, AUC=0.9164, val_err=0.1212, ACC=0.8789, TPR=0.4619\n"
     ]
    },
    {
     "name": "stderr",
     "output_type": "stream",
     "text": [
      "Epoch 189: 100%|█████████████████████████| 3448/3448 [08:35<00:00,  6.69batch/s]\n"
     ]
    },
    {
     "name": "stdout",
     "output_type": "stream",
     "text": [
      "/////////////////////////\n",
      "adverserial loss :  tensor(6.5302e-07, device='cuda:0', grad_fn=<DivBackward0>)\n",
      "classification loss :  tensor(9.6125e-07, device='cuda:0', grad_fn=<DivBackward0>)\n",
      "classification node loss :  tensor(4.8226e-05, device='cuda:0', grad_fn=<DivBackward0>)\n",
      "total loss :  tensor(4.9841e-05, device='cuda:0', grad_fn=<DivBackward0>)\n",
      "////////////////////////////////////\n",
      "***************************\n",
      "test : \n"
     ]
    },
    {
     "name": "stderr",
     "output_type": "stream",
     "text": [
      "Epoch 189: 100%|███████████████████████████| 243/243 [00:39<00:00,  6.17batch/s]\n"
     ]
    },
    {
     "name": "stdout",
     "output_type": "stream",
     "text": [
      "score: write test scores to /home/hassan-hossein/single_image_graph_face_anti_spoofing/train/Scores/epoch_189/score.txt\n",
      "epoch:189, test:  val_ACC=0.8715, HTER=0.1286, AUC=0.9153, val_err=0.1285, ACC=0.8715, TPR=0.3395\n"
     ]
    },
    {
     "name": "stderr",
     "output_type": "stream",
     "text": [
      "Epoch 190: 100%|█████████████████████████| 3448/3448 [08:35<00:00,  6.69batch/s]\n"
     ]
    },
    {
     "name": "stdout",
     "output_type": "stream",
     "text": [
      "/////////////////////////\n",
      "adverserial loss :  tensor(3.6543e-07, device='cuda:0', grad_fn=<DivBackward0>)\n",
      "classification loss :  tensor(5.3618e-07, device='cuda:0', grad_fn=<DivBackward0>)\n",
      "classification node loss :  tensor(3.9758e-05, device='cuda:0', grad_fn=<DivBackward0>)\n",
      "total loss :  tensor(4.0660e-05, device='cuda:0', grad_fn=<DivBackward0>)\n",
      "////////////////////////////////////\n",
      "***************************\n",
      "test : \n"
     ]
    },
    {
     "name": "stderr",
     "output_type": "stream",
     "text": [
      "Epoch 190: 100%|███████████████████████████| 243/243 [00:38<00:00,  6.25batch/s]\n"
     ]
    },
    {
     "name": "stdout",
     "output_type": "stream",
     "text": [
      "score: write test scores to /home/hassan-hossein/single_image_graph_face_anti_spoofing/train/Scores/epoch_190/score.txt\n",
      "epoch:190, test:  val_ACC=0.8759, HTER=0.1240, AUC=0.9142, val_err=0.1241, ACC=0.8759, TPR=0.2289\n"
     ]
    },
    {
     "name": "stderr",
     "output_type": "stream",
     "text": [
      "Epoch 191: 100%|█████████████████████████| 3448/3448 [08:34<00:00,  6.70batch/s]\n"
     ]
    },
    {
     "name": "stdout",
     "output_type": "stream",
     "text": [
      "/////////////////////////\n",
      "adverserial loss :  tensor(3.6271e-10, device='cuda:0', grad_fn=<DivBackward0>)\n",
      "classification loss :  tensor(1.4404e-06, device='cuda:0', grad_fn=<DivBackward0>)\n",
      "classification node loss :  tensor(3.9691e-05, device='cuda:0', grad_fn=<DivBackward0>)\n",
      "total loss :  tensor(4.1132e-05, device='cuda:0', grad_fn=<DivBackward0>)\n",
      "////////////////////////////////////\n",
      "***************************\n",
      "test : \n"
     ]
    },
    {
     "name": "stderr",
     "output_type": "stream",
     "text": [
      "Epoch 191: 100%|███████████████████████████| 243/243 [00:39<00:00,  6.22batch/s]\n"
     ]
    },
    {
     "name": "stdout",
     "output_type": "stream",
     "text": [
      "score: write test scores to /home/hassan-hossein/single_image_graph_face_anti_spoofing/train/Scores/epoch_191/score.txt\n",
      "epoch:191, test:  val_ACC=0.8802, HTER=0.1198, AUC=0.9234, val_err=0.1198, ACC=0.8802, TPR=0.3192\n"
     ]
    },
    {
     "name": "stderr",
     "output_type": "stream",
     "text": [
      "Epoch 192: 100%|█████████████████████████| 3448/3448 [08:35<00:00,  6.69batch/s]\n"
     ]
    },
    {
     "name": "stdout",
     "output_type": "stream",
     "text": [
      "/////////////////////////\n",
      "adverserial loss :  tensor(2.3040e-06, device='cuda:0', grad_fn=<DivBackward0>)\n",
      "classification loss :  tensor(5.6244e-07, device='cuda:0', grad_fn=<DivBackward0>)\n",
      "classification node loss :  tensor(3.6561e-05, device='cuda:0', grad_fn=<DivBackward0>)\n",
      "total loss :  tensor(3.9427e-05, device='cuda:0', grad_fn=<DivBackward0>)\n",
      "////////////////////////////////////\n",
      "***************************\n",
      "test : \n"
     ]
    },
    {
     "name": "stderr",
     "output_type": "stream",
     "text": [
      "Epoch 192: 100%|███████████████████████████| 243/243 [00:38<00:00,  6.26batch/s]\n"
     ]
    },
    {
     "name": "stdout",
     "output_type": "stream",
     "text": [
      "score: write test scores to /home/hassan-hossein/single_image_graph_face_anti_spoofing/train/Scores/epoch_192/score.txt\n",
      "epoch:192, test:  val_ACC=0.8916, HTER=0.1083, AUC=0.9354, val_err=0.1084, ACC=0.8916, TPR=0.5059\n"
     ]
    },
    {
     "name": "stderr",
     "output_type": "stream",
     "text": [
      "Epoch 193: 100%|█████████████████████████| 3448/3448 [08:34<00:00,  6.70batch/s]\n"
     ]
    },
    {
     "name": "stdout",
     "output_type": "stream",
     "text": [
      "/////////////////////////\n",
      "adverserial loss :  tensor(3.4450e-08, device='cuda:0', grad_fn=<DivBackward0>)\n",
      "classification loss :  tensor(8.0440e-07, device='cuda:0', grad_fn=<DivBackward0>)\n",
      "classification node loss :  tensor(4.4331e-05, device='cuda:0', grad_fn=<DivBackward0>)\n",
      "total loss :  tensor(4.5170e-05, device='cuda:0', grad_fn=<DivBackward0>)\n",
      "////////////////////////////////////\n",
      "***************************\n",
      "test : \n"
     ]
    },
    {
     "name": "stderr",
     "output_type": "stream",
     "text": [
      "Epoch 193: 100%|███████████████████████████| 243/243 [00:38<00:00,  6.35batch/s]\n"
     ]
    },
    {
     "name": "stdout",
     "output_type": "stream",
     "text": [
      "score: write test scores to /home/hassan-hossein/single_image_graph_face_anti_spoofing/train/Scores/epoch_193/score.txt\n",
      "epoch:193, test:  val_ACC=0.8876, HTER=0.1124, AUC=0.9228, val_err=0.1124, ACC=0.8876, TPR=0.3125\n"
     ]
    },
    {
     "name": "stderr",
     "output_type": "stream",
     "text": [
      "Epoch 194: 100%|█████████████████████████| 3448/3448 [08:33<00:00,  6.71batch/s]\n"
     ]
    },
    {
     "name": "stdout",
     "output_type": "stream",
     "text": [
      "/////////////////////////\n",
      "adverserial loss :  tensor(2.4335e-09, device='cuda:0', grad_fn=<DivBackward0>)\n",
      "classification loss :  tensor(1.9756e-08, device='cuda:0', grad_fn=<DivBackward0>)\n",
      "classification node loss :  tensor(3.5536e-05, device='cuda:0', grad_fn=<DivBackward0>)\n",
      "total loss :  tensor(3.5558e-05, device='cuda:0', grad_fn=<DivBackward0>)\n",
      "////////////////////////////////////\n",
      "***************************\n",
      "test : \n"
     ]
    },
    {
     "name": "stderr",
     "output_type": "stream",
     "text": [
      "Epoch 194: 100%|███████████████████████████| 243/243 [00:39<00:00,  6.10batch/s]\n"
     ]
    },
    {
     "name": "stdout",
     "output_type": "stream",
     "text": [
      "score: write test scores to /home/hassan-hossein/single_image_graph_face_anti_spoofing/train/Scores/epoch_194/score.txt\n",
      "epoch:194, test:  val_ACC=0.8797, HTER=0.1204, AUC=0.9252, val_err=0.1204, ACC=0.8797, TPR=0.5082\n"
     ]
    },
    {
     "name": "stderr",
     "output_type": "stream",
     "text": [
      "Epoch 195: 100%|█████████████████████████| 3448/3448 [08:35<00:00,  6.69batch/s]\n"
     ]
    },
    {
     "name": "stdout",
     "output_type": "stream",
     "text": [
      "/////////////////////////\n",
      "adverserial loss :  tensor(9.5288e-08, device='cuda:0', grad_fn=<DivBackward0>)\n",
      "classification loss :  tensor(1.4967e-06, device='cuda:0', grad_fn=<DivBackward0>)\n",
      "classification node loss :  tensor(4.8755e-05, device='cuda:0', grad_fn=<DivBackward0>)\n",
      "total loss :  tensor(5.0347e-05, device='cuda:0', grad_fn=<DivBackward0>)\n",
      "////////////////////////////////////\n",
      "***************************\n",
      "test : \n"
     ]
    },
    {
     "name": "stderr",
     "output_type": "stream",
     "text": [
      "Epoch 195: 100%|███████████████████████████| 243/243 [00:38<00:00,  6.27batch/s]\n"
     ]
    },
    {
     "name": "stdout",
     "output_type": "stream",
     "text": [
      "score: write test scores to /home/hassan-hossein/single_image_graph_face_anti_spoofing/train/Scores/epoch_195/score.txt\n",
      "epoch:195, test:  val_ACC=0.8789, HTER=0.1211, AUC=0.9237, val_err=0.1211, ACC=0.8789, TPR=0.4195\n"
     ]
    },
    {
     "name": "stderr",
     "output_type": "stream",
     "text": [
      "Epoch 196: 100%|█████████████████████████| 3448/3448 [08:34<00:00,  6.70batch/s]\n"
     ]
    },
    {
     "name": "stdout",
     "output_type": "stream",
     "text": [
      "/////////////////////////\n",
      "adverserial loss :  tensor(7.1065e-07, device='cuda:0', grad_fn=<DivBackward0>)\n",
      "classification loss :  tensor(7.5739e-07, device='cuda:0', grad_fn=<DivBackward0>)\n",
      "classification node loss :  tensor(3.5956e-05, device='cuda:0', grad_fn=<DivBackward0>)\n",
      "total loss :  tensor(3.7424e-05, device='cuda:0', grad_fn=<DivBackward0>)\n",
      "////////////////////////////////////\n",
      "***************************\n",
      "test : \n"
     ]
    },
    {
     "name": "stderr",
     "output_type": "stream",
     "text": [
      "Epoch 196: 100%|███████████████████████████| 243/243 [00:38<00:00,  6.39batch/s]\n"
     ]
    },
    {
     "name": "stdout",
     "output_type": "stream",
     "text": [
      "score: write test scores to /home/hassan-hossein/single_image_graph_face_anti_spoofing/train/Scores/epoch_196/score.txt\n",
      "epoch:196, test:  val_ACC=0.8681, HTER=0.1320, AUC=0.9158, val_err=0.1320, ACC=0.8681, TPR=0.3320\n"
     ]
    },
    {
     "name": "stderr",
     "output_type": "stream",
     "text": [
      "Epoch 197: 100%|█████████████████████████| 3448/3448 [08:33<00:00,  6.72batch/s]\n"
     ]
    },
    {
     "name": "stdout",
     "output_type": "stream",
     "text": [
      "/////////////////////////\n",
      "adverserial loss :  tensor(3.4123e-07, device='cuda:0', grad_fn=<DivBackward0>)\n",
      "classification loss :  tensor(1.0148e-06, device='cuda:0', grad_fn=<DivBackward0>)\n",
      "classification node loss :  tensor(4.0533e-05, device='cuda:0', grad_fn=<DivBackward0>)\n",
      "total loss :  tensor(4.1889e-05, device='cuda:0', grad_fn=<DivBackward0>)\n",
      "////////////////////////////////////\n",
      "***************************\n",
      "test : \n"
     ]
    },
    {
     "name": "stderr",
     "output_type": "stream",
     "text": [
      "Epoch 197: 100%|███████████████████████████| 243/243 [00:39<00:00,  6.21batch/s]\n"
     ]
    },
    {
     "name": "stdout",
     "output_type": "stream",
     "text": [
      "score: write test scores to /home/hassan-hossein/single_image_graph_face_anti_spoofing/train/Scores/epoch_197/score.txt\n",
      "epoch:197, test:  val_ACC=0.8730, HTER=0.1271, AUC=0.9118, val_err=0.1271, ACC=0.8730, TPR=0.2798\n"
     ]
    },
    {
     "name": "stderr",
     "output_type": "stream",
     "text": [
      "Epoch 198: 100%|█████████████████████████| 3448/3448 [08:34<00:00,  6.70batch/s]\n"
     ]
    },
    {
     "name": "stdout",
     "output_type": "stream",
     "text": [
      "/////////////////////////\n",
      "adverserial loss :  tensor(5.3354e-07, device='cuda:0', grad_fn=<DivBackward0>)\n",
      "classification loss :  tensor(8.7907e-07, device='cuda:0', grad_fn=<DivBackward0>)\n",
      "classification node loss :  tensor(3.8749e-05, device='cuda:0', grad_fn=<DivBackward0>)\n",
      "total loss :  tensor(4.0161e-05, device='cuda:0', grad_fn=<DivBackward0>)\n",
      "////////////////////////////////////\n",
      "***************************\n",
      "test : \n"
     ]
    },
    {
     "name": "stderr",
     "output_type": "stream",
     "text": [
      "Epoch 198: 100%|███████████████████████████| 243/243 [00:39<00:00,  6.15batch/s]\n"
     ]
    },
    {
     "name": "stdout",
     "output_type": "stream",
     "text": [
      "score: write test scores to /home/hassan-hossein/single_image_graph_face_anti_spoofing/train/Scores/epoch_198/score.txt\n",
      "epoch:198, test:  val_ACC=0.8711, HTER=0.1289, AUC=0.9201, val_err=0.1289, ACC=0.8711, TPR=0.3428\n"
     ]
    },
    {
     "name": "stderr",
     "output_type": "stream",
     "text": [
      "Epoch 199: 100%|█████████████████████████| 3448/3448 [08:35<00:00,  6.69batch/s]\n"
     ]
    },
    {
     "name": "stdout",
     "output_type": "stream",
     "text": [
      "/////////////////////////\n",
      "adverserial loss :  tensor(3.7466e-07, device='cuda:0', grad_fn=<DivBackward0>)\n",
      "classification loss :  tensor(9.4192e-07, device='cuda:0', grad_fn=<DivBackward0>)\n",
      "classification node loss :  tensor(3.8754e-05, device='cuda:0', grad_fn=<DivBackward0>)\n",
      "total loss :  tensor(4.0071e-05, device='cuda:0', grad_fn=<DivBackward0>)\n",
      "////////////////////////////////////\n",
      "***************************\n",
      "test : \n"
     ]
    },
    {
     "name": "stderr",
     "output_type": "stream",
     "text": [
      "Epoch 199: 100%|███████████████████████████| 243/243 [00:38<00:00,  6.24batch/s]\n"
     ]
    },
    {
     "name": "stdout",
     "output_type": "stream",
     "text": [
      "score: write test scores to /home/hassan-hossein/single_image_graph_face_anti_spoofing/train/Scores/epoch_199/score.txt\n",
      "epoch:199, test:  val_ACC=0.8642, HTER=0.1358, AUC=0.9077, val_err=0.1358, ACC=0.8642, TPR=0.2112\n"
     ]
    },
    {
     "name": "stderr",
     "output_type": "stream",
     "text": [
      "Epoch 200: 100%|█████████████████████████| 3448/3448 [08:34<00:00,  6.70batch/s]\n"
     ]
    },
    {
     "name": "stdout",
     "output_type": "stream",
     "text": [
      "/////////////////////////\n",
      "adverserial loss :  tensor(7.2420e-07, device='cuda:0', grad_fn=<DivBackward0>)\n",
      "classification loss :  tensor(1.2025e-06, device='cuda:0', grad_fn=<DivBackward0>)\n",
      "classification node loss :  tensor(4.6007e-05, device='cuda:0', grad_fn=<DivBackward0>)\n",
      "total loss :  tensor(4.7933e-05, device='cuda:0', grad_fn=<DivBackward0>)\n",
      "////////////////////////////////////\n",
      "***************************\n",
      "test : \n"
     ]
    },
    {
     "name": "stderr",
     "output_type": "stream",
     "text": [
      "Epoch 200: 100%|███████████████████████████| 243/243 [00:39<00:00,  6.23batch/s]\n"
     ]
    },
    {
     "name": "stdout",
     "output_type": "stream",
     "text": [
      "score: write test scores to /home/hassan-hossein/single_image_graph_face_anti_spoofing/train/Scores/epoch_200/score.txt\n",
      "epoch:200, test:  val_ACC=0.8554, HTER=0.1446, AUC=0.9090, val_err=0.1446, ACC=0.8554, TPR=0.3441\n"
     ]
    },
    {
     "name": "stderr",
     "output_type": "stream",
     "text": [
      "Epoch 201: 100%|█████████████████████████| 3448/3448 [08:34<00:00,  6.70batch/s]\n"
     ]
    },
    {
     "name": "stdout",
     "output_type": "stream",
     "text": [
      "/////////////////////////\n",
      "adverserial loss :  tensor(1.6715e-08, device='cuda:0', grad_fn=<DivBackward0>)\n",
      "classification loss :  tensor(2.4508e-07, device='cuda:0', grad_fn=<DivBackward0>)\n",
      "classification node loss :  tensor(3.2588e-05, device='cuda:0', grad_fn=<DivBackward0>)\n",
      "total loss :  tensor(3.2850e-05, device='cuda:0', grad_fn=<DivBackward0>)\n",
      "////////////////////////////////////\n",
      "***************************\n",
      "test : \n"
     ]
    },
    {
     "name": "stderr",
     "output_type": "stream",
     "text": [
      "Epoch 201: 100%|███████████████████████████| 243/243 [00:38<00:00,  6.36batch/s]\n"
     ]
    },
    {
     "name": "stdout",
     "output_type": "stream",
     "text": [
      "score: write test scores to /home/hassan-hossein/single_image_graph_face_anti_spoofing/train/Scores/epoch_201/score.txt\n",
      "epoch:201, test:  val_ACC=0.8786, HTER=0.1214, AUC=0.9168, val_err=0.1214, ACC=0.8786, TPR=0.3760\n"
     ]
    },
    {
     "name": "stderr",
     "output_type": "stream",
     "text": [
      "Epoch 202: 100%|█████████████████████████| 3448/3448 [08:34<00:00,  6.71batch/s]\n"
     ]
    },
    {
     "name": "stdout",
     "output_type": "stream",
     "text": [
      "/////////////////////////\n",
      "adverserial loss :  tensor(6.7809e-07, device='cuda:0', grad_fn=<DivBackward0>)\n",
      "classification loss :  tensor(5.2327e-07, device='cuda:0', grad_fn=<DivBackward0>)\n",
      "classification node loss :  tensor(3.9047e-05, device='cuda:0', grad_fn=<DivBackward0>)\n",
      "total loss :  tensor(4.0248e-05, device='cuda:0', grad_fn=<DivBackward0>)\n",
      "////////////////////////////////////\n",
      "***************************\n",
      "test : \n"
     ]
    },
    {
     "name": "stderr",
     "output_type": "stream",
     "text": [
      "Epoch 202: 100%|███████████████████████████| 243/243 [00:38<00:00,  6.23batch/s]\n"
     ]
    },
    {
     "name": "stdout",
     "output_type": "stream",
     "text": [
      "score: write test scores to /home/hassan-hossein/single_image_graph_face_anti_spoofing/train/Scores/epoch_202/score.txt\n",
      "epoch:202, test:  val_ACC=0.8817, HTER=0.1183, AUC=0.9211, val_err=0.1183, ACC=0.8817, TPR=0.4002\n"
     ]
    },
    {
     "name": "stderr",
     "output_type": "stream",
     "text": [
      "Epoch 203: 100%|█████████████████████████| 3448/3448 [08:34<00:00,  6.70batch/s]\n"
     ]
    },
    {
     "name": "stdout",
     "output_type": "stream",
     "text": [
      "/////////////////////////\n",
      "adverserial loss :  tensor(4.0165e-07, device='cuda:0', grad_fn=<DivBackward0>)\n",
      "classification loss :  tensor(9.3041e-07, device='cuda:0', grad_fn=<DivBackward0>)\n",
      "classification node loss :  tensor(3.8644e-05, device='cuda:0', grad_fn=<DivBackward0>)\n",
      "total loss :  tensor(3.9976e-05, device='cuda:0', grad_fn=<DivBackward0>)\n",
      "////////////////////////////////////\n",
      "***************************\n",
      "test : \n"
     ]
    },
    {
     "name": "stderr",
     "output_type": "stream",
     "text": [
      "Epoch 203: 100%|███████████████████████████| 243/243 [00:40<00:00,  6.01batch/s]\n"
     ]
    },
    {
     "name": "stdout",
     "output_type": "stream",
     "text": [
      "score: write test scores to /home/hassan-hossein/single_image_graph_face_anti_spoofing/train/Scores/epoch_203/score.txt\n",
      "epoch:203, test:  val_ACC=0.8675, HTER=0.1325, AUC=0.9193, val_err=0.1326, ACC=0.8675, TPR=0.3801\n"
     ]
    },
    {
     "name": "stderr",
     "output_type": "stream",
     "text": [
      "Epoch 204: 100%|█████████████████████████| 3448/3448 [08:34<00:00,  6.70batch/s]\n"
     ]
    },
    {
     "name": "stdout",
     "output_type": "stream",
     "text": [
      "/////////////////////////\n",
      "adverserial loss :  tensor(1.1390e-08, device='cuda:0', grad_fn=<DivBackward0>)\n",
      "classification loss :  tensor(8.2872e-07, device='cuda:0', grad_fn=<DivBackward0>)\n",
      "classification node loss :  tensor(3.8469e-05, device='cuda:0', grad_fn=<DivBackward0>)\n",
      "total loss :  tensor(3.9310e-05, device='cuda:0', grad_fn=<DivBackward0>)\n",
      "////////////////////////////////////\n",
      "***************************\n",
      "test : \n"
     ]
    },
    {
     "name": "stderr",
     "output_type": "stream",
     "text": [
      "Epoch 204: 100%|███████████████████████████| 243/243 [00:39<00:00,  6.16batch/s]\n"
     ]
    },
    {
     "name": "stdout",
     "output_type": "stream",
     "text": [
      "score: write test scores to /home/hassan-hossein/single_image_graph_face_anti_spoofing/train/Scores/epoch_204/score.txt\n",
      "epoch:204, test:  val_ACC=0.9066, HTER=0.0934, AUC=0.9536, val_err=0.0935, ACC=0.9066, TPR=0.6296\n"
     ]
    },
    {
     "name": "stderr",
     "output_type": "stream",
     "text": [
      "Epoch 205: 100%|█████████████████████████| 3448/3448 [08:36<00:00,  6.68batch/s]\n"
     ]
    },
    {
     "name": "stdout",
     "output_type": "stream",
     "text": [
      "/////////////////////////\n",
      "adverserial loss :  tensor(1.5351e-06, device='cuda:0', grad_fn=<DivBackward0>)\n",
      "classification loss :  tensor(7.7328e-07, device='cuda:0', grad_fn=<DivBackward0>)\n",
      "classification node loss :  tensor(3.2619e-05, device='cuda:0', grad_fn=<DivBackward0>)\n",
      "total loss :  tensor(3.4927e-05, device='cuda:0', grad_fn=<DivBackward0>)\n",
      "////////////////////////////////////\n",
      "***************************\n",
      "test : \n"
     ]
    },
    {
     "name": "stderr",
     "output_type": "stream",
     "text": [
      "Epoch 205: 100%|███████████████████████████| 243/243 [00:38<00:00,  6.25batch/s]\n"
     ]
    },
    {
     "name": "stdout",
     "output_type": "stream",
     "text": [
      "score: write test scores to /home/hassan-hossein/single_image_graph_face_anti_spoofing/train/Scores/epoch_205/score.txt\n",
      "epoch:205, test:  val_ACC=0.8981, HTER=0.1019, AUC=0.9263, val_err=0.1020, ACC=0.8981, TPR=0.5293\n"
     ]
    },
    {
     "name": "stderr",
     "output_type": "stream",
     "text": [
      "Epoch 206: 100%|█████████████████████████| 3448/3448 [08:34<00:00,  6.70batch/s]\n"
     ]
    },
    {
     "name": "stdout",
     "output_type": "stream",
     "text": [
      "/////////////////////////\n",
      "adverserial loss :  tensor(4.3169e-07, device='cuda:0', grad_fn=<DivBackward0>)\n",
      "classification loss :  tensor(2.5320e-07, device='cuda:0', grad_fn=<DivBackward0>)\n",
      "classification node loss :  tensor(4.2483e-05, device='cuda:0', grad_fn=<DivBackward0>)\n",
      "total loss :  tensor(4.3168e-05, device='cuda:0', grad_fn=<DivBackward0>)\n",
      "////////////////////////////////////\n",
      "***************************\n",
      "test : \n"
     ]
    },
    {
     "name": "stderr",
     "output_type": "stream",
     "text": [
      "Epoch 206: 100%|███████████████████████████| 243/243 [00:38<00:00,  6.26batch/s]\n"
     ]
    },
    {
     "name": "stdout",
     "output_type": "stream",
     "text": [
      "score: write test scores to /home/hassan-hossein/single_image_graph_face_anti_spoofing/train/Scores/epoch_206/score.txt\n",
      "epoch:206, test:  val_ACC=0.8959, HTER=0.1041, AUC=0.9252, val_err=0.1041, ACC=0.8959, TPR=0.4270\n"
     ]
    },
    {
     "name": "stderr",
     "output_type": "stream",
     "text": [
      "Epoch 207: 100%|█████████████████████████| 3448/3448 [08:35<00:00,  6.68batch/s]\n"
     ]
    },
    {
     "name": "stdout",
     "output_type": "stream",
     "text": [
      "/////////////////////////\n",
      "adverserial loss :  tensor(1.9790e-06, device='cuda:0', grad_fn=<DivBackward0>)\n",
      "classification loss :  tensor(9.6395e-07, device='cuda:0', grad_fn=<DivBackward0>)\n",
      "classification node loss :  tensor(3.2116e-05, device='cuda:0', grad_fn=<DivBackward0>)\n",
      "total loss :  tensor(3.5058e-05, device='cuda:0', grad_fn=<DivBackward0>)\n",
      "////////////////////////////////////\n",
      "***************************\n",
      "test : \n"
     ]
    },
    {
     "name": "stderr",
     "output_type": "stream",
     "text": [
      "Epoch 207: 100%|███████████████████████████| 243/243 [00:38<00:00,  6.28batch/s]\n"
     ]
    },
    {
     "name": "stdout",
     "output_type": "stream",
     "text": [
      "score: write test scores to /home/hassan-hossein/single_image_graph_face_anti_spoofing/train/Scores/epoch_207/score.txt\n",
      "epoch:207, test:  val_ACC=0.9075, HTER=0.0926, AUC=0.9445, val_err=0.0926, ACC=0.9075, TPR=0.6703\n"
     ]
    },
    {
     "name": "stderr",
     "output_type": "stream",
     "text": [
      "Epoch 208: 100%|█████████████████████████| 3448/3448 [08:34<00:00,  6.70batch/s]\n"
     ]
    },
    {
     "name": "stdout",
     "output_type": "stream",
     "text": [
      "/////////////////////////\n",
      "adverserial loss :  tensor(4.9963e-07, device='cuda:0', grad_fn=<DivBackward0>)\n",
      "classification loss :  tensor(1.1552e-06, device='cuda:0', grad_fn=<DivBackward0>)\n",
      "classification node loss :  tensor(3.8688e-05, device='cuda:0', grad_fn=<DivBackward0>)\n",
      "total loss :  tensor(4.0342e-05, device='cuda:0', grad_fn=<DivBackward0>)\n",
      "////////////////////////////////////\n",
      "***************************\n",
      "test : \n"
     ]
    },
    {
     "name": "stderr",
     "output_type": "stream",
     "text": [
      "Epoch 208: 100%|███████████████████████████| 243/243 [00:39<00:00,  6.22batch/s]\n"
     ]
    },
    {
     "name": "stdout",
     "output_type": "stream",
     "text": [
      "score: write test scores to /home/hassan-hossein/single_image_graph_face_anti_spoofing/train/Scores/epoch_208/score.txt\n",
      "epoch:208, test:  val_ACC=0.9066, HTER=0.0934, AUC=0.9462, val_err=0.0935, ACC=0.9066, TPR=0.5733\n"
     ]
    },
    {
     "name": "stderr",
     "output_type": "stream",
     "text": [
      "Epoch 209: 100%|█████████████████████████| 3448/3448 [08:34<00:00,  6.70batch/s]\n"
     ]
    },
    {
     "name": "stdout",
     "output_type": "stream",
     "text": [
      "/////////////////////////\n",
      "adverserial loss :  tensor(6.7412e-07, device='cuda:0', grad_fn=<DivBackward0>)\n",
      "classification loss :  tensor(6.3612e-07, device='cuda:0', grad_fn=<DivBackward0>)\n",
      "classification node loss :  tensor(3.9173e-05, device='cuda:0', grad_fn=<DivBackward0>)\n",
      "total loss :  tensor(4.0484e-05, device='cuda:0', grad_fn=<DivBackward0>)\n",
      "////////////////////////////////////\n",
      "***************************\n",
      "test : \n"
     ]
    },
    {
     "name": "stderr",
     "output_type": "stream",
     "text": [
      "Epoch 209: 100%|███████████████████████████| 243/243 [00:39<00:00,  6.22batch/s]\n"
     ]
    },
    {
     "name": "stdout",
     "output_type": "stream",
     "text": [
      "score: write test scores to /home/hassan-hossein/single_image_graph_face_anti_spoofing/train/Scores/epoch_209/score.txt\n",
      "epoch:209, test:  val_ACC=0.9178, HTER=0.0823, AUC=0.9421, val_err=0.0822, ACC=0.9178, TPR=0.5327\n"
     ]
    },
    {
     "name": "stderr",
     "output_type": "stream",
     "text": [
      "Epoch 210: 100%|█████████████████████████| 3448/3448 [08:35<00:00,  6.69batch/s]\n"
     ]
    },
    {
     "name": "stdout",
     "output_type": "stream",
     "text": [
      "/////////////////////////\n",
      "adverserial loss :  tensor(2.7333e-07, device='cuda:0', grad_fn=<DivBackward0>)\n",
      "classification loss :  tensor(4.1868e-07, device='cuda:0', grad_fn=<DivBackward0>)\n",
      "classification node loss :  tensor(3.9442e-05, device='cuda:0', grad_fn=<DivBackward0>)\n",
      "total loss :  tensor(4.0134e-05, device='cuda:0', grad_fn=<DivBackward0>)\n",
      "////////////////////////////////////\n",
      "***************************\n",
      "test : \n"
     ]
    },
    {
     "name": "stderr",
     "output_type": "stream",
     "text": [
      "Epoch 210: 100%|███████████████████████████| 243/243 [00:38<00:00,  6.34batch/s]\n"
     ]
    },
    {
     "name": "stdout",
     "output_type": "stream",
     "text": [
      "score: write test scores to /home/hassan-hossein/single_image_graph_face_anti_spoofing/train/Scores/epoch_210/score.txt\n",
      "epoch:210, test:  val_ACC=0.8748, HTER=0.1253, AUC=0.9266, val_err=0.1253, ACC=0.8748, TPR=0.3344\n"
     ]
    },
    {
     "name": "stderr",
     "output_type": "stream",
     "text": [
      "Epoch 211: 100%|█████████████████████████| 3448/3448 [08:35<00:00,  6.69batch/s]\n"
     ]
    },
    {
     "name": "stdout",
     "output_type": "stream",
     "text": [
      "/////////////////////////\n",
      "adverserial loss :  tensor(7.6971e-07, device='cuda:0', grad_fn=<DivBackward0>)\n",
      "classification loss :  tensor(9.1601e-07, device='cuda:0', grad_fn=<DivBackward0>)\n",
      "classification node loss :  tensor(3.6901e-05, device='cuda:0', grad_fn=<DivBackward0>)\n",
      "total loss :  tensor(3.8587e-05, device='cuda:0', grad_fn=<DivBackward0>)\n",
      "////////////////////////////////////\n",
      "***************************\n",
      "test : \n"
     ]
    },
    {
     "name": "stderr",
     "output_type": "stream",
     "text": [
      "Epoch 211: 100%|███████████████████████████| 243/243 [00:39<00:00,  6.17batch/s]\n"
     ]
    },
    {
     "name": "stdout",
     "output_type": "stream",
     "text": [
      "score: write test scores to /home/hassan-hossein/single_image_graph_face_anti_spoofing/train/Scores/epoch_211/score.txt\n",
      "epoch:211, test:  val_ACC=0.9021, HTER=0.0980, AUC=0.9205, val_err=0.0980, ACC=0.9021, TPR=0.5103\n"
     ]
    },
    {
     "name": "stderr",
     "output_type": "stream",
     "text": [
      "Epoch 212: 100%|█████████████████████████| 3448/3448 [08:35<00:00,  6.69batch/s]\n"
     ]
    },
    {
     "name": "stdout",
     "output_type": "stream",
     "text": [
      "/////////////////////////\n",
      "adverserial loss :  tensor(3.0111e-06, device='cuda:0', grad_fn=<DivBackward0>)\n",
      "classification loss :  tensor(1.6737e-07, device='cuda:0', grad_fn=<DivBackward0>)\n",
      "classification node loss :  tensor(4.0669e-05, device='cuda:0', grad_fn=<DivBackward0>)\n",
      "total loss :  tensor(4.3848e-05, device='cuda:0', grad_fn=<DivBackward0>)\n",
      "////////////////////////////////////\n",
      "***************************\n",
      "test : \n"
     ]
    },
    {
     "name": "stderr",
     "output_type": "stream",
     "text": [
      "Epoch 212: 100%|███████████████████████████| 243/243 [00:38<00:00,  6.23batch/s]\n"
     ]
    },
    {
     "name": "stdout",
     "output_type": "stream",
     "text": [
      "score: write test scores to /home/hassan-hossein/single_image_graph_face_anti_spoofing/train/Scores/epoch_212/score.txt\n",
      "epoch:212, test:  val_ACC=0.8950, HTER=0.1050, AUC=0.9206, val_err=0.1050, ACC=0.8950, TPR=0.5445\n"
     ]
    },
    {
     "name": "stderr",
     "output_type": "stream",
     "text": [
      "Epoch 213: 100%|█████████████████████████| 3448/3448 [08:34<00:00,  6.70batch/s]\n"
     ]
    },
    {
     "name": "stdout",
     "output_type": "stream",
     "text": [
      "/////////////////////////\n",
      "adverserial loss :  tensor(2.9089e-08, device='cuda:0', grad_fn=<DivBackward0>)\n",
      "classification loss :  tensor(1.1865e-06, device='cuda:0', grad_fn=<DivBackward0>)\n",
      "classification node loss :  tensor(3.8265e-05, device='cuda:0', grad_fn=<DivBackward0>)\n",
      "total loss :  tensor(3.9481e-05, device='cuda:0', grad_fn=<DivBackward0>)\n",
      "////////////////////////////////////\n",
      "***************************\n",
      "test : \n"
     ]
    },
    {
     "name": "stderr",
     "output_type": "stream",
     "text": [
      "Epoch 213: 100%|███████████████████████████| 243/243 [00:39<00:00,  6.16batch/s]\n"
     ]
    },
    {
     "name": "stdout",
     "output_type": "stream",
     "text": [
      "score: write test scores to /home/hassan-hossein/single_image_graph_face_anti_spoofing/train/Scores/epoch_213/score.txt\n",
      "epoch:213, test:  val_ACC=0.9118, HTER=0.0882, AUC=0.9390, val_err=0.0882, ACC=0.9118, TPR=0.7060\n"
     ]
    },
    {
     "name": "stderr",
     "output_type": "stream",
     "text": [
      "Epoch 214: 100%|█████████████████████████| 3448/3448 [08:34<00:00,  6.70batch/s]\n"
     ]
    },
    {
     "name": "stdout",
     "output_type": "stream",
     "text": [
      "/////////////////////////\n",
      "adverserial loss :  tensor(5.5256e-10, device='cuda:0', grad_fn=<DivBackward0>)\n",
      "classification loss :  tensor(3.1684e-07, device='cuda:0', grad_fn=<DivBackward0>)\n",
      "classification node loss :  tensor(3.2103e-05, device='cuda:0', grad_fn=<DivBackward0>)\n",
      "total loss :  tensor(3.2420e-05, device='cuda:0', grad_fn=<DivBackward0>)\n",
      "////////////////////////////////////\n",
      "***************************\n",
      "test : \n"
     ]
    },
    {
     "name": "stderr",
     "output_type": "stream",
     "text": [
      "Epoch 214: 100%|███████████████████████████| 243/243 [00:39<00:00,  6.16batch/s]\n"
     ]
    },
    {
     "name": "stdout",
     "output_type": "stream",
     "text": [
      "score: write test scores to /home/hassan-hossein/single_image_graph_face_anti_spoofing/train/Scores/epoch_214/score.txt\n",
      "epoch:214, test:  val_ACC=0.9213, HTER=0.0787, AUC=0.9375, val_err=0.0787, ACC=0.9213, TPR=0.7346\n"
     ]
    },
    {
     "name": "stderr",
     "output_type": "stream",
     "text": [
      "Epoch 215: 100%|█████████████████████████| 3448/3448 [08:36<00:00,  6.67batch/s]\n"
     ]
    },
    {
     "name": "stdout",
     "output_type": "stream",
     "text": [
      "/////////////////////////\n",
      "adverserial loss :  tensor(1.7028e-06, device='cuda:0', grad_fn=<DivBackward0>)\n",
      "classification loss :  tensor(1.2090e-06, device='cuda:0', grad_fn=<DivBackward0>)\n",
      "classification node loss :  tensor(3.7545e-05, device='cuda:0', grad_fn=<DivBackward0>)\n",
      "total loss :  tensor(4.0456e-05, device='cuda:0', grad_fn=<DivBackward0>)\n",
      "////////////////////////////////////\n",
      "***************************\n",
      "test : \n"
     ]
    },
    {
     "name": "stderr",
     "output_type": "stream",
     "text": [
      "Epoch 215: 100%|███████████████████████████| 243/243 [00:38<00:00,  6.28batch/s]\n"
     ]
    },
    {
     "name": "stdout",
     "output_type": "stream",
     "text": [
      "score: write test scores to /home/hassan-hossein/single_image_graph_face_anti_spoofing/train/Scores/epoch_215/score.txt\n",
      "epoch:215, test:  val_ACC=0.9051, HTER=0.0949, AUC=0.9486, val_err=0.0949, ACC=0.9051, TPR=0.7176\n"
     ]
    },
    {
     "name": "stderr",
     "output_type": "stream",
     "text": [
      "Epoch 216: 100%|█████████████████████████| 3448/3448 [08:32<00:00,  6.73batch/s]\n"
     ]
    },
    {
     "name": "stdout",
     "output_type": "stream",
     "text": [
      "/////////////////////////\n",
      "adverserial loss :  tensor(8.3404e-08, device='cuda:0', grad_fn=<DivBackward0>)\n",
      "classification loss :  tensor(9.4311e-07, device='cuda:0', grad_fn=<DivBackward0>)\n",
      "classification node loss :  tensor(3.4048e-05, device='cuda:0', grad_fn=<DivBackward0>)\n",
      "total loss :  tensor(3.5075e-05, device='cuda:0', grad_fn=<DivBackward0>)\n",
      "////////////////////////////////////\n",
      "***************************\n",
      "test : \n"
     ]
    },
    {
     "name": "stderr",
     "output_type": "stream",
     "text": [
      "Epoch 216: 100%|███████████████████████████| 243/243 [00:39<00:00,  6.11batch/s]\n"
     ]
    },
    {
     "name": "stdout",
     "output_type": "stream",
     "text": [
      "score: write test scores to /home/hassan-hossein/single_image_graph_face_anti_spoofing/train/Scores/epoch_216/score.txt\n",
      "epoch:216, test:  val_ACC=0.8812, HTER=0.1188, AUC=0.9292, val_err=0.1189, ACC=0.8812, TPR=0.6314\n"
     ]
    },
    {
     "name": "stderr",
     "output_type": "stream",
     "text": [
      "Epoch 217: 100%|█████████████████████████| 3448/3448 [08:34<00:00,  6.70batch/s]\n"
     ]
    },
    {
     "name": "stdout",
     "output_type": "stream",
     "text": [
      "/////////////////////////\n",
      "adverserial loss :  tensor(4.0944e-09, device='cuda:0', grad_fn=<DivBackward0>)\n",
      "classification loss :  tensor(9.2695e-07, device='cuda:0', grad_fn=<DivBackward0>)\n",
      "classification node loss :  tensor(3.5127e-05, device='cuda:0', grad_fn=<DivBackward0>)\n",
      "total loss :  tensor(3.6058e-05, device='cuda:0', grad_fn=<DivBackward0>)\n",
      "////////////////////////////////////\n",
      "***************************\n",
      "test : \n"
     ]
    },
    {
     "name": "stderr",
     "output_type": "stream",
     "text": [
      "Epoch 217: 100%|███████████████████████████| 243/243 [00:38<00:00,  6.34batch/s]\n"
     ]
    },
    {
     "name": "stdout",
     "output_type": "stream",
     "text": [
      "score: write test scores to /home/hassan-hossein/single_image_graph_face_anti_spoofing/train/Scores/epoch_217/score.txt\n",
      "epoch:217, test:  val_ACC=0.8969, HTER=0.1032, AUC=0.9344, val_err=0.1032, ACC=0.8969, TPR=0.6626\n"
     ]
    },
    {
     "name": "stderr",
     "output_type": "stream",
     "text": [
      "Epoch 218: 100%|█████████████████████████| 3448/3448 [08:33<00:00,  6.72batch/s]\n"
     ]
    },
    {
     "name": "stdout",
     "output_type": "stream",
     "text": [
      "/////////////////////////\n",
      "adverserial loss :  tensor(1.8605e-06, device='cuda:0', grad_fn=<DivBackward0>)\n",
      "classification loss :  tensor(8.0163e-08, device='cuda:0', grad_fn=<DivBackward0>)\n",
      "classification node loss :  tensor(3.7927e-05, device='cuda:0', grad_fn=<DivBackward0>)\n",
      "total loss :  tensor(3.9867e-05, device='cuda:0', grad_fn=<DivBackward0>)\n",
      "////////////////////////////////////\n",
      "***************************\n",
      "test : \n"
     ]
    },
    {
     "name": "stderr",
     "output_type": "stream",
     "text": [
      "Epoch 218: 100%|███████████████████████████| 243/243 [00:38<00:00,  6.29batch/s]\n"
     ]
    },
    {
     "name": "stdout",
     "output_type": "stream",
     "text": [
      "score: write test scores to /home/hassan-hossein/single_image_graph_face_anti_spoofing/train/Scores/epoch_218/score.txt\n",
      "epoch:218, test:  val_ACC=0.9046, HTER=0.0954, AUC=0.9285, val_err=0.0954, ACC=0.9046, TPR=0.6278\n"
     ]
    },
    {
     "name": "stderr",
     "output_type": "stream",
     "text": [
      "Epoch 219: 100%|█████████████████████████| 3448/3448 [08:32<00:00,  6.73batch/s]\n"
     ]
    },
    {
     "name": "stdout",
     "output_type": "stream",
     "text": [
      "/////////////////////////\n",
      "adverserial loss :  tensor(9.4950e-10, device='cuda:0', grad_fn=<DivBackward0>)\n",
      "classification loss :  tensor(1.3633e-06, device='cuda:0', grad_fn=<DivBackward0>)\n",
      "classification node loss :  tensor(3.2810e-05, device='cuda:0', grad_fn=<DivBackward0>)\n",
      "total loss :  tensor(3.4175e-05, device='cuda:0', grad_fn=<DivBackward0>)\n",
      "////////////////////////////////////\n",
      "***************************\n",
      "test : \n"
     ]
    },
    {
     "name": "stderr",
     "output_type": "stream",
     "text": [
      "Epoch 219: 100%|███████████████████████████| 243/243 [00:38<00:00,  6.31batch/s]\n"
     ]
    },
    {
     "name": "stdout",
     "output_type": "stream",
     "text": [
      "score: write test scores to /home/hassan-hossein/single_image_graph_face_anti_spoofing/train/Scores/epoch_219/score.txt\n",
      "epoch:219, test:  val_ACC=0.8999, HTER=0.1001, AUC=0.9191, val_err=0.1001, ACC=0.8999, TPR=0.4210\n"
     ]
    },
    {
     "name": "stderr",
     "output_type": "stream",
     "text": [
      "Epoch 220: 100%|█████████████████████████| 3448/3448 [08:32<00:00,  6.73batch/s]\n"
     ]
    },
    {
     "name": "stdout",
     "output_type": "stream",
     "text": [
      "/////////////////////////\n",
      "adverserial loss :  tensor(3.7735e-07, device='cuda:0', grad_fn=<DivBackward0>)\n",
      "classification loss :  tensor(2.8259e-07, device='cuda:0', grad_fn=<DivBackward0>)\n",
      "classification node loss :  tensor(3.7668e-05, device='cuda:0', grad_fn=<DivBackward0>)\n",
      "total loss :  tensor(3.8328e-05, device='cuda:0', grad_fn=<DivBackward0>)\n",
      "////////////////////////////////////\n",
      "***************************\n",
      "test : \n"
     ]
    },
    {
     "name": "stderr",
     "output_type": "stream",
     "text": [
      "Epoch 220: 100%|███████████████████████████| 243/243 [00:38<00:00,  6.34batch/s]\n"
     ]
    },
    {
     "name": "stdout",
     "output_type": "stream",
     "text": [
      "score: write test scores to /home/hassan-hossein/single_image_graph_face_anti_spoofing/train/Scores/epoch_220/score.txt\n",
      "epoch:220, test:  val_ACC=0.9048, HTER=0.0952, AUC=0.9331, val_err=0.0952, ACC=0.9048, TPR=0.5242\n"
     ]
    },
    {
     "name": "stderr",
     "output_type": "stream",
     "text": [
      "Epoch 221: 100%|█████████████████████████| 3448/3448 [08:31<00:00,  6.74batch/s]\n"
     ]
    },
    {
     "name": "stdout",
     "output_type": "stream",
     "text": [
      "/////////////////////////\n",
      "adverserial loss :  tensor(1.5598e-06, device='cuda:0', grad_fn=<DivBackward0>)\n",
      "classification loss :  tensor(1.1205e-06, device='cuda:0', grad_fn=<DivBackward0>)\n",
      "classification node loss :  tensor(3.3352e-05, device='cuda:0', grad_fn=<DivBackward0>)\n",
      "total loss :  tensor(3.6032e-05, device='cuda:0', grad_fn=<DivBackward0>)\n",
      "////////////////////////////////////\n",
      "***************************\n",
      "test : \n"
     ]
    },
    {
     "name": "stderr",
     "output_type": "stream",
     "text": [
      "Epoch 221: 100%|███████████████████████████| 243/243 [00:39<00:00,  6.22batch/s]\n"
     ]
    },
    {
     "name": "stdout",
     "output_type": "stream",
     "text": [
      "score: write test scores to /home/hassan-hossein/single_image_graph_face_anti_spoofing/train/Scores/epoch_221/score.txt\n",
      "epoch:221, test:  val_ACC=0.8870, HTER=0.1130, AUC=0.9247, val_err=0.1130, ACC=0.8870, TPR=0.3099\n"
     ]
    },
    {
     "name": "stderr",
     "output_type": "stream",
     "text": [
      "Epoch 222: 100%|█████████████████████████| 3448/3448 [08:31<00:00,  6.74batch/s]\n"
     ]
    },
    {
     "name": "stdout",
     "output_type": "stream",
     "text": [
      "/////////////////////////\n",
      "adverserial loss :  tensor(4.4236e-08, device='cuda:0', grad_fn=<DivBackward0>)\n",
      "classification loss :  tensor(2.6571e-07, device='cuda:0', grad_fn=<DivBackward0>)\n",
      "classification node loss :  tensor(3.2969e-05, device='cuda:0', grad_fn=<DivBackward0>)\n",
      "total loss :  tensor(3.3279e-05, device='cuda:0', grad_fn=<DivBackward0>)\n",
      "////////////////////////////////////\n",
      "***************************\n",
      "test : \n"
     ]
    },
    {
     "name": "stderr",
     "output_type": "stream",
     "text": [
      "Epoch 222: 100%|███████████████████████████| 243/243 [00:39<00:00,  6.23batch/s]\n"
     ]
    },
    {
     "name": "stdout",
     "output_type": "stream",
     "text": [
      "score: write test scores to /home/hassan-hossein/single_image_graph_face_anti_spoofing/train/Scores/epoch_222/score.txt\n",
      "epoch:222, test:  val_ACC=0.8944, HTER=0.1057, AUC=0.9089, val_err=0.1057, ACC=0.8944, TPR=0.2796\n"
     ]
    },
    {
     "name": "stderr",
     "output_type": "stream",
     "text": [
      "Epoch 223: 100%|█████████████████████████| 3448/3448 [08:32<00:00,  6.73batch/s]\n"
     ]
    },
    {
     "name": "stdout",
     "output_type": "stream",
     "text": [
      "/////////////////////////\n",
      "adverserial loss :  tensor(6.6668e-07, device='cuda:0', grad_fn=<DivBackward0>)\n",
      "classification loss :  tensor(7.7004e-07, device='cuda:0', grad_fn=<DivBackward0>)\n",
      "classification node loss :  tensor(3.7801e-05, device='cuda:0', grad_fn=<DivBackward0>)\n",
      "total loss :  tensor(3.9238e-05, device='cuda:0', grad_fn=<DivBackward0>)\n",
      "////////////////////////////////////\n",
      "***************************\n",
      "test : \n"
     ]
    },
    {
     "name": "stderr",
     "output_type": "stream",
     "text": [
      "Epoch 223: 100%|███████████████████████████| 243/243 [00:39<00:00,  6.21batch/s]\n"
     ]
    },
    {
     "name": "stdout",
     "output_type": "stream",
     "text": [
      "score: write test scores to /home/hassan-hossein/single_image_graph_face_anti_spoofing/train/Scores/epoch_223/score.txt\n",
      "epoch:223, test:  val_ACC=0.8627, HTER=0.1374, AUC=0.8948, val_err=0.1374, ACC=0.8627, TPR=0.3017\n"
     ]
    },
    {
     "name": "stderr",
     "output_type": "stream",
     "text": [
      "Epoch 224: 100%|█████████████████████████| 3448/3448 [08:32<00:00,  6.72batch/s]\n"
     ]
    },
    {
     "name": "stdout",
     "output_type": "stream",
     "text": [
      "/////////////////////////\n",
      "adverserial loss :  tensor(5.4561e-08, device='cuda:0', grad_fn=<DivBackward0>)\n",
      "classification loss :  tensor(5.4899e-07, device='cuda:0', grad_fn=<DivBackward0>)\n",
      "classification node loss :  tensor(4.0794e-05, device='cuda:0', grad_fn=<DivBackward0>)\n",
      "total loss :  tensor(4.1398e-05, device='cuda:0', grad_fn=<DivBackward0>)\n",
      "////////////////////////////////////\n",
      "***************************\n",
      "test : \n"
     ]
    },
    {
     "name": "stderr",
     "output_type": "stream",
     "text": [
      "Epoch 224: 100%|███████████████████████████| 243/243 [00:39<00:00,  6.17batch/s]\n"
     ]
    },
    {
     "name": "stdout",
     "output_type": "stream",
     "text": [
      "score: write test scores to /home/hassan-hossein/single_image_graph_face_anti_spoofing/train/Scores/epoch_224/score.txt\n",
      "epoch:224, test:  val_ACC=0.8700, HTER=0.1299, AUC=0.9130, val_err=0.1300, ACC=0.8700, TPR=0.3508\n"
     ]
    },
    {
     "name": "stderr",
     "output_type": "stream",
     "text": [
      "Epoch 225: 100%|█████████████████████████| 3448/3448 [08:33<00:00,  6.71batch/s]\n"
     ]
    },
    {
     "name": "stdout",
     "output_type": "stream",
     "text": [
      "/////////////////////////\n",
      "adverserial loss :  tensor(5.2600e-08, device='cuda:0', grad_fn=<DivBackward0>)\n",
      "classification loss :  tensor(1.3396e-06, device='cuda:0', grad_fn=<DivBackward0>)\n",
      "classification node loss :  tensor(3.0449e-05, device='cuda:0', grad_fn=<DivBackward0>)\n",
      "total loss :  tensor(3.1841e-05, device='cuda:0', grad_fn=<DivBackward0>)\n",
      "////////////////////////////////////\n",
      "***************************\n",
      "test : \n"
     ]
    },
    {
     "name": "stderr",
     "output_type": "stream",
     "text": [
      "Epoch 225: 100%|███████████████████████████| 243/243 [00:39<00:00,  6.11batch/s]\n"
     ]
    },
    {
     "name": "stdout",
     "output_type": "stream",
     "text": [
      "score: write test scores to /home/hassan-hossein/single_image_graph_face_anti_spoofing/train/Scores/epoch_225/score.txt\n",
      "epoch:225, test:  val_ACC=0.8876, HTER=0.1124, AUC=0.9208, val_err=0.1124, ACC=0.8876, TPR=0.3228\n"
     ]
    },
    {
     "name": "stderr",
     "output_type": "stream",
     "text": [
      "Epoch 226: 100%|█████████████████████████| 3448/3448 [08:32<00:00,  6.72batch/s]\n"
     ]
    },
    {
     "name": "stdout",
     "output_type": "stream",
     "text": [
      "/////////////////////////\n",
      "adverserial loss :  tensor(1.2951e-06, device='cuda:0', grad_fn=<DivBackward0>)\n",
      "classification loss :  tensor(4.6425e-07, device='cuda:0', grad_fn=<DivBackward0>)\n",
      "classification node loss :  tensor(3.2191e-05, device='cuda:0', grad_fn=<DivBackward0>)\n",
      "total loss :  tensor(3.3950e-05, device='cuda:0', grad_fn=<DivBackward0>)\n",
      "////////////////////////////////////\n",
      "***************************\n",
      "test : \n"
     ]
    },
    {
     "name": "stderr",
     "output_type": "stream",
     "text": [
      "Epoch 226: 100%|███████████████████████████| 243/243 [00:38<00:00,  6.27batch/s]\n"
     ]
    },
    {
     "name": "stdout",
     "output_type": "stream",
     "text": [
      "score: write test scores to /home/hassan-hossein/single_image_graph_face_anti_spoofing/train/Scores/epoch_226/score.txt\n",
      "epoch:226, test:  val_ACC=0.8671, HTER=0.1330, AUC=0.8998, val_err=0.1330, ACC=0.8671, TPR=0.1854\n"
     ]
    },
    {
     "name": "stderr",
     "output_type": "stream",
     "text": [
      "Epoch 227: 100%|█████████████████████████| 3448/3448 [08:33<00:00,  6.72batch/s]\n"
     ]
    },
    {
     "name": "stdout",
     "output_type": "stream",
     "text": [
      "/////////////////////////\n",
      "adverserial loss :  tensor(2.9133e-10, device='cuda:0', grad_fn=<DivBackward0>)\n",
      "classification loss :  tensor(1.2738e-06, device='cuda:0', grad_fn=<DivBackward0>)\n",
      "classification node loss :  tensor(3.3505e-05, device='cuda:0', grad_fn=<DivBackward0>)\n",
      "total loss :  tensor(3.4779e-05, device='cuda:0', grad_fn=<DivBackward0>)\n",
      "////////////////////////////////////\n",
      "***************************\n",
      "test : \n"
     ]
    },
    {
     "name": "stderr",
     "output_type": "stream",
     "text": [
      "Epoch 227: 100%|███████████████████████████| 243/243 [00:38<00:00,  6.27batch/s]\n"
     ]
    },
    {
     "name": "stdout",
     "output_type": "stream",
     "text": [
      "score: write test scores to /home/hassan-hossein/single_image_graph_face_anti_spoofing/train/Scores/epoch_227/score.txt\n",
      "epoch:227, test:  val_ACC=0.8864, HTER=0.1137, AUC=0.9266, val_err=0.1137, ACC=0.8864, TPR=0.3925\n"
     ]
    },
    {
     "name": "stderr",
     "output_type": "stream",
     "text": [
      "Epoch 228: 100%|█████████████████████████| 3448/3448 [08:33<00:00,  6.71batch/s]\n"
     ]
    },
    {
     "name": "stdout",
     "output_type": "stream",
     "text": [
      "/////////////////////////\n",
      "adverserial loss :  tensor(1.3366e-09, device='cuda:0', grad_fn=<DivBackward0>)\n",
      "classification loss :  tensor(9.1710e-07, device='cuda:0', grad_fn=<DivBackward0>)\n",
      "classification node loss :  tensor(3.4170e-05, device='cuda:0', grad_fn=<DivBackward0>)\n",
      "total loss :  tensor(3.5088e-05, device='cuda:0', grad_fn=<DivBackward0>)\n",
      "////////////////////////////////////\n",
      "***************************\n",
      "test : \n"
     ]
    },
    {
     "name": "stderr",
     "output_type": "stream",
     "text": [
      "Epoch 228: 100%|███████████████████████████| 243/243 [00:39<00:00,  6.13batch/s]\n"
     ]
    },
    {
     "name": "stdout",
     "output_type": "stream",
     "text": [
      "score: write test scores to /home/hassan-hossein/single_image_graph_face_anti_spoofing/train/Scores/epoch_228/score.txt\n",
      "epoch:228, test:  val_ACC=0.8611, HTER=0.1389, AUC=0.9130, val_err=0.1389, ACC=0.8611, TPR=0.3027\n"
     ]
    },
    {
     "name": "stderr",
     "output_type": "stream",
     "text": [
      "Epoch 229: 100%|█████████████████████████| 3448/3448 [08:33<00:00,  6.72batch/s]\n"
     ]
    },
    {
     "name": "stdout",
     "output_type": "stream",
     "text": [
      "/////////////////////////\n",
      "adverserial loss :  tensor(5.8257e-07, device='cuda:0', grad_fn=<DivBackward0>)\n",
      "classification loss :  tensor(7.4047e-07, device='cuda:0', grad_fn=<DivBackward0>)\n",
      "classification node loss :  tensor(3.3398e-05, device='cuda:0', grad_fn=<DivBackward0>)\n",
      "total loss :  tensor(3.4721e-05, device='cuda:0', grad_fn=<DivBackward0>)\n",
      "////////////////////////////////////\n",
      "***************************\n",
      "test : \n"
     ]
    },
    {
     "name": "stderr",
     "output_type": "stream",
     "text": [
      "Epoch 229: 100%|███████████████████████████| 243/243 [00:38<00:00,  6.29batch/s]\n"
     ]
    },
    {
     "name": "stdout",
     "output_type": "stream",
     "text": [
      "score: write test scores to /home/hassan-hossein/single_image_graph_face_anti_spoofing/train/Scores/epoch_229/score.txt\n",
      "epoch:229, test:  val_ACC=0.8383, HTER=0.1618, AUC=0.8887, val_err=0.1618, ACC=0.8383, TPR=0.0792\n"
     ]
    },
    {
     "name": "stderr",
     "output_type": "stream",
     "text": [
      "Epoch 230: 100%|█████████████████████████| 3448/3448 [08:33<00:00,  6.72batch/s]\n"
     ]
    },
    {
     "name": "stdout",
     "output_type": "stream",
     "text": [
      "/////////////////////////\n",
      "adverserial loss :  tensor(4.4574e-07, device='cuda:0', grad_fn=<DivBackward0>)\n",
      "classification loss :  tensor(1.2914e-07, device='cuda:0', grad_fn=<DivBackward0>)\n",
      "classification node loss :  tensor(3.6780e-05, device='cuda:0', grad_fn=<DivBackward0>)\n",
      "total loss :  tensor(3.7355e-05, device='cuda:0', grad_fn=<DivBackward0>)\n",
      "////////////////////////////////////\n",
      "***************************\n",
      "test : \n"
     ]
    },
    {
     "name": "stderr",
     "output_type": "stream",
     "text": [
      "Epoch 230: 100%|███████████████████████████| 243/243 [00:38<00:00,  6.25batch/s]\n"
     ]
    },
    {
     "name": "stdout",
     "output_type": "stream",
     "text": [
      "score: write test scores to /home/hassan-hossein/single_image_graph_face_anti_spoofing/train/Scores/epoch_230/score.txt\n",
      "epoch:230, test:  val_ACC=0.8584, HTER=0.1415, AUC=0.9008, val_err=0.1416, ACC=0.8584, TPR=0.2106\n"
     ]
    },
    {
     "name": "stderr",
     "output_type": "stream",
     "text": [
      "Epoch 231: 100%|█████████████████████████| 3448/3448 [08:32<00:00,  6.72batch/s]\n"
     ]
    },
    {
     "name": "stdout",
     "output_type": "stream",
     "text": [
      "/////////////////////////\n",
      "adverserial loss :  tensor(4.4870e-08, device='cuda:0', grad_fn=<DivBackward0>)\n",
      "classification loss :  tensor(2.2823e-07, device='cuda:0', grad_fn=<DivBackward0>)\n",
      "classification node loss :  tensor(3.1412e-05, device='cuda:0', grad_fn=<DivBackward0>)\n",
      "total loss :  tensor(3.1685e-05, device='cuda:0', grad_fn=<DivBackward0>)\n",
      "////////////////////////////////////\n",
      "***************************\n",
      "test : \n"
     ]
    },
    {
     "name": "stderr",
     "output_type": "stream",
     "text": [
      "Epoch 231: 100%|███████████████████████████| 243/243 [00:38<00:00,  6.35batch/s]\n"
     ]
    },
    {
     "name": "stdout",
     "output_type": "stream",
     "text": [
      "score: write test scores to /home/hassan-hossein/single_image_graph_face_anti_spoofing/train/Scores/epoch_231/score.txt\n",
      "epoch:231, test:  val_ACC=0.8882, HTER=0.1119, AUC=0.9225, val_err=0.1118, ACC=0.8882, TPR=0.4190\n"
     ]
    },
    {
     "name": "stderr",
     "output_type": "stream",
     "text": [
      "Epoch 232: 100%|█████████████████████████| 3448/3448 [08:32<00:00,  6.73batch/s]\n"
     ]
    },
    {
     "name": "stdout",
     "output_type": "stream",
     "text": [
      "/////////////////////////\n",
      "adverserial loss :  tensor(9.7176e-07, device='cuda:0', grad_fn=<DivBackward0>)\n",
      "classification loss :  tensor(7.5319e-07, device='cuda:0', grad_fn=<DivBackward0>)\n",
      "classification node loss :  tensor(3.3618e-05, device='cuda:0', grad_fn=<DivBackward0>)\n",
      "total loss :  tensor(3.5343e-05, device='cuda:0', grad_fn=<DivBackward0>)\n",
      "////////////////////////////////////\n",
      "***************************\n",
      "test : \n"
     ]
    },
    {
     "name": "stderr",
     "output_type": "stream",
     "text": [
      "Epoch 232: 100%|███████████████████████████| 243/243 [00:38<00:00,  6.23batch/s]\n"
     ]
    },
    {
     "name": "stdout",
     "output_type": "stream",
     "text": [
      "score: write test scores to /home/hassan-hossein/single_image_graph_face_anti_spoofing/train/Scores/epoch_232/score.txt\n",
      "epoch:232, test:  val_ACC=0.8619, HTER=0.1381, AUC=0.9014, val_err=0.1382, ACC=0.8619, TPR=0.0882\n"
     ]
    },
    {
     "name": "stderr",
     "output_type": "stream",
     "text": [
      "Epoch 233:  86%|█████████████████████▍   | 2963/3448 [07:22<01:12,  6.70batch/s]\n"
     ]
    },
    {
     "ename": "KeyboardInterrupt",
     "evalue": "",
     "output_type": "error",
     "traceback": [
      "\u001b[0;31m---------------------------------------------------------------------------\u001b[0m",
      "\u001b[0;31mKeyboardInterrupt\u001b[0m                         Traceback (most recent call last)",
      "Input \u001b[0;32mIn [3]\u001b[0m, in \u001b[0;36m<module>\u001b[0;34m\u001b[0m\n\u001b[1;32m      1\u001b[0m best_auc \u001b[38;5;241m=\u001b[39m \u001b[38;5;241m0\u001b[39m\n\u001b[1;32m      2\u001b[0m \u001b[38;5;28;01mfor\u001b[39;00m epoch \u001b[38;5;129;01min\u001b[39;00m \u001b[38;5;28mrange\u001b[39m(\u001b[38;5;241m0\u001b[39m, \u001b[38;5;241m1000\u001b[39m):\n\u001b[0;32m----> 3\u001b[0m     \u001b[43mtrain\u001b[49m\u001b[43m(\u001b[49m\u001b[43mepoch\u001b[49m\u001b[43m)\u001b[49m\n\u001b[1;32m      4\u001b[0m     \u001b[38;5;28mprint\u001b[39m(\u001b[38;5;124m\"\u001b[39m\u001b[38;5;124m***************************\u001b[39m\u001b[38;5;124m\"\u001b[39m)\n\u001b[1;32m      5\u001b[0m     \u001b[38;5;66;03m#print(\"train : \")\u001b[39;00m\n\u001b[1;32m      6\u001b[0m     \u001b[38;5;66;03m#train_auc = test(train_loader,epoch)\u001b[39;00m\n",
      "Input \u001b[0;32mIn [2]\u001b[0m, in \u001b[0;36mtrain\u001b[0;34m(epoch)\u001b[0m\n\u001b[1;32m    250\u001b[0m \u001b[38;5;28;01melse\u001b[39;00m :\n\u001b[1;32m    252\u001b[0m     index_arr \u001b[38;5;241m=\u001b[39m torch\u001b[38;5;241m.\u001b[39mrandint(\u001b[38;5;241m0\u001b[39m, \u001b[38;5;241m29952\u001b[39m, (\u001b[38;5;241m64\u001b[39m,))\u001b[38;5;241m.\u001b[39mto(device)\n\u001b[0;32m--> 256\u001b[0m out,domain_invariant,node_pre \u001b[38;5;241m=\u001b[39m \u001b[43mmodel\u001b[49m\u001b[43m(\u001b[49m\u001b[43mgraph\u001b[49m\u001b[38;5;241;43m.\u001b[39;49m\u001b[43mx\u001b[49m\u001b[43m,\u001b[49m\u001b[43m \u001b[49m\u001b[43mgraph\u001b[49m\u001b[38;5;241;43m.\u001b[39;49m\u001b[43medge_index\u001b[49m\u001b[43m,\u001b[49m\u001b[43m \u001b[49m\u001b[43mgraph\u001b[49m\u001b[38;5;241;43m.\u001b[39;49m\u001b[43mbatch\u001b[49m\u001b[43m,\u001b[49m\u001b[43mdrop_en\u001b[49m\u001b[43m,\u001b[49m\u001b[43mindex_arr\u001b[49m\u001b[43m)\u001b[49m  \u001b[38;5;66;03m# Perform a single forward pass.\u001b[39;00m\n\u001b[1;32m    258\u001b[0m adv_loss \u001b[38;5;241m=\u001b[39m criterion_2(domain_invariant, graph\u001b[38;5;241m.\u001b[39mdata)\n\u001b[1;32m    260\u001b[0m node_cls_loss \u001b[38;5;241m=\u001b[39m criterion_node_class(node_pre\u001b[38;5;241m.\u001b[39msqueeze(),graph\u001b[38;5;241m.\u001b[39my_node\u001b[38;5;241m.\u001b[39mfloat()[index_arr])\n",
      "File \u001b[0;32m~/anaconda3/envs/Wav2Lip/lib/python3.8/site-packages/torch/nn/modules/module.py:1130\u001b[0m, in \u001b[0;36mModule._call_impl\u001b[0;34m(self, *input, **kwargs)\u001b[0m\n\u001b[1;32m   1126\u001b[0m \u001b[38;5;66;03m# If we don't have any hooks, we want to skip the rest of the logic in\u001b[39;00m\n\u001b[1;32m   1127\u001b[0m \u001b[38;5;66;03m# this function, and just call forward.\u001b[39;00m\n\u001b[1;32m   1128\u001b[0m \u001b[38;5;28;01mif\u001b[39;00m \u001b[38;5;129;01mnot\u001b[39;00m (\u001b[38;5;28mself\u001b[39m\u001b[38;5;241m.\u001b[39m_backward_hooks \u001b[38;5;129;01mor\u001b[39;00m \u001b[38;5;28mself\u001b[39m\u001b[38;5;241m.\u001b[39m_forward_hooks \u001b[38;5;129;01mor\u001b[39;00m \u001b[38;5;28mself\u001b[39m\u001b[38;5;241m.\u001b[39m_forward_pre_hooks \u001b[38;5;129;01mor\u001b[39;00m _global_backward_hooks\n\u001b[1;32m   1129\u001b[0m         \u001b[38;5;129;01mor\u001b[39;00m _global_forward_hooks \u001b[38;5;129;01mor\u001b[39;00m _global_forward_pre_hooks):\n\u001b[0;32m-> 1130\u001b[0m     \u001b[38;5;28;01mreturn\u001b[39;00m \u001b[43mforward_call\u001b[49m\u001b[43m(\u001b[49m\u001b[38;5;241;43m*\u001b[39;49m\u001b[38;5;28;43minput\u001b[39;49m\u001b[43m,\u001b[49m\u001b[43m \u001b[49m\u001b[38;5;241;43m*\u001b[39;49m\u001b[38;5;241;43m*\u001b[39;49m\u001b[43mkwargs\u001b[49m\u001b[43m)\u001b[49m\n\u001b[1;32m   1131\u001b[0m \u001b[38;5;66;03m# Do not call functions when jit is used\u001b[39;00m\n\u001b[1;32m   1132\u001b[0m full_backward_hooks, non_full_backward_hooks \u001b[38;5;241m=\u001b[39m [], []\n",
      "Input \u001b[0;32mIn [2]\u001b[0m, in \u001b[0;36mGCN.forward\u001b[0;34m(self, x, edge_index, batch, drop_en, index_arr)\u001b[0m\n\u001b[1;32m    163\u001b[0m x \u001b[38;5;241m=\u001b[39m x\u001b[38;5;241m.\u001b[39mrelu()\n\u001b[1;32m    165\u001b[0m x \u001b[38;5;241m=\u001b[39m \u001b[38;5;28mself\u001b[39m\u001b[38;5;241m.\u001b[39mdrop_5(x,drop_en)\n\u001b[0;32m--> 167\u001b[0m x_5 \u001b[38;5;241m=\u001b[39m \u001b[43mglobal_mean_pool\u001b[49m\u001b[43m(\u001b[49m\u001b[43mx\u001b[49m\u001b[43m,\u001b[49m\u001b[43m \u001b[49m\u001b[43mbatch\u001b[49m\u001b[43m)\u001b[49m\n\u001b[1;32m    169\u001b[0m x \u001b[38;5;241m=\u001b[39m \u001b[38;5;28mself\u001b[39m\u001b[38;5;241m.\u001b[39mconv6(x, edge_index)\n\u001b[1;32m    170\u001b[0m x  \u001b[38;5;241m=\u001b[39m \u001b[38;5;28mself\u001b[39m\u001b[38;5;241m.\u001b[39mb6(x)\n",
      "File \u001b[0;32m~/anaconda3/envs/Wav2Lip/lib/python3.8/site-packages/torch_geometric/nn/pool/glob.py:62\u001b[0m, in \u001b[0;36mglobal_mean_pool\u001b[0;34m(x, batch, size)\u001b[0m\n\u001b[1;32m     60\u001b[0m \u001b[38;5;28;01mif\u001b[39;00m batch \u001b[38;5;129;01mis\u001b[39;00m \u001b[38;5;28;01mNone\u001b[39;00m:\n\u001b[1;32m     61\u001b[0m     \u001b[38;5;28;01mreturn\u001b[39;00m x\u001b[38;5;241m.\u001b[39mmean(dim\u001b[38;5;241m=\u001b[39mdim, keepdim\u001b[38;5;241m=\u001b[39mx\u001b[38;5;241m.\u001b[39mdim() \u001b[38;5;241m<\u001b[39m\u001b[38;5;241m=\u001b[39m \u001b[38;5;241m2\u001b[39m)\n\u001b[0;32m---> 62\u001b[0m size \u001b[38;5;241m=\u001b[39m \u001b[38;5;28mint\u001b[39m(\u001b[43mbatch\u001b[49m\u001b[38;5;241;43m.\u001b[39;49m\u001b[43mmax\u001b[49m\u001b[43m(\u001b[49m\u001b[43m)\u001b[49m\u001b[38;5;241;43m.\u001b[39;49m\u001b[43mitem\u001b[49m\u001b[43m(\u001b[49m\u001b[43m)\u001b[49m \u001b[38;5;241m+\u001b[39m \u001b[38;5;241m1\u001b[39m) \u001b[38;5;28;01mif\u001b[39;00m size \u001b[38;5;129;01mis\u001b[39;00m \u001b[38;5;28;01mNone\u001b[39;00m \u001b[38;5;28;01melse\u001b[39;00m size\n\u001b[1;32m     63\u001b[0m \u001b[38;5;28;01mreturn\u001b[39;00m scatter(x, batch, dim\u001b[38;5;241m=\u001b[39mdim, dim_size\u001b[38;5;241m=\u001b[39msize, reduce\u001b[38;5;241m=\u001b[39m\u001b[38;5;124m'\u001b[39m\u001b[38;5;124mmean\u001b[39m\u001b[38;5;124m'\u001b[39m)\n",
      "\u001b[0;31mKeyboardInterrupt\u001b[0m: "
     ]
    }
   ],
   "source": [
    "best_auc = 0\n",
    "for epoch in range(0, 1000):\n",
    "    train(epoch)\n",
    "    print(\"***************************\")\n",
    "    #print(\"train : \")\n",
    "    #train_auc = test(train_loader,epoch)\n",
    "    print(\"test : \")\n",
    "    test_auc = test(test_loader,epoch)\n",
    "    if test_auc > best_auc:\n",
    "        print(\"improve acc .. .. ..\")\n",
    "        torch.save(model.state_dict(), 'V2_Focal_without_pipline_domain_generalization_tuning_M.pth')\n",
    "        best_auc = test_auc\n",
    "        continue  "
   ]
  },
  {
   "cell_type": "code",
   "execution_count": null,
   "id": "6fb21eb2",
   "metadata": {},
   "outputs": [],
   "source": []
  }
 ],
 "metadata": {
  "kernelspec": {
   "display_name": "Python (Wav2Lip)",
   "language": "python",
   "name": "wav2lip"
  },
  "language_info": {
   "codemirror_mode": {
    "name": "ipython",
    "version": 3
   },
   "file_extension": ".py",
   "mimetype": "text/x-python",
   "name": "python",
   "nbconvert_exporter": "python",
   "pygments_lexer": "ipython3",
   "version": "3.8.13"
  }
 },
 "nbformat": 4,
 "nbformat_minor": 5
}
