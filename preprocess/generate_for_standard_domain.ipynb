{
 "cells": [
  {
   "cell_type": "code",
   "execution_count": 1,
   "id": "7e258405",
   "metadata": {},
   "outputs": [],
   "source": [
    "import os\n",
    "import glob"
   ]
  },
  {
   "cell_type": "code",
   "execution_count": 8,
   "id": "39756a18",
   "metadata": {},
   "outputs": [
    {
     "name": "stdout",
     "output_type": "stream",
     "text": [
      "22296 136334 15549 61989\n",
      "99834 136334\n"
     ]
    }
   ],
   "source": [
    "oulu_path =\"/media/hassan-hossein/B660FEE360FEA8EF/oulu/preposess/*/cropped_*.pt\"\n",
    "casia_path =\"/media/hassan-hossein/B660FEE360FEA8EF/casia-ds/preposess/*/cropped_*.pt\"\n",
    "msu_path =\"/media/hassan-hossein/B660FEE360FEA8EF/MSU_MSFD_ds/MSU_MFSD/preposess/*/cropped_*.pt\"\n",
    "replay_path = \"/media/hassan-hossein/B660FEE360FEA8EF/Replay_attack_dataset/preposess/*/cropped_*.pt\"\n",
    "\n",
    "\n",
    "\n",
    "oulu_paths = glob.glob(oulu_path)\n",
    "msu_paths = glob.glob(msu_path)\n",
    "casia_paths = glob.glob(casia_path)\n",
    "replay_paths = glob.glob(replay_path)\n",
    "\n",
    "print(len(casia_paths), len(oulu_paths), len(msu_paths), len(replay_paths))\n",
    "\n",
    "train = casia_paths +replay_paths+msu_paths\n",
    "test = oulu_paths\n",
    "print(len(train), len(test))"
   ]
  },
  {
   "cell_type": "code",
   "execution_count": 9,
   "id": "89699c44",
   "metadata": {},
   "outputs": [
    {
     "name": "stdout",
     "output_type": "stream",
     "text": [
      "Done\n"
     ]
    }
   ],
   "source": [
    "with open(\"/home/hassan-hossein/single_image_graph_face_anti_spoofing/train/graph_train_M_C_I.txt\", 'w') as fp:\n",
    "    for item in train:\n",
    "        # write each item on a new line\n",
    "        fp.write(\"%s\\n\" % item)\n",
    "    print('Done')"
   ]
  },
  {
   "cell_type": "code",
   "execution_count": null,
   "id": "26f24419",
   "metadata": {},
   "outputs": [],
   "source": [
    "9.74 1.11"
   ]
  },
  {
   "cell_type": "code",
   "execution_count": 3,
   "id": "d5ca16dd",
   "metadata": {},
   "outputs": [],
   "source": [
    "\n",
    "replay_path = \"/media/hassan-hossein/B660FEE360FEA8EF/Replay_attack_dataset/preposess/*/cropped_*.pt\"\n",
    "\n",
    "\n",
    "\n",
    "replay_paths = glob.glob(replay_path)\n",
    "\n"
   ]
  },
  {
   "cell_type": "code",
   "execution_count": 4,
   "id": "dd736214",
   "metadata": {},
   "outputs": [
    {
     "name": "stdout",
     "output_type": "stream",
     "text": [
      "Done\n"
     ]
    }
   ],
   "source": [
    "with open(\"/home/hassan-hossein/single_image_graph_face_anti_spoofing/train/graph_I.txt\", 'w') as fp:\n",
    "    for item in replay_paths:\n",
    "        # write each item on a new line\n",
    "        fp.write(\"%s\\n\" % item)\n",
    "    print('Done')"
   ]
  },
  {
   "cell_type": "code",
   "execution_count": 2,
   "id": "29c80488",
   "metadata": {},
   "outputs": [
    {
     "name": "stdout",
     "output_type": "stream",
     "text": [
      "22296 136334 15549 61989\n",
      "174179 61989\n"
     ]
    }
   ],
   "source": [
    "oulu_path =\"/media/hassan-hossein/B660FEE360FEA8EF/oulu/preposess/*/cropped_*.pt\"\n",
    "casia_path =\"/media/hassan-hossein/B660FEE360FEA8EF/casia-ds/preposess/*/cropped_*.pt\"\n",
    "msu_path =\"/media/hassan-hossein/B660FEE360FEA8EF/MSU_MSFD_ds/MSU_MFSD/preposess/*/cropped_*.pt\"\n",
    "replay_path = \"/media/hassan-hossein/B660FEE360FEA8EF/Replay_attack_dataset/preposess/*/cropped_*.pt\"\n",
    "\n",
    "\n",
    "\n",
    "oulu_paths = glob.glob(oulu_path)\n",
    "msu_paths = glob.glob(msu_path)\n",
    "casia_paths = glob.glob(casia_path)\n",
    "replay_paths = glob.glob(replay_path)\n",
    "\n",
    "print(len(casia_paths), len(oulu_paths), len(msu_paths), len(replay_paths))\n",
    "\n",
    "train = oulu_paths + msu_paths +casia_paths\n",
    "test = replay_paths\n",
    "print(len(train), len(test))"
   ]
  },
  {
   "cell_type": "code",
   "execution_count": 3,
   "id": "a36bdd79",
   "metadata": {},
   "outputs": [
    {
     "name": "stdout",
     "output_type": "stream",
     "text": [
      "Done\n"
     ]
    }
   ],
   "source": [
    "with open(\"/home/hassan-hossein/single_image_graph_face_anti_spoofing/train/graph_train_O_M_C.txt\", 'w') as fp:\n",
    "    for item in train:\n",
    "        # write each item on a new line\n",
    "        fp.write(\"%s\\n\" % item)\n",
    "    print('Done')"
   ]
  },
  {
   "cell_type": "code",
   "execution_count": 10,
   "id": "c7fda496",
   "metadata": {},
   "outputs": [
    {
     "name": "stdout",
     "output_type": "stream",
     "text": [
      "Done\n"
     ]
    }
   ],
   "source": [
    "with open(\"/home/hassan-hossein/single_image_graph_face_anti_spoofing/train/graph_test_O.txt\", 'w') as fp:\n",
    "    for item in test:\n",
    "        # write each item on a new line\n",
    "        fp.write(\"%s\\n\" % item)\n",
    "    print('Done')"
   ]
  },
  {
   "cell_type": "code",
   "execution_count": 4,
   "id": "d5501487",
   "metadata": {},
   "outputs": [
    {
     "name": "stdout",
     "output_type": "stream",
     "text": [
      "22296 136334 61989\n",
      "198323 22296\n"
     ]
    }
   ],
   "source": [
    "oulu_path =\"/media/hassan-hossein/B660FEE360FEA8EF/oulu/preposess/*/cropped_*.pt\"\n",
    "casia_path =\"/media/hassan-hossein/B660FEE360FEA8EF/casia-ds/preposess/*/cropped_*.pt\"\n",
    "replay_path = \"/media/hassan-hossein/B660FEE360FEA8EF/Replay_attack_dataset/preposess/*/cropped_*.pt\"\n",
    "\n",
    "\n",
    "\n",
    "oulu_paths = glob.glob(oulu_path)\n",
    "casia_paths = glob.glob(casia_path)\n",
    "replay_paths = glob.glob(replay_path)\n",
    "\n",
    "print(len(casia_paths), len(oulu_paths), len(replay_paths))\n",
    "\n",
    "train = oulu_paths+replay_paths\n",
    "test = casia_paths\n",
    "print(len(train), len(test))"
   ]
  },
  {
   "cell_type": "code",
   "execution_count": 5,
   "id": "edd28aef",
   "metadata": {},
   "outputs": [
    {
     "name": "stdout",
     "output_type": "stream",
     "text": [
      "Done\n"
     ]
    }
   ],
   "source": [
    "with open(\"/home/hassan-hossein/single_image_graph_face_anti_spoofing/train/graph_train_O_I.txt\", 'w') as fp:\n",
    "    for item in train:\n",
    "        # write each item on a new line\n",
    "        fp.write(\"%s\\n\" % item)\n",
    "    print('Done')"
   ]
  },
  {
   "cell_type": "code",
   "execution_count": 2,
   "id": "79835db7",
   "metadata": {},
   "outputs": [
    {
     "name": "stdout",
     "output_type": "stream",
     "text": [
      "22296 136334 15549 61989\n",
      "213872 22296\n"
     ]
    }
   ],
   "source": [
    "oulu_path =\"/media/hassan-hossein/B660FEE360FEA8EF/oulu/preposess/*/16cropped_*.pt\"\n",
    "casia_path =\"/media/hassan-hossein/B660FEE360FEA8EF/casia-ds/preposess/*/16cropped_*.pt\"\n",
    "msu_path =\"/media/hassan-hossein/B660FEE360FEA8EF/MSU_MSFD_ds/MSU_MFSD/preposess/*/16cropped_*.pt\"\n",
    "replay_path = \"/media/hassan-hossein/B660FEE360FEA8EF/Replay_attack_dataset/preposess/*/16cropped_*.pt\"\n",
    "\n",
    "\n",
    "\n",
    "oulu_paths = glob.glob(oulu_path)\n",
    "msu_paths = glob.glob(msu_path)\n",
    "casia_paths = glob.glob(casia_path)\n",
    "replay_paths = glob.glob(replay_path)\n",
    "\n",
    "print(len(casia_paths), len(oulu_paths), len(msu_paths), len(replay_paths))\n",
    "\n",
    "train = oulu_paths + msu_paths +replay_paths\n",
    "test = casia_paths\n",
    "print(len(train), len(test))"
   ]
  },
  {
   "cell_type": "code",
   "execution_count": 3,
   "id": "ee3cf504",
   "metadata": {},
   "outputs": [
    {
     "name": "stdout",
     "output_type": "stream",
     "text": [
      "Done\n"
     ]
    }
   ],
   "source": [
    "with open(\"/home/hassan-hossein/single_image_graph_face_anti_spoofing/train/16_graph_train_O_M_I.txt\", 'w') as fp:\n",
    "    for item in train:\n",
    "        # write each item on a new line\n",
    "        fp.write(\"%s\\n\" % item)\n",
    "    print('Done')"
   ]
  },
  {
   "cell_type": "code",
   "execution_count": 4,
   "id": "ffccb461",
   "metadata": {},
   "outputs": [
    {
     "name": "stdout",
     "output_type": "stream",
     "text": [
      "Done\n"
     ]
    }
   ],
   "source": [
    "with open(\"/home/hassan-hossein/single_image_graph_face_anti_spoofing/train/16_graph_test_C.txt\", 'w') as fp:\n",
    "    for item in test:\n",
    "        # write each item on a new line\n",
    "        fp.write(\"%s\\n\" % item)\n",
    "    print('Done')"
   ]
  },
  {
   "cell_type": "code",
   "execution_count": 2,
   "id": "e8c63354",
   "metadata": {},
   "outputs": [
    {
     "name": "stdout",
     "output_type": "stream",
     "text": [
      "22296 15549 61989\n",
      "77538 22296\n"
     ]
    }
   ],
   "source": [
    "casia_path =\"/media/hassan-hossein/OS/face_anti_spoofing_cross_domain/casia-ds/preposess/*/cropped_*.pt\"\n",
    "msu_path =\"/media/hassan-hossein/OS/face_anti_spoofing_cross_domain/MSU_MSFD_ds/MSU_MFSD/preposess/*/cropped_*.pt\"\n",
    "replay_path = \"/media/hassan-hossein/OS/face_anti_spoofing_cross_domain/Replay_attack_dataset/preposess/*/cropped_*.pt\"\n",
    "\n",
    "\n",
    "\n",
    "msu_paths = glob.glob(msu_path)\n",
    "casia_paths = glob.glob(casia_path)\n",
    "replay_paths = glob.glob(replay_path)\n",
    "\n",
    "print(len(casia_paths), len(msu_paths), len(replay_paths))\n",
    "\n",
    "train =replay_paths+msu_paths\n",
    "test = casia_paths\n",
    "print(len(train), len(test))"
   ]
  },
  {
   "cell_type": "code",
   "execution_count": 3,
   "id": "ff9f825d",
   "metadata": {},
   "outputs": [
    {
     "name": "stdout",
     "output_type": "stream",
     "text": [
      "Done\n"
     ]
    }
   ],
   "source": [
    "with open(\"/home/hassan-hossein/single_image_graph_face_anti_spoofing/train/graph_train_M_I_OS.txt\", 'w') as fp:\n",
    "    for item in train:\n",
    "        # write each item on a new line\n",
    "        fp.write(\"%s\\n\" % item)\n",
    "    print('Done')"
   ]
  },
  {
   "cell_type": "code",
   "execution_count": 4,
   "id": "e8ae0663",
   "metadata": {},
   "outputs": [
    {
     "name": "stdout",
     "output_type": "stream",
     "text": [
      "Done\n"
     ]
    }
   ],
   "source": [
    "with open(\"/home/hassan-hossein/single_image_graph_face_anti_spoofing/train/graph_test_C_OS.txt\", 'w') as fp:\n",
    "    for item in test:\n",
    "        # write each item on a new line\n",
    "        fp.write(\"%s\\n\" % item)\n",
    "    print('Done')"
   ]
  },
  {
   "cell_type": "code",
   "execution_count": 6,
   "id": "fac8bbf6",
   "metadata": {},
   "outputs": [
    {
     "name": "stdout",
     "output_type": "stream",
     "text": [
      "22296 136334 15549 61989\n",
      "220619 15549\n"
     ]
    }
   ],
   "source": [
    "\n",
    "casia_path =\"/media/hassan-hossein/OS/face_anti_spoofing_cross_domain/casia-ds/preposess/*/cropped_*.pt\"\n",
    "msu_path =\"/media/hassan-hossein/OS/face_anti_spoofing_cross_domain/MSU_MSFD_ds/MSU_MFSD/preposess/*/cropped_*.pt\"\n",
    "replay_path = \"/media/hassan-hossein/OS/face_anti_spoofing_cross_domain/Replay_attack_dataset/preposess/*/cropped_*.pt\"\n",
    "oulu_path =\"/media/hassan-hossein/B660FEE360FEA8EF/oulu/preposess/*/cropped_*.pt\"\n",
    "\n",
    "\n",
    "oulu_paths = glob.glob(oulu_path)\n",
    "msu_paths = glob.glob(msu_path)\n",
    "casia_paths = glob.glob(casia_path)\n",
    "replay_paths = glob.glob(replay_path)\n",
    "\n",
    "print(len(casia_paths), len(oulu_paths), len(msu_paths), len(replay_paths))\n",
    "\n",
    "train = casia_paths +replay_paths+oulu_paths\n",
    "test = msu_paths\n",
    "print(len(train), len(test))"
   ]
  },
  {
   "cell_type": "code",
   "execution_count": 7,
   "id": "65fe05b1",
   "metadata": {},
   "outputs": [
    {
     "name": "stdout",
     "output_type": "stream",
     "text": [
      "Done\n"
     ]
    }
   ],
   "source": [
    "with open(\"/home/hassan-hossein/single_image_graph_face_anti_spoofing/train/graph_train_C_I_O_OS.txt\", 'w') as fp:\n",
    "    for item in train:\n",
    "        # write each item on a new line\n",
    "        fp.write(\"%s\\n\" % item)\n",
    "    print('Done')"
   ]
  },
  {
   "cell_type": "code",
   "execution_count": 8,
   "id": "90f60d47",
   "metadata": {},
   "outputs": [
    {
     "name": "stdout",
     "output_type": "stream",
     "text": [
      "Done\n"
     ]
    }
   ],
   "source": [
    "with open(\"/home/hassan-hossein/single_image_graph_face_anti_spoofing/train/graph_test_M_OS.txt\", 'w') as fp:\n",
    "    for item in test:\n",
    "        # write each item on a new line\n",
    "        fp.write(\"%s\\n\" % item)\n",
    "    print('Done')"
   ]
  },
  {
   "cell_type": "code",
   "execution_count": 2,
   "id": "892ee85b",
   "metadata": {},
   "outputs": [
    {
     "name": "stdout",
     "output_type": "stream",
     "text": [
      "22296 136334 15549 61989\n",
      "174179 61989\n"
     ]
    }
   ],
   "source": [
    "oulu_path =\"/media/hassan-hossein/B660FEE360FEA8EF/oulu/preposess/*/cropped_*.pt\"\n",
    "casia_path =\"/media/hassan-hossein/B660FEE360FEA8EF/casia-ds/preposess/*/cropped_*.pt\"\n",
    "msu_path =\"/media/hassan-hossein/B660FEE360FEA8EF/MSU_MSFD_ds/MSU_MFSD/preposess/*/cropped_*.pt\"\n",
    "replay_path = \"/media/hassan-hossein/B660FEE360FEA8EF/Replay_attack_dataset/preposess/*/cropped_*.pt\"\n",
    "\n",
    "\n",
    "\n",
    "oulu_paths = glob.glob(oulu_path)\n",
    "msu_paths = glob.glob(msu_path)\n",
    "casia_paths = glob.glob(casia_path)\n",
    "replay_paths = glob.glob(replay_path)\n",
    "\n",
    "print(len(casia_paths), len(oulu_paths), len(msu_paths), len(replay_paths))\n",
    "\n",
    "train = casia_paths +msu_paths+oulu_paths\n",
    "test = replay_paths\n",
    "print(len(train), len(test))"
   ]
  },
  {
   "cell_type": "code",
   "execution_count": 3,
   "id": "8f0be2c4",
   "metadata": {},
   "outputs": [
    {
     "name": "stdout",
     "output_type": "stream",
     "text": [
      "Done\n"
     ]
    }
   ],
   "source": [
    "with open(\"/home/hassan-hossein/single_image_graph_face_anti_spoofing/train/graph_train_C_M_O.txt\", 'w') as fp:\n",
    "    for item in train:\n",
    "        # write each item on a new line\n",
    "        fp.write(\"%s\\n\" % item)\n",
    "    print('Done')"
   ]
  },
  {
   "cell_type": "code",
   "execution_count": 4,
   "id": "b4bca367",
   "metadata": {},
   "outputs": [
    {
     "name": "stdout",
     "output_type": "stream",
     "text": [
      "Done\n"
     ]
    }
   ],
   "source": [
    "with open(\"/home/hassan-hossein/single_image_graph_face_anti_spoofing/train/graph_test_I.txt\", 'w') as fp:\n",
    "    for item in test:\n",
    "        # write each item on a new line\n",
    "        fp.write(\"%s\\n\" % item)\n",
    "    print('Done')"
   ]
  },
  {
   "cell_type": "code",
   "execution_count": 2,
   "id": "d7f0dbe5",
   "metadata": {},
   "outputs": [
    {
     "name": "stdout",
     "output_type": "stream",
     "text": [
      "22296 15549 61989\n",
      "77538 22296\n"
     ]
    }
   ],
   "source": [
    "casia_path =\"/media/hassan-hossein/B660FEE360FEA8EF/casia-ds/preposess/*/clip*cropped_*.pt\"\n",
    "msu_path =\"/media/hassan-hossein/B660FEE360FEA8EF/MSU_MSFD_ds/MSU_MFSD/preposess/*/clip*cropped_*.pt\"\n",
    "replay_path = \"/media/hassan-hossein/B660FEE360FEA8EF/Replay_attack_dataset/preposess/*/clip*cropped_*.pt\"\n",
    "\n",
    "\n",
    "\n",
    "msu_paths = glob.glob(msu_path)\n",
    "casia_paths = glob.glob(casia_path)\n",
    "replay_paths = glob.glob(replay_path)\n",
    "\n",
    "print(len(casia_paths), len(msu_paths), len(replay_paths))\n",
    "\n",
    "train = replay_paths+msu_paths\n",
    "test = casia_paths\n",
    "print(len(train), len(test))"
   ]
  },
  {
   "cell_type": "code",
   "execution_count": 3,
   "id": "a4da3646",
   "metadata": {},
   "outputs": [
    {
     "name": "stdout",
     "output_type": "stream",
     "text": [
      "Done\n"
     ]
    }
   ],
   "source": [
    "with open(\"/home/hassan-hossein/single_image_graph_face_anti_spoofing/train/Clip_graph_train_M_I.txt\", 'w') as fp:\n",
    "    for item in train:\n",
    "        # write each item on a new line\n",
    "        fp.write(\"%s\\n\" % item)\n",
    "    print('Done')"
   ]
  },
  {
   "cell_type": "code",
   "execution_count": 4,
   "id": "fa4ec1dc",
   "metadata": {},
   "outputs": [
    {
     "name": "stdout",
     "output_type": "stream",
     "text": [
      "Done\n"
     ]
    }
   ],
   "source": [
    "with open(\"/home/hassan-hossein/single_image_graph_face_anti_spoofing/train/Clip_graph_test_C.txt\", 'w') as fp:\n",
    "    for item in test:\n",
    "        # write each item on a new line\n",
    "        fp.write(\"%s\\n\" % item)\n",
    "    print('Done')"
   ]
  },
  {
   "cell_type": "code",
   "execution_count": null,
   "id": "bb85c783",
   "metadata": {},
   "outputs": [],
   "source": []
  }
 ],
 "metadata": {
  "kernelspec": {
   "display_name": "Python (Wav2Lip)",
   "language": "python",
   "name": "wav2lip"
  },
  "language_info": {
   "codemirror_mode": {
    "name": "ipython",
    "version": 3
   },
   "file_extension": ".py",
   "mimetype": "text/x-python",
   "name": "python",
   "nbconvert_exporter": "python",
   "pygments_lexer": "ipython3",
   "version": "3.8.13"
  }
 },
 "nbformat": 4,
 "nbformat_minor": 5
}
