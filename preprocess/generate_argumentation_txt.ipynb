{
 "cells": [
  {
   "cell_type": "code",
   "execution_count": 1,
   "id": "d46840da",
   "metadata": {},
   "outputs": [],
   "source": [
    "import glob"
   ]
  },
  {
   "cell_type": "code",
   "execution_count": 2,
   "id": "976b1762",
   "metadata": {},
   "outputs": [
    {
     "name": "stdout",
     "output_type": "stream",
     "text": [
      "22296 681669 62196\n",
      "743865 22296\n"
     ]
    }
   ],
   "source": [
    "oulu_path =\"/media/hassan-hossein/B660FEE360FEA8EF/oulu/preposess/*/*_cropped_*.pt\"\n",
    "casia_path =\"/media/hassan-hossein/B660FEE360FEA8EF/casia-ds/preposess/*/cropped_*.pt\"\n",
    "msu_path =\"/media/hassan-hossein/B660FEE360FEA8EF/MSU_MSFD_ds/MSU_MFSD/preposess/*/*_cropped_*.pt\"\n",
    "\n",
    "oulu_paths = glob.glob(oulu_path)\n",
    "msu_paths = glob.glob(msu_path)\n",
    "casia_paths = glob.glob(casia_path)\n",
    "\n",
    "print(len(casia_paths), len(oulu_paths), len(msu_paths))\n",
    "\n",
    "train = oulu_paths + msu_paths \n",
    "test = casia_paths\n",
    "print(len(train), len(test))"
   ]
  },
  {
   "cell_type": "code",
   "execution_count": 3,
   "id": "41159d67",
   "metadata": {},
   "outputs": [
    {
     "name": "stdout",
     "output_type": "stream",
     "text": [
      "Done\n"
     ]
    }
   ],
   "source": [
    "with open(\"/home/hassan-hossein/single_image_graph_face_anti_spoofing/train/graph_arg_train_O_M.txt\", 'w') as fp:\n",
    "    for item in train:\n",
    "        # write each item on a new line\n",
    "        fp.write(\"%s\\n\" % item)\n",
    "    print('Done')"
   ]
  },
  {
   "cell_type": "code",
   "execution_count": 4,
   "id": "42480c4c",
   "metadata": {},
   "outputs": [
    {
     "name": "stdout",
     "output_type": "stream",
     "text": [
      "Done\n"
     ]
    }
   ],
   "source": [
    "with open(\"/home/hassan-hossein/single_image_graph_face_anti_spoofing/train/graph_arg_test_C.txt\", 'w') as fp:\n",
    "    for item in test:\n",
    "        # write each item on a new line\n",
    "        fp.write(\"%s\\n\" % item)\n",
    "    print('Done')"
   ]
  },
  {
   "cell_type": "code",
   "execution_count": null,
   "id": "28ee1a87",
   "metadata": {},
   "outputs": [],
   "source": []
  }
 ],
 "metadata": {
  "kernelspec": {
   "display_name": "Python (Wav2Lip)",
   "language": "python",
   "name": "wav2lip"
  },
  "language_info": {
   "codemirror_mode": {
    "name": "ipython",
    "version": 3
   },
   "file_extension": ".py",
   "mimetype": "text/x-python",
   "name": "python",
   "nbconvert_exporter": "python",
   "pygments_lexer": "ipython3",
   "version": "3.8.13"
  }
 },
 "nbformat": 4,
 "nbformat_minor": 5
}
